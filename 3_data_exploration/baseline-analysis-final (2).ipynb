{
 "cells": [
  {
   "cell_type": "markdown",
   "metadata": {},
   "source": [
    "# Baseline App Analysis: Calm User Reviews\n",
    "\n",
    "**Milestone 3: Data Analysis (Part 2)**\n",
    "\n",
    "This notebook serves as the \"control group\" for our main analysis. We will perform the exact same topic modeling pipeline on the user reviews for **Calm**, a popular but non-conversational wellness app.\n",
    "\n",
    "**Objective:**\n",
    "By identifying the primary complaint themes for a baseline app, we can compare them to our conversational app findings. This will allow us to isolate the failure modes that are **unique to conversational AI**."
   ]
  },
  {
   "cell_type": "markdown",
   "metadata": {},
   "source": [
    " 🧼 Import all necessary libraries UNCOMMENT AND RUN IT\n",
    " 📦 Install all required packages quietly\n",
    " !pip install bertopic[visualization] --quiet\n",
    " !pip install hdbscan --quiet\n",
    " !pip install umap-learn --quiet"
   ]
  },
  {
   "cell_type": "code",
   "execution_count": 1,
   "metadata": {
    "trusted": true
   },
   "outputs": [
    {
     "name": "stdout",
     "output_type": "stream",
     "text": [
      "✅ Setup complete. All libraries are ready.\n"
     ]
    }
   ],
   "source": [
    "import warnings\n",
    "import os\n",
    "import pandas as pd\n",
    "from bertopic import BERTopic\n",
    "from umap import UMAP\n",
    "from hdbscan import HDBSCAN\n",
    "from sklearn.feature_extraction.text import CountVectorizer\n",
    "from transformers import AutoTokenizer, AutoModelForSequenceClassification\n",
    "import torch\n",
    "from torch.utils.data import DataLoader, TensorDataset\n",
    "from tqdm.auto import tqdm\n",
    "import plotly.express as px\n",
    "from IPython.display import display\n",
    "\n",
    "warnings.filterwarnings(\"ignore\")\n",
    "print(\"✅ Setup complete. All libraries are ready.\")"
   ]
  },
  {
   "cell_type": "code",
   "execution_count": 3,
   "metadata": {
    "execution": {
     "iopub.execute_input": "2025-07-22T11:36:35.382258Z",
     "iopub.status.busy": "2025-07-22T11:36:35.381462Z",
     "iopub.status.idle": "2025-07-22T11:36:35.522040Z",
     "shell.execute_reply": "2025-07-22T11:36:35.521211Z",
     "shell.execute_reply.started": "2025-07-22T11:36:35.382234Z"
    },
    "trusted": true
   },
   "outputs": [
    {
     "name": "stdout",
     "output_type": "stream",
     "text": [
      "Repo root detected at: c:\\Users\\azizt\\OneDrive\\Desktop\\ET6-CDSP-group-20-repo\n",
      "Successfully loaded and cleaned 8506 documents for modeling.\n"
     ]
    }
   ],
   "source": [
    "# Build the full path to the CSV\n",
    "cwd = os.getcwd()\n",
    "while not os.path.exists(os.path.join(cwd, \"1_datasets\")):\n",
    "    parent = os.path.dirname(cwd)\n",
    "    if parent == cwd:\n",
    "        raise FileNotFoundError(\"Could not find repo root containing '1_datasets'.\")\n",
    "    cwd = parent\n",
    "\n",
    "REPO_ROOT = cwd\n",
    "print(f\"Repo root detected at: {REPO_ROOT}\")\n",
    "\n",
    "# --- BUILD PATH TO BASELINE CSV ---\n",
    "DATA_PATH = os.path.join(\n",
    "    REPO_ROOT, \"1_datasets\", \"all_datasets\", \"baseline_app_dataset.csv\"\n",
    ")\n",
    "\n",
    "# --- LOAD CSV ---\n",
    "df_base = pd.read_csv(DATA_PATH)\n",
    "\n",
    "# --- CLEAN DATA ---\n",
    "df_base.dropna(subset=[\"review_text\"], inplace=True)\n",
    "df_base[\"review_text\"] = df_base[\"review_text\"].astype(str).str.lower().str.strip()\n",
    "df_base = df_base[df_base[\"review_text\"].str.len() > 15]\n",
    "\n",
    "# --- CONVERT TO LIST OF DOCUMENTS ---\n",
    "docs_base = df_base[\"review_text\"].tolist()\n",
    "print(f\"Successfully loaded and cleaned {len(docs_base)} documents for modeling.\")"
   ]
  },
  {
   "cell_type": "code",
   "execution_count": 4,
   "metadata": {
    "execution": {
     "iopub.execute_input": "2025-07-22T11:36:39.010840Z",
     "iopub.status.busy": "2025-07-22T11:36:39.010563Z",
     "iopub.status.idle": "2025-07-22T11:36:39.019321Z",
     "shell.execute_reply": "2025-07-22T11:36:39.018655Z",
     "shell.execute_reply.started": "2025-07-22T11:36:39.010821Z"
    },
    "trusted": true
   },
   "outputs": [
    {
     "name": "stdout",
     "output_type": "stream",
     "text": [
      "Configuring a reproducible BERTopic model...\n",
      "BERTopic model is configured and ready for training.\n"
     ]
    }
   ],
   "source": [
    "# --- Step 3: Configure the Topic Model ---\n",
    "print(\"Configuring a reproducible BERTopic model...\")\n",
    "\n",
    "# A. Define a Stopword List (Identical to the first analysis)\n",
    "stop_words = [\n",
    "    \"app\",\n",
    "    \"replika\",\n",
    "    \"wysa\",\n",
    "    \"woebot\",\n",
    "    \"calm\",\n",
    "    \"bot\",\n",
    "    \"ai\",\n",
    "    \"like\",\n",
    "    \"feel\",\n",
    "    \"good\",\n",
    "    \"great\",\n",
    "    \"nice\",\n",
    "    \"love\",\n",
    "    \"best\",\n",
    "    \"amazing\",\n",
    "    \"awesome\",\n",
    "    \"fun\",\n",
    "    \"ok\",\n",
    "    \"cool\",\n",
    "    \"me\",\n",
    "    \"it\",\n",
    "    \"and\",\n",
    "    \"to\",\n",
    "    \"the\",\n",
    "    \"my\",\n",
    "    \"is\",\n",
    "    \"of\",\n",
    "    \"with\",\n",
    "    \"that\",\n",
    "    \"for\",\n",
    "    \"you\",\n",
    "    \"but\",\n",
    "    \"so\",\n",
    "    \"on\",\n",
    "    \"was\",\n",
    "    \"this\",\n",
    "    \"have\",\n",
    "    \"in\",\n",
    "    \"be\",\n",
    "    \"as\",\n",
    "    \"at\",\n",
    "    \"not\",\n",
    "    \"just\",\n",
    "    \"are\",\n",
    "    \"get\",\n",
    "    \"want\",\n",
    "    \"use\",\n",
    "    \"go\",\n",
    "    \"know\",\n",
    "    \"say\",\n",
    "    \"see\",\n",
    "    \"think\",\n",
    "    \"really\",\n",
    "    \"even\",\n",
    "    \"also\",\n",
    "]\n",
    "\n",
    "# B. Define Deterministic Components (Identical)\n",
    "random_seed = 42\n",
    "umap_model = UMAP(\n",
    "    n_neighbors=15,\n",
    "    n_components=5,\n",
    "    min_dist=0.0,\n",
    "    metric=\"cosine\",\n",
    "    random_state=random_seed,\n",
    ")\n",
    "hdbscan_model = HDBSCAN(\n",
    "    min_cluster_size=30,\n",
    "    metric=\"euclidean\",\n",
    "    cluster_selection_method=\"eom\",\n",
    "    prediction_data=True,\n",
    ")  # min_cluster_size can be smaller for smaller dataset\n",
    "vectorizer_model = CountVectorizer(stop_words=stop_words, ngram_range=(1, 2))\n",
    "\n",
    "# C. Initialize the final BERTopic model (Identical)\n",
    "topic_model_base = BERTopic(\n",
    "    language=\"multilingual\",\n",
    "    umap_model=umap_model,\n",
    "    hdbscan_model=hdbscan_model,\n",
    "    vectorizer_model=vectorizer_model,\n",
    "    min_topic_size=30,  # Adjusted for a potentially smaller dataset\n",
    "    verbose=True,\n",
    ")\n",
    "\n",
    "print(\"BERTopic model is configured and ready for training.\")"
   ]
  },
  {
   "cell_type": "code",
   "execution_count": 6,
   "metadata": {
    "execution": {
     "iopub.execute_input": "2025-07-21T09:19:08.770332Z",
     "iopub.status.busy": "2025-07-21T09:19:08.770035Z",
     "iopub.status.idle": "2025-07-21T09:20:09.227746Z",
     "shell.execute_reply": "2025-07-21T09:20:09.227029Z",
     "shell.execute_reply.started": "2025-07-21T09:19:08.770314Z"
    },
    "trusted": true
   },
   "outputs": [
    {
     "name": "stderr",
     "output_type": "stream",
     "text": [
      "2025-08-23 21:35:27,785 - BERTopic - Embedding - Transforming documents to embeddings.\n"
     ]
    },
    {
     "name": "stdout",
     "output_type": "stream",
     "text": [
      "Training BERTopic on 8506 basline documents. This will take a few minutes...\n"
     ]
    },
    {
     "data": {
      "application/vnd.jupyter.widget-view+json": {
       "model_id": "02180a997a1c4a5e97fe0ef1b90bfb27",
       "version_major": 2,
       "version_minor": 0
      },
      "text/plain": [
       "Batches:   0%|          | 0/266 [00:00<?, ?it/s]"
      ]
     },
     "metadata": {},
     "output_type": "display_data"
    },
    {
     "name": "stderr",
     "output_type": "stream",
     "text": [
      "2025-08-23 21:36:50,165 - BERTopic - Embedding - Completed ✓\n",
      "2025-08-23 21:36:50,166 - BERTopic - Dimensionality - Fitting the dimensionality reduction algorithm\n",
      "2025-08-23 21:37:17,863 - BERTopic - Dimensionality - Completed ✓\n",
      "2025-08-23 21:37:17,865 - BERTopic - Cluster - Start clustering the reduced embeddings\n",
      "2025-08-23 21:37:18,119 - BERTopic - Cluster - Completed ✓\n",
      "2025-08-23 21:37:18,122 - BERTopic - Representation - Fine-tuning topics using representation models.\n",
      "2025-08-23 21:37:18,591 - BERTopic - Representation - Completed ✓\n"
     ]
    },
    {
     "name": "stdout",
     "output_type": "stream",
     "text": [
      "n\\ Baseline model trainig complete\n"
     ]
    }
   ],
   "source": [
    "print(\n",
    "    f\"Training BERTopic on {len(docs_base)} basline documents. This will take a few minutes...\"\n",
    ")\n",
    "\n",
    "topics_base, probs_base = topic_model_base.fit_transform(docs_base)\n",
    "\n",
    "print(\"n\\ Baseline model trainig complete\")"
   ]
  },
  {
   "cell_type": "code",
   "execution_count": 7,
   "metadata": {
    "execution": {
     "iopub.execute_input": "2025-07-21T09:20:09.228816Z",
     "iopub.status.busy": "2025-07-21T09:20:09.228540Z",
     "iopub.status.idle": "2025-07-21T09:20:09.273776Z",
     "shell.execute_reply": "2025-07-21T09:20:09.272927Z",
     "shell.execute_reply.started": "2025-07-21T09:20:09.228796Z"
    },
    "trusted": true
   },
   "outputs": [
    {
     "name": "stdout",
     "output_type": "stream",
     "text": [
      "Displaying the baseline topic overview...\n"
     ]
    },
    {
     "data": {
      "application/vnd.microsoft.datawrangler.viewer.v0+json": {
       "columns": [
        {
         "name": "index",
         "rawType": "int64",
         "type": "integer"
        },
        {
         "name": "Topic",
         "rawType": "int64",
         "type": "integer"
        },
        {
         "name": "Count",
         "rawType": "int64",
         "type": "integer"
        },
        {
         "name": "Name",
         "rawType": "object",
         "type": "string"
        },
        {
         "name": "Representation",
         "rawType": "object",
         "type": "unknown"
        },
        {
         "name": "Representative_Docs",
         "rawType": "object",
         "type": "unknown"
        }
       ],
       "ref": "541f7a5c-4f31-431c-b617-61fe21f83906",
       "rows": [
        [
         "0",
         "-1",
         "2379",
         "-1_sleep_can_free_pay",
         "['sleep', 'can', 'free', 'pay', 'they', 'subscription', 'no', 'don', 'there', 'now']",
         "[\"for the content, it's pretty great i must say, i love the meditation and sleep stories but unfortunately this app completely runs on premium . it only provides you 2 or 3 free sleep stories to listen( trust me ,i'm being really honest). i was disappointed because when i tried it , it showed free sleep stories and only some were locked but after i installed it there was nothing free at all. so i'm uninstalling this app. hope you can provide some free content as well for the data it consumes.\", \"when i first saw the app i was excited to try it out. but after downloading there's really nothing you can do if you don't get the premium, which is $70 a year i can't afford. this app is supposed to be calming but it made me really upset that i could only listen to a 10 to 15-minute introduction and couldn't listen to the rest of a podcast. they're so little that you can actually listen to. after about 20 minutes of browsing i found there was no point in keeping the app without the premium\", 'this is so bad i hate that there is only 5 free stories. please update or i uninstall this is so bad so please add more free stuff rather than paying £90 a year for because some people don’t have enough money and have conditions like insomnia so please add more free things in and not just keep adding more ‘premium’ stuff.\\n\\nimagine you were an insomniac and you had a whole mountain of student \\nloans money to pay off and you couldn’t sleep at all so you get your phone out and you go on the app store and search for ‘free sleep apps’ and the first one is ‘calm’ which is apparently ‘free’ so you download it and plan to have a story read to you by david walliams but you notice the small padlock in the corner of the story and you still went ahead and clicked on it and it said that you need a free trial and a subscription uh no. hello?? who do you think i am?? made of money?? and especially during the hard times here in the uk 🇬🇧 with all the prices rising and people on the absolute brink of living in poverty.\\n\\nso please add in more free stuff as i am an insomniac and i have to rely on this 20-odd year old cd 💿 which is getting really annoying \\n\\nlong story short update the app\\n\\nthanks\\n\\nps: i would fire the devs']"
        ],
        [
         "1",
         "0",
         "1691",
         "0_free_pay_if_can",
         "['free', 'pay', 'if', 'can', 'content', 'everything', 'there', 'premium', 'they', 'don']",
         "[\"it's ok but as a free user you have nothing to do. you see bunch of stories, music.. but non will play you're either premium or don't bother to download. very limited for free users and annoying ti see too many locked content. you download the app to view the ui not to use and experience the app 😂 just look at it but can't do anything click something ooop buy our premium lol no thanks that's annoying %90 of everything in the app is for premium users if you're free ur trash can't do nothing\", 'pay for the app.... 👎👎👎', \"it was a great app in the past but now that everything is behind a pay wall and you can do basically nothing in the free version i think that they don't even need to have a free version and just make it a paid app.\"]"
        ],
        [
         "2",
         "1",
         "679",
         "1_trial_free trial_free_day",
         "['trial', 'free trial', 'free', 'day', 'day free', 'charged', 'cancel', 'day trial', 'they', 'up']",
         "['want to cancel 7 day trial', \"7 day trial so it's not free\", 'so hard to cancel free trial']"
        ],
        [
         "3",
         "2",
         "488",
         "2_meditation_meditations_find_more",
         "['meditation', 'meditations', 'find', 'more', 'or', 'there', 'guided', 'would', 'can', 'meditate']",
         "[\"i've had a subscription for this app for 2 years. my initial thoughts were that tamara's voice was too jarring/annoying to get into a meditative practice so i have only been using it sparingly over the years when using the calming sounds. recently i started listening to the daily jay which has been good since i also follow his podcast but overall wish there was a guided meditation by someone other than tamara to get more out of this. looking at reviews i'm not the only one that feels this way.\", 'i’m struggling to use this app be other meditation apps i’ve used as i find tamara levitt’s voice incredibly annoying. i’m sure meditation teachers would tell me to use her annoying voice as a focus of my meditation, but i’d rather just have a refund.', 'i started meditating nearly 10 years ago and i remember using the free guided meditations available on this app. at the time this was great support as i had no idea how to meditate or what it was about. i did not need to sign up to a paid subscription as the few free samples, combined with the headspace free recordings, and some other free youtube videos of jon kabat, were enough to get my practice started.\\nsince then, i have been to in person courses through the years, such as an 8 weeks mindfulness based on cognitive therapy, self compassion mediation workshop and a silent retreat in the buddhist centre gaia house in devon (which i highly recommend). \\ni signed up to the calm paid subscription in november so to make sure that i would keep up with daily meditation by using all the different guided meditation series such as ‘relationship with self or others’, ‘managing emotions / habits / difficulties at work’. the app has a lot of fancy pictures and sounds option, yet the function to save or create your own meditations list is very poor. the quantity over quality seems to have been prioritised. in fact all series start from scratch with basic concepts such as focus on breathing with no other development tools after a while, which are no use for someone who wants to progress with deeper meditation skills. \\nthere is also far too much talking in most of them, for instance you are given an instruction to observe your body sensations whilst recalling a certain situation but you have no time at all to explore it as a few seconds later the narrator speaks again with new information / instructions. when the app asks for feedback it does not collect why you did not like a certain recording (so how can the algorithm know that it was not the topic but the too much talking that did not work for you for instance?!). i hope someone from calm will read this feedback and integrate it in future recordings as i could not find anywhere where they collected honest detailed feedback from users, which in itself is not a good sign. i will not renew, as the bell timed silent meditations are accessible for free and the quality of the guided ones under the paid subscription is not good enough, i suggest you stay away too if not new to meditation. i will try sam harris app next (waking up), as he is a neuroscientist, so hoping to get more out of it.']"
        ],
        [
         "4",
         "3",
         "402",
         "3_subscription_cancel_account_email",
         "['subscription', 'cancel', 'account', 'email', 'they', 'no', 'charged', 'refund', 'from', 'will']",
         "[\"i subscribed to the calm app with high hopes, paying $24.99 for a year. unfortunately, the subscription never activated despite the payment being successfully processed from my account. it's been 7 days, and i have yet to receive any response from calm's support team. \\n\\ni reached out to my bank, which confirmed that the payment went through to the merchant, calm. this situation has been incredibly frustrating, as i was looking forward to using the app to help manage stress and anxiety, only to find myself feeling more stressed due to the lack of customer support.\\n\\ni’ve sent multiple emails over the past week, hoping for a resolution, but have received no replies. bohdan from the support team mentioned they would get in touch, but that has yet to happen.\\n\\ni am very disappointed and hope this review gets their attention. i simply want the service i paid for or, at the very least, some communication from the support team. this experience has been quite disheartening.\", 'i used to love this app and i recommended it to so many people. but now i am changing my rating. this app is a scam. even with a subscription, i was never able to download and listen to anything offline. i have been trying for 2 weeks to cancel my subscription, but they wont let me do it. the \"cancel subscription\" button doesn\\'t work in the app or online account. don\\'t pay for this app! they will not let you remove your card or subscription from your calm account and keep stealing your money!', 'so i download this app because it was highly recommended by a therapist.  i originally bought a single month to month membership and then seen that there’s a family plan option that you can only sign up for on the website.  so i cancelled my app membership and spent $99 for the family plan. i sent the given link to a family member and it didn’t work.  i tried to contact customer service but i received and automated response saying they would get back to me in 2-3 days.  it’s day 3, and i all i got was an email saying they’re still working on the problem. now i don’t want any help and just want a refund.  tried to get a refund and the website said my email wasn’t connected with any accounts.  so i once again messaged support and got the same b.s. message that it will be 2-3 for a response. what a joke!! for an app that supposed to help with anxiety, it sure did spike it!!  stay away and find an app with better customer support!!!']"
        ],
        [
         "5",
         "4",
         "239",
         "4_listen_sounds_sound_music",
         "['listen', 'sounds', 'sound', 'music', 'free', 'pay', 'can', 'listen anything', 'can listen', 'rain']",
         "[\"if you don't pay for premium you can't listen to anything\", 'have to pay to listen to anything.', \"can't listen to anything\"]"
        ],
        [
         "6",
         "5",
         "219",
         "5_subscription_subscribe_without_monthly subscription",
         "['subscription', 'subscribe', 'without', 'monthly subscription', 'monthly', 'free', 'pay', 'premium', 'content', 'can']",
         "['requires a subscription', \"can't do anything unless you pay for the subscription\", 'you have to have a subscription']"
        ],
        [
         "7",
         "6",
         "173",
         "6_sounds_noise_sound_soundscapes",
         "['sounds', 'noise', 'sound', 'soundscapes', 'white', 'audio', 'free', 'white noise', 'all', 'play']",
         "['been a user for many year, but the app is getting heavier than heavier. the worst issue is that it can’t play the audio now. i thought it may due to my internet connection, but then when i click downloading the audio, the download speed is pretty fast. and even after i have completed the download, the audio still won’t play. sometimes it pauses for no reason in the middle of a session like it’s still buffering or something, while i am at home with very liable internet. i don’t know what is wrong with this app. i stream spotify, audible, even audiobooks from libby/overdrive of local libraries on the go anywhere, all of them play fluently. as a software developer i think there’s something wrong with the way the app fetch audio files, or maybe just probably cheap on cloud servers.', \"buggy, keeps stopping soundtracks, particularly sleep soundtracks, and every time i wake up the white noise is not playing or somehow a different one is playing. i use the white noise to help drown out other things, so now i'm waking up to these other noises realizing my app stopped playing. used to work well but not so much now\", 'i was a paying subscriber and i found that the app just didnt work well for me. i have trouble sleeping in silence and thought the white noise (rain, ocean) would keep playing.. i wanted it to either keep playing, or play something after, but it just wouldnt. silence was what kept me awake, so when all the white noise stopped, i couldnt sleep, and thus the app didnt work for me. there is no option to have something keep playing. i found youtube, with a premium account, on repeat worked for me.']"
        ],
        [
         "8",
         "7",
         "146",
         "7_free_free free_nothing free_nothing",
         "['free', 'free free', 'nothing free', 'nothing', 'free nothing', 'free thought', 'thought', 'thought free', 'said free', 'should free']",
         "[\"it's not really free\", 'this is not free', 'this is not free!!!']"
        ],
        [
         "9",
         "8",
         "133",
         "8_cancel_cancel subscription_subscription_impossible",
         "['cancel', 'cancel subscription', 'subscription', 'impossible', 'impossible cancel', 'trying cancel', 'can cancel', 'trying', 'your subscription', 'cancel your']",
         "['impossible to cancel the subscription 😕', 'impossible to cancel a subscription.', 'cancel subscription']"
        ],
        [
         "10",
         "9",
         "123",
         "9_expensive_too_too expensive_much",
         "['expensive', 'too', 'too expensive', 'much', 'worth', 'too much', 'money', 'cost', 'way too', 'much money']",
         "['way too expensive', 'too expensive....', \"it's too expensive\"]"
        ],
        [
         "11",
         "10",
         "121",
         "10_ads_false_advertising_free",
         "['ads', 'false', 'advertising', 'free', 'advertisement', 'false advertising', 'false advertisement', 'advertised', 'tv', 'ad']",
         "['not free! false advertising😡', 'false advertising.', 'false advertising']"
        ],
        [
         "12",
         "11",
         "117",
         "11_refund_charged_subscription_they",
         "['refund', 'charged', 'subscription', 'they', 'year', 'cancelled', 'money', 'money back', 'card', 'back']",
         "[\"i had cancelled my yearly subscription in 2023 and they still charged me this year for another year!! they would've kept charging me yearly if i hadn't removed my visa information now they will not refund me even after i showed my proof of cancellation.\", 'they gave me free trial and automatically deducted 50$ from my account.i asked for a refund but they cancelled the subscription but no refund.kept saying refund denied.', 'i want a refund.']"
        ],
        [
         "13",
         "12",
         "117",
         "12_youtube_youtube free_free_videos",
         "['youtube', 'youtube free', 'free', 'videos', 'can', 'stuff', 'pay', 'free youtube', 'better', 'when can']",
         "['not worth $70/year when i can find the same things in youtube for free', 'why pay for it when you can get the same thing on youtube for free', 'why would i pay when i can get it free on youtube']"
        ],
        [
         "14",
         "13",
         "116",
         "13_pay_pay everything_everything_everything pay",
         "['pay', 'pay everything', 'everything', 'everything pay', 'pay pay', 'need pay', 'pay anything', 'need', 'buy', 'gotta pay']",
         "['have to pay for everything', 'you have to pay for everything!!!!!!', 'you have to pay for everything']"
        ],
        [
         "15",
         "14",
         "107",
         "14_sleep_stories_story_sleep stories",
         "['sleep', 'stories', 'story', 'sleep stories', 'sleep story', 'kids', 'night', 'asleep', 'when', 'fall asleep']",
         "['i have had this app since i had my first baby (who is now 4.5). it’s been great. i’ve used it with the sonos for white noise and bedtime stories for the kids - they love the minions ones! however, recently the sonos integration stopped working which means you can only airplay which is not as good. also they’ve stopped doing the classic tale sleep stories (by famous authors) and instead have a lot of their own stories which - while dull enough to kill one to sleep when tired, just aren’t quality enough to capture the imagination in a way that helps the story work its magic and fall asleep. i will probably cancel my subscription soon as i’m only using it for one bedtime story and the white noise!', \"i wanted to access the sleep stories but they've made the app really convoluted and it's hard to find the thing you're looking for i could not find a sleep stories i wish they went back to their easy to find sleep story format that they started with\", 'great stories. i wish there weren\\'t so many clicks to get to \"sleep stories for kids.\" i also wish there was a way to choose a story to autoplay next without interacting with the app. we like to listen to \"sleep like a baby\" after a kids sleep story and i always have to come back and choose it.']"
        ],
        [
         "16",
         "15",
         "100",
         "15_cancel_impossible_impossible cancel_trying",
         "['cancel', 'impossible', 'impossible cancel', 'trying', 'hard cancel', 'can cancel', 'trying cancel', 'hard', 'do', 'renewal']",
         "['nightmare in trying to cancel my automatic renewal won’t let me cancel', 'hard to cancel, how do i cancel?', 'i want to cancel']"
        ],
        [
         "17",
         "16",
         "99",
         "16_sleep_pay_free_help",
         "['sleep', 'pay', 'free', 'help', 'everything', 'asleep', 'one', 'your', 'fall asleep', 'make']",
         "['everything cost money!!! one night i could not fall asleep then, bam!, i remembered this ad. \"what was it called again?\" \"oh yeah, calm that was it. it said that it would help you not feel stressed or help you fall asleep. i got it immediately. then it said i needed to pay for everything then i said no. i bet it would be great. but not great that you have to pay so much money. oof! if you have way too much money and need to fall asleep i guess i recommend this but i don\\'t. creators make it free!', \"i fall asleep at 1:?? am and i got this tj help me sleep but i need to pay i'm going to lose my brain seriously at least make 5 free five sleep things that should help me sleep i don't recommend this app if you have no money and want help with sleep cause this app is no help\", \"i saw this app late at night and thought it would be helpful for some sleep. so i downloaded it and i looked into it and you literally have to pay for almost everything. i understand they are trying to make a profit but like geez, that doesn't mean you make everything come with the premium version. i can't even fall asleep without having to pay monthly subscription for some measly sleep stories. do better and don't make people pay for their mental health to get better.\"]"
        ],
        [
         "18",
         "17",
         "93",
         "17_locked_everything locked_everything_locked everything",
         "['locked', 'everything locked', 'everything', 'locked everything', 'locked unless', 'unless pay', 'unless', 'premium', 'pay', 'unlock']",
         "['everything was locked', 'everything is locked', 'everything is just locked.']"
        ],
        [
         "19",
         "18",
         "86",
         "18_download_version_free version_free",
         "['download', 'version', 'free version', 'free', 'downloading', 'don', 'free download', 'unless', 'pay', 'download free']",
         "[\"if you don't want to spend $70 don't even bother downloading it 😂 everything is locked. no free version.\", 'nothing on the free version', 'no free version.']"
        ],
        [
         "20",
         "19",
         "76",
         "19_paywall_behind paywall_behind_everything",
         "['paywall', 'behind paywall', 'behind', 'everything', 'locked behind', 'everything behind', 'paywall everything', 'locked', 'everything locked', 'paywalls']",
         "['everything is locked behind paywall', 'everything is locked behind paywall.', 'everything is locked behind a paywall']"
        ],
        [
         "21",
         "20",
         "73",
         "20_uninstalled_uninstall_immediately_uninstalled immediately",
         "['uninstalled', 'uninstall', 'immediately', 'uninstalled immediately', 'out', 'no', 'version', 'downloaded', 'installed', 'after']",
         "['absolutely nothing is free. uninstalled immediately after downloading.', 'uninstalled immediately. nothing is for \"free\".', 'i uninstalled it']"
        ],
        [
         "22",
         "21",
         "64",
         "21_sleep_pay_pay sleep_help",
         "['sleep', 'pay', 'pay sleep', 'help', 'stories', 'help sleep', 'or', 'sleeping', 'insomnia', 'sleep stories']",
         "[\"of course the number one stress in my life is ever having enough for this or that or just to have a bed to try and sleep in. what's the first thing you need to do is try it for free and then another bill every month to try to stay calm and not worry and stress over bills and sleep and yada yada yada\", \"everything is behind a pay wall. would be nice to have one or two sleep stories or simple sounds like rain for free instead of having a seven day trial which at the end charges you $70. as someone who doesn't need sleep aides every day, it doesn't make sense for me to pay for a whole year.\", 'i have to pay to sleep']"
        ],
        [
         "23",
         "22",
         "58",
         "22_calming_down_more_life",
         "['calming', 'down', 'more', 'life', 'through', 'am', 'over', 'would', 'too', 'questions']",
         "['not gonna lie i used it for a second to just watch something calming and i had to make a account and it didnt even help seeing things that must of taken forever to set up nearly destroyed over and over gives more stress then calm feelings like oh damn its gonna break oh thank god it didnt oh damn its gonna break', 'to sit still, to be still, to not have to, to not require, more so, to allow, opens my being to be subtle * life on earth taxes & tries me daily * i get caught up in the web of comparison & doubt * i remind myself to close my eyes, wherever, whenever, & breathe through my nose consciously * i remind myself that life is impersonal & that i am learning as i go, & that by living from the inside out, i will deepen in my trust of all that is * mahalo ke akua mahalo * grateful for my breath & being *', '…….. is fantastic! his daily sessions have helped me and continue to help me live my life through myself and not always stressing about my family and having to please everyone. and more importantly, taking time to be calm and not react immediately……i rush through my life dashing here and there, and now after many months listening to jeff, i can see i don’t need to please everyone and it ok to be me. \\n    the main message is to live in the moment and not overthink others possible reactions. deal with each each family crisis as it comes along, slowly, with care and listening calmly and then move forward. \\nthank you , jeff. you are greatly appreciated. georgina']"
        ],
        [
         "24",
         "23",
         "58",
         "23_free_pay_nothing free_nothing",
         "['free', 'pay', 'nothing free', 'nothing', 'everything there', 'why', 'money', 'something', 'everything', 'payant']",
         "[\"i have to pay for everything there's like nothing for free it's so annoying\", \"literally nothing is free. why do i have to pay almost 100 dollars just to be calmer?! make something you don't have to pay for, and maybe i will give you a better review.\", \"you cant actually do anything on here without paying. i'm trying to fall asleep and it's like sorry no we need money for that. there isn't a single free option. if y'all dont have the decency to have even one free option whatever but at least let people know before they waste their time.\"]"
        ],
        [
         "25",
         "24",
         "53",
         "24_scam_they_your_your money",
         "['scam', 'they', 'your', 'your money', 'financial', 'info', 'information', 'parties', 'scammers', 'money']",
         "[\"don't waste your money. scam. impossible to cancel.\", 'they want your search history, + coordinates + id + buying history and more. you do not need all that except to sell our data. so…. i’ll never encourage your company.', \"why do you want to share my data with third parties? i think it's not fair and you should be able to opt out this options especially if you want to attract premium users. so basically despite paying, your data is still sold out.. . noooo thanks!\"]"
        ],
        [
         "26",
         "25",
         "52",
         "25_pay_unless pay_unless_do anything",
         "['pay', 'unless pay', 'unless', 'do anything', 'can do', 'paying', 'do', 'anything', 'anything without', 'pay useless']",
         "[\"i can't do anything without paying\", \"you can't do anything without paying\", \"can't do anything unless you pay\"]"
        ],
        [
         "27",
         "26",
         "51",
         "26_breathing_watch_exercises_breathing exercises",
         "['breathing', 'watch', 'exercises', 'breathing exercises', 'exercise', 'breathing exercise', 'screen', 'breathe', 'breath', 'times out']",
         "['good breathing exercises so far', \"the breathing exercise restarts when the screen turns off. the longest time before my watch turns off is one minute so after a minute the breathing exercises stars over again unless i tap the screen before it's off. also an option to increase volume please!\", 'i pay for premium, it’s not cheap and so i’d expect the app to work. i primarily use the app for breathing exercises, but recently it seems the tab for the breathing exercises (the little squares that say “meditation” “wisdom” “movement” “for work”) has been taken away. this is my favourite part of the calm app, and the only part i actually use. now i find it very difficult to find the breathing exercises, and when i do they’re very glitchy. the “unwind” breathing exercise is especially hard to find and sometimes it seems like it doesn’t exist anymore. this is very disheartening as it is literally the only reason i paid for premium! maybe paying for premium was a mistake lol. please fix this.']"
        ],
        [
         "28",
         "27",
         "50",
         "27_work_did_doesn_doesn work",
         "['work', 'did', 'doesn', 'doesn work', 'did work', 'what', 'expected', 'enough doesn', 'what wanted', 'did help']",
         "[\"doesn't work for me\", \"doesn't work for me\", \"this is absolute despicable, i couldn't touch a single thing without having to do the trail! i honestly really thought this would be good after watching the add i saw, i'm sorry but thus doesn't suit me at all.\"]"
        ],
        [
         "29",
         "28",
         "46",
         "28_stars_zero stars_zero_star",
         "['stars', 'zero stars', 'zero', 'star', 'give', 'if could', 'stars would', 'would', 'if', 'could']",
         "[\"if i could give zero stars i would. i wasted my money on a years subscription to an app that hasn't worked since the day i downloaded it. absolutely rubbish 👎\", 'it’s not worth it.  would put zero stars if could.', 'the app is free. the content is not. hard pass. if i could give zero stars.']"
        ],
        [
         "30",
         "29",
         "42",
         "29_70_year_70 year_per year",
         "['70', 'year', '70 year', 'per year', 'dollars', 'per', '70 bucks', 'dollars year', '60', 'bucks']",
         "['$70 per year?!?! are you insane?', '70 bucks a year? lol id rather lose sleep than 70 bucks i could spend on my kids ty.', 'lol 70 dollars a year']"
        ],
        [
         "31",
         "30",
         "41",
         "30_content_free content_free_no free",
         "['content', 'free content', 'free', 'no free', 'there', 'any', 'add', 'very little', 'little', 'non']",
         "['i am just trying to find some content to help my kid sleep, she is 11 so no i don’t want to give you an email address or any of our details, why isn’t there any free content anymore?', 'very, very little content for free. and the little bit that is available is only intros to multi-part selections. so although there seemed to be a lot of content, i didn\\'t even bother looking at it because i had to sort through so many \"lock\" icons overlapping everything you can pick. if you have money to spend, but 1 star for me, horrible first impression.', 'no free content.']"
        ],
        [
         "32",
         "31",
         "40",
         "31_casting_cast_google_google home",
         "['casting', 'cast', 'google', 'google home', 'speaker', 'home', 'speakers', 'chromecast', 'cast google', 'casting google']",
         "[\"content is great, but like 3 days after i started using the app the cast option disappeared. casting to my google home speaker was the only way i was planning on using this, so it's now essentially useless to me. i've tried force stopping and uninstall/re-installing but no luck. pretty pissed i paid for the year and now can't use it. calm: figure out your casting situation please.\", \"love the app, but the casting to google home needs serious work. it will not cast to speaker groups, only to certain individual speakers. recently, the soundscape timer will stop the sound playing from my phone (casting to a speaker), but then the speaker will continue playing the sound all night. it doesn't make sense.\", \"love this app, use it nightly, but considering cancelling my membership if i can't cast it to google home. the last update removed the ability to cast, which was the only way i could fall asleep. it does not work the same way with the manual casting - it disconnects repeatedly and beeps at you when it disconnects which is jarring and wakes me up. there is such good content on this app, amd i really love how they've made an effort to feature speakers from all over. please fix this!\"]"
        ],
        [
         "33",
         "32",
         "40",
         "32_mm_mm mm_bb_diva",
         "['mm', 'mm mm', 'bb', 'diva', 'diva diva', 'no no', 'lol', 'aaz', 'no', 'yes']",
         "[\"hupercondrack is not a big fan of the ho to b a bothu 9 so far lg is snot a lil nig&is u still ur mom lubbe er i was nnnn bed wit um no one is going to get a chance to see the number on my phone with my nyb is a gud un but it's been a long time since i've got one of those nuts for my t eresa iboke down chen cup of smuke or a puff of breed a dog in the ame 64g in his room and i will get her phone number to see what she can do wiffit2wicerssmont tee carla dam shame dan is such an interestingthang\", 'gvgrnjurxbxbbhr  bc set skidi pop pop yes yes yes skidi pop pop but yes yes diva diva diva diva diva diva diva diva 🧑\\u200d🎤 🧑\\u200d🎤 🧑\\u200d🎤', \"hu bb u de rr can feed i'll be in unit mm justh vacating you get off the bedka8 kk kk need me to bring her to mi t by no bb lol not i'm mm mm mm mm mm mm mm mm mm i'll m know bb bun jul kk be bb m to.in lol i'm mm bb xd can m mm mm i'm my bum bb loo mm so no uh mo my i'll be back cc if we be bump mm, mom can do u to in lookvin my knee i'm mm be lol been lol my never ccn by no baby no my be in my not be bb bu nc cc lol my unit no no lol bylolnch no we all do my if can't be t my yet by on bb\"]"
        ],
        [
         "34",
         "33",
         "36",
         "33_account_an account_create_an",
         "['account', 'an account', 'create', 'an', 'create an', 'login', 'paid', 'access', 'login using', 'need create']",
         "[\"don't want to create an account, don't want to log into anything.\", 'need an account to use it', 'need to create an account to use the app. silly.']"
        ],
        [
         "35",
         "34",
         "36",
         "34_everything paid_paid_everything_paid everything",
         "['everything paid', 'paid', 'everything', 'paid everything', 'pay everything', 'paid all', 'paid pay', 'all paid', 'pay', 'everything pay']",
         "['everything is paid', 'everything is paid', 'everything is paid']"
        ],
        [
         "36",
         "35",
         "31",
         "35_started_far_write stuff_getting started",
         "['started', 'far', 'write stuff', 'getting started', 'helpful', 'early', 'write', 'getting', 'first time', 'enjoyed']",
         "[\"too early to tell if it's all that it's cracked up to be. stay tuned.\", \"jstm if we're sho wrong up , we want good serviceswe can run by ourselves, be smart or should i say dumb floosh\", \"so far so good. nice to be able to write stuff to myself and read it back. or maybe it's selling my information to all my neighbors so they can make fun of me. i don't know. i just write the stuff.\"]"
        ],
        [
         "37",
         "36",
         "31",
         "36_crickets_cricket_annoying_hear crickets",
         "['crickets', 'cricket', 'annoying', 'hear crickets', 'cricket sounds', 'hear', 'sound', 'cricket noises', 'noises', 'sounds']",
         "[\"most of the sleep meditations stories and music don't work. endless twinkling three dots and ll i hear is crickets. literally. a very few stories and meditations do actually play. rather than being relaxing therefor it is a source of anger and frustration, having forked out €25 for a special offer of a year's subscription. i have tried day, night, wifi, data, turning off my vpn, resetting internet - but tara brach' series and many others simply are a façade - a sham. no c.s. so disappointed.\", 'i’m starting to hate this app - it’s so annoying - and now it’s demanding a review enough with the click this, click that routine, it’s a very frustrating experience the monologues use unrealistic daft language - not sure who this is aimed at, possibly fairies who live at the end of the garden? i would not pay good money for this based on what’s available for free took me ages to work out how to turn crickets sound off, who listens to crickets to relax? bizarre!', 'i can’t get rid of the crickets! i had four hours of restful thunderstorms. and now the crickets have started , unless i turn the site off!  i tried to just hear waves and the crickets are at the ocean!\\ni can’t get rid of them still! you won’t let me send this message!']"
        ]
       ],
       "shape": {
        "columns": 5,
        "rows": 38
       }
      },
      "text/html": [
       "<div>\n",
       "<style scoped>\n",
       "    .dataframe tbody tr th:only-of-type {\n",
       "        vertical-align: middle;\n",
       "    }\n",
       "\n",
       "    .dataframe tbody tr th {\n",
       "        vertical-align: top;\n",
       "    }\n",
       "\n",
       "    .dataframe thead th {\n",
       "        text-align: right;\n",
       "    }\n",
       "</style>\n",
       "<table border=\"1\" class=\"dataframe\">\n",
       "  <thead>\n",
       "    <tr style=\"text-align: right;\">\n",
       "      <th></th>\n",
       "      <th>Topic</th>\n",
       "      <th>Count</th>\n",
       "      <th>Name</th>\n",
       "      <th>Representation</th>\n",
       "      <th>Representative_Docs</th>\n",
       "    </tr>\n",
       "  </thead>\n",
       "  <tbody>\n",
       "    <tr>\n",
       "      <th>0</th>\n",
       "      <td>-1</td>\n",
       "      <td>2379</td>\n",
       "      <td>-1_sleep_can_free_pay</td>\n",
       "      <td>[sleep, can, free, pay, they, subscription, no...</td>\n",
       "      <td>[for the content, it's pretty great i must say...</td>\n",
       "    </tr>\n",
       "    <tr>\n",
       "      <th>1</th>\n",
       "      <td>0</td>\n",
       "      <td>1691</td>\n",
       "      <td>0_free_pay_if_can</td>\n",
       "      <td>[free, pay, if, can, content, everything, ther...</td>\n",
       "      <td>[it's ok but as a free user you have nothing t...</td>\n",
       "    </tr>\n",
       "    <tr>\n",
       "      <th>2</th>\n",
       "      <td>1</td>\n",
       "      <td>679</td>\n",
       "      <td>1_trial_free trial_free_day</td>\n",
       "      <td>[trial, free trial, free, day, day free, charg...</td>\n",
       "      <td>[want to cancel 7 day trial, 7 day trial so it...</td>\n",
       "    </tr>\n",
       "    <tr>\n",
       "      <th>3</th>\n",
       "      <td>2</td>\n",
       "      <td>488</td>\n",
       "      <td>2_meditation_meditations_find_more</td>\n",
       "      <td>[meditation, meditations, find, more, or, ther...</td>\n",
       "      <td>[i've had a subscription for this app for 2 ye...</td>\n",
       "    </tr>\n",
       "    <tr>\n",
       "      <th>4</th>\n",
       "      <td>3</td>\n",
       "      <td>402</td>\n",
       "      <td>3_subscription_cancel_account_email</td>\n",
       "      <td>[subscription, cancel, account, email, they, n...</td>\n",
       "      <td>[i subscribed to the calm app with high hopes,...</td>\n",
       "    </tr>\n",
       "    <tr>\n",
       "      <th>5</th>\n",
       "      <td>4</td>\n",
       "      <td>239</td>\n",
       "      <td>4_listen_sounds_sound_music</td>\n",
       "      <td>[listen, sounds, sound, music, free, pay, can,...</td>\n",
       "      <td>[if you don't pay for premium you can't listen...</td>\n",
       "    </tr>\n",
       "    <tr>\n",
       "      <th>6</th>\n",
       "      <td>5</td>\n",
       "      <td>219</td>\n",
       "      <td>5_subscription_subscribe_without_monthly subsc...</td>\n",
       "      <td>[subscription, subscribe, without, monthly sub...</td>\n",
       "      <td>[requires a subscription, can't do anything un...</td>\n",
       "    </tr>\n",
       "    <tr>\n",
       "      <th>7</th>\n",
       "      <td>6</td>\n",
       "      <td>173</td>\n",
       "      <td>6_sounds_noise_sound_soundscapes</td>\n",
       "      <td>[sounds, noise, sound, soundscapes, white, aud...</td>\n",
       "      <td>[been a user for many year, but the app is get...</td>\n",
       "    </tr>\n",
       "    <tr>\n",
       "      <th>8</th>\n",
       "      <td>7</td>\n",
       "      <td>146</td>\n",
       "      <td>7_free_free free_nothing free_nothing</td>\n",
       "      <td>[free, free free, nothing free, nothing, free ...</td>\n",
       "      <td>[it's not really free, this is not free, this ...</td>\n",
       "    </tr>\n",
       "    <tr>\n",
       "      <th>9</th>\n",
       "      <td>8</td>\n",
       "      <td>133</td>\n",
       "      <td>8_cancel_cancel subscription_subscription_impo...</td>\n",
       "      <td>[cancel, cancel subscription, subscription, im...</td>\n",
       "      <td>[impossible to cancel the subscription 😕, impo...</td>\n",
       "    </tr>\n",
       "    <tr>\n",
       "      <th>10</th>\n",
       "      <td>9</td>\n",
       "      <td>123</td>\n",
       "      <td>9_expensive_too_too expensive_much</td>\n",
       "      <td>[expensive, too, too expensive, much, worth, t...</td>\n",
       "      <td>[way too expensive, too expensive...., it's to...</td>\n",
       "    </tr>\n",
       "    <tr>\n",
       "      <th>11</th>\n",
       "      <td>10</td>\n",
       "      <td>121</td>\n",
       "      <td>10_ads_false_advertising_free</td>\n",
       "      <td>[ads, false, advertising, free, advertisement,...</td>\n",
       "      <td>[not free! false advertising😡, false advertisi...</td>\n",
       "    </tr>\n",
       "    <tr>\n",
       "      <th>12</th>\n",
       "      <td>11</td>\n",
       "      <td>117</td>\n",
       "      <td>11_refund_charged_subscription_they</td>\n",
       "      <td>[refund, charged, subscription, they, year, ca...</td>\n",
       "      <td>[i had cancelled my yearly subscription in 202...</td>\n",
       "    </tr>\n",
       "    <tr>\n",
       "      <th>13</th>\n",
       "      <td>12</td>\n",
       "      <td>117</td>\n",
       "      <td>12_youtube_youtube free_free_videos</td>\n",
       "      <td>[youtube, youtube free, free, videos, can, stu...</td>\n",
       "      <td>[not worth $70/year when i can find the same t...</td>\n",
       "    </tr>\n",
       "    <tr>\n",
       "      <th>14</th>\n",
       "      <td>13</td>\n",
       "      <td>116</td>\n",
       "      <td>13_pay_pay everything_everything_everything pay</td>\n",
       "      <td>[pay, pay everything, everything, everything p...</td>\n",
       "      <td>[have to pay for everything, you have to pay f...</td>\n",
       "    </tr>\n",
       "    <tr>\n",
       "      <th>15</th>\n",
       "      <td>14</td>\n",
       "      <td>107</td>\n",
       "      <td>14_sleep_stories_story_sleep stories</td>\n",
       "      <td>[sleep, stories, story, sleep stories, sleep s...</td>\n",
       "      <td>[i have had this app since i had my first baby...</td>\n",
       "    </tr>\n",
       "    <tr>\n",
       "      <th>16</th>\n",
       "      <td>15</td>\n",
       "      <td>100</td>\n",
       "      <td>15_cancel_impossible_impossible cancel_trying</td>\n",
       "      <td>[cancel, impossible, impossible cancel, trying...</td>\n",
       "      <td>[nightmare in trying to cancel my automatic re...</td>\n",
       "    </tr>\n",
       "    <tr>\n",
       "      <th>17</th>\n",
       "      <td>16</td>\n",
       "      <td>99</td>\n",
       "      <td>16_sleep_pay_free_help</td>\n",
       "      <td>[sleep, pay, free, help, everything, asleep, o...</td>\n",
       "      <td>[everything cost money!!! one night i could no...</td>\n",
       "    </tr>\n",
       "    <tr>\n",
       "      <th>18</th>\n",
       "      <td>17</td>\n",
       "      <td>93</td>\n",
       "      <td>17_locked_everything locked_everything_locked ...</td>\n",
       "      <td>[locked, everything locked, everything, locked...</td>\n",
       "      <td>[everything was locked, everything is locked, ...</td>\n",
       "    </tr>\n",
       "    <tr>\n",
       "      <th>19</th>\n",
       "      <td>18</td>\n",
       "      <td>86</td>\n",
       "      <td>18_download_version_free version_free</td>\n",
       "      <td>[download, version, free version, free, downlo...</td>\n",
       "      <td>[if you don't want to spend $70 don't even bot...</td>\n",
       "    </tr>\n",
       "    <tr>\n",
       "      <th>20</th>\n",
       "      <td>19</td>\n",
       "      <td>76</td>\n",
       "      <td>19_paywall_behind paywall_behind_everything</td>\n",
       "      <td>[paywall, behind paywall, behind, everything, ...</td>\n",
       "      <td>[everything is locked behind paywall, everythi...</td>\n",
       "    </tr>\n",
       "    <tr>\n",
       "      <th>21</th>\n",
       "      <td>20</td>\n",
       "      <td>73</td>\n",
       "      <td>20_uninstalled_uninstall_immediately_uninstall...</td>\n",
       "      <td>[uninstalled, uninstall, immediately, uninstal...</td>\n",
       "      <td>[absolutely nothing is free. uninstalled immed...</td>\n",
       "    </tr>\n",
       "    <tr>\n",
       "      <th>22</th>\n",
       "      <td>21</td>\n",
       "      <td>64</td>\n",
       "      <td>21_sleep_pay_pay sleep_help</td>\n",
       "      <td>[sleep, pay, pay sleep, help, stories, help sl...</td>\n",
       "      <td>[of course the number one stress in my life is...</td>\n",
       "    </tr>\n",
       "    <tr>\n",
       "      <th>23</th>\n",
       "      <td>22</td>\n",
       "      <td>58</td>\n",
       "      <td>22_calming_down_more_life</td>\n",
       "      <td>[calming, down, more, life, through, am, over,...</td>\n",
       "      <td>[not gonna lie i used it for a second to just ...</td>\n",
       "    </tr>\n",
       "    <tr>\n",
       "      <th>24</th>\n",
       "      <td>23</td>\n",
       "      <td>58</td>\n",
       "      <td>23_free_pay_nothing free_nothing</td>\n",
       "      <td>[free, pay, nothing free, nothing, everything ...</td>\n",
       "      <td>[i have to pay for everything there's like not...</td>\n",
       "    </tr>\n",
       "    <tr>\n",
       "      <th>25</th>\n",
       "      <td>24</td>\n",
       "      <td>53</td>\n",
       "      <td>24_scam_they_your_your money</td>\n",
       "      <td>[scam, they, your, your money, financial, info...</td>\n",
       "      <td>[don't waste your money. scam. impossible to c...</td>\n",
       "    </tr>\n",
       "    <tr>\n",
       "      <th>26</th>\n",
       "      <td>25</td>\n",
       "      <td>52</td>\n",
       "      <td>25_pay_unless pay_unless_do anything</td>\n",
       "      <td>[pay, unless pay, unless, do anything, can do,...</td>\n",
       "      <td>[i can't do anything without paying, you can't...</td>\n",
       "    </tr>\n",
       "    <tr>\n",
       "      <th>27</th>\n",
       "      <td>26</td>\n",
       "      <td>51</td>\n",
       "      <td>26_breathing_watch_exercises_breathing exercises</td>\n",
       "      <td>[breathing, watch, exercises, breathing exerci...</td>\n",
       "      <td>[good breathing exercises so far, the breathin...</td>\n",
       "    </tr>\n",
       "    <tr>\n",
       "      <th>28</th>\n",
       "      <td>27</td>\n",
       "      <td>50</td>\n",
       "      <td>27_work_did_doesn_doesn work</td>\n",
       "      <td>[work, did, doesn, doesn work, did work, what,...</td>\n",
       "      <td>[doesn't work for me, doesn't work for me, thi...</td>\n",
       "    </tr>\n",
       "    <tr>\n",
       "      <th>29</th>\n",
       "      <td>28</td>\n",
       "      <td>46</td>\n",
       "      <td>28_stars_zero stars_zero_star</td>\n",
       "      <td>[stars, zero stars, zero, star, give, if could...</td>\n",
       "      <td>[if i could give zero stars i would. i wasted ...</td>\n",
       "    </tr>\n",
       "    <tr>\n",
       "      <th>30</th>\n",
       "      <td>29</td>\n",
       "      <td>42</td>\n",
       "      <td>29_70_year_70 year_per year</td>\n",
       "      <td>[70, year, 70 year, per year, dollars, per, 70...</td>\n",
       "      <td>[$70 per year?!?! are you insane?, 70 bucks a ...</td>\n",
       "    </tr>\n",
       "    <tr>\n",
       "      <th>31</th>\n",
       "      <td>30</td>\n",
       "      <td>41</td>\n",
       "      <td>30_content_free content_free_no free</td>\n",
       "      <td>[content, free content, free, no free, there, ...</td>\n",
       "      <td>[i am just trying to find some content to help...</td>\n",
       "    </tr>\n",
       "    <tr>\n",
       "      <th>32</th>\n",
       "      <td>31</td>\n",
       "      <td>40</td>\n",
       "      <td>31_casting_cast_google_google home</td>\n",
       "      <td>[casting, cast, google, google home, speaker, ...</td>\n",
       "      <td>[content is great, but like 3 days after i sta...</td>\n",
       "    </tr>\n",
       "    <tr>\n",
       "      <th>33</th>\n",
       "      <td>32</td>\n",
       "      <td>40</td>\n",
       "      <td>32_mm_mm mm_bb_diva</td>\n",
       "      <td>[mm, mm mm, bb, diva, diva diva, no no, lol, a...</td>\n",
       "      <td>[hupercondrack is not a big fan of the ho to b...</td>\n",
       "    </tr>\n",
       "    <tr>\n",
       "      <th>34</th>\n",
       "      <td>33</td>\n",
       "      <td>36</td>\n",
       "      <td>33_account_an account_create_an</td>\n",
       "      <td>[account, an account, create, an, create an, l...</td>\n",
       "      <td>[don't want to create an account, don't want t...</td>\n",
       "    </tr>\n",
       "    <tr>\n",
       "      <th>35</th>\n",
       "      <td>34</td>\n",
       "      <td>36</td>\n",
       "      <td>34_everything paid_paid_everything_paid everyt...</td>\n",
       "      <td>[everything paid, paid, everything, paid every...</td>\n",
       "      <td>[everything is paid, everything is paid, every...</td>\n",
       "    </tr>\n",
       "    <tr>\n",
       "      <th>36</th>\n",
       "      <td>35</td>\n",
       "      <td>31</td>\n",
       "      <td>35_started_far_write stuff_getting started</td>\n",
       "      <td>[started, far, write stuff, getting started, h...</td>\n",
       "      <td>[too early to tell if it's all that it's crack...</td>\n",
       "    </tr>\n",
       "    <tr>\n",
       "      <th>37</th>\n",
       "      <td>36</td>\n",
       "      <td>31</td>\n",
       "      <td>36_crickets_cricket_annoying_hear crickets</td>\n",
       "      <td>[crickets, cricket, annoying, hear crickets, c...</td>\n",
       "      <td>[most of the sleep meditations stories and mus...</td>\n",
       "    </tr>\n",
       "  </tbody>\n",
       "</table>\n",
       "</div>"
      ],
      "text/plain": [
       "    Topic  Count                                               Name  \\\n",
       "0      -1   2379                              -1_sleep_can_free_pay   \n",
       "1       0   1691                                  0_free_pay_if_can   \n",
       "2       1    679                        1_trial_free trial_free_day   \n",
       "3       2    488                 2_meditation_meditations_find_more   \n",
       "4       3    402                3_subscription_cancel_account_email   \n",
       "5       4    239                        4_listen_sounds_sound_music   \n",
       "6       5    219  5_subscription_subscribe_without_monthly subsc...   \n",
       "7       6    173                   6_sounds_noise_sound_soundscapes   \n",
       "8       7    146              7_free_free free_nothing free_nothing   \n",
       "9       8    133  8_cancel_cancel subscription_subscription_impo...   \n",
       "10      9    123                 9_expensive_too_too expensive_much   \n",
       "11     10    121                      10_ads_false_advertising_free   \n",
       "12     11    117                11_refund_charged_subscription_they   \n",
       "13     12    117                12_youtube_youtube free_free_videos   \n",
       "14     13    116    13_pay_pay everything_everything_everything pay   \n",
       "15     14    107               14_sleep_stories_story_sleep stories   \n",
       "16     15    100      15_cancel_impossible_impossible cancel_trying   \n",
       "17     16     99                             16_sleep_pay_free_help   \n",
       "18     17     93  17_locked_everything locked_everything_locked ...   \n",
       "19     18     86              18_download_version_free version_free   \n",
       "20     19     76        19_paywall_behind paywall_behind_everything   \n",
       "21     20     73  20_uninstalled_uninstall_immediately_uninstall...   \n",
       "22     21     64                        21_sleep_pay_pay sleep_help   \n",
       "23     22     58                          22_calming_down_more_life   \n",
       "24     23     58                   23_free_pay_nothing free_nothing   \n",
       "25     24     53                       24_scam_they_your_your money   \n",
       "26     25     52               25_pay_unless pay_unless_do anything   \n",
       "27     26     51   26_breathing_watch_exercises_breathing exercises   \n",
       "28     27     50                       27_work_did_doesn_doesn work   \n",
       "29     28     46                      28_stars_zero stars_zero_star   \n",
       "30     29     42                        29_70_year_70 year_per year   \n",
       "31     30     41               30_content_free content_free_no free   \n",
       "32     31     40                 31_casting_cast_google_google home   \n",
       "33     32     40                                32_mm_mm mm_bb_diva   \n",
       "34     33     36                    33_account_an account_create_an   \n",
       "35     34     36  34_everything paid_paid_everything_paid everyt...   \n",
       "36     35     31         35_started_far_write stuff_getting started   \n",
       "37     36     31         36_crickets_cricket_annoying_hear crickets   \n",
       "\n",
       "                                       Representation  \\\n",
       "0   [sleep, can, free, pay, they, subscription, no...   \n",
       "1   [free, pay, if, can, content, everything, ther...   \n",
       "2   [trial, free trial, free, day, day free, charg...   \n",
       "3   [meditation, meditations, find, more, or, ther...   \n",
       "4   [subscription, cancel, account, email, they, n...   \n",
       "5   [listen, sounds, sound, music, free, pay, can,...   \n",
       "6   [subscription, subscribe, without, monthly sub...   \n",
       "7   [sounds, noise, sound, soundscapes, white, aud...   \n",
       "8   [free, free free, nothing free, nothing, free ...   \n",
       "9   [cancel, cancel subscription, subscription, im...   \n",
       "10  [expensive, too, too expensive, much, worth, t...   \n",
       "11  [ads, false, advertising, free, advertisement,...   \n",
       "12  [refund, charged, subscription, they, year, ca...   \n",
       "13  [youtube, youtube free, free, videos, can, stu...   \n",
       "14  [pay, pay everything, everything, everything p...   \n",
       "15  [sleep, stories, story, sleep stories, sleep s...   \n",
       "16  [cancel, impossible, impossible cancel, trying...   \n",
       "17  [sleep, pay, free, help, everything, asleep, o...   \n",
       "18  [locked, everything locked, everything, locked...   \n",
       "19  [download, version, free version, free, downlo...   \n",
       "20  [paywall, behind paywall, behind, everything, ...   \n",
       "21  [uninstalled, uninstall, immediately, uninstal...   \n",
       "22  [sleep, pay, pay sleep, help, stories, help sl...   \n",
       "23  [calming, down, more, life, through, am, over,...   \n",
       "24  [free, pay, nothing free, nothing, everything ...   \n",
       "25  [scam, they, your, your money, financial, info...   \n",
       "26  [pay, unless pay, unless, do anything, can do,...   \n",
       "27  [breathing, watch, exercises, breathing exerci...   \n",
       "28  [work, did, doesn, doesn work, did work, what,...   \n",
       "29  [stars, zero stars, zero, star, give, if could...   \n",
       "30  [70, year, 70 year, per year, dollars, per, 70...   \n",
       "31  [content, free content, free, no free, there, ...   \n",
       "32  [casting, cast, google, google home, speaker, ...   \n",
       "33  [mm, mm mm, bb, diva, diva diva, no no, lol, a...   \n",
       "34  [account, an account, create, an, create an, l...   \n",
       "35  [everything paid, paid, everything, paid every...   \n",
       "36  [started, far, write stuff, getting started, h...   \n",
       "37  [crickets, cricket, annoying, hear crickets, c...   \n",
       "\n",
       "                                  Representative_Docs  \n",
       "0   [for the content, it's pretty great i must say...  \n",
       "1   [it's ok but as a free user you have nothing t...  \n",
       "2   [want to cancel 7 day trial, 7 day trial so it...  \n",
       "3   [i've had a subscription for this app for 2 ye...  \n",
       "4   [i subscribed to the calm app with high hopes,...  \n",
       "5   [if you don't pay for premium you can't listen...  \n",
       "6   [requires a subscription, can't do anything un...  \n",
       "7   [been a user for many year, but the app is get...  \n",
       "8   [it's not really free, this is not free, this ...  \n",
       "9   [impossible to cancel the subscription 😕, impo...  \n",
       "10  [way too expensive, too expensive...., it's to...  \n",
       "11  [not free! false advertising😡, false advertisi...  \n",
       "12  [i had cancelled my yearly subscription in 202...  \n",
       "13  [not worth $70/year when i can find the same t...  \n",
       "14  [have to pay for everything, you have to pay f...  \n",
       "15  [i have had this app since i had my first baby...  \n",
       "16  [nightmare in trying to cancel my automatic re...  \n",
       "17  [everything cost money!!! one night i could no...  \n",
       "18  [everything was locked, everything is locked, ...  \n",
       "19  [if you don't want to spend $70 don't even bot...  \n",
       "20  [everything is locked behind paywall, everythi...  \n",
       "21  [absolutely nothing is free. uninstalled immed...  \n",
       "22  [of course the number one stress in my life is...  \n",
       "23  [not gonna lie i used it for a second to just ...  \n",
       "24  [i have to pay for everything there's like not...  \n",
       "25  [don't waste your money. scam. impossible to c...  \n",
       "26  [i can't do anything without paying, you can't...  \n",
       "27  [good breathing exercises so far, the breathin...  \n",
       "28  [doesn't work for me, doesn't work for me, thi...  \n",
       "29  [if i could give zero stars i would. i wasted ...  \n",
       "30  [$70 per year?!?! are you insane?, 70 bucks a ...  \n",
       "31  [i am just trying to find some content to help...  \n",
       "32  [content is great, but like 3 days after i sta...  \n",
       "33  [hupercondrack is not a big fan of the ho to b...  \n",
       "34  [don't want to create an account, don't want t...  \n",
       "35  [everything is paid, everything is paid, every...  \n",
       "36  [too early to tell if it's all that it's crack...  \n",
       "37  [most of the sleep meditations stories and mus...  "
      ]
     },
     "metadata": {},
     "output_type": "display_data"
    },
    {
     "name": "stdout",
     "output_type": "stream",
     "text": [
      "\n",
      "--- Detailed View of Top 10 Baseline Topics ---\n",
      "\n",
      "--- Words for Baseline Topic #0 ---\n",
      "[('free', np.float64(0.016521271140252345)), ('pay', np.float64(0.012474851000288285)), ('if', np.float64(0.01120306233161068)), ('can', np.float64(0.010012146921566347)), ('content', np.float64(0.00995063830968243)), ('everything', np.float64(0.009752252072441098)), ('there', np.float64(0.008526276041306418)), ('premium', np.float64(0.008322438177745067)), ('they', np.float64(0.008246295506983126)), ('don', np.float64(0.008240746810188528))]\n",
      "\n",
      "--- Words for Baseline Topic #1 ---\n",
      "[('trial', np.float64(0.05220221868982305)), ('free trial', np.float64(0.03814593460312458)), ('free', np.float64(0.026170376254311196)), ('day', np.float64(0.023394299768316956)), ('day free', np.float64(0.015974074806825854)), ('charged', np.float64(0.014366904210447472)), ('cancel', np.float64(0.014332084502104683)), ('day trial', np.float64(0.013812263691551465)), ('they', np.float64(0.013463526095739019)), ('up', np.float64(0.01345463048286973))]\n",
      "\n",
      "--- Words for Baseline Topic #2 ---\n",
      "[('meditation', np.float64(0.03461105858632929)), ('meditations', np.float64(0.02307916898557128)), ('find', np.float64(0.011136501153982903)), ('more', np.float64(0.010743628048603591)), ('or', np.float64(0.00904331442142767)), ('there', np.float64(0.008761989453451458)), ('guided', np.float64(0.008007892032703036)), ('would', np.float64(0.007485893065673424)), ('can', np.float64(0.007405727096057514)), ('meditate', np.float64(0.0072395122711659795))]\n",
      "\n",
      "--- Words for Baseline Topic #3 ---\n",
      "[('subscription', np.float64(0.020703843517373217)), ('cancel', np.float64(0.02031087455678475)), ('account', np.float64(0.013649294352527373)), ('email', np.float64(0.01176768755160857)), ('they', np.float64(0.011707774168371649)), ('no', np.float64(0.011128154778011302)), ('charged', np.float64(0.010682592726968025)), ('refund', np.float64(0.010574464658467375)), ('from', np.float64(0.010293270050724458)), ('will', np.float64(0.00983896889214003))]\n",
      "\n",
      "--- Words for Baseline Topic #4 ---\n",
      "[('listen', np.float64(0.046873054728241235)), ('sounds', np.float64(0.036143521728485846)), ('sound', np.float64(0.023981240361986844)), ('music', np.float64(0.02168358995385492)), ('free', np.float64(0.021682514653983787)), ('pay', np.float64(0.021645249532019357)), ('can', np.float64(0.019524253553053435)), ('listen anything', np.float64(0.01938898245918738)), ('can listen', np.float64(0.018385243154804703)), ('rain', np.float64(0.01685824477269997))]\n",
      "\n",
      "--- Words for Baseline Topic #5 ---\n",
      "[('subscription', np.float64(0.07507110127786995)), ('subscribe', np.float64(0.025861792416516118)), ('without', np.float64(0.02427312198310141)), ('monthly subscription', np.float64(0.019958620037779942)), ('monthly', np.float64(0.01989538792438059)), ('free', np.float64(0.016781873569358452)), ('pay', np.float64(0.01670118700053597)), ('premium', np.float64(0.015623925824173872)), ('content', np.float64(0.01519214915014996)), ('can', np.float64(0.014751257988884468))]\n",
      "\n",
      "--- Words for Baseline Topic #6 ---\n",
      "[('sounds', np.float64(0.022973996714127837)), ('noise', np.float64(0.022435955843022236)), ('sound', np.float64(0.01985679073365254)), ('soundscapes', np.float64(0.01904146748475767)), ('white', np.float64(0.01615489969343296)), ('audio', np.float64(0.016014565093804427)), ('free', np.float64(0.014237717747171403)), ('white noise', np.float64(0.014185600549821195)), ('all', np.float64(0.013944083354565743)), ('play', np.float64(0.013335928381001802))]\n",
      "\n",
      "--- Words for Baseline Topic #7 ---\n",
      "[('free', np.float64(0.13155190227392355)), ('free free', np.float64(0.06900285254596876)), ('nothing free', np.float64(0.05582966144675063)), ('nothing', np.float64(0.05328775170820599)), ('free nothing', np.float64(0.04598275127331724)), ('free thought', np.float64(0.042730541728925375)), ('thought', np.float64(0.03841341909035259)), ('thought free', np.float64(0.03690168233230308)), ('said free', np.float64(0.023530155872002245)), ('should free', np.float64(0.023530155872002245))]\n",
      "\n",
      "--- Words for Baseline Topic #8 ---\n",
      "[('cancel', np.float64(0.1134793109447017)), ('cancel subscription', np.float64(0.11343326951877941)), ('subscription', np.float64(0.08353756953221021)), ('impossible', np.float64(0.03179042488384589)), ('impossible cancel', np.float64(0.030346023473595184)), ('trying cancel', np.float64(0.028916106358556678)), ('can cancel', np.float64(0.022910501725351775)), ('trying', np.float64(0.022587572419549586)), ('your subscription', np.float64(0.021453737730314965)), ('cancel your', np.float64(0.019941053421242604))]\n",
      "\n",
      "--- Words for Baseline Topic #9 ---\n",
      "[('expensive', np.float64(0.12074081428183828)), ('too', np.float64(0.11703291737242005)), ('too expensive', np.float64(0.10002429609430873)), ('much', np.float64(0.058095019215666066)), ('worth', np.float64(0.05584247323592911)), ('too much', np.float64(0.049206936718665904)), ('money', np.float64(0.04873496015562204)), ('cost', np.float64(0.04270040924669365)), ('way too', np.float64(0.0416483889122447)), ('much money', np.float64(0.03457959646396437))]\n"
     ]
    }
   ],
   "source": [
    "# --- Step 5: Review the Discovered Topics ---\n",
    "print(\"Displaying the baseline topic overview...\")\n",
    "\n",
    "topic_info_base = topic_model_base.get_topic_info()\n",
    "display(topic_info_base)\n",
    "\n",
    "print(\"\\n--- Detailed View of Top 10 Baseline Topics ---\")\n",
    "for topic_id in range(10):\n",
    "    if topic_id in topic_model_base.get_topics():\n",
    "        print(f\"\\n--- Words for Baseline Topic #{topic_id} ---\")\n",
    "        print(topic_model_base.get_topic(topic_id))"
   ]
  },
  {
   "cell_type": "code",
   "execution_count": 8,
   "metadata": {
    "execution": {
     "iopub.execute_input": "2025-07-21T09:20:09.274831Z",
     "iopub.status.busy": "2025-07-21T09:20:09.274584Z",
     "iopub.status.idle": "2025-07-21T09:20:09.296118Z",
     "shell.execute_reply": "2025-07-21T09:20:09.295352Z",
     "shell.execute_reply.started": "2025-07-21T09:20:09.274813Z"
    },
    "trusted": true
   },
   "outputs": [
    {
     "name": "stdout",
     "output_type": "stream",
     "text": [
      "Mapping final Topic IDs to names and high-level themes for Baseline App...\n",
      "\n",
      "--- Final, Corrected Theme Distribution for Baseline App (Calm) ---\n"
     ]
    },
    {
     "data": {
      "application/vnd.microsoft.datawrangler.viewer.v0+json": {
       "columns": [
        {
         "name": "theme",
         "rawType": "object",
         "type": "string"
        },
        {
         "name": "count",
         "rawType": "int64",
         "type": "integer"
        }
       ],
       "ref": "0221947c-8eac-4e88-9ea2-83779bc14c4e",
       "rows": [
        [
         "Monetization & Value",
         "4593"
        ],
        [
         "Outliers / Generic",
         "2379"
        ],
        [
         "Content-Specific Issues",
         "943"
        ],
        [
         "Other/Misc.",
         "332"
        ],
        [
         "Technical Performance",
         "259"
        ]
       ],
       "shape": {
        "columns": 1,
        "rows": 5
       }
      },
      "text/plain": [
       "theme\n",
       "Monetization & Value       4593\n",
       "Outliers / Generic         2379\n",
       "Content-Specific Issues     943\n",
       "Other/Misc.                 332\n",
       "Technical Performance       259\n",
       "Name: count, dtype: int64"
      ]
     },
     "metadata": {},
     "output_type": "display_data"
    }
   ],
   "source": [
    "# --- PART A: Detailed mapping of Topic IDs to specific names ---\n",
    "\n",
    "print(\"Mapping final Topic IDs to names and high-level themes for Baseline App...\")\n",
    "# Assign the raw topic IDs from the model to your baseline DataFrame\n",
    "df_base[\"topic_id\"] = topics_base\n",
    "topic_id_to_name_base = {\n",
    "    0: \"Paywall & Lack of Free Content\",\n",
    "    1: \"Meditation Content Issues\",\n",
    "    2: \"Free Trial Complaints & Charges\",\n",
    "    3: \"Redundant: Free Trial Complaints\",\n",
    "    4: \"Paywalled Audio & Music\",\n",
    "    5: \"Technical: App Crashing / Not Opening\",\n",
    "    6: \"Refund & Billing Issues\",\n",
    "    7: \"Forced Subscription to Use\",\n",
    "    8: \"Soundscape & Audio Feature Issues\",\n",
    "    9: \"Subscription Cancellation Problems\",\n",
    "    10: \"Misleading 'Free' Label\",\n",
    "    11: \"Redundant: Refund & Billing Issues\",\n",
    "    12: \"Content Available Free on YouTube\",\n",
    "    13: \"False Advertising\",\n",
    "    14: \"Generic Negative Feedback ('doesn't work')\",\n",
    "    15: \"Redundant: Subscription Cancellation\",\n",
    "    16: \"Price is Too Expensive\",\n",
    "    17: \"Redundant: Paywall & Lack of Free Content\",\n",
    "    18: \"Redundant: Subscription Cancellation\",\n",
    "    19: \"Free Version is Useless\",\n",
    "    20: \"Issues with Sleep Content\",\n",
    "    21: \"Features Locked Behind Paywall\",\n",
    "    22: \"Redundant: Issues with Sleep Content\",\n",
    "    23: \"Exploiting Anxiety for Money\",\n",
    "    24: \"Redundant: Paywalled Features\",\n",
    "    25: \"App Uninstalled Due to Cost\",\n",
    "    26: \"Generic Positive/Neutral Feedback\",\n",
    "    27: \"Redundant: App Uninstalled\",\n",
    "    28: \"Redundant: Paywalled Sleep Content\",\n",
    "    29: \"Redundant: Paywall & Lack of Free Content\",\n",
    "    30: \"Redundant: Paywall & Lack of Free Content\",\n",
    "    31: \"Technical Issues with Wearables (Watch)\",\n",
    "    32: \"Meta: 1-Star Review Complaints\",\n",
    "    33: \"Perceived as a Scam\",\n",
    "    34: \"Price is Too Expensive ($70/year)\",\n",
    "    35: \"Noise/Junk Topic (mm, diva, bb)\",\n",
    "    36: \"Redundant: Paywall & Lack of Free Content\",\n",
    "    37: \"Technical Issues with Casting (Google Home)\",\n",
    "    38: \"Redundant: Locked/Paid Features\",\n",
    "    39: \"Account & Login Issues\",\n",
    "    40: \"Noise/Junk Topic (crickets)\",\n",
    "    41: \"Issues with Specific Narrator (Tamara Levitt)\",\n",
    "    42: \"Redundant: Locked/Paid Features\",\n",
    "    43: \"Redundant: Account & Login Issues\",\n",
    "    44: \"Redundant: Sound/Audio Issues\",\n",
    "}\n",
    "\n",
    "df_base[\"topic_name\"] = df_base[\"topic_id\"].map(topic_id_to_name_base)\n",
    "df_base[\"topic_name\"].fillna(\"Specific/Niche Complaint\", inplace=True)\n",
    "\n",
    "\n",
    "# --- PART B: Mapping specific names to high-level themes (This remains largely the same) ---\n",
    "topic_name_to_theme_base = {\n",
    "    # Theme 1: Monetization & Value\n",
    "    \"Paywall & Lack of Free Content\": \"Monetization & Value\",\n",
    "    \"Free Trial Complaints & Charges\": \"Monetization & Value\",\n",
    "    \"Paywalled Audio & Music\": \"Monetization & Value\",\n",
    "    \"Forced Subscription to Use\": \"Monetization & Value\",\n",
    "    \"Refund & Billing Issues\": \"Monetization & Value\",\n",
    "    \"Misleading 'Free' Label\": \"Monetization & Value\",\n",
    "    \"Subscription Cancellation Problems\": \"Monetization & Value\",\n",
    "    \"Price is Too Expensive\": \"Monetization & Value\",\n",
    "    \"Content Available Free on YouTube\": \"Monetization & Value\",\n",
    "    \"False Advertising\": \"Monetization & Value\",\n",
    "    \"Features Locked Behind Paywall\": \"Monetization & Value\",\n",
    "    \"App Uninstalled Due to Cost\": \"Monetization & Value\",\n",
    "    \"Perceived as a Scam\": \"Monetization & Value\",\n",
    "    \"Exploiting Anxiety for Money\": \"Monetization & Value\",\n",
    "    \"Free Version is Useless\": \"Monetization & Value\",\n",
    "    \"Price is Too Expensive ($70/year)\": \"Monetization & Value\",\n",
    "    \"Redundant: Free Trial Complaints\": \"Monetization & Value\",\n",
    "    \"Redundant: Refund & Billing Issues\": \"Monetization & Value\",\n",
    "    \"Redundant: Subscription Cancellation\": \"Monetization & Value\",\n",
    "    \"Redundant: Paywall & Lack of Free Content\": \"Monetization & Value\",\n",
    "    \"Redundant: Paywalled Sleep Content\": \"Monetization & Value\",\n",
    "    \"Redundant: Locked/Paid Features\": \"Monetization & Value\",\n",
    "    # Theme 2: Content-Specific Issues\n",
    "    \"Meditation Content Issues\": \"Content-Specific Issues\",\n",
    "    \"Soundscape & Audio Feature Issues\": \"Content-Specific Issues\",\n",
    "    \"Issues with Sleep Content\": \"Content-Specific Issues\",\n",
    "    \"Issues with Specific Narrator (Tamara Levitt)\": \"Content-Specific Issues\",\n",
    "    \"Redundant: Issues with Sleep Content\": \"Content-Specific Issues\",\n",
    "    \"Redundant: Sound/Audio Issues\": \"Content-Specific Issues\",\n",
    "    # Theme 3: Technical Performance & Bugs\n",
    "    \"Technical: App Crashing / Not Opening\": \"Technical Performance\",\n",
    "    \"Technical Issues with Wearables (Watch)\": \"Technical Performance\",\n",
    "    \"Technical Issues with Casting (Google Home)\": \"Technical Performance\",\n",
    "    \"Account & Login Issues\": \"Technical Performance\",\n",
    "    \"Redundant: Account & Login Issues\": \"Technical Performance\",\n",
    "    # Theme 4: Other\n",
    "    \"Generic Negative Feedback ('doesn't work')\": \"Other/Misc.\",\n",
    "    \"Generic Positive/Neutral Feedback\": \"Other/Misc.\",\n",
    "    \"Meta: 1-Star Review Complaints\": \"Other/Misc.\",\n",
    "    \"Noise/Junk Topic (mm, diva, bb)\": \"Other/Misc.\",\n",
    "    \"Noise/Junk Topic (crickets)\": \"Other/Misc.\",\n",
    "    \"Specific/Niche Complaint\": \"Other/Misc.\",\n",
    "}\n",
    "\n",
    "df_base[\"theme\"] = df_base[\"topic_name\"].map(topic_name_to_theme_base)\n",
    "df_base.loc[df_base[\"topic_id\"] == -1, \"theme\"] = \"Outliers / Generic\"\n",
    "df_base[\"theme\"].fillna(\"Other/Misc.\", inplace=True)  # Catch any leftovers\n",
    "\n",
    "print(\"\\n--- Final, Corrected Theme Distribution for Baseline App (Calm) ---\")\n",
    "display(df_base[\"theme\"].value_counts())"
   ]
  },
  {
   "cell_type": "code",
   "execution_count": 9,
   "metadata": {
    "execution": {
     "iopub.execute_input": "2025-07-21T09:20:09.297183Z",
     "iopub.status.busy": "2025-07-21T09:20:09.296873Z",
     "iopub.status.idle": "2025-07-21T09:24:27.109224Z",
     "shell.execute_reply": "2025-07-21T09:24:27.108352Z",
     "shell.execute_reply.started": "2025-07-21T09:20:09.297155Z"
    },
    "trusted": true
   },
   "outputs": [
    {
     "name": "stdout",
     "output_type": "stream",
     "text": [
      "Setting up Transformer sentiment analysis pipeline for Baseline App...\n"
     ]
    },
    {
     "name": "stderr",
     "output_type": "stream",
     "text": [
      "Some weights of the model checkpoint at cardiffnlp/twitter-roberta-base-sentiment-latest were not used when initializing RobertaForSequenceClassification: ['roberta.pooler.dense.bias', 'roberta.pooler.dense.weight']\n",
      "- This IS expected if you are initializing RobertaForSequenceClassification from the checkpoint of a model trained on another task or with another architecture (e.g. initializing a BertForSequenceClassification model from a BertForPreTraining model).\n",
      "- This IS NOT expected if you are initializing RobertaForSequenceClassification from the checkpoint of a model that you expect to be exactly identical (initializing a BertForSequenceClassification model from a BertForSequenceClassification model).\n"
     ]
    },
    {
     "name": "stdout",
     "output_type": "stream",
     "text": [
      "Using device: cpu\n",
      "Tokenizing all baseline reviews...\n",
      "Tokenization complete.\n",
      "Running model inference in batches...\n"
     ]
    },
    {
     "data": {
      "application/vnd.jupyter.widget-view+json": {
       "model_id": "defe5c5cdf9549c4b35276262f3c5dc9",
       "version_major": 2,
       "version_minor": 0
      },
      "text/plain": [
       "Analyzing Batches:   0%|          | 0/266 [00:00<?, ?it/s]"
      ]
     },
     "metadata": {},
     "output_type": "display_data"
    },
    {
     "name": "stdout",
     "output_type": "stream",
     "text": [
      "Inference complete.\n",
      "Sentiment scores added to the baseline DataFrame.\n"
     ]
    }
   ],
   "source": [
    "# --- Emotional Analysis: Measuring Sentiment by Theme (Robust Version) ---\n",
    "\n",
    "# This cell uses a powerful pre-trained Transformer model to get accurate sentiment scores.\n",
    "print(\"Setting up Transformer sentiment analysis pipeline for Baseline App...\")\n",
    "\n",
    "# 1. LOAD TOKENIZER AND MODEL\n",
    "MODEL_NAME = \"cardiffnlp/twitter-roberta-base-sentiment-latest\"\n",
    "tokenizer = AutoTokenizer.from_pretrained(MODEL_NAME)\n",
    "model = AutoModelForSequenceClassification.from_pretrained(MODEL_NAME)\n",
    "\n",
    "# Move model to GPU if available\n",
    "device = torch.device(\"cuda\" if torch.cuda.is_available() else \"cpu\")\n",
    "model.to(device)\n",
    "print(f\"Using device: {device}\")\n",
    "\n",
    "\n",
    "# 2. TOKENIZE THE DATA\n",
    "print(\"Tokenizing all baseline reviews...\")\n",
    "review_list_base = df_base[\"review_text\"].tolist()\n",
    "\n",
    "inputs_base = tokenizer(\n",
    "    review_list_base, padding=True, truncation=True, max_length=512, return_tensors=\"pt\"\n",
    ")\n",
    "inputs_base = {key: val.to(device) for key, val in inputs_base.items()}\n",
    "print(\"Tokenization complete.\")\n",
    "\n",
    "\n",
    "# 3. PERFORM INFERENCE IN BATCHES\n",
    "print(\"Running model inference in batches...\")\n",
    "all_logits_base = []\n",
    "batch_size = 32\n",
    "dataset_base = TensorDataset(inputs_base[\"input_ids\"], inputs_base[\"attention_mask\"])\n",
    "loader_base = DataLoader(dataset_base, batch_size=batch_size)\n",
    "\n",
    "with torch.no_grad():\n",
    "    for batch in tqdm(loader_base, desc=\"Analyzing Batches\"):\n",
    "        input_ids, attention_mask = batch\n",
    "        outputs = model(input_ids=input_ids, attention_mask=attention_mask)\n",
    "        all_logits_base.append(outputs.logits)\n",
    "\n",
    "all_logits_base = torch.cat(all_logits_base, dim=0)\n",
    "probabilities = torch.nn.functional.softmax(all_logits_base, dim=-1)\n",
    "predictions = torch.argmax(probabilities, dim=-1)\n",
    "print(\"Inference complete.\")\n",
    "\n",
    "\n",
    "# 4. PROCESS THE RESULTS\n",
    "id_to_label = model.config.id2label\n",
    "predicted_labels = [id_to_label[pred.item()] for pred in predictions]\n",
    "label_to_score = {\"positive\": 1, \"neutral\": 0, \"negative\": -1}\n",
    "sentiment_scores = [label_to_score[label] for label in predicted_labels]\n",
    "\n",
    "df_base[\"sentiment_score\"] = sentiment_scores\n",
    "print(\"Sentiment scores added to the baseline DataFrame.\")"
   ]
  },
  {
   "cell_type": "code",
   "execution_count": 11,
   "metadata": {
    "execution": {
     "iopub.execute_input": "2025-07-21T09:24:27.110954Z",
     "iopub.status.busy": "2025-07-21T09:24:27.110229Z",
     "iopub.status.idle": "2025-07-21T09:24:27.118000Z",
     "shell.execute_reply": "2025-07-21T09:24:27.117103Z",
     "shell.execute_reply.started": "2025-07-21T09:24:27.110929Z"
    },
    "trusted": true
   },
   "outputs": [],
   "source": [
    "# We'll use the 'df_base' DataFrame that has the 'theme' and 'topic_name' columns.\n",
    "# Let's ensure our topic names are clean for the charts.\n",
    "df_base[\"topic_name\"] = df_base[\"topic_name\"].str.replace(\"Redundant: \", \"\")"
   ]
  },
  {
   "cell_type": "markdown",
   "metadata": {},
   "source": [
    "### Deep Dive 1: Why Are Users Upset About Monetization?"
   ]
  },
  {
   "cell_type": "code",
   "execution_count": 12,
   "metadata": {
    "execution": {
     "iopub.execute_input": "2025-07-21T09:24:27.119313Z",
     "iopub.status.busy": "2025-07-21T09:24:27.118870Z",
     "iopub.status.idle": "2025-07-21T09:24:29.268202Z",
     "shell.execute_reply": "2025-07-21T09:24:29.267364Z",
     "shell.execute_reply.started": "2025-07-21T09:24:27.119282Z"
    },
    "trusted": true
   },
   "outputs": [
    {
     "data": {
      "application/vnd.plotly.v1+json": {
       "config": {
        "plotlyServerURL": "https://plot.ly"
       },
       "data": [
        {
         "branchvalues": "total",
         "domain": {
          "x": [
           0,
           1
          ],
          "y": [
           0,
           1
          ]
         },
         "hovertemplate": "labels=%{label}<br>Review Count=%{value}<br>parent=%{parent}<br>id=%{id}<extra></extra>",
         "ids": [
          "Monetization Complaints/Paywall & Lack of Free Content",
          "Monetization Complaints/Free Trial Complaints & Charges",
          "Monetization Complaints/Free Trial Complaints",
          "Monetization Complaints/Refund & Billing Issues",
          "Monetization Complaints/Paywalled Audio & Music",
          "Monetization Complaints/Subscription Cancellation",
          "Monetization Complaints/Forced Subscription to Use",
          "Monetization Complaints/Subscription Cancellation Problems",
          "Monetization Complaints/Misleading 'Free' Label",
          "Monetization Complaints/Content Available Free on YouTube",
          "Monetization Complaints"
         ],
         "labels": [
          "Paywall & Lack of Free Content",
          "Free Trial Complaints & Charges",
          "Free Trial Complaints",
          "Refund & Billing Issues",
          "Paywalled Audio & Music",
          "Subscription Cancellation",
          "Forced Subscription to Use",
          "Subscription Cancellation Problems",
          "Misleading 'Free' Label",
          "Content Available Free on YouTube",
          "Monetization Complaints"
         ],
         "name": "",
         "parents": [
          "Monetization Complaints",
          "Monetization Complaints",
          "Monetization Complaints",
          "Monetization Complaints",
          "Monetization Complaints",
          "Monetization Complaints",
          "Monetization Complaints",
          "Monetization Complaints",
          "Monetization Complaints",
          "Monetization Complaints",
          ""
         ],
         "type": "treemap",
         "values": {
          "bdata": "AAAAAAConUAAAAAAAIB+QAAAAAAAIHlAAAAAAAAgckAAAAAAAOBtQAAAAAAAQGdAAAAAAABAYkAAAAAAAMBeQAAAAAAAQF5AAAAAAABAXUAAAAAAAFSvQA==",
          "dtype": "f8"
         }
        }
       ],
       "layout": {
        "legend": {
         "tracegroupgap": 0
        },
        "margin": {
         "b": 25,
         "l": 25,
         "r": 25,
         "t": 50
        },
        "template": {
         "data": {
          "bar": [
           {
            "error_x": {
             "color": "#2a3f5f"
            },
            "error_y": {
             "color": "#2a3f5f"
            },
            "marker": {
             "line": {
              "color": "#E5ECF6",
              "width": 0.5
             },
             "pattern": {
              "fillmode": "overlay",
              "size": 10,
              "solidity": 0.2
             }
            },
            "type": "bar"
           }
          ],
          "barpolar": [
           {
            "marker": {
             "line": {
              "color": "#E5ECF6",
              "width": 0.5
             },
             "pattern": {
              "fillmode": "overlay",
              "size": 10,
              "solidity": 0.2
             }
            },
            "type": "barpolar"
           }
          ],
          "carpet": [
           {
            "aaxis": {
             "endlinecolor": "#2a3f5f",
             "gridcolor": "white",
             "linecolor": "white",
             "minorgridcolor": "white",
             "startlinecolor": "#2a3f5f"
            },
            "baxis": {
             "endlinecolor": "#2a3f5f",
             "gridcolor": "white",
             "linecolor": "white",
             "minorgridcolor": "white",
             "startlinecolor": "#2a3f5f"
            },
            "type": "carpet"
           }
          ],
          "choropleth": [
           {
            "colorbar": {
             "outlinewidth": 0,
             "ticks": ""
            },
            "type": "choropleth"
           }
          ],
          "contour": [
           {
            "colorbar": {
             "outlinewidth": 0,
             "ticks": ""
            },
            "colorscale": [
             [
              0,
              "#0d0887"
             ],
             [
              0.1111111111111111,
              "#46039f"
             ],
             [
              0.2222222222222222,
              "#7201a8"
             ],
             [
              0.3333333333333333,
              "#9c179e"
             ],
             [
              0.4444444444444444,
              "#bd3786"
             ],
             [
              0.5555555555555556,
              "#d8576b"
             ],
             [
              0.6666666666666666,
              "#ed7953"
             ],
             [
              0.7777777777777778,
              "#fb9f3a"
             ],
             [
              0.8888888888888888,
              "#fdca26"
             ],
             [
              1,
              "#f0f921"
             ]
            ],
            "type": "contour"
           }
          ],
          "contourcarpet": [
           {
            "colorbar": {
             "outlinewidth": 0,
             "ticks": ""
            },
            "type": "contourcarpet"
           }
          ],
          "heatmap": [
           {
            "colorbar": {
             "outlinewidth": 0,
             "ticks": ""
            },
            "colorscale": [
             [
              0,
              "#0d0887"
             ],
             [
              0.1111111111111111,
              "#46039f"
             ],
             [
              0.2222222222222222,
              "#7201a8"
             ],
             [
              0.3333333333333333,
              "#9c179e"
             ],
             [
              0.4444444444444444,
              "#bd3786"
             ],
             [
              0.5555555555555556,
              "#d8576b"
             ],
             [
              0.6666666666666666,
              "#ed7953"
             ],
             [
              0.7777777777777778,
              "#fb9f3a"
             ],
             [
              0.8888888888888888,
              "#fdca26"
             ],
             [
              1,
              "#f0f921"
             ]
            ],
            "type": "heatmap"
           }
          ],
          "histogram": [
           {
            "marker": {
             "pattern": {
              "fillmode": "overlay",
              "size": 10,
              "solidity": 0.2
             }
            },
            "type": "histogram"
           }
          ],
          "histogram2d": [
           {
            "colorbar": {
             "outlinewidth": 0,
             "ticks": ""
            },
            "colorscale": [
             [
              0,
              "#0d0887"
             ],
             [
              0.1111111111111111,
              "#46039f"
             ],
             [
              0.2222222222222222,
              "#7201a8"
             ],
             [
              0.3333333333333333,
              "#9c179e"
             ],
             [
              0.4444444444444444,
              "#bd3786"
             ],
             [
              0.5555555555555556,
              "#d8576b"
             ],
             [
              0.6666666666666666,
              "#ed7953"
             ],
             [
              0.7777777777777778,
              "#fb9f3a"
             ],
             [
              0.8888888888888888,
              "#fdca26"
             ],
             [
              1,
              "#f0f921"
             ]
            ],
            "type": "histogram2d"
           }
          ],
          "histogram2dcontour": [
           {
            "colorbar": {
             "outlinewidth": 0,
             "ticks": ""
            },
            "colorscale": [
             [
              0,
              "#0d0887"
             ],
             [
              0.1111111111111111,
              "#46039f"
             ],
             [
              0.2222222222222222,
              "#7201a8"
             ],
             [
              0.3333333333333333,
              "#9c179e"
             ],
             [
              0.4444444444444444,
              "#bd3786"
             ],
             [
              0.5555555555555556,
              "#d8576b"
             ],
             [
              0.6666666666666666,
              "#ed7953"
             ],
             [
              0.7777777777777778,
              "#fb9f3a"
             ],
             [
              0.8888888888888888,
              "#fdca26"
             ],
             [
              1,
              "#f0f921"
             ]
            ],
            "type": "histogram2dcontour"
           }
          ],
          "mesh3d": [
           {
            "colorbar": {
             "outlinewidth": 0,
             "ticks": ""
            },
            "type": "mesh3d"
           }
          ],
          "parcoords": [
           {
            "line": {
             "colorbar": {
              "outlinewidth": 0,
              "ticks": ""
             }
            },
            "type": "parcoords"
           }
          ],
          "pie": [
           {
            "automargin": true,
            "type": "pie"
           }
          ],
          "scatter": [
           {
            "fillpattern": {
             "fillmode": "overlay",
             "size": 10,
             "solidity": 0.2
            },
            "type": "scatter"
           }
          ],
          "scatter3d": [
           {
            "line": {
             "colorbar": {
              "outlinewidth": 0,
              "ticks": ""
             }
            },
            "marker": {
             "colorbar": {
              "outlinewidth": 0,
              "ticks": ""
             }
            },
            "type": "scatter3d"
           }
          ],
          "scattercarpet": [
           {
            "marker": {
             "colorbar": {
              "outlinewidth": 0,
              "ticks": ""
             }
            },
            "type": "scattercarpet"
           }
          ],
          "scattergeo": [
           {
            "marker": {
             "colorbar": {
              "outlinewidth": 0,
              "ticks": ""
             }
            },
            "type": "scattergeo"
           }
          ],
          "scattergl": [
           {
            "marker": {
             "colorbar": {
              "outlinewidth": 0,
              "ticks": ""
             }
            },
            "type": "scattergl"
           }
          ],
          "scattermap": [
           {
            "marker": {
             "colorbar": {
              "outlinewidth": 0,
              "ticks": ""
             }
            },
            "type": "scattermap"
           }
          ],
          "scattermapbox": [
           {
            "marker": {
             "colorbar": {
              "outlinewidth": 0,
              "ticks": ""
             }
            },
            "type": "scattermapbox"
           }
          ],
          "scatterpolar": [
           {
            "marker": {
             "colorbar": {
              "outlinewidth": 0,
              "ticks": ""
             }
            },
            "type": "scatterpolar"
           }
          ],
          "scatterpolargl": [
           {
            "marker": {
             "colorbar": {
              "outlinewidth": 0,
              "ticks": ""
             }
            },
            "type": "scatterpolargl"
           }
          ],
          "scatterternary": [
           {
            "marker": {
             "colorbar": {
              "outlinewidth": 0,
              "ticks": ""
             }
            },
            "type": "scatterternary"
           }
          ],
          "surface": [
           {
            "colorbar": {
             "outlinewidth": 0,
             "ticks": ""
            },
            "colorscale": [
             [
              0,
              "#0d0887"
             ],
             [
              0.1111111111111111,
              "#46039f"
             ],
             [
              0.2222222222222222,
              "#7201a8"
             ],
             [
              0.3333333333333333,
              "#9c179e"
             ],
             [
              0.4444444444444444,
              "#bd3786"
             ],
             [
              0.5555555555555556,
              "#d8576b"
             ],
             [
              0.6666666666666666,
              "#ed7953"
             ],
             [
              0.7777777777777778,
              "#fb9f3a"
             ],
             [
              0.8888888888888888,
              "#fdca26"
             ],
             [
              1,
              "#f0f921"
             ]
            ],
            "type": "surface"
           }
          ],
          "table": [
           {
            "cells": {
             "fill": {
              "color": "#EBF0F8"
             },
             "line": {
              "color": "white"
             }
            },
            "header": {
             "fill": {
              "color": "#C8D4E3"
             },
             "line": {
              "color": "white"
             }
            },
            "type": "table"
           }
          ]
         },
         "layout": {
          "annotationdefaults": {
           "arrowcolor": "#2a3f5f",
           "arrowhead": 0,
           "arrowwidth": 1
          },
          "autotypenumbers": "strict",
          "coloraxis": {
           "colorbar": {
            "outlinewidth": 0,
            "ticks": ""
           }
          },
          "colorscale": {
           "diverging": [
            [
             0,
             "#8e0152"
            ],
            [
             0.1,
             "#c51b7d"
            ],
            [
             0.2,
             "#de77ae"
            ],
            [
             0.3,
             "#f1b6da"
            ],
            [
             0.4,
             "#fde0ef"
            ],
            [
             0.5,
             "#f7f7f7"
            ],
            [
             0.6,
             "#e6f5d0"
            ],
            [
             0.7,
             "#b8e186"
            ],
            [
             0.8,
             "#7fbc41"
            ],
            [
             0.9,
             "#4d9221"
            ],
            [
             1,
             "#276419"
            ]
           ],
           "sequential": [
            [
             0,
             "#0d0887"
            ],
            [
             0.1111111111111111,
             "#46039f"
            ],
            [
             0.2222222222222222,
             "#7201a8"
            ],
            [
             0.3333333333333333,
             "#9c179e"
            ],
            [
             0.4444444444444444,
             "#bd3786"
            ],
            [
             0.5555555555555556,
             "#d8576b"
            ],
            [
             0.6666666666666666,
             "#ed7953"
            ],
            [
             0.7777777777777778,
             "#fb9f3a"
            ],
            [
             0.8888888888888888,
             "#fdca26"
            ],
            [
             1,
             "#f0f921"
            ]
           ],
           "sequentialminus": [
            [
             0,
             "#0d0887"
            ],
            [
             0.1111111111111111,
             "#46039f"
            ],
            [
             0.2222222222222222,
             "#7201a8"
            ],
            [
             0.3333333333333333,
             "#9c179e"
            ],
            [
             0.4444444444444444,
             "#bd3786"
            ],
            [
             0.5555555555555556,
             "#d8576b"
            ],
            [
             0.6666666666666666,
             "#ed7953"
            ],
            [
             0.7777777777777778,
             "#fb9f3a"
            ],
            [
             0.8888888888888888,
             "#fdca26"
            ],
            [
             1,
             "#f0f921"
            ]
           ]
          },
          "colorway": [
           "#636efa",
           "#EF553B",
           "#00cc96",
           "#ab63fa",
           "#FFA15A",
           "#19d3f3",
           "#FF6692",
           "#B6E880",
           "#FF97FF",
           "#FECB52"
          ],
          "font": {
           "color": "#2a3f5f"
          },
          "geo": {
           "bgcolor": "white",
           "lakecolor": "white",
           "landcolor": "#E5ECF6",
           "showlakes": true,
           "showland": true,
           "subunitcolor": "white"
          },
          "hoverlabel": {
           "align": "left"
          },
          "hovermode": "closest",
          "mapbox": {
           "style": "light"
          },
          "paper_bgcolor": "white",
          "plot_bgcolor": "#E5ECF6",
          "polar": {
           "angularaxis": {
            "gridcolor": "white",
            "linecolor": "white",
            "ticks": ""
           },
           "bgcolor": "#E5ECF6",
           "radialaxis": {
            "gridcolor": "white",
            "linecolor": "white",
            "ticks": ""
           }
          },
          "scene": {
           "xaxis": {
            "backgroundcolor": "#E5ECF6",
            "gridcolor": "white",
            "gridwidth": 2,
            "linecolor": "white",
            "showbackground": true,
            "ticks": "",
            "zerolinecolor": "white"
           },
           "yaxis": {
            "backgroundcolor": "#E5ECF6",
            "gridcolor": "white",
            "gridwidth": 2,
            "linecolor": "white",
            "showbackground": true,
            "ticks": "",
            "zerolinecolor": "white"
           },
           "zaxis": {
            "backgroundcolor": "#E5ECF6",
            "gridcolor": "white",
            "gridwidth": 2,
            "linecolor": "white",
            "showbackground": true,
            "ticks": "",
            "zerolinecolor": "white"
           }
          },
          "shapedefaults": {
           "line": {
            "color": "#2a3f5f"
           }
          },
          "ternary": {
           "aaxis": {
            "gridcolor": "white",
            "linecolor": "white",
            "ticks": ""
           },
           "baxis": {
            "gridcolor": "white",
            "linecolor": "white",
            "ticks": ""
           },
           "bgcolor": "#E5ECF6",
           "caxis": {
            "gridcolor": "white",
            "linecolor": "white",
            "ticks": ""
           }
          },
          "title": {
           "x": 0.05
          },
          "xaxis": {
           "automargin": true,
           "gridcolor": "white",
           "linecolor": "white",
           "ticks": "",
           "title": {
            "standoff": 15
           },
           "zerolinecolor": "white",
           "zerolinewidth": 2
          },
          "yaxis": {
           "automargin": true,
           "gridcolor": "white",
           "linecolor": "white",
           "ticks": "",
           "title": {
            "standoff": 15
           },
           "zerolinecolor": "white",
           "zerolinewidth": 2
          }
         }
        },
        "title": {
         "text": "<b>Breakdown of Monetization Complaints</b>"
        },
        "treemapcolorway": [
         "rgb(103,0,13)",
         "rgb(165,15,21)",
         "rgb(203,24,29)",
         "rgb(239,59,44)",
         "rgb(251,106,74)",
         "rgb(252,146,114)",
         "rgb(252,187,161)",
         "rgb(254,224,210)",
         "rgb(255,245,240)"
        ]
       }
      }
     },
     "metadata": {},
     "output_type": "display_data"
    }
   ],
   "source": [
    "# Filter for the theme\n",
    "monetization_df = df_base[df_base[\"theme\"] == \"Monetization & Value\"]\n",
    "# Get the breakdown\n",
    "monetization_breakdown = monetization_df[\"topic_name\"].value_counts().reset_index()\n",
    "monetization_breakdown.columns = [\"Specific Complaint\", \"Review Count\"]\n",
    "\n",
    "# Visualize\n",
    "fig_monetization = px.treemap(\n",
    "    monetization_breakdown.head(10),\n",
    "    path=[px.Constant(\"Monetization Complaints\"), \"Specific Complaint\"],\n",
    "    values=\"Review Count\",\n",
    "    title=\"<b>Breakdown of Monetization Complaints</b>\",\n",
    "    color_discrete_sequence=px.colors.sequential.Reds_r,\n",
    ")\n",
    "fig_monetization.update_layout(margin=dict(t=50, l=25, r=25, b=25))\n",
    "fig_monetization.show()"
   ]
  },
  {
   "cell_type": "markdown",
   "metadata": {},
   "source": [
    "### Deep Dive 2: What Content Are Users Complaining About?"
   ]
  },
  {
   "cell_type": "code",
   "execution_count": 13,
   "metadata": {
    "execution": {
     "iopub.execute_input": "2025-07-22T11:33:21.229489Z",
     "iopub.status.busy": "2025-07-22T11:33:21.229325Z",
     "iopub.status.idle": "2025-07-22T11:33:21.311958Z",
     "shell.execute_reply": "2025-07-22T11:33:21.310962Z",
     "shell.execute_reply.started": "2025-07-22T11:33:21.229474Z"
    },
    "trusted": true
   },
   "outputs": [
    {
     "data": {
      "application/vnd.plotly.v1+json": {
       "config": {
        "plotlyServerURL": "https://plot.ly"
       },
       "data": [
        {
         "branchvalues": "total",
         "domain": {
          "x": [
           0,
           1
          ],
          "y": [
           0,
           1
          ]
         },
         "hovertemplate": "labels=%{label}<br>Review Count=%{value}<br>parent=%{parent}<br>id=%{id}<extra></extra>",
         "ids": [
          "Content Complaints/Meditation Content Issues",
          "Content Complaints/Soundscape & Audio Feature Issues",
          "Content Complaints/Issues with Sleep Content",
          "Content Complaints"
         ],
         "labels": [
          "Meditation Content Issues",
          "Soundscape & Audio Feature Issues",
          "Issues with Sleep Content",
          "Content Complaints"
         ],
         "name": "",
         "parents": [
          "Content Complaints",
          "Content Complaints",
          "Content Complaints",
          ""
         ],
         "type": "treemap",
         "values": {
          "bdata": "AAAAAAA4hUAAAAAAAKBgQAAAAAAAYGBAAAAAAAB4jUA=",
          "dtype": "f8"
         }
        }
       ],
       "layout": {
        "legend": {
         "tracegroupgap": 0
        },
        "margin": {
         "b": 25,
         "l": 25,
         "r": 25,
         "t": 50
        },
        "template": {
         "data": {
          "bar": [
           {
            "error_x": {
             "color": "#2a3f5f"
            },
            "error_y": {
             "color": "#2a3f5f"
            },
            "marker": {
             "line": {
              "color": "#E5ECF6",
              "width": 0.5
             },
             "pattern": {
              "fillmode": "overlay",
              "size": 10,
              "solidity": 0.2
             }
            },
            "type": "bar"
           }
          ],
          "barpolar": [
           {
            "marker": {
             "line": {
              "color": "#E5ECF6",
              "width": 0.5
             },
             "pattern": {
              "fillmode": "overlay",
              "size": 10,
              "solidity": 0.2
             }
            },
            "type": "barpolar"
           }
          ],
          "carpet": [
           {
            "aaxis": {
             "endlinecolor": "#2a3f5f",
             "gridcolor": "white",
             "linecolor": "white",
             "minorgridcolor": "white",
             "startlinecolor": "#2a3f5f"
            },
            "baxis": {
             "endlinecolor": "#2a3f5f",
             "gridcolor": "white",
             "linecolor": "white",
             "minorgridcolor": "white",
             "startlinecolor": "#2a3f5f"
            },
            "type": "carpet"
           }
          ],
          "choropleth": [
           {
            "colorbar": {
             "outlinewidth": 0,
             "ticks": ""
            },
            "type": "choropleth"
           }
          ],
          "contour": [
           {
            "colorbar": {
             "outlinewidth": 0,
             "ticks": ""
            },
            "colorscale": [
             [
              0,
              "#0d0887"
             ],
             [
              0.1111111111111111,
              "#46039f"
             ],
             [
              0.2222222222222222,
              "#7201a8"
             ],
             [
              0.3333333333333333,
              "#9c179e"
             ],
             [
              0.4444444444444444,
              "#bd3786"
             ],
             [
              0.5555555555555556,
              "#d8576b"
             ],
             [
              0.6666666666666666,
              "#ed7953"
             ],
             [
              0.7777777777777778,
              "#fb9f3a"
             ],
             [
              0.8888888888888888,
              "#fdca26"
             ],
             [
              1,
              "#f0f921"
             ]
            ],
            "type": "contour"
           }
          ],
          "contourcarpet": [
           {
            "colorbar": {
             "outlinewidth": 0,
             "ticks": ""
            },
            "type": "contourcarpet"
           }
          ],
          "heatmap": [
           {
            "colorbar": {
             "outlinewidth": 0,
             "ticks": ""
            },
            "colorscale": [
             [
              0,
              "#0d0887"
             ],
             [
              0.1111111111111111,
              "#46039f"
             ],
             [
              0.2222222222222222,
              "#7201a8"
             ],
             [
              0.3333333333333333,
              "#9c179e"
             ],
             [
              0.4444444444444444,
              "#bd3786"
             ],
             [
              0.5555555555555556,
              "#d8576b"
             ],
             [
              0.6666666666666666,
              "#ed7953"
             ],
             [
              0.7777777777777778,
              "#fb9f3a"
             ],
             [
              0.8888888888888888,
              "#fdca26"
             ],
             [
              1,
              "#f0f921"
             ]
            ],
            "type": "heatmap"
           }
          ],
          "histogram": [
           {
            "marker": {
             "pattern": {
              "fillmode": "overlay",
              "size": 10,
              "solidity": 0.2
             }
            },
            "type": "histogram"
           }
          ],
          "histogram2d": [
           {
            "colorbar": {
             "outlinewidth": 0,
             "ticks": ""
            },
            "colorscale": [
             [
              0,
              "#0d0887"
             ],
             [
              0.1111111111111111,
              "#46039f"
             ],
             [
              0.2222222222222222,
              "#7201a8"
             ],
             [
              0.3333333333333333,
              "#9c179e"
             ],
             [
              0.4444444444444444,
              "#bd3786"
             ],
             [
              0.5555555555555556,
              "#d8576b"
             ],
             [
              0.6666666666666666,
              "#ed7953"
             ],
             [
              0.7777777777777778,
              "#fb9f3a"
             ],
             [
              0.8888888888888888,
              "#fdca26"
             ],
             [
              1,
              "#f0f921"
             ]
            ],
            "type": "histogram2d"
           }
          ],
          "histogram2dcontour": [
           {
            "colorbar": {
             "outlinewidth": 0,
             "ticks": ""
            },
            "colorscale": [
             [
              0,
              "#0d0887"
             ],
             [
              0.1111111111111111,
              "#46039f"
             ],
             [
              0.2222222222222222,
              "#7201a8"
             ],
             [
              0.3333333333333333,
              "#9c179e"
             ],
             [
              0.4444444444444444,
              "#bd3786"
             ],
             [
              0.5555555555555556,
              "#d8576b"
             ],
             [
              0.6666666666666666,
              "#ed7953"
             ],
             [
              0.7777777777777778,
              "#fb9f3a"
             ],
             [
              0.8888888888888888,
              "#fdca26"
             ],
             [
              1,
              "#f0f921"
             ]
            ],
            "type": "histogram2dcontour"
           }
          ],
          "mesh3d": [
           {
            "colorbar": {
             "outlinewidth": 0,
             "ticks": ""
            },
            "type": "mesh3d"
           }
          ],
          "parcoords": [
           {
            "line": {
             "colorbar": {
              "outlinewidth": 0,
              "ticks": ""
             }
            },
            "type": "parcoords"
           }
          ],
          "pie": [
           {
            "automargin": true,
            "type": "pie"
           }
          ],
          "scatter": [
           {
            "fillpattern": {
             "fillmode": "overlay",
             "size": 10,
             "solidity": 0.2
            },
            "type": "scatter"
           }
          ],
          "scatter3d": [
           {
            "line": {
             "colorbar": {
              "outlinewidth": 0,
              "ticks": ""
             }
            },
            "marker": {
             "colorbar": {
              "outlinewidth": 0,
              "ticks": ""
             }
            },
            "type": "scatter3d"
           }
          ],
          "scattercarpet": [
           {
            "marker": {
             "colorbar": {
              "outlinewidth": 0,
              "ticks": ""
             }
            },
            "type": "scattercarpet"
           }
          ],
          "scattergeo": [
           {
            "marker": {
             "colorbar": {
              "outlinewidth": 0,
              "ticks": ""
             }
            },
            "type": "scattergeo"
           }
          ],
          "scattergl": [
           {
            "marker": {
             "colorbar": {
              "outlinewidth": 0,
              "ticks": ""
             }
            },
            "type": "scattergl"
           }
          ],
          "scattermap": [
           {
            "marker": {
             "colorbar": {
              "outlinewidth": 0,
              "ticks": ""
             }
            },
            "type": "scattermap"
           }
          ],
          "scattermapbox": [
           {
            "marker": {
             "colorbar": {
              "outlinewidth": 0,
              "ticks": ""
             }
            },
            "type": "scattermapbox"
           }
          ],
          "scatterpolar": [
           {
            "marker": {
             "colorbar": {
              "outlinewidth": 0,
              "ticks": ""
             }
            },
            "type": "scatterpolar"
           }
          ],
          "scatterpolargl": [
           {
            "marker": {
             "colorbar": {
              "outlinewidth": 0,
              "ticks": ""
             }
            },
            "type": "scatterpolargl"
           }
          ],
          "scatterternary": [
           {
            "marker": {
             "colorbar": {
              "outlinewidth": 0,
              "ticks": ""
             }
            },
            "type": "scatterternary"
           }
          ],
          "surface": [
           {
            "colorbar": {
             "outlinewidth": 0,
             "ticks": ""
            },
            "colorscale": [
             [
              0,
              "#0d0887"
             ],
             [
              0.1111111111111111,
              "#46039f"
             ],
             [
              0.2222222222222222,
              "#7201a8"
             ],
             [
              0.3333333333333333,
              "#9c179e"
             ],
             [
              0.4444444444444444,
              "#bd3786"
             ],
             [
              0.5555555555555556,
              "#d8576b"
             ],
             [
              0.6666666666666666,
              "#ed7953"
             ],
             [
              0.7777777777777778,
              "#fb9f3a"
             ],
             [
              0.8888888888888888,
              "#fdca26"
             ],
             [
              1,
              "#f0f921"
             ]
            ],
            "type": "surface"
           }
          ],
          "table": [
           {
            "cells": {
             "fill": {
              "color": "#EBF0F8"
             },
             "line": {
              "color": "white"
             }
            },
            "header": {
             "fill": {
              "color": "#C8D4E3"
             },
             "line": {
              "color": "white"
             }
            },
            "type": "table"
           }
          ]
         },
         "layout": {
          "annotationdefaults": {
           "arrowcolor": "#2a3f5f",
           "arrowhead": 0,
           "arrowwidth": 1
          },
          "autotypenumbers": "strict",
          "coloraxis": {
           "colorbar": {
            "outlinewidth": 0,
            "ticks": ""
           }
          },
          "colorscale": {
           "diverging": [
            [
             0,
             "#8e0152"
            ],
            [
             0.1,
             "#c51b7d"
            ],
            [
             0.2,
             "#de77ae"
            ],
            [
             0.3,
             "#f1b6da"
            ],
            [
             0.4,
             "#fde0ef"
            ],
            [
             0.5,
             "#f7f7f7"
            ],
            [
             0.6,
             "#e6f5d0"
            ],
            [
             0.7,
             "#b8e186"
            ],
            [
             0.8,
             "#7fbc41"
            ],
            [
             0.9,
             "#4d9221"
            ],
            [
             1,
             "#276419"
            ]
           ],
           "sequential": [
            [
             0,
             "#0d0887"
            ],
            [
             0.1111111111111111,
             "#46039f"
            ],
            [
             0.2222222222222222,
             "#7201a8"
            ],
            [
             0.3333333333333333,
             "#9c179e"
            ],
            [
             0.4444444444444444,
             "#bd3786"
            ],
            [
             0.5555555555555556,
             "#d8576b"
            ],
            [
             0.6666666666666666,
             "#ed7953"
            ],
            [
             0.7777777777777778,
             "#fb9f3a"
            ],
            [
             0.8888888888888888,
             "#fdca26"
            ],
            [
             1,
             "#f0f921"
            ]
           ],
           "sequentialminus": [
            [
             0,
             "#0d0887"
            ],
            [
             0.1111111111111111,
             "#46039f"
            ],
            [
             0.2222222222222222,
             "#7201a8"
            ],
            [
             0.3333333333333333,
             "#9c179e"
            ],
            [
             0.4444444444444444,
             "#bd3786"
            ],
            [
             0.5555555555555556,
             "#d8576b"
            ],
            [
             0.6666666666666666,
             "#ed7953"
            ],
            [
             0.7777777777777778,
             "#fb9f3a"
            ],
            [
             0.8888888888888888,
             "#fdca26"
            ],
            [
             1,
             "#f0f921"
            ]
           ]
          },
          "colorway": [
           "#636efa",
           "#EF553B",
           "#00cc96",
           "#ab63fa",
           "#FFA15A",
           "#19d3f3",
           "#FF6692",
           "#B6E880",
           "#FF97FF",
           "#FECB52"
          ],
          "font": {
           "color": "#2a3f5f"
          },
          "geo": {
           "bgcolor": "white",
           "lakecolor": "white",
           "landcolor": "#E5ECF6",
           "showlakes": true,
           "showland": true,
           "subunitcolor": "white"
          },
          "hoverlabel": {
           "align": "left"
          },
          "hovermode": "closest",
          "mapbox": {
           "style": "light"
          },
          "paper_bgcolor": "white",
          "plot_bgcolor": "#E5ECF6",
          "polar": {
           "angularaxis": {
            "gridcolor": "white",
            "linecolor": "white",
            "ticks": ""
           },
           "bgcolor": "#E5ECF6",
           "radialaxis": {
            "gridcolor": "white",
            "linecolor": "white",
            "ticks": ""
           }
          },
          "scene": {
           "xaxis": {
            "backgroundcolor": "#E5ECF6",
            "gridcolor": "white",
            "gridwidth": 2,
            "linecolor": "white",
            "showbackground": true,
            "ticks": "",
            "zerolinecolor": "white"
           },
           "yaxis": {
            "backgroundcolor": "#E5ECF6",
            "gridcolor": "white",
            "gridwidth": 2,
            "linecolor": "white",
            "showbackground": true,
            "ticks": "",
            "zerolinecolor": "white"
           },
           "zaxis": {
            "backgroundcolor": "#E5ECF6",
            "gridcolor": "white",
            "gridwidth": 2,
            "linecolor": "white",
            "showbackground": true,
            "ticks": "",
            "zerolinecolor": "white"
           }
          },
          "shapedefaults": {
           "line": {
            "color": "#2a3f5f"
           }
          },
          "ternary": {
           "aaxis": {
            "gridcolor": "white",
            "linecolor": "white",
            "ticks": ""
           },
           "baxis": {
            "gridcolor": "white",
            "linecolor": "white",
            "ticks": ""
           },
           "bgcolor": "#E5ECF6",
           "caxis": {
            "gridcolor": "white",
            "linecolor": "white",
            "ticks": ""
           }
          },
          "title": {
           "x": 0.05
          },
          "xaxis": {
           "automargin": true,
           "gridcolor": "white",
           "linecolor": "white",
           "ticks": "",
           "title": {
            "standoff": 15
           },
           "zerolinecolor": "white",
           "zerolinewidth": 2
          },
          "yaxis": {
           "automargin": true,
           "gridcolor": "white",
           "linecolor": "white",
           "ticks": "",
           "title": {
            "standoff": 15
           },
           "zerolinecolor": "white",
           "zerolinewidth": 2
          }
         }
        },
        "title": {
         "text": "<b>Breakdown of Content-Specific Complaints</b>"
        },
        "treemapcolorway": [
         "rgb(8,48,107)",
         "rgb(8,81,156)",
         "rgb(33,113,181)",
         "rgb(66,146,198)",
         "rgb(107,174,214)",
         "rgb(158,202,225)",
         "rgb(198,219,239)",
         "rgb(222,235,247)",
         "rgb(247,251,255)"
        ]
       }
      }
     },
     "metadata": {},
     "output_type": "display_data"
    }
   ],
   "source": [
    "# Filter for the theme\n",
    "content_df = df_base[df_base[\"theme\"] == \"Content-Specific Issues\"]\n",
    "# Get the breakdown\n",
    "content_breakdown = content_df[\"topic_name\"].value_counts().reset_index()\n",
    "content_breakdown.columns = [\"Specific Complaint\", \"Review Count\"]\n",
    "\n",
    "# Visualize\n",
    "fig_content = px.treemap(\n",
    "    content_breakdown.head(10),\n",
    "    path=[px.Constant(\"Content Complaints\"), \"Specific Complaint\"],\n",
    "    values=\"Review Count\",\n",
    "    title=\"<b>Breakdown of Content-Specific Complaints</b>\",\n",
    "    color_discrete_sequence=px.colors.sequential.Blues_r,\n",
    ")\n",
    "fig_content.update_layout(margin=dict(t=50, l=25, r=25, b=25))\n",
    "fig_content.show()"
   ]
  },
  {
   "cell_type": "markdown",
   "metadata": {},
   "source": [
    "### Deep Dive 3: What Technical Problems Are Users Facing?"
   ]
  },
  {
   "cell_type": "code",
   "execution_count": 14,
   "metadata": {
    "execution": {
     "iopub.execute_input": "2025-07-21T09:24:29.340494Z",
     "iopub.status.busy": "2025-07-21T09:24:29.340265Z",
     "iopub.status.idle": "2025-07-21T09:24:29.405211Z",
     "shell.execute_reply": "2025-07-21T09:24:29.404517Z",
     "shell.execute_reply.started": "2025-07-21T09:24:29.340476Z"
    },
    "trusted": true
   },
   "outputs": [
    {
     "data": {
      "application/vnd.plotly.v1+json": {
       "config": {
        "plotlyServerURL": "https://plot.ly"
       },
       "data": [
        {
         "branchvalues": "total",
         "domain": {
          "x": [
           0,
           1
          ],
          "y": [
           0,
           1
          ]
         },
         "hovertemplate": "labels=%{label}<br>Review Count=%{value}<br>parent=%{parent}<br>id=%{id}<extra></extra>",
         "ids": [
          "Technical Complaints/Technical: App Crashing / Not Opening",
          "Technical Complaints/Technical Issues with Wearables (Watch)",
          "Technical Complaints"
         ],
         "labels": [
          "Technical: App Crashing / Not Opening",
          "Technical Issues with Wearables (Watch)",
          "Technical Complaints"
         ],
         "name": "",
         "parents": [
          "Technical Complaints",
          "Technical Complaints",
          ""
         ],
         "type": "treemap",
         "values": {
          "bdata": "AAAAAABga0AAAAAAAABEQAAAAAAAMHBA",
          "dtype": "f8"
         }
        }
       ],
       "layout": {
        "legend": {
         "tracegroupgap": 0
        },
        "margin": {
         "b": 25,
         "l": 25,
         "r": 25,
         "t": 50
        },
        "template": {
         "data": {
          "bar": [
           {
            "error_x": {
             "color": "#2a3f5f"
            },
            "error_y": {
             "color": "#2a3f5f"
            },
            "marker": {
             "line": {
              "color": "#E5ECF6",
              "width": 0.5
             },
             "pattern": {
              "fillmode": "overlay",
              "size": 10,
              "solidity": 0.2
             }
            },
            "type": "bar"
           }
          ],
          "barpolar": [
           {
            "marker": {
             "line": {
              "color": "#E5ECF6",
              "width": 0.5
             },
             "pattern": {
              "fillmode": "overlay",
              "size": 10,
              "solidity": 0.2
             }
            },
            "type": "barpolar"
           }
          ],
          "carpet": [
           {
            "aaxis": {
             "endlinecolor": "#2a3f5f",
             "gridcolor": "white",
             "linecolor": "white",
             "minorgridcolor": "white",
             "startlinecolor": "#2a3f5f"
            },
            "baxis": {
             "endlinecolor": "#2a3f5f",
             "gridcolor": "white",
             "linecolor": "white",
             "minorgridcolor": "white",
             "startlinecolor": "#2a3f5f"
            },
            "type": "carpet"
           }
          ],
          "choropleth": [
           {
            "colorbar": {
             "outlinewidth": 0,
             "ticks": ""
            },
            "type": "choropleth"
           }
          ],
          "contour": [
           {
            "colorbar": {
             "outlinewidth": 0,
             "ticks": ""
            },
            "colorscale": [
             [
              0,
              "#0d0887"
             ],
             [
              0.1111111111111111,
              "#46039f"
             ],
             [
              0.2222222222222222,
              "#7201a8"
             ],
             [
              0.3333333333333333,
              "#9c179e"
             ],
             [
              0.4444444444444444,
              "#bd3786"
             ],
             [
              0.5555555555555556,
              "#d8576b"
             ],
             [
              0.6666666666666666,
              "#ed7953"
             ],
             [
              0.7777777777777778,
              "#fb9f3a"
             ],
             [
              0.8888888888888888,
              "#fdca26"
             ],
             [
              1,
              "#f0f921"
             ]
            ],
            "type": "contour"
           }
          ],
          "contourcarpet": [
           {
            "colorbar": {
             "outlinewidth": 0,
             "ticks": ""
            },
            "type": "contourcarpet"
           }
          ],
          "heatmap": [
           {
            "colorbar": {
             "outlinewidth": 0,
             "ticks": ""
            },
            "colorscale": [
             [
              0,
              "#0d0887"
             ],
             [
              0.1111111111111111,
              "#46039f"
             ],
             [
              0.2222222222222222,
              "#7201a8"
             ],
             [
              0.3333333333333333,
              "#9c179e"
             ],
             [
              0.4444444444444444,
              "#bd3786"
             ],
             [
              0.5555555555555556,
              "#d8576b"
             ],
             [
              0.6666666666666666,
              "#ed7953"
             ],
             [
              0.7777777777777778,
              "#fb9f3a"
             ],
             [
              0.8888888888888888,
              "#fdca26"
             ],
             [
              1,
              "#f0f921"
             ]
            ],
            "type": "heatmap"
           }
          ],
          "histogram": [
           {
            "marker": {
             "pattern": {
              "fillmode": "overlay",
              "size": 10,
              "solidity": 0.2
             }
            },
            "type": "histogram"
           }
          ],
          "histogram2d": [
           {
            "colorbar": {
             "outlinewidth": 0,
             "ticks": ""
            },
            "colorscale": [
             [
              0,
              "#0d0887"
             ],
             [
              0.1111111111111111,
              "#46039f"
             ],
             [
              0.2222222222222222,
              "#7201a8"
             ],
             [
              0.3333333333333333,
              "#9c179e"
             ],
             [
              0.4444444444444444,
              "#bd3786"
             ],
             [
              0.5555555555555556,
              "#d8576b"
             ],
             [
              0.6666666666666666,
              "#ed7953"
             ],
             [
              0.7777777777777778,
              "#fb9f3a"
             ],
             [
              0.8888888888888888,
              "#fdca26"
             ],
             [
              1,
              "#f0f921"
             ]
            ],
            "type": "histogram2d"
           }
          ],
          "histogram2dcontour": [
           {
            "colorbar": {
             "outlinewidth": 0,
             "ticks": ""
            },
            "colorscale": [
             [
              0,
              "#0d0887"
             ],
             [
              0.1111111111111111,
              "#46039f"
             ],
             [
              0.2222222222222222,
              "#7201a8"
             ],
             [
              0.3333333333333333,
              "#9c179e"
             ],
             [
              0.4444444444444444,
              "#bd3786"
             ],
             [
              0.5555555555555556,
              "#d8576b"
             ],
             [
              0.6666666666666666,
              "#ed7953"
             ],
             [
              0.7777777777777778,
              "#fb9f3a"
             ],
             [
              0.8888888888888888,
              "#fdca26"
             ],
             [
              1,
              "#f0f921"
             ]
            ],
            "type": "histogram2dcontour"
           }
          ],
          "mesh3d": [
           {
            "colorbar": {
             "outlinewidth": 0,
             "ticks": ""
            },
            "type": "mesh3d"
           }
          ],
          "parcoords": [
           {
            "line": {
             "colorbar": {
              "outlinewidth": 0,
              "ticks": ""
             }
            },
            "type": "parcoords"
           }
          ],
          "pie": [
           {
            "automargin": true,
            "type": "pie"
           }
          ],
          "scatter": [
           {
            "fillpattern": {
             "fillmode": "overlay",
             "size": 10,
             "solidity": 0.2
            },
            "type": "scatter"
           }
          ],
          "scatter3d": [
           {
            "line": {
             "colorbar": {
              "outlinewidth": 0,
              "ticks": ""
             }
            },
            "marker": {
             "colorbar": {
              "outlinewidth": 0,
              "ticks": ""
             }
            },
            "type": "scatter3d"
           }
          ],
          "scattercarpet": [
           {
            "marker": {
             "colorbar": {
              "outlinewidth": 0,
              "ticks": ""
             }
            },
            "type": "scattercarpet"
           }
          ],
          "scattergeo": [
           {
            "marker": {
             "colorbar": {
              "outlinewidth": 0,
              "ticks": ""
             }
            },
            "type": "scattergeo"
           }
          ],
          "scattergl": [
           {
            "marker": {
             "colorbar": {
              "outlinewidth": 0,
              "ticks": ""
             }
            },
            "type": "scattergl"
           }
          ],
          "scattermap": [
           {
            "marker": {
             "colorbar": {
              "outlinewidth": 0,
              "ticks": ""
             }
            },
            "type": "scattermap"
           }
          ],
          "scattermapbox": [
           {
            "marker": {
             "colorbar": {
              "outlinewidth": 0,
              "ticks": ""
             }
            },
            "type": "scattermapbox"
           }
          ],
          "scatterpolar": [
           {
            "marker": {
             "colorbar": {
              "outlinewidth": 0,
              "ticks": ""
             }
            },
            "type": "scatterpolar"
           }
          ],
          "scatterpolargl": [
           {
            "marker": {
             "colorbar": {
              "outlinewidth": 0,
              "ticks": ""
             }
            },
            "type": "scatterpolargl"
           }
          ],
          "scatterternary": [
           {
            "marker": {
             "colorbar": {
              "outlinewidth": 0,
              "ticks": ""
             }
            },
            "type": "scatterternary"
           }
          ],
          "surface": [
           {
            "colorbar": {
             "outlinewidth": 0,
             "ticks": ""
            },
            "colorscale": [
             [
              0,
              "#0d0887"
             ],
             [
              0.1111111111111111,
              "#46039f"
             ],
             [
              0.2222222222222222,
              "#7201a8"
             ],
             [
              0.3333333333333333,
              "#9c179e"
             ],
             [
              0.4444444444444444,
              "#bd3786"
             ],
             [
              0.5555555555555556,
              "#d8576b"
             ],
             [
              0.6666666666666666,
              "#ed7953"
             ],
             [
              0.7777777777777778,
              "#fb9f3a"
             ],
             [
              0.8888888888888888,
              "#fdca26"
             ],
             [
              1,
              "#f0f921"
             ]
            ],
            "type": "surface"
           }
          ],
          "table": [
           {
            "cells": {
             "fill": {
              "color": "#EBF0F8"
             },
             "line": {
              "color": "white"
             }
            },
            "header": {
             "fill": {
              "color": "#C8D4E3"
             },
             "line": {
              "color": "white"
             }
            },
            "type": "table"
           }
          ]
         },
         "layout": {
          "annotationdefaults": {
           "arrowcolor": "#2a3f5f",
           "arrowhead": 0,
           "arrowwidth": 1
          },
          "autotypenumbers": "strict",
          "coloraxis": {
           "colorbar": {
            "outlinewidth": 0,
            "ticks": ""
           }
          },
          "colorscale": {
           "diverging": [
            [
             0,
             "#8e0152"
            ],
            [
             0.1,
             "#c51b7d"
            ],
            [
             0.2,
             "#de77ae"
            ],
            [
             0.3,
             "#f1b6da"
            ],
            [
             0.4,
             "#fde0ef"
            ],
            [
             0.5,
             "#f7f7f7"
            ],
            [
             0.6,
             "#e6f5d0"
            ],
            [
             0.7,
             "#b8e186"
            ],
            [
             0.8,
             "#7fbc41"
            ],
            [
             0.9,
             "#4d9221"
            ],
            [
             1,
             "#276419"
            ]
           ],
           "sequential": [
            [
             0,
             "#0d0887"
            ],
            [
             0.1111111111111111,
             "#46039f"
            ],
            [
             0.2222222222222222,
             "#7201a8"
            ],
            [
             0.3333333333333333,
             "#9c179e"
            ],
            [
             0.4444444444444444,
             "#bd3786"
            ],
            [
             0.5555555555555556,
             "#d8576b"
            ],
            [
             0.6666666666666666,
             "#ed7953"
            ],
            [
             0.7777777777777778,
             "#fb9f3a"
            ],
            [
             0.8888888888888888,
             "#fdca26"
            ],
            [
             1,
             "#f0f921"
            ]
           ],
           "sequentialminus": [
            [
             0,
             "#0d0887"
            ],
            [
             0.1111111111111111,
             "#46039f"
            ],
            [
             0.2222222222222222,
             "#7201a8"
            ],
            [
             0.3333333333333333,
             "#9c179e"
            ],
            [
             0.4444444444444444,
             "#bd3786"
            ],
            [
             0.5555555555555556,
             "#d8576b"
            ],
            [
             0.6666666666666666,
             "#ed7953"
            ],
            [
             0.7777777777777778,
             "#fb9f3a"
            ],
            [
             0.8888888888888888,
             "#fdca26"
            ],
            [
             1,
             "#f0f921"
            ]
           ]
          },
          "colorway": [
           "#636efa",
           "#EF553B",
           "#00cc96",
           "#ab63fa",
           "#FFA15A",
           "#19d3f3",
           "#FF6692",
           "#B6E880",
           "#FF97FF",
           "#FECB52"
          ],
          "font": {
           "color": "#2a3f5f"
          },
          "geo": {
           "bgcolor": "white",
           "lakecolor": "white",
           "landcolor": "#E5ECF6",
           "showlakes": true,
           "showland": true,
           "subunitcolor": "white"
          },
          "hoverlabel": {
           "align": "left"
          },
          "hovermode": "closest",
          "mapbox": {
           "style": "light"
          },
          "paper_bgcolor": "white",
          "plot_bgcolor": "#E5ECF6",
          "polar": {
           "angularaxis": {
            "gridcolor": "white",
            "linecolor": "white",
            "ticks": ""
           },
           "bgcolor": "#E5ECF6",
           "radialaxis": {
            "gridcolor": "white",
            "linecolor": "white",
            "ticks": ""
           }
          },
          "scene": {
           "xaxis": {
            "backgroundcolor": "#E5ECF6",
            "gridcolor": "white",
            "gridwidth": 2,
            "linecolor": "white",
            "showbackground": true,
            "ticks": "",
            "zerolinecolor": "white"
           },
           "yaxis": {
            "backgroundcolor": "#E5ECF6",
            "gridcolor": "white",
            "gridwidth": 2,
            "linecolor": "white",
            "showbackground": true,
            "ticks": "",
            "zerolinecolor": "white"
           },
           "zaxis": {
            "backgroundcolor": "#E5ECF6",
            "gridcolor": "white",
            "gridwidth": 2,
            "linecolor": "white",
            "showbackground": true,
            "ticks": "",
            "zerolinecolor": "white"
           }
          },
          "shapedefaults": {
           "line": {
            "color": "#2a3f5f"
           }
          },
          "ternary": {
           "aaxis": {
            "gridcolor": "white",
            "linecolor": "white",
            "ticks": ""
           },
           "baxis": {
            "gridcolor": "white",
            "linecolor": "white",
            "ticks": ""
           },
           "bgcolor": "#E5ECF6",
           "caxis": {
            "gridcolor": "white",
            "linecolor": "white",
            "ticks": ""
           }
          },
          "title": {
           "x": 0.05
          },
          "xaxis": {
           "automargin": true,
           "gridcolor": "white",
           "linecolor": "white",
           "ticks": "",
           "title": {
            "standoff": 15
           },
           "zerolinecolor": "white",
           "zerolinewidth": 2
          },
          "yaxis": {
           "automargin": true,
           "gridcolor": "white",
           "linecolor": "white",
           "ticks": "",
           "title": {
            "standoff": 15
           },
           "zerolinecolor": "white",
           "zerolinewidth": 2
          }
         }
        },
        "title": {
         "text": "<b>Breakdown of Technical Performance Complaints</b>"
        },
        "treemapcolorway": [
         "rgb(0,68,27)",
         "rgb(0,109,44)",
         "rgb(35,139,69)",
         "rgb(65,171,93)",
         "rgb(116,196,118)",
         "rgb(161,217,155)",
         "rgb(199,233,192)",
         "rgb(229,245,224)",
         "rgb(247,252,245)"
        ]
       }
      }
     },
     "metadata": {},
     "output_type": "display_data"
    }
   ],
   "source": [
    "# Filter for the theme\n",
    "technical_df = df_base[df_base[\"theme\"] == \"Technical Performance\"]\n",
    "# Get the breakdown\n",
    "technical_breakdown = technical_df[\"topic_name\"].value_counts().reset_index()\n",
    "technical_breakdown.columns = [\"Specific Complaint\", \"Review Count\"]\n",
    "\n",
    "# Visualize\n",
    "fig_technical = px.treemap(\n",
    "    technical_breakdown.head(10),\n",
    "    path=[px.Constant(\"Technical Complaints\"), \"Specific Complaint\"],\n",
    "    values=\"Review Count\",\n",
    "    title=\"<b>Breakdown of Technical Performance Complaints</b>\",\n",
    "    color_discrete_sequence=px.colors.sequential.Greens_r,\n",
    ")\n",
    "fig_technical.update_layout(margin=dict(t=50, l=25, r=25, b=25))\n",
    "fig_technical.show()"
   ]
  },
  {
   "cell_type": "markdown",
   "metadata": {},
   "source": []
  },
  {
   "cell_type": "code",
   "execution_count": 15,
   "metadata": {
    "execution": {
     "iopub.execute_input": "2025-07-21T09:24:29.406234Z",
     "iopub.status.busy": "2025-07-21T09:24:29.405914Z",
     "iopub.status.idle": "2025-07-21T09:24:29.524875Z",
     "shell.execute_reply": "2025-07-21T09:24:29.524049Z",
     "shell.execute_reply.started": "2025-07-21T09:24:29.406216Z"
    },
    "trusted": true
   },
   "outputs": [
    {
     "name": "stdout",
     "output_type": "stream",
     "text": [
      "Creating a hierarchical Sunburst chart to show theme breakdowns...\n"
     ]
    },
    {
     "data": {
      "application/vnd.plotly.v1+json": {
       "config": {
        "plotlyServerURL": "https://plot.ly"
       },
       "data": [
        {
         "branchvalues": "total",
         "customdata": [
          [
           "Content-Specific Issues"
          ],
          [
           "Content-Specific Issues"
          ],
          [
           "Content-Specific Issues"
          ],
          [
           "Content-Specific Issues"
          ],
          [
           "Monetization & Value"
          ],
          [
           "Monetization & Value"
          ],
          [
           "Monetization & Value"
          ],
          [
           "Monetization & Value"
          ],
          [
           "Monetization & Value"
          ],
          [
           "Monetization & Value"
          ],
          [
           "Monetization & Value"
          ],
          [
           "Monetization & Value"
          ],
          [
           "Monetization & Value"
          ],
          [
           "Monetization & Value"
          ],
          [
           "Monetization & Value"
          ],
          [
           "Monetization & Value"
          ],
          [
           "Monetization & Value"
          ],
          [
           "Monetization & Value"
          ],
          [
           "Monetization & Value"
          ],
          [
           "Monetization & Value"
          ],
          [
           "Monetization & Value"
          ],
          [
           "Monetization & Value"
          ],
          [
           "Monetization & Value"
          ],
          [
           "Monetization & Value"
          ],
          [
           "Technical Performance"
          ],
          [
           "Technical Performance"
          ],
          [
           "Technical Performance"
          ]
         ],
         "domain": {
          "x": [
           0,
           1
          ],
          "y": [
           0,
           1
          ]
         },
         "hovertemplate": "labels=%{label}<br>count=%{value}<br>parent=%{parent}<br>id=%{id}<br>theme=%{customdata[0]}<extra></extra>",
         "ids": [
          "Content-Specific Issues/Issues with Sleep Content",
          "Content-Specific Issues/Meditation Content Issues",
          "Content-Specific Issues/Soundscape & Audio Feature Issues",
          "Content-Specific Issues",
          "Monetization & Value/Subscription Cancellation Problems",
          "Monetization & Value/Subscription Cancellation",
          "Monetization & Value/Refund & Billing Issues",
          "Monetization & Value/Price is Too Expensive ($70/year)",
          "Monetization & Value/Price is Too Expensive",
          "Monetization & Value/Perceived as a Scam",
          "Monetization & Value/Paywalled Sleep Content",
          "Monetization & Value/Paywalled Audio & Music",
          "Monetization & Value",
          "Monetization & Value/Paywall & Lack of Free Content",
          "Monetization & Value/Free Version is Useless",
          "Monetization & Value/Free Trial Complaints & Charges",
          "Monetization & Value/Free Trial Complaints",
          "Monetization & Value/Forced Subscription to Use",
          "Monetization & Value/Features Locked Behind Paywall",
          "Monetization & Value/False Advertising",
          "Monetization & Value/Exploiting Anxiety for Money",
          "Monetization & Value/Content Available Free on YouTube",
          "Monetization & Value/App Uninstalled Due to Cost",
          "Monetization & Value/Misleading 'Free' Label",
          "Technical Performance/Technical Issues with Wearables (Watch)",
          "Technical Performance/Technical: App Crashing / Not Opening",
          "Technical Performance"
         ],
         "labels": [
          "Issues with Sleep Content",
          "Meditation Content Issues",
          "Soundscape & Audio Feature Issues",
          "Content-Specific Issues",
          "Subscription Cancellation Problems",
          "Subscription Cancellation",
          "Refund & Billing Issues",
          "Price is Too Expensive ($70/year)",
          "Price is Too Expensive",
          "Perceived as a Scam",
          "Paywalled Sleep Content",
          "Paywalled Audio & Music",
          "Monetization & Value",
          "Paywall & Lack of Free Content",
          "Free Version is Useless",
          "Free Trial Complaints & Charges",
          "Free Trial Complaints",
          "Forced Subscription to Use",
          "Features Locked Behind Paywall",
          "False Advertising",
          "Exploiting Anxiety for Money",
          "Content Available Free on YouTube",
          "App Uninstalled Due to Cost",
          "Misleading 'Free' Label",
          "Technical Issues with Wearables (Watch)",
          "Technical: App Crashing / Not Opening",
          "Technical Performance"
         ],
         "marker": {
          "colors": [
           "rgb(102, 197, 204)",
           "rgb(102, 197, 204)",
           "rgb(102, 197, 204)",
           "rgb(102, 197, 204)",
           "rgb(246, 207, 113)",
           "rgb(246, 207, 113)",
           "rgb(246, 207, 113)",
           "rgb(246, 207, 113)",
           "rgb(246, 207, 113)",
           "rgb(246, 207, 113)",
           "rgb(246, 207, 113)",
           "rgb(246, 207, 113)",
           "rgb(246, 207, 113)",
           "rgb(246, 207, 113)",
           "rgb(246, 207, 113)",
           "rgb(246, 207, 113)",
           "rgb(246, 207, 113)",
           "rgb(246, 207, 113)",
           "rgb(246, 207, 113)",
           "rgb(246, 207, 113)",
           "rgb(246, 207, 113)",
           "rgb(246, 207, 113)",
           "rgb(246, 207, 113)",
           "rgb(246, 207, 113)",
           "rgb(248, 156, 116)",
           "rgb(248, 156, 116)",
           "rgb(248, 156, 116)"
          ]
         },
         "name": "",
         "parents": [
          "Content-Specific Issues",
          "Content-Specific Issues",
          "Content-Specific Issues",
          "",
          "Monetization & Value",
          "Monetization & Value",
          "Monetization & Value",
          "Monetization & Value",
          "Monetization & Value",
          "Monetization & Value",
          "Monetization & Value",
          "Monetization & Value",
          "",
          "Monetization & Value",
          "Monetization & Value",
          "Monetization & Value",
          "Monetization & Value",
          "Monetization & Value",
          "Monetization & Value",
          "Monetization & Value",
          "Monetization & Value",
          "Monetization & Value",
          "Monetization & Value",
          "Monetization & Value",
          "Technical Performance",
          "Technical Performance",
          ""
         ],
         "type": "sunburst",
         "values": {
          "bdata": "AAAAAABgYEAAAAAAADiFQAAAAAAAoGBAAAAAAAB4jUAAAAAAAMBeQAAAAAAAQGdAAAAAAAAgckAAAAAAAABCQAAAAAAAwFhAAAAAAAAAQkAAAAAAAABHQAAAAAAA4G1AAAAAAADxsUAAAAAAAKidQAAAAAAAAFNAAAAAAACAfkAAAAAAACB5QAAAAAAAQGJAAAAAAAAAUEAAAAAAAABdQAAAAAAAAE1AAAAAAABAXUAAAAAAAABKQAAAAAAAQF5AAAAAAAAAREAAAAAAAGBrQAAAAAAAMHBA",
          "dtype": "f8"
         }
        }
       ],
       "layout": {
        "legend": {
         "tracegroupgap": 0
        },
        "margin": {
         "b": 25,
         "l": 25,
         "r": 25,
         "t": 50
        },
        "sunburstcolorway": [
         "rgb(102, 197, 204)",
         "rgb(246, 207, 113)",
         "rgb(248, 156, 116)",
         "rgb(220, 176, 242)",
         "rgb(135, 197, 95)",
         "rgb(158, 185, 243)",
         "rgb(254, 136, 177)",
         "rgb(201, 219, 116)",
         "rgb(139, 224, 164)",
         "rgb(180, 151, 231)",
         "rgb(179, 179, 179)"
        ],
        "template": {
         "data": {
          "bar": [
           {
            "error_x": {
             "color": "#2a3f5f"
            },
            "error_y": {
             "color": "#2a3f5f"
            },
            "marker": {
             "line": {
              "color": "#E5ECF6",
              "width": 0.5
             },
             "pattern": {
              "fillmode": "overlay",
              "size": 10,
              "solidity": 0.2
             }
            },
            "type": "bar"
           }
          ],
          "barpolar": [
           {
            "marker": {
             "line": {
              "color": "#E5ECF6",
              "width": 0.5
             },
             "pattern": {
              "fillmode": "overlay",
              "size": 10,
              "solidity": 0.2
             }
            },
            "type": "barpolar"
           }
          ],
          "carpet": [
           {
            "aaxis": {
             "endlinecolor": "#2a3f5f",
             "gridcolor": "white",
             "linecolor": "white",
             "minorgridcolor": "white",
             "startlinecolor": "#2a3f5f"
            },
            "baxis": {
             "endlinecolor": "#2a3f5f",
             "gridcolor": "white",
             "linecolor": "white",
             "minorgridcolor": "white",
             "startlinecolor": "#2a3f5f"
            },
            "type": "carpet"
           }
          ],
          "choropleth": [
           {
            "colorbar": {
             "outlinewidth": 0,
             "ticks": ""
            },
            "type": "choropleth"
           }
          ],
          "contour": [
           {
            "colorbar": {
             "outlinewidth": 0,
             "ticks": ""
            },
            "colorscale": [
             [
              0,
              "#0d0887"
             ],
             [
              0.1111111111111111,
              "#46039f"
             ],
             [
              0.2222222222222222,
              "#7201a8"
             ],
             [
              0.3333333333333333,
              "#9c179e"
             ],
             [
              0.4444444444444444,
              "#bd3786"
             ],
             [
              0.5555555555555556,
              "#d8576b"
             ],
             [
              0.6666666666666666,
              "#ed7953"
             ],
             [
              0.7777777777777778,
              "#fb9f3a"
             ],
             [
              0.8888888888888888,
              "#fdca26"
             ],
             [
              1,
              "#f0f921"
             ]
            ],
            "type": "contour"
           }
          ],
          "contourcarpet": [
           {
            "colorbar": {
             "outlinewidth": 0,
             "ticks": ""
            },
            "type": "contourcarpet"
           }
          ],
          "heatmap": [
           {
            "colorbar": {
             "outlinewidth": 0,
             "ticks": ""
            },
            "colorscale": [
             [
              0,
              "#0d0887"
             ],
             [
              0.1111111111111111,
              "#46039f"
             ],
             [
              0.2222222222222222,
              "#7201a8"
             ],
             [
              0.3333333333333333,
              "#9c179e"
             ],
             [
              0.4444444444444444,
              "#bd3786"
             ],
             [
              0.5555555555555556,
              "#d8576b"
             ],
             [
              0.6666666666666666,
              "#ed7953"
             ],
             [
              0.7777777777777778,
              "#fb9f3a"
             ],
             [
              0.8888888888888888,
              "#fdca26"
             ],
             [
              1,
              "#f0f921"
             ]
            ],
            "type": "heatmap"
           }
          ],
          "histogram": [
           {
            "marker": {
             "pattern": {
              "fillmode": "overlay",
              "size": 10,
              "solidity": 0.2
             }
            },
            "type": "histogram"
           }
          ],
          "histogram2d": [
           {
            "colorbar": {
             "outlinewidth": 0,
             "ticks": ""
            },
            "colorscale": [
             [
              0,
              "#0d0887"
             ],
             [
              0.1111111111111111,
              "#46039f"
             ],
             [
              0.2222222222222222,
              "#7201a8"
             ],
             [
              0.3333333333333333,
              "#9c179e"
             ],
             [
              0.4444444444444444,
              "#bd3786"
             ],
             [
              0.5555555555555556,
              "#d8576b"
             ],
             [
              0.6666666666666666,
              "#ed7953"
             ],
             [
              0.7777777777777778,
              "#fb9f3a"
             ],
             [
              0.8888888888888888,
              "#fdca26"
             ],
             [
              1,
              "#f0f921"
             ]
            ],
            "type": "histogram2d"
           }
          ],
          "histogram2dcontour": [
           {
            "colorbar": {
             "outlinewidth": 0,
             "ticks": ""
            },
            "colorscale": [
             [
              0,
              "#0d0887"
             ],
             [
              0.1111111111111111,
              "#46039f"
             ],
             [
              0.2222222222222222,
              "#7201a8"
             ],
             [
              0.3333333333333333,
              "#9c179e"
             ],
             [
              0.4444444444444444,
              "#bd3786"
             ],
             [
              0.5555555555555556,
              "#d8576b"
             ],
             [
              0.6666666666666666,
              "#ed7953"
             ],
             [
              0.7777777777777778,
              "#fb9f3a"
             ],
             [
              0.8888888888888888,
              "#fdca26"
             ],
             [
              1,
              "#f0f921"
             ]
            ],
            "type": "histogram2dcontour"
           }
          ],
          "mesh3d": [
           {
            "colorbar": {
             "outlinewidth": 0,
             "ticks": ""
            },
            "type": "mesh3d"
           }
          ],
          "parcoords": [
           {
            "line": {
             "colorbar": {
              "outlinewidth": 0,
              "ticks": ""
             }
            },
            "type": "parcoords"
           }
          ],
          "pie": [
           {
            "automargin": true,
            "type": "pie"
           }
          ],
          "scatter": [
           {
            "fillpattern": {
             "fillmode": "overlay",
             "size": 10,
             "solidity": 0.2
            },
            "type": "scatter"
           }
          ],
          "scatter3d": [
           {
            "line": {
             "colorbar": {
              "outlinewidth": 0,
              "ticks": ""
             }
            },
            "marker": {
             "colorbar": {
              "outlinewidth": 0,
              "ticks": ""
             }
            },
            "type": "scatter3d"
           }
          ],
          "scattercarpet": [
           {
            "marker": {
             "colorbar": {
              "outlinewidth": 0,
              "ticks": ""
             }
            },
            "type": "scattercarpet"
           }
          ],
          "scattergeo": [
           {
            "marker": {
             "colorbar": {
              "outlinewidth": 0,
              "ticks": ""
             }
            },
            "type": "scattergeo"
           }
          ],
          "scattergl": [
           {
            "marker": {
             "colorbar": {
              "outlinewidth": 0,
              "ticks": ""
             }
            },
            "type": "scattergl"
           }
          ],
          "scattermap": [
           {
            "marker": {
             "colorbar": {
              "outlinewidth": 0,
              "ticks": ""
             }
            },
            "type": "scattermap"
           }
          ],
          "scattermapbox": [
           {
            "marker": {
             "colorbar": {
              "outlinewidth": 0,
              "ticks": ""
             }
            },
            "type": "scattermapbox"
           }
          ],
          "scatterpolar": [
           {
            "marker": {
             "colorbar": {
              "outlinewidth": 0,
              "ticks": ""
             }
            },
            "type": "scatterpolar"
           }
          ],
          "scatterpolargl": [
           {
            "marker": {
             "colorbar": {
              "outlinewidth": 0,
              "ticks": ""
             }
            },
            "type": "scatterpolargl"
           }
          ],
          "scatterternary": [
           {
            "marker": {
             "colorbar": {
              "outlinewidth": 0,
              "ticks": ""
             }
            },
            "type": "scatterternary"
           }
          ],
          "surface": [
           {
            "colorbar": {
             "outlinewidth": 0,
             "ticks": ""
            },
            "colorscale": [
             [
              0,
              "#0d0887"
             ],
             [
              0.1111111111111111,
              "#46039f"
             ],
             [
              0.2222222222222222,
              "#7201a8"
             ],
             [
              0.3333333333333333,
              "#9c179e"
             ],
             [
              0.4444444444444444,
              "#bd3786"
             ],
             [
              0.5555555555555556,
              "#d8576b"
             ],
             [
              0.6666666666666666,
              "#ed7953"
             ],
             [
              0.7777777777777778,
              "#fb9f3a"
             ],
             [
              0.8888888888888888,
              "#fdca26"
             ],
             [
              1,
              "#f0f921"
             ]
            ],
            "type": "surface"
           }
          ],
          "table": [
           {
            "cells": {
             "fill": {
              "color": "#EBF0F8"
             },
             "line": {
              "color": "white"
             }
            },
            "header": {
             "fill": {
              "color": "#C8D4E3"
             },
             "line": {
              "color": "white"
             }
            },
            "type": "table"
           }
          ]
         },
         "layout": {
          "annotationdefaults": {
           "arrowcolor": "#2a3f5f",
           "arrowhead": 0,
           "arrowwidth": 1
          },
          "autotypenumbers": "strict",
          "coloraxis": {
           "colorbar": {
            "outlinewidth": 0,
            "ticks": ""
           }
          },
          "colorscale": {
           "diverging": [
            [
             0,
             "#8e0152"
            ],
            [
             0.1,
             "#c51b7d"
            ],
            [
             0.2,
             "#de77ae"
            ],
            [
             0.3,
             "#f1b6da"
            ],
            [
             0.4,
             "#fde0ef"
            ],
            [
             0.5,
             "#f7f7f7"
            ],
            [
             0.6,
             "#e6f5d0"
            ],
            [
             0.7,
             "#b8e186"
            ],
            [
             0.8,
             "#7fbc41"
            ],
            [
             0.9,
             "#4d9221"
            ],
            [
             1,
             "#276419"
            ]
           ],
           "sequential": [
            [
             0,
             "#0d0887"
            ],
            [
             0.1111111111111111,
             "#46039f"
            ],
            [
             0.2222222222222222,
             "#7201a8"
            ],
            [
             0.3333333333333333,
             "#9c179e"
            ],
            [
             0.4444444444444444,
             "#bd3786"
            ],
            [
             0.5555555555555556,
             "#d8576b"
            ],
            [
             0.6666666666666666,
             "#ed7953"
            ],
            [
             0.7777777777777778,
             "#fb9f3a"
            ],
            [
             0.8888888888888888,
             "#fdca26"
            ],
            [
             1,
             "#f0f921"
            ]
           ],
           "sequentialminus": [
            [
             0,
             "#0d0887"
            ],
            [
             0.1111111111111111,
             "#46039f"
            ],
            [
             0.2222222222222222,
             "#7201a8"
            ],
            [
             0.3333333333333333,
             "#9c179e"
            ],
            [
             0.4444444444444444,
             "#bd3786"
            ],
            [
             0.5555555555555556,
             "#d8576b"
            ],
            [
             0.6666666666666666,
             "#ed7953"
            ],
            [
             0.7777777777777778,
             "#fb9f3a"
            ],
            [
             0.8888888888888888,
             "#fdca26"
            ],
            [
             1,
             "#f0f921"
            ]
           ]
          },
          "colorway": [
           "#636efa",
           "#EF553B",
           "#00cc96",
           "#ab63fa",
           "#FFA15A",
           "#19d3f3",
           "#FF6692",
           "#B6E880",
           "#FF97FF",
           "#FECB52"
          ],
          "font": {
           "color": "#2a3f5f"
          },
          "geo": {
           "bgcolor": "white",
           "lakecolor": "white",
           "landcolor": "#E5ECF6",
           "showlakes": true,
           "showland": true,
           "subunitcolor": "white"
          },
          "hoverlabel": {
           "align": "left"
          },
          "hovermode": "closest",
          "mapbox": {
           "style": "light"
          },
          "paper_bgcolor": "white",
          "plot_bgcolor": "#E5ECF6",
          "polar": {
           "angularaxis": {
            "gridcolor": "white",
            "linecolor": "white",
            "ticks": ""
           },
           "bgcolor": "#E5ECF6",
           "radialaxis": {
            "gridcolor": "white",
            "linecolor": "white",
            "ticks": ""
           }
          },
          "scene": {
           "xaxis": {
            "backgroundcolor": "#E5ECF6",
            "gridcolor": "white",
            "gridwidth": 2,
            "linecolor": "white",
            "showbackground": true,
            "ticks": "",
            "zerolinecolor": "white"
           },
           "yaxis": {
            "backgroundcolor": "#E5ECF6",
            "gridcolor": "white",
            "gridwidth": 2,
            "linecolor": "white",
            "showbackground": true,
            "ticks": "",
            "zerolinecolor": "white"
           },
           "zaxis": {
            "backgroundcolor": "#E5ECF6",
            "gridcolor": "white",
            "gridwidth": 2,
            "linecolor": "white",
            "showbackground": true,
            "ticks": "",
            "zerolinecolor": "white"
           }
          },
          "shapedefaults": {
           "line": {
            "color": "#2a3f5f"
           }
          },
          "ternary": {
           "aaxis": {
            "gridcolor": "white",
            "linecolor": "white",
            "ticks": ""
           },
           "baxis": {
            "gridcolor": "white",
            "linecolor": "white",
            "ticks": ""
           },
           "bgcolor": "#E5ECF6",
           "caxis": {
            "gridcolor": "white",
            "linecolor": "white",
            "ticks": ""
           }
          },
          "title": {
           "x": 0.05
          },
          "xaxis": {
           "automargin": true,
           "gridcolor": "white",
           "linecolor": "white",
           "ticks": "",
           "title": {
            "standoff": 15
           },
           "zerolinecolor": "white",
           "zerolinewidth": 2
          },
          "yaxis": {
           "automargin": true,
           "gridcolor": "white",
           "linecolor": "white",
           "ticks": "",
           "title": {
            "standoff": 15
           },
           "zerolinecolor": "white",
           "zerolinewidth": 2
          }
         }
        },
        "title": {
         "text": "<b>Anatomy of a Negative Review: A Hierarchical View of Complaints</b>"
        }
       }
      }
     },
     "metadata": {},
     "output_type": "display_data"
    }
   ],
   "source": [
    "# In your Kaggle Cell\n",
    "\n",
    "# --- The Ultimate Breakdown: Sunburst Chart ---\n",
    "print(\"Creating a hierarchical Sunburst chart to show theme breakdowns...\")\n",
    "\n",
    "# We need a DataFrame with three columns: Theme, Specific Complaint, and Count\n",
    "# We can create this by combining our previous breakdown dataframes.\n",
    "breakdown_df = df_base[~df_base[\"theme\"].isin([\"Outliers / Generic\", \"Other/Misc.\"])]\n",
    "sunburst_data = (\n",
    "    breakdown_df.groupby([\"theme\", \"topic_name\"]).size().reset_index(name=\"count\")\n",
    ")\n",
    "\n",
    "# Create the Sunburst chart\n",
    "fig_sunburst = px.sunburst(\n",
    "    sunburst_data,\n",
    "    path=[\"theme\", \"topic_name\"],  # This defines the hierarchy\n",
    "    values=\"count\",\n",
    "    title=\"<b>Anatomy of a Negative Review: A Hierarchical View of Complaints</b>\",\n",
    "    color=\"theme\",  # Color the inner ring by theme\n",
    "    color_discrete_sequence=px.colors.qualitative.Pastel,\n",
    ")\n",
    "\n",
    "fig_sunburst.update_layout(margin=dict(t=50, l=25, r=25, b=25))\n",
    "fig_sunburst.show()"
   ]
  },
  {
   "cell_type": "code",
   "execution_count": 16,
   "metadata": {
    "execution": {
     "iopub.execute_input": "2025-07-21T09:24:29.526548Z",
     "iopub.status.busy": "2025-07-21T09:24:29.525786Z",
     "iopub.status.idle": "2025-07-21T09:24:29.709670Z",
     "shell.execute_reply": "2025-07-21T09:24:29.708906Z",
     "shell.execute_reply.started": "2025-07-21T09:24:29.526528Z"
    },
    "trusted": true
   },
   "outputs": [
    {
     "name": "stdout",
     "output_type": "stream",
     "text": [
      "Creating a Sentiment vs. Frequency scatter plot...\n"
     ]
    },
    {
     "data": {
      "application/vnd.plotly.v1+json": {
       "config": {
        "plotlyServerURL": "https://plot.ly"
       },
       "data": [
        {
         "hovertemplate": "Frequency (Number of Reviews)=%{marker.size}<br>Average Sentiment Score=%{marker.color}<br>Theme=%{text}<extra></extra>",
         "legendgroup": "",
         "marker": {
          "color": {
           "bdata": "ej3BxWTw578rjYjHL7DpvzNE6Vw2Q+S/",
           "dtype": "f8"
          },
          "coloraxis": "coloraxis",
          "size": {
           "bdata": "8RGvAwMB",
           "dtype": "i2"
          },
          "sizemode": "area",
          "sizeref": 11.4825,
          "symbol": "circle"
         },
         "mode": "markers+text",
         "name": "",
         "orientation": "v",
         "showlegend": false,
         "text": [
          "Monetization & Value",
          "Content-Specific Issues",
          "Technical Performance"
         ],
         "textposition": "top center",
         "type": "scatter",
         "x": {
          "bdata": "8RGvAwMB",
          "dtype": "i2"
         },
         "xaxis": "x",
         "y": {
          "bdata": "ej3BxWTw578rjYjHL7DpvzNE6Vw2Q+S/",
          "dtype": "f8"
         },
         "yaxis": "y"
        }
       ],
       "layout": {
        "annotations": [
         {
          "showarrow": false,
          "text": "Avg. Frequency",
          "x": 1931.6666666666667,
          "xanchor": "left",
          "xref": "x",
          "y": 1,
          "yanchor": "top",
          "yref": "y domain"
         },
         {
          "showarrow": false,
          "text": "Avg. Sentiment",
          "x": 1,
          "xanchor": "right",
          "xref": "x domain",
          "y": -0.7280189060913059,
          "yanchor": "bottom",
          "yref": "y"
         }
        ],
        "coloraxis": {
         "colorbar": {
          "title": {
           "text": "Average Sentiment Score"
          }
         },
         "colorscale": [
          [
           0,
           "rgb(103,0,13)"
          ],
          [
           0.125,
           "rgb(165,15,21)"
          ],
          [
           0.25,
           "rgb(203,24,29)"
          ],
          [
           0.375,
           "rgb(239,59,44)"
          ],
          [
           0.5,
           "rgb(251,106,74)"
          ],
          [
           0.625,
           "rgb(252,146,114)"
          ],
          [
           0.75,
           "rgb(252,187,161)"
          ],
          [
           0.875,
           "rgb(254,224,210)"
          ],
          [
           1,
           "rgb(255,245,240)"
          ]
         ]
        },
        "legend": {
         "itemsizing": "constant",
         "tracegroupgap": 0
        },
        "shapes": [
         {
          "line": {
           "dash": "dash"
          },
          "type": "line",
          "x0": 1931.6666666666667,
          "x1": 1931.6666666666667,
          "xref": "x",
          "y0": 0,
          "y1": 1,
          "yref": "y domain"
         },
         {
          "line": {
           "dash": "dash"
          },
          "type": "line",
          "x0": 0,
          "x1": 1,
          "xref": "x domain",
          "y0": -0.7280189060913059,
          "y1": -0.7280189060913059,
          "yref": "y"
         }
        ],
        "template": {
         "data": {
          "bar": [
           {
            "error_x": {
             "color": "#2a3f5f"
            },
            "error_y": {
             "color": "#2a3f5f"
            },
            "marker": {
             "line": {
              "color": "white",
              "width": 0.5
             },
             "pattern": {
              "fillmode": "overlay",
              "size": 10,
              "solidity": 0.2
             }
            },
            "type": "bar"
           }
          ],
          "barpolar": [
           {
            "marker": {
             "line": {
              "color": "white",
              "width": 0.5
             },
             "pattern": {
              "fillmode": "overlay",
              "size": 10,
              "solidity": 0.2
             }
            },
            "type": "barpolar"
           }
          ],
          "carpet": [
           {
            "aaxis": {
             "endlinecolor": "#2a3f5f",
             "gridcolor": "#C8D4E3",
             "linecolor": "#C8D4E3",
             "minorgridcolor": "#C8D4E3",
             "startlinecolor": "#2a3f5f"
            },
            "baxis": {
             "endlinecolor": "#2a3f5f",
             "gridcolor": "#C8D4E3",
             "linecolor": "#C8D4E3",
             "minorgridcolor": "#C8D4E3",
             "startlinecolor": "#2a3f5f"
            },
            "type": "carpet"
           }
          ],
          "choropleth": [
           {
            "colorbar": {
             "outlinewidth": 0,
             "ticks": ""
            },
            "type": "choropleth"
           }
          ],
          "contour": [
           {
            "colorbar": {
             "outlinewidth": 0,
             "ticks": ""
            },
            "colorscale": [
             [
              0,
              "#0d0887"
             ],
             [
              0.1111111111111111,
              "#46039f"
             ],
             [
              0.2222222222222222,
              "#7201a8"
             ],
             [
              0.3333333333333333,
              "#9c179e"
             ],
             [
              0.4444444444444444,
              "#bd3786"
             ],
             [
              0.5555555555555556,
              "#d8576b"
             ],
             [
              0.6666666666666666,
              "#ed7953"
             ],
             [
              0.7777777777777778,
              "#fb9f3a"
             ],
             [
              0.8888888888888888,
              "#fdca26"
             ],
             [
              1,
              "#f0f921"
             ]
            ],
            "type": "contour"
           }
          ],
          "contourcarpet": [
           {
            "colorbar": {
             "outlinewidth": 0,
             "ticks": ""
            },
            "type": "contourcarpet"
           }
          ],
          "heatmap": [
           {
            "colorbar": {
             "outlinewidth": 0,
             "ticks": ""
            },
            "colorscale": [
             [
              0,
              "#0d0887"
             ],
             [
              0.1111111111111111,
              "#46039f"
             ],
             [
              0.2222222222222222,
              "#7201a8"
             ],
             [
              0.3333333333333333,
              "#9c179e"
             ],
             [
              0.4444444444444444,
              "#bd3786"
             ],
             [
              0.5555555555555556,
              "#d8576b"
             ],
             [
              0.6666666666666666,
              "#ed7953"
             ],
             [
              0.7777777777777778,
              "#fb9f3a"
             ],
             [
              0.8888888888888888,
              "#fdca26"
             ],
             [
              1,
              "#f0f921"
             ]
            ],
            "type": "heatmap"
           }
          ],
          "histogram": [
           {
            "marker": {
             "pattern": {
              "fillmode": "overlay",
              "size": 10,
              "solidity": 0.2
             }
            },
            "type": "histogram"
           }
          ],
          "histogram2d": [
           {
            "colorbar": {
             "outlinewidth": 0,
             "ticks": ""
            },
            "colorscale": [
             [
              0,
              "#0d0887"
             ],
             [
              0.1111111111111111,
              "#46039f"
             ],
             [
              0.2222222222222222,
              "#7201a8"
             ],
             [
              0.3333333333333333,
              "#9c179e"
             ],
             [
              0.4444444444444444,
              "#bd3786"
             ],
             [
              0.5555555555555556,
              "#d8576b"
             ],
             [
              0.6666666666666666,
              "#ed7953"
             ],
             [
              0.7777777777777778,
              "#fb9f3a"
             ],
             [
              0.8888888888888888,
              "#fdca26"
             ],
             [
              1,
              "#f0f921"
             ]
            ],
            "type": "histogram2d"
           }
          ],
          "histogram2dcontour": [
           {
            "colorbar": {
             "outlinewidth": 0,
             "ticks": ""
            },
            "colorscale": [
             [
              0,
              "#0d0887"
             ],
             [
              0.1111111111111111,
              "#46039f"
             ],
             [
              0.2222222222222222,
              "#7201a8"
             ],
             [
              0.3333333333333333,
              "#9c179e"
             ],
             [
              0.4444444444444444,
              "#bd3786"
             ],
             [
              0.5555555555555556,
              "#d8576b"
             ],
             [
              0.6666666666666666,
              "#ed7953"
             ],
             [
              0.7777777777777778,
              "#fb9f3a"
             ],
             [
              0.8888888888888888,
              "#fdca26"
             ],
             [
              1,
              "#f0f921"
             ]
            ],
            "type": "histogram2dcontour"
           }
          ],
          "mesh3d": [
           {
            "colorbar": {
             "outlinewidth": 0,
             "ticks": ""
            },
            "type": "mesh3d"
           }
          ],
          "parcoords": [
           {
            "line": {
             "colorbar": {
              "outlinewidth": 0,
              "ticks": ""
             }
            },
            "type": "parcoords"
           }
          ],
          "pie": [
           {
            "automargin": true,
            "type": "pie"
           }
          ],
          "scatter": [
           {
            "fillpattern": {
             "fillmode": "overlay",
             "size": 10,
             "solidity": 0.2
            },
            "type": "scatter"
           }
          ],
          "scatter3d": [
           {
            "line": {
             "colorbar": {
              "outlinewidth": 0,
              "ticks": ""
             }
            },
            "marker": {
             "colorbar": {
              "outlinewidth": 0,
              "ticks": ""
             }
            },
            "type": "scatter3d"
           }
          ],
          "scattercarpet": [
           {
            "marker": {
             "colorbar": {
              "outlinewidth": 0,
              "ticks": ""
             }
            },
            "type": "scattercarpet"
           }
          ],
          "scattergeo": [
           {
            "marker": {
             "colorbar": {
              "outlinewidth": 0,
              "ticks": ""
             }
            },
            "type": "scattergeo"
           }
          ],
          "scattergl": [
           {
            "marker": {
             "colorbar": {
              "outlinewidth": 0,
              "ticks": ""
             }
            },
            "type": "scattergl"
           }
          ],
          "scattermap": [
           {
            "marker": {
             "colorbar": {
              "outlinewidth": 0,
              "ticks": ""
             }
            },
            "type": "scattermap"
           }
          ],
          "scattermapbox": [
           {
            "marker": {
             "colorbar": {
              "outlinewidth": 0,
              "ticks": ""
             }
            },
            "type": "scattermapbox"
           }
          ],
          "scatterpolar": [
           {
            "marker": {
             "colorbar": {
              "outlinewidth": 0,
              "ticks": ""
             }
            },
            "type": "scatterpolar"
           }
          ],
          "scatterpolargl": [
           {
            "marker": {
             "colorbar": {
              "outlinewidth": 0,
              "ticks": ""
             }
            },
            "type": "scatterpolargl"
           }
          ],
          "scatterternary": [
           {
            "marker": {
             "colorbar": {
              "outlinewidth": 0,
              "ticks": ""
             }
            },
            "type": "scatterternary"
           }
          ],
          "surface": [
           {
            "colorbar": {
             "outlinewidth": 0,
             "ticks": ""
            },
            "colorscale": [
             [
              0,
              "#0d0887"
             ],
             [
              0.1111111111111111,
              "#46039f"
             ],
             [
              0.2222222222222222,
              "#7201a8"
             ],
             [
              0.3333333333333333,
              "#9c179e"
             ],
             [
              0.4444444444444444,
              "#bd3786"
             ],
             [
              0.5555555555555556,
              "#d8576b"
             ],
             [
              0.6666666666666666,
              "#ed7953"
             ],
             [
              0.7777777777777778,
              "#fb9f3a"
             ],
             [
              0.8888888888888888,
              "#fdca26"
             ],
             [
              1,
              "#f0f921"
             ]
            ],
            "type": "surface"
           }
          ],
          "table": [
           {
            "cells": {
             "fill": {
              "color": "#EBF0F8"
             },
             "line": {
              "color": "white"
             }
            },
            "header": {
             "fill": {
              "color": "#C8D4E3"
             },
             "line": {
              "color": "white"
             }
            },
            "type": "table"
           }
          ]
         },
         "layout": {
          "annotationdefaults": {
           "arrowcolor": "#2a3f5f",
           "arrowhead": 0,
           "arrowwidth": 1
          },
          "autotypenumbers": "strict",
          "coloraxis": {
           "colorbar": {
            "outlinewidth": 0,
            "ticks": ""
           }
          },
          "colorscale": {
           "diverging": [
            [
             0,
             "#8e0152"
            ],
            [
             0.1,
             "#c51b7d"
            ],
            [
             0.2,
             "#de77ae"
            ],
            [
             0.3,
             "#f1b6da"
            ],
            [
             0.4,
             "#fde0ef"
            ],
            [
             0.5,
             "#f7f7f7"
            ],
            [
             0.6,
             "#e6f5d0"
            ],
            [
             0.7,
             "#b8e186"
            ],
            [
             0.8,
             "#7fbc41"
            ],
            [
             0.9,
             "#4d9221"
            ],
            [
             1,
             "#276419"
            ]
           ],
           "sequential": [
            [
             0,
             "#0d0887"
            ],
            [
             0.1111111111111111,
             "#46039f"
            ],
            [
             0.2222222222222222,
             "#7201a8"
            ],
            [
             0.3333333333333333,
             "#9c179e"
            ],
            [
             0.4444444444444444,
             "#bd3786"
            ],
            [
             0.5555555555555556,
             "#d8576b"
            ],
            [
             0.6666666666666666,
             "#ed7953"
            ],
            [
             0.7777777777777778,
             "#fb9f3a"
            ],
            [
             0.8888888888888888,
             "#fdca26"
            ],
            [
             1,
             "#f0f921"
            ]
           ],
           "sequentialminus": [
            [
             0,
             "#0d0887"
            ],
            [
             0.1111111111111111,
             "#46039f"
            ],
            [
             0.2222222222222222,
             "#7201a8"
            ],
            [
             0.3333333333333333,
             "#9c179e"
            ],
            [
             0.4444444444444444,
             "#bd3786"
            ],
            [
             0.5555555555555556,
             "#d8576b"
            ],
            [
             0.6666666666666666,
             "#ed7953"
            ],
            [
             0.7777777777777778,
             "#fb9f3a"
            ],
            [
             0.8888888888888888,
             "#fdca26"
            ],
            [
             1,
             "#f0f921"
            ]
           ]
          },
          "colorway": [
           "#636efa",
           "#EF553B",
           "#00cc96",
           "#ab63fa",
           "#FFA15A",
           "#19d3f3",
           "#FF6692",
           "#B6E880",
           "#FF97FF",
           "#FECB52"
          ],
          "font": {
           "color": "#2a3f5f"
          },
          "geo": {
           "bgcolor": "white",
           "lakecolor": "white",
           "landcolor": "white",
           "showlakes": true,
           "showland": true,
           "subunitcolor": "#C8D4E3"
          },
          "hoverlabel": {
           "align": "left"
          },
          "hovermode": "closest",
          "mapbox": {
           "style": "light"
          },
          "paper_bgcolor": "white",
          "plot_bgcolor": "white",
          "polar": {
           "angularaxis": {
            "gridcolor": "#EBF0F8",
            "linecolor": "#EBF0F8",
            "ticks": ""
           },
           "bgcolor": "white",
           "radialaxis": {
            "gridcolor": "#EBF0F8",
            "linecolor": "#EBF0F8",
            "ticks": ""
           }
          },
          "scene": {
           "xaxis": {
            "backgroundcolor": "white",
            "gridcolor": "#DFE8F3",
            "gridwidth": 2,
            "linecolor": "#EBF0F8",
            "showbackground": true,
            "ticks": "",
            "zerolinecolor": "#EBF0F8"
           },
           "yaxis": {
            "backgroundcolor": "white",
            "gridcolor": "#DFE8F3",
            "gridwidth": 2,
            "linecolor": "#EBF0F8",
            "showbackground": true,
            "ticks": "",
            "zerolinecolor": "#EBF0F8"
           },
           "zaxis": {
            "backgroundcolor": "white",
            "gridcolor": "#DFE8F3",
            "gridwidth": 2,
            "linecolor": "#EBF0F8",
            "showbackground": true,
            "ticks": "",
            "zerolinecolor": "#EBF0F8"
           }
          },
          "shapedefaults": {
           "line": {
            "color": "#2a3f5f"
           }
          },
          "ternary": {
           "aaxis": {
            "gridcolor": "#DFE8F3",
            "linecolor": "#A2B1C6",
            "ticks": ""
           },
           "baxis": {
            "gridcolor": "#DFE8F3",
            "linecolor": "#A2B1C6",
            "ticks": ""
           },
           "bgcolor": "white",
           "caxis": {
            "gridcolor": "#DFE8F3",
            "linecolor": "#A2B1C6",
            "ticks": ""
           }
          },
          "title": {
           "x": 0.05
          },
          "xaxis": {
           "automargin": true,
           "gridcolor": "#EBF0F8",
           "linecolor": "#EBF0F8",
           "ticks": "",
           "title": {
            "standoff": 15
           },
           "zerolinecolor": "#EBF0F8",
           "zerolinewidth": 2
          },
          "yaxis": {
           "automargin": true,
           "gridcolor": "#EBF0F8",
           "linecolor": "#EBF0F8",
           "ticks": "",
           "title": {
            "standoff": 15
           },
           "zerolinecolor": "#EBF0F8",
           "zerolinewidth": 2
          }
         }
        },
        "title": {
         "text": "<b>Problem Priority Matrix: Which Complaints Matter Most?</b>",
         "x": 0.5
        },
        "xaxis": {
         "anchor": "y",
         "domain": [
          0,
          1
         ],
         "title": {
          "text": "Frequency (Number of Reviews)"
         }
        },
        "yaxis": {
         "anchor": "x",
         "domain": [
          0,
          1
         ],
         "title": {
          "text": "Average Sentiment Score"
         }
        }
       }
      }
     },
     "metadata": {},
     "output_type": "display_data"
    }
   ],
   "source": [
    "# In your Kaggle Cell\n",
    "\n",
    "# --- The \"Problem Priority Matrix\": Sentiment vs. Frequency ---\n",
    "print(\"Creating a Sentiment vs. Frequency scatter plot...\")\n",
    "\n",
    "# 1. Get the Frequency data\n",
    "theme_freq = df_base[\"theme\"].value_counts().reset_index()\n",
    "theme_freq.columns = [\"Theme\", \"Frequency (Number of Reviews)\"]\n",
    "\n",
    "# 2. Get the Sentiment data\n",
    "theme_sent = df_base.groupby(\"theme\")[\"sentiment_score\"].mean().reset_index()\n",
    "theme_sent.columns = [\"Theme\", \"Average Sentiment Score\"]\n",
    "\n",
    "# 3. Merge them into one DataFrame\n",
    "priority_df = pd.merge(theme_freq, theme_sent, on=\"Theme\")\n",
    "priority_df = priority_df[\n",
    "    ~priority_df[\"Theme\"].isin([\"Outliers / Generic\", \"Other/Misc.\"])\n",
    "]\n",
    "\n",
    "\n",
    "# 4. Create the Scatter Plot\n",
    "fig_scatter = px.scatter(\n",
    "    priority_df,\n",
    "    x=\"Frequency (Number of Reviews)\",\n",
    "    y=\"Average Sentiment Score\",\n",
    "    text=\"Theme\",  # Label each point with the theme name\n",
    "    size=\"Frequency (Number of Reviews)\",  # Make bubbles bigger for more frequent topics\n",
    "    color=\"Average Sentiment Score\",\n",
    "    color_continuous_scale=\"Reds_r\",\n",
    "    title=\"<b>Problem Priority Matrix: Which Complaints Matter Most?</b>\",\n",
    "    template=\"plotly_white\",\n",
    ")\n",
    "\n",
    "# Add annotations to create quadrants\n",
    "fig_scatter.update_traces(textposition=\"top center\")\n",
    "fig_scatter.add_vline(\n",
    "    x=priority_df[\"Frequency (Number of Reviews)\"].mean(),\n",
    "    line_dash=\"dash\",\n",
    "    annotation_text=\"Avg. Frequency\",\n",
    ")\n",
    "fig_scatter.add_hline(\n",
    "    y=priority_df[\"Average Sentiment Score\"].mean(),\n",
    "    line_dash=\"dash\",\n",
    "    annotation_text=\"Avg. Sentiment\",\n",
    ")\n",
    "fig_scatter.update_layout(title_x=0.5)\n",
    "fig_scatter.show()"
   ]
  },
  {
   "cell_type": "markdown",
   "metadata": {},
   "source": [
    "# **TIME SERIES ANALYSIS**"
   ]
  },
  {
   "cell_type": "code",
   "execution_count": 17,
   "metadata": {
    "execution": {
     "iopub.execute_input": "2025-07-21T09:37:53.668228Z",
     "iopub.status.busy": "2025-07-21T09:37:53.667878Z",
     "iopub.status.idle": "2025-07-21T09:37:53.752530Z",
     "shell.execute_reply": "2025-07-21T09:37:53.751694Z",
     "shell.execute_reply.started": "2025-07-21T09:37:53.668196Z"
    },
    "trusted": true
   },
   "outputs": [
    {
     "data": {
      "application/vnd.plotly.v1+json": {
       "config": {
        "plotlyServerURL": "https://plot.ly"
       },
       "data": [
        {
         "hovertemplate": "theme=Content-Specific Issues<br>Month=%{x}<br>Number of Negative Reviews=%{y}<extra></extra>",
         "legendgroup": "Content-Specific Issues",
         "line": {
          "color": "#636efa",
          "dash": "solid"
         },
         "marker": {
          "symbol": "circle"
         },
         "mode": "lines+markers",
         "name": "Content-Specific Issues",
         "orientation": "v",
         "showlegend": true,
         "type": "scatter",
         "x": [
          "2022-01-01T00:00:00.000000000",
          "2022-02-01T00:00:00.000000000",
          "2022-03-01T00:00:00.000000000",
          "2022-04-01T00:00:00.000000000",
          "2022-05-01T00:00:00.000000000",
          "2022-06-01T00:00:00.000000000",
          "2022-07-01T00:00:00.000000000",
          "2022-08-01T00:00:00.000000000",
          "2022-09-01T00:00:00.000000000",
          "2022-10-01T00:00:00.000000000",
          "2022-11-01T00:00:00.000000000",
          "2022-12-01T00:00:00.000000000",
          "2023-01-01T00:00:00.000000000",
          "2023-02-01T00:00:00.000000000",
          "2023-03-01T00:00:00.000000000",
          "2023-04-01T00:00:00.000000000",
          "2023-05-01T00:00:00.000000000",
          "2023-06-01T00:00:00.000000000",
          "2023-07-01T00:00:00.000000000",
          "2023-08-01T00:00:00.000000000",
          "2023-09-01T00:00:00.000000000",
          "2023-10-01T00:00:00.000000000",
          "2023-11-01T00:00:00.000000000",
          "2023-12-01T00:00:00.000000000",
          "2024-01-01T00:00:00.000000000",
          "2024-02-01T00:00:00.000000000",
          "2024-03-01T00:00:00.000000000",
          "2024-04-01T00:00:00.000000000",
          "2024-05-01T00:00:00.000000000",
          "2024-06-01T00:00:00.000000000",
          "2024-07-01T00:00:00.000000000",
          "2024-08-01T00:00:00.000000000",
          "2024-09-01T00:00:00.000000000",
          "2024-10-01T00:00:00.000000000",
          "2024-11-01T00:00:00.000000000",
          "2024-12-01T00:00:00.000000000",
          "2025-01-01T00:00:00.000000000",
          "2025-02-01T00:00:00.000000000",
          "2025-03-01T00:00:00.000000000",
          "2025-04-01T00:00:00.000000000",
          "2025-05-01T00:00:00.000000000",
          "2025-06-01T00:00:00.000000000"
         ],
         "xaxis": "x",
         "y": {
          "bdata": "LSgwJSoeFw8TFBERJRgbFRYSFRYOGBEXHyQYEA0IFQ4OFg0SDwwPFBAM",
          "dtype": "i1"
         },
         "yaxis": "y"
        },
        {
         "hovertemplate": "theme=Monetization & Value<br>Month=%{x}<br>Number of Negative Reviews=%{y}<extra></extra>",
         "legendgroup": "Monetization & Value",
         "line": {
          "color": "#EF553B",
          "dash": "solid"
         },
         "marker": {
          "symbol": "circle"
         },
         "mode": "lines+markers",
         "name": "Monetization & Value",
         "orientation": "v",
         "showlegend": true,
         "type": "scatter",
         "x": [
          "2022-01-01T00:00:00.000000000",
          "2022-02-01T00:00:00.000000000",
          "2022-03-01T00:00:00.000000000",
          "2022-04-01T00:00:00.000000000",
          "2022-05-01T00:00:00.000000000",
          "2022-06-01T00:00:00.000000000",
          "2022-07-01T00:00:00.000000000",
          "2022-08-01T00:00:00.000000000",
          "2022-09-01T00:00:00.000000000",
          "2022-10-01T00:00:00.000000000",
          "2022-11-01T00:00:00.000000000",
          "2022-12-01T00:00:00.000000000",
          "2023-01-01T00:00:00.000000000",
          "2023-02-01T00:00:00.000000000",
          "2023-03-01T00:00:00.000000000",
          "2023-04-01T00:00:00.000000000",
          "2023-05-01T00:00:00.000000000",
          "2023-06-01T00:00:00.000000000",
          "2023-07-01T00:00:00.000000000",
          "2023-08-01T00:00:00.000000000",
          "2023-09-01T00:00:00.000000000",
          "2023-10-01T00:00:00.000000000",
          "2023-11-01T00:00:00.000000000",
          "2023-12-01T00:00:00.000000000",
          "2024-01-01T00:00:00.000000000",
          "2024-02-01T00:00:00.000000000",
          "2024-03-01T00:00:00.000000000",
          "2024-04-01T00:00:00.000000000",
          "2024-05-01T00:00:00.000000000",
          "2024-06-01T00:00:00.000000000",
          "2024-07-01T00:00:00.000000000",
          "2024-08-01T00:00:00.000000000",
          "2024-09-01T00:00:00.000000000",
          "2024-10-01T00:00:00.000000000",
          "2024-11-01T00:00:00.000000000",
          "2024-12-01T00:00:00.000000000",
          "2025-01-01T00:00:00.000000000",
          "2025-02-01T00:00:00.000000000",
          "2025-03-01T00:00:00.000000000",
          "2025-04-01T00:00:00.000000000",
          "2025-05-01T00:00:00.000000000",
          "2025-06-01T00:00:00.000000000"
         ],
         "xaxis": "x",
         "y": {
          "bdata": "HwHJABQB5gCsAJgATABiAD4AYwBiAG4AmwBoAHYAdgBlAFcAXABfAE0AWQBdAG4AgwBoAGcAUwBaAEoARgBFAD8AWwBDAD8AWwA3AFUAVQBdAEwA",
          "dtype": "i2"
         },
         "yaxis": "y"
        },
        {
         "hovertemplate": "theme=Technical Performance<br>Month=%{x}<br>Number of Negative Reviews=%{y}<extra></extra>",
         "legendgroup": "Technical Performance",
         "line": {
          "color": "#00cc96",
          "dash": "solid"
         },
         "marker": {
          "symbol": "circle"
         },
         "mode": "lines+markers",
         "name": "Technical Performance",
         "orientation": "v",
         "showlegend": true,
         "type": "scatter",
         "x": [
          "2022-01-01T00:00:00.000000000",
          "2022-02-01T00:00:00.000000000",
          "2022-03-01T00:00:00.000000000",
          "2022-04-01T00:00:00.000000000",
          "2022-05-01T00:00:00.000000000",
          "2022-06-01T00:00:00.000000000",
          "2022-07-01T00:00:00.000000000",
          "2022-08-01T00:00:00.000000000",
          "2022-09-01T00:00:00.000000000",
          "2022-10-01T00:00:00.000000000",
          "2022-11-01T00:00:00.000000000",
          "2022-12-01T00:00:00.000000000",
          "2023-01-01T00:00:00.000000000",
          "2023-02-01T00:00:00.000000000",
          "2023-03-01T00:00:00.000000000",
          "2023-04-01T00:00:00.000000000",
          "2023-05-01T00:00:00.000000000",
          "2023-06-01T00:00:00.000000000",
          "2023-07-01T00:00:00.000000000",
          "2023-08-01T00:00:00.000000000",
          "2023-09-01T00:00:00.000000000",
          "2023-10-01T00:00:00.000000000",
          "2023-11-01T00:00:00.000000000",
          "2023-12-01T00:00:00.000000000",
          "2024-01-01T00:00:00.000000000",
          "2024-02-01T00:00:00.000000000",
          "2024-03-01T00:00:00.000000000",
          "2024-04-01T00:00:00.000000000",
          "2024-05-01T00:00:00.000000000",
          "2024-06-01T00:00:00.000000000",
          "2024-07-01T00:00:00.000000000",
          "2024-08-01T00:00:00.000000000",
          "2024-09-01T00:00:00.000000000",
          "2024-10-01T00:00:00.000000000",
          "2024-11-01T00:00:00.000000000",
          "2024-12-01T00:00:00.000000000",
          "2025-01-01T00:00:00.000000000",
          "2025-02-01T00:00:00.000000000",
          "2025-03-01T00:00:00.000000000",
          "2025-04-01T00:00:00.000000000",
          "2025-05-01T00:00:00.000000000",
          "2025-06-01T00:00:00.000000000"
         ],
         "xaxis": "x",
         "y": {
          "bdata": "DgwOCQkNAwUDAgYCBAUIAQQDAwYEBgcYDAoGBAMGAQQGBAkDAgQFBgQD",
          "dtype": "i1"
         },
         "yaxis": "y"
        }
       ],
       "layout": {
        "legend": {
         "title": {
          "text": "Complaint Theme"
         },
         "tracegroupgap": 0
        },
        "template": {
         "data": {
          "bar": [
           {
            "error_x": {
             "color": "#2a3f5f"
            },
            "error_y": {
             "color": "#2a3f5f"
            },
            "marker": {
             "line": {
              "color": "white",
              "width": 0.5
             },
             "pattern": {
              "fillmode": "overlay",
              "size": 10,
              "solidity": 0.2
             }
            },
            "type": "bar"
           }
          ],
          "barpolar": [
           {
            "marker": {
             "line": {
              "color": "white",
              "width": 0.5
             },
             "pattern": {
              "fillmode": "overlay",
              "size": 10,
              "solidity": 0.2
             }
            },
            "type": "barpolar"
           }
          ],
          "carpet": [
           {
            "aaxis": {
             "endlinecolor": "#2a3f5f",
             "gridcolor": "#C8D4E3",
             "linecolor": "#C8D4E3",
             "minorgridcolor": "#C8D4E3",
             "startlinecolor": "#2a3f5f"
            },
            "baxis": {
             "endlinecolor": "#2a3f5f",
             "gridcolor": "#C8D4E3",
             "linecolor": "#C8D4E3",
             "minorgridcolor": "#C8D4E3",
             "startlinecolor": "#2a3f5f"
            },
            "type": "carpet"
           }
          ],
          "choropleth": [
           {
            "colorbar": {
             "outlinewidth": 0,
             "ticks": ""
            },
            "type": "choropleth"
           }
          ],
          "contour": [
           {
            "colorbar": {
             "outlinewidth": 0,
             "ticks": ""
            },
            "colorscale": [
             [
              0,
              "#0d0887"
             ],
             [
              0.1111111111111111,
              "#46039f"
             ],
             [
              0.2222222222222222,
              "#7201a8"
             ],
             [
              0.3333333333333333,
              "#9c179e"
             ],
             [
              0.4444444444444444,
              "#bd3786"
             ],
             [
              0.5555555555555556,
              "#d8576b"
             ],
             [
              0.6666666666666666,
              "#ed7953"
             ],
             [
              0.7777777777777778,
              "#fb9f3a"
             ],
             [
              0.8888888888888888,
              "#fdca26"
             ],
             [
              1,
              "#f0f921"
             ]
            ],
            "type": "contour"
           }
          ],
          "contourcarpet": [
           {
            "colorbar": {
             "outlinewidth": 0,
             "ticks": ""
            },
            "type": "contourcarpet"
           }
          ],
          "heatmap": [
           {
            "colorbar": {
             "outlinewidth": 0,
             "ticks": ""
            },
            "colorscale": [
             [
              0,
              "#0d0887"
             ],
             [
              0.1111111111111111,
              "#46039f"
             ],
             [
              0.2222222222222222,
              "#7201a8"
             ],
             [
              0.3333333333333333,
              "#9c179e"
             ],
             [
              0.4444444444444444,
              "#bd3786"
             ],
             [
              0.5555555555555556,
              "#d8576b"
             ],
             [
              0.6666666666666666,
              "#ed7953"
             ],
             [
              0.7777777777777778,
              "#fb9f3a"
             ],
             [
              0.8888888888888888,
              "#fdca26"
             ],
             [
              1,
              "#f0f921"
             ]
            ],
            "type": "heatmap"
           }
          ],
          "histogram": [
           {
            "marker": {
             "pattern": {
              "fillmode": "overlay",
              "size": 10,
              "solidity": 0.2
             }
            },
            "type": "histogram"
           }
          ],
          "histogram2d": [
           {
            "colorbar": {
             "outlinewidth": 0,
             "ticks": ""
            },
            "colorscale": [
             [
              0,
              "#0d0887"
             ],
             [
              0.1111111111111111,
              "#46039f"
             ],
             [
              0.2222222222222222,
              "#7201a8"
             ],
             [
              0.3333333333333333,
              "#9c179e"
             ],
             [
              0.4444444444444444,
              "#bd3786"
             ],
             [
              0.5555555555555556,
              "#d8576b"
             ],
             [
              0.6666666666666666,
              "#ed7953"
             ],
             [
              0.7777777777777778,
              "#fb9f3a"
             ],
             [
              0.8888888888888888,
              "#fdca26"
             ],
             [
              1,
              "#f0f921"
             ]
            ],
            "type": "histogram2d"
           }
          ],
          "histogram2dcontour": [
           {
            "colorbar": {
             "outlinewidth": 0,
             "ticks": ""
            },
            "colorscale": [
             [
              0,
              "#0d0887"
             ],
             [
              0.1111111111111111,
              "#46039f"
             ],
             [
              0.2222222222222222,
              "#7201a8"
             ],
             [
              0.3333333333333333,
              "#9c179e"
             ],
             [
              0.4444444444444444,
              "#bd3786"
             ],
             [
              0.5555555555555556,
              "#d8576b"
             ],
             [
              0.6666666666666666,
              "#ed7953"
             ],
             [
              0.7777777777777778,
              "#fb9f3a"
             ],
             [
              0.8888888888888888,
              "#fdca26"
             ],
             [
              1,
              "#f0f921"
             ]
            ],
            "type": "histogram2dcontour"
           }
          ],
          "mesh3d": [
           {
            "colorbar": {
             "outlinewidth": 0,
             "ticks": ""
            },
            "type": "mesh3d"
           }
          ],
          "parcoords": [
           {
            "line": {
             "colorbar": {
              "outlinewidth": 0,
              "ticks": ""
             }
            },
            "type": "parcoords"
           }
          ],
          "pie": [
           {
            "automargin": true,
            "type": "pie"
           }
          ],
          "scatter": [
           {
            "fillpattern": {
             "fillmode": "overlay",
             "size": 10,
             "solidity": 0.2
            },
            "type": "scatter"
           }
          ],
          "scatter3d": [
           {
            "line": {
             "colorbar": {
              "outlinewidth": 0,
              "ticks": ""
             }
            },
            "marker": {
             "colorbar": {
              "outlinewidth": 0,
              "ticks": ""
             }
            },
            "type": "scatter3d"
           }
          ],
          "scattercarpet": [
           {
            "marker": {
             "colorbar": {
              "outlinewidth": 0,
              "ticks": ""
             }
            },
            "type": "scattercarpet"
           }
          ],
          "scattergeo": [
           {
            "marker": {
             "colorbar": {
              "outlinewidth": 0,
              "ticks": ""
             }
            },
            "type": "scattergeo"
           }
          ],
          "scattergl": [
           {
            "marker": {
             "colorbar": {
              "outlinewidth": 0,
              "ticks": ""
             }
            },
            "type": "scattergl"
           }
          ],
          "scattermap": [
           {
            "marker": {
             "colorbar": {
              "outlinewidth": 0,
              "ticks": ""
             }
            },
            "type": "scattermap"
           }
          ],
          "scattermapbox": [
           {
            "marker": {
             "colorbar": {
              "outlinewidth": 0,
              "ticks": ""
             }
            },
            "type": "scattermapbox"
           }
          ],
          "scatterpolar": [
           {
            "marker": {
             "colorbar": {
              "outlinewidth": 0,
              "ticks": ""
             }
            },
            "type": "scatterpolar"
           }
          ],
          "scatterpolargl": [
           {
            "marker": {
             "colorbar": {
              "outlinewidth": 0,
              "ticks": ""
             }
            },
            "type": "scatterpolargl"
           }
          ],
          "scatterternary": [
           {
            "marker": {
             "colorbar": {
              "outlinewidth": 0,
              "ticks": ""
             }
            },
            "type": "scatterternary"
           }
          ],
          "surface": [
           {
            "colorbar": {
             "outlinewidth": 0,
             "ticks": ""
            },
            "colorscale": [
             [
              0,
              "#0d0887"
             ],
             [
              0.1111111111111111,
              "#46039f"
             ],
             [
              0.2222222222222222,
              "#7201a8"
             ],
             [
              0.3333333333333333,
              "#9c179e"
             ],
             [
              0.4444444444444444,
              "#bd3786"
             ],
             [
              0.5555555555555556,
              "#d8576b"
             ],
             [
              0.6666666666666666,
              "#ed7953"
             ],
             [
              0.7777777777777778,
              "#fb9f3a"
             ],
             [
              0.8888888888888888,
              "#fdca26"
             ],
             [
              1,
              "#f0f921"
             ]
            ],
            "type": "surface"
           }
          ],
          "table": [
           {
            "cells": {
             "fill": {
              "color": "#EBF0F8"
             },
             "line": {
              "color": "white"
             }
            },
            "header": {
             "fill": {
              "color": "#C8D4E3"
             },
             "line": {
              "color": "white"
             }
            },
            "type": "table"
           }
          ]
         },
         "layout": {
          "annotationdefaults": {
           "arrowcolor": "#2a3f5f",
           "arrowhead": 0,
           "arrowwidth": 1
          },
          "autotypenumbers": "strict",
          "coloraxis": {
           "colorbar": {
            "outlinewidth": 0,
            "ticks": ""
           }
          },
          "colorscale": {
           "diverging": [
            [
             0,
             "#8e0152"
            ],
            [
             0.1,
             "#c51b7d"
            ],
            [
             0.2,
             "#de77ae"
            ],
            [
             0.3,
             "#f1b6da"
            ],
            [
             0.4,
             "#fde0ef"
            ],
            [
             0.5,
             "#f7f7f7"
            ],
            [
             0.6,
             "#e6f5d0"
            ],
            [
             0.7,
             "#b8e186"
            ],
            [
             0.8,
             "#7fbc41"
            ],
            [
             0.9,
             "#4d9221"
            ],
            [
             1,
             "#276419"
            ]
           ],
           "sequential": [
            [
             0,
             "#0d0887"
            ],
            [
             0.1111111111111111,
             "#46039f"
            ],
            [
             0.2222222222222222,
             "#7201a8"
            ],
            [
             0.3333333333333333,
             "#9c179e"
            ],
            [
             0.4444444444444444,
             "#bd3786"
            ],
            [
             0.5555555555555556,
             "#d8576b"
            ],
            [
             0.6666666666666666,
             "#ed7953"
            ],
            [
             0.7777777777777778,
             "#fb9f3a"
            ],
            [
             0.8888888888888888,
             "#fdca26"
            ],
            [
             1,
             "#f0f921"
            ]
           ],
           "sequentialminus": [
            [
             0,
             "#0d0887"
            ],
            [
             0.1111111111111111,
             "#46039f"
            ],
            [
             0.2222222222222222,
             "#7201a8"
            ],
            [
             0.3333333333333333,
             "#9c179e"
            ],
            [
             0.4444444444444444,
             "#bd3786"
            ],
            [
             0.5555555555555556,
             "#d8576b"
            ],
            [
             0.6666666666666666,
             "#ed7953"
            ],
            [
             0.7777777777777778,
             "#fb9f3a"
            ],
            [
             0.8888888888888888,
             "#fdca26"
            ],
            [
             1,
             "#f0f921"
            ]
           ]
          },
          "colorway": [
           "#636efa",
           "#EF553B",
           "#00cc96",
           "#ab63fa",
           "#FFA15A",
           "#19d3f3",
           "#FF6692",
           "#B6E880",
           "#FF97FF",
           "#FECB52"
          ],
          "font": {
           "color": "#2a3f5f"
          },
          "geo": {
           "bgcolor": "white",
           "lakecolor": "white",
           "landcolor": "white",
           "showlakes": true,
           "showland": true,
           "subunitcolor": "#C8D4E3"
          },
          "hoverlabel": {
           "align": "left"
          },
          "hovermode": "closest",
          "mapbox": {
           "style": "light"
          },
          "paper_bgcolor": "white",
          "plot_bgcolor": "white",
          "polar": {
           "angularaxis": {
            "gridcolor": "#EBF0F8",
            "linecolor": "#EBF0F8",
            "ticks": ""
           },
           "bgcolor": "white",
           "radialaxis": {
            "gridcolor": "#EBF0F8",
            "linecolor": "#EBF0F8",
            "ticks": ""
           }
          },
          "scene": {
           "xaxis": {
            "backgroundcolor": "white",
            "gridcolor": "#DFE8F3",
            "gridwidth": 2,
            "linecolor": "#EBF0F8",
            "showbackground": true,
            "ticks": "",
            "zerolinecolor": "#EBF0F8"
           },
           "yaxis": {
            "backgroundcolor": "white",
            "gridcolor": "#DFE8F3",
            "gridwidth": 2,
            "linecolor": "#EBF0F8",
            "showbackground": true,
            "ticks": "",
            "zerolinecolor": "#EBF0F8"
           },
           "zaxis": {
            "backgroundcolor": "white",
            "gridcolor": "#DFE8F3",
            "gridwidth": 2,
            "linecolor": "#EBF0F8",
            "showbackground": true,
            "ticks": "",
            "zerolinecolor": "#EBF0F8"
           }
          },
          "shapedefaults": {
           "line": {
            "color": "#2a3f5f"
           }
          },
          "ternary": {
           "aaxis": {
            "gridcolor": "#DFE8F3",
            "linecolor": "#A2B1C6",
            "ticks": ""
           },
           "baxis": {
            "gridcolor": "#DFE8F3",
            "linecolor": "#A2B1C6",
            "ticks": ""
           },
           "bgcolor": "white",
           "caxis": {
            "gridcolor": "#DFE8F3",
            "linecolor": "#A2B1C6",
            "ticks": ""
           }
          },
          "title": {
           "x": 0.05
          },
          "xaxis": {
           "automargin": true,
           "gridcolor": "#EBF0F8",
           "linecolor": "#EBF0F8",
           "ticks": "",
           "title": {
            "standoff": 15
           },
           "zerolinecolor": "#EBF0F8",
           "zerolinewidth": 2
          },
          "yaxis": {
           "automargin": true,
           "gridcolor": "#EBF0F8",
           "linecolor": "#EBF0F8",
           "ticks": "",
           "title": {
            "standoff": 15
           },
           "zerolinecolor": "#EBF0F8",
           "zerolinewidth": 2
          }
         }
        },
        "title": {
         "text": "<b>Baseline App (Calm): Evolution of User Complaints Over Time</b>",
         "x": 0.5
        },
        "xaxis": {
         "anchor": "y",
         "domain": [
          0,
          1
         ],
         "title": {
          "text": "Month"
         }
        },
        "yaxis": {
         "anchor": "x",
         "domain": [
          0,
          1
         ],
         "title": {
          "text": "Number of Negative Reviews"
         }
        }
       }
      }
     },
     "metadata": {},
     "output_type": "display_data"
    }
   ],
   "source": [
    "# 1. Prepare the data\n",
    "df_base[\"date\"] = pd.to_datetime(df_base[\"date\"], errors=\"coerce\")\n",
    "df_base.dropna(subset=[\"date\"], inplace=True)\n",
    "plot_df_time_base = df_base[\n",
    "    ~df_base[\"theme\"].isin([\"Outliers / Generic\", \"Other/Misc.\", \"Uncategorized\"])\n",
    "]\n",
    "\n",
    "# 2. Group by month\n",
    "monthly_trends_base = (\n",
    "    plot_df_time_base.groupby([pd.Grouper(key=\"date\", freq=\"M\"), \"theme\"])\n",
    "    .size()\n",
    "    .reset_index(name=\"review_count\")\n",
    ")\n",
    "monthly_trends_base[\"month\"] = (\n",
    "    monthly_trends_base[\"date\"].dt.to_period(\"M\").dt.to_timestamp()\n",
    ")\n",
    "\n",
    "# 3. Create the Visualization\n",
    "fig_timeseries_base = px.line(\n",
    "    monthly_trends_base,\n",
    "    x=\"month\",\n",
    "    y=\"review_count\",\n",
    "    color=\"theme\",\n",
    "    markers=True,\n",
    "    title=\"<b>Baseline App (Calm): Evolution of User Complaints Over Time</b>\",\n",
    "    labels={\"month\": \"Month\", \"review_count\": \"Number of Negative Reviews\"},\n",
    "    template=\"plotly_white\",\n",
    ")\n",
    "\n",
    "fig_timeseries_base.update_layout(title_x=0.5, legend_title_text=\"Complaint Theme\")\n",
    "fig_timeseries_base.show()"
   ]
  },
  {
   "cell_type": "code",
   "execution_count": 18,
   "metadata": {
    "trusted": true
   },
   "outputs": [
    {
     "name": "stdout",
     "output_type": "stream",
     "text": [
      "Successfully saved the final, enriched dataset to: baseline_app_themed_and_scored.csv\n",
      "You can now find this file in the 'Output' section of this notebook on Kaggle.\n"
     ]
    }
   ],
   "source": [
    "# --- Final Step: Save the Enriched DataFrame ---\n",
    "\n",
    "# Define the output filename\n",
    "output_filename_base = \"baseline_app_themed_and_scored.csv\"\n",
    "\n",
    "# Save the DataFrame to a new CSV file\n",
    "df_base.to_csv(output_filename_base, index=False)\n",
    "\n",
    "print(f\"Successfully saved the final, enriched dataset to: {output_filename_base}\")\n",
    "print(\"You can now find this file in the 'Output' section of this notebook on Kaggle.\")"
   ]
  }
 ],
 "metadata": {
  "kaggle": {
   "accelerator": "nvidiaTeslaT4",
   "dataSources": [
    {
     "datasetId": 7768066,
     "sourceId": 12323677,
     "sourceType": "datasetVersion"
    },
    {
     "datasetId": 7827934,
     "sourceId": 12412084,
     "sourceType": "datasetVersion"
    }
   ],
   "dockerImageVersionId": 31090,
   "isGpuEnabled": true,
   "isInternetEnabled": true,
   "language": "python",
   "sourceType": "notebook"
  },
  "kernelspec": {
   "display_name": "mentalhealth",
   "language": "python",
   "name": "python3"
  },
  "language_info": {
   "codemirror_mode": {
    "name": "ipython",
    "version": 3
   },
   "file_extension": ".py",
   "mimetype": "text/x-python",
   "name": "python",
   "nbconvert_exporter": "python",
   "pygments_lexer": "ipython3",
   "version": "3.12.3"
  }
 },
 "nbformat": 4,
 "nbformat_minor": 4
}
