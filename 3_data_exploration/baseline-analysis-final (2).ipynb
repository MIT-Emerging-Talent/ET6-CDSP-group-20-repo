{
 "cells": [
  {
   "cell_type": "markdown",
   "metadata": {},
   "source": "# Baseline App Analysis: Calm User Reviews\n\n**Milestone 3: Data Analysis (Part 2)**\n\nThis notebook serves as the \"control group\" for our main analysis. We will perform the exact same topic modeling pipeline on the user reviews for **Calm**, a popular but non-conversational wellness app.\n\n**Objective:**\nBy identifying the primary complaint themes for a baseline app, we can compare them to our conversational app findings. This will allow us to isolate the failure modes that are **unique to conversational AI**."
  },
  {
   "cell_type": "markdown",
   "metadata": {},
   "source": " 🧼 Import all necessary libraries UNCOMMENT AND RUN IT\n 📦 Install all required packages quietly\n !pip install bertopic[visualization] --quiet\n !pip install hdbscan --quiet\n !pip install umap-learn --quiet"
  },
  {
   "cell_type": "code",
   "execution_count": null,
   "metadata": {
    "trusted": true
   },
   "outputs": [],
   "source": [
    "import warnings\n",
    "import pandas as pd\n",
    "from bertopic import BERTopic \n",
    "from umap import UMAP\n",
    "from hdbscan import HDBSCAN\n",
    "from sklearn.feature_extraction.text import CountVectorizer\n",
    "from transformers import AutoTokenizer, AutoModelForSequenceClassification\n",
    "import torch\n",
    "from torch.utils.data import DataLoader, TensorDataset\n",
    "from tqdm.notebook import tqdm\n",
    "import plotly.express as px\n",
    "from IPython.display import display\n",
    "\n",
    "warnings.filterwarnings(\"ignore\")\n",
    "print(\"✅ Setup complete. All libraries are ready.\")"
   ]
  },
  {
   "cell_type": "code",
   "execution_count": 5,
   "metadata": {
    "execution": {
     "iopub.execute_input": "2025-07-22T11:36:35.382258Z",
     "iopub.status.busy": "2025-07-22T11:36:35.381462Z",
     "iopub.status.idle": "2025-07-22T11:36:35.522040Z",
     "shell.execute_reply": "2025-07-22T11:36:35.521211Z",
     "shell.execute_reply.started": "2025-07-22T11:36:35.382234Z"
    },
    "trusted": true
   },
   "outputs": [
    {
     "name": "stdout",
     "output_type": "stream",
     "text": "Loading the baseline app dataset (Calm)...\nsuccessfully loaded and cleaned 8506 documents for modeling.\n"
    }
   ],
   "source": [
    "print (\"Loading the baseline app dataset (Calm)...\")\n",
    "\n",
    "\n",
    "DATA_PATH = '/kaggle/input/user-reviews-of-mental-health-chatbots-2022-2025/baseline_app_dataset.csv'\n",
    "\n",
    "try:\n",
    "    df_base = pd.read_csv(DATA_PATH)\n",
    "\n",
    "    df_base.dropna(subset = [\"review_text\"], inplace = True)\n",
    "    df_base['review_text'] = df_base['review_text'].astype(str).str.lower().str.strip()\n",
    "    df_base = df_base[df_base['review_text'].str.len() > 15]\n",
    "\n",
    "    docs_base = df_base['review_text'].tolist()\n",
    "    print(f\"successfully loaded and cleaned {len(docs_base)} documents for modeling.\")\n",
    "\n",
    "except FileNotFoundError:\n",
    "    print(f\"Error: Dataset not found at {DATA_PATH}. Please upload the file and check the path.\")\n",
    "    "
   ]
  },
  {
   "cell_type": "code",
   "execution_count": 6,
   "metadata": {
    "execution": {
     "iopub.execute_input": "2025-07-22T11:36:39.010840Z",
     "iopub.status.busy": "2025-07-22T11:36:39.010563Z",
     "iopub.status.idle": "2025-07-22T11:36:39.019321Z",
     "shell.execute_reply": "2025-07-22T11:36:39.018655Z",
     "shell.execute_reply.started": "2025-07-22T11:36:39.010821Z"
    },
    "trusted": true
   },
   "outputs": [
    {
     "name": "stdout",
     "output_type": "stream",
     "text": "Configuring a reproducible BERTopic model...\nBERTopic model is configured and ready for training.\n"
    }
   ],
   "source": [
    "# --- Step 3: Configure the Topic Model ---\n",
    "print(\"Configuring a reproducible BERTopic model...\")\n",
    "\n",
    "# A. Define a Stopword List (Identical to the first analysis)\n",
    "stop_words = [\n",
    "    \"app\", \"replika\", \"wysa\", \"woebot\", \"calm\", \"bot\", \"ai\", \"like\", \"feel\", \"good\", \n",
    "    \"great\", \"nice\", \"love\", \"best\", \"amazing\", \"awesome\", \"fun\", \"ok\", \"cool\",\n",
    "    \"me\", \"it\", \"and\", \"to\", \"the\", \"my\", \"is\", \"of\", \"with\", \"that\", \"for\", \"you\", \"but\",\n",
    "    \"so\", \"on\", \"was\", \"this\", \"have\", \"in\", \"be\", \"as\", \"at\", \"not\", \"just\", \"are\",\n",
    "    \"get\", \"want\", \"use\", \"go\", \"know\", \"say\", \"see\", \"think\", \"really\", \"even\", \"also\"\n",
    "]\n",
    "\n",
    "# B. Define Deterministic Components (Identical)\n",
    "random_seed = 42\n",
    "umap_model = UMAP(n_neighbors=15, n_components=5, min_dist=0.0, metric='cosine', random_state=random_seed)\n",
    "hdbscan_model = HDBSCAN(min_cluster_size=30, metric='euclidean', cluster_selection_method='eom', prediction_data=True) # min_cluster_size can be smaller for smaller dataset\n",
    "vectorizer_model = CountVectorizer(stop_words=stop_words, ngram_range=(1, 2))\n",
    "\n",
    "# C. Initialize the final BERTopic model (Identical)\n",
    "topic_model_base = BERTopic(\n",
    "    language=\"multilingual\",\n",
    "    umap_model=umap_model,\n",
    "    hdbscan_model=hdbscan_model,\n",
    "    vectorizer_model=vectorizer_model,\n",
    "    min_topic_size=30, # Adjusted for a potentially smaller dataset\n",
    "    verbose=True\n",
    ")\n",
    "\n",
    "print(\"BERTopic model is configured and ready for training.\")"
   ]
  },
  {
   "cell_type": "code",
   "execution_count": 6,
   "metadata": {
    "execution": {
     "iopub.execute_input": "2025-07-21T09:19:08.770332Z",
     "iopub.status.busy": "2025-07-21T09:19:08.770035Z",
     "iopub.status.idle": "2025-07-21T09:20:09.227746Z",
     "shell.execute_reply": "2025-07-21T09:20:09.227029Z",
     "shell.execute_reply.started": "2025-07-21T09:19:08.770314Z"
    },
    "trusted": true
   },
   "outputs": [
    {
     "name": "stderr",
     "output_type": "stream",
     "text": "2025-07-21 09:19:08,795 - BERTopic - Embedding - Transforming documents to embeddings.\n"
    },
    {
     "name": "stdout",
     "output_type": "stream",
     "text": "Training BERTopic on 8506 basline documents. This will take a few minutes...\n"
    },
    {
     "data": {
      "application/vnd.jupyter.widget-view+json": {
       "model_id": "7679d5b6673c43fb94bedde34e8b188a",
       "version_major": 2,
       "version_minor": 0
      },
      "text/plain": "modules.json:   0%|          | 0.00/229 [00:00<?, ?B/s]"
     },
     "metadata": {},
     "output_type": "display_data"
    },
    {
     "data": {
      "application/vnd.jupyter.widget-view+json": {
       "model_id": "82e1f37ac5984b51b191df41d5a75e3e",
       "version_major": 2,
       "version_minor": 0
      },
      "text/plain": "config_sentence_transformers.json:   0%|          | 0.00/122 [00:00<?, ?B/s]"
     },
     "metadata": {},
     "output_type": "display_data"
    },
    {
     "data": {
      "application/vnd.jupyter.widget-view+json": {
       "model_id": "486ec548f7a5417eb2b52ce63dd12387",
       "version_major": 2,
       "version_minor": 0
      },
      "text/plain": "README.md: 0.00B [00:00, ?B/s]"
     },
     "metadata": {},
     "output_type": "display_data"
    },
    {
     "data": {
      "application/vnd.jupyter.widget-view+json": {
       "model_id": "0fa52f0b2d954ab6bd40d83512d9c352",
       "version_major": 2,
       "version_minor": 0
      },
      "text/plain": "sentence_bert_config.json:   0%|          | 0.00/53.0 [00:00<?, ?B/s]"
     },
     "metadata": {},
     "output_type": "display_data"
    },
    {
     "data": {
      "application/vnd.jupyter.widget-view+json": {
       "model_id": "33d7d761843049b098c55ea164fcebe4",
       "version_major": 2,
       "version_minor": 0
      },
      "text/plain": "config.json:   0%|          | 0.00/645 [00:00<?, ?B/s]"
     },
     "metadata": {},
     "output_type": "display_data"
    },
    {
     "data": {
      "application/vnd.jupyter.widget-view+json": {
       "model_id": "a1bd015b2b4a4097833c4bdd40f8d05f",
       "version_major": 2,
       "version_minor": 0
      },
      "text/plain": "model.safetensors:   0%|          | 0.00/471M [00:00<?, ?B/s]"
     },
     "metadata": {},
     "output_type": "display_data"
    },
    {
     "data": {
      "application/vnd.jupyter.widget-view+json": {
       "model_id": "6ba44b0523374d77b5b5d338bfe85b46",
       "version_major": 2,
       "version_minor": 0
      },
      "text/plain": "tokenizer_config.json:   0%|          | 0.00/480 [00:00<?, ?B/s]"
     },
     "metadata": {},
     "output_type": "display_data"
    },
    {
     "data": {
      "application/vnd.jupyter.widget-view+json": {
       "model_id": "2c04674d94d242daa3b8a7ebdafa2f7c",
       "version_major": 2,
       "version_minor": 0
      },
      "text/plain": "tokenizer.json:   0%|          | 0.00/9.08M [00:00<?, ?B/s]"
     },
     "metadata": {},
     "output_type": "display_data"
    },
    {
     "data": {
      "application/vnd.jupyter.widget-view+json": {
       "model_id": "7804988bd636446d8569bc2a0b99493c",
       "version_major": 2,
       "version_minor": 0
      },
      "text/plain": "special_tokens_map.json:   0%|          | 0.00/239 [00:00<?, ?B/s]"
     },
     "metadata": {},
     "output_type": "display_data"
    },
    {
     "data": {
      "application/vnd.jupyter.widget-view+json": {
       "model_id": "b891050cfe41434f95ed6a5683af1664",
       "version_major": 2,
       "version_minor": 0
      },
      "text/plain": "config.json:   0%|          | 0.00/190 [00:00<?, ?B/s]"
     },
     "metadata": {},
     "output_type": "display_data"
    },
    {
     "data": {
      "application/vnd.jupyter.widget-view+json": {
       "model_id": "dc1bedf718e4414882f743cd7091f3ce",
       "version_major": 2,
       "version_minor": 0
      },
      "text/plain": "Batches:   0%|          | 0/266 [00:00<?, ?it/s]"
     },
     "metadata": {},
     "output_type": "display_data"
    },
    {
     "name": "stderr",
     "output_type": "stream",
     "text": "2025-07-21 09:19:28,234 - BERTopic - Embedding - Completed ✓\n2025-07-21 09:19:28,235 - BERTopic - Dimensionality - Fitting the dimensionality reduction algorithm\n2025-07-21 09:20:08,003 - BERTopic - Dimensionality - Completed ✓\n2025-07-21 09:20:08,005 - BERTopic - Cluster - Start clustering the reduced embeddings\n2025-07-21 09:20:08,382 - BERTopic - Cluster - Completed ✓\n2025-07-21 09:20:08,390 - BERTopic - Representation - Fine-tuning topics using representation models.\n2025-07-21 09:20:08,950 - BERTopic - Representation - Completed ✓\n"
    },
    {
     "name": "stdout",
     "output_type": "stream",
     "text": "n\\ Baseline model trainig complete\n"
    }
   ],
   "source": [
    "print(f\"Training BERTopic on {len(docs_base)} basline documents. This will take a few minutes...\")\n",
    "\n",
    "topics_base, probs_base = topic_model_base.fit_transform(docs_base)\n",
    "\n",
    "print(\"n\\ Baseline model trainig complete\")"
   ]
  },
  {
   "cell_type": "code",
   "execution_count": 7,
   "metadata": {
    "execution": {
     "iopub.execute_input": "2025-07-21T09:20:09.228816Z",
     "iopub.status.busy": "2025-07-21T09:20:09.228540Z",
     "iopub.status.idle": "2025-07-21T09:20:09.273776Z",
     "shell.execute_reply": "2025-07-21T09:20:09.272927Z",
     "shell.execute_reply.started": "2025-07-21T09:20:09.228796Z"
    },
    "trusted": true
   },
   "outputs": [
    {
     "name": "stdout",
     "output_type": "stream",
     "text": "Displaying the baseline topic overview...\n"
    },
    {
     "data": {
      "text/html": "<div>\n<style scoped>\n    .dataframe tbody tr th:only-of-type {\n        vertical-align: middle;\n    }\n\n    .dataframe tbody tr th {\n        vertical-align: top;\n    }\n\n    .dataframe thead th {\n        text-align: right;\n    }\n</style>\n<table border=\"1\" class=\"dataframe\">\n  <thead>\n    <tr style=\"text-align: right;\">\n      <th></th>\n      <th>Topic</th>\n      <th>Count</th>\n      <th>Name</th>\n      <th>Representation</th>\n      <th>Representative_Docs</th>\n    </tr>\n  </thead>\n  <tbody>\n    <tr>\n      <th>0</th>\n      <td>-1</td>\n      <td>3476</td>\n      <td>-1_free_can_sleep_they</td>\n      <td>[free, can, sleep, they, subscription, pay, no...</td>\n      <td>[i got this app for a week trial and nowhere c...</td>\n    </tr>\n    <tr>\n      <th>1</th>\n      <td>0</td>\n      <td>614</td>\n      <td>0_free_pay_if_anything</td>\n      <td>[free, pay, if, anything, can, do, money, paid...</td>\n      <td>[is not free app 😅, is this app free, it is no...</td>\n    </tr>\n    <tr>\n      <th>2</th>\n      <td>1</td>\n      <td>342</td>\n      <td>1_meditation_meditations_more_find</td>\n      <td>[meditation, meditations, more, find, guided, ...</td>\n      <td>[this app could be great, but it's missing som...</td>\n    </tr>\n    <tr>\n      <th>3</th>\n      <td>2</td>\n      <td>274</td>\n      <td>2_trial_free trial_free_day</td>\n      <td>[trial, free trial, free, day, charged, day fr...</td>\n      <td>[free trial, and then it's really not free., t...</td>\n    </tr>\n    <tr>\n      <th>4</th>\n      <td>3</td>\n      <td>248</td>\n      <td>3_trial_free trial_free_day</td>\n      <td>[trial, free trial, free, day, day free, day t...</td>\n      <td>[you have to make an account to use it. after ...</td>\n    </tr>\n    <tr>\n      <th>5</th>\n      <td>4</td>\n      <td>223</td>\n      <td>4_listen_sounds_sound_listen anything</td>\n      <td>[listen, sounds, sound, listen anything, music...</td>\n      <td>[if you don't pay for premium you can't listen...</td>\n    </tr>\n    <tr>\n      <th>6</th>\n      <td>5</td>\n      <td>209</td>\n      <td>5_crashes_open_content_phone</td>\n      <td>[crashes, open, content, phone, screen, time, ...</td>\n      <td>[i've been using calm for over 2 years. since ...</td>\n    </tr>\n    <tr>\n      <th>7</th>\n      <td>6</td>\n      <td>185</td>\n      <td>6_refund_charged_subscription_email</td>\n      <td>[refund, charged, subscription, email, they, a...</td>\n      <td>[the app is probably ok, customer service suck...</td>\n    </tr>\n    <tr>\n      <th>8</th>\n      <td>7</td>\n      <td>177</td>\n      <td>7_subscription_subscribe_monthly_monthly subsc...</td>\n      <td>[subscription, subscribe, monthly, monthly sub...</td>\n      <td>[requires subscription, requires subscription,...</td>\n    </tr>\n    <tr>\n      <th>9</th>\n      <td>8</td>\n      <td>148</td>\n      <td>8_sounds_sound_soundscapes_audio</td>\n      <td>[sounds, sound, soundscapes, audio, noise, fre...</td>\n      <td>[i had this app and used it all the time. and ...</td>\n    </tr>\n    <tr>\n      <th>10</th>\n      <td>9</td>\n      <td>143</td>\n      <td>9_cancel_cancel subscription_subscription_impo...</td>\n      <td>[cancel, cancel subscription, subscription, im...</td>\n      <td>[impossible to cancel a subscription., impossi...</td>\n    </tr>\n    <tr>\n      <th>11</th>\n      <td>10</td>\n      <td>138</td>\n      <td>10_free_free free_free thought_thought</td>\n      <td>[free, free free, free thought, thought, thoug...</td>\n      <td>[this is not free!!!, it's not really free, th...</td>\n    </tr>\n    <tr>\n      <th>12</th>\n      <td>11</td>\n      <td>132</td>\n      <td>11_refund_charged_they_subscription</td>\n      <td>[refund, charged, they, subscription, money, c...</td>\n      <td>[they gave me free trial and automatically ded...</td>\n    </tr>\n    <tr>\n      <th>13</th>\n      <td>12</td>\n      <td>124</td>\n      <td>12_youtube_youtube free_videos_free</td>\n      <td>[youtube, youtube free, videos, free, can, fre...</td>\n      <td>[not worth $70/year when i can find the same t...</td>\n    </tr>\n    <tr>\n      <th>14</th>\n      <td>13</td>\n      <td>117</td>\n      <td>13_ads_false_advertising_false advertising</td>\n      <td>[ads, false, advertising, false advertising, f...</td>\n      <td>[not free! false advertising😡, false advertisi...</td>\n    </tr>\n    <tr>\n      <th>15</th>\n      <td>14</td>\n      <td>114</td>\n      <td>14_work_did_what_far</td>\n      <td>[work, did, what, far, doesn, useless, doesn w...</td>\n      <td>[so far so good. nice to be able to write stuf...</td>\n    </tr>\n    <tr>\n      <th>16</th>\n      <td>15</td>\n      <td>108</td>\n      <td>15_cancel_cancel subscription_subscription_trying</td>\n      <td>[cancel, cancel subscription, subscription, tr...</td>\n      <td>[this app doesn't let me cancel the subscripti...</td>\n    </tr>\n    <tr>\n      <th>17</th>\n      <td>16</td>\n      <td>107</td>\n      <td>16_expensive_too_too expensive_much</td>\n      <td>[expensive, too, too expensive, much, too much...</td>\n      <td>[way too expensive., too expensive...., it's t...</td>\n    </tr>\n    <tr>\n      <th>18</th>\n      <td>17</td>\n      <td>106</td>\n      <td>17_pay_pay everything_everything_everything pay</td>\n      <td>[pay, pay everything, everything, everything p...</td>\n      <td>[you have to pay for everything, have to pay f...</td>\n    </tr>\n    <tr>\n      <th>19</th>\n      <td>18</td>\n      <td>99</td>\n      <td>18_cancel_impossible_impossible cancel_can cancel</td>\n      <td>[cancel, impossible, impossible cancel, can ca...</td>\n      <td>[nightmare in trying to cancel my automatic re...</td>\n    </tr>\n    <tr>\n      <th>20</th>\n      <td>19</td>\n      <td>89</td>\n      <td>19_download_version_free version_free</td>\n      <td>[download, version, free version, free, free d...</td>\n      <td>[nothing available on the free version 🤷, noth...</td>\n    </tr>\n    <tr>\n      <th>21</th>\n      <td>20</td>\n      <td>88</td>\n      <td>20_sleep_pay_free_help</td>\n      <td>[sleep, pay, free, help, your, stories, free s...</td>\n      <td>[i fall asleep at 1:?? am and i got this tj he...</td>\n    </tr>\n    <tr>\n      <th>22</th>\n      <td>21</td>\n      <td>87</td>\n      <td>21_locked_everything locked_everything_locked ...</td>\n      <td>[locked, everything locked, everything, locked...</td>\n      <td>[everything is locked, everything was locked, ...</td>\n    </tr>\n    <tr>\n      <th>23</th>\n      <td>22</td>\n      <td>87</td>\n      <td>22_stories_sleep_story_sleep stories</td>\n      <td>[stories, sleep, story, sleep stories, sleep s...</td>\n      <td>[i wanted to access the sleep stories but they...</td>\n    </tr>\n    <tr>\n      <th>24</th>\n      <td>23</td>\n      <td>85</td>\n      <td>23_anxiety_stress_people_help</td>\n      <td>[anxiety, stress, people, help, money, an, pay...</td>\n      <td>[the calm app sacrifices actually caring for p...</td>\n    </tr>\n    <tr>\n      <th>25</th>\n      <td>24</td>\n      <td>75</td>\n      <td>24_paywall_behind paywall_behind_everything</td>\n      <td>[paywall, behind paywall, behind, everything, ...</td>\n      <td>[everything locked behind paywall, everything ...</td>\n    </tr>\n    <tr>\n      <th>26</th>\n      <td>25</td>\n      <td>73</td>\n      <td>25_uninstalled_uninstall_immediately_uninstall...</td>\n      <td>[uninstalled, uninstall, immediately, uninstal...</td>\n      <td>[absolutely nothing is free. uninstalled immed...</td>\n    </tr>\n    <tr>\n      <th>27</th>\n      <td>26</td>\n      <td>71</td>\n      <td>26_calming_down_pay_breathe</td>\n      <td>[calming, down, pay, breathe, more, life, don,...</td>\n      <td>[not gonna lie i used it for a second to just ...</td>\n    </tr>\n    <tr>\n      <th>28</th>\n      <td>27</td>\n      <td>62</td>\n      <td>27_uninstalled_uninstall_uninstalling_delete</td>\n      <td>[uninstalled, uninstall, uninstalling, delete,...</td>\n      <td>[the premium version of this app is provided t...</td>\n    </tr>\n    <tr>\n      <th>29</th>\n      <td>28</td>\n      <td>58</td>\n      <td>28_sleep_pay_help_pay sleep</td>\n      <td>[sleep, pay, help, pay sleep, sleeping, insomn...</td>\n      <td>[i have to pay to sleep, of course the number ...</td>\n    </tr>\n    <tr>\n      <th>30</th>\n      <td>29</td>\n      <td>55</td>\n      <td>29_pay_unless pay_do anything_unless</td>\n      <td>[pay, unless pay, do anything, unless, can do,...</td>\n      <td>[you can't do anything without paying, can't d...</td>\n    </tr>\n    <tr>\n      <th>31</th>\n      <td>30</td>\n      <td>50</td>\n      <td>30_free_pay_nothing free_nothing</td>\n      <td>[free, pay, nothing free, nothing, everything ...</td>\n      <td>[you have to pay quite literally, for everythi...</td>\n    </tr>\n    <tr>\n      <th>32</th>\n      <td>31</td>\n      <td>50</td>\n      <td>31_breathing_watch_exercises_breathing exercises</td>\n      <td>[breathing, watch, exercises, breathing exerci...</td>\n      <td>[good breathing exercises so far, i pay for pr...</td>\n    </tr>\n    <tr>\n      <th>33</th>\n      <td>32</td>\n      <td>45</td>\n      <td>32_stars_zero stars_zero_star</td>\n      <td>[stars, zero stars, zero, star, give, if could...</td>\n      <td>[i just subscribed for 1 month and nothing is ...</td>\n    </tr>\n    <tr>\n      <th>34</th>\n      <td>33</td>\n      <td>45</td>\n      <td>33_scam_your money_financial_info</td>\n      <td>[scam, your money, financial, info, your, scam...</td>\n      <td>[scam. all this is, is a scam for money. super...</td>\n    </tr>\n    <tr>\n      <th>35</th>\n      <td>34</td>\n      <td>44</td>\n      <td>34_70_year_70 year_per year</td>\n      <td>[70, year, 70 year, per year, dollars, 60, per...</td>\n      <td>[$70 per year?!?! are you insane?, 70 bucks a ...</td>\n    </tr>\n    <tr>\n      <th>36</th>\n      <td>35</td>\n      <td>40</td>\n      <td>35_mm_mm mm_diva_bb</td>\n      <td>[mm, mm mm, diva, bb, diva diva, no no, aaz, l...</td>\n      <td>[hupercondrack is not a big fan of the ho to b...</td>\n    </tr>\n    <tr>\n      <th>37</th>\n      <td>36</td>\n      <td>40</td>\n      <td>36_content_free content_free_no free</td>\n      <td>[content, free content, free, no free, there, ...</td>\n      <td>[i am just trying to find some content to help...</td>\n    </tr>\n    <tr>\n      <th>38</th>\n      <td>37</td>\n      <td>38</td>\n      <td>37_casting_cast_google_google home</td>\n      <td>[casting, cast, google, google home, speaker, ...</td>\n      <td>[content is great, but like 3 days after i sta...</td>\n    </tr>\n    <tr>\n      <th>39</th>\n      <td>38</td>\n      <td>38</td>\n      <td>38_locked_everything locked_everything_unless</td>\n      <td>[locked, everything locked, everything, unless...</td>\n      <td>[update: scenes are free. but it's still obnox...</td>\n    </tr>\n    <tr>\n      <th>40</th>\n      <td>39</td>\n      <td>38</td>\n      <td>39_paywall_behind_behind paywall_everything</td>\n      <td>[paywall, behind, behind paywall, everything, ...</td>\n      <td>[literally everything is behind a paywall. thi...</td>\n    </tr>\n    <tr>\n      <th>41</th>\n      <td>40</td>\n      <td>36</td>\n      <td>40_everything paid_paid_everything_paid everyt...</td>\n      <td>[everything paid, paid, everything, paid every...</td>\n      <td>[everything is paid for, everything is paid, e...</td>\n    </tr>\n    <tr>\n      <th>42</th>\n      <td>41</td>\n      <td>34</td>\n      <td>41_enhance user_enhance_using far_user interface</td>\n      <td>[enhance user, enhance, using far, user interf...</td>\n      <td>[enhance user interface and add more features,...</td>\n    </tr>\n    <tr>\n      <th>43</th>\n      <td>42</td>\n      <td>32</td>\n      <td>42_tamara_voice_her_levitt</td>\n      <td>[tamara, voice, her, levitt, tamara levitt, he...</td>\n      <td>[it is unfortunate they use tamara levitt's vo...</td>\n    </tr>\n    <tr>\n      <th>44</th>\n      <td>43</td>\n      <td>31</td>\n      <td>43_account_an account_create_create an</td>\n      <td>[account, an account, create, create an, an, p...</td>\n      <td>[need an account to use it, beware - you have ...</td>\n    </tr>\n    <tr>\n      <th>45</th>\n      <td>44</td>\n      <td>31</td>\n      <td>44_crickets_cricket_annoying_cricket sounds</td>\n      <td>[crickets, cricket, annoying, cricket sounds, ...</td>\n      <td>[most of the sleep meditations stories and mus...</td>\n    </tr>\n  </tbody>\n</table>\n</div>",
      "text/plain": "    Topic  Count                                               Name  \\\n0      -1   3476                             -1_free_can_sleep_they   \n1       0    614                             0_free_pay_if_anything   \n2       1    342                 1_meditation_meditations_more_find   \n3       2    274                        2_trial_free trial_free_day   \n4       3    248                        3_trial_free trial_free_day   \n5       4    223              4_listen_sounds_sound_listen anything   \n6       5    209                       5_crashes_open_content_phone   \n7       6    185                6_refund_charged_subscription_email   \n8       7    177  7_subscription_subscribe_monthly_monthly subsc...   \n9       8    148                   8_sounds_sound_soundscapes_audio   \n10      9    143  9_cancel_cancel subscription_subscription_impo...   \n11     10    138             10_free_free free_free thought_thought   \n12     11    132                11_refund_charged_they_subscription   \n13     12    124                12_youtube_youtube free_videos_free   \n14     13    117         13_ads_false_advertising_false advertising   \n15     14    114                               14_work_did_what_far   \n16     15    108  15_cancel_cancel subscription_subscription_trying   \n17     16    107                16_expensive_too_too expensive_much   \n18     17    106    17_pay_pay everything_everything_everything pay   \n19     18     99  18_cancel_impossible_impossible cancel_can cancel   \n20     19     89              19_download_version_free version_free   \n21     20     88                             20_sleep_pay_free_help   \n22     21     87  21_locked_everything locked_everything_locked ...   \n23     22     87               22_stories_sleep_story_sleep stories   \n24     23     85                      23_anxiety_stress_people_help   \n25     24     75        24_paywall_behind paywall_behind_everything   \n26     25     73  25_uninstalled_uninstall_immediately_uninstall...   \n27     26     71                        26_calming_down_pay_breathe   \n28     27     62       27_uninstalled_uninstall_uninstalling_delete   \n29     28     58                        28_sleep_pay_help_pay sleep   \n30     29     55               29_pay_unless pay_do anything_unless   \n31     30     50                   30_free_pay_nothing free_nothing   \n32     31     50   31_breathing_watch_exercises_breathing exercises   \n33     32     45                      32_stars_zero stars_zero_star   \n34     33     45                  33_scam_your money_financial_info   \n35     34     44                        34_70_year_70 year_per year   \n36     35     40                                35_mm_mm mm_diva_bb   \n37     36     40               36_content_free content_free_no free   \n38     37     38                 37_casting_cast_google_google home   \n39     38     38      38_locked_everything locked_everything_unless   \n40     39     38        39_paywall_behind_behind paywall_everything   \n41     40     36  40_everything paid_paid_everything_paid everyt...   \n42     41     34   41_enhance user_enhance_using far_user interface   \n43     42     32                         42_tamara_voice_her_levitt   \n44     43     31             43_account_an account_create_create an   \n45     44     31        44_crickets_cricket_annoying_cricket sounds   \n\n                                       Representation  \\\n0   [free, can, sleep, they, subscription, pay, no...   \n1   [free, pay, if, anything, can, do, money, paid...   \n2   [meditation, meditations, more, find, guided, ...   \n3   [trial, free trial, free, day, charged, day fr...   \n4   [trial, free trial, free, day, day free, day t...   \n5   [listen, sounds, sound, listen anything, music...   \n6   [crashes, open, content, phone, screen, time, ...   \n7   [refund, charged, subscription, email, they, a...   \n8   [subscription, subscribe, monthly, monthly sub...   \n9   [sounds, sound, soundscapes, audio, noise, fre...   \n10  [cancel, cancel subscription, subscription, im...   \n11  [free, free free, free thought, thought, thoug...   \n12  [refund, charged, they, subscription, money, c...   \n13  [youtube, youtube free, videos, free, can, fre...   \n14  [ads, false, advertising, false advertising, f...   \n15  [work, did, what, far, doesn, useless, doesn w...   \n16  [cancel, cancel subscription, subscription, tr...   \n17  [expensive, too, too expensive, much, too much...   \n18  [pay, pay everything, everything, everything p...   \n19  [cancel, impossible, impossible cancel, can ca...   \n20  [download, version, free version, free, free d...   \n21  [sleep, pay, free, help, your, stories, free s...   \n22  [locked, everything locked, everything, locked...   \n23  [stories, sleep, story, sleep stories, sleep s...   \n24  [anxiety, stress, people, help, money, an, pay...   \n25  [paywall, behind paywall, behind, everything, ...   \n26  [uninstalled, uninstall, immediately, uninstal...   \n27  [calming, down, pay, breathe, more, life, don,...   \n28  [uninstalled, uninstall, uninstalling, delete,...   \n29  [sleep, pay, help, pay sleep, sleeping, insomn...   \n30  [pay, unless pay, do anything, unless, can do,...   \n31  [free, pay, nothing free, nothing, everything ...   \n32  [breathing, watch, exercises, breathing exerci...   \n33  [stars, zero stars, zero, star, give, if could...   \n34  [scam, your money, financial, info, your, scam...   \n35  [70, year, 70 year, per year, dollars, 60, per...   \n36  [mm, mm mm, diva, bb, diva diva, no no, aaz, l...   \n37  [content, free content, free, no free, there, ...   \n38  [casting, cast, google, google home, speaker, ...   \n39  [locked, everything locked, everything, unless...   \n40  [paywall, behind, behind paywall, everything, ...   \n41  [everything paid, paid, everything, paid every...   \n42  [enhance user, enhance, using far, user interf...   \n43  [tamara, voice, her, levitt, tamara levitt, he...   \n44  [account, an account, create, create an, an, p...   \n45  [crickets, cricket, annoying, cricket sounds, ...   \n\n                                  Representative_Docs  \n0   [i got this app for a week trial and nowhere c...  \n1   [is not free app 😅, is this app free, it is no...  \n2   [this app could be great, but it's missing som...  \n3   [free trial, and then it's really not free., t...  \n4   [you have to make an account to use it. after ...  \n5   [if you don't pay for premium you can't listen...  \n6   [i've been using calm for over 2 years. since ...  \n7   [the app is probably ok, customer service suck...  \n8   [requires subscription, requires subscription,...  \n9   [i had this app and used it all the time. and ...  \n10  [impossible to cancel a subscription., impossi...  \n11  [this is not free!!!, it's not really free, th...  \n12  [they gave me free trial and automatically ded...  \n13  [not worth $70/year when i can find the same t...  \n14  [not free! false advertising😡, false advertisi...  \n15  [so far so good. nice to be able to write stuf...  \n16  [this app doesn't let me cancel the subscripti...  \n17  [way too expensive., too expensive...., it's t...  \n18  [you have to pay for everything, have to pay f...  \n19  [nightmare in trying to cancel my automatic re...  \n20  [nothing available on the free version 🤷, noth...  \n21  [i fall asleep at 1:?? am and i got this tj he...  \n22  [everything is locked, everything was locked, ...  \n23  [i wanted to access the sleep stories but they...  \n24  [the calm app sacrifices actually caring for p...  \n25  [everything locked behind paywall, everything ...  \n26  [absolutely nothing is free. uninstalled immed...  \n27  [not gonna lie i used it for a second to just ...  \n28  [the premium version of this app is provided t...  \n29  [i have to pay to sleep, of course the number ...  \n30  [you can't do anything without paying, can't d...  \n31  [you have to pay quite literally, for everythi...  \n32  [good breathing exercises so far, i pay for pr...  \n33  [i just subscribed for 1 month and nothing is ...  \n34  [scam. all this is, is a scam for money. super...  \n35  [$70 per year?!?! are you insane?, 70 bucks a ...  \n36  [hupercondrack is not a big fan of the ho to b...  \n37  [i am just trying to find some content to help...  \n38  [content is great, but like 3 days after i sta...  \n39  [update: scenes are free. but it's still obnox...  \n40  [literally everything is behind a paywall. thi...  \n41  [everything is paid for, everything is paid, e...  \n42  [enhance user interface and add more features,...  \n43  [it is unfortunate they use tamara levitt's vo...  \n44  [need an account to use it, beware - you have ...  \n45  [most of the sleep meditations stories and mus...  "
     },
     "metadata": {},
     "output_type": "display_data"
    },
    {
     "name": "stdout",
     "output_type": "stream",
     "text": "\n--- Detailed View of Top 10 Baseline Topics ---\n\n--- Words for Baseline Topic #0 ---\n[('free', 0.029343679438044428), ('pay', 0.019430194626553224), ('if', 0.014769411450221379), ('anything', 0.013968874619093458), ('can', 0.013077551992254204), ('do', 0.012164619247279325), ('money', 0.011963613025357799), ('paid', 0.01188215737315636), ('nothing', 0.011860532567415413), ('everything', 0.011575510752806575)]\n\n--- Words for Baseline Topic #1 ---\n[('meditation', 0.03891212010874858), ('meditations', 0.023841856381930485), ('more', 0.011011908332489542), ('find', 0.01035180974067678), ('guided', 0.009339899593088856), ('meditate', 0.008744593846801445), ('or', 0.008371553870374486), ('free', 0.0076348288788762745), ('would', 0.007503931144403388), ('what', 0.007378865625329998)]\n\n--- Words for Baseline Topic #2 ---\n[('trial', 0.0692893792843331), ('free trial', 0.05247655808340174), ('free', 0.029761010500020845), ('day', 0.026588636081069053), ('charged', 0.019820495125829327), ('day free', 0.019159119275709287), ('cancel', 0.01704125099651677), ('they', 0.016869298532543306), ('day trial', 0.016800858061833384), ('up', 0.01483283898101435)]\n\n--- Words for Baseline Topic #3 ---\n[('trial', 0.04132418080337728), ('free trial', 0.031645523904897034), ('free', 0.022818835239059147), ('day', 0.021147016414512335), ('day free', 0.013966694260316987), ('day trial', 0.013334620685157157), ('up', 0.01249655154232088), ('try', 0.010903082837316792), ('charged', 0.010686301262957758), ('after', 0.009506959347094194)]\n\n--- Words for Baseline Topic #4 ---\n[('listen', 0.043412296308024546), ('sounds', 0.032366101065122124), ('sound', 0.02217316714493136), ('listen anything', 0.019652752809449427), ('music', 0.019330882633484505), ('pay', 0.0191186154830429), ('can', 0.018994769140382284), ('free', 0.018870984543935355), ('can listen', 0.018597163329154648), ('anything', 0.014758465653230336)]\n\n--- Words for Baseline Topic #5 ---\n[('crashes', 0.01916685558504035), ('open', 0.016916743957623062), ('content', 0.013791991957973952), ('phone', 0.01256885826448563), ('screen', 0.012209716959456197), ('time', 0.011942901401920114), ('crashing', 0.010798817854788267), ('freezes', 0.010594737190156505), ('work', 0.009730187242803678), ('please', 0.009494860767166205)]\n\n--- Words for Baseline Topic #6 ---\n[('refund', 0.018024372688600545), ('charged', 0.015988167695619664), ('subscription', 0.014722624721270339), ('email', 0.01411104091080801), ('they', 0.012697642013781088), ('account', 0.011752357824730185), ('support', 0.011149530788580306), ('no', 0.010559942534135554), ('money', 0.010227563358599572), ('still', 0.009919268763728232)]\n\n--- Words for Baseline Topic #7 ---\n[('subscription', 0.06982350567250316), ('subscribe', 0.027259214399861786), ('monthly', 0.021512467601940494), ('monthly subscription', 0.021489863381367023), ('without', 0.01880931358126355), ('requires', 0.017325223703507715), ('free', 0.01661177069653385), ('requires subscription', 0.016349896682107748), ('pay', 0.016336290473547954), ('without subscription', 0.013506859957594323)]\n\n--- Words for Baseline Topic #8 ---\n[('sounds', 0.025341223275627364), ('sound', 0.018547074864864215), ('soundscapes', 0.017184448917553056), ('audio', 0.017167522266835825), ('noise', 0.01614276623386429), ('free', 0.014407603972254435), ('all', 0.012690927022900752), ('now', 0.011925228450426545), ('used', 0.010915182384123534), ('there', 0.010837086167536494)]\n\n--- Words for Baseline Topic #9 ---\n[('cancel', 0.10136385876769377), ('cancel subscription', 0.1007620146110835), ('subscription', 0.07583160289668438), ('impossible', 0.03204631746002679), ('impossible cancel', 0.02881129452089256), ('trying cancel', 0.026018037030007095), ('your subscription', 0.02293146941034698), ('can cancel', 0.022231075332509197), ('difficult', 0.021433888061684645), ('trying', 0.019891007044358016)]\n"
    }
   ],
   "source": [
    "# --- Step 5: Review the Discovered Topics ---\n",
    "print(\"Displaying the baseline topic overview...\")\n",
    "\n",
    "topic_info_base = topic_model_base.get_topic_info()\n",
    "display(topic_info_base)\n",
    "\n",
    "print(\"\\n--- Detailed View of Top 10 Baseline Topics ---\")\n",
    "for topic_id in range(10): \n",
    "    if topic_id in topic_model_base.get_topics():\n",
    "        print(f\"\\n--- Words for Baseline Topic #{topic_id} ---\")\n",
    "        print(topic_model_base.get_topic(topic_id))"
   ]
  },
  {
   "cell_type": "code",
   "execution_count": 8,
   "metadata": {
    "execution": {
     "iopub.execute_input": "2025-07-21T09:20:09.274831Z",
     "iopub.status.busy": "2025-07-21T09:20:09.274584Z",
     "iopub.status.idle": "2025-07-21T09:20:09.296118Z",
     "shell.execute_reply": "2025-07-21T09:20:09.295352Z",
     "shell.execute_reply.started": "2025-07-21T09:20:09.274813Z"
    },
    "trusted": true
   },
   "outputs": [
    {
     "name": "stdout",
     "output_type": "stream",
     "text": "Mapping final Topic IDs to names and high-level themes for Baseline App...\n\n--- Final, Corrected Theme Distribution for Baseline App (Calm) ---\n"
    },
    {
     "data": {
      "text/plain": "theme\nMonetization & Value       3491\nOutliers / Generic         3476\nContent-Specific Issues     730\nOther/Misc.                 443\nTechnical Performance       366\nName: count, dtype: int64"
     },
     "metadata": {},
     "output_type": "display_data"
    }
   ],
   "source": [
    "# --- PART A: Detailed mapping of Topic IDs to specific names ---\n",
    "\n",
    "print(\"Mapping final Topic IDs to names and high-level themes for Baseline App...\")\n",
    "# Assign the raw topic IDs from the model to your baseline DataFrame\n",
    "df_base['topic_id'] = topics_base\n",
    "topic_id_to_name_base = {\n",
    "    0: \"Paywall & Lack of Free Content\",\n",
    "    1: \"Meditation Content Issues\",\n",
    "    2: \"Free Trial Complaints & Charges\",\n",
    "    3: \"Redundant: Free Trial Complaints\",\n",
    "    4: \"Paywalled Audio & Music\",\n",
    "    5: \"Technical: App Crashing / Not Opening\",\n",
    "    6: \"Refund & Billing Issues\",\n",
    "    7: \"Forced Subscription to Use\",\n",
    "    8: \"Soundscape & Audio Feature Issues\",\n",
    "    9: \"Subscription Cancellation Problems\",\n",
    "    10: \"Misleading 'Free' Label\",\n",
    "    11: \"Redundant: Refund & Billing Issues\",\n",
    "    12: \"Content Available Free on YouTube\",\n",
    "    13: \"False Advertising\",\n",
    "    14: \"Generic Negative Feedback ('doesn't work')\",\n",
    "    15: \"Redundant: Subscription Cancellation\",\n",
    "    16: \"Price is Too Expensive\",\n",
    "    17: \"Redundant: Paywall & Lack of Free Content\",\n",
    "    18: \"Redundant: Subscription Cancellation\",\n",
    "    19: \"Free Version is Useless\",\n",
    "    20: \"Issues with Sleep Content\",\n",
    "    21: \"Features Locked Behind Paywall\",\n",
    "    22: \"Redundant: Issues with Sleep Content\",\n",
    "    23: \"Exploiting Anxiety for Money\",\n",
    "    24: \"Redundant: Paywalled Features\",\n",
    "    25: \"App Uninstalled Due to Cost\",\n",
    "    26: \"Generic Positive/Neutral Feedback\",\n",
    "    27: \"Redundant: App Uninstalled\",\n",
    "    28: \"Redundant: Paywalled Sleep Content\",\n",
    "    29: \"Redundant: Paywall & Lack of Free Content\",\n",
    "    30: \"Redundant: Paywall & Lack of Free Content\",\n",
    "    31: \"Technical Issues with Wearables (Watch)\",\n",
    "    32: \"Meta: 1-Star Review Complaints\",\n",
    "    33: \"Perceived as a Scam\",\n",
    "    34: \"Price is Too Expensive ($70/year)\",\n",
    "    35: \"Noise/Junk Topic (mm, diva, bb)\",\n",
    "    36: \"Redundant: Paywall & Lack of Free Content\",\n",
    "    37: \"Technical Issues with Casting (Google Home)\",\n",
    "    38: \"Redundant: Locked/Paid Features\",\n",
    "    39: \"Account & Login Issues\",\n",
    "    40: \"Noise/Junk Topic (crickets)\",\n",
    "    41: \"Issues with Specific Narrator (Tamara Levitt)\",\n",
    "    42: \"Redundant: Locked/Paid Features\",\n",
    "    43: \"Redundant: Account & Login Issues\",\n",
    "    44: \"Redundant: Sound/Audio Issues\"\n",
    "}\n",
    "\n",
    "df_base['topic_name'] = df_base['topic_id'].map(topic_id_to_name_base)\n",
    "df_base['topic_name'].fillna(\"Specific/Niche Complaint\", inplace=True)\n",
    "\n",
    "\n",
    "# --- PART B: Mapping specific names to high-level themes (This remains largely the same) ---\n",
    "topic_name_to_theme_base = {\n",
    "    # Theme 1: Monetization & Value\n",
    "    \"Paywall & Lack of Free Content\": \"Monetization & Value\",\n",
    "    \"Free Trial Complaints & Charges\": \"Monetization & Value\",\n",
    "    \"Paywalled Audio & Music\": \"Monetization & Value\",\n",
    "    \"Forced Subscription to Use\": \"Monetization & Value\",\n",
    "    \"Refund & Billing Issues\": \"Monetization & Value\",\n",
    "    \"Misleading 'Free' Label\": \"Monetization & Value\",\n",
    "    \"Subscription Cancellation Problems\": \"Monetization & Value\",\n",
    "    \"Price is Too Expensive\": \"Monetization & Value\",\n",
    "    \"Content Available Free on YouTube\": \"Monetization & Value\",\n",
    "    \"False Advertising\": \"Monetization & Value\",\n",
    "    \"Features Locked Behind Paywall\": \"Monetization & Value\",\n",
    "    \"App Uninstalled Due to Cost\": \"Monetization & Value\",\n",
    "    \"Perceived as a Scam\": \"Monetization & Value\",\n",
    "    \"Exploiting Anxiety for Money\": \"Monetization & Value\",\n",
    "    \"Free Version is Useless\": \"Monetization & Value\",\n",
    "    \"Price is Too Expensive ($70/year)\": \"Monetization & Value\",\n",
    "    \"Redundant: Free Trial Complaints\": \"Monetization & Value\",\n",
    "    \"Redundant: Refund & Billing Issues\": \"Monetization & Value\",\n",
    "    \"Redundant: Subscription Cancellation\": \"Monetization & Value\",\n",
    "    \"Redundant: Paywall & Lack of Free Content\": \"Monetization & Value\",\n",
    "    \"Redundant: Paywalled Sleep Content\": \"Monetization & Value\",\n",
    "    \"Redundant: Locked/Paid Features\": \"Monetization & Value\",\n",
    "\n",
    "    # Theme 2: Content-Specific Issues\n",
    "    \"Meditation Content Issues\": \"Content-Specific Issues\",\n",
    "    \"Soundscape & Audio Feature Issues\": \"Content-Specific Issues\",\n",
    "    \"Issues with Sleep Content\": \"Content-Specific Issues\",\n",
    "    \"Issues with Specific Narrator (Tamara Levitt)\": \"Content-Specific Issues\",\n",
    "    \"Redundant: Issues with Sleep Content\": \"Content-Specific Issues\",\n",
    "    \"Redundant: Sound/Audio Issues\": \"Content-Specific Issues\",\n",
    "\n",
    "    # Theme 3: Technical Performance & Bugs\n",
    "    \"Technical: App Crashing / Not Opening\": \"Technical Performance\",\n",
    "    \"Technical Issues with Wearables (Watch)\": \"Technical Performance\",\n",
    "    \"Technical Issues with Casting (Google Home)\": \"Technical Performance\",\n",
    "    \"Account & Login Issues\": \"Technical Performance\",\n",
    "    \"Redundant: Account & Login Issues\": \"Technical Performance\",\n",
    "\n",
    "    # Theme 4: Other\n",
    "    \"Generic Negative Feedback ('doesn't work')\": \"Other/Misc.\",\n",
    "    \"Generic Positive/Neutral Feedback\": \"Other/Misc.\",\n",
    "    \"Meta: 1-Star Review Complaints\": \"Other/Misc.\",\n",
    "    \"Noise/Junk Topic (mm, diva, bb)\": \"Other/Misc.\",\n",
    "    \"Noise/Junk Topic (crickets)\": \"Other/Misc.\",\n",
    "    \"Specific/Niche Complaint\": \"Other/Misc.\"\n",
    "}\n",
    "\n",
    "df_base['theme'] = df_base['topic_name'].map(topic_name_to_theme_base)\n",
    "df_base.loc[df_base['topic_id'] == -1, 'theme'] = 'Outliers / Generic'\n",
    "df_base['theme'].fillna(\"Other/Misc.\", inplace=True) # Catch any leftovers\n",
    "\n",
    "print(\"\\n--- Final, Corrected Theme Distribution for Baseline App (Calm) ---\")\n",
    "display(df_base['theme'].value_counts())"
   ]
  },
  {
   "cell_type": "code",
   "execution_count": 9,
   "metadata": {
    "execution": {
     "iopub.execute_input": "2025-07-21T09:20:09.297183Z",
     "iopub.status.busy": "2025-07-21T09:20:09.296873Z",
     "iopub.status.idle": "2025-07-21T09:24:27.109224Z",
     "shell.execute_reply": "2025-07-21T09:24:27.108352Z",
     "shell.execute_reply.started": "2025-07-21T09:20:09.297155Z"
    },
    "trusted": true
   },
   "outputs": [
    {
     "name": "stdout",
     "output_type": "stream",
     "text": "Setting up Transformer sentiment analysis pipeline for Baseline App...\n"
    },
    {
     "data": {
      "application/vnd.jupyter.widget-view+json": {
       "model_id": "3546c9f5c33e46c08b2fa5dd473f9830",
       "version_major": 2,
       "version_minor": 0
      },
      "text/plain": "config.json:   0%|          | 0.00/929 [00:00<?, ?B/s]"
     },
     "metadata": {},
     "output_type": "display_data"
    },
    {
     "data": {
      "application/vnd.jupyter.widget-view+json": {
       "model_id": "107affa8114941eea70043dbcb753558",
       "version_major": 2,
       "version_minor": 0
      },
      "text/plain": "vocab.json: 0.00B [00:00, ?B/s]"
     },
     "metadata": {},
     "output_type": "display_data"
    },
    {
     "data": {
      "application/vnd.jupyter.widget-view+json": {
       "model_id": "a248107131c8443388f4e38f46e35bf1",
       "version_major": 2,
       "version_minor": 0
      },
      "text/plain": "merges.txt: 0.00B [00:00, ?B/s]"
     },
     "metadata": {},
     "output_type": "display_data"
    },
    {
     "data": {
      "application/vnd.jupyter.widget-view+json": {
       "model_id": "f08a14253b7c4992a19f9eb4fb683304",
       "version_major": 2,
       "version_minor": 0
      },
      "text/plain": "special_tokens_map.json:   0%|          | 0.00/239 [00:00<?, ?B/s]"
     },
     "metadata": {},
     "output_type": "display_data"
    },
    {
     "data": {
      "application/vnd.jupyter.widget-view+json": {
       "model_id": "493ee4bf278140d79e21cc844e02ee2f",
       "version_major": 2,
       "version_minor": 0
      },
      "text/plain": "pytorch_model.bin:   0%|          | 0.00/501M [00:00<?, ?B/s]"
     },
     "metadata": {},
     "output_type": "display_data"
    },
    {
     "name": "stderr",
     "output_type": "stream",
     "text": "Some weights of the model checkpoint at cardiffnlp/twitter-roberta-base-sentiment-latest were not used when initializing RobertaForSequenceClassification: ['roberta.pooler.dense.bias', 'roberta.pooler.dense.weight']\n- This IS expected if you are initializing RobertaForSequenceClassification from the checkpoint of a model trained on another task or with another architecture (e.g. initializing a BertForSequenceClassification model from a BertForPreTraining model).\n- This IS NOT expected if you are initializing RobertaForSequenceClassification from the checkpoint of a model that you expect to be exactly identical (initializing a BertForSequenceClassification model from a BertForSequenceClassification model).\n"
    },
    {
     "name": "stdout",
     "output_type": "stream",
     "text": "Using device: cuda\nTokenizing all baseline reviews...\n"
    },
    {
     "data": {
      "application/vnd.jupyter.widget-view+json": {
       "model_id": "637e8995f3204174ab63129924f69426",
       "version_major": 2,
       "version_minor": 0
      },
      "text/plain": "model.safetensors:   0%|          | 0.00/501M [00:00<?, ?B/s]"
     },
     "metadata": {},
     "output_type": "display_data"
    },
    {
     "name": "stdout",
     "output_type": "stream",
     "text": "Tokenization complete.\nRunning model inference in batches...\n"
    },
    {
     "data": {
      "application/vnd.jupyter.widget-view+json": {
       "model_id": "17e22d7efa7d43f5ada44a77daadc731",
       "version_major": 2,
       "version_minor": 0
      },
      "text/plain": "Analyzing Batches:   0%|          | 0/266 [00:00<?, ?it/s]"
     },
     "metadata": {},
     "output_type": "display_data"
    },
    {
     "name": "stdout",
     "output_type": "stream",
     "text": "Inference complete.\nSentiment scores added to the baseline DataFrame.\n"
    }
   ],
   "source": [
    "# --- Emotional Analysis: Measuring Sentiment by Theme (Robust Version) ---\n",
    "\n",
    "# This cell uses a powerful pre-trained Transformer model to get accurate sentiment scores.\n",
    "print(\"Setting up Transformer sentiment analysis pipeline for Baseline App...\")\n",
    "\n",
    "# 1. LOAD TOKENIZER AND MODEL\n",
    "MODEL_NAME = \"cardiffnlp/twitter-roberta-base-sentiment-latest\"\n",
    "tokenizer = AutoTokenizer.from_pretrained(MODEL_NAME)\n",
    "model = AutoModelForSequenceClassification.from_pretrained(MODEL_NAME)\n",
    "\n",
    "# Move model to GPU if available\n",
    "device = torch.device(\"cuda\" if torch.cuda.is_available() else \"cpu\")\n",
    "model.to(device)\n",
    "print(f\"Using device: {device}\")\n",
    "\n",
    "\n",
    "# 2. TOKENIZE THE DATA\n",
    "print(\"Tokenizing all baseline reviews...\")\n",
    "review_list_base = df_base['review_text'].tolist()\n",
    "\n",
    "inputs_base = tokenizer(\n",
    "    review_list_base, \n",
    "    padding=True, \n",
    "    truncation=True, \n",
    "    max_length=512,\n",
    "    return_tensors=\"pt\"\n",
    ")\n",
    "inputs_base = {key: val.to(device) for key, val in inputs_base.items()}\n",
    "print(\"Tokenization complete.\")\n",
    "\n",
    "\n",
    "# 3. PERFORM INFERENCE IN BATCHES\n",
    "print(\"Running model inference in batches...\")\n",
    "all_logits_base = []\n",
    "batch_size = 32\n",
    "dataset_base = TensorDataset(inputs_base['input_ids'], inputs_base['attention_mask'])\n",
    "loader_base = DataLoader(dataset_base, batch_size=batch_size)\n",
    "\n",
    "with torch.no_grad():\n",
    "    for batch in tqdm(loader_base, desc=\"Analyzing Batches\"):\n",
    "        input_ids, attention_mask = batch\n",
    "        outputs = model(input_ids=input_ids, attention_mask=attention_mask)\n",
    "        all_logits_base.append(outputs.logits)\n",
    "\n",
    "all_logits_base = torch.cat(all_logits_base, dim=0)\n",
    "probabilities = torch.nn.functional.softmax(all_logits_base, dim=-1)\n",
    "predictions = torch.argmax(probabilities, dim=-1)\n",
    "print(\"Inference complete.\")\n",
    "\n",
    "\n",
    "# 4. PROCESS THE RESULTS\n",
    "id_to_label = model.config.id2label\n",
    "predicted_labels = [id_to_label[pred.item()] for pred in predictions]\n",
    "label_to_score = {'positive': 1, 'neutral': 0, 'negative': -1}\n",
    "sentiment_scores = [label_to_score[label] for label in predicted_labels]\n",
    "\n",
    "df_base['sentiment_score'] = sentiment_scores\n",
    "print(\"Sentiment scores added to the baseline DataFrame.\")"
   ]
  },
  {
   "cell_type": "code",
   "execution_count": 10,
   "metadata": {
    "execution": {
     "iopub.execute_input": "2025-07-21T09:24:27.110954Z",
     "iopub.status.busy": "2025-07-21T09:24:27.110229Z",
     "iopub.status.idle": "2025-07-21T09:24:27.118000Z",
     "shell.execute_reply": "2025-07-21T09:24:27.117103Z",
     "shell.execute_reply.started": "2025-07-21T09:24:27.110929Z"
    },
    "trusted": true
   },
   "outputs": [],
   "source": [
    "# We'll use the 'df_base' DataFrame that has the 'theme' and 'topic_name' columns.\n",
    "# Let's ensure our topic names are clean for the charts.\n",
    "df_base['topic_name'] = df_base['topic_name'].str.replace(\"Redundant: \", \"\")"
   ]
  },
  {
   "cell_type": "markdown",
   "metadata": {},
   "source": "### Deep Dive 1: Why Are Users Upset About Monetization?"
  },
  {
   "cell_type": "code",
   "execution_count": 11,
   "metadata": {
    "execution": {
     "iopub.execute_input": "2025-07-21T09:24:27.119313Z",
     "iopub.status.busy": "2025-07-21T09:24:27.118870Z",
     "iopub.status.idle": "2025-07-21T09:24:29.268202Z",
     "shell.execute_reply": "2025-07-21T09:24:29.267364Z",
     "shell.execute_reply.started": "2025-07-21T09:24:27.119282Z"
    },
    "trusted": true
   },
   "outputs": [
    {
     "data": {
      "text/html": "<html>\n<head><meta charset=\"utf-8\" /></head>\n<body>\n    <div>            <script src=\"https://cdnjs.cloudflare.com/ajax/libs/mathjax/2.7.5/MathJax.js?config=TeX-AMS-MML_SVG\"></script><script type=\"text/javascript\">if (window.MathJax && window.MathJax.Hub && window.MathJax.Hub.Config) {window.MathJax.Hub.Config({SVG: {font: \"STIX-Web\"}});}</script>                <script type=\"text/javascript\">window.PlotlyConfig = {MathJaxConfig: 'local'};</script>\n        <script charset=\"utf-8\" src=\"https://cdn.plot.ly/plotly-2.35.2.min.js\"></script>                <div id=\"96a42925-d4ef-440e-9cd4-2d260fe95f54\" class=\"plotly-graph-div\" style=\"height:525px; width:100%;\"></div>            <script type=\"text/javascript\">                                    window.PLOTLYENV=window.PLOTLYENV || {};                                    if (document.getElementById(\"96a42925-d4ef-440e-9cd4-2d260fe95f54\")) {                    Plotly.newPlot(                        \"96a42925-d4ef-440e-9cd4-2d260fe95f54\",                        [{\"branchvalues\":\"total\",\"domain\":{\"x\":[0.0,1.0],\"y\":[0.0,1.0]},\"hovertemplate\":\"labels=%{label}\\u003cbr\\u003eReview Count=%{value}\\u003cbr\\u003eparent=%{parent}\\u003cbr\\u003eid=%{id}\\u003cextra\\u003e\\u003c\\u002fextra\\u003e\",\"ids\":[\"Monetization Complaints\\u002fContent Available Free on YouTube\",\"Monetization Complaints\\u002fForced Subscription to Use\",\"Monetization Complaints\\u002fFree Trial Complaints\",\"Monetization Complaints\\u002fFree Trial Complaints & Charges\",\"Monetization Complaints\\u002fMisleading 'Free' Label\",\"Monetization Complaints\\u002fPaywall & Lack of Free Content\",\"Monetization Complaints\\u002fPaywalled Audio & Music\",\"Monetization Complaints\\u002fRefund & Billing Issues\",\"Monetization Complaints\\u002fSubscription Cancellation\",\"Monetization Complaints\\u002fSubscription Cancellation Problems\",\"Monetization Complaints\"],\"labels\":[\"Content Available Free on YouTube\",\"Forced Subscription to Use\",\"Free Trial Complaints\",\"Free Trial Complaints & Charges\",\"Misleading 'Free' Label\",\"Paywall & Lack of Free Content\",\"Paywalled Audio & Music\",\"Refund & Billing Issues\",\"Subscription Cancellation\",\"Subscription Cancellation Problems\",\"Monetization Complaints\"],\"name\":\"\",\"parents\":[\"Monetization Complaints\",\"Monetization Complaints\",\"Monetization Complaints\",\"Monetization Complaints\",\"Monetization Complaints\",\"Monetization Complaints\",\"Monetization Complaints\",\"Monetization Complaints\",\"Monetization Complaints\",\"Monetization Complaints\",\"\"],\"values\":[124,177,248,274,138,865,223,317,207,143,2716],\"type\":\"treemap\"}],                        {\"template\":{\"data\":{\"histogram2dcontour\":[{\"type\":\"histogram2dcontour\",\"colorbar\":{\"outlinewidth\":0,\"ticks\":\"\"},\"colorscale\":[[0.0,\"#0d0887\"],[0.1111111111111111,\"#46039f\"],[0.2222222222222222,\"#7201a8\"],[0.3333333333333333,\"#9c179e\"],[0.4444444444444444,\"#bd3786\"],[0.5555555555555556,\"#d8576b\"],[0.6666666666666666,\"#ed7953\"],[0.7777777777777778,\"#fb9f3a\"],[0.8888888888888888,\"#fdca26\"],[1.0,\"#f0f921\"]]}],\"choropleth\":[{\"type\":\"choropleth\",\"colorbar\":{\"outlinewidth\":0,\"ticks\":\"\"}}],\"histogram2d\":[{\"type\":\"histogram2d\",\"colorbar\":{\"outlinewidth\":0,\"ticks\":\"\"},\"colorscale\":[[0.0,\"#0d0887\"],[0.1111111111111111,\"#46039f\"],[0.2222222222222222,\"#7201a8\"],[0.3333333333333333,\"#9c179e\"],[0.4444444444444444,\"#bd3786\"],[0.5555555555555556,\"#d8576b\"],[0.6666666666666666,\"#ed7953\"],[0.7777777777777778,\"#fb9f3a\"],[0.8888888888888888,\"#fdca26\"],[1.0,\"#f0f921\"]]}],\"heatmap\":[{\"type\":\"heatmap\",\"colorbar\":{\"outlinewidth\":0,\"ticks\":\"\"},\"colorscale\":[[0.0,\"#0d0887\"],[0.1111111111111111,\"#46039f\"],[0.2222222222222222,\"#7201a8\"],[0.3333333333333333,\"#9c179e\"],[0.4444444444444444,\"#bd3786\"],[0.5555555555555556,\"#d8576b\"],[0.6666666666666666,\"#ed7953\"],[0.7777777777777778,\"#fb9f3a\"],[0.8888888888888888,\"#fdca26\"],[1.0,\"#f0f921\"]]}],\"heatmapgl\":[{\"type\":\"heatmapgl\",\"colorbar\":{\"outlinewidth\":0,\"ticks\":\"\"},\"colorscale\":[[0.0,\"#0d0887\"],[0.1111111111111111,\"#46039f\"],[0.2222222222222222,\"#7201a8\"],[0.3333333333333333,\"#9c179e\"],[0.4444444444444444,\"#bd3786\"],[0.5555555555555556,\"#d8576b\"],[0.6666666666666666,\"#ed7953\"],[0.7777777777777778,\"#fb9f3a\"],[0.8888888888888888,\"#fdca26\"],[1.0,\"#f0f921\"]]}],\"contourcarpet\":[{\"type\":\"contourcarpet\",\"colorbar\":{\"outlinewidth\":0,\"ticks\":\"\"}}],\"contour\":[{\"type\":\"contour\",\"colorbar\":{\"outlinewidth\":0,\"ticks\":\"\"},\"colorscale\":[[0.0,\"#0d0887\"],[0.1111111111111111,\"#46039f\"],[0.2222222222222222,\"#7201a8\"],[0.3333333333333333,\"#9c179e\"],[0.4444444444444444,\"#bd3786\"],[0.5555555555555556,\"#d8576b\"],[0.6666666666666666,\"#ed7953\"],[0.7777777777777778,\"#fb9f3a\"],[0.8888888888888888,\"#fdca26\"],[1.0,\"#f0f921\"]]}],\"surface\":[{\"type\":\"surface\",\"colorbar\":{\"outlinewidth\":0,\"ticks\":\"\"},\"colorscale\":[[0.0,\"#0d0887\"],[0.1111111111111111,\"#46039f\"],[0.2222222222222222,\"#7201a8\"],[0.3333333333333333,\"#9c179e\"],[0.4444444444444444,\"#bd3786\"],[0.5555555555555556,\"#d8576b\"],[0.6666666666666666,\"#ed7953\"],[0.7777777777777778,\"#fb9f3a\"],[0.8888888888888888,\"#fdca26\"],[1.0,\"#f0f921\"]]}],\"mesh3d\":[{\"type\":\"mesh3d\",\"colorbar\":{\"outlinewidth\":0,\"ticks\":\"\"}}],\"scatter\":[{\"fillpattern\":{\"fillmode\":\"overlay\",\"size\":10,\"solidity\":0.2},\"type\":\"scatter\"}],\"parcoords\":[{\"type\":\"parcoords\",\"line\":{\"colorbar\":{\"outlinewidth\":0,\"ticks\":\"\"}}}],\"scatterpolargl\":[{\"type\":\"scatterpolargl\",\"marker\":{\"colorbar\":{\"outlinewidth\":0,\"ticks\":\"\"}}}],\"bar\":[{\"error_x\":{\"color\":\"#2a3f5f\"},\"error_y\":{\"color\":\"#2a3f5f\"},\"marker\":{\"line\":{\"color\":\"#E5ECF6\",\"width\":0.5},\"pattern\":{\"fillmode\":\"overlay\",\"size\":10,\"solidity\":0.2}},\"type\":\"bar\"}],\"scattergeo\":[{\"type\":\"scattergeo\",\"marker\":{\"colorbar\":{\"outlinewidth\":0,\"ticks\":\"\"}}}],\"scatterpolar\":[{\"type\":\"scatterpolar\",\"marker\":{\"colorbar\":{\"outlinewidth\":0,\"ticks\":\"\"}}}],\"histogram\":[{\"marker\":{\"pattern\":{\"fillmode\":\"overlay\",\"size\":10,\"solidity\":0.2}},\"type\":\"histogram\"}],\"scattergl\":[{\"type\":\"scattergl\",\"marker\":{\"colorbar\":{\"outlinewidth\":0,\"ticks\":\"\"}}}],\"scatter3d\":[{\"type\":\"scatter3d\",\"line\":{\"colorbar\":{\"outlinewidth\":0,\"ticks\":\"\"}},\"marker\":{\"colorbar\":{\"outlinewidth\":0,\"ticks\":\"\"}}}],\"scattermapbox\":[{\"type\":\"scattermapbox\",\"marker\":{\"colorbar\":{\"outlinewidth\":0,\"ticks\":\"\"}}}],\"scatterternary\":[{\"type\":\"scatterternary\",\"marker\":{\"colorbar\":{\"outlinewidth\":0,\"ticks\":\"\"}}}],\"scattercarpet\":[{\"type\":\"scattercarpet\",\"marker\":{\"colorbar\":{\"outlinewidth\":0,\"ticks\":\"\"}}}],\"carpet\":[{\"aaxis\":{\"endlinecolor\":\"#2a3f5f\",\"gridcolor\":\"white\",\"linecolor\":\"white\",\"minorgridcolor\":\"white\",\"startlinecolor\":\"#2a3f5f\"},\"baxis\":{\"endlinecolor\":\"#2a3f5f\",\"gridcolor\":\"white\",\"linecolor\":\"white\",\"minorgridcolor\":\"white\",\"startlinecolor\":\"#2a3f5f\"},\"type\":\"carpet\"}],\"table\":[{\"cells\":{\"fill\":{\"color\":\"#EBF0F8\"},\"line\":{\"color\":\"white\"}},\"header\":{\"fill\":{\"color\":\"#C8D4E3\"},\"line\":{\"color\":\"white\"}},\"type\":\"table\"}],\"barpolar\":[{\"marker\":{\"line\":{\"color\":\"#E5ECF6\",\"width\":0.5},\"pattern\":{\"fillmode\":\"overlay\",\"size\":10,\"solidity\":0.2}},\"type\":\"barpolar\"}],\"pie\":[{\"automargin\":true,\"type\":\"pie\"}]},\"layout\":{\"autotypenumbers\":\"strict\",\"colorway\":[\"#636efa\",\"#EF553B\",\"#00cc96\",\"#ab63fa\",\"#FFA15A\",\"#19d3f3\",\"#FF6692\",\"#B6E880\",\"#FF97FF\",\"#FECB52\"],\"font\":{\"color\":\"#2a3f5f\"},\"hovermode\":\"closest\",\"hoverlabel\":{\"align\":\"left\"},\"paper_bgcolor\":\"white\",\"plot_bgcolor\":\"#E5ECF6\",\"polar\":{\"bgcolor\":\"#E5ECF6\",\"angularaxis\":{\"gridcolor\":\"white\",\"linecolor\":\"white\",\"ticks\":\"\"},\"radialaxis\":{\"gridcolor\":\"white\",\"linecolor\":\"white\",\"ticks\":\"\"}},\"ternary\":{\"bgcolor\":\"#E5ECF6\",\"aaxis\":{\"gridcolor\":\"white\",\"linecolor\":\"white\",\"ticks\":\"\"},\"baxis\":{\"gridcolor\":\"white\",\"linecolor\":\"white\",\"ticks\":\"\"},\"caxis\":{\"gridcolor\":\"white\",\"linecolor\":\"white\",\"ticks\":\"\"}},\"coloraxis\":{\"colorbar\":{\"outlinewidth\":0,\"ticks\":\"\"}},\"colorscale\":{\"sequential\":[[0.0,\"#0d0887\"],[0.1111111111111111,\"#46039f\"],[0.2222222222222222,\"#7201a8\"],[0.3333333333333333,\"#9c179e\"],[0.4444444444444444,\"#bd3786\"],[0.5555555555555556,\"#d8576b\"],[0.6666666666666666,\"#ed7953\"],[0.7777777777777778,\"#fb9f3a\"],[0.8888888888888888,\"#fdca26\"],[1.0,\"#f0f921\"]],\"sequentialminus\":[[0.0,\"#0d0887\"],[0.1111111111111111,\"#46039f\"],[0.2222222222222222,\"#7201a8\"],[0.3333333333333333,\"#9c179e\"],[0.4444444444444444,\"#bd3786\"],[0.5555555555555556,\"#d8576b\"],[0.6666666666666666,\"#ed7953\"],[0.7777777777777778,\"#fb9f3a\"],[0.8888888888888888,\"#fdca26\"],[1.0,\"#f0f921\"]],\"diverging\":[[0,\"#8e0152\"],[0.1,\"#c51b7d\"],[0.2,\"#de77ae\"],[0.3,\"#f1b6da\"],[0.4,\"#fde0ef\"],[0.5,\"#f7f7f7\"],[0.6,\"#e6f5d0\"],[0.7,\"#b8e186\"],[0.8,\"#7fbc41\"],[0.9,\"#4d9221\"],[1,\"#276419\"]]},\"xaxis\":{\"gridcolor\":\"white\",\"linecolor\":\"white\",\"ticks\":\"\",\"title\":{\"standoff\":15},\"zerolinecolor\":\"white\",\"automargin\":true,\"zerolinewidth\":2},\"yaxis\":{\"gridcolor\":\"white\",\"linecolor\":\"white\",\"ticks\":\"\",\"title\":{\"standoff\":15},\"zerolinecolor\":\"white\",\"automargin\":true,\"zerolinewidth\":2},\"scene\":{\"xaxis\":{\"backgroundcolor\":\"#E5ECF6\",\"gridcolor\":\"white\",\"linecolor\":\"white\",\"showbackground\":true,\"ticks\":\"\",\"zerolinecolor\":\"white\",\"gridwidth\":2},\"yaxis\":{\"backgroundcolor\":\"#E5ECF6\",\"gridcolor\":\"white\",\"linecolor\":\"white\",\"showbackground\":true,\"ticks\":\"\",\"zerolinecolor\":\"white\",\"gridwidth\":2},\"zaxis\":{\"backgroundcolor\":\"#E5ECF6\",\"gridcolor\":\"white\",\"linecolor\":\"white\",\"showbackground\":true,\"ticks\":\"\",\"zerolinecolor\":\"white\",\"gridwidth\":2}},\"shapedefaults\":{\"line\":{\"color\":\"#2a3f5f\"}},\"annotationdefaults\":{\"arrowcolor\":\"#2a3f5f\",\"arrowhead\":0,\"arrowwidth\":1},\"geo\":{\"bgcolor\":\"white\",\"landcolor\":\"#E5ECF6\",\"subunitcolor\":\"white\",\"showland\":true,\"showlakes\":true,\"lakecolor\":\"white\"},\"title\":{\"x\":0.05},\"mapbox\":{\"style\":\"light\"}}},\"legend\":{\"tracegroupgap\":0},\"title\":{\"text\":\"\\u003cb\\u003eBreakdown of Monetization Complaints\\u003c\\u002fb\\u003e\"},\"treemapcolorway\":[\"rgb(103,0,13)\",\"rgb(165,15,21)\",\"rgb(203,24,29)\",\"rgb(239,59,44)\",\"rgb(251,106,74)\",\"rgb(252,146,114)\",\"rgb(252,187,161)\",\"rgb(254,224,210)\",\"rgb(255,245,240)\"],\"margin\":{\"t\":50,\"l\":25,\"r\":25,\"b\":25}},                        {\"responsive\": true}                    ).then(function(){\n                            \nvar gd = document.getElementById('96a42925-d4ef-440e-9cd4-2d260fe95f54');\nvar x = new MutationObserver(function (mutations, observer) {{\n        var display = window.getComputedStyle(gd).display;\n        if (!display || display === 'none') {{\n            console.log([gd, 'removed!']);\n            Plotly.purge(gd);\n            observer.disconnect();\n        }}\n}});\n\n// Listen for the removal of the full notebook cells\nvar notebookContainer = gd.closest('#notebook-container');\nif (notebookContainer) {{\n    x.observe(notebookContainer, {childList: true});\n}}\n\n// Listen for the clearing of the current output cell\nvar outputEl = gd.closest('.output');\nif (outputEl) {{\n    x.observe(outputEl, {childList: true});\n}}\n\n                        })                };                            </script>        </div>\n</body>\n</html>"
     },
     "metadata": {},
     "output_type": "display_data"
    }
   ],
   "source": [
    "# Filter for the theme\n",
    "monetization_df = df_base[df_base['theme'] == 'Monetization & Value']\n",
    "# Get the breakdown\n",
    "monetization_breakdown = monetization_df['topic_name'].value_counts().reset_index()\n",
    "monetization_breakdown.columns = ['Specific Complaint', 'Review Count']\n",
    "\n",
    "# Visualize\n",
    "fig_monetization = px.treemap(\n",
    "    monetization_breakdown.head(10),\n",
    "    path=[px.Constant(\"Monetization Complaints\"), 'Specific Complaint'],\n",
    "    values='Review Count',\n",
    "    title='<b>Breakdown of Monetization Complaints</b>',\n",
    "    color_discrete_sequence=px.colors.sequential.Reds_r\n",
    ")\n",
    "fig_monetization.update_layout(margin = dict(t=50, l=25, r=25, b=25))\n",
    "fig_monetization.show()"
   ]
  },
  {
   "cell_type": "markdown",
   "metadata": {},
   "source": "### Deep Dive 2: What Content Are Users Complaining About?"
  },
  {
   "cell_type": "code",
   "execution_count": 1,
   "metadata": {
    "execution": {
     "iopub.execute_input": "2025-07-22T11:33:21.229489Z",
     "iopub.status.busy": "2025-07-22T11:33:21.229325Z",
     "iopub.status.idle": "2025-07-22T11:33:21.311958Z",
     "shell.execute_reply": "2025-07-22T11:33:21.310962Z",
     "shell.execute_reply.started": "2025-07-22T11:33:21.229474Z"
    },
    "trusted": true
   },
   "outputs": [
    {
     "ename": "NameError",
     "evalue": "name 'df_base' is not defined",
     "output_type": "error",
     "traceback": [
      "\u001b[0;31m---------------------------------------------------------------------------\u001b[0m",
      "\u001b[0;31mNameError\u001b[0m                                 Traceback (most recent call last)",
      "\u001b[0;32m/tmp/ipykernel_36/3820853982.py\u001b[0m in \u001b[0;36m<cell line: 0>\u001b[0;34m()\u001b[0m\n\u001b[1;32m      1\u001b[0m \u001b[0;31m# Filter for the theme\u001b[0m\u001b[0;34m\u001b[0m\u001b[0;34m\u001b[0m\u001b[0m\n\u001b[0;32m----> 2\u001b[0;31m \u001b[0mcontent_df\u001b[0m \u001b[0;34m=\u001b[0m \u001b[0mdf_base\u001b[0m\u001b[0;34m[\u001b[0m\u001b[0mdf_base\u001b[0m\u001b[0;34m[\u001b[0m\u001b[0;34m'theme'\u001b[0m\u001b[0;34m]\u001b[0m \u001b[0;34m==\u001b[0m \u001b[0;34m'Content-Specific Issues'\u001b[0m\u001b[0;34m]\u001b[0m\u001b[0;34m\u001b[0m\u001b[0;34m\u001b[0m\u001b[0m\n\u001b[0m\u001b[1;32m      3\u001b[0m \u001b[0;31m# Get the breakdown\u001b[0m\u001b[0;34m\u001b[0m\u001b[0;34m\u001b[0m\u001b[0m\n\u001b[1;32m      4\u001b[0m \u001b[0mcontent_breakdown\u001b[0m \u001b[0;34m=\u001b[0m \u001b[0mcontent_df\u001b[0m\u001b[0;34m[\u001b[0m\u001b[0;34m'topic_name'\u001b[0m\u001b[0;34m]\u001b[0m\u001b[0;34m.\u001b[0m\u001b[0mvalue_counts\u001b[0m\u001b[0;34m(\u001b[0m\u001b[0;34m)\u001b[0m\u001b[0;34m.\u001b[0m\u001b[0mreset_index\u001b[0m\u001b[0;34m(\u001b[0m\u001b[0;34m)\u001b[0m\u001b[0;34m\u001b[0m\u001b[0;34m\u001b[0m\u001b[0m\n\u001b[1;32m      5\u001b[0m \u001b[0mcontent_breakdown\u001b[0m\u001b[0;34m.\u001b[0m\u001b[0mcolumns\u001b[0m \u001b[0;34m=\u001b[0m \u001b[0;34m[\u001b[0m\u001b[0;34m'Specific Complaint'\u001b[0m\u001b[0;34m,\u001b[0m \u001b[0;34m'Review Count'\u001b[0m\u001b[0;34m]\u001b[0m\u001b[0;34m\u001b[0m\u001b[0;34m\u001b[0m\u001b[0m\n",
      "\u001b[0;31mNameError\u001b[0m: name 'df_base' is not defined"
     ]
    }
   ],
   "source": [
    "# Filter for the theme\n",
    "content_df = df_base[df_base['theme'] == 'Content-Specific Issues']\n",
    "# Get the breakdown\n",
    "content_breakdown = content_df['topic_name'].value_counts().reset_index()\n",
    "content_breakdown.columns = ['Specific Complaint', 'Review Count']\n",
    "\n",
    "# Visualize\n",
    "fig_content = px.treemap(\n",
    "    content_breakdown.head(10),\n",
    "    path=[px.Constant(\"Content Complaints\"), 'Specific Complaint'],\n",
    "    values='Review Count',\n",
    "    title='<b>Breakdown of Content-Specific Complaints</b>',\n",
    "    color_discrete_sequence=px.colors.sequential.Blues_r\n",
    ")\n",
    "fig_content.update_layout(margin = dict(t=50, l=25, r=25, b=25))\n",
    "fig_content.show()"
   ]
  },
  {
   "cell_type": "markdown",
   "metadata": {},
   "source": "### Deep Dive 3: What Technical Problems Are Users Facing?"
  },
  {
   "cell_type": "code",
   "execution_count": 13,
   "metadata": {
    "execution": {
     "iopub.execute_input": "2025-07-21T09:24:29.340494Z",
     "iopub.status.busy": "2025-07-21T09:24:29.340265Z",
     "iopub.status.idle": "2025-07-21T09:24:29.405211Z",
     "shell.execute_reply": "2025-07-21T09:24:29.404517Z",
     "shell.execute_reply.started": "2025-07-21T09:24:29.340476Z"
    },
    "trusted": true
   },
   "outputs": [
    {
     "data": {
      "text/html": "<html>\n<head><meta charset=\"utf-8\" /></head>\n<body>\n    <div>            <script src=\"https://cdnjs.cloudflare.com/ajax/libs/mathjax/2.7.5/MathJax.js?config=TeX-AMS-MML_SVG\"></script><script type=\"text/javascript\">if (window.MathJax && window.MathJax.Hub && window.MathJax.Hub.Config) {window.MathJax.Hub.Config({SVG: {font: \"STIX-Web\"}});}</script>                <script type=\"text/javascript\">window.PlotlyConfig = {MathJaxConfig: 'local'};</script>\n        <script charset=\"utf-8\" src=\"https://cdn.plot.ly/plotly-2.35.2.min.js\"></script>                <div id=\"0d999cf5-bf04-47a7-9cd0-7d3adf6486e3\" class=\"plotly-graph-div\" style=\"height:525px; width:100%;\"></div>            <script type=\"text/javascript\">                                    window.PLOTLYENV=window.PLOTLYENV || {};                                    if (document.getElementById(\"0d999cf5-bf04-47a7-9cd0-7d3adf6486e3\")) {                    Plotly.newPlot(                        \"0d999cf5-bf04-47a7-9cd0-7d3adf6486e3\",                        [{\"branchvalues\":\"total\",\"domain\":{\"x\":[0.0,1.0],\"y\":[0.0,1.0]},\"hovertemplate\":\"labels=%{label}\\u003cbr\\u003eReview Count=%{value}\\u003cbr\\u003eparent=%{parent}\\u003cbr\\u003eid=%{id}\\u003cextra\\u003e\\u003c\\u002fextra\\u003e\",\"ids\":[\"Technical Complaints\\u002fAccount & Login Issues\",\"Technical Complaints\\u002fTechnical Issues with Casting (Google Home)\",\"Technical Complaints\\u002fTechnical Issues with Wearables (Watch)\",\"Technical Complaints\\u002fTechnical: App Crashing \\u002f Not Opening\",\"Technical Complaints\"],\"labels\":[\"Account & Login Issues\",\"Technical Issues with Casting (Google Home)\",\"Technical Issues with Wearables (Watch)\",\"Technical: App Crashing \\u002f Not Opening\",\"Technical Complaints\"],\"name\":\"\",\"parents\":[\"Technical Complaints\",\"Technical Complaints\",\"Technical Complaints\",\"Technical Complaints\",\"\"],\"values\":[69,38,50,209,366],\"type\":\"treemap\"}],                        {\"template\":{\"data\":{\"histogram2dcontour\":[{\"type\":\"histogram2dcontour\",\"colorbar\":{\"outlinewidth\":0,\"ticks\":\"\"},\"colorscale\":[[0.0,\"#0d0887\"],[0.1111111111111111,\"#46039f\"],[0.2222222222222222,\"#7201a8\"],[0.3333333333333333,\"#9c179e\"],[0.4444444444444444,\"#bd3786\"],[0.5555555555555556,\"#d8576b\"],[0.6666666666666666,\"#ed7953\"],[0.7777777777777778,\"#fb9f3a\"],[0.8888888888888888,\"#fdca26\"],[1.0,\"#f0f921\"]]}],\"choropleth\":[{\"type\":\"choropleth\",\"colorbar\":{\"outlinewidth\":0,\"ticks\":\"\"}}],\"histogram2d\":[{\"type\":\"histogram2d\",\"colorbar\":{\"outlinewidth\":0,\"ticks\":\"\"},\"colorscale\":[[0.0,\"#0d0887\"],[0.1111111111111111,\"#46039f\"],[0.2222222222222222,\"#7201a8\"],[0.3333333333333333,\"#9c179e\"],[0.4444444444444444,\"#bd3786\"],[0.5555555555555556,\"#d8576b\"],[0.6666666666666666,\"#ed7953\"],[0.7777777777777778,\"#fb9f3a\"],[0.8888888888888888,\"#fdca26\"],[1.0,\"#f0f921\"]]}],\"heatmap\":[{\"type\":\"heatmap\",\"colorbar\":{\"outlinewidth\":0,\"ticks\":\"\"},\"colorscale\":[[0.0,\"#0d0887\"],[0.1111111111111111,\"#46039f\"],[0.2222222222222222,\"#7201a8\"],[0.3333333333333333,\"#9c179e\"],[0.4444444444444444,\"#bd3786\"],[0.5555555555555556,\"#d8576b\"],[0.6666666666666666,\"#ed7953\"],[0.7777777777777778,\"#fb9f3a\"],[0.8888888888888888,\"#fdca26\"],[1.0,\"#f0f921\"]]}],\"heatmapgl\":[{\"type\":\"heatmapgl\",\"colorbar\":{\"outlinewidth\":0,\"ticks\":\"\"},\"colorscale\":[[0.0,\"#0d0887\"],[0.1111111111111111,\"#46039f\"],[0.2222222222222222,\"#7201a8\"],[0.3333333333333333,\"#9c179e\"],[0.4444444444444444,\"#bd3786\"],[0.5555555555555556,\"#d8576b\"],[0.6666666666666666,\"#ed7953\"],[0.7777777777777778,\"#fb9f3a\"],[0.8888888888888888,\"#fdca26\"],[1.0,\"#f0f921\"]]}],\"contourcarpet\":[{\"type\":\"contourcarpet\",\"colorbar\":{\"outlinewidth\":0,\"ticks\":\"\"}}],\"contour\":[{\"type\":\"contour\",\"colorbar\":{\"outlinewidth\":0,\"ticks\":\"\"},\"colorscale\":[[0.0,\"#0d0887\"],[0.1111111111111111,\"#46039f\"],[0.2222222222222222,\"#7201a8\"],[0.3333333333333333,\"#9c179e\"],[0.4444444444444444,\"#bd3786\"],[0.5555555555555556,\"#d8576b\"],[0.6666666666666666,\"#ed7953\"],[0.7777777777777778,\"#fb9f3a\"],[0.8888888888888888,\"#fdca26\"],[1.0,\"#f0f921\"]]}],\"surface\":[{\"type\":\"surface\",\"colorbar\":{\"outlinewidth\":0,\"ticks\":\"\"},\"colorscale\":[[0.0,\"#0d0887\"],[0.1111111111111111,\"#46039f\"],[0.2222222222222222,\"#7201a8\"],[0.3333333333333333,\"#9c179e\"],[0.4444444444444444,\"#bd3786\"],[0.5555555555555556,\"#d8576b\"],[0.6666666666666666,\"#ed7953\"],[0.7777777777777778,\"#fb9f3a\"],[0.8888888888888888,\"#fdca26\"],[1.0,\"#f0f921\"]]}],\"mesh3d\":[{\"type\":\"mesh3d\",\"colorbar\":{\"outlinewidth\":0,\"ticks\":\"\"}}],\"scatter\":[{\"fillpattern\":{\"fillmode\":\"overlay\",\"size\":10,\"solidity\":0.2},\"type\":\"scatter\"}],\"parcoords\":[{\"type\":\"parcoords\",\"line\":{\"colorbar\":{\"outlinewidth\":0,\"ticks\":\"\"}}}],\"scatterpolargl\":[{\"type\":\"scatterpolargl\",\"marker\":{\"colorbar\":{\"outlinewidth\":0,\"ticks\":\"\"}}}],\"bar\":[{\"error_x\":{\"color\":\"#2a3f5f\"},\"error_y\":{\"color\":\"#2a3f5f\"},\"marker\":{\"line\":{\"color\":\"#E5ECF6\",\"width\":0.5},\"pattern\":{\"fillmode\":\"overlay\",\"size\":10,\"solidity\":0.2}},\"type\":\"bar\"}],\"scattergeo\":[{\"type\":\"scattergeo\",\"marker\":{\"colorbar\":{\"outlinewidth\":0,\"ticks\":\"\"}}}],\"scatterpolar\":[{\"type\":\"scatterpolar\",\"marker\":{\"colorbar\":{\"outlinewidth\":0,\"ticks\":\"\"}}}],\"histogram\":[{\"marker\":{\"pattern\":{\"fillmode\":\"overlay\",\"size\":10,\"solidity\":0.2}},\"type\":\"histogram\"}],\"scattergl\":[{\"type\":\"scattergl\",\"marker\":{\"colorbar\":{\"outlinewidth\":0,\"ticks\":\"\"}}}],\"scatter3d\":[{\"type\":\"scatter3d\",\"line\":{\"colorbar\":{\"outlinewidth\":0,\"ticks\":\"\"}},\"marker\":{\"colorbar\":{\"outlinewidth\":0,\"ticks\":\"\"}}}],\"scattermapbox\":[{\"type\":\"scattermapbox\",\"marker\":{\"colorbar\":{\"outlinewidth\":0,\"ticks\":\"\"}}}],\"scatterternary\":[{\"type\":\"scatterternary\",\"marker\":{\"colorbar\":{\"outlinewidth\":0,\"ticks\":\"\"}}}],\"scattercarpet\":[{\"type\":\"scattercarpet\",\"marker\":{\"colorbar\":{\"outlinewidth\":0,\"ticks\":\"\"}}}],\"carpet\":[{\"aaxis\":{\"endlinecolor\":\"#2a3f5f\",\"gridcolor\":\"white\",\"linecolor\":\"white\",\"minorgridcolor\":\"white\",\"startlinecolor\":\"#2a3f5f\"},\"baxis\":{\"endlinecolor\":\"#2a3f5f\",\"gridcolor\":\"white\",\"linecolor\":\"white\",\"minorgridcolor\":\"white\",\"startlinecolor\":\"#2a3f5f\"},\"type\":\"carpet\"}],\"table\":[{\"cells\":{\"fill\":{\"color\":\"#EBF0F8\"},\"line\":{\"color\":\"white\"}},\"header\":{\"fill\":{\"color\":\"#C8D4E3\"},\"line\":{\"color\":\"white\"}},\"type\":\"table\"}],\"barpolar\":[{\"marker\":{\"line\":{\"color\":\"#E5ECF6\",\"width\":0.5},\"pattern\":{\"fillmode\":\"overlay\",\"size\":10,\"solidity\":0.2}},\"type\":\"barpolar\"}],\"pie\":[{\"automargin\":true,\"type\":\"pie\"}]},\"layout\":{\"autotypenumbers\":\"strict\",\"colorway\":[\"#636efa\",\"#EF553B\",\"#00cc96\",\"#ab63fa\",\"#FFA15A\",\"#19d3f3\",\"#FF6692\",\"#B6E880\",\"#FF97FF\",\"#FECB52\"],\"font\":{\"color\":\"#2a3f5f\"},\"hovermode\":\"closest\",\"hoverlabel\":{\"align\":\"left\"},\"paper_bgcolor\":\"white\",\"plot_bgcolor\":\"#E5ECF6\",\"polar\":{\"bgcolor\":\"#E5ECF6\",\"angularaxis\":{\"gridcolor\":\"white\",\"linecolor\":\"white\",\"ticks\":\"\"},\"radialaxis\":{\"gridcolor\":\"white\",\"linecolor\":\"white\",\"ticks\":\"\"}},\"ternary\":{\"bgcolor\":\"#E5ECF6\",\"aaxis\":{\"gridcolor\":\"white\",\"linecolor\":\"white\",\"ticks\":\"\"},\"baxis\":{\"gridcolor\":\"white\",\"linecolor\":\"white\",\"ticks\":\"\"},\"caxis\":{\"gridcolor\":\"white\",\"linecolor\":\"white\",\"ticks\":\"\"}},\"coloraxis\":{\"colorbar\":{\"outlinewidth\":0,\"ticks\":\"\"}},\"colorscale\":{\"sequential\":[[0.0,\"#0d0887\"],[0.1111111111111111,\"#46039f\"],[0.2222222222222222,\"#7201a8\"],[0.3333333333333333,\"#9c179e\"],[0.4444444444444444,\"#bd3786\"],[0.5555555555555556,\"#d8576b\"],[0.6666666666666666,\"#ed7953\"],[0.7777777777777778,\"#fb9f3a\"],[0.8888888888888888,\"#fdca26\"],[1.0,\"#f0f921\"]],\"sequentialminus\":[[0.0,\"#0d0887\"],[0.1111111111111111,\"#46039f\"],[0.2222222222222222,\"#7201a8\"],[0.3333333333333333,\"#9c179e\"],[0.4444444444444444,\"#bd3786\"],[0.5555555555555556,\"#d8576b\"],[0.6666666666666666,\"#ed7953\"],[0.7777777777777778,\"#fb9f3a\"],[0.8888888888888888,\"#fdca26\"],[1.0,\"#f0f921\"]],\"diverging\":[[0,\"#8e0152\"],[0.1,\"#c51b7d\"],[0.2,\"#de77ae\"],[0.3,\"#f1b6da\"],[0.4,\"#fde0ef\"],[0.5,\"#f7f7f7\"],[0.6,\"#e6f5d0\"],[0.7,\"#b8e186\"],[0.8,\"#7fbc41\"],[0.9,\"#4d9221\"],[1,\"#276419\"]]},\"xaxis\":{\"gridcolor\":\"white\",\"linecolor\":\"white\",\"ticks\":\"\",\"title\":{\"standoff\":15},\"zerolinecolor\":\"white\",\"automargin\":true,\"zerolinewidth\":2},\"yaxis\":{\"gridcolor\":\"white\",\"linecolor\":\"white\",\"ticks\":\"\",\"title\":{\"standoff\":15},\"zerolinecolor\":\"white\",\"automargin\":true,\"zerolinewidth\":2},\"scene\":{\"xaxis\":{\"backgroundcolor\":\"#E5ECF6\",\"gridcolor\":\"white\",\"linecolor\":\"white\",\"showbackground\":true,\"ticks\":\"\",\"zerolinecolor\":\"white\",\"gridwidth\":2},\"yaxis\":{\"backgroundcolor\":\"#E5ECF6\",\"gridcolor\":\"white\",\"linecolor\":\"white\",\"showbackground\":true,\"ticks\":\"\",\"zerolinecolor\":\"white\",\"gridwidth\":2},\"zaxis\":{\"backgroundcolor\":\"#E5ECF6\",\"gridcolor\":\"white\",\"linecolor\":\"white\",\"showbackground\":true,\"ticks\":\"\",\"zerolinecolor\":\"white\",\"gridwidth\":2}},\"shapedefaults\":{\"line\":{\"color\":\"#2a3f5f\"}},\"annotationdefaults\":{\"arrowcolor\":\"#2a3f5f\",\"arrowhead\":0,\"arrowwidth\":1},\"geo\":{\"bgcolor\":\"white\",\"landcolor\":\"#E5ECF6\",\"subunitcolor\":\"white\",\"showland\":true,\"showlakes\":true,\"lakecolor\":\"white\"},\"title\":{\"x\":0.05},\"mapbox\":{\"style\":\"light\"}}},\"legend\":{\"tracegroupgap\":0},\"title\":{\"text\":\"\\u003cb\\u003eBreakdown of Technical Performance Complaints\\u003c\\u002fb\\u003e\"},\"treemapcolorway\":[\"rgb(0,68,27)\",\"rgb(0,109,44)\",\"rgb(35,139,69)\",\"rgb(65,171,93)\",\"rgb(116,196,118)\",\"rgb(161,217,155)\",\"rgb(199,233,192)\",\"rgb(229,245,224)\",\"rgb(247,252,245)\"],\"margin\":{\"t\":50,\"l\":25,\"r\":25,\"b\":25}},                        {\"responsive\": true}                    ).then(function(){\n                            \nvar gd = document.getElementById('0d999cf5-bf04-47a7-9cd0-7d3adf6486e3');\nvar x = new MutationObserver(function (mutations, observer) {{\n        var display = window.getComputedStyle(gd).display;\n        if (!display || display === 'none') {{\n            console.log([gd, 'removed!']);\n            Plotly.purge(gd);\n            observer.disconnect();\n        }}\n}});\n\n// Listen for the removal of the full notebook cells\nvar notebookContainer = gd.closest('#notebook-container');\nif (notebookContainer) {{\n    x.observe(notebookContainer, {childList: true});\n}}\n\n// Listen for the clearing of the current output cell\nvar outputEl = gd.closest('.output');\nif (outputEl) {{\n    x.observe(outputEl, {childList: true});\n}}\n\n                        })                };                            </script>        </div>\n</body>\n</html>"
     },
     "metadata": {},
     "output_type": "display_data"
    }
   ],
   "source": [
    "# Filter for the theme\n",
    "technical_df = df_base[df_base['theme'] == 'Technical Performance']\n",
    "# Get the breakdown\n",
    "technical_breakdown = technical_df['topic_name'].value_counts().reset_index()\n",
    "technical_breakdown.columns = ['Specific Complaint', 'Review Count']\n",
    "\n",
    "# Visualize\n",
    "fig_technical = px.treemap(\n",
    "    technical_breakdown.head(10),\n",
    "    path=[px.Constant(\"Technical Complaints\"), 'Specific Complaint'],\n",
    "    values='Review Count',\n",
    "    title='<b>Breakdown of Technical Performance Complaints</b>',\n",
    "    color_discrete_sequence=px.colors.sequential.Greens_r\n",
    ")\n",
    "fig_technical.update_layout(margin = dict(t=50, l=25, r=25, b=25))\n",
    "fig_technical.show()"
   ]
  },
  {
   "cell_type": "markdown",
   "metadata": {},
   "source": ""
  },
  {
   "cell_type": "code",
   "execution_count": 14,
   "metadata": {
    "execution": {
     "iopub.execute_input": "2025-07-21T09:24:29.406234Z",
     "iopub.status.busy": "2025-07-21T09:24:29.405914Z",
     "iopub.status.idle": "2025-07-21T09:24:29.524875Z",
     "shell.execute_reply": "2025-07-21T09:24:29.524049Z",
     "shell.execute_reply.started": "2025-07-21T09:24:29.406216Z"
    },
    "trusted": true
   },
   "outputs": [
    {
     "name": "stdout",
     "output_type": "stream",
     "text": "Creating a hierarchical Sunburst chart to show theme breakdowns...\n"
    },
    {
     "data": {
      "text/html": "<html>\n<head><meta charset=\"utf-8\" /></head>\n<body>\n    <div>            <script src=\"https://cdnjs.cloudflare.com/ajax/libs/mathjax/2.7.5/MathJax.js?config=TeX-AMS-MML_SVG\"></script><script type=\"text/javascript\">if (window.MathJax && window.MathJax.Hub && window.MathJax.Hub.Config) {window.MathJax.Hub.Config({SVG: {font: \"STIX-Web\"}});}</script>                <script type=\"text/javascript\">window.PlotlyConfig = {MathJaxConfig: 'local'};</script>\n        <script charset=\"utf-8\" src=\"https://cdn.plot.ly/plotly-2.35.2.min.js\"></script>                <div id=\"a7d21585-aee5-4801-8c9c-ba3484131510\" class=\"plotly-graph-div\" style=\"height:525px; width:100%;\"></div>            <script type=\"text/javascript\">                                    window.PLOTLYENV=window.PLOTLYENV || {};                                    if (document.getElementById(\"a7d21585-aee5-4801-8c9c-ba3484131510\")) {                    Plotly.newPlot(                        \"a7d21585-aee5-4801-8c9c-ba3484131510\",                        [{\"branchvalues\":\"total\",\"customdata\":[[\"Technical Performance\"],[\"Monetization & Value\"],[\"Monetization & Value\"],[\"Monetization & Value\"],[\"Monetization & Value\"],[\"Monetization & Value\"],[\"Content-Specific Issues\"],[\"Content-Specific Issues\"],[\"Monetization & Value\"],[\"Monetization & Value\"],[\"Monetization & Value\"],[\"Monetization & Value\"],[\"Monetization & Value\"],[\"Monetization & Value\"],[\"Monetization & Value\"],[\"Monetization & Value\"],[\"Content-Specific Issues\"],[\"Monetization & Value\"],[\"Content-Specific Issues\"],[\"Content-Specific Issues\"],[\"Monetization & Value\"],[\"Monetization & Value\"],[\"Monetization & Value\"],[\"Monetization & Value\"],[\"Monetization & Value\"],[\"Monetization & Value\"],[\"Technical Performance\"],[\"Technical Performance\"],[\"Technical Performance\"],[\"Content-Specific Issues\"],[\"Monetization & Value\"],[\"Technical Performance\"]],\"domain\":{\"x\":[0.0,1.0],\"y\":[0.0,1.0]},\"hovertemplate\":\"labels=%{label}\\u003cbr\\u003ecount=%{value}\\u003cbr\\u003eparent=%{parent}\\u003cbr\\u003eid=%{id}\\u003cbr\\u003etheme=%{customdata[0]}\\u003cextra\\u003e\\u003c\\u002fextra\\u003e\",\"ids\":[\"Technical Performance\\u002fAccount & Login Issues\",\"Monetization & Value\\u002fApp Uninstalled Due to Cost\",\"Monetization & Value\\u002fContent Available Free on YouTube\",\"Monetization & Value\\u002fExploiting Anxiety for Money\",\"Monetization & Value\\u002fFalse Advertising\",\"Monetization & Value\\u002fSubscription Cancellation\",\"Content-Specific Issues\\u002fSoundscape & Audio Feature Issues\",\"Content-Specific Issues\\u002fSound\\u002fAudio Issues\",\"Monetization & Value\\u002fRefund & Billing Issues\",\"Monetization & Value\\u002fPrice is Too Expensive ($70\\u002fyear)\",\"Monetization & Value\\u002fPrice is Too Expensive\",\"Monetization & Value\\u002fPerceived as a Scam\",\"Monetization & Value\\u002fPaywalled Sleep Content\",\"Monetization & Value\\u002fPaywalled Audio & Music\",\"Monetization & Value\\u002fPaywall & Lack of Free Content\",\"Monetization & Value\\u002fMisleading 'Free' Label\",\"Content-Specific Issues\\u002fMeditation Content Issues\",\"Monetization & Value\\u002fLocked\\u002fPaid Features\",\"Content-Specific Issues\\u002fIssues with Specific Narrator (Tamara Levitt)\",\"Content-Specific Issues\\u002fIssues with Sleep Content\",\"Monetization & Value\\u002fFree Version is Useless\",\"Monetization & Value\\u002fFree Trial Complaints & Charges\",\"Monetization & Value\\u002fFree Trial Complaints\",\"Monetization & Value\\u002fForced Subscription to Use\",\"Monetization & Value\\u002fFeatures Locked Behind Paywall\",\"Monetization & Value\\u002fSubscription Cancellation Problems\",\"Technical Performance\\u002fTechnical Issues with Casting (Google Home)\",\"Technical Performance\\u002fTechnical Issues with Wearables (Watch)\",\"Technical Performance\\u002fTechnical: App Crashing \\u002f Not Opening\",\"Content-Specific Issues\",\"Monetization & Value\",\"Technical Performance\"],\"labels\":[\"Account & Login Issues\",\"App Uninstalled Due to Cost\",\"Content Available Free on YouTube\",\"Exploiting Anxiety for Money\",\"False Advertising\",\"Subscription Cancellation\",\"Soundscape & Audio Feature Issues\",\"Sound\\u002fAudio Issues\",\"Refund & Billing Issues\",\"Price is Too Expensive ($70\\u002fyear)\",\"Price is Too Expensive\",\"Perceived as a Scam\",\"Paywalled Sleep Content\",\"Paywalled Audio & Music\",\"Paywall & Lack of Free Content\",\"Misleading 'Free' Label\",\"Meditation Content Issues\",\"Locked\\u002fPaid Features\",\"Issues with Specific Narrator (Tamara Levitt)\",\"Issues with Sleep Content\",\"Free Version is Useless\",\"Free Trial Complaints & Charges\",\"Free Trial Complaints\",\"Forced Subscription to Use\",\"Features Locked Behind Paywall\",\"Subscription Cancellation Problems\",\"Technical Issues with Casting (Google Home)\",\"Technical Issues with Wearables (Watch)\",\"Technical: App Crashing \\u002f Not Opening\",\"Content-Specific Issues\",\"Monetization & Value\",\"Technical Performance\"],\"marker\":{\"colors\":[\"rgb(102, 197, 204)\",\"rgb(246, 207, 113)\",\"rgb(246, 207, 113)\",\"rgb(246, 207, 113)\",\"rgb(246, 207, 113)\",\"rgb(246, 207, 113)\",\"rgb(248, 156, 116)\",\"rgb(248, 156, 116)\",\"rgb(246, 207, 113)\",\"rgb(246, 207, 113)\",\"rgb(246, 207, 113)\",\"rgb(246, 207, 113)\",\"rgb(246, 207, 113)\",\"rgb(246, 207, 113)\",\"rgb(246, 207, 113)\",\"rgb(246, 207, 113)\",\"rgb(248, 156, 116)\",\"rgb(246, 207, 113)\",\"rgb(248, 156, 116)\",\"rgb(248, 156, 116)\",\"rgb(246, 207, 113)\",\"rgb(246, 207, 113)\",\"rgb(246, 207, 113)\",\"rgb(246, 207, 113)\",\"rgb(246, 207, 113)\",\"rgb(246, 207, 113)\",\"rgb(102, 197, 204)\",\"rgb(102, 197, 204)\",\"rgb(102, 197, 204)\",\"rgb(248, 156, 116)\",\"rgb(246, 207, 113)\",\"rgb(102, 197, 204)\"]},\"name\":\"\",\"parents\":[\"Technical Performance\",\"Monetization & Value\",\"Monetization & Value\",\"Monetization & Value\",\"Monetization & Value\",\"Monetization & Value\",\"Content-Specific Issues\",\"Content-Specific Issues\",\"Monetization & Value\",\"Monetization & Value\",\"Monetization & Value\",\"Monetization & Value\",\"Monetization & Value\",\"Monetization & Value\",\"Monetization & Value\",\"Monetization & Value\",\"Content-Specific Issues\",\"Monetization & Value\",\"Content-Specific Issues\",\"Content-Specific Issues\",\"Monetization & Value\",\"Monetization & Value\",\"Monetization & Value\",\"Monetization & Value\",\"Monetization & Value\",\"Monetization & Value\",\"Technical Performance\",\"Technical Performance\",\"Technical Performance\",\"\",\"\",\"\"],\"values\":[69,73,124,85,117,207,148,31,317,44,107,45,58,223,865,138,342,70,34,175,89,274,248,177,87,143,38,50,209,730,3491,366],\"type\":\"sunburst\"}],                        {\"template\":{\"data\":{\"histogram2dcontour\":[{\"type\":\"histogram2dcontour\",\"colorbar\":{\"outlinewidth\":0,\"ticks\":\"\"},\"colorscale\":[[0.0,\"#0d0887\"],[0.1111111111111111,\"#46039f\"],[0.2222222222222222,\"#7201a8\"],[0.3333333333333333,\"#9c179e\"],[0.4444444444444444,\"#bd3786\"],[0.5555555555555556,\"#d8576b\"],[0.6666666666666666,\"#ed7953\"],[0.7777777777777778,\"#fb9f3a\"],[0.8888888888888888,\"#fdca26\"],[1.0,\"#f0f921\"]]}],\"choropleth\":[{\"type\":\"choropleth\",\"colorbar\":{\"outlinewidth\":0,\"ticks\":\"\"}}],\"histogram2d\":[{\"type\":\"histogram2d\",\"colorbar\":{\"outlinewidth\":0,\"ticks\":\"\"},\"colorscale\":[[0.0,\"#0d0887\"],[0.1111111111111111,\"#46039f\"],[0.2222222222222222,\"#7201a8\"],[0.3333333333333333,\"#9c179e\"],[0.4444444444444444,\"#bd3786\"],[0.5555555555555556,\"#d8576b\"],[0.6666666666666666,\"#ed7953\"],[0.7777777777777778,\"#fb9f3a\"],[0.8888888888888888,\"#fdca26\"],[1.0,\"#f0f921\"]]}],\"heatmap\":[{\"type\":\"heatmap\",\"colorbar\":{\"outlinewidth\":0,\"ticks\":\"\"},\"colorscale\":[[0.0,\"#0d0887\"],[0.1111111111111111,\"#46039f\"],[0.2222222222222222,\"#7201a8\"],[0.3333333333333333,\"#9c179e\"],[0.4444444444444444,\"#bd3786\"],[0.5555555555555556,\"#d8576b\"],[0.6666666666666666,\"#ed7953\"],[0.7777777777777778,\"#fb9f3a\"],[0.8888888888888888,\"#fdca26\"],[1.0,\"#f0f921\"]]}],\"heatmapgl\":[{\"type\":\"heatmapgl\",\"colorbar\":{\"outlinewidth\":0,\"ticks\":\"\"},\"colorscale\":[[0.0,\"#0d0887\"],[0.1111111111111111,\"#46039f\"],[0.2222222222222222,\"#7201a8\"],[0.3333333333333333,\"#9c179e\"],[0.4444444444444444,\"#bd3786\"],[0.5555555555555556,\"#d8576b\"],[0.6666666666666666,\"#ed7953\"],[0.7777777777777778,\"#fb9f3a\"],[0.8888888888888888,\"#fdca26\"],[1.0,\"#f0f921\"]]}],\"contourcarpet\":[{\"type\":\"contourcarpet\",\"colorbar\":{\"outlinewidth\":0,\"ticks\":\"\"}}],\"contour\":[{\"type\":\"contour\",\"colorbar\":{\"outlinewidth\":0,\"ticks\":\"\"},\"colorscale\":[[0.0,\"#0d0887\"],[0.1111111111111111,\"#46039f\"],[0.2222222222222222,\"#7201a8\"],[0.3333333333333333,\"#9c179e\"],[0.4444444444444444,\"#bd3786\"],[0.5555555555555556,\"#d8576b\"],[0.6666666666666666,\"#ed7953\"],[0.7777777777777778,\"#fb9f3a\"],[0.8888888888888888,\"#fdca26\"],[1.0,\"#f0f921\"]]}],\"surface\":[{\"type\":\"surface\",\"colorbar\":{\"outlinewidth\":0,\"ticks\":\"\"},\"colorscale\":[[0.0,\"#0d0887\"],[0.1111111111111111,\"#46039f\"],[0.2222222222222222,\"#7201a8\"],[0.3333333333333333,\"#9c179e\"],[0.4444444444444444,\"#bd3786\"],[0.5555555555555556,\"#d8576b\"],[0.6666666666666666,\"#ed7953\"],[0.7777777777777778,\"#fb9f3a\"],[0.8888888888888888,\"#fdca26\"],[1.0,\"#f0f921\"]]}],\"mesh3d\":[{\"type\":\"mesh3d\",\"colorbar\":{\"outlinewidth\":0,\"ticks\":\"\"}}],\"scatter\":[{\"fillpattern\":{\"fillmode\":\"overlay\",\"size\":10,\"solidity\":0.2},\"type\":\"scatter\"}],\"parcoords\":[{\"type\":\"parcoords\",\"line\":{\"colorbar\":{\"outlinewidth\":0,\"ticks\":\"\"}}}],\"scatterpolargl\":[{\"type\":\"scatterpolargl\",\"marker\":{\"colorbar\":{\"outlinewidth\":0,\"ticks\":\"\"}}}],\"bar\":[{\"error_x\":{\"color\":\"#2a3f5f\"},\"error_y\":{\"color\":\"#2a3f5f\"},\"marker\":{\"line\":{\"color\":\"#E5ECF6\",\"width\":0.5},\"pattern\":{\"fillmode\":\"overlay\",\"size\":10,\"solidity\":0.2}},\"type\":\"bar\"}],\"scattergeo\":[{\"type\":\"scattergeo\",\"marker\":{\"colorbar\":{\"outlinewidth\":0,\"ticks\":\"\"}}}],\"scatterpolar\":[{\"type\":\"scatterpolar\",\"marker\":{\"colorbar\":{\"outlinewidth\":0,\"ticks\":\"\"}}}],\"histogram\":[{\"marker\":{\"pattern\":{\"fillmode\":\"overlay\",\"size\":10,\"solidity\":0.2}},\"type\":\"histogram\"}],\"scattergl\":[{\"type\":\"scattergl\",\"marker\":{\"colorbar\":{\"outlinewidth\":0,\"ticks\":\"\"}}}],\"scatter3d\":[{\"type\":\"scatter3d\",\"line\":{\"colorbar\":{\"outlinewidth\":0,\"ticks\":\"\"}},\"marker\":{\"colorbar\":{\"outlinewidth\":0,\"ticks\":\"\"}}}],\"scattermapbox\":[{\"type\":\"scattermapbox\",\"marker\":{\"colorbar\":{\"outlinewidth\":0,\"ticks\":\"\"}}}],\"scatterternary\":[{\"type\":\"scatterternary\",\"marker\":{\"colorbar\":{\"outlinewidth\":0,\"ticks\":\"\"}}}],\"scattercarpet\":[{\"type\":\"scattercarpet\",\"marker\":{\"colorbar\":{\"outlinewidth\":0,\"ticks\":\"\"}}}],\"carpet\":[{\"aaxis\":{\"endlinecolor\":\"#2a3f5f\",\"gridcolor\":\"white\",\"linecolor\":\"white\",\"minorgridcolor\":\"white\",\"startlinecolor\":\"#2a3f5f\"},\"baxis\":{\"endlinecolor\":\"#2a3f5f\",\"gridcolor\":\"white\",\"linecolor\":\"white\",\"minorgridcolor\":\"white\",\"startlinecolor\":\"#2a3f5f\"},\"type\":\"carpet\"}],\"table\":[{\"cells\":{\"fill\":{\"color\":\"#EBF0F8\"},\"line\":{\"color\":\"white\"}},\"header\":{\"fill\":{\"color\":\"#C8D4E3\"},\"line\":{\"color\":\"white\"}},\"type\":\"table\"}],\"barpolar\":[{\"marker\":{\"line\":{\"color\":\"#E5ECF6\",\"width\":0.5},\"pattern\":{\"fillmode\":\"overlay\",\"size\":10,\"solidity\":0.2}},\"type\":\"barpolar\"}],\"pie\":[{\"automargin\":true,\"type\":\"pie\"}]},\"layout\":{\"autotypenumbers\":\"strict\",\"colorway\":[\"#636efa\",\"#EF553B\",\"#00cc96\",\"#ab63fa\",\"#FFA15A\",\"#19d3f3\",\"#FF6692\",\"#B6E880\",\"#FF97FF\",\"#FECB52\"],\"font\":{\"color\":\"#2a3f5f\"},\"hovermode\":\"closest\",\"hoverlabel\":{\"align\":\"left\"},\"paper_bgcolor\":\"white\",\"plot_bgcolor\":\"#E5ECF6\",\"polar\":{\"bgcolor\":\"#E5ECF6\",\"angularaxis\":{\"gridcolor\":\"white\",\"linecolor\":\"white\",\"ticks\":\"\"},\"radialaxis\":{\"gridcolor\":\"white\",\"linecolor\":\"white\",\"ticks\":\"\"}},\"ternary\":{\"bgcolor\":\"#E5ECF6\",\"aaxis\":{\"gridcolor\":\"white\",\"linecolor\":\"white\",\"ticks\":\"\"},\"baxis\":{\"gridcolor\":\"white\",\"linecolor\":\"white\",\"ticks\":\"\"},\"caxis\":{\"gridcolor\":\"white\",\"linecolor\":\"white\",\"ticks\":\"\"}},\"coloraxis\":{\"colorbar\":{\"outlinewidth\":0,\"ticks\":\"\"}},\"colorscale\":{\"sequential\":[[0.0,\"#0d0887\"],[0.1111111111111111,\"#46039f\"],[0.2222222222222222,\"#7201a8\"],[0.3333333333333333,\"#9c179e\"],[0.4444444444444444,\"#bd3786\"],[0.5555555555555556,\"#d8576b\"],[0.6666666666666666,\"#ed7953\"],[0.7777777777777778,\"#fb9f3a\"],[0.8888888888888888,\"#fdca26\"],[1.0,\"#f0f921\"]],\"sequentialminus\":[[0.0,\"#0d0887\"],[0.1111111111111111,\"#46039f\"],[0.2222222222222222,\"#7201a8\"],[0.3333333333333333,\"#9c179e\"],[0.4444444444444444,\"#bd3786\"],[0.5555555555555556,\"#d8576b\"],[0.6666666666666666,\"#ed7953\"],[0.7777777777777778,\"#fb9f3a\"],[0.8888888888888888,\"#fdca26\"],[1.0,\"#f0f921\"]],\"diverging\":[[0,\"#8e0152\"],[0.1,\"#c51b7d\"],[0.2,\"#de77ae\"],[0.3,\"#f1b6da\"],[0.4,\"#fde0ef\"],[0.5,\"#f7f7f7\"],[0.6,\"#e6f5d0\"],[0.7,\"#b8e186\"],[0.8,\"#7fbc41\"],[0.9,\"#4d9221\"],[1,\"#276419\"]]},\"xaxis\":{\"gridcolor\":\"white\",\"linecolor\":\"white\",\"ticks\":\"\",\"title\":{\"standoff\":15},\"zerolinecolor\":\"white\",\"automargin\":true,\"zerolinewidth\":2},\"yaxis\":{\"gridcolor\":\"white\",\"linecolor\":\"white\",\"ticks\":\"\",\"title\":{\"standoff\":15},\"zerolinecolor\":\"white\",\"automargin\":true,\"zerolinewidth\":2},\"scene\":{\"xaxis\":{\"backgroundcolor\":\"#E5ECF6\",\"gridcolor\":\"white\",\"linecolor\":\"white\",\"showbackground\":true,\"ticks\":\"\",\"zerolinecolor\":\"white\",\"gridwidth\":2},\"yaxis\":{\"backgroundcolor\":\"#E5ECF6\",\"gridcolor\":\"white\",\"linecolor\":\"white\",\"showbackground\":true,\"ticks\":\"\",\"zerolinecolor\":\"white\",\"gridwidth\":2},\"zaxis\":{\"backgroundcolor\":\"#E5ECF6\",\"gridcolor\":\"white\",\"linecolor\":\"white\",\"showbackground\":true,\"ticks\":\"\",\"zerolinecolor\":\"white\",\"gridwidth\":2}},\"shapedefaults\":{\"line\":{\"color\":\"#2a3f5f\"}},\"annotationdefaults\":{\"arrowcolor\":\"#2a3f5f\",\"arrowhead\":0,\"arrowwidth\":1},\"geo\":{\"bgcolor\":\"white\",\"landcolor\":\"#E5ECF6\",\"subunitcolor\":\"white\",\"showland\":true,\"showlakes\":true,\"lakecolor\":\"white\"},\"title\":{\"x\":0.05},\"mapbox\":{\"style\":\"light\"}}},\"legend\":{\"tracegroupgap\":0},\"title\":{\"text\":\"\\u003cb\\u003eAnatomy of a Negative Review: A Hierarchical View of Complaints\\u003c\\u002fb\\u003e\"},\"sunburstcolorway\":[\"rgb(102, 197, 204)\",\"rgb(246, 207, 113)\",\"rgb(248, 156, 116)\",\"rgb(220, 176, 242)\",\"rgb(135, 197, 95)\",\"rgb(158, 185, 243)\",\"rgb(254, 136, 177)\",\"rgb(201, 219, 116)\",\"rgb(139, 224, 164)\",\"rgb(180, 151, 231)\",\"rgb(179, 179, 179)\"],\"margin\":{\"t\":50,\"l\":25,\"r\":25,\"b\":25}},                        {\"responsive\": true}                    ).then(function(){\n                            \nvar gd = document.getElementById('a7d21585-aee5-4801-8c9c-ba3484131510');\nvar x = new MutationObserver(function (mutations, observer) {{\n        var display = window.getComputedStyle(gd).display;\n        if (!display || display === 'none') {{\n            console.log([gd, 'removed!']);\n            Plotly.purge(gd);\n            observer.disconnect();\n        }}\n}});\n\n// Listen for the removal of the full notebook cells\nvar notebookContainer = gd.closest('#notebook-container');\nif (notebookContainer) {{\n    x.observe(notebookContainer, {childList: true});\n}}\n\n// Listen for the clearing of the current output cell\nvar outputEl = gd.closest('.output');\nif (outputEl) {{\n    x.observe(outputEl, {childList: true});\n}}\n\n                        })                };                            </script>        </div>\n</body>\n</html>"
     },
     "metadata": {},
     "output_type": "display_data"
    }
   ],
   "source": [
    "# In your Kaggle Cell\n",
    "\n",
    "# --- The Ultimate Breakdown: Sunburst Chart ---\n",
    "print(\"Creating a hierarchical Sunburst chart to show theme breakdowns...\")\n",
    "\n",
    "# We need a DataFrame with three columns: Theme, Specific Complaint, and Count\n",
    "# We can create this by combining our previous breakdown dataframes.\n",
    "breakdown_df = df_base[~df_base['theme'].isin(['Outliers / Generic', 'Other/Misc.'])]\n",
    "sunburst_data = breakdown_df.groupby(['theme', 'topic_name']).size().reset_index(name='count')\n",
    "\n",
    "# Create the Sunburst chart\n",
    "fig_sunburst = px.sunburst(\n",
    "    sunburst_data,\n",
    "    path=['theme', 'topic_name'], # This defines the hierarchy\n",
    "    values='count',\n",
    "    title='<b>Anatomy of a Negative Review: A Hierarchical View of Complaints</b>',\n",
    "    color='theme', # Color the inner ring by theme\n",
    "    color_discrete_sequence=px.colors.qualitative.Pastel\n",
    ")\n",
    "\n",
    "fig_sunburst.update_layout(margin = dict(t=50, l=25, r=25, b=25))\n",
    "fig_sunburst.show()"
   ]
  },
  {
   "cell_type": "code",
   "execution_count": 15,
   "metadata": {
    "execution": {
     "iopub.execute_input": "2025-07-21T09:24:29.526548Z",
     "iopub.status.busy": "2025-07-21T09:24:29.525786Z",
     "iopub.status.idle": "2025-07-21T09:24:29.709670Z",
     "shell.execute_reply": "2025-07-21T09:24:29.708906Z",
     "shell.execute_reply.started": "2025-07-21T09:24:29.526528Z"
    },
    "trusted": true
   },
   "outputs": [
    {
     "name": "stdout",
     "output_type": "stream",
     "text": "Creating a Sentiment vs. Frequency scatter plot...\n"
    },
    {
     "data": {
      "text/html": "<html>\n<head><meta charset=\"utf-8\" /></head>\n<body>\n    <div>            <script src=\"https://cdnjs.cloudflare.com/ajax/libs/mathjax/2.7.5/MathJax.js?config=TeX-AMS-MML_SVG\"></script><script type=\"text/javascript\">if (window.MathJax && window.MathJax.Hub && window.MathJax.Hub.Config) {window.MathJax.Hub.Config({SVG: {font: \"STIX-Web\"}});}</script>                <script type=\"text/javascript\">window.PlotlyConfig = {MathJaxConfig: 'local'};</script>\n        <script charset=\"utf-8\" src=\"https://cdn.plot.ly/plotly-2.35.2.min.js\"></script>                <div id=\"169847c9-5a60-4945-ab1c-8217c020119e\" class=\"plotly-graph-div\" style=\"height:525px; width:100%;\"></div>            <script type=\"text/javascript\">                                    window.PLOTLYENV=window.PLOTLYENV || {};                                    if (document.getElementById(\"169847c9-5a60-4945-ab1c-8217c020119e\")) {                    Plotly.newPlot(                        \"169847c9-5a60-4945-ab1c-8217c020119e\",                        [{\"hovertemplate\":\"Frequency (Number of Reviews)=%{marker.size}\\u003cbr\\u003eAverage Sentiment Score=%{marker.color}\\u003cbr\\u003eTheme=%{text}\\u003cextra\\u003e\\u003c\\u002fextra\\u003e\",\"legendgroup\":\"\",\"marker\":{\"color\":[-0.7694070466914924,-0.5739726027397261,-0.8114754098360656],\"coloraxis\":\"coloraxis\",\"size\":[3491,730,366],\"sizemode\":\"area\",\"sizeref\":8.7275,\"symbol\":\"circle\"},\"mode\":\"markers+text\",\"name\":\"\",\"orientation\":\"v\",\"showlegend\":false,\"text\":[\"Monetization & Value\",\"Content-Specific Issues\",\"Technical Performance\"],\"x\":[3491,730,366],\"xaxis\":\"x\",\"y\":[-0.7694070466914924,-0.5739726027397261,-0.8114754098360656],\"yaxis\":\"y\",\"type\":\"scatter\",\"textposition\":\"top center\"}],                        {\"template\":{\"data\":{\"barpolar\":[{\"marker\":{\"line\":{\"color\":\"white\",\"width\":0.5},\"pattern\":{\"fillmode\":\"overlay\",\"size\":10,\"solidity\":0.2}},\"type\":\"barpolar\"}],\"bar\":[{\"error_x\":{\"color\":\"#2a3f5f\"},\"error_y\":{\"color\":\"#2a3f5f\"},\"marker\":{\"line\":{\"color\":\"white\",\"width\":0.5},\"pattern\":{\"fillmode\":\"overlay\",\"size\":10,\"solidity\":0.2}},\"type\":\"bar\"}],\"carpet\":[{\"aaxis\":{\"endlinecolor\":\"#2a3f5f\",\"gridcolor\":\"#C8D4E3\",\"linecolor\":\"#C8D4E3\",\"minorgridcolor\":\"#C8D4E3\",\"startlinecolor\":\"#2a3f5f\"},\"baxis\":{\"endlinecolor\":\"#2a3f5f\",\"gridcolor\":\"#C8D4E3\",\"linecolor\":\"#C8D4E3\",\"minorgridcolor\":\"#C8D4E3\",\"startlinecolor\":\"#2a3f5f\"},\"type\":\"carpet\"}],\"choropleth\":[{\"colorbar\":{\"outlinewidth\":0,\"ticks\":\"\"},\"type\":\"choropleth\"}],\"contourcarpet\":[{\"colorbar\":{\"outlinewidth\":0,\"ticks\":\"\"},\"type\":\"contourcarpet\"}],\"contour\":[{\"colorbar\":{\"outlinewidth\":0,\"ticks\":\"\"},\"colorscale\":[[0.0,\"#0d0887\"],[0.1111111111111111,\"#46039f\"],[0.2222222222222222,\"#7201a8\"],[0.3333333333333333,\"#9c179e\"],[0.4444444444444444,\"#bd3786\"],[0.5555555555555556,\"#d8576b\"],[0.6666666666666666,\"#ed7953\"],[0.7777777777777778,\"#fb9f3a\"],[0.8888888888888888,\"#fdca26\"],[1.0,\"#f0f921\"]],\"type\":\"contour\"}],\"heatmapgl\":[{\"colorbar\":{\"outlinewidth\":0,\"ticks\":\"\"},\"colorscale\":[[0.0,\"#0d0887\"],[0.1111111111111111,\"#46039f\"],[0.2222222222222222,\"#7201a8\"],[0.3333333333333333,\"#9c179e\"],[0.4444444444444444,\"#bd3786\"],[0.5555555555555556,\"#d8576b\"],[0.6666666666666666,\"#ed7953\"],[0.7777777777777778,\"#fb9f3a\"],[0.8888888888888888,\"#fdca26\"],[1.0,\"#f0f921\"]],\"type\":\"heatmapgl\"}],\"heatmap\":[{\"colorbar\":{\"outlinewidth\":0,\"ticks\":\"\"},\"colorscale\":[[0.0,\"#0d0887\"],[0.1111111111111111,\"#46039f\"],[0.2222222222222222,\"#7201a8\"],[0.3333333333333333,\"#9c179e\"],[0.4444444444444444,\"#bd3786\"],[0.5555555555555556,\"#d8576b\"],[0.6666666666666666,\"#ed7953\"],[0.7777777777777778,\"#fb9f3a\"],[0.8888888888888888,\"#fdca26\"],[1.0,\"#f0f921\"]],\"type\":\"heatmap\"}],\"histogram2dcontour\":[{\"colorbar\":{\"outlinewidth\":0,\"ticks\":\"\"},\"colorscale\":[[0.0,\"#0d0887\"],[0.1111111111111111,\"#46039f\"],[0.2222222222222222,\"#7201a8\"],[0.3333333333333333,\"#9c179e\"],[0.4444444444444444,\"#bd3786\"],[0.5555555555555556,\"#d8576b\"],[0.6666666666666666,\"#ed7953\"],[0.7777777777777778,\"#fb9f3a\"],[0.8888888888888888,\"#fdca26\"],[1.0,\"#f0f921\"]],\"type\":\"histogram2dcontour\"}],\"histogram2d\":[{\"colorbar\":{\"outlinewidth\":0,\"ticks\":\"\"},\"colorscale\":[[0.0,\"#0d0887\"],[0.1111111111111111,\"#46039f\"],[0.2222222222222222,\"#7201a8\"],[0.3333333333333333,\"#9c179e\"],[0.4444444444444444,\"#bd3786\"],[0.5555555555555556,\"#d8576b\"],[0.6666666666666666,\"#ed7953\"],[0.7777777777777778,\"#fb9f3a\"],[0.8888888888888888,\"#fdca26\"],[1.0,\"#f0f921\"]],\"type\":\"histogram2d\"}],\"histogram\":[{\"marker\":{\"pattern\":{\"fillmode\":\"overlay\",\"size\":10,\"solidity\":0.2}},\"type\":\"histogram\"}],\"mesh3d\":[{\"colorbar\":{\"outlinewidth\":0,\"ticks\":\"\"},\"type\":\"mesh3d\"}],\"parcoords\":[{\"line\":{\"colorbar\":{\"outlinewidth\":0,\"ticks\":\"\"}},\"type\":\"parcoords\"}],\"pie\":[{\"automargin\":true,\"type\":\"pie\"}],\"scatter3d\":[{\"line\":{\"colorbar\":{\"outlinewidth\":0,\"ticks\":\"\"}},\"marker\":{\"colorbar\":{\"outlinewidth\":0,\"ticks\":\"\"}},\"type\":\"scatter3d\"}],\"scattercarpet\":[{\"marker\":{\"colorbar\":{\"outlinewidth\":0,\"ticks\":\"\"}},\"type\":\"scattercarpet\"}],\"scattergeo\":[{\"marker\":{\"colorbar\":{\"outlinewidth\":0,\"ticks\":\"\"}},\"type\":\"scattergeo\"}],\"scattergl\":[{\"marker\":{\"colorbar\":{\"outlinewidth\":0,\"ticks\":\"\"}},\"type\":\"scattergl\"}],\"scattermapbox\":[{\"marker\":{\"colorbar\":{\"outlinewidth\":0,\"ticks\":\"\"}},\"type\":\"scattermapbox\"}],\"scatterpolargl\":[{\"marker\":{\"colorbar\":{\"outlinewidth\":0,\"ticks\":\"\"}},\"type\":\"scatterpolargl\"}],\"scatterpolar\":[{\"marker\":{\"colorbar\":{\"outlinewidth\":0,\"ticks\":\"\"}},\"type\":\"scatterpolar\"}],\"scatter\":[{\"fillpattern\":{\"fillmode\":\"overlay\",\"size\":10,\"solidity\":0.2},\"type\":\"scatter\"}],\"scatterternary\":[{\"marker\":{\"colorbar\":{\"outlinewidth\":0,\"ticks\":\"\"}},\"type\":\"scatterternary\"}],\"surface\":[{\"colorbar\":{\"outlinewidth\":0,\"ticks\":\"\"},\"colorscale\":[[0.0,\"#0d0887\"],[0.1111111111111111,\"#46039f\"],[0.2222222222222222,\"#7201a8\"],[0.3333333333333333,\"#9c179e\"],[0.4444444444444444,\"#bd3786\"],[0.5555555555555556,\"#d8576b\"],[0.6666666666666666,\"#ed7953\"],[0.7777777777777778,\"#fb9f3a\"],[0.8888888888888888,\"#fdca26\"],[1.0,\"#f0f921\"]],\"type\":\"surface\"}],\"table\":[{\"cells\":{\"fill\":{\"color\":\"#EBF0F8\"},\"line\":{\"color\":\"white\"}},\"header\":{\"fill\":{\"color\":\"#C8D4E3\"},\"line\":{\"color\":\"white\"}},\"type\":\"table\"}]},\"layout\":{\"annotationdefaults\":{\"arrowcolor\":\"#2a3f5f\",\"arrowhead\":0,\"arrowwidth\":1},\"autotypenumbers\":\"strict\",\"coloraxis\":{\"colorbar\":{\"outlinewidth\":0,\"ticks\":\"\"}},\"colorscale\":{\"diverging\":[[0,\"#8e0152\"],[0.1,\"#c51b7d\"],[0.2,\"#de77ae\"],[0.3,\"#f1b6da\"],[0.4,\"#fde0ef\"],[0.5,\"#f7f7f7\"],[0.6,\"#e6f5d0\"],[0.7,\"#b8e186\"],[0.8,\"#7fbc41\"],[0.9,\"#4d9221\"],[1,\"#276419\"]],\"sequential\":[[0.0,\"#0d0887\"],[0.1111111111111111,\"#46039f\"],[0.2222222222222222,\"#7201a8\"],[0.3333333333333333,\"#9c179e\"],[0.4444444444444444,\"#bd3786\"],[0.5555555555555556,\"#d8576b\"],[0.6666666666666666,\"#ed7953\"],[0.7777777777777778,\"#fb9f3a\"],[0.8888888888888888,\"#fdca26\"],[1.0,\"#f0f921\"]],\"sequentialminus\":[[0.0,\"#0d0887\"],[0.1111111111111111,\"#46039f\"],[0.2222222222222222,\"#7201a8\"],[0.3333333333333333,\"#9c179e\"],[0.4444444444444444,\"#bd3786\"],[0.5555555555555556,\"#d8576b\"],[0.6666666666666666,\"#ed7953\"],[0.7777777777777778,\"#fb9f3a\"],[0.8888888888888888,\"#fdca26\"],[1.0,\"#f0f921\"]]},\"colorway\":[\"#636efa\",\"#EF553B\",\"#00cc96\",\"#ab63fa\",\"#FFA15A\",\"#19d3f3\",\"#FF6692\",\"#B6E880\",\"#FF97FF\",\"#FECB52\"],\"font\":{\"color\":\"#2a3f5f\"},\"geo\":{\"bgcolor\":\"white\",\"lakecolor\":\"white\",\"landcolor\":\"white\",\"showlakes\":true,\"showland\":true,\"subunitcolor\":\"#C8D4E3\"},\"hoverlabel\":{\"align\":\"left\"},\"hovermode\":\"closest\",\"mapbox\":{\"style\":\"light\"},\"paper_bgcolor\":\"white\",\"plot_bgcolor\":\"white\",\"polar\":{\"angularaxis\":{\"gridcolor\":\"#EBF0F8\",\"linecolor\":\"#EBF0F8\",\"ticks\":\"\"},\"bgcolor\":\"white\",\"radialaxis\":{\"gridcolor\":\"#EBF0F8\",\"linecolor\":\"#EBF0F8\",\"ticks\":\"\"}},\"scene\":{\"xaxis\":{\"backgroundcolor\":\"white\",\"gridcolor\":\"#DFE8F3\",\"gridwidth\":2,\"linecolor\":\"#EBF0F8\",\"showbackground\":true,\"ticks\":\"\",\"zerolinecolor\":\"#EBF0F8\"},\"yaxis\":{\"backgroundcolor\":\"white\",\"gridcolor\":\"#DFE8F3\",\"gridwidth\":2,\"linecolor\":\"#EBF0F8\",\"showbackground\":true,\"ticks\":\"\",\"zerolinecolor\":\"#EBF0F8\"},\"zaxis\":{\"backgroundcolor\":\"white\",\"gridcolor\":\"#DFE8F3\",\"gridwidth\":2,\"linecolor\":\"#EBF0F8\",\"showbackground\":true,\"ticks\":\"\",\"zerolinecolor\":\"#EBF0F8\"}},\"shapedefaults\":{\"line\":{\"color\":\"#2a3f5f\"}},\"ternary\":{\"aaxis\":{\"gridcolor\":\"#DFE8F3\",\"linecolor\":\"#A2B1C6\",\"ticks\":\"\"},\"baxis\":{\"gridcolor\":\"#DFE8F3\",\"linecolor\":\"#A2B1C6\",\"ticks\":\"\"},\"bgcolor\":\"white\",\"caxis\":{\"gridcolor\":\"#DFE8F3\",\"linecolor\":\"#A2B1C6\",\"ticks\":\"\"}},\"title\":{\"x\":0.05},\"xaxis\":{\"automargin\":true,\"gridcolor\":\"#EBF0F8\",\"linecolor\":\"#EBF0F8\",\"ticks\":\"\",\"title\":{\"standoff\":15},\"zerolinecolor\":\"#EBF0F8\",\"zerolinewidth\":2},\"yaxis\":{\"automargin\":true,\"gridcolor\":\"#EBF0F8\",\"linecolor\":\"#EBF0F8\",\"ticks\":\"\",\"title\":{\"standoff\":15},\"zerolinecolor\":\"#EBF0F8\",\"zerolinewidth\":2}}},\"xaxis\":{\"anchor\":\"y\",\"domain\":[0.0,1.0],\"title\":{\"text\":\"Frequency (Number of Reviews)\"}},\"yaxis\":{\"anchor\":\"x\",\"domain\":[0.0,1.0],\"title\":{\"text\":\"Average Sentiment Score\"}},\"coloraxis\":{\"colorbar\":{\"title\":{\"text\":\"Average Sentiment Score\"}},\"colorscale\":[[0.0,\"rgb(103,0,13)\"],[0.125,\"rgb(165,15,21)\"],[0.25,\"rgb(203,24,29)\"],[0.375,\"rgb(239,59,44)\"],[0.5,\"rgb(251,106,74)\"],[0.625,\"rgb(252,146,114)\"],[0.75,\"rgb(252,187,161)\"],[0.875,\"rgb(254,224,210)\"],[1.0,\"rgb(255,245,240)\"]]},\"legend\":{\"tracegroupgap\":0,\"itemsizing\":\"constant\"},\"title\":{\"text\":\"\\u003cb\\u003eProblem Priority Matrix: Which Complaints Matter Most?\\u003c\\u002fb\\u003e\",\"x\":0.5},\"shapes\":[{\"line\":{\"dash\":\"dash\"},\"type\":\"line\",\"x0\":1529.0,\"x1\":1529.0,\"xref\":\"x\",\"y0\":0,\"y1\":1,\"yref\":\"y domain\"},{\"line\":{\"dash\":\"dash\"},\"type\":\"line\",\"x0\":0,\"x1\":1,\"xref\":\"x domain\",\"y0\":-0.7182850197557613,\"y1\":-0.7182850197557613,\"yref\":\"y\"}],\"annotations\":[{\"showarrow\":false,\"text\":\"Avg. Frequency\",\"x\":1529.0,\"xanchor\":\"left\",\"xref\":\"x\",\"y\":1,\"yanchor\":\"top\",\"yref\":\"y domain\"},{\"showarrow\":false,\"text\":\"Avg. Sentiment\",\"x\":1,\"xanchor\":\"right\",\"xref\":\"x domain\",\"y\":-0.7182850197557613,\"yanchor\":\"bottom\",\"yref\":\"y\"}]},                        {\"responsive\": true}                    ).then(function(){\n                            \nvar gd = document.getElementById('169847c9-5a60-4945-ab1c-8217c020119e');\nvar x = new MutationObserver(function (mutations, observer) {{\n        var display = window.getComputedStyle(gd).display;\n        if (!display || display === 'none') {{\n            console.log([gd, 'removed!']);\n            Plotly.purge(gd);\n            observer.disconnect();\n        }}\n}});\n\n// Listen for the removal of the full notebook cells\nvar notebookContainer = gd.closest('#notebook-container');\nif (notebookContainer) {{\n    x.observe(notebookContainer, {childList: true});\n}}\n\n// Listen for the clearing of the current output cell\nvar outputEl = gd.closest('.output');\nif (outputEl) {{\n    x.observe(outputEl, {childList: true});\n}}\n\n                        })                };                            </script>        </div>\n</body>\n</html>"
     },
     "metadata": {},
     "output_type": "display_data"
    }
   ],
   "source": [
    "# In your Kaggle Cell\n",
    "\n",
    "# --- The \"Problem Priority Matrix\": Sentiment vs. Frequency ---\n",
    "print(\"Creating a Sentiment vs. Frequency scatter plot...\")\n",
    "\n",
    "# 1. Get the Frequency data\n",
    "theme_freq = df_base['theme'].value_counts().reset_index()\n",
    "theme_freq.columns = ['Theme', 'Frequency (Number of Reviews)']\n",
    "\n",
    "# 2. Get the Sentiment data\n",
    "theme_sent = df_base.groupby('theme')['sentiment_score'].mean().reset_index()\n",
    "theme_sent.columns = ['Theme', 'Average Sentiment Score']\n",
    "\n",
    "# 3. Merge them into one DataFrame\n",
    "priority_df = pd.merge(theme_freq, theme_sent, on='Theme')\n",
    "priority_df = priority_df[~priority_df['Theme'].isin(['Outliers / Generic', 'Other/Misc.'])]\n",
    "\n",
    "\n",
    "# 4. Create the Scatter Plot\n",
    "fig_scatter = px.scatter(\n",
    "    priority_df,\n",
    "    x='Frequency (Number of Reviews)',\n",
    "    y='Average Sentiment Score',\n",
    "    text='Theme', # Label each point with the theme name\n",
    "    size='Frequency (Number of Reviews)', # Make bubbles bigger for more frequent topics\n",
    "    color='Average Sentiment Score',\n",
    "    color_continuous_scale='Reds_r',\n",
    "    title='<b>Problem Priority Matrix: Which Complaints Matter Most?</b>',\n",
    "    template='plotly_white'\n",
    ")\n",
    "\n",
    "# Add annotations to create quadrants\n",
    "fig_scatter.update_traces(textposition='top center')\n",
    "fig_scatter.add_vline(x=priority_df['Frequency (Number of Reviews)'].mean(), line_dash=\"dash\", annotation_text=\"Avg. Frequency\")\n",
    "fig_scatter.add_hline(y=priority_df['Average Sentiment Score'].mean(), line_dash=\"dash\", annotation_text=\"Avg. Sentiment\")\n",
    "fig_scatter.update_layout(title_x=0.5)\n",
    "fig_scatter.show()"
   ]
  },
  {
   "cell_type": "markdown",
   "metadata": {},
   "source": "# **TIME SERIES ANALYSIS**"
  },
  {
   "cell_type": "code",
   "execution_count": 19,
   "metadata": {
    "execution": {
     "iopub.execute_input": "2025-07-21T09:37:53.668228Z",
     "iopub.status.busy": "2025-07-21T09:37:53.667878Z",
     "iopub.status.idle": "2025-07-21T09:37:53.752530Z",
     "shell.execute_reply": "2025-07-21T09:37:53.751694Z",
     "shell.execute_reply.started": "2025-07-21T09:37:53.668196Z"
    },
    "trusted": true
   },
   "outputs": [
    {
     "data": {
      "text/html": "<html>\n<head><meta charset=\"utf-8\" /></head>\n<body>\n    <div>            <script src=\"https://cdnjs.cloudflare.com/ajax/libs/mathjax/2.7.5/MathJax.js?config=TeX-AMS-MML_SVG\"></script><script type=\"text/javascript\">if (window.MathJax && window.MathJax.Hub && window.MathJax.Hub.Config) {window.MathJax.Hub.Config({SVG: {font: \"STIX-Web\"}});}</script>                <script type=\"text/javascript\">window.PlotlyConfig = {MathJaxConfig: 'local'};</script>\n        <script charset=\"utf-8\" src=\"https://cdn.plot.ly/plotly-2.35.2.min.js\"></script>                <div id=\"ef79f026-e3a7-41e9-91e3-40bfa5252065\" class=\"plotly-graph-div\" style=\"height:525px; width:100%;\"></div>            <script type=\"text/javascript\">                                    window.PLOTLYENV=window.PLOTLYENV || {};                                    if (document.getElementById(\"ef79f026-e3a7-41e9-91e3-40bfa5252065\")) {                    Plotly.newPlot(                        \"ef79f026-e3a7-41e9-91e3-40bfa5252065\",                        [{\"hovertemplate\":\"theme=Content-Specific Issues\\u003cbr\\u003eMonth=%{x}\\u003cbr\\u003eNumber of Negative Reviews=%{y}\\u003cextra\\u003e\\u003c\\u002fextra\\u003e\",\"legendgroup\":\"Content-Specific Issues\",\"line\":{\"color\":\"#636efa\",\"dash\":\"solid\"},\"marker\":{\"symbol\":\"circle\"},\"mode\":\"lines+markers\",\"name\":\"Content-Specific Issues\",\"orientation\":\"v\",\"showlegend\":true,\"x\":[\"2022-01-01T00:00:00\",\"2022-02-01T00:00:00\",\"2022-03-01T00:00:00\",\"2022-04-01T00:00:00\",\"2022-05-01T00:00:00\",\"2022-06-01T00:00:00\",\"2022-07-01T00:00:00\",\"2022-08-01T00:00:00\",\"2022-09-01T00:00:00\",\"2022-10-01T00:00:00\",\"2022-11-01T00:00:00\",\"2022-12-01T00:00:00\",\"2023-01-01T00:00:00\",\"2023-02-01T00:00:00\",\"2023-03-01T00:00:00\",\"2023-04-01T00:00:00\",\"2023-05-01T00:00:00\",\"2023-06-01T00:00:00\",\"2023-07-01T00:00:00\",\"2023-08-01T00:00:00\",\"2023-09-01T00:00:00\",\"2023-10-01T00:00:00\",\"2023-11-01T00:00:00\",\"2023-12-01T00:00:00\",\"2024-01-01T00:00:00\",\"2024-02-01T00:00:00\",\"2024-03-01T00:00:00\",\"2024-04-01T00:00:00\",\"2024-05-01T00:00:00\",\"2024-06-01T00:00:00\",\"2024-07-01T00:00:00\",\"2024-08-01T00:00:00\",\"2024-09-01T00:00:00\",\"2024-10-01T00:00:00\",\"2024-11-01T00:00:00\",\"2024-12-01T00:00:00\",\"2025-01-01T00:00:00\",\"2025-02-01T00:00:00\",\"2025-03-01T00:00:00\",\"2025-04-01T00:00:00\",\"2025-05-01T00:00:00\",\"2025-06-01T00:00:00\"],\"xaxis\":\"x\",\"y\":[32,23,27,25,22,27,12,18,11,21,13,21,43,15,17,16,16,14,14,12,18,18,15,21,24,17,16,14,17,9,13,13,6,24,9,6,18,12,14,17,15,15],\"yaxis\":\"y\",\"type\":\"scatter\"},{\"hovertemplate\":\"theme=Monetization & Value\\u003cbr\\u003eMonth=%{x}\\u003cbr\\u003eNumber of Negative Reviews=%{y}\\u003cextra\\u003e\\u003c\\u002fextra\\u003e\",\"legendgroup\":\"Monetization & Value\",\"line\":{\"color\":\"#EF553B\",\"dash\":\"solid\"},\"marker\":{\"symbol\":\"circle\"},\"mode\":\"lines+markers\",\"name\":\"Monetization & Value\",\"orientation\":\"v\",\"showlegend\":true,\"x\":[\"2022-01-01T00:00:00\",\"2022-02-01T00:00:00\",\"2022-03-01T00:00:00\",\"2022-04-01T00:00:00\",\"2022-05-01T00:00:00\",\"2022-06-01T00:00:00\",\"2022-07-01T00:00:00\",\"2022-08-01T00:00:00\",\"2022-09-01T00:00:00\",\"2022-10-01T00:00:00\",\"2022-11-01T00:00:00\",\"2022-12-01T00:00:00\",\"2023-01-01T00:00:00\",\"2023-02-01T00:00:00\",\"2023-03-01T00:00:00\",\"2023-04-01T00:00:00\",\"2023-05-01T00:00:00\",\"2023-06-01T00:00:00\",\"2023-07-01T00:00:00\",\"2023-08-01T00:00:00\",\"2023-09-01T00:00:00\",\"2023-10-01T00:00:00\",\"2023-11-01T00:00:00\",\"2023-12-01T00:00:00\",\"2024-01-01T00:00:00\",\"2024-02-01T00:00:00\",\"2024-03-01T00:00:00\",\"2024-04-01T00:00:00\",\"2024-05-01T00:00:00\",\"2024-06-01T00:00:00\",\"2024-07-01T00:00:00\",\"2024-08-01T00:00:00\",\"2024-09-01T00:00:00\",\"2024-10-01T00:00:00\",\"2024-11-01T00:00:00\",\"2024-12-01T00:00:00\",\"2025-01-01T00:00:00\",\"2025-02-01T00:00:00\",\"2025-03-01T00:00:00\",\"2025-04-01T00:00:00\",\"2025-05-01T00:00:00\",\"2025-06-01T00:00:00\"],\"xaxis\":\"x\",\"y\":[228,151,216,169,147,118,66,66,55,76,78,74,114,87,103,89,67,68,76,77,49,59,70,89,99,98,68,59,49,45,55,58,49,67,59,52,59,47,64,62,60,49],\"yaxis\":\"y\",\"type\":\"scatter\"},{\"hovertemplate\":\"theme=Technical Performance\\u003cbr\\u003eMonth=%{x}\\u003cbr\\u003eNumber of Negative Reviews=%{y}\\u003cextra\\u003e\\u003c\\u002fextra\\u003e\",\"legendgroup\":\"Technical Performance\",\"line\":{\"color\":\"#00cc96\",\"dash\":\"solid\"},\"marker\":{\"symbol\":\"circle\"},\"mode\":\"lines+markers\",\"name\":\"Technical Performance\",\"orientation\":\"v\",\"showlegend\":true,\"x\":[\"2022-01-01T00:00:00\",\"2022-02-01T00:00:00\",\"2022-03-01T00:00:00\",\"2022-04-01T00:00:00\",\"2022-05-01T00:00:00\",\"2022-06-01T00:00:00\",\"2022-07-01T00:00:00\",\"2022-08-01T00:00:00\",\"2022-09-01T00:00:00\",\"2022-10-01T00:00:00\",\"2022-11-01T00:00:00\",\"2022-12-01T00:00:00\",\"2023-01-01T00:00:00\",\"2023-02-01T00:00:00\",\"2023-03-01T00:00:00\",\"2023-04-01T00:00:00\",\"2023-05-01T00:00:00\",\"2023-06-01T00:00:00\",\"2023-07-01T00:00:00\",\"2023-08-01T00:00:00\",\"2023-09-01T00:00:00\",\"2023-10-01T00:00:00\",\"2023-11-01T00:00:00\",\"2023-12-01T00:00:00\",\"2024-01-01T00:00:00\",\"2024-02-01T00:00:00\",\"2024-03-01T00:00:00\",\"2024-04-01T00:00:00\",\"2024-05-01T00:00:00\",\"2024-06-01T00:00:00\",\"2024-07-01T00:00:00\",\"2024-08-01T00:00:00\",\"2024-09-01T00:00:00\",\"2024-10-01T00:00:00\",\"2024-11-01T00:00:00\",\"2024-12-01T00:00:00\",\"2025-01-01T00:00:00\",\"2025-02-01T00:00:00\",\"2025-03-01T00:00:00\",\"2025-04-01T00:00:00\",\"2025-05-01T00:00:00\",\"2025-06-01T00:00:00\"],\"xaxis\":\"x\",\"y\":[9,13,11,13,9,11,6,6,4,9,4,8,5,7,6,9,13,7,10,7,7,12,7,25,16,9,9,10,17,12,5,1,6,5,4,6,8,5,7,13,7,8],\"yaxis\":\"y\",\"type\":\"scatter\"}],                        {\"template\":{\"data\":{\"barpolar\":[{\"marker\":{\"line\":{\"color\":\"white\",\"width\":0.5},\"pattern\":{\"fillmode\":\"overlay\",\"size\":10,\"solidity\":0.2}},\"type\":\"barpolar\"}],\"bar\":[{\"error_x\":{\"color\":\"#2a3f5f\"},\"error_y\":{\"color\":\"#2a3f5f\"},\"marker\":{\"line\":{\"color\":\"white\",\"width\":0.5},\"pattern\":{\"fillmode\":\"overlay\",\"size\":10,\"solidity\":0.2}},\"type\":\"bar\"}],\"carpet\":[{\"aaxis\":{\"endlinecolor\":\"#2a3f5f\",\"gridcolor\":\"#C8D4E3\",\"linecolor\":\"#C8D4E3\",\"minorgridcolor\":\"#C8D4E3\",\"startlinecolor\":\"#2a3f5f\"},\"baxis\":{\"endlinecolor\":\"#2a3f5f\",\"gridcolor\":\"#C8D4E3\",\"linecolor\":\"#C8D4E3\",\"minorgridcolor\":\"#C8D4E3\",\"startlinecolor\":\"#2a3f5f\"},\"type\":\"carpet\"}],\"choropleth\":[{\"colorbar\":{\"outlinewidth\":0,\"ticks\":\"\"},\"type\":\"choropleth\"}],\"contourcarpet\":[{\"colorbar\":{\"outlinewidth\":0,\"ticks\":\"\"},\"type\":\"contourcarpet\"}],\"contour\":[{\"colorbar\":{\"outlinewidth\":0,\"ticks\":\"\"},\"colorscale\":[[0.0,\"#0d0887\"],[0.1111111111111111,\"#46039f\"],[0.2222222222222222,\"#7201a8\"],[0.3333333333333333,\"#9c179e\"],[0.4444444444444444,\"#bd3786\"],[0.5555555555555556,\"#d8576b\"],[0.6666666666666666,\"#ed7953\"],[0.7777777777777778,\"#fb9f3a\"],[0.8888888888888888,\"#fdca26\"],[1.0,\"#f0f921\"]],\"type\":\"contour\"}],\"heatmapgl\":[{\"colorbar\":{\"outlinewidth\":0,\"ticks\":\"\"},\"colorscale\":[[0.0,\"#0d0887\"],[0.1111111111111111,\"#46039f\"],[0.2222222222222222,\"#7201a8\"],[0.3333333333333333,\"#9c179e\"],[0.4444444444444444,\"#bd3786\"],[0.5555555555555556,\"#d8576b\"],[0.6666666666666666,\"#ed7953\"],[0.7777777777777778,\"#fb9f3a\"],[0.8888888888888888,\"#fdca26\"],[1.0,\"#f0f921\"]],\"type\":\"heatmapgl\"}],\"heatmap\":[{\"colorbar\":{\"outlinewidth\":0,\"ticks\":\"\"},\"colorscale\":[[0.0,\"#0d0887\"],[0.1111111111111111,\"#46039f\"],[0.2222222222222222,\"#7201a8\"],[0.3333333333333333,\"#9c179e\"],[0.4444444444444444,\"#bd3786\"],[0.5555555555555556,\"#d8576b\"],[0.6666666666666666,\"#ed7953\"],[0.7777777777777778,\"#fb9f3a\"],[0.8888888888888888,\"#fdca26\"],[1.0,\"#f0f921\"]],\"type\":\"heatmap\"}],\"histogram2dcontour\":[{\"colorbar\":{\"outlinewidth\":0,\"ticks\":\"\"},\"colorscale\":[[0.0,\"#0d0887\"],[0.1111111111111111,\"#46039f\"],[0.2222222222222222,\"#7201a8\"],[0.3333333333333333,\"#9c179e\"],[0.4444444444444444,\"#bd3786\"],[0.5555555555555556,\"#d8576b\"],[0.6666666666666666,\"#ed7953\"],[0.7777777777777778,\"#fb9f3a\"],[0.8888888888888888,\"#fdca26\"],[1.0,\"#f0f921\"]],\"type\":\"histogram2dcontour\"}],\"histogram2d\":[{\"colorbar\":{\"outlinewidth\":0,\"ticks\":\"\"},\"colorscale\":[[0.0,\"#0d0887\"],[0.1111111111111111,\"#46039f\"],[0.2222222222222222,\"#7201a8\"],[0.3333333333333333,\"#9c179e\"],[0.4444444444444444,\"#bd3786\"],[0.5555555555555556,\"#d8576b\"],[0.6666666666666666,\"#ed7953\"],[0.7777777777777778,\"#fb9f3a\"],[0.8888888888888888,\"#fdca26\"],[1.0,\"#f0f921\"]],\"type\":\"histogram2d\"}],\"histogram\":[{\"marker\":{\"pattern\":{\"fillmode\":\"overlay\",\"size\":10,\"solidity\":0.2}},\"type\":\"histogram\"}],\"mesh3d\":[{\"colorbar\":{\"outlinewidth\":0,\"ticks\":\"\"},\"type\":\"mesh3d\"}],\"parcoords\":[{\"line\":{\"colorbar\":{\"outlinewidth\":0,\"ticks\":\"\"}},\"type\":\"parcoords\"}],\"pie\":[{\"automargin\":true,\"type\":\"pie\"}],\"scatter3d\":[{\"line\":{\"colorbar\":{\"outlinewidth\":0,\"ticks\":\"\"}},\"marker\":{\"colorbar\":{\"outlinewidth\":0,\"ticks\":\"\"}},\"type\":\"scatter3d\"}],\"scattercarpet\":[{\"marker\":{\"colorbar\":{\"outlinewidth\":0,\"ticks\":\"\"}},\"type\":\"scattercarpet\"}],\"scattergeo\":[{\"marker\":{\"colorbar\":{\"outlinewidth\":0,\"ticks\":\"\"}},\"type\":\"scattergeo\"}],\"scattergl\":[{\"marker\":{\"colorbar\":{\"outlinewidth\":0,\"ticks\":\"\"}},\"type\":\"scattergl\"}],\"scattermapbox\":[{\"marker\":{\"colorbar\":{\"outlinewidth\":0,\"ticks\":\"\"}},\"type\":\"scattermapbox\"}],\"scatterpolargl\":[{\"marker\":{\"colorbar\":{\"outlinewidth\":0,\"ticks\":\"\"}},\"type\":\"scatterpolargl\"}],\"scatterpolar\":[{\"marker\":{\"colorbar\":{\"outlinewidth\":0,\"ticks\":\"\"}},\"type\":\"scatterpolar\"}],\"scatter\":[{\"fillpattern\":{\"fillmode\":\"overlay\",\"size\":10,\"solidity\":0.2},\"type\":\"scatter\"}],\"scatterternary\":[{\"marker\":{\"colorbar\":{\"outlinewidth\":0,\"ticks\":\"\"}},\"type\":\"scatterternary\"}],\"surface\":[{\"colorbar\":{\"outlinewidth\":0,\"ticks\":\"\"},\"colorscale\":[[0.0,\"#0d0887\"],[0.1111111111111111,\"#46039f\"],[0.2222222222222222,\"#7201a8\"],[0.3333333333333333,\"#9c179e\"],[0.4444444444444444,\"#bd3786\"],[0.5555555555555556,\"#d8576b\"],[0.6666666666666666,\"#ed7953\"],[0.7777777777777778,\"#fb9f3a\"],[0.8888888888888888,\"#fdca26\"],[1.0,\"#f0f921\"]],\"type\":\"surface\"}],\"table\":[{\"cells\":{\"fill\":{\"color\":\"#EBF0F8\"},\"line\":{\"color\":\"white\"}},\"header\":{\"fill\":{\"color\":\"#C8D4E3\"},\"line\":{\"color\":\"white\"}},\"type\":\"table\"}]},\"layout\":{\"annotationdefaults\":{\"arrowcolor\":\"#2a3f5f\",\"arrowhead\":0,\"arrowwidth\":1},\"autotypenumbers\":\"strict\",\"coloraxis\":{\"colorbar\":{\"outlinewidth\":0,\"ticks\":\"\"}},\"colorscale\":{\"diverging\":[[0,\"#8e0152\"],[0.1,\"#c51b7d\"],[0.2,\"#de77ae\"],[0.3,\"#f1b6da\"],[0.4,\"#fde0ef\"],[0.5,\"#f7f7f7\"],[0.6,\"#e6f5d0\"],[0.7,\"#b8e186\"],[0.8,\"#7fbc41\"],[0.9,\"#4d9221\"],[1,\"#276419\"]],\"sequential\":[[0.0,\"#0d0887\"],[0.1111111111111111,\"#46039f\"],[0.2222222222222222,\"#7201a8\"],[0.3333333333333333,\"#9c179e\"],[0.4444444444444444,\"#bd3786\"],[0.5555555555555556,\"#d8576b\"],[0.6666666666666666,\"#ed7953\"],[0.7777777777777778,\"#fb9f3a\"],[0.8888888888888888,\"#fdca26\"],[1.0,\"#f0f921\"]],\"sequentialminus\":[[0.0,\"#0d0887\"],[0.1111111111111111,\"#46039f\"],[0.2222222222222222,\"#7201a8\"],[0.3333333333333333,\"#9c179e\"],[0.4444444444444444,\"#bd3786\"],[0.5555555555555556,\"#d8576b\"],[0.6666666666666666,\"#ed7953\"],[0.7777777777777778,\"#fb9f3a\"],[0.8888888888888888,\"#fdca26\"],[1.0,\"#f0f921\"]]},\"colorway\":[\"#636efa\",\"#EF553B\",\"#00cc96\",\"#ab63fa\",\"#FFA15A\",\"#19d3f3\",\"#FF6692\",\"#B6E880\",\"#FF97FF\",\"#FECB52\"],\"font\":{\"color\":\"#2a3f5f\"},\"geo\":{\"bgcolor\":\"white\",\"lakecolor\":\"white\",\"landcolor\":\"white\",\"showlakes\":true,\"showland\":true,\"subunitcolor\":\"#C8D4E3\"},\"hoverlabel\":{\"align\":\"left\"},\"hovermode\":\"closest\",\"mapbox\":{\"style\":\"light\"},\"paper_bgcolor\":\"white\",\"plot_bgcolor\":\"white\",\"polar\":{\"angularaxis\":{\"gridcolor\":\"#EBF0F8\",\"linecolor\":\"#EBF0F8\",\"ticks\":\"\"},\"bgcolor\":\"white\",\"radialaxis\":{\"gridcolor\":\"#EBF0F8\",\"linecolor\":\"#EBF0F8\",\"ticks\":\"\"}},\"scene\":{\"xaxis\":{\"backgroundcolor\":\"white\",\"gridcolor\":\"#DFE8F3\",\"gridwidth\":2,\"linecolor\":\"#EBF0F8\",\"showbackground\":true,\"ticks\":\"\",\"zerolinecolor\":\"#EBF0F8\"},\"yaxis\":{\"backgroundcolor\":\"white\",\"gridcolor\":\"#DFE8F3\",\"gridwidth\":2,\"linecolor\":\"#EBF0F8\",\"showbackground\":true,\"ticks\":\"\",\"zerolinecolor\":\"#EBF0F8\"},\"zaxis\":{\"backgroundcolor\":\"white\",\"gridcolor\":\"#DFE8F3\",\"gridwidth\":2,\"linecolor\":\"#EBF0F8\",\"showbackground\":true,\"ticks\":\"\",\"zerolinecolor\":\"#EBF0F8\"}},\"shapedefaults\":{\"line\":{\"color\":\"#2a3f5f\"}},\"ternary\":{\"aaxis\":{\"gridcolor\":\"#DFE8F3\",\"linecolor\":\"#A2B1C6\",\"ticks\":\"\"},\"baxis\":{\"gridcolor\":\"#DFE8F3\",\"linecolor\":\"#A2B1C6\",\"ticks\":\"\"},\"bgcolor\":\"white\",\"caxis\":{\"gridcolor\":\"#DFE8F3\",\"linecolor\":\"#A2B1C6\",\"ticks\":\"\"}},\"title\":{\"x\":0.05},\"xaxis\":{\"automargin\":true,\"gridcolor\":\"#EBF0F8\",\"linecolor\":\"#EBF0F8\",\"ticks\":\"\",\"title\":{\"standoff\":15},\"zerolinecolor\":\"#EBF0F8\",\"zerolinewidth\":2},\"yaxis\":{\"automargin\":true,\"gridcolor\":\"#EBF0F8\",\"linecolor\":\"#EBF0F8\",\"ticks\":\"\",\"title\":{\"standoff\":15},\"zerolinecolor\":\"#EBF0F8\",\"zerolinewidth\":2}}},\"xaxis\":{\"anchor\":\"y\",\"domain\":[0.0,1.0],\"title\":{\"text\":\"Month\"}},\"yaxis\":{\"anchor\":\"x\",\"domain\":[0.0,1.0],\"title\":{\"text\":\"Number of Negative Reviews\"}},\"legend\":{\"title\":{\"text\":\"Complaint Theme\"},\"tracegroupgap\":0},\"title\":{\"text\":\"\\u003cb\\u003eBaseline App (Calm): Evolution of User Complaints Over Time\\u003c\\u002fb\\u003e\",\"x\":0.5}},                        {\"responsive\": true}                    ).then(function(){\n                            \nvar gd = document.getElementById('ef79f026-e3a7-41e9-91e3-40bfa5252065');\nvar x = new MutationObserver(function (mutations, observer) {{\n        var display = window.getComputedStyle(gd).display;\n        if (!display || display === 'none') {{\n            console.log([gd, 'removed!']);\n            Plotly.purge(gd);\n            observer.disconnect();\n        }}\n}});\n\n// Listen for the removal of the full notebook cells\nvar notebookContainer = gd.closest('#notebook-container');\nif (notebookContainer) {{\n    x.observe(notebookContainer, {childList: true});\n}}\n\n// Listen for the clearing of the current output cell\nvar outputEl = gd.closest('.output');\nif (outputEl) {{\n    x.observe(outputEl, {childList: true});\n}}\n\n                        })                };                            </script>        </div>\n</body>\n</html>"
     },
     "metadata": {},
     "output_type": "display_data"
    }
   ],
   "source": [
    "# 1. Prepare the data\n",
    "df_base['date'] = pd.to_datetime(df_base['date'], errors='coerce')\n",
    "df_base.dropna(subset=['date'], inplace=True)\n",
    "plot_df_time_base = df_base[~df_base['theme'].isin(['Outliers / Generic', 'Other/Misc.', 'Uncategorized'])]\n",
    "\n",
    "# 2. Group by month\n",
    "monthly_trends_base = plot_df_time_base.groupby([pd.Grouper(key='date', freq='M'), 'theme']).size().reset_index(name='review_count')\n",
    "monthly_trends_base['month'] = monthly_trends_base['date'].dt.to_period('M').dt.to_timestamp()\n",
    "\n",
    "# 3. Create the Visualization\n",
    "fig_timeseries_base = px.line(\n",
    "    monthly_trends_base,\n",
    "    x='month',\n",
    "    y='review_count',\n",
    "    color='theme',\n",
    "    markers=True,\n",
    "    title='<b>Baseline App (Calm): Evolution of User Complaints Over Time</b>',\n",
    "    labels={'month': 'Month', 'review_count': 'Number of Negative Reviews'},\n",
    "    template='plotly_white'\n",
    ")\n",
    "\n",
    "fig_timeseries_base.update_layout(title_x=0.5, legend_title_text='Complaint Theme')\n",
    "fig_timeseries_base.show()"
   ]
  },
  {
   "cell_type": "code",
   "execution_count": null,
   "metadata": {
    "trusted": true
   },
   "outputs": [],
   "source": [
    "# --- Final Step: Save the Enriched DataFrame ---\n",
    "\n",
    "# Define the output filename\n",
    "output_filename_base = 'baseline_app_themed_and_scored.csv'\n",
    "\n",
    "# Save the DataFrame to a new CSV file\n",
    "df_base.to_csv(output_filename_base, index=False)\n",
    "\n",
    "print(f\"Successfully saved the final, enriched dataset to: {output_filename_base}\")\n",
    "print(\"You can now find this file in the 'Output' section of this notebook on Kaggle.\")"
   ]
  }
 ],
 "metadata": {
  "kaggle": {
   "accelerator": "nvidiaTeslaT4",
   "dataSources": [
    {
     "datasetId": 7768066,
     "sourceId": 12323677,
     "sourceType": "datasetVersion"
    },
    {
     "datasetId": 7827934,
     "sourceId": 12412084,
     "sourceType": "datasetVersion"
    }
   ],
   "dockerImageVersionId": 31090,
   "isGpuEnabled": true,
   "isInternetEnabled": true,
   "language": "python",
   "sourceType": "notebook"
  },
  "kernelspec": {
   "display_name": "Python 3",
   "language": "python",
   "name": "python3"
  },
  "language_info": {
   "codemirror_mode": {
    "name": "ipython",
    "version": 3
   },
   "file_extension": ".py",
   "mimetype": "text/x-python",
   "name": "python",
   "nbconvert_exporter": "python",
   "pygments_lexer": "ipython3",
   "version": "3.11.13"
  }
 },
 "nbformat": 4,
 "nbformat_minor": 4
}