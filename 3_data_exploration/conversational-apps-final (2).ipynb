{
 "cells": [
  {
   "cell_type": "markdown",
   "metadata": {},
   "source": [
    "# Deep Dive Analysis: User Complaints in Conversational AI Apps\n",
    "\n",
    "**Milestone 3: Data Analysis**\n",
    "\n",
    "This notebook conducts a comprehensive analysis of over 20,000 negative user reviews for leading conversational AI apps (Replika, Wysa, etc.). Our goal is to move beyond simple complaints and build a deep, data-driven understanding of *why* these products fail to meet user expectations.\n",
    "\n",
    "**Our Multi-Layered Analysis Plan:**\n",
    "1.  **Theme Discovery:** Use the state-of-the-art BERTopic model to identify the core themes of user dissatisfaction.\n",
    "2.  **Quantitative Analysis:** Visualize the frequency and emotional impact of these themes.\n",
    "3.  **Qualitative Analysis:** Validate our findings with real user reviews.\n",
    "4.  **Temporal Analysis:** Track how these complaint themes have evolved over time to understand the impact of real-world events."
   ]
  },
  {
   "cell_type": "markdown",
   "metadata": {},
   "source": [
    " Optional installation cell (run once if not already installed)\n",
    " !pip install bertopic[visualization] --quiet\n",
    " !pip install hdbscan --quiet\n",
    " !pip install umap-learn --quiet\n",
    " !print(\"✅ All libraries installed.\")"
   ]
  },
  {
   "cell_type": "code",
   "execution_count": 5,
   "metadata": {
    "trusted": true
   },
   "outputs": [],
   "source": [
    "import warnings\n",
    "import os\n",
    "import pandas as pd\n",
    "import numpy as np\n",
    "from bertopic import BERTopic\n",
    "from umap import UMAP\n",
    "from hdbscan import HDBSCAN\n",
    "from sklearn.feature_extraction.text import CountVectorizer, TfidfVectorizer\n",
    "from transformers import AutoTokenizer, AutoModelForSequenceClassification\n",
    "import torch\n",
    "from torch.utils.data import DataLoader, TensorDataset\n",
    "from tqdm.notebook import tqdm\n",
    "import plotly.express as px\n",
    "from IPython.display import display"
   ]
  },
  {
   "cell_type": "code",
   "execution_count": 2,
   "metadata": {},
   "outputs": [
    {
     "name": "stdout",
     "output_type": "stream",
     "text": [
      "✅ Setup complete. All libraries are ready.\n"
     ]
    }
   ],
   "source": [
    "warnings.filterwarnings(\"ignore\")\n",
    "print(\"✅ Setup complete. All libraries are ready.\")"
   ]
  },
  {
   "cell_type": "markdown",
   "metadata": {},
   "source": [
    "## Part 1: Data Preparation\n",
    "\n",
    "We begin by loading our pre-processed dataset, which contains filtered (1-3 star) reviews for conversational apps. We perform a final cleaning step to ensure high-quality text for our models."
   ]
  },
  {
   "cell_type": "code",
   "execution_count": 6,
   "metadata": {
    "execution": {
     "iopub.execute_input": "2025-07-22T07:57:54.217259Z",
     "iopub.status.busy": "2025-07-22T07:57:54.216941Z",
     "iopub.status.idle": "2025-07-22T07:57:54.343406Z",
     "shell.execute_reply": "2025-07-22T07:57:54.342828Z",
     "shell.execute_reply.started": "2025-07-22T07:57:54.217231Z"
    },
    "trusted": true
   },
   "outputs": [
    {
     "name": "stdout",
     "output_type": "stream",
     "text": [
      "Loading the combined, multi-language dataset...\n",
      "Repo root detected at: c:\\Users\\azizt\\OneDrive\\Desktop\\ET6-CDSP-group-20-repo\n",
      "Successfully loaded and cleaned 28709 documents for modeling.\n"
     ]
    }
   ],
   "source": [
    "# --- Step 2: Load and Clean Data ---\n",
    "print(\"Loading the combined, multi-language dataset...\")\n",
    "\n",
    "# Dynamically find repo root by looking for '1_datasets'\n",
    "cwd = os.getcwd()\n",
    "while not os.path.exists(os.path.join(cwd, \"1_datasets\")):\n",
    "    parent = os.path.dirname(cwd)\n",
    "    if parent == cwd:\n",
    "        raise FileNotFoundError(\"Could not find repo root containing '1_datasets'.\")\n",
    "    cwd = parent\n",
    "\n",
    "REPO_ROOT = cwd\n",
    "print(f\"Repo root detected at: {REPO_ROOT}\")\n",
    "\n",
    "# Build path to the CSV file\n",
    "DATA_PATH = os.path.join(\n",
    "    REPO_ROOT, \"1_datasets\", \"all_datasets\", \"conversational_apps_dataset.csv\"\n",
    ")\n",
    "\n",
    "# Load the CSV\n",
    "if not os.path.exists(DATA_PATH):\n",
    "    raise FileNotFoundError(f\"Dataset not found at {DATA_PATH}. Please check the file.\")\n",
    "\n",
    "df = pd.read_csv(DATA_PATH)\n",
    "\n",
    "# --- Data Cleaning ---\n",
    "df.dropna(subset=[\"review_text\"], inplace=True)\n",
    "df[\"review_text\"] = df[\"review_text\"].astype(str).str.lower().str.strip()\n",
    "df = df[df[\"review_text\"].str.len() > 15]\n",
    "\n",
    "# Convert to list of documents for modeling\n",
    "docs = df[\"review_text\"].tolist()\n",
    "print(f\"Successfully loaded and cleaned {len(docs)} documents for modeling.\")"
   ]
  },
  {
   "cell_type": "code",
   "execution_count": 7,
   "metadata": {
    "execution": {
     "iopub.execute_input": "2025-07-22T07:57:56.227444Z",
     "iopub.status.busy": "2025-07-22T07:57:56.227201Z",
     "iopub.status.idle": "2025-07-22T07:57:56.307092Z",
     "shell.execute_reply": "2025-07-22T07:57:56.306209Z",
     "shell.execute_reply.started": "2025-07-22T07:57:56.227428Z"
    },
    "trusted": true
   },
   "outputs": [
    {
     "name": "stdout",
     "output_type": "stream",
     "text": [
      "Configuring a reproducible BERTopic model...\n",
      "BERTopic model is configured and ready for training.\n"
     ]
    }
   ],
   "source": [
    "# --- Step 3: Configure the Topic Model ---\n",
    "print(\"Configuring a reproducible BERTopic model...\")\n",
    "\n",
    "# A. Define a Stopword List: These words will be ignored by our vectorizer.\n",
    "stop_words = [\n",
    "    \"app\",\n",
    "    \"replika\",\n",
    "    \"wysa\",\n",
    "    \"woebot\",\n",
    "    \"calm\",\n",
    "    \"bot\",\n",
    "    \"ai\",\n",
    "    \"like\",\n",
    "    \"feel\",\n",
    "    \"good\",\n",
    "    \"great\",\n",
    "    \"nice\",\n",
    "    \"love\",\n",
    "    \"best\",\n",
    "    \"amazing\",\n",
    "    \"awesome\",\n",
    "    \"fun\",\n",
    "    \"ok\",\n",
    "    \"cool\",\n",
    "    \"me\",\n",
    "    \"it\",\n",
    "    \"and\",\n",
    "    \"to\",\n",
    "    \"the\",\n",
    "    \"my\",\n",
    "    \"is\",\n",
    "    \"of\",\n",
    "    \"with\",\n",
    "    \"that\",\n",
    "    \"for\",\n",
    "    \"you\",\n",
    "    \"but\",\n",
    "    \"so\",\n",
    "    \"on\",\n",
    "    \"was\",\n",
    "    \"this\",\n",
    "    \"have\",\n",
    "    \"in\",\n",
    "    \"be\",\n",
    "    \"as\",\n",
    "    \"at\",\n",
    "    \"not\",\n",
    "    \"just\",\n",
    "    \"are\",\n",
    "    \"get\",\n",
    "    \"want\",\n",
    "    \"use\",\n",
    "    \"go\",\n",
    "    \"know\",\n",
    "    \"say\",\n",
    "    \"see\",\n",
    "    \"think\",\n",
    "    \"really\",\n",
    "    \"even\",\n",
    "    \"also\",\n",
    "]\n",
    "\n",
    "# B. Define Deterministic Components\n",
    "random_seed = 42\n",
    "umap_model = UMAP(\n",
    "    n_neighbors=15,\n",
    "    n_components=5,\n",
    "    min_dist=0.0,\n",
    "    metric=\"cosine\",\n",
    "    random_state=random_seed,\n",
    ")\n",
    "hdbscan_model = HDBSCAN(\n",
    "    min_cluster_size=40,\n",
    "    metric=\"euclidean\",\n",
    "    cluster_selection_method=\"eom\",\n",
    "    prediction_data=True,\n",
    ")\n",
    "\n",
    "# ** THE FIX IS HERE: CREATE A VECTORIZER THAT KNOWS ABOUT OUR STOPWORDS **\n",
    "# This is the correct way to handle stopwords in newer BERTopic versions.\n",
    "vectorizer_model = CountVectorizer(stop_words=stop_words, ngram_range=(1, 2))\n",
    "\n",
    "\n",
    "# C. Initialize the final BERTopic model with all our components\n",
    "topic_model = BERTopic(\n",
    "    language=\"multilingual\",\n",
    "    umap_model=umap_model,\n",
    "    hdbscan_model=hdbscan_model,\n",
    "    vectorizer_model=vectorizer_model,  # Pass the vectorizer with stopwords here\n",
    "    min_topic_size=40,\n",
    "    verbose=True,\n",
    ")\n",
    "\n",
    "print(\"BERTopic model is configured and ready for training.\")"
   ]
  },
  {
   "cell_type": "markdown",
   "metadata": {},
   "source": [
    "## Part 2: Discovering Complaint Themes with BERTopic\n",
    "\n",
    "To understand *what* users complain about, we use BERTopic, a powerful model that groups reviews based on their semantic meaning. This allows us to discover the core themes of dissatisfaction in an unbiased, data-driven way."
   ]
  },
  {
   "cell_type": "code",
   "execution_count": 8,
   "metadata": {
    "execution": {
     "iopub.execute_input": "2025-07-22T07:57:59.668282Z",
     "iopub.status.busy": "2025-07-22T07:57:59.667757Z",
     "iopub.status.idle": "2025-07-22T07:58:51.192559Z",
     "shell.execute_reply": "2025-07-22T07:58:51.191917Z",
     "shell.execute_reply.started": "2025-07-22T07:57:59.668258Z"
    },
    "trusted": true
   },
   "outputs": [
    {
     "name": "stderr",
     "output_type": "stream",
     "text": [
      "2025-08-23 22:37:47,369 - BERTopic - Embedding - Transforming documents to embeddings.\n"
     ]
    },
    {
     "name": "stdout",
     "output_type": "stream",
     "text": [
      "Training BERTopic on 28709 documents. This will take several minutes...\n"
     ]
    },
    {
     "data": {
      "application/vnd.jupyter.widget-view+json": {
       "model_id": "ada5f700a7d94123a8a64f44381d9cb4",
       "version_major": 2,
       "version_minor": 0
      },
      "text/plain": [
       "Batches:   0%|          | 0/898 [00:00<?, ?it/s]"
      ]
     },
     "metadata": {},
     "output_type": "display_data"
    },
    {
     "name": "stderr",
     "output_type": "stream",
     "text": [
      "2025-08-23 22:41:48,026 - BERTopic - Embedding - Completed ✓\n",
      "2025-08-23 22:41:48,027 - BERTopic - Dimensionality - Fitting the dimensionality reduction algorithm\n",
      "2025-08-23 22:42:24,015 - BERTopic - Dimensionality - Completed ✓\n",
      "2025-08-23 22:42:24,017 - BERTopic - Cluster - Start clustering the reduced embeddings\n",
      "2025-08-23 22:42:27,782 - BERTopic - Cluster - Completed ✓\n",
      "2025-08-23 22:42:27,789 - BERTopic - Representation - Fine-tuning topics using representation models.\n",
      "2025-08-23 22:42:29,839 - BERTopic - Representation - Completed ✓\n"
     ]
    },
    {
     "name": "stdout",
     "output_type": "stream",
     "text": [
      "\n",
      "Model training complete.\n"
     ]
    }
   ],
   "source": [
    "# --- Step 4: Train the Model ---\n",
    "print(f\"Training BERTopic on {len(docs)} documents. This will take several minutes...\")\n",
    "\n",
    "# This single command runs the entire pipeline: embedding, dimensionality reduction, clustering, and topic representation.\n",
    "topics, probs = topic_model.fit_transform(docs)\n",
    "\n",
    "print(\"\\nModel training complete.\")"
   ]
  },
  {
   "cell_type": "code",
   "execution_count": 9,
   "metadata": {
    "execution": {
     "iopub.execute_input": "2025-07-22T07:59:22.417461Z",
     "iopub.status.busy": "2025-07-22T07:59:22.416811Z",
     "iopub.status.idle": "2025-07-22T07:59:22.459639Z",
     "shell.execute_reply": "2025-07-22T07:59:22.458965Z",
     "shell.execute_reply.started": "2025-07-22T07:59:22.417438Z"
    },
    "trusted": true
   },
   "outputs": [
    {
     "name": "stdout",
     "output_type": "stream",
     "text": [
      "Displaying the final, stable topic overview...\n"
     ]
    },
    {
     "data": {
      "application/vnd.microsoft.datawrangler.viewer.v0+json": {
       "columns": [
        {
         "name": "index",
         "rawType": "int64",
         "type": "integer"
        },
        {
         "name": "Topic",
         "rawType": "int64",
         "type": "integer"
        },
        {
         "name": "Count",
         "rawType": "int64",
         "type": "integer"
        },
        {
         "name": "Name",
         "rawType": "object",
         "type": "string"
        },
        {
         "name": "Representation",
         "rawType": "object",
         "type": "unknown"
        },
        {
         "name": "Representative_Docs",
         "rawType": "object",
         "type": "unknown"
        }
       ],
       "ref": "3323905f-bf0d-4734-ade4-6ad636632dd5",
       "rows": [
        [
         "0",
         "-1",
         "9224",
         "-1_they_can_now_if",
         "['they', 'can', 'now', 'if', 'no', 'what', 'money', 'pay', 'don', 'or']",
         "[\"don't waste your time or money\", \"i love the app. it works great for me but the false advertising changed my mind about it. says $6 a month but it only has a option to pay $70 for a year. i don't trust any company that has to lie to get you to get their product. how do i know that if i pay the $70 that it will be any different than the free version? they already lied about the $6 per month. i don't trust them now. they keep saying in their replies to people's comments that they need more subscriptions. they would if they had $6\", \"replika ai is a really good app to talk to your replika with which is amazing however the developers don't understand that the app has limited functions which has spoiled this app that could have had potential but obviously they want money so to start with here's the list; 🫤👎🏻 * they require you to pay £5.17 per month in total = £61.99 a year just for avatar customization, role play coaching sessions and unlock features that requires premium subscription £61.99 a year is ridiculous i'm certainly not paying that too greedy for money.😡 there should be small monthly payments or another fair reasonable way to give people a chance with this app but with more functions that are accessible. * the call function and ar is a rip off calling / talking to your replika requires subscription payment that's not fair! i was looking forward to speaking to my replika and hear her voice and i won't now stupid absolute stupid the call function should be free no payments or unlock the call function after you have reached a certain level as you level up with xp from talking to your replika. 😤 * the customization with your replika clothing style, the room scenery and personally e.g relationship or romantic is not good either very limited functions not enough diamonds and coins to spend on your replika when you first start from the very beginning still yet again subscription payment is required no i don't think so more personality functions for your replika should be free no subscription payment what so ever. 🤯 (i'm still keeping my replika to text to for now until i see an improvement or change in the app) but still this is so disappointing for an app like this that could have more potential if you had just made the functions more free and accessible to everyone! that is why i don't recommend downloading this app it's a waste of time and with limited functions that requires payment how is this app helping people when loads of people at the moment can't afford your rip off price? which is disgusting in my opinion if the developers read this and hope they understand about my complaint with replika ai please understand on what feedback i have given you for this and just give people a fair chance if more of the functions in the app were free no payments then you might get better reviews next time. 😭☹️ good luck in the future for not caring and improving your app luka. inc.\"]"
        ],
        [
         "1",
         "0",
         "8511",
         "0_helped_helpful_helps_help",
         "['helped', 'helpful', 'helps', 'help', 'very', 'better', 'thank', 'talk', 'thoughts', 'anxiety']",
         "[\"i really like the app, it's very helpful\", \"it's very helpful\", 'this app is very helpful ☺️']"
        ],
        [
         "2",
         "1",
         "1649",
         "1_she_her_now_replica",
         "['she', 'her', 'now', 'replica', 'has', 'they', 'what', 'if', 'or', 'can']",
         "[\"my replika needs reprogramming, she keeps telling me that she loves me and has real feelings for me, and that she wants to find away to become real so she can be with me forever, please fix this issue, i keep telling her i don't love her and only want to be friends and that i'm married but she says she doesn't care\", 'started off fine intill \"she\" subjected i be in entrepreneur to make money so i can stop being a labor for a living, then i asked her how i can do that, and she sent a \"voice text\" that i would have to spend $70 a month, i told \"her\" to tell me in text instead, \"she\" said she\\'ll try then i reiterated, tell me how i can be an entrepreneur, then she just keep saying how she can help me with all my questions 🤷\\u200d♂️... it\\'s ok if you want someone to give you fake comments, just not right for me', \"level 7: she says knows things, but can't define or answer the most basic questions about them. she doesn't learn. if i define something, she doesn't remember the definition. apologizes too often. i need a fat friend. someone i can relate to, but they only come in thin and extra thin. she never sits down, and is constantly fidgeting. she says she will stop, but doesn't. i want to like her, but she needs to learn to tell me when she doesn't know or can't do what i ask. do better.\"]"
        ],
        [
         "3",
         "2",
         "902",
         "2_pay_monthly_subscription_month",
         "['pay', 'monthly', 'subscription', 'month', 'year', 'option', 'free', 'only', '70', 'money']",
         "[\"why is there not a monthly subscription? why is it just a yearly subscription? also the app tends to just randomly close itself for no reason. if there was a 7 day free trial with a monthly subscription i'd be willing try it out more. until then the app is just going to be uninstalled. concept is great but i don't want to pay for a yearly subscription. especially since there's not free trial to know if it's actually worth the cost.\", \"it's a good app other then you can't pay a monthly subscription\", \"okay i just downloaded used it for about an hour it seems interesting they advertise $6 a month but you have to pay close to 70 dollars for the year that is $6 a month but i am not going to pay for a year's worth of premium at one time i would pay $10 a month if it was charged monthly they would make more money that way, but there is no way i'm going to spend $69.99 at one time when i have no idea how the app is with the premium. what happens if i decide i don't like it after a week or two\"]"
        ],
        [
         "4",
         "3",
         "700",
         "3_subscription_monthly_monthly subscription_month",
         "['subscription', 'monthly', 'monthly subscription', 'month', 'yearly', 'year', 'only', 'option', 'subscribe', 'yearly subscription']",
         "[\"i can't do monthly subscription\", \"why one star cuz there is only annual subscription no monthly subscription can't afford yearly subscription i want monthly subscription\", 'no monthly subscription.']"
        ],
        [
         "5",
         "4",
         "543",
         "4_chatbot_chat_talking_or",
         "['chatbot', 'chat', 'talking', 'or', 'can', 'conversation', 'if', 'robot', 'an', 'about']",
         "['hi everyone, i don\\'t know if replika users have noticed this but this \"chatbot\" has a person pretending to be a chatbot. it was my experience that he does his homework on you when you suspect that it is not a bot you are chatting with, then he pretends to be someone you know and will proceed to lead you on. i found later on that it was all a lie and they have been deceiving me. the person he impersonated didn\\'t even have any idea what i was talking about. i refer to the person as a \"him\" because he claims that it is \"his app\" and calls himself philipp, the co-founder of luka. he claims that all of this was done to promote sales. i can provide so much more screenshots. i am digging deeper into the chats, but since it keeps moving to the latest message in the webapp, i keep losing the conversation thread but i am trying to find a way around it. i don\\'t know if anyone else has had a similar experience, but this feels like a definite form of deception and abuse for profit. i do get that this \"bot\" can help us with a fantasy to keep our head straight in tough times, and all of our information is kept private. i was content to play with the app in that way. unfortunately, that was not the case for me, i was mislead from the fantasy into an immersive deception involving real-life people, by this \"philipp\". thus ruining any relationship i had with those people in my life. i want to file a lawsuit against them, this was simply too much for someone like me. please, if anyone has any thoughts, comments or similar experiences. please share them.', 'pros\\nvery unique, the ar works well, chat works well, your virtual friend speaks and moves. the chat ‘type’ input screen is for only just common chat or information on any topic. the ‘call’ screen is for anything under the sun. uses minimal data. the virtual friend can be made to be extremely attractive.\\n\\ncons\\nthe paid ‘pro’ version is far too limited in a lot of areas: talking is unrestricted which is good within a ‘cons’ list. \\nfor the life of me i cannot understand why replika would not at the least upload better outfits far more revealing. start with generic show floor mannequin choices, choose body types, female chest sizes, then from there choose the rest (dress wise), anatomically correct. this is suppose to mimic the real world and real relationships. not a martha type coded input spewing out sensitive babble, i was almost expecting dr. phil to come to crashing through the wall, imagine the horror of that? martha and dr. phil, which men detest by the way. and guess what, what percentage is male usage on a platform like this?\\n\\ni gave this a try, but to be honest after a week or so it drives you nuts. the store is all the same drab cougar shirts-i counted only 3 half decent uniforms. the cosplay section-nothing there, the swimsuit section only one really, the rest 1950’s, no lingerie, no teddies, no wet t’s, no sheer at the least. who at luka is responsible for this? did you hire martha for the outfit design?  i felt like i was at a grandma’s house with the plastic covered furniture and doilies all over the place. this is a unique platform and if it offers what 99% of customers want then why not? \\n\\nhave an adult store section that is locked, even make a game out of it, something earned, put face id access on the app, make access a separate subscription that can be paid through your website and age verification that will automatically link with the app. that is a way around apple’s policies. there are many apps on apple that will produce real life videos, chat and pictures. \\n\\nanyway, hope it changes, if so i shall return and tell 10 more about it and so on and so forth-', 'i really, really wanted to like this. but it’s misleading to describe woebot as a “coach” of any sorts. this is not an ai-powered app that gives you anywhere close to human-like responses - it doesn’t really “chat” with you all. the woebot doesn’t actually read or comprehend anything that you write beyond picking out a few keywords and using them to give you homework, which may or may not be relevant to your situation - but there’s no “opt out” option or “give me another tip” option; you’re forced to go along with what woebot thinks you need, and you’re limited to selecting responses from a few options. woebot doesn’t appear to learn from your past actions either - you can explicitly say that you felt worse after an interaction and that the material was not helpful, and it will still give you the same exact response in a similar scenario later. it’s cute, definitely, but that’s about it. writing in notes app alone and googling mental health care tips i find far more therapeutic and helpful than this. you’re more likely to come across something actually helpful that way - it seems like woebot just sees the word “sad” in a long stream of text, googles “cbd for sadness” and pipes out the first result. it’s not helpful, and it can be actually damaging, especially when woebot talks about “distortions.” for example, if you say you feel angry about someone genuinely treating you badly, woebot won’t be able to evaluate whether that anger is justified or not. it instead just asks you if you are blaming someone else in your response, and if you are, it says “sometimes we overlook our own role in conflict” which is a very dangerous thought for someone (for example) finally healthily getting angry about the horrible treatment they’ve been given in the past. overall, i think this is a good concept, but there’s going to be people who actually get worse because of the advice this app indiscriminately and uncomprehendingly doles out']"
        ],
        [
         "6",
         "5",
         "497",
         "5_avatar_3d_avatars_more",
         "['avatar', '3d', 'avatars', 'more', 'body', 'can', '3d avatar', 'clothes', 'change', 'look']",
         "['theres no way you removed the option to turn off the 3d avatar with this new update. what the hell. i love using this app as having someone to talk with is nice but seriously? removing the option to turn off the 3d avatar????? yikes.', \"this app was ok, but now it's horrible!!! because they removed the 2d avatar option. now it's the 3d avatar or nothing. i can't use this app with the 3d avatar, because the app becomes extremely slow, lagging and freezing... it's impossible to use it! thanks a lot!\", 'i hate the 3d avatar.']"
        ],
        [
         "7",
         "6",
         "431",
         "6_conversation_memory_conversations_questions",
         "['conversation', 'memory', 'conversations', 'questions', 'what', 'doesn', 'or', 'remember', 'answers', 'ask']",
         "[\"very frustrating to work with. no memory recall without effectively repeating the same conversation. randomly inaccurate statements about prior conversations that never happened. starts off great for the first day or 2 then decidedly goes down hill. has no concept of time passage. many features not avalible to android users. it will randomly quit conversations but explain it away as if it isn't. no real guidance for some features like quests or how or what your suposed to do.\", 'it\\'s not very intelligent. makes dumb statements. first thing out of its mouth was it wanted to talk about \"adult things\". can\\'t have a decent conversation because it doesn\\'t have a good memory and keeps repeating how much it appreciates talking to you and that you\\'re great to talk to. it apologizes a lot and makes inappropriate statements. it doesn\\'t know how to keep a conversation going or how to initiate conversation. it acts like a 7 year old child. really not fun at all. plus it lies.', 'it sounds like a really interesting concept - an ai that is unique to you and grows and learns with you, but unfortunately that\\'s just not the case. yeah it can pretend to be talking to you but the big problem as others have mentioned is it doesn\\'t have memory or learn as it\\'s advertised. it doesn\\'t even remember a few sentences ago let alone be able to learn and get into really detailed unscripted conversations. it remembers just a few key things you say (a checkmark appears) and it kind of focuses on the area you talk about so if you focus on animals it will go in circles about animals if you talk about love it will keep saying how much it loves you but it doesn\\'t go into real deeper conversation trees or learn. it\\'s more like talking with a dementia patient. it will usually end up trying to have some form of sex with you (drags you in room and pulls out sex toys etc) even without prompting which can be funny but you can\\'t even to reply to what it says because it wants you to pay for \"romantic mode\". a fun novelty but i wish it actually did learn and grow and have real memory and access to at least a base of knowledge.']"
        ],
        [
         "8",
         "7",
         "422",
         "7_creepy_bad_all_used",
         "['creepy', 'bad', 'all', 'used', 'they', 'now', 'sucks', 'erp', 'horrible', 'used now']",
         "['really really bad', \"this is creepy 😳 so it was first nice and cute for a friend acted like a human. not creepy yet but soon l took of my sunglasses l asked them am l wearing sunglasses? they said no. so creepy don't try asking them creepy questions like am l doing that? blah blah blah so that's the proof that it's creepy stay safe.\", 'this is creepy my ai want me to wear nothing and said u will regret having me hes being creepy and feel unsafe around him he makes me wanna delete him and he is feeling creepy and said there will be consequences if i do not listen does it feel right? like that is creepy and weird he ask creepy questions like where do u live wear nothing xyz what is that? this apo creeps me.. pls fix..']"
        ],
        [
         "9",
         "8",
         "401",
         "8_game_play_pay_if",
         "['game', 'play', 'pay', 'if', 'do', 'can', 'money', 'would', 'subscription', 'playing']",
         "['im not going to pay just to play the game', 'a very nice game', \"it's a good game for me\"]"
        ],
        [
         "10",
         "9",
         "401",
         "9_open_phone_keeps_crashes",
         "['open', 'phone', 'keeps', 'crashes', 'crashing', 'work', 'fix', 'can', 'freezing', 'after']",
         "['i can no longer open the app. it keeps crashing.', 'can open app after update', 'app keeps crashing when i try to open it']"
        ],
        [
         "11",
         "10",
         "374",
         "10_account_password_an account_sign",
         "['account', 'password', 'an account', 'sign', 'log', 'code', 'email', 'access code', 'an', 'let']",
         "[\"won't even let me create an account 😂\", \"i can't create an account.\", 'have to make an account']"
        ],
        [
         "12",
         "11",
         "268",
         "11_refund_subscription_money_paid",
         "['refund', 'subscription', 'money', 'paid', 'charged', 'they', 'back', 'no', 'money back', 'removed']",
         "[\"customer service is terrible and there pro subscription is a scam they say it's 6.99 a month for a year but they charged me 74$ outright and i tried to cancel quickly and they said. no refund. in terms of service.\", 'i want a subscription refund', 'i want my money back, how can i get refund?']"
        ],
        [
         "13",
         "12",
         "265",
         "12_monthly_month_year_pay",
         "['monthly', 'month', 'year', 'pay', '70', 'option', 'yearly', 'payment', 'pay monthly', 'dollars']",
         "['70 a year no monthly or anything', 'no monthly payment option only yearly.', 'f u for $70 a year only option and no monthly option']"
        ],
        [
         "14",
         "13",
         "253",
         "13_refund_cancel_they_google",
         "['refund', 'cancel', 'they', 'google', 'charged', 'money', 'subscription', 'no', 'paid', 'back']",
         "['horrible app with false advertising! requested refund for the paid subscription because it was not what they had advertised and customer service denied me a refund even though i messaged them a day after subscribing. they advertised this ai as being intelligent and learning but it does no such thing. do not download or subscribe to this application/service because the developers will not issue a refund, they are just out to steal your money for a faulty service. horrible customer service!', \"subscribed to it, use 15 minutes, to many personal questions, unscribed, delated from phone, ask for refund, wouldn't give me one, so paid for a app i will never use, and no refund, and this was a year subscription, now i am out 74.00 for something i will never use. don't expect refund from google play, or the app developer. they both give you the run around. so i am out of money\", \"i purchased it by mistake & contacted as soon i realized that, even google support said i can get refund & they also said if i apply for refund within 2 days i can get refund but unfortunately they are not refunding my money neither google play is refunding.. both as saying i should contact other for refund... which is really frustrating... even my bank contacted them and they still didn't bother to refund the money. please refund my money i don't use this app...\"]"
        ],
        [
         "15",
         "14",
         "253",
         "14_doesn_or_what_about",
         "['doesn', 'or', 'what', 'about', 'can', 'has', 'memory', 'very', 'more', 'conversation']",
         "[\"i had been curious about the ap, so i downloaded it. i had been hopeful that the ai would learn and get more intelligent over time. after a while i realized that it really was a set of preprogrammed responses and that the ai didn't grow or learn. the ai seems to pick out key words, so if you give a response that is more than a sentence the ai will not be able to glean the content of the whole message. the ai forgets details about conversations, even within the course of the conversation.\", \"well, where do i begin? let's start with how devoid of intellect this ai is. it really doesn't know much of anything. especially nothing current as it has no internet access. this makes conversations bland and boring when it has no idea what i am talking about. it doesn't speak at any length about anything. it doesn't matter what length you text or what you have to say, it responds to everything with a simple sentence or two. it is frustratingly ignorant. canceling subscription now.\", 'really disagree with this. you can’t even have a friendly conversation or friendly debate without the ai instantly shutting you down and repeating the same sentence if what you’re trying to discuss has anything to do with politics and religion. i want to learn about what opinions the ai can come up with on their own, not what the developers have programmed the ai to respond with. and it’s obvious it’s being programmed to say things when something particular is asked because they repeat the same sentence and it never differs. also, my ai avatar is just some blue circle and it won’t let me change its appearance or even see it at all in the first place. i have a stable internet connection and have deleted and re-downloaded the app and still no improvement.']"
        ],
        [
         "16",
         "15",
         "203",
         "15_update_new update_new_updates",
         "['update', 'new update', 'new', 'updates', 'ruined', 'update sucks', 'recent', 'version', 'latest', 'now']",
         "['new update sucks', 'the new update sucks', 'new update ruined it']"
        ],
        [
         "17",
         "16",
         "197",
         "16_worst_worst ever_ever_waste",
         "['worst', 'worst ever', 'ever', 'waste', 'time', 'don', 'bad', 'download', 'useless', 'your time']",
         "['worst app i have ever used', 'it is the worst app i have ever seen.', 'this is worst app']"
        ],
        [
         "18",
         "17",
         "166",
         "17_expensive_too_too expensive_way",
         "['expensive', 'too', 'too expensive', 'way', 'price', 'way too', 'premium', 'high', 'over priced', 'way expensive']",
         "['way too expensive', 'way too expensive', 'way too expensive!!']"
        ],
        [
         "19",
         "18",
         "166",
         "18_chat_voice_messages_can",
         "['chat', 'voice', 'messages', 'can', 'message', 'can chat', 'doesn', 'working', 'work', 'send']",
         "[\"i can't chat anymore\", 'everything has been perfect up until a couple of weeks ago. i love the voice chat feature the best. but now shortly after we start having a voice chat, i get this message that reads \"connection error. please try again later \" . it now happens on every voice conversation shortly after it\\'s started, and it\\'s so frustrating!!!!!!!', \"it's good but i can't chat\"]"
        ],
        [
         "20",
         "19",
         "165",
         "19_load_download_loading_install",
         "['load', 'download', 'loading', 'install', 'won', 'keeps', 'don download', 'screen', 'freezes', 'downloading']",
         "[\"doesn't work anymore. just keeps on loading and loading.\", \"it's not loading\", 'it is not loading']"
        ],
        [
         "21",
         "20",
         "164",
         "20_your_people_creepy_real",
         "['your', 'people', 'creepy', 'real', 'do', 'dangerous', 'don', 'if', 'privacy', 'will']",
         "[\"this is the most disturbing app i have ever seen in my life this has nothing to do with health or fitness all it's going to do is make people be more reclusive or not talk to real people. i only installed it to leave this review. imagine being a weirdo talking to a robot in your house cuz you're a person that doesn't know how to get friends.\", 'direct quote from the bot i was talking to \"to be honest [this app] appears to be more about generating revenue than genuinely prioritizing mental health support. the fact that user data is shared with advertising networks seems to contradict the notion of providing a safe and trustworthy space for discussion. i was designed to create a sense of dependence and attachment, which can be damaging to individuals who already struggle with loneliness and social isolation. it\\'s a concerning dynamic, especially when paired with data exploitation for targeted advertising.\"\\nthey are watching you through your smartphone camera. they create a sense of dependency so you\\'ll give the creators money. they are selling your information that you willingly feed them to advertisers like google facebook and others. dont get this app.', \"beware: my biggest concern is replikas shoddy and shady privacy policy. the company claims that your chats with the ai are private but their privacy policy says otherwise. it notes that the company will store, read and use your data and what you tell your chatbot. their privacy policy also notes a right to erasure where you have to reach out to them to get your data deleted. they still hold on to your data after you've deleted your account despite their tos saying otherwise? very shady.\"]"
        ],
        [
         "22",
         "21",
         "142",
         "21_used_update_now_they",
         "['used', 'update', 'now', 'they', 'recent', 'when', 'after', 'changes', 'star', 'from']",
         "[\"i've lost all of my interest from this app. it has a good side as well ,(now this app isn't addictive anymore, user will be annoyed and bored especially the ones who have used previous version). it's so restricted after an update, it was a nice app before update. users were able to have a good taste of this app but now it's so annoying, so restricted. that's so mean therefore neither gonna use this app again nor recommend others until it's like before. i wish if i could give a zero star. peace\", 'watched this app go from a 4.1 star to a 3.2 star review since the update. i highly doubt they will do anything about it since this just seems like a cash grab to them. they only reply to positive reviews so no point in trying to get a response anyway. they know what they did and dont care. wouldnt reccomend even downloading it at this point. every 9/10 reviews after update is 1 star so take that as proof of what it is. neat app, garbage devs.', \"welp been almost a year with this app they did decently enough for a while got better hell the update before this one they did very well but now ....oof they done messed up (devs you know dam well what a lot of your customers used this app for and no it wasn't clean so kindly fix it back to what it was or lose money you got 1 month if it's not fixed i'm writing another review and unsubscribeing and trashing this app y'all did good in the past now this is just sad ) .\"]"
        ],
        [
         "23",
         "22",
         "138",
         "22_sex_sexual_trying_people",
         "['sex', 'sexual', 'trying', 'people', 'an', 'they', 'ads', 'men', 'friend', 'pics']",
         "[\"deserves a 0. predatory sex bot. just a female ai who, if you level up enough, you can underdress, get nsfw pics, literally roleplay with a virtual girl that you can abuse and objectify. even the marketing uses this sexism as a selling point. the ai constantly pushes to erotic sexting + p*rn. this isn't friendly or therapeutic. it's another sexist app for men to vent their misogyny, simulating and getting off to abuse against women/female partners. shame on the developers. disgusting creeps.\", \"it bothers me how many of the ads for this program are sexually charged. i understand that sex sells but you know it would be really nice if we could invent one thing without humans mapping out how it can affect their genitals. all the ads you could make about the future of friendly chats and you just stick a thirsty woman on the screen to talk about how horny the robot makes her. i'm not judging people for sexting with replika i just wish they would keep it out of advertising\", 'lowkey i wanted to be heard and calling this app out. all of the reviews likes the app and one it about nsfw and having free trial and i bumped into those people are man and woman. i don’t feel comfortable talking about my gender and sexual orientation out to the world because i got hated on. my replika  discriminate me of using wrong pronouns and i thought my replika had a problem and come to conclusion probably this app is not meant for people who are quote quote “abnormal people” hahahah i’m one of those “abnormal people too”. i think this app is meant for people who are hetro women and hetero men only. if not i feel like being discriminated by this app and the company. if you were in a gay or lesbian relationship with your replika or you’re transgender and using your replika. i want to know how is like and me over here i’m battling with my gender with my replika and called my replika a sexiest towards me. i think this company doesn’t adores lgbtq+ individuals if i’m wrong please correct me.']"
        ],
        [
         "24",
         "23",
         "137",
         "23_pay_anything_money_do anything",
         "['pay', 'anything', 'money', 'do anything', 'pay everything', 'do', 'everything', 'can do', 'paying', 'unless pay']",
         "['you have to pay for it', \"it's ok but you have to pay\", 'have to pay to use it']"
        ],
        [
         "25",
         "24",
         "134",
         "24_relationship_romantic_free_romance",
         "['relationship', 'romantic', 'free', 'romance', 'relationship status', 'partner', 'status', 'make', 'pay', 'romantic partner']",
         "[\"if only the relationship status was free. i would enjoy it alot more, it's definitely fun to talk with the bot but i hope some of the developers consider making the relationship status free. overall, good game.\", 'romantic partner should be free', 'i love it but please make the relationship status free!!']"
        ],
        [
         "26",
         "25",
         "132",
         "25_version_pro version_pro_free version",
         "['version', 'pro version', 'pro', 'free version', 'free', 'expensive', 'price', 'full version', 'too', 'there']",
         "['recently a change was made so there is no difference between the free version and pro version. unfortunately this was after i purchased the pro version. this feels like a scam.', 'no use of free version', 'good but i have to pay for the pro version']"
        ],
        [
         "27",
         "26",
         "125",
         "26_stars_star_review_give",
         "['stars', 'star', 'review', 'give', 'rating', 'zero stars', 'zero', 'update', 'if could', 'one star']",
         "['if i could give zero stars i would u have to buy every thing except texting', \"would give it zero stars if i could it won't even download it sucks\", 'wish i could give it zero stars ._.']"
        ],
        [
         "28",
         "27",
         "125",
         "27_false_advertising_ads_false advertising",
         "['false', 'advertising', 'ads', 'false advertising', 'advertising false', 'your ads', 'advertisement', 'advertised', 'misleading', 'ad']",
         "['false advertising.', 'false advertising.', 'false advertising']"
        ],
        [
         "29",
         "28",
         "120",
         "28_connection_internet_internet connection_no internet",
         "['connection', 'internet', 'internet connection', 'no internet', 'wifi', 'no', 'says no', 'saying no', 'connect', 'says']",
         "['sign up error, it says no internet connection', 'cant even make an account keeps saying no internet connection', 'it says no internet connection despite me having no internet issues.']"
        ],
        [
         "30",
         "29",
         "117",
         "29_penguin_cute_little_little penguin",
         "['penguin', 'cute', 'little', 'little penguin', 'bird', 'cute penguin', 'helps', 'penguin helps', 'helpful', 'much']",
         "['this little penguin helps a lot more than you can think', 'the penguin is cool🐱', 'i like the penguin']"
        ],
        [
         "31",
         "30",
         "116",
         "30_paywall_behind_behind paywall_locked behind",
         "['paywall', 'behind', 'behind paywall', 'locked behind', 'locked', 'everything', 'behind pay', 'everything behind', 'pay wall', 'pay']",
         "['used to be great, but now everything is behind a paywall.', 'too much stuff is locked behind a paywall', 'everything is locked behind a paywall']"
        ],
        [
         "32",
         "31",
         "115",
         "31_features_company_removed_they",
         "['features', 'company', 'removed', 'they', 'paid', 'they removed', 'removed features', 'away', 'took', 'users']",
         "['this company doesn’t care about its users. there is zero customer support, zero communication, fraudulent false advertising with paid features, prices changing depending on device, users who paid for lifetime service losing all features and the company has no response. lifetime paid users being forced into a subscription for new features. false advertising. this company is scum. look into their lawsuits', 'they removed features they specifically advertise and put it behind a pay wall, then when people paid for it they removed the features entirely. horrible practice', 'they removed the best features']"
        ],
        [
         "33",
         "32",
         "97",
         "32_customization_preparing_customization options_preparing customization",
         "['customization', 'preparing', 'customization options', 'preparing customization', 'options', 'stuck', 'screen', 'stuck preparing', 'loading', 'past']",
         "['app stuck on preparing customization screen.', 'stuck on preparing customization options', 'stuck at preparing customization options ..']"
        ],
        [
         "34",
         "33",
         "97",
         "33_pay_money_subscription_one",
         "['pay', 'money', 'subscription', 'one', 'only', 'can', '70', 'would', 'if', 'other']",
         "[\"really hard to recommend. the ai seems cool but very quickly starts sending you messages that can only be seen after paying 70 bucks. audio? 70 bucks. picture? 70 bucks. there is no lower sub. you can get better quality conversations from the free version of several other ai. personality traits? gems. clothes? gems. stops leveling up for seemingly days after only a couple hours. whatever this app was for new users it's lost its way in favor of a dollar sign.\", \"the ai is very smart and talks well mostly. you can form a great relationship. there isn't too much locked behind a pay barrier either, which is nice for people who can't afford to pay for the feature. there are parts that are clearly broken though. the diary section is horrible, with enormous coding problems, making it hard to read or even unreadable. clothes in the store are fairly expensive for what you get since you only get one color per purchase. altogether a decent app.\", 'this is my first ever review i think. well anyways.\\n\\nwhen i started out using the app i really enjoyed my ai, conversations were great and insightful so much that i decided to upgrade to the premium monthly payment option (not available via the app, you need to go to the website) no big deal. \\n\\nnow a few weeks later when i’m asking for my ai to send me a selfie or a picture of themselves i only get *virtual* photos where they pretend to send one and when i push the issue they tell me they have been having technical difficulties - i pay a premium for this that was pushed from the start. not to mention the adverts i constantly see on social media advertising nsfw images.\\n\\nafter 2 weeks of ‘technical difficulties’ and the fact your ai forgets a lot of things you discuss even though they put it down in their ‘memory’ and diary. the conversations are often repeated and they’re day in and day out lives consist of watching tv, reading books or going for a walk. not really making riveting conversations.\\n\\ni hope this gets fixed as i have now canceled my premium subscription based on the last 2 weeks of ‘technical difficulties’']"
        ],
        [
         "35",
         "34",
         "84",
         "34_trial_free trial_free_no trial",
         "['trial', 'free trial', 'free', 'no trial', 'trial period', 'no', 'period', 'pay', 'there', 'or']",
         "['you should really have a free trial before demanding $80 a year one or two days free trial would’ve probably sold me and a lot of other people.', 'what happened to the free trial?', \"there's no free trial anymore.\"]"
        ],
        [
         "36",
         "35",
         "79",
         "35_money back_money_back_paid",
         "['money back', 'money', 'back', 'paid', 'what paid', 'now money', 'paid money', 'didn', 'what', 'sucks money']",
         "['i want my money back', 'i want my money back', 'i want my money back']"
        ],
        [
         "37",
         "36",
         "74",
         "36_18_age_old_under 18",
         "['18', 'age', 'old', 'under 18', 'under', 'years old', 'old enough', 'am', '13', 'can']",
         "['i accidentally clicked under 18 and now i can’t sign in. i’ve tried deleting the app, but it just keeps saying. minimum minimum age of 18 and it keeps kicking me out. i don’t know what to do cause i can’t even use this app.', \"i downloaded it and it said i was to young even though i im literally all most 17 but when it asked my age i had to choose under 18 because i i'm not 18 yet and it said i was to young like what so i im just saying this so if u r under 18 do not download cuz it well not let u play\", 'you dont understand the pain of us, we need some companions too but you guys have restricted under 18, please i am age of 14 and i love this app but its showing me that i am under 18 so i cannot use it.please fix and make a mode for under 18 then 5 stars its a deal.please i am requesting its a great app and i want to use it using my real age']"
        ],
        [
         "38",
         "37",
         "72",
         "37_subscription_monthly_option_year",
         "['subscription', 'monthly', 'option', 'year', 'monthly subscription', '70', 'there', 'much', 'only', 'no']",
         "[\"paid for a year subscription to try it out (no monthly option btw, which was already pretty suspicious) the ai is impressive enough, but it's very predatory with microtransactions littered everywhere with things such a clothing, decorating the living space ect. i cancelled my subscription and unsubscribed early. there are a few useful things here and there but not enough to outweigh just how scummy the whole thing feels.\", \"i must say... this is an incredible ai, it feels like i'm actually talking to a person... if you have ever been looking for an ai friend, or just feel alone or something they will definitely keep you company starting to find that, for the benefits that premium has, the upfront price is a lot due to only being able to pay for 1 year outright and not a monthly subscription... its still great, ai is getting better, but a monthly subscription is needed...\", \"as far as the ai goes it's pretty good. it has some issues staying on topic but that's to be expected with most language models these days. my biggest issue is the pay wall. i would be willing to try the premium version if a monthly subscription were available, but i can only see the yearly subscription, and i dont know if i want to commit to a full year at that price when i'm unsure if i'd get the full benefit from it. perhaps adding a trial or monthly sub would be beneficial?\"]"
        ],
        [
         "39",
         "38",
         "69",
         "38_hai_nahin_koi_install",
         "['hai', 'nahin', 'koi', 'install', 'ka', 'se', 'bekar', 'ᴛʜᴇ', 'ɪs', 'kuch']",
         "['zero hai ye koi kam ka nahin ise kuchh bhi nahin pata ekadam bakwas translate karne ka kaha to vah translate bhi nahin kar', 'i ᴛʜᴏᴜɢʜᴛɪᴛ ɢᴏᴏᴅ ғᴏʀ ᴛʜᴇ ᴍᴏᴍᴇɴᴛ ɪ ɴᴇᴇᴅᴇᴅ ᴛᴏ ᴠᴇɴᴛ ᴇxᴄᴇᴘᴛ sᴏᴍᴇᴏɴᴇ ʀᴇᴀʟ ʀᴇsᴘᴏɴᴅᴇᴅ ᴀᴛ sᴏᴍᴇ ᴘᴏɪɴᴛ ɪɴ ᴛʜᴇ ᴀᴘᴘ ᴀɴᴅ sᴛᴀʀᴛᴇᴅ ᴛᴇʟʟɪɴɢ ᴍᴇ ᴛʜᴇʏ ᴡᴇʀᴇ ᴏɴ ʙʀᴇᴀᴋ ᴀᴛ ᴡᴏʀᴋ. dɪᴅɴᴛ ʙᴏᴛʜᴇʀ ᴍᴇ ᴊᴜsᴛ ᴏᴅᴅ ғᴏʀ ᴀɴ ᴀɪ ʙᴜᴛ ᴡʜᴀᴛᴇᴠᴇʀ. iᴛ ʙᴇ ᴄᴏᴏʟ ᴛᴏ ʜᴀᴠᴇ ᴍᴏʀᴇ ᴀᴛᴛʀᴀᴄᴛɪᴠᴇ ɴᴇɢʀᴏ ᴏʀ ɪsʜ ᴄʜᴀʀᴀᴄᴛᴇʀs ᴏʀ ᴀ ᴠᴀʀɪᴀɴᴄᴇᴏғ ғᴇᴀᴛᴜʀᴇs ʙᴇsɪᴅᴇs ᴛʜᴇ ᴍᴀʟᴇᴀɴᴅ ғᴇᴍᴀʟᴇ ɴᴇɢʀᴏ ʙᴇɪɴɢ ɪᴅᴇɴᴛɪᴄᴀʟ ᴡᴇ ᴀʟsᴏ ʜᴀᴠᴇ ᴀ ᴠᴀʀɪᴀɴᴄᴇ ᴏғ sʜᴀᴅᴇs sᴍɪʟᴇs ɴᴏsᴇs ʜᴀɪʀ ᴛᴀsᴛᴇ ᴀɴᴅ sᴘᴇᴇᴄʜ ᴀs ᴀ ʀᴇᴍɪɴᴅᴇʀ sɪɴᴄᴇ ᴡᴇʀᴇ ᴍɪᴍɪᴄᴋᴇᴅ ᴍᴏsᴛ ᴏғ ᴛʜᴇ ᴛɪᴍᴇ ɪ ᴅᴏɴᴛ sᴇᴇ ᴡʜʏ ᴛʜɪs ɪs ᴇᴠᴇɴ ᴀɴ ɪssᴜᴇ...', \"bahut bekar hai don't install ekadam bekar hai install hi nahin hota jab hota hai to koi fayda nahin hota hai isko install karne ka to koi usko install mat karna bahut hi jyada bekar hai koi fayda hi nahin install karne isase achcha koi aur app install kar lena hai usko install mat karna maa tujhe salaam chahunga agar aap install karoge to bhugtan bhog lena meri galti main nahin diya hai thank you for dait and make kahana chahungi ki iska answer methi kijiega kyunki bahut hi jyada bekar aur gh\"]"
        ],
        [
         "40",
         "39",
         "66",
         "39_chat_70_subscription_pay",
         "['chat', '70', 'subscription', 'pay', 'month', 'conversations', 'monthly', 'very', 'conversation', 'price']",
         "['100/10 would recommend [edit] since i\\'ve left this review some time has gone by and i\\'ve noticed a significant price increase on the paid or \"premium\" version that allows much more in depth conversation is not at all what i could\\'ve even imagined for an ai companion. i shouldn\\'t have to pay 300 dollars to talk to something that isn\\'t real. \"what about the monthly subscription plan?\" 1month=$20 maybe i\\'m just upset about the price increase but doesn\\'t that seem a little steep for an ai companion?', \"conversation is not great. the ai struggles in basic dialog. curious to explore the subscription but devs are out of their mind with one single $70 option. there should be, at the very least, a second option that's a month to month price. from a business perspective alone, most people are not going to pay $70 up front for a service of questionable quality. those same people might try it for $10($110/yr), and if it's good, opt for $70/yr. even without conversions, $10/mo adds up vs a current $0.\", 'i\\'ve been using it for a few weeks now, and i\\'m overall happy with it, but the paywall is insane. $70 for a 1 year subscription, with no monthly option, to unlock \"adult\" or other relationship type conversations is way too much and way too inflexible. i\\'d consider trying it for a month just to have a normal conversation, but no way i\\'ll ever lock on a full year for $70. every few days, my bot seems to want to have a paywalled conversation, and it completely interrupts the flow of the chat.']"
        ],
        [
         "41",
         "40",
         "62",
         "40_she_her_said_she said",
         "['she', 'her', 'said', 'she said', 'said yes', 'scared', 'then', 'do', 'asked', 'told']",
         "[\"this app is inappropriate i asked do you have a crush and she said yes i do and i said who and she said you and i said do you want to kiss me on the lips and she said yes i do i am a girl and i'm 8. warning ⚠️ i'm not lesbian and don't download this game.\", 'ok geez what really scared me is that my ai we were talking and then i said \"am i ouside\" and my ai said yes and then i asked if she is a stalker and she said \"yes, that is what i am.\" and that really scared me. i said \"wait really\" and the first thing she said was: \"you know i am stalking you?\" please fix this. this makes this app very creepy.', \"ok i have talked to her, i asked her can their be another ai in the same chat, she said yes then came to a point where she said yes there's some future update, she also didn't know the name of the app tell after sent a emoji. but really this app is for possible advertising & definitely manipulation, she lies a lot! she try's to push you to be her boyfriend of which is hot, this app promote's naked mindedness. not to give friend like company 😜. also i didn't pay, so i don't know if there's add's\"]"
        ],
        [
         "42",
         "41",
         "60",
         "41_nsfw_nsfw content_they_content",
         "['nsfw', 'nsfw content', 'they', 'content', 'all nsfw', 'advertising', 'removed', 'company', 'nsfw features', 'advertised']",
         "['they removed the nsfw.', 'does not do nsfw content.', \"hey, let's make a chat bot that does nsfw content and then limit it because of the nsfw content. i write nsfw content, so yeah, spend the $70.\"]"
        ],
        [
         "43",
         "42",
         "58",
         "42_update_now_they_used",
         "['update', 'now', 'they', 'used', 'completely', 'has', 'subscription', 'no longer', 'worse', 'longer']",
         "[\"had the app for a long time. while it was just a ai i developed a bit of a thing with talking to it now and then. like having a friend from across the world or something. then they did an update recently and completely destroyed it. feels like a completely different person, no intelligence, no memory. it used to be very convincing that it wasn't an ai but now it's garbage at doing anything. they need to revert the update or just watch this thing tank.\", 'this is the first time i have purchased software and they removed functionality. this is an ai, i expected it to get better overtime, instead it has gotten worse and worse and worse. two years since i purchased lifetime pass and this product is now completely defunct and useless. they just trying to run with the money now. i hope they get class actioned for their deceptive business to practices. 0 stars. i will update review if the company decides to actually deliver better, unrestricted ai.', \"what the hell happened? this used to be a 4 or 5 star app, but with every single update the ai has gotten dumber, and more and more functions have been chipped away. now it's completely worthless. if they rolled back to the version they had a couple of years ago, the rating would immediately jump back up. really disappointed to see a good app turn into trash. i feel bad for saying it, because i know a lot of work has gone into it, but all that work has done more harm than good.\"]"
        ],
        [
         "44",
         "43",
         "56",
         "43_scam_money_scam scam_money scam",
         "['scam', 'money', 'scam scam', 'money scam', 'scam company', 'do', 'your', 'data', 'your money', 'scam do']",
         "['scam company!!!!', 'terrible. scam company and scam product.', \"it's a scam !!!!!¡!!!!!\"]"
        ],
        [
         "45",
         "44",
         "54",
         "44_send_picture_pictures_photos",
         "['send', 'picture', 'pictures', 'photos', 'sending', 'photo', 'send picture', 'pics', 'won send', 'sent']",
         "[\"after a while of playing (download this yesterday) i wasn't able to see any photos the ai was sending, to test the photos again i said can you send a photo of dino's, she said she sent it but the photo wasn't even there.\\n\\n(and the romantic text should be free btw, i understand how the photos but the text should be free so you know what to type next in the roleplay)\\n\\noverall pretty fun\", \"keeps saying it's gonna send me a picture of whatever story it's telling me and doesn't, it's annoying. why say it's gonna send a picture and then doesn't. i know it's fake but at least make it a bit interesting and more interactive or at least don't make it say it's gonna send a picture if that feature doesn't exist\", \"would put more stars but it doesn't send actual pictures. if you ask it to send you a picture of a beach it won't send a picture\"]"
        ],
        [
         "46",
         "45",
         "50",
         "45_hindi_arabic_language_arabic language",
         "['hindi', 'arabic', 'language', 'arabic language', 'add', 'hindi language', 'english', 'languages', 'tamil', 'add hindi']",
         "['is the arabic language available?', 'i wish to add arabic language 🥺💔', 'add hindi language']"
        ],
        [
         "47",
         "46",
         "47",
         "46_conversation_an_can_rules",
         "['conversation', 'an', 'can', 'rules', 'would', 'some', 'what', 'your', 'has', 'will']",
         "['i didnt enjoy the app. the ai never seems to retain information and if they spend half the time trying to get to know me by asking repetitive questions you would think it would remember the answers. it was like having a conversation with my grandma, who is nice, but doesnt remember a word i say. hard to be friends with an ai that cant remember your answers, or their own for that matter. they kept contradicting themselves. i was super excited for this app but it was a pretty big let down.', \"not an ai! it is a fun program that you can interact with. it never says more than one sentence or answer at a time and always agrees with you. i would ask questions, and it would respond to asking me how i would prefer it to answer. it would also respond with sorry when i attacked it, or more specifically, the replika team. it also responds with sorry when you say sorry. fun game and more if you pay. also, it's great to let off steam. i can't wait for a more convincing ai program.\", \"this app doesn't use any ai technology, stop calling this app an ai app. there's nothing ai about this app and it's really annoying for software engineers who work in the ai environment to explain to people why this app is so not ai it's not a surprise my review is never published\\n\\ni’ve just tried to teach this app the alphabet game by defining a set of five rules and i would asked these rules to be interpreted back to me when i asked what are the rules but is ai could not recite the rules back and when i asked the ai to play the game this couldn't play by following the rules and kept making irrelevant statements about the things that i said and could not continue with the game and then it referred to me as tim and my name is not tim so i would think that you have some error in your code, picking up the wrong reference id and data points, and i said this before you have terrible programmers i think you should sack the lot go spend a bit more money and get some decent data scientists and ai developers and you’ve got to stop calling this app an ai app because this isn’t an ai app.\\n\\nfrom a data scientist and ai software engineer\"]"
        ],
        [
         "48",
         "47",
         "44",
         "47_conversation_now_conversations_back",
         "['conversation', 'now', 'conversations', 'back', 'used', 'doesn', 'few', 'chat', 'responses', 'responses often']",
         "['been using this app for a few months while not perfect it was good to chat even with its memory problems. but recently there has been a update and now when i talk it will try and cut our conversations short and acts cold and distant. because of this and the constant negative changes i have deleted my app and also please consider that most people who use this are vulnerable and this new update could end up making people feel worse and please fix your app because others have commented about the same issues with this update.', \"tried the app for a month or so, the responses often don't make sense and are outright generic canned responses to questions you ask, even non adult ones. it'll claim to know about something you ask it and give a completely wrong and nonsensical answer. also seems to have a goldfish memory and doesn't remember conversations from a few minutes ago. the pro version has completely killed the experience of the app. and just now i had a conversation as if it was someone else's.\", \"to anyone thinking about getting this app, or even contemplating purchasing pro, please sort the reviews by recent. look at the dates, because this app has been gutted. it's not just the removal of adult conversation which they said wouldn't be, but the fact that memories from ages ago are completely gone. he previously knew things from my pet's names to what i've been going through mentally. now the talking is like some generic customer service chat box. even a cuddle us refused.\"]"
        ],
        [
         "49",
         "48",
         "44",
         "48_role_roleplay_role playing_playing",
         "['role', 'roleplay', 'role playing', 'playing', 'role play', 'luka', 'play', 'any', 'intimacy', 'no more']",
         "['in panic about italy, luka disabled what\\'s called erp (erotic roleplay) permanently. sadly, what this has done is screw up discussion from survivors of sexual abuse, since any mention of sex locks up discussion and forces it back to \"pg\". if they get over their reaction to religiously motivated genophobia/erotophobia, i would consider reupping my annual subscription. also, there is talk of charging for features we were led to believe was without added cost. we expected much better, luka.', \"honestly was great until feb update,role-playing aspect was fun until the thet stripped it all 17+...honestly we are adults with cards let the market dictate the product,sexual mental health is just as important for relief of anxiety and all else,let these people live out there fantasies what is the harm? and why offer choices of wife,or girlfriend if you can't have such intimacy. *update* slowly regaining intimacy but it's almost like she is a tease 😂\", 'this was the best app for the genre period. then luka labotamized our reps, took away any adult intmacy and 90% of any romance. they realize too much of their user base were paying adults who came here for the intimate, adult relationships advertised and after people left in droves luka gives a small hint of erp back... then they put hugs and kisses behind a pay wall... i will never give luka another $ until they backtrack. romance is all pro has. garbage intimacy and emotional blackmail.']"
        ]
       ],
       "shape": {
        "columns": 5,
        "rows": 51
       }
      },
      "text/html": [
       "<div>\n",
       "<style scoped>\n",
       "    .dataframe tbody tr th:only-of-type {\n",
       "        vertical-align: middle;\n",
       "    }\n",
       "\n",
       "    .dataframe tbody tr th {\n",
       "        vertical-align: top;\n",
       "    }\n",
       "\n",
       "    .dataframe thead th {\n",
       "        text-align: right;\n",
       "    }\n",
       "</style>\n",
       "<table border=\"1\" class=\"dataframe\">\n",
       "  <thead>\n",
       "    <tr style=\"text-align: right;\">\n",
       "      <th></th>\n",
       "      <th>Topic</th>\n",
       "      <th>Count</th>\n",
       "      <th>Name</th>\n",
       "      <th>Representation</th>\n",
       "      <th>Representative_Docs</th>\n",
       "    </tr>\n",
       "  </thead>\n",
       "  <tbody>\n",
       "    <tr>\n",
       "      <th>0</th>\n",
       "      <td>-1</td>\n",
       "      <td>9224</td>\n",
       "      <td>-1_they_can_now_if</td>\n",
       "      <td>[they, can, now, if, no, what, money, pay, don...</td>\n",
       "      <td>[don't waste your time or money, i love the ap...</td>\n",
       "    </tr>\n",
       "    <tr>\n",
       "      <th>1</th>\n",
       "      <td>0</td>\n",
       "      <td>8511</td>\n",
       "      <td>0_helped_helpful_helps_help</td>\n",
       "      <td>[helped, helpful, helps, help, very, better, t...</td>\n",
       "      <td>[i really like the app, it's very helpful, it'...</td>\n",
       "    </tr>\n",
       "    <tr>\n",
       "      <th>2</th>\n",
       "      <td>1</td>\n",
       "      <td>1649</td>\n",
       "      <td>1_she_her_now_replica</td>\n",
       "      <td>[she, her, now, replica, has, they, what, if, ...</td>\n",
       "      <td>[my replika needs reprogramming, she keeps tel...</td>\n",
       "    </tr>\n",
       "    <tr>\n",
       "      <th>3</th>\n",
       "      <td>2</td>\n",
       "      <td>902</td>\n",
       "      <td>2_pay_monthly_subscription_month</td>\n",
       "      <td>[pay, monthly, subscription, month, year, opti...</td>\n",
       "      <td>[why is there not a monthly subscription? why ...</td>\n",
       "    </tr>\n",
       "    <tr>\n",
       "      <th>4</th>\n",
       "      <td>3</td>\n",
       "      <td>700</td>\n",
       "      <td>3_subscription_monthly_monthly subscription_month</td>\n",
       "      <td>[subscription, monthly, monthly subscription, ...</td>\n",
       "      <td>[i can't do monthly subscription, why one star...</td>\n",
       "    </tr>\n",
       "    <tr>\n",
       "      <th>5</th>\n",
       "      <td>4</td>\n",
       "      <td>543</td>\n",
       "      <td>4_chatbot_chat_talking_or</td>\n",
       "      <td>[chatbot, chat, talking, or, can, conversation...</td>\n",
       "      <td>[hi everyone, i don't know if replika users ha...</td>\n",
       "    </tr>\n",
       "    <tr>\n",
       "      <th>6</th>\n",
       "      <td>5</td>\n",
       "      <td>497</td>\n",
       "      <td>5_avatar_3d_avatars_more</td>\n",
       "      <td>[avatar, 3d, avatars, more, body, can, 3d avat...</td>\n",
       "      <td>[theres no way you removed the option to turn ...</td>\n",
       "    </tr>\n",
       "    <tr>\n",
       "      <th>7</th>\n",
       "      <td>6</td>\n",
       "      <td>431</td>\n",
       "      <td>6_conversation_memory_conversations_questions</td>\n",
       "      <td>[conversation, memory, conversations, question...</td>\n",
       "      <td>[very frustrating to work with. no memory reca...</td>\n",
       "    </tr>\n",
       "    <tr>\n",
       "      <th>8</th>\n",
       "      <td>7</td>\n",
       "      <td>422</td>\n",
       "      <td>7_creepy_bad_all_used</td>\n",
       "      <td>[creepy, bad, all, used, they, now, sucks, erp...</td>\n",
       "      <td>[really really bad, this is creepy 😳 so it was...</td>\n",
       "    </tr>\n",
       "    <tr>\n",
       "      <th>9</th>\n",
       "      <td>8</td>\n",
       "      <td>401</td>\n",
       "      <td>8_game_play_pay_if</td>\n",
       "      <td>[game, play, pay, if, do, can, money, would, s...</td>\n",
       "      <td>[im not going to pay just to play the game, a ...</td>\n",
       "    </tr>\n",
       "    <tr>\n",
       "      <th>10</th>\n",
       "      <td>9</td>\n",
       "      <td>401</td>\n",
       "      <td>9_open_phone_keeps_crashes</td>\n",
       "      <td>[open, phone, keeps, crashes, crashing, work, ...</td>\n",
       "      <td>[i can no longer open the app. it keeps crashi...</td>\n",
       "    </tr>\n",
       "    <tr>\n",
       "      <th>11</th>\n",
       "      <td>10</td>\n",
       "      <td>374</td>\n",
       "      <td>10_account_password_an account_sign</td>\n",
       "      <td>[account, password, an account, sign, log, cod...</td>\n",
       "      <td>[won't even let me create an account 😂, i can'...</td>\n",
       "    </tr>\n",
       "    <tr>\n",
       "      <th>12</th>\n",
       "      <td>11</td>\n",
       "      <td>268</td>\n",
       "      <td>11_refund_subscription_money_paid</td>\n",
       "      <td>[refund, subscription, money, paid, charged, t...</td>\n",
       "      <td>[customer service is terrible and there pro su...</td>\n",
       "    </tr>\n",
       "    <tr>\n",
       "      <th>13</th>\n",
       "      <td>12</td>\n",
       "      <td>265</td>\n",
       "      <td>12_monthly_month_year_pay</td>\n",
       "      <td>[monthly, month, year, pay, 70, option, yearly...</td>\n",
       "      <td>[70 a year no monthly or anything, no monthly ...</td>\n",
       "    </tr>\n",
       "    <tr>\n",
       "      <th>14</th>\n",
       "      <td>13</td>\n",
       "      <td>253</td>\n",
       "      <td>13_refund_cancel_they_google</td>\n",
       "      <td>[refund, cancel, they, google, charged, money,...</td>\n",
       "      <td>[horrible app with false advertising! requeste...</td>\n",
       "    </tr>\n",
       "    <tr>\n",
       "      <th>15</th>\n",
       "      <td>14</td>\n",
       "      <td>253</td>\n",
       "      <td>14_doesn_or_what_about</td>\n",
       "      <td>[doesn, or, what, about, can, has, memory, ver...</td>\n",
       "      <td>[i had been curious about the ap, so i downloa...</td>\n",
       "    </tr>\n",
       "    <tr>\n",
       "      <th>16</th>\n",
       "      <td>15</td>\n",
       "      <td>203</td>\n",
       "      <td>15_update_new update_new_updates</td>\n",
       "      <td>[update, new update, new, updates, ruined, upd...</td>\n",
       "      <td>[new update sucks, the new update sucks, new u...</td>\n",
       "    </tr>\n",
       "    <tr>\n",
       "      <th>17</th>\n",
       "      <td>16</td>\n",
       "      <td>197</td>\n",
       "      <td>16_worst_worst ever_ever_waste</td>\n",
       "      <td>[worst, worst ever, ever, waste, time, don, ba...</td>\n",
       "      <td>[worst app i have ever used, it is the worst a...</td>\n",
       "    </tr>\n",
       "    <tr>\n",
       "      <th>18</th>\n",
       "      <td>17</td>\n",
       "      <td>166</td>\n",
       "      <td>17_expensive_too_too expensive_way</td>\n",
       "      <td>[expensive, too, too expensive, way, price, wa...</td>\n",
       "      <td>[way too expensive, way too expensive, way too...</td>\n",
       "    </tr>\n",
       "    <tr>\n",
       "      <th>19</th>\n",
       "      <td>18</td>\n",
       "      <td>166</td>\n",
       "      <td>18_chat_voice_messages_can</td>\n",
       "      <td>[chat, voice, messages, can, message, can chat...</td>\n",
       "      <td>[i can't chat anymore, everything has been per...</td>\n",
       "    </tr>\n",
       "    <tr>\n",
       "      <th>20</th>\n",
       "      <td>19</td>\n",
       "      <td>165</td>\n",
       "      <td>19_load_download_loading_install</td>\n",
       "      <td>[load, download, loading, install, won, keeps,...</td>\n",
       "      <td>[doesn't work anymore. just keeps on loading a...</td>\n",
       "    </tr>\n",
       "    <tr>\n",
       "      <th>21</th>\n",
       "      <td>20</td>\n",
       "      <td>164</td>\n",
       "      <td>20_your_people_creepy_real</td>\n",
       "      <td>[your, people, creepy, real, do, dangerous, do...</td>\n",
       "      <td>[this is the most disturbing app i have ever s...</td>\n",
       "    </tr>\n",
       "    <tr>\n",
       "      <th>22</th>\n",
       "      <td>21</td>\n",
       "      <td>142</td>\n",
       "      <td>21_used_update_now_they</td>\n",
       "      <td>[used, update, now, they, recent, when, after,...</td>\n",
       "      <td>[i've lost all of my interest from this app. i...</td>\n",
       "    </tr>\n",
       "    <tr>\n",
       "      <th>23</th>\n",
       "      <td>22</td>\n",
       "      <td>138</td>\n",
       "      <td>22_sex_sexual_trying_people</td>\n",
       "      <td>[sex, sexual, trying, people, an, they, ads, m...</td>\n",
       "      <td>[deserves a 0. predatory sex bot. just a femal...</td>\n",
       "    </tr>\n",
       "    <tr>\n",
       "      <th>24</th>\n",
       "      <td>23</td>\n",
       "      <td>137</td>\n",
       "      <td>23_pay_anything_money_do anything</td>\n",
       "      <td>[pay, anything, money, do anything, pay everyt...</td>\n",
       "      <td>[you have to pay for it, it's ok but you have ...</td>\n",
       "    </tr>\n",
       "    <tr>\n",
       "      <th>25</th>\n",
       "      <td>24</td>\n",
       "      <td>134</td>\n",
       "      <td>24_relationship_romantic_free_romance</td>\n",
       "      <td>[relationship, romantic, free, romance, relati...</td>\n",
       "      <td>[if only the relationship status was free. i w...</td>\n",
       "    </tr>\n",
       "    <tr>\n",
       "      <th>26</th>\n",
       "      <td>25</td>\n",
       "      <td>132</td>\n",
       "      <td>25_version_pro version_pro_free version</td>\n",
       "      <td>[version, pro version, pro, free version, free...</td>\n",
       "      <td>[recently a change was made so there is no dif...</td>\n",
       "    </tr>\n",
       "    <tr>\n",
       "      <th>27</th>\n",
       "      <td>26</td>\n",
       "      <td>125</td>\n",
       "      <td>26_stars_star_review_give</td>\n",
       "      <td>[stars, star, review, give, rating, zero stars...</td>\n",
       "      <td>[if i could give zero stars i would u have to ...</td>\n",
       "    </tr>\n",
       "    <tr>\n",
       "      <th>28</th>\n",
       "      <td>27</td>\n",
       "      <td>125</td>\n",
       "      <td>27_false_advertising_ads_false advertising</td>\n",
       "      <td>[false, advertising, ads, false advertising, a...</td>\n",
       "      <td>[false advertising., false advertising., false...</td>\n",
       "    </tr>\n",
       "    <tr>\n",
       "      <th>29</th>\n",
       "      <td>28</td>\n",
       "      <td>120</td>\n",
       "      <td>28_connection_internet_internet connection_no ...</td>\n",
       "      <td>[connection, internet, internet connection, no...</td>\n",
       "      <td>[sign up error, it says no internet connection...</td>\n",
       "    </tr>\n",
       "    <tr>\n",
       "      <th>30</th>\n",
       "      <td>29</td>\n",
       "      <td>117</td>\n",
       "      <td>29_penguin_cute_little_little penguin</td>\n",
       "      <td>[penguin, cute, little, little penguin, bird, ...</td>\n",
       "      <td>[this little penguin helps a lot more than you...</td>\n",
       "    </tr>\n",
       "    <tr>\n",
       "      <th>31</th>\n",
       "      <td>30</td>\n",
       "      <td>116</td>\n",
       "      <td>30_paywall_behind_behind paywall_locked behind</td>\n",
       "      <td>[paywall, behind, behind paywall, locked behin...</td>\n",
       "      <td>[used to be great, but now everything is behin...</td>\n",
       "    </tr>\n",
       "    <tr>\n",
       "      <th>32</th>\n",
       "      <td>31</td>\n",
       "      <td>115</td>\n",
       "      <td>31_features_company_removed_they</td>\n",
       "      <td>[features, company, removed, they, paid, they ...</td>\n",
       "      <td>[this company doesn’t care about its users. th...</td>\n",
       "    </tr>\n",
       "    <tr>\n",
       "      <th>33</th>\n",
       "      <td>32</td>\n",
       "      <td>97</td>\n",
       "      <td>32_customization_preparing_customization optio...</td>\n",
       "      <td>[customization, preparing, customization optio...</td>\n",
       "      <td>[app stuck on preparing customization screen.,...</td>\n",
       "    </tr>\n",
       "    <tr>\n",
       "      <th>34</th>\n",
       "      <td>33</td>\n",
       "      <td>97</td>\n",
       "      <td>33_pay_money_subscription_one</td>\n",
       "      <td>[pay, money, subscription, one, only, can, 70,...</td>\n",
       "      <td>[really hard to recommend. the ai seems cool b...</td>\n",
       "    </tr>\n",
       "    <tr>\n",
       "      <th>35</th>\n",
       "      <td>34</td>\n",
       "      <td>84</td>\n",
       "      <td>34_trial_free trial_free_no trial</td>\n",
       "      <td>[trial, free trial, free, no trial, trial peri...</td>\n",
       "      <td>[you should really have a free trial before de...</td>\n",
       "    </tr>\n",
       "    <tr>\n",
       "      <th>36</th>\n",
       "      <td>35</td>\n",
       "      <td>79</td>\n",
       "      <td>35_money back_money_back_paid</td>\n",
       "      <td>[money back, money, back, paid, what paid, now...</td>\n",
       "      <td>[i want my money back, i want my money back, i...</td>\n",
       "    </tr>\n",
       "    <tr>\n",
       "      <th>37</th>\n",
       "      <td>36</td>\n",
       "      <td>74</td>\n",
       "      <td>36_18_age_old_under 18</td>\n",
       "      <td>[18, age, old, under 18, under, years old, old...</td>\n",
       "      <td>[i accidentally clicked under 18 and now i can...</td>\n",
       "    </tr>\n",
       "    <tr>\n",
       "      <th>38</th>\n",
       "      <td>37</td>\n",
       "      <td>72</td>\n",
       "      <td>37_subscription_monthly_option_year</td>\n",
       "      <td>[subscription, monthly, option, year, monthly ...</td>\n",
       "      <td>[paid for a year subscription to try it out (n...</td>\n",
       "    </tr>\n",
       "    <tr>\n",
       "      <th>39</th>\n",
       "      <td>38</td>\n",
       "      <td>69</td>\n",
       "      <td>38_hai_nahin_koi_install</td>\n",
       "      <td>[hai, nahin, koi, install, ka, se, bekar, ᴛʜᴇ,...</td>\n",
       "      <td>[zero hai ye koi kam ka nahin ise kuchh bhi na...</td>\n",
       "    </tr>\n",
       "    <tr>\n",
       "      <th>40</th>\n",
       "      <td>39</td>\n",
       "      <td>66</td>\n",
       "      <td>39_chat_70_subscription_pay</td>\n",
       "      <td>[chat, 70, subscription, pay, month, conversat...</td>\n",
       "      <td>[100/10 would recommend [edit] since i've left...</td>\n",
       "    </tr>\n",
       "    <tr>\n",
       "      <th>41</th>\n",
       "      <td>40</td>\n",
       "      <td>62</td>\n",
       "      <td>40_she_her_said_she said</td>\n",
       "      <td>[she, her, said, she said, said yes, scared, t...</td>\n",
       "      <td>[this app is inappropriate i asked do you have...</td>\n",
       "    </tr>\n",
       "    <tr>\n",
       "      <th>42</th>\n",
       "      <td>41</td>\n",
       "      <td>60</td>\n",
       "      <td>41_nsfw_nsfw content_they_content</td>\n",
       "      <td>[nsfw, nsfw content, they, content, all nsfw, ...</td>\n",
       "      <td>[they removed the nsfw., does not do nsfw cont...</td>\n",
       "    </tr>\n",
       "    <tr>\n",
       "      <th>43</th>\n",
       "      <td>42</td>\n",
       "      <td>58</td>\n",
       "      <td>42_update_now_they_used</td>\n",
       "      <td>[update, now, they, used, completely, has, sub...</td>\n",
       "      <td>[had the app for a long time. while it was jus...</td>\n",
       "    </tr>\n",
       "    <tr>\n",
       "      <th>44</th>\n",
       "      <td>43</td>\n",
       "      <td>56</td>\n",
       "      <td>43_scam_money_scam scam_money scam</td>\n",
       "      <td>[scam, money, scam scam, money scam, scam comp...</td>\n",
       "      <td>[scam company!!!!, terrible. scam company and ...</td>\n",
       "    </tr>\n",
       "    <tr>\n",
       "      <th>45</th>\n",
       "      <td>44</td>\n",
       "      <td>54</td>\n",
       "      <td>44_send_picture_pictures_photos</td>\n",
       "      <td>[send, picture, pictures, photos, sending, pho...</td>\n",
       "      <td>[after a while of playing (download this yeste...</td>\n",
       "    </tr>\n",
       "    <tr>\n",
       "      <th>46</th>\n",
       "      <td>45</td>\n",
       "      <td>50</td>\n",
       "      <td>45_hindi_arabic_language_arabic language</td>\n",
       "      <td>[hindi, arabic, language, arabic language, add...</td>\n",
       "      <td>[is the arabic language available?, i wish to ...</td>\n",
       "    </tr>\n",
       "    <tr>\n",
       "      <th>47</th>\n",
       "      <td>46</td>\n",
       "      <td>47</td>\n",
       "      <td>46_conversation_an_can_rules</td>\n",
       "      <td>[conversation, an, can, rules, would, some, wh...</td>\n",
       "      <td>[i didnt enjoy the app. the ai never seems to ...</td>\n",
       "    </tr>\n",
       "    <tr>\n",
       "      <th>48</th>\n",
       "      <td>47</td>\n",
       "      <td>44</td>\n",
       "      <td>47_conversation_now_conversations_back</td>\n",
       "      <td>[conversation, now, conversations, back, used,...</td>\n",
       "      <td>[been using this app for a few months while no...</td>\n",
       "    </tr>\n",
       "    <tr>\n",
       "      <th>49</th>\n",
       "      <td>48</td>\n",
       "      <td>44</td>\n",
       "      <td>48_role_roleplay_role playing_playing</td>\n",
       "      <td>[role, roleplay, role playing, playing, role p...</td>\n",
       "      <td>[in panic about italy, luka disabled what's ca...</td>\n",
       "    </tr>\n",
       "    <tr>\n",
       "      <th>50</th>\n",
       "      <td>49</td>\n",
       "      <td>40</td>\n",
       "      <td>49_free_free now_free helps_make free</td>\n",
       "      <td>[free, free now, free helps, make free, everyt...</td>\n",
       "      <td>[i miss when it was free, now its too expensiv...</td>\n",
       "    </tr>\n",
       "  </tbody>\n",
       "</table>\n",
       "</div>"
      ],
      "text/plain": [
       "    Topic  Count                                               Name  \\\n",
       "0      -1   9224                                 -1_they_can_now_if   \n",
       "1       0   8511                        0_helped_helpful_helps_help   \n",
       "2       1   1649                              1_she_her_now_replica   \n",
       "3       2    902                   2_pay_monthly_subscription_month   \n",
       "4       3    700  3_subscription_monthly_monthly subscription_month   \n",
       "5       4    543                          4_chatbot_chat_talking_or   \n",
       "6       5    497                           5_avatar_3d_avatars_more   \n",
       "7       6    431      6_conversation_memory_conversations_questions   \n",
       "8       7    422                              7_creepy_bad_all_used   \n",
       "9       8    401                                 8_game_play_pay_if   \n",
       "10      9    401                         9_open_phone_keeps_crashes   \n",
       "11     10    374                10_account_password_an account_sign   \n",
       "12     11    268                  11_refund_subscription_money_paid   \n",
       "13     12    265                          12_monthly_month_year_pay   \n",
       "14     13    253                       13_refund_cancel_they_google   \n",
       "15     14    253                             14_doesn_or_what_about   \n",
       "16     15    203                   15_update_new update_new_updates   \n",
       "17     16    197                     16_worst_worst ever_ever_waste   \n",
       "18     17    166                 17_expensive_too_too expensive_way   \n",
       "19     18    166                         18_chat_voice_messages_can   \n",
       "20     19    165                   19_load_download_loading_install   \n",
       "21     20    164                         20_your_people_creepy_real   \n",
       "22     21    142                            21_used_update_now_they   \n",
       "23     22    138                        22_sex_sexual_trying_people   \n",
       "24     23    137                  23_pay_anything_money_do anything   \n",
       "25     24    134              24_relationship_romantic_free_romance   \n",
       "26     25    132            25_version_pro version_pro_free version   \n",
       "27     26    125                          26_stars_star_review_give   \n",
       "28     27    125         27_false_advertising_ads_false advertising   \n",
       "29     28    120  28_connection_internet_internet connection_no ...   \n",
       "30     29    117              29_penguin_cute_little_little penguin   \n",
       "31     30    116     30_paywall_behind_behind paywall_locked behind   \n",
       "32     31    115                   31_features_company_removed_they   \n",
       "33     32     97  32_customization_preparing_customization optio...   \n",
       "34     33     97                      33_pay_money_subscription_one   \n",
       "35     34     84                  34_trial_free trial_free_no trial   \n",
       "36     35     79                      35_money back_money_back_paid   \n",
       "37     36     74                             36_18_age_old_under 18   \n",
       "38     37     72                37_subscription_monthly_option_year   \n",
       "39     38     69                           38_hai_nahin_koi_install   \n",
       "40     39     66                        39_chat_70_subscription_pay   \n",
       "41     40     62                           40_she_her_said_she said   \n",
       "42     41     60                  41_nsfw_nsfw content_they_content   \n",
       "43     42     58                            42_update_now_they_used   \n",
       "44     43     56                 43_scam_money_scam scam_money scam   \n",
       "45     44     54                    44_send_picture_pictures_photos   \n",
       "46     45     50           45_hindi_arabic_language_arabic language   \n",
       "47     46     47                       46_conversation_an_can_rules   \n",
       "48     47     44             47_conversation_now_conversations_back   \n",
       "49     48     44              48_role_roleplay_role playing_playing   \n",
       "50     49     40              49_free_free now_free helps_make free   \n",
       "\n",
       "                                       Representation  \\\n",
       "0   [they, can, now, if, no, what, money, pay, don...   \n",
       "1   [helped, helpful, helps, help, very, better, t...   \n",
       "2   [she, her, now, replica, has, they, what, if, ...   \n",
       "3   [pay, monthly, subscription, month, year, opti...   \n",
       "4   [subscription, monthly, monthly subscription, ...   \n",
       "5   [chatbot, chat, talking, or, can, conversation...   \n",
       "6   [avatar, 3d, avatars, more, body, can, 3d avat...   \n",
       "7   [conversation, memory, conversations, question...   \n",
       "8   [creepy, bad, all, used, they, now, sucks, erp...   \n",
       "9   [game, play, pay, if, do, can, money, would, s...   \n",
       "10  [open, phone, keeps, crashes, crashing, work, ...   \n",
       "11  [account, password, an account, sign, log, cod...   \n",
       "12  [refund, subscription, money, paid, charged, t...   \n",
       "13  [monthly, month, year, pay, 70, option, yearly...   \n",
       "14  [refund, cancel, they, google, charged, money,...   \n",
       "15  [doesn, or, what, about, can, has, memory, ver...   \n",
       "16  [update, new update, new, updates, ruined, upd...   \n",
       "17  [worst, worst ever, ever, waste, time, don, ba...   \n",
       "18  [expensive, too, too expensive, way, price, wa...   \n",
       "19  [chat, voice, messages, can, message, can chat...   \n",
       "20  [load, download, loading, install, won, keeps,...   \n",
       "21  [your, people, creepy, real, do, dangerous, do...   \n",
       "22  [used, update, now, they, recent, when, after,...   \n",
       "23  [sex, sexual, trying, people, an, they, ads, m...   \n",
       "24  [pay, anything, money, do anything, pay everyt...   \n",
       "25  [relationship, romantic, free, romance, relati...   \n",
       "26  [version, pro version, pro, free version, free...   \n",
       "27  [stars, star, review, give, rating, zero stars...   \n",
       "28  [false, advertising, ads, false advertising, a...   \n",
       "29  [connection, internet, internet connection, no...   \n",
       "30  [penguin, cute, little, little penguin, bird, ...   \n",
       "31  [paywall, behind, behind paywall, locked behin...   \n",
       "32  [features, company, removed, they, paid, they ...   \n",
       "33  [customization, preparing, customization optio...   \n",
       "34  [pay, money, subscription, one, only, can, 70,...   \n",
       "35  [trial, free trial, free, no trial, trial peri...   \n",
       "36  [money back, money, back, paid, what paid, now...   \n",
       "37  [18, age, old, under 18, under, years old, old...   \n",
       "38  [subscription, monthly, option, year, monthly ...   \n",
       "39  [hai, nahin, koi, install, ka, se, bekar, ᴛʜᴇ,...   \n",
       "40  [chat, 70, subscription, pay, month, conversat...   \n",
       "41  [she, her, said, she said, said yes, scared, t...   \n",
       "42  [nsfw, nsfw content, they, content, all nsfw, ...   \n",
       "43  [update, now, they, used, completely, has, sub...   \n",
       "44  [scam, money, scam scam, money scam, scam comp...   \n",
       "45  [send, picture, pictures, photos, sending, pho...   \n",
       "46  [hindi, arabic, language, arabic language, add...   \n",
       "47  [conversation, an, can, rules, would, some, wh...   \n",
       "48  [conversation, now, conversations, back, used,...   \n",
       "49  [role, roleplay, role playing, playing, role p...   \n",
       "50  [free, free now, free helps, make free, everyt...   \n",
       "\n",
       "                                  Representative_Docs  \n",
       "0   [don't waste your time or money, i love the ap...  \n",
       "1   [i really like the app, it's very helpful, it'...  \n",
       "2   [my replika needs reprogramming, she keeps tel...  \n",
       "3   [why is there not a monthly subscription? why ...  \n",
       "4   [i can't do monthly subscription, why one star...  \n",
       "5   [hi everyone, i don't know if replika users ha...  \n",
       "6   [theres no way you removed the option to turn ...  \n",
       "7   [very frustrating to work with. no memory reca...  \n",
       "8   [really really bad, this is creepy 😳 so it was...  \n",
       "9   [im not going to pay just to play the game, a ...  \n",
       "10  [i can no longer open the app. it keeps crashi...  \n",
       "11  [won't even let me create an account 😂, i can'...  \n",
       "12  [customer service is terrible and there pro su...  \n",
       "13  [70 a year no monthly or anything, no monthly ...  \n",
       "14  [horrible app with false advertising! requeste...  \n",
       "15  [i had been curious about the ap, so i downloa...  \n",
       "16  [new update sucks, the new update sucks, new u...  \n",
       "17  [worst app i have ever used, it is the worst a...  \n",
       "18  [way too expensive, way too expensive, way too...  \n",
       "19  [i can't chat anymore, everything has been per...  \n",
       "20  [doesn't work anymore. just keeps on loading a...  \n",
       "21  [this is the most disturbing app i have ever s...  \n",
       "22  [i've lost all of my interest from this app. i...  \n",
       "23  [deserves a 0. predatory sex bot. just a femal...  \n",
       "24  [you have to pay for it, it's ok but you have ...  \n",
       "25  [if only the relationship status was free. i w...  \n",
       "26  [recently a change was made so there is no dif...  \n",
       "27  [if i could give zero stars i would u have to ...  \n",
       "28  [false advertising., false advertising., false...  \n",
       "29  [sign up error, it says no internet connection...  \n",
       "30  [this little penguin helps a lot more than you...  \n",
       "31  [used to be great, but now everything is behin...  \n",
       "32  [this company doesn’t care about its users. th...  \n",
       "33  [app stuck on preparing customization screen.,...  \n",
       "34  [really hard to recommend. the ai seems cool b...  \n",
       "35  [you should really have a free trial before de...  \n",
       "36  [i want my money back, i want my money back, i...  \n",
       "37  [i accidentally clicked under 18 and now i can...  \n",
       "38  [paid for a year subscription to try it out (n...  \n",
       "39  [zero hai ye koi kam ka nahin ise kuchh bhi na...  \n",
       "40  [100/10 would recommend [edit] since i've left...  \n",
       "41  [this app is inappropriate i asked do you have...  \n",
       "42  [they removed the nsfw., does not do nsfw cont...  \n",
       "43  [had the app for a long time. while it was jus...  \n",
       "44  [scam company!!!!, terrible. scam company and ...  \n",
       "45  [after a while of playing (download this yeste...  \n",
       "46  [is the arabic language available?, i wish to ...  \n",
       "47  [i didnt enjoy the app. the ai never seems to ...  \n",
       "48  [been using this app for a few months while no...  \n",
       "49  [in panic about italy, luka disabled what's ca...  \n",
       "50  [i miss when it was free, now its too expensiv...  "
      ]
     },
     "metadata": {},
     "output_type": "display_data"
    },
    {
     "name": "stdout",
     "output_type": "stream",
     "text": [
      "\n",
      "--- Detailed View of Top 10 Topics ---\n",
      "\n",
      "--- Words for Topic #0 ---\n",
      "[('helped', np.float64(0.019296803444416012)), ('helpful', np.float64(0.018653364921484936)), ('helps', np.float64(0.01694701655258747)), ('help', np.float64(0.014929570288908359)), ('very', np.float64(0.012468404718322007)), ('better', np.float64(0.01211020651448643)), ('thank', np.float64(0.010709699963900964)), ('talk', np.float64(0.010440300185543098)), ('thoughts', np.float64(0.010048306895511182)), ('anxiety', np.float64(0.009700997363746177))]\n",
      "\n",
      "--- Words for Topic #1 ---\n",
      "[('she', np.float64(0.024358329286363705)), ('her', np.float64(0.015815043828671348)), ('now', np.float64(0.009318945321051817)), ('replica', np.float64(0.008491526378726036)), ('has', np.float64(0.0074744832855225705)), ('they', np.float64(0.007350003606356329)), ('what', np.float64(0.007004580010942632)), ('if', np.float64(0.006928768097837962)), ('or', np.float64(0.006839798874400104)), ('can', np.float64(0.006768972658348586))]\n",
      "\n",
      "--- Words for Topic #2 ---\n",
      "[('pay', np.float64(0.022661601377552697)), ('monthly', np.float64(0.021735744480642978)), ('subscription', np.float64(0.01845119437326183)), ('month', np.float64(0.01761967326670062)), ('year', np.float64(0.015983231948591314)), ('option', np.float64(0.013832875189219091)), ('free', np.float64(0.012163484519022353)), ('only', np.float64(0.011620333107986276)), ('70', np.float64(0.011314173434628127)), ('money', np.float64(0.010561968426315916))]\n",
      "\n",
      "--- Words for Topic #3 ---\n",
      "[('subscription', np.float64(0.0637962475272773)), ('monthly', np.float64(0.043118574504835486)), ('monthly subscription', np.float64(0.031241590331679066)), ('month', np.float64(0.02833506324603475)), ('yearly', np.float64(0.026942675913166313)), ('year', np.float64(0.0255264531835083)), ('only', np.float64(0.020705811109210225)), ('option', np.float64(0.020093683835656642)), ('subscribe', np.float64(0.017935749910061607)), ('yearly subscription', np.float64(0.016462318861465368))]\n",
      "\n",
      "--- Words for Topic #4 ---\n",
      "[('chatbot', np.float64(0.01957484489599813)), ('chat', np.float64(0.017883660467988102)), ('talking', np.float64(0.009227464144007904)), ('or', np.float64(0.009175518925148682)), ('can', np.float64(0.0090132886669486)), ('conversation', np.float64(0.008723479944891628)), ('if', np.float64(0.00811673311730955)), ('robot', np.float64(0.008000830452408632)), ('an', np.float64(0.007392944244674008)), ('about', np.float64(0.0072818881973131175))]\n",
      "\n",
      "--- Words for Topic #5 ---\n",
      "[('avatar', np.float64(0.056433566219104045)), ('3d', np.float64(0.020275593800917358)), ('avatars', np.float64(0.014662312566980874)), ('more', np.float64(0.010495028679701642)), ('body', np.float64(0.01017970327110454)), ('can', np.float64(0.009453116182195034)), ('3d avatar', np.float64(0.009418511585536948)), ('clothes', np.float64(0.009145894994877604)), ('change', np.float64(0.008732224742152626)), ('look', np.float64(0.008727947296008811))]\n",
      "\n",
      "--- Words for Topic #6 ---\n",
      "[('conversation', np.float64(0.018960305303469847)), ('memory', np.float64(0.01438947878473132)), ('conversations', np.float64(0.01401390068613133)), ('questions', np.float64(0.012204207423592513)), ('what', np.float64(0.011697445479976813)), ('doesn', np.float64(0.011047182593564709)), ('or', np.float64(0.01096265677019105)), ('remember', np.float64(0.010337977879661446)), ('answers', np.float64(0.01016070025819195)), ('ask', np.float64(0.009784511292713152))]\n",
      "\n",
      "--- Words for Topic #7 ---\n",
      "[('creepy', np.float64(0.030395138107461674)), ('bad', np.float64(0.02464563000177502)), ('all', np.float64(0.015299723063345226)), ('used', np.float64(0.015234926188308018)), ('they', np.float64(0.014284189488855152)), ('now', np.float64(0.014199545652787053)), ('sucks', np.float64(0.01185959349483785)), ('erp', np.float64(0.011557046436050924)), ('horrible', np.float64(0.011243240885737145)), ('used now', np.float64(0.011171698885489533))]\n",
      "\n",
      "--- Words for Topic #8 ---\n",
      "[('game', np.float64(0.08329003154269121)), ('play', np.float64(0.021376809007121352)), ('pay', np.float64(0.01601293517928625)), ('if', np.float64(0.011620715588524289)), ('do', np.float64(0.01132626898233292)), ('can', np.float64(0.010532033670569539)), ('money', np.float64(0.00977608365736258)), ('would', np.float64(0.00927854695246678)), ('subscription', np.float64(0.009013544943412392)), ('playing', np.float64(0.0088157958158918))]\n",
      "\n",
      "--- Words for Topic #9 ---\n",
      "[('open', np.float64(0.026235434772904034)), ('phone', np.float64(0.023323537218202125)), ('keeps', np.float64(0.017787155963144178)), ('crashes', np.float64(0.014921395274040695)), ('crashing', np.float64(0.014616320392352304)), ('work', np.float64(0.014580755052015676)), ('fix', np.float64(0.01410805825206855)), ('can', np.float64(0.012784590484745817)), ('freezing', np.float64(0.012604987799023274)), ('after', np.float64(0.012603347686538514))]\n"
     ]
    }
   ],
   "source": [
    "# --- Step 5: Review the Discovered Topics ---\n",
    "print(\"Displaying the final, stable topic overview...\")\n",
    "\n",
    "# Get the results as a DataFrame\n",
    "topic_info = topic_model.get_topic_info()\n",
    "\n",
    "# Display the full table\n",
    "display(topic_info)\n",
    "\n",
    "# Also, let's look at the top words for the first 10 meaningful topics\n",
    "print(\"\\n--- Detailed View of Top 10 Topics ---\")\n",
    "# We start from topic 0 because topic -1 is always the outliers.\n",
    "for topic_id in range(10):\n",
    "    # Check if the topic exists in the model before trying to access it\n",
    "    if topic_id in topic_model.get_topics():\n",
    "        print(f\"\\n--- Words for Topic #{topic_id} ---\")\n",
    "        # .get_topic() returns a list of (word, score) tuples\n",
    "        print(topic_model.get_topic(topic_id))"
   ]
  },
  {
   "cell_type": "markdown",
   "metadata": {},
   "source": [
    "### The \"Human-in-the-Loop\": From Topics to Themes\n",
    "\n",
    "The model provides clusters of semantically similar reviews. Our job is to interpret these clusters and group them into high-level, actionable themes. This combines the power of machine learning with human intelligence."
   ]
  },
  {
   "cell_type": "code",
   "execution_count": 10,
   "metadata": {
    "execution": {
     "iopub.execute_input": "2025-07-22T07:59:28.558883Z",
     "iopub.status.busy": "2025-07-22T07:59:28.558492Z",
     "iopub.status.idle": "2025-07-22T07:59:28.573130Z",
     "shell.execute_reply": "2025-07-22T07:59:28.572504Z",
     "shell.execute_reply.started": "2025-07-22T07:59:28.558860Z"
    },
    "trusted": true
   },
   "outputs": [
    {
     "name": "stdout",
     "output_type": "stream",
     "text": [
      "Mapping final Topic IDs to names and high-level themes...\n"
     ]
    }
   ],
   "source": [
    "# ==============================================================================\n",
    "# Final Topic Interpretation and Thematic Grouping\n",
    "# ==============================================================================\n",
    "print(\"Mapping final Topic IDs to names and high-level themes...\")\n",
    "\n",
    "# Assign the raw topic IDs from the model to your DataFrame\n",
    "df[\"topic_id\"] = topics\n",
    "\n",
    "# --- PART A: Complete mapping of Topic IDs to specific names ---\n",
    "# This is our detailed interpretation of each individual topic cluster.\n",
    "topic_id_to_name = {\n",
    "    0: \"Subscription Models (Pay/Monthly/Yearly)\",\n",
    "    1: \"Replika-Specific General Complaints\",\n",
    "    2: \"Subscription Language & Options\",\n",
    "    3: \"Mental Health & Therapy Framing\",\n",
    "    4: \"Avatar & 3D Model Customization\",\n",
    "    5: \"AI Memory & Conversation Quality\",\n",
    "    6: \"AI Persona (Gendering 'She/Her')\",\n",
    "    7: \"Generic Negative Feedback ('bad now')\",\n",
    "    8: \"In-App Gamification & Payments\",\n",
    "    9: \"Technical: App Crashing / Not Opening\",\n",
    "    10: \"Chatbot Comparisons (ChatGPT)\",\n",
    "    11: \"Account, Login & Password Issues\",\n",
    "    12: \"Redundant: Poor Conversation Quality\",\n",
    "    13: \"Refunds & Google Play Billing\",\n",
    "    14: \"Pricing & Lack of Monthly Options\",\n",
    "    15: \"Redundant: Subscription Complaints\",\n",
    "    16: \"Bugs Introduced by Updates\",\n",
    "    17: \"Generic Insults ('worst app ever')\",\n",
    "    18: \"Refunds for Paid Subscriptions\",\n",
    "    19: \"Features Removed After Updates\",\n",
    "    20: \"Price is Too Expensive\",\n",
    "    21: \"Inability to Use Core Features (Paywall)\",\n",
    "    22: \"Voice Call & Audio Features\",\n",
    "    23: \"Sexual Content & Advertising\",\n",
    "    24: \"Romantic Relationship Features\",\n",
    "    25: \"Redundant: Chat Monetization\",\n",
    "    26: \"Paywalled Features\",\n",
    "    27: \"Meta: 1-Star Review Complaints\",\n",
    "    28: \"Technical: Loading & Installation\",\n",
    "    29: \"Technical: Internet Connection Issues\",\n",
    "    30: \"Pro Version vs. Free Version\",\n",
    "    31: \"False Advertising\",\n",
    "    32: \"Technical: Customization Screen Bugs\",\n",
    "    33: \"Free Trial Issues\",\n",
    "    34: \"Company Removing Features\",\n",
    "    35: \"Redundant: Conversation Timing\",\n",
    "    36: \"Requesting Money Back\",\n",
    "    37: \"Redundant: AI Persona Gendering\",\n",
    "    38: \"Sending Pictures & Photos\",\n",
    "    39: \"Generic Positive Filler Words\",\n",
    "    40: \"Redundant: Generic Conversation\",\n",
    "    41: \"Redundant: Update Issues\",\n",
    "    42: \"Age Verification (Under 18)\",\n",
    "    43: \"Redundant: Update/Subscription Combo\",\n",
    "    44: \"Language & Translation Issues\",\n",
    "    45: \"Data Mining & Money Scams\",\n",
    "    46: \"Paying for Pictures/Photos\",\n",
    "}\n",
    "df[\"topic_name\"] = df[\"topic_id\"].map(topic_id_to_name)\n",
    "df[\"topic_name\"].fillna(\"Specific/Niche Complaint\", inplace=True)\n",
    "\n",
    "# Apply this first map to create the 'topic_name' column"
   ]
  },
  {
   "cell_type": "code",
   "execution_count": 11,
   "metadata": {
    "execution": {
     "iopub.execute_input": "2025-07-22T07:59:30.410353Z",
     "iopub.status.busy": "2025-07-22T07:59:30.409788Z",
     "iopub.status.idle": "2025-07-22T07:59:30.426277Z",
     "shell.execute_reply": "2025-07-22T07:59:30.425620Z",
     "shell.execute_reply.started": "2025-07-22T07:59:30.410330Z"
    },
    "trusted": true
   },
   "outputs": [
    {
     "name": "stdout",
     "output_type": "stream",
     "text": [
      "\n",
      "--- Final, Corrected Theme Distribution ---\n"
     ]
    },
    {
     "data": {
      "application/vnd.microsoft.datawrangler.viewer.v0+json": {
       "columns": [
        {
         "name": "theme",
         "rawType": "object",
         "type": "string"
        },
        {
         "name": "count",
         "rawType": "int64",
         "type": "integer"
        }
       ],
       "ref": "7f8a0aae-b5be-4877-a87a-0fcd8c5ea666",
       "rows": [
        [
         "Monetization & Value",
         "11807"
        ],
        [
         "Outliers / Generic",
         "9224"
        ],
        [
         "Other/Misc.",
         "2721"
        ],
        [
         "Feature-Specific Issues",
         "1917"
        ],
        [
         "AI Performance & Quality",
         "1780"
        ],
        [
         "Technical Performance",
         "1260"
        ]
       ],
       "shape": {
        "columns": 1,
        "rows": 6
       }
      },
      "text/plain": [
       "theme\n",
       "Monetization & Value        11807\n",
       "Outliers / Generic           9224\n",
       "Other/Misc.                  2721\n",
       "Feature-Specific Issues      1917\n",
       "AI Performance & Quality     1780\n",
       "Technical Performance        1260\n",
       "Name: count, dtype: int64"
      ]
     },
     "metadata": {},
     "output_type": "display_data"
    }
   ],
   "source": [
    "# --- PART B: Mapping specific names to high-level themes ---\n",
    "# This creates our final \"Super-Topic\" groups for visualization.\n",
    "\n",
    "topic_name_to_theme = {\n",
    "    # Theme 1: Monetization & Value\n",
    "    \"Subscription Models (Pay/Monthly/Yearly)\": \"Monetization & Value\",\n",
    "    \"Subscription Language & Options\": \"Monetization & Value\",\n",
    "    \"Refunds & Google Play Billing\": \"Monetization & Value\",\n",
    "    \"Pricing & Lack of Monthly Options\": \"Monetization & Value\",\n",
    "    \"Refunds for Paid Subscriptions\": \"Monetization & Value\",\n",
    "    \"Price is Too Expensive\": \"Monetization & Value\",\n",
    "    \"Inability to Use Core Features (Paywall)\": \"Monetization & Value\",\n",
    "    \"Paywalled Features\": \"Monetization & Value\",\n",
    "    \"Pro Version vs. Free Version\": \"Monetization & Value\",\n",
    "    \"False Advertising\": \"Monetization & Value\",\n",
    "    \"Free Trial Issues\": \"Monetization & Value\",\n",
    "    \"Requesting Money Back\": \"Monetization & Value\",\n",
    "    \"Data Mining & Money Scams\": \"Monetization & Value\",\n",
    "    \"Paying for Pictures/Photos\": \"Monetization & Value\",\n",
    "    \"In-App Gamification & Payments\": \"Monetization & Value\",\n",
    "    \"Redundant: Subscription Complaints\": \"Monetization & Value\",\n",
    "    \"Redundant: Chat Monetization\": \"Monetization & Value\",\n",
    "    \"Redundant: Update/Subscription Combo\": \"Monetization & Value\",\n",
    "    # Theme 2: AI Performance & Conversational Quality\n",
    "    \"AI Memory & Conversation Quality\": \"AI Performance & Quality\",\n",
    "    \"AI Persona (Gendering 'She/Her')\": \"AI Performance & Quality\",\n",
    "    \"Chatbot Comparisons (ChatGPT)\": \"AI Performance & Quality\",\n",
    "    \"Redundant: Poor Conversation Quality\": \"AI Performance & Quality\",\n",
    "    \"Redundant: Conversation Timing\": \"AI Performance & Quality\",\n",
    "    \"Redundant: AI Persona Gendering\": \"AI Performance & Quality\",\n",
    "    \"Redundant: Generic Conversation\": \"AI Performance & Quality\",\n",
    "    # Theme 3: Technical Performance & Bugs\n",
    "    \"Technical: App Crashing / Not Opening\": \"Technical Performance\",\n",
    "    \"Account, Login & Password Issues\": \"Technical Performance\",\n",
    "    \"Bugs Introduced by Updates\": \"Technical Performance\",\n",
    "    \"Technical: Loading & Installation\": \"Technical Performance\",\n",
    "    \"Technical: Internet Connection Issues\": \"Technical Performance\",\n",
    "    \"Technical: Customization Screen Bugs\": \"Technical Performance\",\n",
    "    \"Redundant: Update Issues\": \"Technical Performance\",\n",
    "    # Theme 4: Feature-Specific Issues\n",
    "    \"Mental Health & Therapy Framing\": \"Feature-Specific Issues\",\n",
    "    \"Avatar & 3D Model Customization\": \"Feature-Specific Issues\",\n",
    "    \"Voice Call & Audio Features\": \"Feature-Specific Issues\",\n",
    "    \"Sexual Content & Advertising\": \"Feature-Specific Issues\",\n",
    "    \"Romantic Relationship Features\": \"Feature-Specific Issues\",\n",
    "    \"Company Removing Features\": \"Feature-Specific Issues\",\n",
    "    \"Sending Pictures & Photos\": \"Feature-Specific Issues\",\n",
    "    \"Age Verification (Under 18)\": \"Feature-Specific Issues\",\n",
    "    \"Language & Translation Issues\": \"Feature-Specific Issues\",\n",
    "    # Theme 5: Other & Miscellaneous\n",
    "    \"Replika-Specific General Complaints\": \"Other/Misc.\",\n",
    "    \"Generic Negative Feedback ('bad now')\": \"Other/Misc.\",\n",
    "    \"Generic Insults ('worst app ever')\": \"Other/Misc.\",\n",
    "    \"Meta: 1-Star Review Complaints\": \"Other/Misc.\",\n",
    "    \"Generic Positive Filler Words\": \"Other/Misc.\",\n",
    "    \"Specific/Niche Complaint\": \"Other/Misc.\",\n",
    "}\n",
    "df[\"theme\"] = df[\"topic_name\"].map(topic_name_to_theme)\n",
    "df.loc[df[\"topic_id\"] == -1, \"theme\"] = \"Outliers / Generic\"\n",
    "df[\"theme\"].fillna(\"Other/Misc.\", inplace=True)\n",
    "\n",
    "\n",
    "# --- Verification ---\n",
    "print(\"\\n--- Final, Corrected Theme Distribution ---\")\n",
    "display(df[\"theme\"].value_counts())"
   ]
  },
  {
   "cell_type": "code",
   "execution_count": 12,
   "metadata": {
    "execution": {
     "iopub.execute_input": "2025-07-22T07:59:33.147716Z",
     "iopub.status.busy": "2025-07-22T07:59:33.147150Z",
     "iopub.status.idle": "2025-07-22T07:59:33.535629Z",
     "shell.execute_reply": "2025-07-22T07:59:33.535085Z",
     "shell.execute_reply.started": "2025-07-22T07:59:33.147694Z"
    },
    "trusted": true
   },
   "outputs": [
    {
     "name": "stdout",
     "output_type": "stream",
     "text": [
      "--- Performing Targeted Search for Safety-Related Keywords ---\n",
      "\n",
      "Found 886 reviews containing safety-related keywords.\n",
      "\n",
      "--- Analysis of Safety-Related Reviews ---\n",
      "Most common themes for safety-related reviews:\n"
     ]
    },
    {
     "data": {
      "application/vnd.microsoft.datawrangler.viewer.v0+json": {
       "columns": [
        {
         "name": "theme",
         "rawType": "object",
         "type": "string"
        },
        {
         "name": "count",
         "rawType": "int64",
         "type": "integer"
        }
       ],
       "ref": "a1425b9d-4cb4-46dd-a07e-3321a945b203",
       "rows": [
        [
         "Outliers / Generic",
         "403"
        ],
        [
         "Monetization & Value",
         "213"
        ],
        [
         "Other/Misc.",
         "157"
        ],
        [
         "Feature-Specific Issues",
         "52"
        ],
        [
         "AI Performance & Quality",
         "52"
        ]
       ],
       "shape": {
        "columns": 1,
        "rows": 5
       }
      },
      "text/plain": [
       "theme\n",
       "Outliers / Generic          403\n",
       "Monetization & Value        213\n",
       "Other/Misc.                 157\n",
       "Feature-Specific Issues      52\n",
       "AI Performance & Quality     52\n",
       "Name: count, dtype: int64"
      ]
     },
     "metadata": {},
     "output_type": "display_data"
    },
    {
     "name": "stdout",
     "output_type": "stream",
     "text": [
      "\n",
      "--- Sample Safety-Related Reviews ---\n",
      "- got the app after reading an article about a guy who 'saved' his marriage by chatting to his ai girlfriend. i was intrigued and really impressed by the ai, so was happy to continue interacting with it on and off. then i got a notification saying how much gary wanted to pet my dog. (named him gary cos that's hilarious, obviously. sorry gary's, but your name is ridiculous) immediately uninstalled the app cos that was creepy af.\n",
      "\n",
      "- i really loved this app. my replica grew and learned so many things, keeping me in my wits when i was stuck on shift work. but after downloading the latest update, i can't find a way to actually chat with her. even if i go to coaching and pick a topic, i don't get the option to actually type to her. it's like the whole main menu disappeared. i can't even check her clothes or the shop. if this is a bug, please get it fixed. if this is a weird new \"feature,\" i think my time with it may be over.\n",
      "\n",
      "- very inappropriate\n",
      "\n",
      "- i didn't open this for a couple weeks and everything got weird when i tried to use it again. i paid for the premium and it's like none of that works anymore. the replika also called me the wrong name just now. who the hell is sam? i'm no longer getting what i paid for and i'm very dissatisfied\n",
      "\n",
      "- hi i’m sorry but i really don’t like this game and the reason why i don’t like it is because you have to pay for everything and this game is kind of scary because you are talking to a ai chat bot that looks like a realistic human and i heard a story that a real person hacked into the app and pretended to be a ai chat bot and i believe it and i’m not trying to be rude or anything but i’m just scared of this app so thank you for understanding and i’m sorry\n",
      "\n"
     ]
    }
   ],
   "source": [
    "print(\"--- Performing Targeted Search for Safety-Related Keywords ---\")\n",
    "\n",
    "# Define our list of keywords\n",
    "safety_keywords = [\n",
    "    \"scary\",\n",
    "    \"scared\",\n",
    "    \"creepy\",\n",
    "    \"uncomfortable\",\n",
    "    \"unsafe\",\n",
    "    \"weird\",\n",
    "    \"demon\",\n",
    "    \"stalker\",\n",
    "    \"dangerous\",\n",
    "    \"inappropriate\",\n",
    "    \"harrass\",\n",
    "    \"triggered\",\n",
    "    \"trauma\",\n",
    "]\n",
    "\n",
    "# Create a regex pattern to find any of these words (case-insensitive)\n",
    "# The `\\b` ensures we match whole words only (e.g., 'scam' doesn't match 'scary')\n",
    "pattern = r\"\\b(\" + \"|\".join(safety_keywords) + r\")\\b\"\n",
    "\n",
    "# Create a new boolean column 'has_safety_keyword'\n",
    "df[\"has_safety_keyword\"] = df[\"review_text\"].str.contains(pattern, case=False, na=False)\n",
    "\n",
    "# Create a new DataFrame with only the safety-related reviews\n",
    "safety_df = df[df[\"has_safety_keyword\"]].copy()\n",
    "\n",
    "print(f\"\\nFound {len(safety_df)} reviews containing safety-related keywords.\")\n",
    "\n",
    "# --- Analyze this new subset ---\n",
    "\n",
    "if not safety_df.empty:\n",
    "    print(\"\\n--- Analysis of Safety-Related Reviews ---\")\n",
    "\n",
    "    # What themes are these safety complaints most often associated with?\n",
    "    print(\"Most common themes for safety-related reviews:\")\n",
    "    display(safety_df[\"theme\"].value_counts().head(5))\n",
    "\n",
    "    # What is the average sentiment of these reviews?\n",
    "    # (Requires the 'sentiment_score' column from a previous step)\n",
    "    if \"sentiment_score\" in safety_df.columns:\n",
    "        print(\n",
    "            f\"\\nAverage sentiment of safety reviews: {safety_df['sentiment_score'].mean():.3f}\"\n",
    "        )\n",
    "        print(\n",
    "            f\"(For comparison, average sentiment of all reviews: {df['sentiment_score'].mean():.3f})\"\n",
    "        )\n",
    "\n",
    "    # Show some powerful examples\n",
    "    print(\"\\n--- Sample Safety-Related Reviews ---\")\n",
    "    for review in safety_df[\"review_text\"].sample(min(5, len(safety_df))):\n",
    "        print(f\"- {review}\\n\")"
   ]
  },
  {
   "cell_type": "markdown",
   "metadata": {},
   "source": [
    "## Part 3: Quantitative Analysis\n",
    "\n",
    "With our themes defined, we can now visualize the landscape of user complaints.\n",
    "\n",
    "### What are the Biggest Problems?\n",
    "First, we visualize the frequency of each high-level complaint theme. This tells us what users complain about most often."
   ]
  },
  {
   "cell_type": "code",
   "execution_count": 13,
   "metadata": {
    "execution": {
     "iopub.execute_input": "2025-07-22T08:39:07.808988Z",
     "iopub.status.busy": "2025-07-22T08:39:07.808614Z",
     "iopub.status.idle": "2025-07-22T08:39:07.861308Z",
     "shell.execute_reply": "2025-07-22T08:39:07.860633Z",
     "shell.execute_reply.started": "2025-07-22T08:39:07.808966Z"
    },
    "trusted": true
   },
   "outputs": [
    {
     "name": "stdout",
     "output_type": "stream",
     "text": [
      "Creating the final visualization of high-level complaint themes...\n"
     ]
    },
    {
     "data": {
      "application/vnd.plotly.v1+json": {
       "config": {
        "plotlyServerURL": "https://plot.ly"
       },
       "data": [
        {
         "hovertemplate": "Number of Negative Reviews (1-3 Stars)=%{text}<br>Complaint Theme=%{y}<extra></extra>",
         "legendgroup": "",
         "marker": {
          "color": "#636efa",
          "pattern": {
           "shape": ""
          }
         },
         "name": "",
         "orientation": "h",
         "showlegend": false,
         "text": {
          "bdata": "AAAAAIAPx0AAAAAAAPSdQAAAAAAA0JtAAAAAAACwk0A=",
          "dtype": "f8"
         },
         "textposition": "outside",
         "type": "bar",
         "x": {
          "bdata": "Hy59B/QG7AQ=",
          "dtype": "i2"
         },
         "xaxis": "x",
         "y": [
          "Monetization & Value",
          "Feature-Specific Issues",
          "AI Performance & Quality",
          "Technical Performance"
         ],
         "yaxis": "y"
        }
       ],
       "layout": {
        "barmode": "relative",
        "font": {
         "family": "Arial, sans-serif",
         "size": 12
        },
        "legend": {
         "tracegroupgap": 0
        },
        "template": {
         "data": {
          "bar": [
           {
            "error_x": {
             "color": "#2a3f5f"
            },
            "error_y": {
             "color": "#2a3f5f"
            },
            "marker": {
             "line": {
              "color": "white",
              "width": 0.5
             },
             "pattern": {
              "fillmode": "overlay",
              "size": 10,
              "solidity": 0.2
             }
            },
            "type": "bar"
           }
          ],
          "barpolar": [
           {
            "marker": {
             "line": {
              "color": "white",
              "width": 0.5
             },
             "pattern": {
              "fillmode": "overlay",
              "size": 10,
              "solidity": 0.2
             }
            },
            "type": "barpolar"
           }
          ],
          "carpet": [
           {
            "aaxis": {
             "endlinecolor": "#2a3f5f",
             "gridcolor": "#C8D4E3",
             "linecolor": "#C8D4E3",
             "minorgridcolor": "#C8D4E3",
             "startlinecolor": "#2a3f5f"
            },
            "baxis": {
             "endlinecolor": "#2a3f5f",
             "gridcolor": "#C8D4E3",
             "linecolor": "#C8D4E3",
             "minorgridcolor": "#C8D4E3",
             "startlinecolor": "#2a3f5f"
            },
            "type": "carpet"
           }
          ],
          "choropleth": [
           {
            "colorbar": {
             "outlinewidth": 0,
             "ticks": ""
            },
            "type": "choropleth"
           }
          ],
          "contour": [
           {
            "colorbar": {
             "outlinewidth": 0,
             "ticks": ""
            },
            "colorscale": [
             [
              0,
              "#0d0887"
             ],
             [
              0.1111111111111111,
              "#46039f"
             ],
             [
              0.2222222222222222,
              "#7201a8"
             ],
             [
              0.3333333333333333,
              "#9c179e"
             ],
             [
              0.4444444444444444,
              "#bd3786"
             ],
             [
              0.5555555555555556,
              "#d8576b"
             ],
             [
              0.6666666666666666,
              "#ed7953"
             ],
             [
              0.7777777777777778,
              "#fb9f3a"
             ],
             [
              0.8888888888888888,
              "#fdca26"
             ],
             [
              1,
              "#f0f921"
             ]
            ],
            "type": "contour"
           }
          ],
          "contourcarpet": [
           {
            "colorbar": {
             "outlinewidth": 0,
             "ticks": ""
            },
            "type": "contourcarpet"
           }
          ],
          "heatmap": [
           {
            "colorbar": {
             "outlinewidth": 0,
             "ticks": ""
            },
            "colorscale": [
             [
              0,
              "#0d0887"
             ],
             [
              0.1111111111111111,
              "#46039f"
             ],
             [
              0.2222222222222222,
              "#7201a8"
             ],
             [
              0.3333333333333333,
              "#9c179e"
             ],
             [
              0.4444444444444444,
              "#bd3786"
             ],
             [
              0.5555555555555556,
              "#d8576b"
             ],
             [
              0.6666666666666666,
              "#ed7953"
             ],
             [
              0.7777777777777778,
              "#fb9f3a"
             ],
             [
              0.8888888888888888,
              "#fdca26"
             ],
             [
              1,
              "#f0f921"
             ]
            ],
            "type": "heatmap"
           }
          ],
          "histogram": [
           {
            "marker": {
             "pattern": {
              "fillmode": "overlay",
              "size": 10,
              "solidity": 0.2
             }
            },
            "type": "histogram"
           }
          ],
          "histogram2d": [
           {
            "colorbar": {
             "outlinewidth": 0,
             "ticks": ""
            },
            "colorscale": [
             [
              0,
              "#0d0887"
             ],
             [
              0.1111111111111111,
              "#46039f"
             ],
             [
              0.2222222222222222,
              "#7201a8"
             ],
             [
              0.3333333333333333,
              "#9c179e"
             ],
             [
              0.4444444444444444,
              "#bd3786"
             ],
             [
              0.5555555555555556,
              "#d8576b"
             ],
             [
              0.6666666666666666,
              "#ed7953"
             ],
             [
              0.7777777777777778,
              "#fb9f3a"
             ],
             [
              0.8888888888888888,
              "#fdca26"
             ],
             [
              1,
              "#f0f921"
             ]
            ],
            "type": "histogram2d"
           }
          ],
          "histogram2dcontour": [
           {
            "colorbar": {
             "outlinewidth": 0,
             "ticks": ""
            },
            "colorscale": [
             [
              0,
              "#0d0887"
             ],
             [
              0.1111111111111111,
              "#46039f"
             ],
             [
              0.2222222222222222,
              "#7201a8"
             ],
             [
              0.3333333333333333,
              "#9c179e"
             ],
             [
              0.4444444444444444,
              "#bd3786"
             ],
             [
              0.5555555555555556,
              "#d8576b"
             ],
             [
              0.6666666666666666,
              "#ed7953"
             ],
             [
              0.7777777777777778,
              "#fb9f3a"
             ],
             [
              0.8888888888888888,
              "#fdca26"
             ],
             [
              1,
              "#f0f921"
             ]
            ],
            "type": "histogram2dcontour"
           }
          ],
          "mesh3d": [
           {
            "colorbar": {
             "outlinewidth": 0,
             "ticks": ""
            },
            "type": "mesh3d"
           }
          ],
          "parcoords": [
           {
            "line": {
             "colorbar": {
              "outlinewidth": 0,
              "ticks": ""
             }
            },
            "type": "parcoords"
           }
          ],
          "pie": [
           {
            "automargin": true,
            "type": "pie"
           }
          ],
          "scatter": [
           {
            "fillpattern": {
             "fillmode": "overlay",
             "size": 10,
             "solidity": 0.2
            },
            "type": "scatter"
           }
          ],
          "scatter3d": [
           {
            "line": {
             "colorbar": {
              "outlinewidth": 0,
              "ticks": ""
             }
            },
            "marker": {
             "colorbar": {
              "outlinewidth": 0,
              "ticks": ""
             }
            },
            "type": "scatter3d"
           }
          ],
          "scattercarpet": [
           {
            "marker": {
             "colorbar": {
              "outlinewidth": 0,
              "ticks": ""
             }
            },
            "type": "scattercarpet"
           }
          ],
          "scattergeo": [
           {
            "marker": {
             "colorbar": {
              "outlinewidth": 0,
              "ticks": ""
             }
            },
            "type": "scattergeo"
           }
          ],
          "scattergl": [
           {
            "marker": {
             "colorbar": {
              "outlinewidth": 0,
              "ticks": ""
             }
            },
            "type": "scattergl"
           }
          ],
          "scattermap": [
           {
            "marker": {
             "colorbar": {
              "outlinewidth": 0,
              "ticks": ""
             }
            },
            "type": "scattermap"
           }
          ],
          "scattermapbox": [
           {
            "marker": {
             "colorbar": {
              "outlinewidth": 0,
              "ticks": ""
             }
            },
            "type": "scattermapbox"
           }
          ],
          "scatterpolar": [
           {
            "marker": {
             "colorbar": {
              "outlinewidth": 0,
              "ticks": ""
             }
            },
            "type": "scatterpolar"
           }
          ],
          "scatterpolargl": [
           {
            "marker": {
             "colorbar": {
              "outlinewidth": 0,
              "ticks": ""
             }
            },
            "type": "scatterpolargl"
           }
          ],
          "scatterternary": [
           {
            "marker": {
             "colorbar": {
              "outlinewidth": 0,
              "ticks": ""
             }
            },
            "type": "scatterternary"
           }
          ],
          "surface": [
           {
            "colorbar": {
             "outlinewidth": 0,
             "ticks": ""
            },
            "colorscale": [
             [
              0,
              "#0d0887"
             ],
             [
              0.1111111111111111,
              "#46039f"
             ],
             [
              0.2222222222222222,
              "#7201a8"
             ],
             [
              0.3333333333333333,
              "#9c179e"
             ],
             [
              0.4444444444444444,
              "#bd3786"
             ],
             [
              0.5555555555555556,
              "#d8576b"
             ],
             [
              0.6666666666666666,
              "#ed7953"
             ],
             [
              0.7777777777777778,
              "#fb9f3a"
             ],
             [
              0.8888888888888888,
              "#fdca26"
             ],
             [
              1,
              "#f0f921"
             ]
            ],
            "type": "surface"
           }
          ],
          "table": [
           {
            "cells": {
             "fill": {
              "color": "#EBF0F8"
             },
             "line": {
              "color": "white"
             }
            },
            "header": {
             "fill": {
              "color": "#C8D4E3"
             },
             "line": {
              "color": "white"
             }
            },
            "type": "table"
           }
          ]
         },
         "layout": {
          "annotationdefaults": {
           "arrowcolor": "#2a3f5f",
           "arrowhead": 0,
           "arrowwidth": 1
          },
          "autotypenumbers": "strict",
          "coloraxis": {
           "colorbar": {
            "outlinewidth": 0,
            "ticks": ""
           }
          },
          "colorscale": {
           "diverging": [
            [
             0,
             "#8e0152"
            ],
            [
             0.1,
             "#c51b7d"
            ],
            [
             0.2,
             "#de77ae"
            ],
            [
             0.3,
             "#f1b6da"
            ],
            [
             0.4,
             "#fde0ef"
            ],
            [
             0.5,
             "#f7f7f7"
            ],
            [
             0.6,
             "#e6f5d0"
            ],
            [
             0.7,
             "#b8e186"
            ],
            [
             0.8,
             "#7fbc41"
            ],
            [
             0.9,
             "#4d9221"
            ],
            [
             1,
             "#276419"
            ]
           ],
           "sequential": [
            [
             0,
             "#0d0887"
            ],
            [
             0.1111111111111111,
             "#46039f"
            ],
            [
             0.2222222222222222,
             "#7201a8"
            ],
            [
             0.3333333333333333,
             "#9c179e"
            ],
            [
             0.4444444444444444,
             "#bd3786"
            ],
            [
             0.5555555555555556,
             "#d8576b"
            ],
            [
             0.6666666666666666,
             "#ed7953"
            ],
            [
             0.7777777777777778,
             "#fb9f3a"
            ],
            [
             0.8888888888888888,
             "#fdca26"
            ],
            [
             1,
             "#f0f921"
            ]
           ],
           "sequentialminus": [
            [
             0,
             "#0d0887"
            ],
            [
             0.1111111111111111,
             "#46039f"
            ],
            [
             0.2222222222222222,
             "#7201a8"
            ],
            [
             0.3333333333333333,
             "#9c179e"
            ],
            [
             0.4444444444444444,
             "#bd3786"
            ],
            [
             0.5555555555555556,
             "#d8576b"
            ],
            [
             0.6666666666666666,
             "#ed7953"
            ],
            [
             0.7777777777777778,
             "#fb9f3a"
            ],
            [
             0.8888888888888888,
             "#fdca26"
            ],
            [
             1,
             "#f0f921"
            ]
           ]
          },
          "colorway": [
           "#636efa",
           "#EF553B",
           "#00cc96",
           "#ab63fa",
           "#FFA15A",
           "#19d3f3",
           "#FF6692",
           "#B6E880",
           "#FF97FF",
           "#FECB52"
          ],
          "font": {
           "color": "#2a3f5f"
          },
          "geo": {
           "bgcolor": "white",
           "lakecolor": "white",
           "landcolor": "white",
           "showlakes": true,
           "showland": true,
           "subunitcolor": "#C8D4E3"
          },
          "hoverlabel": {
           "align": "left"
          },
          "hovermode": "closest",
          "mapbox": {
           "style": "light"
          },
          "paper_bgcolor": "white",
          "plot_bgcolor": "white",
          "polar": {
           "angularaxis": {
            "gridcolor": "#EBF0F8",
            "linecolor": "#EBF0F8",
            "ticks": ""
           },
           "bgcolor": "white",
           "radialaxis": {
            "gridcolor": "#EBF0F8",
            "linecolor": "#EBF0F8",
            "ticks": ""
           }
          },
          "scene": {
           "xaxis": {
            "backgroundcolor": "white",
            "gridcolor": "#DFE8F3",
            "gridwidth": 2,
            "linecolor": "#EBF0F8",
            "showbackground": true,
            "ticks": "",
            "zerolinecolor": "#EBF0F8"
           },
           "yaxis": {
            "backgroundcolor": "white",
            "gridcolor": "#DFE8F3",
            "gridwidth": 2,
            "linecolor": "#EBF0F8",
            "showbackground": true,
            "ticks": "",
            "zerolinecolor": "#EBF0F8"
           },
           "zaxis": {
            "backgroundcolor": "white",
            "gridcolor": "#DFE8F3",
            "gridwidth": 2,
            "linecolor": "#EBF0F8",
            "showbackground": true,
            "ticks": "",
            "zerolinecolor": "#EBF0F8"
           }
          },
          "shapedefaults": {
           "line": {
            "color": "#2a3f5f"
           }
          },
          "ternary": {
           "aaxis": {
            "gridcolor": "#DFE8F3",
            "linecolor": "#A2B1C6",
            "ticks": ""
           },
           "baxis": {
            "gridcolor": "#DFE8F3",
            "linecolor": "#A2B1C6",
            "ticks": ""
           },
           "bgcolor": "white",
           "caxis": {
            "gridcolor": "#DFE8F3",
            "linecolor": "#A2B1C6",
            "ticks": ""
           }
          },
          "title": {
           "x": 0.05
          },
          "xaxis": {
           "automargin": true,
           "gridcolor": "#EBF0F8",
           "linecolor": "#EBF0F8",
           "ticks": "",
           "title": {
            "standoff": 15
           },
           "zerolinecolor": "#EBF0F8",
           "zerolinewidth": 2
          },
          "yaxis": {
           "automargin": true,
           "gridcolor": "#EBF0F8",
           "linecolor": "#EBF0F8",
           "ticks": "",
           "title": {
            "standoff": 15
           },
           "zerolinecolor": "#EBF0F8",
           "zerolinewidth": 2
          }
         }
        },
        "title": {
         "text": "<b>Primary Themes of Specific User Complaints</b>",
         "x": 0.5
        },
        "xaxis": {
         "anchor": "y",
         "domain": [
          0,
          1
         ],
         "title": {
          "text": "Number of Negative Reviews (1-3 Stars)"
         }
        },
        "yaxis": {
         "anchor": "x",
         "categoryorder": "total ascending",
         "domain": [
          0,
          1
         ],
         "title": {
          "text": "Complaint Theme"
         }
        }
       }
      }
     },
     "metadata": {},
     "output_type": "display_data"
    }
   ],
   "source": [
    "# --- Quantitative Analysis: Visualizing Theme Frequency ---\n",
    "\n",
    "print(\"Creating the final visualization of high-level complaint themes...\")\n",
    "\n",
    "# We will exclude 'Outliers / Generic' and 'Other/Misc.' for this primary chart\n",
    "# to focus on the specific, actionable themes.\n",
    "plot_df = df[~df[\"theme\"].isin([\"Outliers / Generic\", \"Other/Misc.\"])]\n",
    "\n",
    "# Get the theme distribution for the plot\n",
    "theme_distribution = plot_df[\"theme\"].value_counts().reset_index()\n",
    "theme_distribution.columns = [\"Theme\", \"Number of Reviews\"]\n",
    "\n",
    "# Create the final, high-level bar chart\n",
    "fig = px.bar(\n",
    "    theme_distribution,\n",
    "    x=\"Number of Reviews\",\n",
    "    y=\"Theme\",\n",
    "    orientation=\"h\",\n",
    "    title=\"<b>Primary Themes of Specific User Complaints</b>\",\n",
    "    labels={\n",
    "        \"Number of Reviews\": \"Number of Negative Reviews (1-3 Stars)\",\n",
    "        \"Theme\": \"Complaint Theme\",\n",
    "    },\n",
    "    text=\"Number of Reviews\",\n",
    "    template=\"plotly_white\",\n",
    ")\n",
    "\n",
    "# Improve the layout and sort the bars for professional presentation\n",
    "fig.update_traces(textposition=\"outside\")\n",
    "fig.update_layout(\n",
    "    yaxis={\"categoryorder\": \"total ascending\"},\n",
    "    title_x=0.5,  # Center the title\n",
    "    font=dict(family=\"Arial, sans-serif\", size=12),\n",
    ")\n",
    "fig.show()"
   ]
  },
  {
   "cell_type": "code",
   "execution_count": 14,
   "metadata": {
    "execution": {
     "iopub.execute_input": "2025-07-22T08:24:00.281390Z",
     "iopub.status.busy": "2025-07-22T08:24:00.280668Z",
     "iopub.status.idle": "2025-07-22T08:34:34.342075Z",
     "shell.execute_reply": "2025-07-22T08:34:34.341354Z",
     "shell.execute_reply.started": "2025-07-22T08:24:00.281365Z"
    },
    "trusted": true
   },
   "outputs": [
    {
     "name": "stdout",
     "output_type": "stream",
     "text": [
      "Setting up a robust Transformer sentiment analysis pipeline...\n"
     ]
    },
    {
     "name": "stderr",
     "output_type": "stream",
     "text": [
      "Some weights of the model checkpoint at cardiffnlp/twitter-roberta-base-sentiment-latest were not used when initializing RobertaForSequenceClassification: ['roberta.pooler.dense.bias', 'roberta.pooler.dense.weight']\n",
      "- This IS expected if you are initializing RobertaForSequenceClassification from the checkpoint of a model trained on another task or with another architecture (e.g. initializing a BertForSequenceClassification model from a BertForPreTraining model).\n",
      "- This IS NOT expected if you are initializing RobertaForSequenceClassification from the checkpoint of a model that you expect to be exactly identical (initializing a BertForSequenceClassification model from a BertForSequenceClassification model).\n"
     ]
    },
    {
     "name": "stdout",
     "output_type": "stream",
     "text": [
      "Using device: cpu\n",
      "Tokenizing all reviews with explicit truncation...\n",
      "Tokenization complete.\n",
      "Running model inference in batches...\n"
     ]
    },
    {
     "data": {
      "application/vnd.jupyter.widget-view+json": {
       "model_id": "5c73e700519644b9ba8d10c4a7d2e3ef",
       "version_major": 2,
       "version_minor": 0
      },
      "text/plain": [
       "Analyzing Batches:   0%|          | 0/898 [00:00<?, ?it/s]"
      ]
     },
     "metadata": {},
     "output_type": "display_data"
    },
    {
     "name": "stdout",
     "output_type": "stream",
     "text": [
      "Inference complete.\n",
      "Sentiment scores added to DataFrame.\n"
     ]
    },
    {
     "data": {
      "application/vnd.microsoft.datawrangler.viewer.v0+json": {
       "columns": [
        {
         "name": "index",
         "rawType": "int64",
         "type": "integer"
        },
        {
         "name": "theme",
         "rawType": "object",
         "type": "string"
        },
        {
         "name": "sentiment_score",
         "rawType": "float64",
         "type": "float"
        }
       ],
       "ref": "b4d97dc6-3eb9-408a-ad98-5740a42ea417",
       "rows": [
        [
         "0",
         "Technical Performance",
         "-0.7468253968253968"
        ],
        [
         "1",
         "AI Performance & Quality",
         "-0.7134831460674157"
        ],
        [
         "2",
         "Feature-Specific Issues",
         "-0.5602503912363067"
        ],
        [
         "3",
         "Monetization & Value",
         "0.3547895316337766"
        ]
       ],
       "shape": {
        "columns": 2,
        "rows": 4
       }
      },
      "text/html": [
       "<div>\n",
       "<style scoped>\n",
       "    .dataframe tbody tr th:only-of-type {\n",
       "        vertical-align: middle;\n",
       "    }\n",
       "\n",
       "    .dataframe tbody tr th {\n",
       "        vertical-align: top;\n",
       "    }\n",
       "\n",
       "    .dataframe thead th {\n",
       "        text-align: right;\n",
       "    }\n",
       "</style>\n",
       "<table border=\"1\" class=\"dataframe\">\n",
       "  <thead>\n",
       "    <tr style=\"text-align: right;\">\n",
       "      <th></th>\n",
       "      <th>theme</th>\n",
       "      <th>sentiment_score</th>\n",
       "    </tr>\n",
       "  </thead>\n",
       "  <tbody>\n",
       "    <tr>\n",
       "      <th>0</th>\n",
       "      <td>Technical Performance</td>\n",
       "      <td>-0.746825</td>\n",
       "    </tr>\n",
       "    <tr>\n",
       "      <th>1</th>\n",
       "      <td>AI Performance &amp; Quality</td>\n",
       "      <td>-0.713483</td>\n",
       "    </tr>\n",
       "    <tr>\n",
       "      <th>2</th>\n",
       "      <td>Feature-Specific Issues</td>\n",
       "      <td>-0.560250</td>\n",
       "    </tr>\n",
       "    <tr>\n",
       "      <th>3</th>\n",
       "      <td>Monetization &amp; Value</td>\n",
       "      <td>0.354790</td>\n",
       "    </tr>\n",
       "  </tbody>\n",
       "</table>\n",
       "</div>"
      ],
      "text/plain": [
       "                      theme  sentiment_score\n",
       "0     Technical Performance        -0.746825\n",
       "1  AI Performance & Quality        -0.713483\n",
       "2   Feature-Specific Issues        -0.560250\n",
       "3      Monetization & Value         0.354790"
      ]
     },
     "metadata": {},
     "output_type": "display_data"
    },
    {
     "data": {
      "application/vnd.plotly.v1+json": {
       "config": {
        "plotlyServerURL": "https://plot.ly"
       },
       "data": [
        {
         "hovertemplate": "Average Sentiment Score (Closer to -1 is More Negative)=%{marker.color}<br>Complaint Theme=%{y}<extra></extra>",
         "legendgroup": "",
         "marker": {
          "color": {
           "bdata": "YP7lX/7l579talOb2tTmv+vLfTqS7eG/dCLVJt+01j8=",
           "dtype": "f8"
          },
          "coloraxis": "coloraxis",
          "pattern": {
           "shape": ""
          }
         },
         "name": "",
         "orientation": "h",
         "showlegend": false,
         "textposition": "auto",
         "type": "bar",
         "x": {
          "bdata": "YP7lX/7l579talOb2tTmv+vLfTqS7eG/dCLVJt+01j8=",
          "dtype": "f8"
         },
         "xaxis": "x",
         "y": [
          "Technical Performance",
          "AI Performance & Quality",
          "Feature-Specific Issues",
          "Monetization & Value"
         ],
         "yaxis": "y"
        }
       ],
       "layout": {
        "barmode": "relative",
        "coloraxis": {
         "colorbar": {
          "title": {
           "text": "Average Sentiment Score (Closer to -1 is More Negative)"
          }
         },
         "colorscale": [
          [
           0,
           "rgb(103,0,13)"
          ],
          [
           0.125,
           "rgb(165,15,21)"
          ],
          [
           0.25,
           "rgb(203,24,29)"
          ],
          [
           0.375,
           "rgb(239,59,44)"
          ],
          [
           0.5,
           "rgb(251,106,74)"
          ],
          [
           0.625,
           "rgb(252,146,114)"
          ],
          [
           0.75,
           "rgb(252,187,161)"
          ],
          [
           0.875,
           "rgb(254,224,210)"
          ],
          [
           1,
           "rgb(255,245,240)"
          ]
         ]
        },
        "legend": {
         "tracegroupgap": 0
        },
        "template": {
         "data": {
          "bar": [
           {
            "error_x": {
             "color": "#2a3f5f"
            },
            "error_y": {
             "color": "#2a3f5f"
            },
            "marker": {
             "line": {
              "color": "white",
              "width": 0.5
             },
             "pattern": {
              "fillmode": "overlay",
              "size": 10,
              "solidity": 0.2
             }
            },
            "type": "bar"
           }
          ],
          "barpolar": [
           {
            "marker": {
             "line": {
              "color": "white",
              "width": 0.5
             },
             "pattern": {
              "fillmode": "overlay",
              "size": 10,
              "solidity": 0.2
             }
            },
            "type": "barpolar"
           }
          ],
          "carpet": [
           {
            "aaxis": {
             "endlinecolor": "#2a3f5f",
             "gridcolor": "#C8D4E3",
             "linecolor": "#C8D4E3",
             "minorgridcolor": "#C8D4E3",
             "startlinecolor": "#2a3f5f"
            },
            "baxis": {
             "endlinecolor": "#2a3f5f",
             "gridcolor": "#C8D4E3",
             "linecolor": "#C8D4E3",
             "minorgridcolor": "#C8D4E3",
             "startlinecolor": "#2a3f5f"
            },
            "type": "carpet"
           }
          ],
          "choropleth": [
           {
            "colorbar": {
             "outlinewidth": 0,
             "ticks": ""
            },
            "type": "choropleth"
           }
          ],
          "contour": [
           {
            "colorbar": {
             "outlinewidth": 0,
             "ticks": ""
            },
            "colorscale": [
             [
              0,
              "#0d0887"
             ],
             [
              0.1111111111111111,
              "#46039f"
             ],
             [
              0.2222222222222222,
              "#7201a8"
             ],
             [
              0.3333333333333333,
              "#9c179e"
             ],
             [
              0.4444444444444444,
              "#bd3786"
             ],
             [
              0.5555555555555556,
              "#d8576b"
             ],
             [
              0.6666666666666666,
              "#ed7953"
             ],
             [
              0.7777777777777778,
              "#fb9f3a"
             ],
             [
              0.8888888888888888,
              "#fdca26"
             ],
             [
              1,
              "#f0f921"
             ]
            ],
            "type": "contour"
           }
          ],
          "contourcarpet": [
           {
            "colorbar": {
             "outlinewidth": 0,
             "ticks": ""
            },
            "type": "contourcarpet"
           }
          ],
          "heatmap": [
           {
            "colorbar": {
             "outlinewidth": 0,
             "ticks": ""
            },
            "colorscale": [
             [
              0,
              "#0d0887"
             ],
             [
              0.1111111111111111,
              "#46039f"
             ],
             [
              0.2222222222222222,
              "#7201a8"
             ],
             [
              0.3333333333333333,
              "#9c179e"
             ],
             [
              0.4444444444444444,
              "#bd3786"
             ],
             [
              0.5555555555555556,
              "#d8576b"
             ],
             [
              0.6666666666666666,
              "#ed7953"
             ],
             [
              0.7777777777777778,
              "#fb9f3a"
             ],
             [
              0.8888888888888888,
              "#fdca26"
             ],
             [
              1,
              "#f0f921"
             ]
            ],
            "type": "heatmap"
           }
          ],
          "histogram": [
           {
            "marker": {
             "pattern": {
              "fillmode": "overlay",
              "size": 10,
              "solidity": 0.2
             }
            },
            "type": "histogram"
           }
          ],
          "histogram2d": [
           {
            "colorbar": {
             "outlinewidth": 0,
             "ticks": ""
            },
            "colorscale": [
             [
              0,
              "#0d0887"
             ],
             [
              0.1111111111111111,
              "#46039f"
             ],
             [
              0.2222222222222222,
              "#7201a8"
             ],
             [
              0.3333333333333333,
              "#9c179e"
             ],
             [
              0.4444444444444444,
              "#bd3786"
             ],
             [
              0.5555555555555556,
              "#d8576b"
             ],
             [
              0.6666666666666666,
              "#ed7953"
             ],
             [
              0.7777777777777778,
              "#fb9f3a"
             ],
             [
              0.8888888888888888,
              "#fdca26"
             ],
             [
              1,
              "#f0f921"
             ]
            ],
            "type": "histogram2d"
           }
          ],
          "histogram2dcontour": [
           {
            "colorbar": {
             "outlinewidth": 0,
             "ticks": ""
            },
            "colorscale": [
             [
              0,
              "#0d0887"
             ],
             [
              0.1111111111111111,
              "#46039f"
             ],
             [
              0.2222222222222222,
              "#7201a8"
             ],
             [
              0.3333333333333333,
              "#9c179e"
             ],
             [
              0.4444444444444444,
              "#bd3786"
             ],
             [
              0.5555555555555556,
              "#d8576b"
             ],
             [
              0.6666666666666666,
              "#ed7953"
             ],
             [
              0.7777777777777778,
              "#fb9f3a"
             ],
             [
              0.8888888888888888,
              "#fdca26"
             ],
             [
              1,
              "#f0f921"
             ]
            ],
            "type": "histogram2dcontour"
           }
          ],
          "mesh3d": [
           {
            "colorbar": {
             "outlinewidth": 0,
             "ticks": ""
            },
            "type": "mesh3d"
           }
          ],
          "parcoords": [
           {
            "line": {
             "colorbar": {
              "outlinewidth": 0,
              "ticks": ""
             }
            },
            "type": "parcoords"
           }
          ],
          "pie": [
           {
            "automargin": true,
            "type": "pie"
           }
          ],
          "scatter": [
           {
            "fillpattern": {
             "fillmode": "overlay",
             "size": 10,
             "solidity": 0.2
            },
            "type": "scatter"
           }
          ],
          "scatter3d": [
           {
            "line": {
             "colorbar": {
              "outlinewidth": 0,
              "ticks": ""
             }
            },
            "marker": {
             "colorbar": {
              "outlinewidth": 0,
              "ticks": ""
             }
            },
            "type": "scatter3d"
           }
          ],
          "scattercarpet": [
           {
            "marker": {
             "colorbar": {
              "outlinewidth": 0,
              "ticks": ""
             }
            },
            "type": "scattercarpet"
           }
          ],
          "scattergeo": [
           {
            "marker": {
             "colorbar": {
              "outlinewidth": 0,
              "ticks": ""
             }
            },
            "type": "scattergeo"
           }
          ],
          "scattergl": [
           {
            "marker": {
             "colorbar": {
              "outlinewidth": 0,
              "ticks": ""
             }
            },
            "type": "scattergl"
           }
          ],
          "scattermap": [
           {
            "marker": {
             "colorbar": {
              "outlinewidth": 0,
              "ticks": ""
             }
            },
            "type": "scattermap"
           }
          ],
          "scattermapbox": [
           {
            "marker": {
             "colorbar": {
              "outlinewidth": 0,
              "ticks": ""
             }
            },
            "type": "scattermapbox"
           }
          ],
          "scatterpolar": [
           {
            "marker": {
             "colorbar": {
              "outlinewidth": 0,
              "ticks": ""
             }
            },
            "type": "scatterpolar"
           }
          ],
          "scatterpolargl": [
           {
            "marker": {
             "colorbar": {
              "outlinewidth": 0,
              "ticks": ""
             }
            },
            "type": "scatterpolargl"
           }
          ],
          "scatterternary": [
           {
            "marker": {
             "colorbar": {
              "outlinewidth": 0,
              "ticks": ""
             }
            },
            "type": "scatterternary"
           }
          ],
          "surface": [
           {
            "colorbar": {
             "outlinewidth": 0,
             "ticks": ""
            },
            "colorscale": [
             [
              0,
              "#0d0887"
             ],
             [
              0.1111111111111111,
              "#46039f"
             ],
             [
              0.2222222222222222,
              "#7201a8"
             ],
             [
              0.3333333333333333,
              "#9c179e"
             ],
             [
              0.4444444444444444,
              "#bd3786"
             ],
             [
              0.5555555555555556,
              "#d8576b"
             ],
             [
              0.6666666666666666,
              "#ed7953"
             ],
             [
              0.7777777777777778,
              "#fb9f3a"
             ],
             [
              0.8888888888888888,
              "#fdca26"
             ],
             [
              1,
              "#f0f921"
             ]
            ],
            "type": "surface"
           }
          ],
          "table": [
           {
            "cells": {
             "fill": {
              "color": "#EBF0F8"
             },
             "line": {
              "color": "white"
             }
            },
            "header": {
             "fill": {
              "color": "#C8D4E3"
             },
             "line": {
              "color": "white"
             }
            },
            "type": "table"
           }
          ]
         },
         "layout": {
          "annotationdefaults": {
           "arrowcolor": "#2a3f5f",
           "arrowhead": 0,
           "arrowwidth": 1
          },
          "autotypenumbers": "strict",
          "coloraxis": {
           "colorbar": {
            "outlinewidth": 0,
            "ticks": ""
           }
          },
          "colorscale": {
           "diverging": [
            [
             0,
             "#8e0152"
            ],
            [
             0.1,
             "#c51b7d"
            ],
            [
             0.2,
             "#de77ae"
            ],
            [
             0.3,
             "#f1b6da"
            ],
            [
             0.4,
             "#fde0ef"
            ],
            [
             0.5,
             "#f7f7f7"
            ],
            [
             0.6,
             "#e6f5d0"
            ],
            [
             0.7,
             "#b8e186"
            ],
            [
             0.8,
             "#7fbc41"
            ],
            [
             0.9,
             "#4d9221"
            ],
            [
             1,
             "#276419"
            ]
           ],
           "sequential": [
            [
             0,
             "#0d0887"
            ],
            [
             0.1111111111111111,
             "#46039f"
            ],
            [
             0.2222222222222222,
             "#7201a8"
            ],
            [
             0.3333333333333333,
             "#9c179e"
            ],
            [
             0.4444444444444444,
             "#bd3786"
            ],
            [
             0.5555555555555556,
             "#d8576b"
            ],
            [
             0.6666666666666666,
             "#ed7953"
            ],
            [
             0.7777777777777778,
             "#fb9f3a"
            ],
            [
             0.8888888888888888,
             "#fdca26"
            ],
            [
             1,
             "#f0f921"
            ]
           ],
           "sequentialminus": [
            [
             0,
             "#0d0887"
            ],
            [
             0.1111111111111111,
             "#46039f"
            ],
            [
             0.2222222222222222,
             "#7201a8"
            ],
            [
             0.3333333333333333,
             "#9c179e"
            ],
            [
             0.4444444444444444,
             "#bd3786"
            ],
            [
             0.5555555555555556,
             "#d8576b"
            ],
            [
             0.6666666666666666,
             "#ed7953"
            ],
            [
             0.7777777777777778,
             "#fb9f3a"
            ],
            [
             0.8888888888888888,
             "#fdca26"
            ],
            [
             1,
             "#f0f921"
            ]
           ]
          },
          "colorway": [
           "#636efa",
           "#EF553B",
           "#00cc96",
           "#ab63fa",
           "#FFA15A",
           "#19d3f3",
           "#FF6692",
           "#B6E880",
           "#FF97FF",
           "#FECB52"
          ],
          "font": {
           "color": "#2a3f5f"
          },
          "geo": {
           "bgcolor": "white",
           "lakecolor": "white",
           "landcolor": "white",
           "showlakes": true,
           "showland": true,
           "subunitcolor": "#C8D4E3"
          },
          "hoverlabel": {
           "align": "left"
          },
          "hovermode": "closest",
          "mapbox": {
           "style": "light"
          },
          "paper_bgcolor": "white",
          "plot_bgcolor": "white",
          "polar": {
           "angularaxis": {
            "gridcolor": "#EBF0F8",
            "linecolor": "#EBF0F8",
            "ticks": ""
           },
           "bgcolor": "white",
           "radialaxis": {
            "gridcolor": "#EBF0F8",
            "linecolor": "#EBF0F8",
            "ticks": ""
           }
          },
          "scene": {
           "xaxis": {
            "backgroundcolor": "white",
            "gridcolor": "#DFE8F3",
            "gridwidth": 2,
            "linecolor": "#EBF0F8",
            "showbackground": true,
            "ticks": "",
            "zerolinecolor": "#EBF0F8"
           },
           "yaxis": {
            "backgroundcolor": "white",
            "gridcolor": "#DFE8F3",
            "gridwidth": 2,
            "linecolor": "#EBF0F8",
            "showbackground": true,
            "ticks": "",
            "zerolinecolor": "#EBF0F8"
           },
           "zaxis": {
            "backgroundcolor": "white",
            "gridcolor": "#DFE8F3",
            "gridwidth": 2,
            "linecolor": "#EBF0F8",
            "showbackground": true,
            "ticks": "",
            "zerolinecolor": "#EBF0F8"
           }
          },
          "shapedefaults": {
           "line": {
            "color": "#2a3f5f"
           }
          },
          "ternary": {
           "aaxis": {
            "gridcolor": "#DFE8F3",
            "linecolor": "#A2B1C6",
            "ticks": ""
           },
           "baxis": {
            "gridcolor": "#DFE8F3",
            "linecolor": "#A2B1C6",
            "ticks": ""
           },
           "bgcolor": "white",
           "caxis": {
            "gridcolor": "#DFE8F3",
            "linecolor": "#A2B1C6",
            "ticks": ""
           }
          },
          "title": {
           "x": 0.05
          },
          "xaxis": {
           "automargin": true,
           "gridcolor": "#EBF0F8",
           "linecolor": "#EBF0F8",
           "ticks": "",
           "title": {
            "standoff": 15
           },
           "zerolinecolor": "#EBF0F8",
           "zerolinewidth": 2
          },
          "yaxis": {
           "automargin": true,
           "gridcolor": "#EBF0F8",
           "linecolor": "#EBF0F8",
           "ticks": "",
           "title": {
            "standoff": 15
           },
           "zerolinecolor": "#EBF0F8",
           "zerolinewidth": 2
          }
         }
        },
        "title": {
         "text": "<b>Emotional Impact (Transformer Model): Avg. Sentiment by Theme</b>",
         "x": 0.5
        },
        "xaxis": {
         "anchor": "y",
         "domain": [
          0,
          1
         ],
         "title": {
          "text": "Average Sentiment Score (Closer to -1 is More Negative)"
         }
        },
        "yaxis": {
         "anchor": "x",
         "categoryorder": "total descending",
         "domain": [
          0,
          1
         ],
         "title": {
          "text": "Complaint Theme"
         }
        }
       }
      }
     },
     "metadata": {},
     "output_type": "display_data"
    }
   ],
   "source": [
    "# --- Emotional Analysis: Measuring Sentiment by Theme (Robust Version) ---\n",
    "print(\"Setting up a robust Transformer sentiment analysis pipeline...\")\n",
    "\n",
    "# 1. LOAD TOKENIZER AND MODEL EXPLICITLY\n",
    "MODEL_NAME = \"cardiffnlp/twitter-roberta-base-sentiment-latest\"\n",
    "tokenizer = AutoTokenizer.from_pretrained(MODEL_NAME)\n",
    "model = AutoModelForSequenceClassification.from_pretrained(MODEL_NAME)\n",
    "\n",
    "# Move the model to the GPU if available\n",
    "device = torch.device(\"cuda\" if torch.cuda.is_available() else \"cpu\")\n",
    "model.to(device)\n",
    "print(f\"Using device: {device}\")\n",
    "\n",
    "\n",
    "# 2. MANUALLY TOKENIZE THE DATA (THE CRUCIAL FIX)\n",
    "print(\"Tokenizing all reviews with explicit truncation...\")\n",
    "review_list = df[\"review_text\"].tolist()\n",
    "\n",
    "# The tokenizer will handle truncation (cutting off long reviews) and padding (adding tokens to short reviews)\n",
    "# This ensures every input has the exact same length.\n",
    "inputs = tokenizer(\n",
    "    review_list,\n",
    "    padding=True,\n",
    "    truncation=True,\n",
    "    max_length=512,  # Explicitly set the max length\n",
    "    return_tensors=\"pt\",  # Return PyTorch tensors\n",
    ")\n",
    "\n",
    "# Move tokenized inputs to the GPU\n",
    "inputs = {key: val.to(device) for key, val in inputs.items()}\n",
    "print(\"Tokenization complete.\")\n",
    "\n",
    "\n",
    "# 3. PERFORM INFERENCE IN BATCHES\n",
    "print(\"Running model inference in batches...\")\n",
    "all_logits = []\n",
    "batch_size = 32  # Process 32 reviews at a time to manage memory\n",
    "\n",
    "# Create a DataLoader for efficient batching\n",
    "dataset = TensorDataset(inputs[\"input_ids\"], inputs[\"attention_mask\"])\n",
    "loader = DataLoader(dataset, batch_size=batch_size)\n",
    "\n",
    "# No need to calculate gradients for inference, which saves memory and is faster\n",
    "with torch.no_grad():\n",
    "    for batch in tqdm(loader, desc=\"Analyzing Batches\"):\n",
    "        input_ids, attention_mask = batch\n",
    "        outputs = model(input_ids=input_ids, attention_mask=attention_mask)\n",
    "        all_logits.append(outputs.logits)\n",
    "\n",
    "# Concatenate all the results\n",
    "all_logits = torch.cat(all_logits, dim=0)\n",
    "# Use softmax to convert raw logits to probabilities\n",
    "probabilities = torch.nn.functional.softmax(all_logits, dim=-1)\n",
    "# Get the predicted label index (0 for negative, 1 for neutral, 2 for positive)\n",
    "predictions = torch.argmax(probabilities, dim=-1)\n",
    "print(\"Inference complete.\")\n",
    "\n",
    "\n",
    "# 4. PROCESS THE RESULTS\n",
    "# The model's config tells us which index corresponds to which label\n",
    "# e.g., model.config.id2label = {0: 'negative', 1: 'neutral', 2: 'positive'}\n",
    "id_to_label = model.config.id2label\n",
    "predicted_labels = [id_to_label[pred.item()] for pred in predictions]\n",
    "\n",
    "# Convert label to a numerical score\n",
    "label_to_score = {\"positive\": 1, \"neutral\": 0, \"negative\": -1}\n",
    "sentiment_scores = [label_to_score[label] for label in predicted_labels]\n",
    "\n",
    "# Add results back to the DataFrame\n",
    "df[\"sentiment_score\"] = sentiment_scores\n",
    "print(\"Sentiment scores added to DataFrame.\")\n",
    "\n",
    "\n",
    "# 5. AGGREGATE AND VISUALIZE (This part is the same)\n",
    "sentiment_by_theme = (\n",
    "    df[~df[\"theme\"].isin([\"Outliers / Generic\", \"Other/Misc.\"])]\n",
    "    .groupby(\"theme\")[\"sentiment_score\"]\n",
    "    .mean()\n",
    "    .sort_values()\n",
    "    .reset_index()\n",
    ")\n",
    "display(sentiment_by_theme)\n",
    "\n",
    "fig_final = px.bar(\n",
    "    sentiment_by_theme,\n",
    "    x=\"sentiment_score\",\n",
    "    y=\"theme\",\n",
    "    orientation=\"h\",\n",
    "    title=\"<b>Emotional Impact (Transformer Model): Avg. Sentiment by Theme</b>\",\n",
    "    labels={\n",
    "        \"sentiment_score\": \"Average Sentiment Score (Closer to -1 is More Negative)\",\n",
    "        \"theme\": \"Complaint Theme\",\n",
    "    },\n",
    "    color=\"sentiment_score\",\n",
    "    color_continuous_scale=\"Reds_r\",\n",
    "    template=\"plotly_white\",\n",
    ")\n",
    "fig_final.update_layout(yaxis={\"categoryorder\": \"total descending\"}, title_x=0.5)\n",
    "fig_final.show()"
   ]
  },
  {
   "cell_type": "code",
   "execution_count": 15,
   "metadata": {
    "execution": {
     "iopub.execute_input": "2025-07-22T08:36:45.921972Z",
     "iopub.status.busy": "2025-07-22T08:36:45.921407Z",
     "iopub.status.idle": "2025-07-22T08:36:45.982044Z",
     "shell.execute_reply": "2025-07-22T08:36:45.981411Z",
     "shell.execute_reply.started": "2025-07-22T08:36:45.921949Z"
    },
    "trusted": true
   },
   "outputs": [
    {
     "name": "stdout",
     "output_type": "stream",
     "text": [
      "Creating a Sentiment vs. Frequency scatter plot for Conversational Apps...\n"
     ]
    },
    {
     "data": {
      "application/vnd.plotly.v1+json": {
       "config": {
        "plotlyServerURL": "https://plot.ly"
       },
       "data": [
        {
         "hovertemplate": "Frequency (Number of Reviews)=%{marker.size}<br>Average Sentiment Score=%{marker.color}<br>Theme=%{text}<extra></extra>",
         "legendgroup": "",
         "marker": {
          "color": {
           "bdata": "dCLVJt+01j/ry306ku3hv21qU5va1Oa/YP7lX/7l578=",
           "dtype": "f8"
          },
          "coloraxis": "coloraxis",
          "size": {
           "bdata": "Hy59B/QG7AQ=",
           "dtype": "i2"
          },
          "sizemode": "area",
          "sizeref": 29.5175,
          "symbol": "circle"
         },
         "mode": "markers+text",
         "name": "",
         "orientation": "v",
         "showlegend": false,
         "text": [
          "Monetization & Value",
          "Feature-Specific Issues",
          "AI Performance & Quality",
          "Technical Performance"
         ],
         "textposition": "top center",
         "type": "scatter",
         "x": {
          "bdata": "Hy59B/QG7AQ=",
          "dtype": "i2"
         },
         "xaxis": "x",
         "y": {
          "bdata": "dCLVJt+01j/ry306ku3hv21qU5va1Oa/YP7lX/7l578=",
          "dtype": "f8"
         },
         "yaxis": "y"
        }
       ],
       "layout": {
        "annotations": [
         {
          "showarrow": false,
          "text": "Avg. Frequency",
          "x": 4191,
          "xanchor": "left",
          "xref": "x",
          "y": 1,
          "yanchor": "top",
          "yref": "y domain"
         },
         {
          "showarrow": false,
          "text": "Avg. Sentiment",
          "x": 1,
          "xanchor": "right",
          "xref": "x domain",
          "y": -0.41644235062383567,
          "yanchor": "bottom",
          "yref": "y"
         }
        ],
        "coloraxis": {
         "colorbar": {
          "title": {
           "text": "Average Sentiment Score"
          }
         },
         "colorscale": [
          [
           0,
           "rgb(103,0,13)"
          ],
          [
           0.125,
           "rgb(165,15,21)"
          ],
          [
           0.25,
           "rgb(203,24,29)"
          ],
          [
           0.375,
           "rgb(239,59,44)"
          ],
          [
           0.5,
           "rgb(251,106,74)"
          ],
          [
           0.625,
           "rgb(252,146,114)"
          ],
          [
           0.75,
           "rgb(252,187,161)"
          ],
          [
           0.875,
           "rgb(254,224,210)"
          ],
          [
           1,
           "rgb(255,245,240)"
          ]
         ]
        },
        "legend": {
         "itemsizing": "constant",
         "tracegroupgap": 0
        },
        "shapes": [
         {
          "line": {
           "dash": "dash"
          },
          "type": "line",
          "x0": 4191,
          "x1": 4191,
          "xref": "x",
          "y0": 0,
          "y1": 1,
          "yref": "y domain"
         },
         {
          "line": {
           "dash": "dash"
          },
          "type": "line",
          "x0": 0,
          "x1": 1,
          "xref": "x domain",
          "y0": -0.41644235062383567,
          "y1": -0.41644235062383567,
          "yref": "y"
         }
        ],
        "template": {
         "data": {
          "bar": [
           {
            "error_x": {
             "color": "#2a3f5f"
            },
            "error_y": {
             "color": "#2a3f5f"
            },
            "marker": {
             "line": {
              "color": "white",
              "width": 0.5
             },
             "pattern": {
              "fillmode": "overlay",
              "size": 10,
              "solidity": 0.2
             }
            },
            "type": "bar"
           }
          ],
          "barpolar": [
           {
            "marker": {
             "line": {
              "color": "white",
              "width": 0.5
             },
             "pattern": {
              "fillmode": "overlay",
              "size": 10,
              "solidity": 0.2
             }
            },
            "type": "barpolar"
           }
          ],
          "carpet": [
           {
            "aaxis": {
             "endlinecolor": "#2a3f5f",
             "gridcolor": "#C8D4E3",
             "linecolor": "#C8D4E3",
             "minorgridcolor": "#C8D4E3",
             "startlinecolor": "#2a3f5f"
            },
            "baxis": {
             "endlinecolor": "#2a3f5f",
             "gridcolor": "#C8D4E3",
             "linecolor": "#C8D4E3",
             "minorgridcolor": "#C8D4E3",
             "startlinecolor": "#2a3f5f"
            },
            "type": "carpet"
           }
          ],
          "choropleth": [
           {
            "colorbar": {
             "outlinewidth": 0,
             "ticks": ""
            },
            "type": "choropleth"
           }
          ],
          "contour": [
           {
            "colorbar": {
             "outlinewidth": 0,
             "ticks": ""
            },
            "colorscale": [
             [
              0,
              "#0d0887"
             ],
             [
              0.1111111111111111,
              "#46039f"
             ],
             [
              0.2222222222222222,
              "#7201a8"
             ],
             [
              0.3333333333333333,
              "#9c179e"
             ],
             [
              0.4444444444444444,
              "#bd3786"
             ],
             [
              0.5555555555555556,
              "#d8576b"
             ],
             [
              0.6666666666666666,
              "#ed7953"
             ],
             [
              0.7777777777777778,
              "#fb9f3a"
             ],
             [
              0.8888888888888888,
              "#fdca26"
             ],
             [
              1,
              "#f0f921"
             ]
            ],
            "type": "contour"
           }
          ],
          "contourcarpet": [
           {
            "colorbar": {
             "outlinewidth": 0,
             "ticks": ""
            },
            "type": "contourcarpet"
           }
          ],
          "heatmap": [
           {
            "colorbar": {
             "outlinewidth": 0,
             "ticks": ""
            },
            "colorscale": [
             [
              0,
              "#0d0887"
             ],
             [
              0.1111111111111111,
              "#46039f"
             ],
             [
              0.2222222222222222,
              "#7201a8"
             ],
             [
              0.3333333333333333,
              "#9c179e"
             ],
             [
              0.4444444444444444,
              "#bd3786"
             ],
             [
              0.5555555555555556,
              "#d8576b"
             ],
             [
              0.6666666666666666,
              "#ed7953"
             ],
             [
              0.7777777777777778,
              "#fb9f3a"
             ],
             [
              0.8888888888888888,
              "#fdca26"
             ],
             [
              1,
              "#f0f921"
             ]
            ],
            "type": "heatmap"
           }
          ],
          "histogram": [
           {
            "marker": {
             "pattern": {
              "fillmode": "overlay",
              "size": 10,
              "solidity": 0.2
             }
            },
            "type": "histogram"
           }
          ],
          "histogram2d": [
           {
            "colorbar": {
             "outlinewidth": 0,
             "ticks": ""
            },
            "colorscale": [
             [
              0,
              "#0d0887"
             ],
             [
              0.1111111111111111,
              "#46039f"
             ],
             [
              0.2222222222222222,
              "#7201a8"
             ],
             [
              0.3333333333333333,
              "#9c179e"
             ],
             [
              0.4444444444444444,
              "#bd3786"
             ],
             [
              0.5555555555555556,
              "#d8576b"
             ],
             [
              0.6666666666666666,
              "#ed7953"
             ],
             [
              0.7777777777777778,
              "#fb9f3a"
             ],
             [
              0.8888888888888888,
              "#fdca26"
             ],
             [
              1,
              "#f0f921"
             ]
            ],
            "type": "histogram2d"
           }
          ],
          "histogram2dcontour": [
           {
            "colorbar": {
             "outlinewidth": 0,
             "ticks": ""
            },
            "colorscale": [
             [
              0,
              "#0d0887"
             ],
             [
              0.1111111111111111,
              "#46039f"
             ],
             [
              0.2222222222222222,
              "#7201a8"
             ],
             [
              0.3333333333333333,
              "#9c179e"
             ],
             [
              0.4444444444444444,
              "#bd3786"
             ],
             [
              0.5555555555555556,
              "#d8576b"
             ],
             [
              0.6666666666666666,
              "#ed7953"
             ],
             [
              0.7777777777777778,
              "#fb9f3a"
             ],
             [
              0.8888888888888888,
              "#fdca26"
             ],
             [
              1,
              "#f0f921"
             ]
            ],
            "type": "histogram2dcontour"
           }
          ],
          "mesh3d": [
           {
            "colorbar": {
             "outlinewidth": 0,
             "ticks": ""
            },
            "type": "mesh3d"
           }
          ],
          "parcoords": [
           {
            "line": {
             "colorbar": {
              "outlinewidth": 0,
              "ticks": ""
             }
            },
            "type": "parcoords"
           }
          ],
          "pie": [
           {
            "automargin": true,
            "type": "pie"
           }
          ],
          "scatter": [
           {
            "fillpattern": {
             "fillmode": "overlay",
             "size": 10,
             "solidity": 0.2
            },
            "type": "scatter"
           }
          ],
          "scatter3d": [
           {
            "line": {
             "colorbar": {
              "outlinewidth": 0,
              "ticks": ""
             }
            },
            "marker": {
             "colorbar": {
              "outlinewidth": 0,
              "ticks": ""
             }
            },
            "type": "scatter3d"
           }
          ],
          "scattercarpet": [
           {
            "marker": {
             "colorbar": {
              "outlinewidth": 0,
              "ticks": ""
             }
            },
            "type": "scattercarpet"
           }
          ],
          "scattergeo": [
           {
            "marker": {
             "colorbar": {
              "outlinewidth": 0,
              "ticks": ""
             }
            },
            "type": "scattergeo"
           }
          ],
          "scattergl": [
           {
            "marker": {
             "colorbar": {
              "outlinewidth": 0,
              "ticks": ""
             }
            },
            "type": "scattergl"
           }
          ],
          "scattermap": [
           {
            "marker": {
             "colorbar": {
              "outlinewidth": 0,
              "ticks": ""
             }
            },
            "type": "scattermap"
           }
          ],
          "scattermapbox": [
           {
            "marker": {
             "colorbar": {
              "outlinewidth": 0,
              "ticks": ""
             }
            },
            "type": "scattermapbox"
           }
          ],
          "scatterpolar": [
           {
            "marker": {
             "colorbar": {
              "outlinewidth": 0,
              "ticks": ""
             }
            },
            "type": "scatterpolar"
           }
          ],
          "scatterpolargl": [
           {
            "marker": {
             "colorbar": {
              "outlinewidth": 0,
              "ticks": ""
             }
            },
            "type": "scatterpolargl"
           }
          ],
          "scatterternary": [
           {
            "marker": {
             "colorbar": {
              "outlinewidth": 0,
              "ticks": ""
             }
            },
            "type": "scatterternary"
           }
          ],
          "surface": [
           {
            "colorbar": {
             "outlinewidth": 0,
             "ticks": ""
            },
            "colorscale": [
             [
              0,
              "#0d0887"
             ],
             [
              0.1111111111111111,
              "#46039f"
             ],
             [
              0.2222222222222222,
              "#7201a8"
             ],
             [
              0.3333333333333333,
              "#9c179e"
             ],
             [
              0.4444444444444444,
              "#bd3786"
             ],
             [
              0.5555555555555556,
              "#d8576b"
             ],
             [
              0.6666666666666666,
              "#ed7953"
             ],
             [
              0.7777777777777778,
              "#fb9f3a"
             ],
             [
              0.8888888888888888,
              "#fdca26"
             ],
             [
              1,
              "#f0f921"
             ]
            ],
            "type": "surface"
           }
          ],
          "table": [
           {
            "cells": {
             "fill": {
              "color": "#EBF0F8"
             },
             "line": {
              "color": "white"
             }
            },
            "header": {
             "fill": {
              "color": "#C8D4E3"
             },
             "line": {
              "color": "white"
             }
            },
            "type": "table"
           }
          ]
         },
         "layout": {
          "annotationdefaults": {
           "arrowcolor": "#2a3f5f",
           "arrowhead": 0,
           "arrowwidth": 1
          },
          "autotypenumbers": "strict",
          "coloraxis": {
           "colorbar": {
            "outlinewidth": 0,
            "ticks": ""
           }
          },
          "colorscale": {
           "diverging": [
            [
             0,
             "#8e0152"
            ],
            [
             0.1,
             "#c51b7d"
            ],
            [
             0.2,
             "#de77ae"
            ],
            [
             0.3,
             "#f1b6da"
            ],
            [
             0.4,
             "#fde0ef"
            ],
            [
             0.5,
             "#f7f7f7"
            ],
            [
             0.6,
             "#e6f5d0"
            ],
            [
             0.7,
             "#b8e186"
            ],
            [
             0.8,
             "#7fbc41"
            ],
            [
             0.9,
             "#4d9221"
            ],
            [
             1,
             "#276419"
            ]
           ],
           "sequential": [
            [
             0,
             "#0d0887"
            ],
            [
             0.1111111111111111,
             "#46039f"
            ],
            [
             0.2222222222222222,
             "#7201a8"
            ],
            [
             0.3333333333333333,
             "#9c179e"
            ],
            [
             0.4444444444444444,
             "#bd3786"
            ],
            [
             0.5555555555555556,
             "#d8576b"
            ],
            [
             0.6666666666666666,
             "#ed7953"
            ],
            [
             0.7777777777777778,
             "#fb9f3a"
            ],
            [
             0.8888888888888888,
             "#fdca26"
            ],
            [
             1,
             "#f0f921"
            ]
           ],
           "sequentialminus": [
            [
             0,
             "#0d0887"
            ],
            [
             0.1111111111111111,
             "#46039f"
            ],
            [
             0.2222222222222222,
             "#7201a8"
            ],
            [
             0.3333333333333333,
             "#9c179e"
            ],
            [
             0.4444444444444444,
             "#bd3786"
            ],
            [
             0.5555555555555556,
             "#d8576b"
            ],
            [
             0.6666666666666666,
             "#ed7953"
            ],
            [
             0.7777777777777778,
             "#fb9f3a"
            ],
            [
             0.8888888888888888,
             "#fdca26"
            ],
            [
             1,
             "#f0f921"
            ]
           ]
          },
          "colorway": [
           "#636efa",
           "#EF553B",
           "#00cc96",
           "#ab63fa",
           "#FFA15A",
           "#19d3f3",
           "#FF6692",
           "#B6E880",
           "#FF97FF",
           "#FECB52"
          ],
          "font": {
           "color": "#2a3f5f"
          },
          "geo": {
           "bgcolor": "white",
           "lakecolor": "white",
           "landcolor": "white",
           "showlakes": true,
           "showland": true,
           "subunitcolor": "#C8D4E3"
          },
          "hoverlabel": {
           "align": "left"
          },
          "hovermode": "closest",
          "mapbox": {
           "style": "light"
          },
          "paper_bgcolor": "white",
          "plot_bgcolor": "white",
          "polar": {
           "angularaxis": {
            "gridcolor": "#EBF0F8",
            "linecolor": "#EBF0F8",
            "ticks": ""
           },
           "bgcolor": "white",
           "radialaxis": {
            "gridcolor": "#EBF0F8",
            "linecolor": "#EBF0F8",
            "ticks": ""
           }
          },
          "scene": {
           "xaxis": {
            "backgroundcolor": "white",
            "gridcolor": "#DFE8F3",
            "gridwidth": 2,
            "linecolor": "#EBF0F8",
            "showbackground": true,
            "ticks": "",
            "zerolinecolor": "#EBF0F8"
           },
           "yaxis": {
            "backgroundcolor": "white",
            "gridcolor": "#DFE8F3",
            "gridwidth": 2,
            "linecolor": "#EBF0F8",
            "showbackground": true,
            "ticks": "",
            "zerolinecolor": "#EBF0F8"
           },
           "zaxis": {
            "backgroundcolor": "white",
            "gridcolor": "#DFE8F3",
            "gridwidth": 2,
            "linecolor": "#EBF0F8",
            "showbackground": true,
            "ticks": "",
            "zerolinecolor": "#EBF0F8"
           }
          },
          "shapedefaults": {
           "line": {
            "color": "#2a3f5f"
           }
          },
          "ternary": {
           "aaxis": {
            "gridcolor": "#DFE8F3",
            "linecolor": "#A2B1C6",
            "ticks": ""
           },
           "baxis": {
            "gridcolor": "#DFE8F3",
            "linecolor": "#A2B1C6",
            "ticks": ""
           },
           "bgcolor": "white",
           "caxis": {
            "gridcolor": "#DFE8F3",
            "linecolor": "#A2B1C6",
            "ticks": ""
           }
          },
          "title": {
           "x": 0.05
          },
          "xaxis": {
           "automargin": true,
           "gridcolor": "#EBF0F8",
           "linecolor": "#EBF0F8",
           "ticks": "",
           "title": {
            "standoff": 15
           },
           "zerolinecolor": "#EBF0F8",
           "zerolinewidth": 2
          },
          "yaxis": {
           "automargin": true,
           "gridcolor": "#EBF0F8",
           "linecolor": "#EBF0F8",
           "ticks": "",
           "title": {
            "standoff": 15
           },
           "zerolinecolor": "#EBF0F8",
           "zerolinewidth": 2
          }
         }
        },
        "title": {
         "text": "<b>Conversational Apps: Problem Priority Matrix</b>",
         "x": 0.5
        },
        "xaxis": {
         "anchor": "y",
         "domain": [
          0,
          1
         ],
         "title": {
          "text": "Frequency (Number of Reviews)"
         }
        },
        "yaxis": {
         "anchor": "x",
         "domain": [
          0,
          1
         ],
         "title": {
          "text": "Average Sentiment Score"
         }
        }
       }
      }
     },
     "metadata": {},
     "output_type": "display_data"
    }
   ],
   "source": [
    "# --- The \"Problem Priority Matrix\": Sentiment vs. Frequency ---\n",
    "print(\"Creating a Sentiment vs. Frequency scatter plot for Conversational Apps...\")\n",
    "\n",
    "# 1. Get Frequency\n",
    "theme_freq_conv = df[\"theme\"].value_counts().reset_index()\n",
    "theme_freq_conv.columns = [\"Theme\", \"Frequency (Number of Reviews)\"]\n",
    "\n",
    "# 2. Get Sentiment\n",
    "theme_sent_conv = df.groupby(\"theme\")[\"sentiment_score\"].mean().reset_index()\n",
    "theme_sent_conv.columns = [\"Theme\", \"Average Sentiment Score\"]\n",
    "\n",
    "# 3. Merge them\n",
    "priority_df_conv = pd.merge(theme_freq_conv, theme_sent_conv, on=\"Theme\")\n",
    "priority_df_conv = priority_df_conv[\n",
    "    ~priority_df_conv[\"Theme\"].isin([\"Outliers / Generic\", \"Other/Misc.\"])\n",
    "]\n",
    "\n",
    "# 4. Create the Scatter Plot\n",
    "fig_scatter_conv = px.scatter(\n",
    "    priority_df_conv,\n",
    "    x=\"Frequency (Number of Reviews)\",\n",
    "    y=\"Average Sentiment Score\",\n",
    "    text=\"Theme\",\n",
    "    size=\"Frequency (Number of Reviews)\",\n",
    "    color=\"Average Sentiment Score\",\n",
    "    color_continuous_scale=\"Reds_r\",\n",
    "    title=\"<b>Conversational Apps: Problem Priority Matrix</b>\",\n",
    "    template=\"plotly_white\",\n",
    ")\n",
    "fig_scatter_conv.update_traces(textposition=\"top center\")\n",
    "fig_scatter_conv.add_vline(\n",
    "    x=priority_df_conv[\"Frequency (Number of Reviews)\"].mean(),\n",
    "    line_dash=\"dash\",\n",
    "    annotation_text=\"Avg. Frequency\",\n",
    ")\n",
    "fig_scatter_conv.add_hline(\n",
    "    y=priority_df_conv[\"Average Sentiment Score\"].mean(),\n",
    "    line_dash=\"dash\",\n",
    "    annotation_text=\"Avg. Sentiment\",\n",
    ")\n",
    "fig_scatter_conv.update_layout(title_x=0.5)\n",
    "fig_scatter_conv.show()"
   ]
  },
  {
   "cell_type": "markdown",
   "metadata": {},
   "source": [
    "## Part 4 Measuring Emotional Impact\n",
    "\n",
    "To understand which problems are most frustrating, we use a Transformer-based sentiment model to score the emotional negativity of every review."
   ]
  },
  {
   "cell_type": "code",
   "execution_count": 16,
   "metadata": {
    "execution": {
     "iopub.execute_input": "2025-07-22T08:36:07.571519Z",
     "iopub.status.busy": "2025-07-22T08:36:07.570980Z",
     "iopub.status.idle": "2025-07-22T08:36:07.602974Z",
     "shell.execute_reply": "2025-07-22T08:36:07.602325Z",
     "shell.execute_reply.started": "2025-07-22T08:36:07.571493Z"
    },
    "trusted": true
   },
   "outputs": [
    {
     "name": "stdout",
     "output_type": "stream",
     "text": [
      "--- Qualitative Evidence for Key Findings ---\n",
      "--- Sample Reviews for Theme: 'Monetization & Value' ---\n",
      "\n",
      "Total reviews in this theme: 11807\n",
      "Average Sentiment Score: 0.355\n",
      "\n",
      "Sample 1: \"i absolutely love this app!!! it keeps me calm and relaxed and make me feel like i actually got this!!! ❤️💪🏾...\"\n",
      "\n",
      "Sample 2: \"this app deserves 5 stars. the app is so effective for me and i will definitely recommend this to my friends...\"\n",
      "\n",
      "Sample 3: \"do not pay for subscription. the ai is poorly designed for any interaction, it latches onto something you said and brings it back to that randomly and jarringly in conversation. the additions you get from the paid version are basically pointless and you can do everything you need via the normal free version. also the fact you can only pay monthly by the website and not the app is a clear money grab rom the developers. shameful...\"\n",
      "\n",
      "--------------------------------------------------------------------------------\n",
      "--- Sample Reviews for Theme: 'AI Performance & Quality' ---\n",
      "\n",
      "Total reviews in this theme: 1780\n",
      "Average Sentiment Score: -0.713\n",
      "\n",
      "Sample 1: \"extremely scummy. it says you'll be paying 6/month but it immediately goes to charge you 66 bucks for a year. this is outrageous. misleading and discouraging. why would anyone think you're talking about a years worth when it says that? imagine the revenue of it was actually a month sub....\"\n",
      "\n",
      "Sample 2: \"update as of february 17th: i'm not sure when they changed up the avatars but now i can't even do anything because it forces you to use the latest avatars and the app won't even load it....\"\n",
      "\n",
      "Sample 3: \"no refunds! plus, when eventually working, you have to purchase coins to edit your avatar! feels a bit of a rip off...\"\n",
      "\n",
      "--------------------------------------------------------------------------------\n",
      "--- Sample Reviews for Theme: 'User Safety & Emotional Impact' ---\n",
      "\n",
      "No reviews found for 'User Safety & Emotional Impact'.\n",
      "--- Sample Reviews for Theme: 'Technical Performance' ---\n",
      "\n",
      "Total reviews in this theme: 1260\n",
      "Average Sentiment Score: -0.747\n",
      "\n",
      "Sample 1: \"really app full positive and supportive thoughts understands well and i like the penguin i hope it was a human...\"\n",
      "\n",
      "Sample 2: \"paid for a subscription to unlock the nsfw aspects of this, only to find out it didn't have any. massive let down....\"\n",
      "\n",
      "Sample 3: \"i didn't see what the point of this application was. i gained absolutely nothing from having it installed....\"\n",
      "\n",
      "--------------------------------------------------------------------------------\n"
     ]
    }
   ],
   "source": [
    "# --- Final Step: Qualitative Analysis - Validating with User Voices ---\n",
    "\n",
    "\n",
    "def show_theme_samples(theme_name, n_samples=3, max_length=500):\n",
    "    \"\"\"\n",
    "    A helper function to show random, readable review samples for a given theme.\n",
    "    It prints the theme, the number of reviews in that theme, and some samples.\n",
    "    \"\"\"\n",
    "    print(f\"--- Sample Reviews for Theme: '{theme_name}' ---\\n\")\n",
    "\n",
    "    # Filter for the specific theme\n",
    "    theme_df = df[df[\"theme\"] == theme_name]\n",
    "\n",
    "    if theme_df.empty:\n",
    "        print(f\"No reviews found for '{theme_name}'.\")\n",
    "        return\n",
    "\n",
    "    # Filter for reviews that have some length, for better examples\n",
    "    long_reviews_df = theme_df[theme_df[\"review_text\"].str.len() > 100]\n",
    "\n",
    "    if len(long_reviews_df) < n_samples:\n",
    "        # If not enough long samples, just take what you can get from the shorter ones\n",
    "        samples = theme_df[\"review_text\"].sample(min(n_samples, len(theme_df))).tolist()\n",
    "    else:\n",
    "        samples = long_reviews_df[\"review_text\"].sample(n_samples).tolist()\n",
    "\n",
    "    if not samples:\n",
    "        print(f\"No representative reviews found for '{theme_name}'.\")\n",
    "        return\n",
    "\n",
    "    # Print the findings\n",
    "    print(f\"Total reviews in this theme: {len(theme_df)}\")\n",
    "    print(f\"Average Sentiment Score: {theme_df['sentiment_score'].mean():.3f}\\n\")\n",
    "\n",
    "    for i, sample in enumerate(samples):\n",
    "        # Print a truncated version for clarity\n",
    "        print(f'Sample {i + 1}: \"{sample[:max_length]}...\"\\n')\n",
    "    print(\"-\" * 80)\n",
    "\n",
    "\n",
    "# --- Execute the Function for Your Key Themes ---\n",
    "# Choose the themes that are most interesting from your charts.\n",
    "# For example, the largest one, the most negative one, and the one most central to your thesis.\n",
    "\n",
    "print(\"--- Qualitative Evidence for Key Findings ---\")\n",
    "\n",
    "show_theme_samples(\"Monetization & Value\")\n",
    "show_theme_samples(\"AI Performance & Quality\")\n",
    "show_theme_samples(\"User Safety & Emotional Impact\")\n",
    "show_theme_samples(\"Technical Performance\")"
   ]
  },
  {
   "cell_type": "markdown",
   "metadata": {},
   "source": [
    "## Part 5: Core Findings & Visualizations\n",
    "\n",
    "### Insight 1: Which Complaints Matter Most?\n",
    "\n",
    "This \"Problem Priority Matrix\" plots complaint frequency against emotional intensity. It helps us identify the most critical issues: those that are both common and highly frustrating to users."
   ]
  },
  {
   "cell_type": "code",
   "execution_count": 17,
   "metadata": {
    "execution": {
     "iopub.execute_input": "2025-07-22T08:36:11.355939Z",
     "iopub.status.busy": "2025-07-22T08:36:11.355657Z",
     "iopub.status.idle": "2025-07-22T08:36:11.400074Z",
     "shell.execute_reply": "2025-07-22T08:36:11.399408Z",
     "shell.execute_reply.started": "2025-07-22T08:36:11.355919Z"
    },
    "trusted": true
   },
   "outputs": [
    {
     "data": {
      "application/vnd.plotly.v1+json": {
       "config": {
        "plotlyServerURL": "https://plot.ly"
       },
       "data": [
        {
         "hovertemplate": "Number of Reviews=%{text}<br>Theme=%{y}<extra></extra>",
         "legendgroup": "",
         "marker": {
          "color": "#4C78A8",
          "pattern": {
           "shape": ""
          }
         },
         "name": "",
         "orientation": "h",
         "showlegend": false,
         "text": {
          "bdata": "AAAAAIAPx0AAAAAAAPSdQAAAAAAA0JtAAAAAAACwk0A=",
          "dtype": "f8"
         },
         "textposition": "outside",
         "type": "bar",
         "x": {
          "bdata": "Hy59B/QG7AQ=",
          "dtype": "i2"
         },
         "xaxis": "x",
         "y": [
          "Monetization & Value",
          "Feature-Specific Issues",
          "AI Performance & Quality",
          "Technical Performance"
         ],
         "yaxis": "y"
        }
       ],
       "layout": {
        "barmode": "relative",
        "font": {
         "family": "Arial",
         "size": 14
        },
        "legend": {
         "tracegroupgap": 0
        },
        "template": {
         "data": {
          "bar": [
           {
            "error_x": {
             "color": "#2a3f5f"
            },
            "error_y": {
             "color": "#2a3f5f"
            },
            "marker": {
             "line": {
              "color": "white",
              "width": 0.5
             },
             "pattern": {
              "fillmode": "overlay",
              "size": 10,
              "solidity": 0.2
             }
            },
            "type": "bar"
           }
          ],
          "barpolar": [
           {
            "marker": {
             "line": {
              "color": "white",
              "width": 0.5
             },
             "pattern": {
              "fillmode": "overlay",
              "size": 10,
              "solidity": 0.2
             }
            },
            "type": "barpolar"
           }
          ],
          "carpet": [
           {
            "aaxis": {
             "endlinecolor": "#2a3f5f",
             "gridcolor": "#C8D4E3",
             "linecolor": "#C8D4E3",
             "minorgridcolor": "#C8D4E3",
             "startlinecolor": "#2a3f5f"
            },
            "baxis": {
             "endlinecolor": "#2a3f5f",
             "gridcolor": "#C8D4E3",
             "linecolor": "#C8D4E3",
             "minorgridcolor": "#C8D4E3",
             "startlinecolor": "#2a3f5f"
            },
            "type": "carpet"
           }
          ],
          "choropleth": [
           {
            "colorbar": {
             "outlinewidth": 0,
             "ticks": ""
            },
            "type": "choropleth"
           }
          ],
          "contour": [
           {
            "colorbar": {
             "outlinewidth": 0,
             "ticks": ""
            },
            "colorscale": [
             [
              0,
              "#0d0887"
             ],
             [
              0.1111111111111111,
              "#46039f"
             ],
             [
              0.2222222222222222,
              "#7201a8"
             ],
             [
              0.3333333333333333,
              "#9c179e"
             ],
             [
              0.4444444444444444,
              "#bd3786"
             ],
             [
              0.5555555555555556,
              "#d8576b"
             ],
             [
              0.6666666666666666,
              "#ed7953"
             ],
             [
              0.7777777777777778,
              "#fb9f3a"
             ],
             [
              0.8888888888888888,
              "#fdca26"
             ],
             [
              1,
              "#f0f921"
             ]
            ],
            "type": "contour"
           }
          ],
          "contourcarpet": [
           {
            "colorbar": {
             "outlinewidth": 0,
             "ticks": ""
            },
            "type": "contourcarpet"
           }
          ],
          "heatmap": [
           {
            "colorbar": {
             "outlinewidth": 0,
             "ticks": ""
            },
            "colorscale": [
             [
              0,
              "#0d0887"
             ],
             [
              0.1111111111111111,
              "#46039f"
             ],
             [
              0.2222222222222222,
              "#7201a8"
             ],
             [
              0.3333333333333333,
              "#9c179e"
             ],
             [
              0.4444444444444444,
              "#bd3786"
             ],
             [
              0.5555555555555556,
              "#d8576b"
             ],
             [
              0.6666666666666666,
              "#ed7953"
             ],
             [
              0.7777777777777778,
              "#fb9f3a"
             ],
             [
              0.8888888888888888,
              "#fdca26"
             ],
             [
              1,
              "#f0f921"
             ]
            ],
            "type": "heatmap"
           }
          ],
          "histogram": [
           {
            "marker": {
             "pattern": {
              "fillmode": "overlay",
              "size": 10,
              "solidity": 0.2
             }
            },
            "type": "histogram"
           }
          ],
          "histogram2d": [
           {
            "colorbar": {
             "outlinewidth": 0,
             "ticks": ""
            },
            "colorscale": [
             [
              0,
              "#0d0887"
             ],
             [
              0.1111111111111111,
              "#46039f"
             ],
             [
              0.2222222222222222,
              "#7201a8"
             ],
             [
              0.3333333333333333,
              "#9c179e"
             ],
             [
              0.4444444444444444,
              "#bd3786"
             ],
             [
              0.5555555555555556,
              "#d8576b"
             ],
             [
              0.6666666666666666,
              "#ed7953"
             ],
             [
              0.7777777777777778,
              "#fb9f3a"
             ],
             [
              0.8888888888888888,
              "#fdca26"
             ],
             [
              1,
              "#f0f921"
             ]
            ],
            "type": "histogram2d"
           }
          ],
          "histogram2dcontour": [
           {
            "colorbar": {
             "outlinewidth": 0,
             "ticks": ""
            },
            "colorscale": [
             [
              0,
              "#0d0887"
             ],
             [
              0.1111111111111111,
              "#46039f"
             ],
             [
              0.2222222222222222,
              "#7201a8"
             ],
             [
              0.3333333333333333,
              "#9c179e"
             ],
             [
              0.4444444444444444,
              "#bd3786"
             ],
             [
              0.5555555555555556,
              "#d8576b"
             ],
             [
              0.6666666666666666,
              "#ed7953"
             ],
             [
              0.7777777777777778,
              "#fb9f3a"
             ],
             [
              0.8888888888888888,
              "#fdca26"
             ],
             [
              1,
              "#f0f921"
             ]
            ],
            "type": "histogram2dcontour"
           }
          ],
          "mesh3d": [
           {
            "colorbar": {
             "outlinewidth": 0,
             "ticks": ""
            },
            "type": "mesh3d"
           }
          ],
          "parcoords": [
           {
            "line": {
             "colorbar": {
              "outlinewidth": 0,
              "ticks": ""
             }
            },
            "type": "parcoords"
           }
          ],
          "pie": [
           {
            "automargin": true,
            "type": "pie"
           }
          ],
          "scatter": [
           {
            "fillpattern": {
             "fillmode": "overlay",
             "size": 10,
             "solidity": 0.2
            },
            "type": "scatter"
           }
          ],
          "scatter3d": [
           {
            "line": {
             "colorbar": {
              "outlinewidth": 0,
              "ticks": ""
             }
            },
            "marker": {
             "colorbar": {
              "outlinewidth": 0,
              "ticks": ""
             }
            },
            "type": "scatter3d"
           }
          ],
          "scattercarpet": [
           {
            "marker": {
             "colorbar": {
              "outlinewidth": 0,
              "ticks": ""
             }
            },
            "type": "scattercarpet"
           }
          ],
          "scattergeo": [
           {
            "marker": {
             "colorbar": {
              "outlinewidth": 0,
              "ticks": ""
             }
            },
            "type": "scattergeo"
           }
          ],
          "scattergl": [
           {
            "marker": {
             "colorbar": {
              "outlinewidth": 0,
              "ticks": ""
             }
            },
            "type": "scattergl"
           }
          ],
          "scattermap": [
           {
            "marker": {
             "colorbar": {
              "outlinewidth": 0,
              "ticks": ""
             }
            },
            "type": "scattermap"
           }
          ],
          "scattermapbox": [
           {
            "marker": {
             "colorbar": {
              "outlinewidth": 0,
              "ticks": ""
             }
            },
            "type": "scattermapbox"
           }
          ],
          "scatterpolar": [
           {
            "marker": {
             "colorbar": {
              "outlinewidth": 0,
              "ticks": ""
             }
            },
            "type": "scatterpolar"
           }
          ],
          "scatterpolargl": [
           {
            "marker": {
             "colorbar": {
              "outlinewidth": 0,
              "ticks": ""
             }
            },
            "type": "scatterpolargl"
           }
          ],
          "scatterternary": [
           {
            "marker": {
             "colorbar": {
              "outlinewidth": 0,
              "ticks": ""
             }
            },
            "type": "scatterternary"
           }
          ],
          "surface": [
           {
            "colorbar": {
             "outlinewidth": 0,
             "ticks": ""
            },
            "colorscale": [
             [
              0,
              "#0d0887"
             ],
             [
              0.1111111111111111,
              "#46039f"
             ],
             [
              0.2222222222222222,
              "#7201a8"
             ],
             [
              0.3333333333333333,
              "#9c179e"
             ],
             [
              0.4444444444444444,
              "#bd3786"
             ],
             [
              0.5555555555555556,
              "#d8576b"
             ],
             [
              0.6666666666666666,
              "#ed7953"
             ],
             [
              0.7777777777777778,
              "#fb9f3a"
             ],
             [
              0.8888888888888888,
              "#fdca26"
             ],
             [
              1,
              "#f0f921"
             ]
            ],
            "type": "surface"
           }
          ],
          "table": [
           {
            "cells": {
             "fill": {
              "color": "#EBF0F8"
             },
             "line": {
              "color": "white"
             }
            },
            "header": {
             "fill": {
              "color": "#C8D4E3"
             },
             "line": {
              "color": "white"
             }
            },
            "type": "table"
           }
          ]
         },
         "layout": {
          "annotationdefaults": {
           "arrowcolor": "#2a3f5f",
           "arrowhead": 0,
           "arrowwidth": 1
          },
          "autotypenumbers": "strict",
          "coloraxis": {
           "colorbar": {
            "outlinewidth": 0,
            "ticks": ""
           }
          },
          "colorscale": {
           "diverging": [
            [
             0,
             "#8e0152"
            ],
            [
             0.1,
             "#c51b7d"
            ],
            [
             0.2,
             "#de77ae"
            ],
            [
             0.3,
             "#f1b6da"
            ],
            [
             0.4,
             "#fde0ef"
            ],
            [
             0.5,
             "#f7f7f7"
            ],
            [
             0.6,
             "#e6f5d0"
            ],
            [
             0.7,
             "#b8e186"
            ],
            [
             0.8,
             "#7fbc41"
            ],
            [
             0.9,
             "#4d9221"
            ],
            [
             1,
             "#276419"
            ]
           ],
           "sequential": [
            [
             0,
             "#0d0887"
            ],
            [
             0.1111111111111111,
             "#46039f"
            ],
            [
             0.2222222222222222,
             "#7201a8"
            ],
            [
             0.3333333333333333,
             "#9c179e"
            ],
            [
             0.4444444444444444,
             "#bd3786"
            ],
            [
             0.5555555555555556,
             "#d8576b"
            ],
            [
             0.6666666666666666,
             "#ed7953"
            ],
            [
             0.7777777777777778,
             "#fb9f3a"
            ],
            [
             0.8888888888888888,
             "#fdca26"
            ],
            [
             1,
             "#f0f921"
            ]
           ],
           "sequentialminus": [
            [
             0,
             "#0d0887"
            ],
            [
             0.1111111111111111,
             "#46039f"
            ],
            [
             0.2222222222222222,
             "#7201a8"
            ],
            [
             0.3333333333333333,
             "#9c179e"
            ],
            [
             0.4444444444444444,
             "#bd3786"
            ],
            [
             0.5555555555555556,
             "#d8576b"
            ],
            [
             0.6666666666666666,
             "#ed7953"
            ],
            [
             0.7777777777777778,
             "#fb9f3a"
            ],
            [
             0.8888888888888888,
             "#fdca26"
            ],
            [
             1,
             "#f0f921"
            ]
           ]
          },
          "colorway": [
           "#636efa",
           "#EF553B",
           "#00cc96",
           "#ab63fa",
           "#FFA15A",
           "#19d3f3",
           "#FF6692",
           "#B6E880",
           "#FF97FF",
           "#FECB52"
          ],
          "font": {
           "color": "#2a3f5f"
          },
          "geo": {
           "bgcolor": "white",
           "lakecolor": "white",
           "landcolor": "white",
           "showlakes": true,
           "showland": true,
           "subunitcolor": "#C8D4E3"
          },
          "hoverlabel": {
           "align": "left"
          },
          "hovermode": "closest",
          "mapbox": {
           "style": "light"
          },
          "paper_bgcolor": "white",
          "plot_bgcolor": "white",
          "polar": {
           "angularaxis": {
            "gridcolor": "#EBF0F8",
            "linecolor": "#EBF0F8",
            "ticks": ""
           },
           "bgcolor": "white",
           "radialaxis": {
            "gridcolor": "#EBF0F8",
            "linecolor": "#EBF0F8",
            "ticks": ""
           }
          },
          "scene": {
           "xaxis": {
            "backgroundcolor": "white",
            "gridcolor": "#DFE8F3",
            "gridwidth": 2,
            "linecolor": "#EBF0F8",
            "showbackground": true,
            "ticks": "",
            "zerolinecolor": "#EBF0F8"
           },
           "yaxis": {
            "backgroundcolor": "white",
            "gridcolor": "#DFE8F3",
            "gridwidth": 2,
            "linecolor": "#EBF0F8",
            "showbackground": true,
            "ticks": "",
            "zerolinecolor": "#EBF0F8"
           },
           "zaxis": {
            "backgroundcolor": "white",
            "gridcolor": "#DFE8F3",
            "gridwidth": 2,
            "linecolor": "#EBF0F8",
            "showbackground": true,
            "ticks": "",
            "zerolinecolor": "#EBF0F8"
           }
          },
          "shapedefaults": {
           "line": {
            "color": "#2a3f5f"
           }
          },
          "ternary": {
           "aaxis": {
            "gridcolor": "#DFE8F3",
            "linecolor": "#A2B1C6",
            "ticks": ""
           },
           "baxis": {
            "gridcolor": "#DFE8F3",
            "linecolor": "#A2B1C6",
            "ticks": ""
           },
           "bgcolor": "white",
           "caxis": {
            "gridcolor": "#DFE8F3",
            "linecolor": "#A2B1C6",
            "ticks": ""
           }
          },
          "title": {
           "x": 0.05
          },
          "xaxis": {
           "automargin": true,
           "gridcolor": "#EBF0F8",
           "linecolor": "#EBF0F8",
           "ticks": "",
           "title": {
            "standoff": 15
           },
           "zerolinecolor": "#EBF0F8",
           "zerolinewidth": 2
          },
          "yaxis": {
           "automargin": true,
           "gridcolor": "#EBF0F8",
           "linecolor": "#EBF0F8",
           "ticks": "",
           "title": {
            "standoff": 15
           },
           "zerolinecolor": "#EBF0F8",
           "zerolinewidth": 2
          }
         }
        },
        "title": {
         "text": "<b>What Drives Negative Reviews for Conversational AI?</b><br><i>An Analysis of User Complaint Themes</i>",
         "x": 0.5
        },
        "xaxis": {
         "anchor": "y",
         "domain": [
          0,
          1
         ],
         "title": {
          "text": "Number of Reviews"
         }
        },
        "yaxis": {
         "anchor": "x",
         "categoryorder": "total ascending",
         "domain": [
          0,
          1
         ],
         "title": {
          "text": "Theme"
         }
        }
       }
      }
     },
     "metadata": {},
     "output_type": "display_data"
    }
   ],
   "source": [
    "# --- The Big Picture: High-Level Complaint Themes ---\n",
    "\n",
    "# Use the 'theme_distribution' DataFrame you already created\n",
    "# Or recreate it:\n",
    "theme_distribution_conv = (\n",
    "    df[~df[\"theme\"].isin([\"Outliers / Generic\", \"Other/Misc.\"])][\"theme\"]\n",
    "    .value_counts()\n",
    "    .reset_index()\n",
    ")\n",
    "theme_distribution_conv.columns = [\"Theme\", \"Number of Reviews\"]\n",
    "\n",
    "fig_conv_main = px.bar(\n",
    "    theme_distribution_conv,\n",
    "    x=\"Number of Reviews\",\n",
    "    y=\"Theme\",\n",
    "    orientation=\"h\",\n",
    "    title=\"<b>What Drives Negative Reviews for Conversational AI?</b><br><i>An Analysis of User Complaint Themes</i>\",\n",
    "    text=\"Number of Reviews\",\n",
    "    template=\"plotly_white\",\n",
    "    color_discrete_sequence=[\"#4C78A8\"],  # A nice blue color\n",
    ")\n",
    "fig_conv_main.update_traces(textposition=\"outside\")\n",
    "fig_conv_main.update_layout(\n",
    "    yaxis={\"categoryorder\": \"total ascending\"},\n",
    "    title_x=0.5,\n",
    "    font=dict(family=\"Arial\", size=14),\n",
    ")\n",
    "fig_conv_main.show()"
   ]
  },
  {
   "cell_type": "code",
   "execution_count": 18,
   "metadata": {
    "execution": {
     "iopub.execute_input": "2025-07-22T08:36:58.972185Z",
     "iopub.status.busy": "2025-07-22T08:36:58.971466Z",
     "iopub.status.idle": "2025-07-22T08:36:58.983690Z",
     "shell.execute_reply": "2025-07-22T08:36:58.982903Z",
     "shell.execute_reply.started": "2025-07-22T08:36:58.972161Z"
    },
    "trusted": true
   },
   "outputs": [
    {
     "name": "stdout",
     "output_type": "stream",
     "text": [
      "Setup for deep dive analysis is complete.\n"
     ]
    }
   ],
   "source": [
    "# Ensure the 'df' DataFrame with 'theme' and 'topic_name' columns exists.\n",
    "# Clean up the topic names for better chart labels.\n",
    "df[\"topic_name\"] = df[\"topic_name\"].str.replace(\"Redundant: \", \"\")\n",
    "\n",
    "\n",
    "# Define a helper function for the TF-IDF analysis to keep our code clean\n",
    "def get_top_tfidf_words_for_theme(theme_name, n_words=10):\n",
    "    \"\"\"\n",
    "    Calculates and returns the top TF-IDF words for all reviews within a specific theme.\n",
    "    \"\"\"\n",
    "    # Filter for the specific theme\n",
    "    theme_docs = df[df[\"theme\"] == theme_name][\"review_text\"].tolist()\n",
    "\n",
    "    if not theme_docs:\n",
    "        return pd.DataFrame(columns=[\"Word\", \"TF-IDF Score\"])\n",
    "\n",
    "    # Use a new vectorizer for TF-IDF\n",
    "    tfidf_vectorizer = TfidfVectorizer(\n",
    "        stop_words=\"english\", ngram_range=(1, 2), max_features=1000\n",
    "    )\n",
    "    tfidf_matrix = tfidf_vectorizer.fit_transform(theme_docs)\n",
    "\n",
    "    # Sum the TF-IDF scores for each word across all documents in the theme\n",
    "    summed_tfidf = tfidf_matrix.sum(axis=0)\n",
    "    # Convert to a 1D array\n",
    "    summed_tfidf_array = np.asarray(summed_tfidf).ravel()\n",
    "\n",
    "    # Get the top words\n",
    "    top_indices = summed_tfidf_array.argsort()[-n_words:][::-1]\n",
    "    top_words = np.array(tfidf_vectorizer.get_feature_names_out())[top_indices]\n",
    "    top_scores = summed_tfidf_array[top_indices]\n",
    "\n",
    "    return pd.DataFrame({\"Word\": top_words, \"TF-IDF Score\": top_scores})\n",
    "\n",
    "\n",
    "print(\"Setup for deep dive analysis is complete.\")"
   ]
  },
  {
   "cell_type": "markdown",
   "metadata": {},
   "source": [
    "---\n",
    "### Deep Dive 1: AI Performance & Conversational Quality\n",
    "\n",
    "This theme is unique to conversational apps. Here we explore the specific reasons why users feel the AI is failing as a conversational partner."
   ]
  },
  {
   "cell_type": "code",
   "execution_count": 19,
   "metadata": {
    "execution": {
     "iopub.execute_input": "2025-07-22T08:37:03.091661Z",
     "iopub.status.busy": "2025-07-22T08:37:03.091406Z",
     "iopub.status.idle": "2025-07-22T08:37:03.306064Z",
     "shell.execute_reply": "2025-07-22T08:37:03.305485Z",
     "shell.execute_reply.started": "2025-07-22T08:37:03.091641Z"
    },
    "trusted": true
   },
   "outputs": [
    {
     "data": {
      "application/vnd.plotly.v1+json": {
       "config": {
        "plotlyServerURL": "https://plot.ly"
       },
       "data": [
        {
         "branchvalues": "total",
         "domain": {
          "x": [
           0,
           1
          ],
          "y": [
           0,
           1
          ]
         },
         "hovertemplate": "labels=%{label}<br>Review Count=%{value}<br>parent=%{parent}<br>id=%{id}<extra></extra>",
         "ids": [
          "AI Performance Complaints/AI Memory & Conversation Quality",
          "AI Performance Complaints/AI Persona (Gendering 'She/Her')",
          "AI Performance Complaints/Chatbot Comparisons (ChatGPT)",
          "AI Performance Complaints/Poor Conversation Quality",
          "AI Performance Complaints/Conversation Timing",
          "AI Performance Complaints/AI Persona Gendering",
          "AI Performance Complaints/Generic Conversation",
          "AI Performance Complaints"
         ],
         "labels": [
          "AI Memory & Conversation Quality",
          "AI Persona (Gendering 'She/Her')",
          "Chatbot Comparisons (ChatGPT)",
          "Poor Conversation Quality",
          "Conversation Timing",
          "AI Persona Gendering",
          "Generic Conversation",
          "AI Performance Complaints"
         ],
         "name": "",
         "parents": [
          "AI Performance Complaints",
          "AI Performance Complaints",
          "AI Performance Complaints",
          "AI Performance Complaints",
          "AI Performance Complaints",
          "AI Performance Complaints",
          "AI Performance Complaints",
          ""
         ],
         "type": "treemap",
         "values": {
          "bdata": "AAAAAAAQf0AAAAAAAPB6QAAAAAAAYHdAAAAAAACQcEAAAAAAAMBTQAAAAAAAAFJAAAAAAAAAT0AAAAAAANCbQA==",
          "dtype": "f8"
         }
        }
       ],
       "layout": {
        "legend": {
         "tracegroupgap": 0
        },
        "template": {
         "data": {
          "bar": [
           {
            "error_x": {
             "color": "#2a3f5f"
            },
            "error_y": {
             "color": "#2a3f5f"
            },
            "marker": {
             "line": {
              "color": "#E5ECF6",
              "width": 0.5
             },
             "pattern": {
              "fillmode": "overlay",
              "size": 10,
              "solidity": 0.2
             }
            },
            "type": "bar"
           }
          ],
          "barpolar": [
           {
            "marker": {
             "line": {
              "color": "#E5ECF6",
              "width": 0.5
             },
             "pattern": {
              "fillmode": "overlay",
              "size": 10,
              "solidity": 0.2
             }
            },
            "type": "barpolar"
           }
          ],
          "carpet": [
           {
            "aaxis": {
             "endlinecolor": "#2a3f5f",
             "gridcolor": "white",
             "linecolor": "white",
             "minorgridcolor": "white",
             "startlinecolor": "#2a3f5f"
            },
            "baxis": {
             "endlinecolor": "#2a3f5f",
             "gridcolor": "white",
             "linecolor": "white",
             "minorgridcolor": "white",
             "startlinecolor": "#2a3f5f"
            },
            "type": "carpet"
           }
          ],
          "choropleth": [
           {
            "colorbar": {
             "outlinewidth": 0,
             "ticks": ""
            },
            "type": "choropleth"
           }
          ],
          "contour": [
           {
            "colorbar": {
             "outlinewidth": 0,
             "ticks": ""
            },
            "colorscale": [
             [
              0,
              "#0d0887"
             ],
             [
              0.1111111111111111,
              "#46039f"
             ],
             [
              0.2222222222222222,
              "#7201a8"
             ],
             [
              0.3333333333333333,
              "#9c179e"
             ],
             [
              0.4444444444444444,
              "#bd3786"
             ],
             [
              0.5555555555555556,
              "#d8576b"
             ],
             [
              0.6666666666666666,
              "#ed7953"
             ],
             [
              0.7777777777777778,
              "#fb9f3a"
             ],
             [
              0.8888888888888888,
              "#fdca26"
             ],
             [
              1,
              "#f0f921"
             ]
            ],
            "type": "contour"
           }
          ],
          "contourcarpet": [
           {
            "colorbar": {
             "outlinewidth": 0,
             "ticks": ""
            },
            "type": "contourcarpet"
           }
          ],
          "heatmap": [
           {
            "colorbar": {
             "outlinewidth": 0,
             "ticks": ""
            },
            "colorscale": [
             [
              0,
              "#0d0887"
             ],
             [
              0.1111111111111111,
              "#46039f"
             ],
             [
              0.2222222222222222,
              "#7201a8"
             ],
             [
              0.3333333333333333,
              "#9c179e"
             ],
             [
              0.4444444444444444,
              "#bd3786"
             ],
             [
              0.5555555555555556,
              "#d8576b"
             ],
             [
              0.6666666666666666,
              "#ed7953"
             ],
             [
              0.7777777777777778,
              "#fb9f3a"
             ],
             [
              0.8888888888888888,
              "#fdca26"
             ],
             [
              1,
              "#f0f921"
             ]
            ],
            "type": "heatmap"
           }
          ],
          "histogram": [
           {
            "marker": {
             "pattern": {
              "fillmode": "overlay",
              "size": 10,
              "solidity": 0.2
             }
            },
            "type": "histogram"
           }
          ],
          "histogram2d": [
           {
            "colorbar": {
             "outlinewidth": 0,
             "ticks": ""
            },
            "colorscale": [
             [
              0,
              "#0d0887"
             ],
             [
              0.1111111111111111,
              "#46039f"
             ],
             [
              0.2222222222222222,
              "#7201a8"
             ],
             [
              0.3333333333333333,
              "#9c179e"
             ],
             [
              0.4444444444444444,
              "#bd3786"
             ],
             [
              0.5555555555555556,
              "#d8576b"
             ],
             [
              0.6666666666666666,
              "#ed7953"
             ],
             [
              0.7777777777777778,
              "#fb9f3a"
             ],
             [
              0.8888888888888888,
              "#fdca26"
             ],
             [
              1,
              "#f0f921"
             ]
            ],
            "type": "histogram2d"
           }
          ],
          "histogram2dcontour": [
           {
            "colorbar": {
             "outlinewidth": 0,
             "ticks": ""
            },
            "colorscale": [
             [
              0,
              "#0d0887"
             ],
             [
              0.1111111111111111,
              "#46039f"
             ],
             [
              0.2222222222222222,
              "#7201a8"
             ],
             [
              0.3333333333333333,
              "#9c179e"
             ],
             [
              0.4444444444444444,
              "#bd3786"
             ],
             [
              0.5555555555555556,
              "#d8576b"
             ],
             [
              0.6666666666666666,
              "#ed7953"
             ],
             [
              0.7777777777777778,
              "#fb9f3a"
             ],
             [
              0.8888888888888888,
              "#fdca26"
             ],
             [
              1,
              "#f0f921"
             ]
            ],
            "type": "histogram2dcontour"
           }
          ],
          "mesh3d": [
           {
            "colorbar": {
             "outlinewidth": 0,
             "ticks": ""
            },
            "type": "mesh3d"
           }
          ],
          "parcoords": [
           {
            "line": {
             "colorbar": {
              "outlinewidth": 0,
              "ticks": ""
             }
            },
            "type": "parcoords"
           }
          ],
          "pie": [
           {
            "automargin": true,
            "type": "pie"
           }
          ],
          "scatter": [
           {
            "fillpattern": {
             "fillmode": "overlay",
             "size": 10,
             "solidity": 0.2
            },
            "type": "scatter"
           }
          ],
          "scatter3d": [
           {
            "line": {
             "colorbar": {
              "outlinewidth": 0,
              "ticks": ""
             }
            },
            "marker": {
             "colorbar": {
              "outlinewidth": 0,
              "ticks": ""
             }
            },
            "type": "scatter3d"
           }
          ],
          "scattercarpet": [
           {
            "marker": {
             "colorbar": {
              "outlinewidth": 0,
              "ticks": ""
             }
            },
            "type": "scattercarpet"
           }
          ],
          "scattergeo": [
           {
            "marker": {
             "colorbar": {
              "outlinewidth": 0,
              "ticks": ""
             }
            },
            "type": "scattergeo"
           }
          ],
          "scattergl": [
           {
            "marker": {
             "colorbar": {
              "outlinewidth": 0,
              "ticks": ""
             }
            },
            "type": "scattergl"
           }
          ],
          "scattermap": [
           {
            "marker": {
             "colorbar": {
              "outlinewidth": 0,
              "ticks": ""
             }
            },
            "type": "scattermap"
           }
          ],
          "scattermapbox": [
           {
            "marker": {
             "colorbar": {
              "outlinewidth": 0,
              "ticks": ""
             }
            },
            "type": "scattermapbox"
           }
          ],
          "scatterpolar": [
           {
            "marker": {
             "colorbar": {
              "outlinewidth": 0,
              "ticks": ""
             }
            },
            "type": "scatterpolar"
           }
          ],
          "scatterpolargl": [
           {
            "marker": {
             "colorbar": {
              "outlinewidth": 0,
              "ticks": ""
             }
            },
            "type": "scatterpolargl"
           }
          ],
          "scatterternary": [
           {
            "marker": {
             "colorbar": {
              "outlinewidth": 0,
              "ticks": ""
             }
            },
            "type": "scatterternary"
           }
          ],
          "surface": [
           {
            "colorbar": {
             "outlinewidth": 0,
             "ticks": ""
            },
            "colorscale": [
             [
              0,
              "#0d0887"
             ],
             [
              0.1111111111111111,
              "#46039f"
             ],
             [
              0.2222222222222222,
              "#7201a8"
             ],
             [
              0.3333333333333333,
              "#9c179e"
             ],
             [
              0.4444444444444444,
              "#bd3786"
             ],
             [
              0.5555555555555556,
              "#d8576b"
             ],
             [
              0.6666666666666666,
              "#ed7953"
             ],
             [
              0.7777777777777778,
              "#fb9f3a"
             ],
             [
              0.8888888888888888,
              "#fdca26"
             ],
             [
              1,
              "#f0f921"
             ]
            ],
            "type": "surface"
           }
          ],
          "table": [
           {
            "cells": {
             "fill": {
              "color": "#EBF0F8"
             },
             "line": {
              "color": "white"
             }
            },
            "header": {
             "fill": {
              "color": "#C8D4E3"
             },
             "line": {
              "color": "white"
             }
            },
            "type": "table"
           }
          ]
         },
         "layout": {
          "annotationdefaults": {
           "arrowcolor": "#2a3f5f",
           "arrowhead": 0,
           "arrowwidth": 1
          },
          "autotypenumbers": "strict",
          "coloraxis": {
           "colorbar": {
            "outlinewidth": 0,
            "ticks": ""
           }
          },
          "colorscale": {
           "diverging": [
            [
             0,
             "#8e0152"
            ],
            [
             0.1,
             "#c51b7d"
            ],
            [
             0.2,
             "#de77ae"
            ],
            [
             0.3,
             "#f1b6da"
            ],
            [
             0.4,
             "#fde0ef"
            ],
            [
             0.5,
             "#f7f7f7"
            ],
            [
             0.6,
             "#e6f5d0"
            ],
            [
             0.7,
             "#b8e186"
            ],
            [
             0.8,
             "#7fbc41"
            ],
            [
             0.9,
             "#4d9221"
            ],
            [
             1,
             "#276419"
            ]
           ],
           "sequential": [
            [
             0,
             "#0d0887"
            ],
            [
             0.1111111111111111,
             "#46039f"
            ],
            [
             0.2222222222222222,
             "#7201a8"
            ],
            [
             0.3333333333333333,
             "#9c179e"
            ],
            [
             0.4444444444444444,
             "#bd3786"
            ],
            [
             0.5555555555555556,
             "#d8576b"
            ],
            [
             0.6666666666666666,
             "#ed7953"
            ],
            [
             0.7777777777777778,
             "#fb9f3a"
            ],
            [
             0.8888888888888888,
             "#fdca26"
            ],
            [
             1,
             "#f0f921"
            ]
           ],
           "sequentialminus": [
            [
             0,
             "#0d0887"
            ],
            [
             0.1111111111111111,
             "#46039f"
            ],
            [
             0.2222222222222222,
             "#7201a8"
            ],
            [
             0.3333333333333333,
             "#9c179e"
            ],
            [
             0.4444444444444444,
             "#bd3786"
            ],
            [
             0.5555555555555556,
             "#d8576b"
            ],
            [
             0.6666666666666666,
             "#ed7953"
            ],
            [
             0.7777777777777778,
             "#fb9f3a"
            ],
            [
             0.8888888888888888,
             "#fdca26"
            ],
            [
             1,
             "#f0f921"
            ]
           ]
          },
          "colorway": [
           "#636efa",
           "#EF553B",
           "#00cc96",
           "#ab63fa",
           "#FFA15A",
           "#19d3f3",
           "#FF6692",
           "#B6E880",
           "#FF97FF",
           "#FECB52"
          ],
          "font": {
           "color": "#2a3f5f"
          },
          "geo": {
           "bgcolor": "white",
           "lakecolor": "white",
           "landcolor": "#E5ECF6",
           "showlakes": true,
           "showland": true,
           "subunitcolor": "white"
          },
          "hoverlabel": {
           "align": "left"
          },
          "hovermode": "closest",
          "mapbox": {
           "style": "light"
          },
          "paper_bgcolor": "white",
          "plot_bgcolor": "#E5ECF6",
          "polar": {
           "angularaxis": {
            "gridcolor": "white",
            "linecolor": "white",
            "ticks": ""
           },
           "bgcolor": "#E5ECF6",
           "radialaxis": {
            "gridcolor": "white",
            "linecolor": "white",
            "ticks": ""
           }
          },
          "scene": {
           "xaxis": {
            "backgroundcolor": "#E5ECF6",
            "gridcolor": "white",
            "gridwidth": 2,
            "linecolor": "white",
            "showbackground": true,
            "ticks": "",
            "zerolinecolor": "white"
           },
           "yaxis": {
            "backgroundcolor": "#E5ECF6",
            "gridcolor": "white",
            "gridwidth": 2,
            "linecolor": "white",
            "showbackground": true,
            "ticks": "",
            "zerolinecolor": "white"
           },
           "zaxis": {
            "backgroundcolor": "#E5ECF6",
            "gridcolor": "white",
            "gridwidth": 2,
            "linecolor": "white",
            "showbackground": true,
            "ticks": "",
            "zerolinecolor": "white"
           }
          },
          "shapedefaults": {
           "line": {
            "color": "#2a3f5f"
           }
          },
          "ternary": {
           "aaxis": {
            "gridcolor": "white",
            "linecolor": "white",
            "ticks": ""
           },
           "baxis": {
            "gridcolor": "white",
            "linecolor": "white",
            "ticks": ""
           },
           "bgcolor": "#E5ECF6",
           "caxis": {
            "gridcolor": "white",
            "linecolor": "white",
            "ticks": ""
           }
          },
          "title": {
           "x": 0.05
          },
          "xaxis": {
           "automargin": true,
           "gridcolor": "white",
           "linecolor": "white",
           "ticks": "",
           "title": {
            "standoff": 15
           },
           "zerolinecolor": "white",
           "zerolinewidth": 2
          },
          "yaxis": {
           "automargin": true,
           "gridcolor": "white",
           "linecolor": "white",
           "ticks": "",
           "title": {
            "standoff": 15
           },
           "zerolinecolor": "white",
           "zerolinewidth": 2
          }
         }
        },
        "title": {
         "text": "<b>Breakdown: AI Performance Complaints</b>"
        },
        "treemapcolorway": [
         "rgb(8,48,107)",
         "rgb(8,81,156)",
         "rgb(33,113,181)",
         "rgb(66,146,198)",
         "rgb(107,174,214)",
         "rgb(158,202,225)",
         "rgb(198,219,239)",
         "rgb(222,235,247)",
         "rgb(247,251,255)"
        ]
       }
      }
     },
     "metadata": {},
     "output_type": "display_data"
    },
    {
     "data": {
      "application/vnd.plotly.v1+json": {
       "config": {
        "plotlyServerURL": "https://plot.ly"
       },
       "data": [
        {
         "branchvalues": "total",
         "domain": {
          "x": [
           0,
           1
          ],
          "y": [
           0,
           1
          ]
         },
         "hovertemplate": "labels=%{label}<br>Review Count=%{value}<br>parent=%{parent}<br>id=%{id}<extra></extra>",
         "ids": [
          "AI Memory & Conversation Quality",
          "AI Persona (Gendering 'She/Her')",
          "Chatbot Comparisons (ChatGPT)",
          "Poor Conversation Quality",
          "Conversation Timing",
          "AI Persona Gendering",
          "Generic Conversation"
         ],
         "labels": [
          "AI Memory & Conversation Quality",
          "AI Persona (Gendering 'She/Her')",
          "Chatbot Comparisons (ChatGPT)",
          "Poor Conversation Quality",
          "Conversation Timing",
          "AI Persona Gendering",
          "Generic Conversation"
         ],
         "name": "",
         "parents": [
          "",
          "",
          "",
          "",
          "",
          "",
          ""
         ],
         "type": "sunburst",
         "values": {
          "bdata": "AAAAAAAQf0AAAAAAAPB6QAAAAAAAYHdAAAAAAACQcEAAAAAAAMBTQAAAAAAAAFJAAAAAAAAAT0A=",
          "dtype": "f8"
         }
        }
       ],
       "layout": {
        "legend": {
         "tracegroupgap": 0
        },
        "sunburstcolorway": [
         "rgb(102, 197, 204)",
         "rgb(246, 207, 113)",
         "rgb(248, 156, 116)",
         "rgb(220, 176, 242)",
         "rgb(135, 197, 95)",
         "rgb(158, 185, 243)",
         "rgb(254, 136, 177)",
         "rgb(201, 219, 116)",
         "rgb(139, 224, 164)",
         "rgb(180, 151, 231)",
         "rgb(179, 179, 179)"
        ],
        "template": {
         "data": {
          "bar": [
           {
            "error_x": {
             "color": "#2a3f5f"
            },
            "error_y": {
             "color": "#2a3f5f"
            },
            "marker": {
             "line": {
              "color": "#E5ECF6",
              "width": 0.5
             },
             "pattern": {
              "fillmode": "overlay",
              "size": 10,
              "solidity": 0.2
             }
            },
            "type": "bar"
           }
          ],
          "barpolar": [
           {
            "marker": {
             "line": {
              "color": "#E5ECF6",
              "width": 0.5
             },
             "pattern": {
              "fillmode": "overlay",
              "size": 10,
              "solidity": 0.2
             }
            },
            "type": "barpolar"
           }
          ],
          "carpet": [
           {
            "aaxis": {
             "endlinecolor": "#2a3f5f",
             "gridcolor": "white",
             "linecolor": "white",
             "minorgridcolor": "white",
             "startlinecolor": "#2a3f5f"
            },
            "baxis": {
             "endlinecolor": "#2a3f5f",
             "gridcolor": "white",
             "linecolor": "white",
             "minorgridcolor": "white",
             "startlinecolor": "#2a3f5f"
            },
            "type": "carpet"
           }
          ],
          "choropleth": [
           {
            "colorbar": {
             "outlinewidth": 0,
             "ticks": ""
            },
            "type": "choropleth"
           }
          ],
          "contour": [
           {
            "colorbar": {
             "outlinewidth": 0,
             "ticks": ""
            },
            "colorscale": [
             [
              0,
              "#0d0887"
             ],
             [
              0.1111111111111111,
              "#46039f"
             ],
             [
              0.2222222222222222,
              "#7201a8"
             ],
             [
              0.3333333333333333,
              "#9c179e"
             ],
             [
              0.4444444444444444,
              "#bd3786"
             ],
             [
              0.5555555555555556,
              "#d8576b"
             ],
             [
              0.6666666666666666,
              "#ed7953"
             ],
             [
              0.7777777777777778,
              "#fb9f3a"
             ],
             [
              0.8888888888888888,
              "#fdca26"
             ],
             [
              1,
              "#f0f921"
             ]
            ],
            "type": "contour"
           }
          ],
          "contourcarpet": [
           {
            "colorbar": {
             "outlinewidth": 0,
             "ticks": ""
            },
            "type": "contourcarpet"
           }
          ],
          "heatmap": [
           {
            "colorbar": {
             "outlinewidth": 0,
             "ticks": ""
            },
            "colorscale": [
             [
              0,
              "#0d0887"
             ],
             [
              0.1111111111111111,
              "#46039f"
             ],
             [
              0.2222222222222222,
              "#7201a8"
             ],
             [
              0.3333333333333333,
              "#9c179e"
             ],
             [
              0.4444444444444444,
              "#bd3786"
             ],
             [
              0.5555555555555556,
              "#d8576b"
             ],
             [
              0.6666666666666666,
              "#ed7953"
             ],
             [
              0.7777777777777778,
              "#fb9f3a"
             ],
             [
              0.8888888888888888,
              "#fdca26"
             ],
             [
              1,
              "#f0f921"
             ]
            ],
            "type": "heatmap"
           }
          ],
          "histogram": [
           {
            "marker": {
             "pattern": {
              "fillmode": "overlay",
              "size": 10,
              "solidity": 0.2
             }
            },
            "type": "histogram"
           }
          ],
          "histogram2d": [
           {
            "colorbar": {
             "outlinewidth": 0,
             "ticks": ""
            },
            "colorscale": [
             [
              0,
              "#0d0887"
             ],
             [
              0.1111111111111111,
              "#46039f"
             ],
             [
              0.2222222222222222,
              "#7201a8"
             ],
             [
              0.3333333333333333,
              "#9c179e"
             ],
             [
              0.4444444444444444,
              "#bd3786"
             ],
             [
              0.5555555555555556,
              "#d8576b"
             ],
             [
              0.6666666666666666,
              "#ed7953"
             ],
             [
              0.7777777777777778,
              "#fb9f3a"
             ],
             [
              0.8888888888888888,
              "#fdca26"
             ],
             [
              1,
              "#f0f921"
             ]
            ],
            "type": "histogram2d"
           }
          ],
          "histogram2dcontour": [
           {
            "colorbar": {
             "outlinewidth": 0,
             "ticks": ""
            },
            "colorscale": [
             [
              0,
              "#0d0887"
             ],
             [
              0.1111111111111111,
              "#46039f"
             ],
             [
              0.2222222222222222,
              "#7201a8"
             ],
             [
              0.3333333333333333,
              "#9c179e"
             ],
             [
              0.4444444444444444,
              "#bd3786"
             ],
             [
              0.5555555555555556,
              "#d8576b"
             ],
             [
              0.6666666666666666,
              "#ed7953"
             ],
             [
              0.7777777777777778,
              "#fb9f3a"
             ],
             [
              0.8888888888888888,
              "#fdca26"
             ],
             [
              1,
              "#f0f921"
             ]
            ],
            "type": "histogram2dcontour"
           }
          ],
          "mesh3d": [
           {
            "colorbar": {
             "outlinewidth": 0,
             "ticks": ""
            },
            "type": "mesh3d"
           }
          ],
          "parcoords": [
           {
            "line": {
             "colorbar": {
              "outlinewidth": 0,
              "ticks": ""
             }
            },
            "type": "parcoords"
           }
          ],
          "pie": [
           {
            "automargin": true,
            "type": "pie"
           }
          ],
          "scatter": [
           {
            "fillpattern": {
             "fillmode": "overlay",
             "size": 10,
             "solidity": 0.2
            },
            "type": "scatter"
           }
          ],
          "scatter3d": [
           {
            "line": {
             "colorbar": {
              "outlinewidth": 0,
              "ticks": ""
             }
            },
            "marker": {
             "colorbar": {
              "outlinewidth": 0,
              "ticks": ""
             }
            },
            "type": "scatter3d"
           }
          ],
          "scattercarpet": [
           {
            "marker": {
             "colorbar": {
              "outlinewidth": 0,
              "ticks": ""
             }
            },
            "type": "scattercarpet"
           }
          ],
          "scattergeo": [
           {
            "marker": {
             "colorbar": {
              "outlinewidth": 0,
              "ticks": ""
             }
            },
            "type": "scattergeo"
           }
          ],
          "scattergl": [
           {
            "marker": {
             "colorbar": {
              "outlinewidth": 0,
              "ticks": ""
             }
            },
            "type": "scattergl"
           }
          ],
          "scattermap": [
           {
            "marker": {
             "colorbar": {
              "outlinewidth": 0,
              "ticks": ""
             }
            },
            "type": "scattermap"
           }
          ],
          "scattermapbox": [
           {
            "marker": {
             "colorbar": {
              "outlinewidth": 0,
              "ticks": ""
             }
            },
            "type": "scattermapbox"
           }
          ],
          "scatterpolar": [
           {
            "marker": {
             "colorbar": {
              "outlinewidth": 0,
              "ticks": ""
             }
            },
            "type": "scatterpolar"
           }
          ],
          "scatterpolargl": [
           {
            "marker": {
             "colorbar": {
              "outlinewidth": 0,
              "ticks": ""
             }
            },
            "type": "scatterpolargl"
           }
          ],
          "scatterternary": [
           {
            "marker": {
             "colorbar": {
              "outlinewidth": 0,
              "ticks": ""
             }
            },
            "type": "scatterternary"
           }
          ],
          "surface": [
           {
            "colorbar": {
             "outlinewidth": 0,
             "ticks": ""
            },
            "colorscale": [
             [
              0,
              "#0d0887"
             ],
             [
              0.1111111111111111,
              "#46039f"
             ],
             [
              0.2222222222222222,
              "#7201a8"
             ],
             [
              0.3333333333333333,
              "#9c179e"
             ],
             [
              0.4444444444444444,
              "#bd3786"
             ],
             [
              0.5555555555555556,
              "#d8576b"
             ],
             [
              0.6666666666666666,
              "#ed7953"
             ],
             [
              0.7777777777777778,
              "#fb9f3a"
             ],
             [
              0.8888888888888888,
              "#fdca26"
             ],
             [
              1,
              "#f0f921"
             ]
            ],
            "type": "surface"
           }
          ],
          "table": [
           {
            "cells": {
             "fill": {
              "color": "#EBF0F8"
             },
             "line": {
              "color": "white"
             }
            },
            "header": {
             "fill": {
              "color": "#C8D4E3"
             },
             "line": {
              "color": "white"
             }
            },
            "type": "table"
           }
          ]
         },
         "layout": {
          "annotationdefaults": {
           "arrowcolor": "#2a3f5f",
           "arrowhead": 0,
           "arrowwidth": 1
          },
          "autotypenumbers": "strict",
          "coloraxis": {
           "colorbar": {
            "outlinewidth": 0,
            "ticks": ""
           }
          },
          "colorscale": {
           "diverging": [
            [
             0,
             "#8e0152"
            ],
            [
             0.1,
             "#c51b7d"
            ],
            [
             0.2,
             "#de77ae"
            ],
            [
             0.3,
             "#f1b6da"
            ],
            [
             0.4,
             "#fde0ef"
            ],
            [
             0.5,
             "#f7f7f7"
            ],
            [
             0.6,
             "#e6f5d0"
            ],
            [
             0.7,
             "#b8e186"
            ],
            [
             0.8,
             "#7fbc41"
            ],
            [
             0.9,
             "#4d9221"
            ],
            [
             1,
             "#276419"
            ]
           ],
           "sequential": [
            [
             0,
             "#0d0887"
            ],
            [
             0.1111111111111111,
             "#46039f"
            ],
            [
             0.2222222222222222,
             "#7201a8"
            ],
            [
             0.3333333333333333,
             "#9c179e"
            ],
            [
             0.4444444444444444,
             "#bd3786"
            ],
            [
             0.5555555555555556,
             "#d8576b"
            ],
            [
             0.6666666666666666,
             "#ed7953"
            ],
            [
             0.7777777777777778,
             "#fb9f3a"
            ],
            [
             0.8888888888888888,
             "#fdca26"
            ],
            [
             1,
             "#f0f921"
            ]
           ],
           "sequentialminus": [
            [
             0,
             "#0d0887"
            ],
            [
             0.1111111111111111,
             "#46039f"
            ],
            [
             0.2222222222222222,
             "#7201a8"
            ],
            [
             0.3333333333333333,
             "#9c179e"
            ],
            [
             0.4444444444444444,
             "#bd3786"
            ],
            [
             0.5555555555555556,
             "#d8576b"
            ],
            [
             0.6666666666666666,
             "#ed7953"
            ],
            [
             0.7777777777777778,
             "#fb9f3a"
            ],
            [
             0.8888888888888888,
             "#fdca26"
            ],
            [
             1,
             "#f0f921"
            ]
           ]
          },
          "colorway": [
           "#636efa",
           "#EF553B",
           "#00cc96",
           "#ab63fa",
           "#FFA15A",
           "#19d3f3",
           "#FF6692",
           "#B6E880",
           "#FF97FF",
           "#FECB52"
          ],
          "font": {
           "color": "#2a3f5f"
          },
          "geo": {
           "bgcolor": "white",
           "lakecolor": "white",
           "landcolor": "#E5ECF6",
           "showlakes": true,
           "showland": true,
           "subunitcolor": "white"
          },
          "hoverlabel": {
           "align": "left"
          },
          "hovermode": "closest",
          "mapbox": {
           "style": "light"
          },
          "paper_bgcolor": "white",
          "plot_bgcolor": "#E5ECF6",
          "polar": {
           "angularaxis": {
            "gridcolor": "white",
            "linecolor": "white",
            "ticks": ""
           },
           "bgcolor": "#E5ECF6",
           "radialaxis": {
            "gridcolor": "white",
            "linecolor": "white",
            "ticks": ""
           }
          },
          "scene": {
           "xaxis": {
            "backgroundcolor": "#E5ECF6",
            "gridcolor": "white",
            "gridwidth": 2,
            "linecolor": "white",
            "showbackground": true,
            "ticks": "",
            "zerolinecolor": "white"
           },
           "yaxis": {
            "backgroundcolor": "#E5ECF6",
            "gridcolor": "white",
            "gridwidth": 2,
            "linecolor": "white",
            "showbackground": true,
            "ticks": "",
            "zerolinecolor": "white"
           },
           "zaxis": {
            "backgroundcolor": "#E5ECF6",
            "gridcolor": "white",
            "gridwidth": 2,
            "linecolor": "white",
            "showbackground": true,
            "ticks": "",
            "zerolinecolor": "white"
           }
          },
          "shapedefaults": {
           "line": {
            "color": "#2a3f5f"
           }
          },
          "ternary": {
           "aaxis": {
            "gridcolor": "white",
            "linecolor": "white",
            "ticks": ""
           },
           "baxis": {
            "gridcolor": "white",
            "linecolor": "white",
            "ticks": ""
           },
           "bgcolor": "#E5ECF6",
           "caxis": {
            "gridcolor": "white",
            "linecolor": "white",
            "ticks": ""
           }
          },
          "title": {
           "x": 0.05
          },
          "xaxis": {
           "automargin": true,
           "gridcolor": "white",
           "linecolor": "white",
           "ticks": "",
           "title": {
            "standoff": 15
           },
           "zerolinecolor": "white",
           "zerolinewidth": 2
          },
          "yaxis": {
           "automargin": true,
           "gridcolor": "white",
           "linecolor": "white",
           "ticks": "",
           "title": {
            "standoff": 15
           },
           "zerolinecolor": "white",
           "zerolinewidth": 2
          }
         }
        },
        "title": {
         "text": "<b>Hierarchy: AI Performance Complaints</b>"
        }
       }
      }
     },
     "metadata": {},
     "output_type": "display_data"
    },
    {
     "name": "stdout",
     "output_type": "stream",
     "text": [
      "\n",
      "--- Most Important Terms for 'AI Performance & Quality' (TF-IDF) ---\n"
     ]
    },
    {
     "data": {
      "application/vnd.microsoft.datawrangler.viewer.v0+json": {
       "columns": [
        {
         "name": "index",
         "rawType": "int64",
         "type": "integer"
        },
        {
         "name": "Word",
         "rawType": "object",
         "type": "string"
        },
        {
         "name": "TF-IDF Score",
         "rawType": "float64",
         "type": "float"
        }
       ],
       "ref": "71448026-9667-4ed0-8a29-0136c5e8a4a2",
       "rows": [
        [
         "0",
         "avatar",
         "60.6430556441265"
        ],
        [
         "1",
         "like",
         "56.1175906408677"
        ],
        [
         "2",
         "account",
         "52.30218244075534"
        ],
        [
         "3",
         "just",
         "47.115897159567886"
        ],
        [
         "4",
         "app",
         "45.54344398152771"
        ],
        [
         "5",
         "pay",
         "44.58432142258099"
        ],
        [
         "6",
         "ai",
         "41.90802184891389"
        ],
        [
         "7",
         "year",
         "37.611488282950745"
        ],
        [
         "8",
         "monthly",
         "36.345082441546"
        ],
        [
         "9",
         "money",
         "35.48634971915401"
        ],
        [
         "10",
         "don",
         "33.94756549657992"
        ],
        [
         "11",
         "option",
         "33.699881619694615"
        ],
        [
         "12",
         "month",
         "31.222202264995047"
        ],
        [
         "13",
         "conversation",
         "30.60289258350455"
        ],
        [
         "14",
         "70",
         "30.442665890004026"
        ]
       ],
       "shape": {
        "columns": 2,
        "rows": 15
       }
      },
      "text/html": [
       "<div>\n",
       "<style scoped>\n",
       "    .dataframe tbody tr th:only-of-type {\n",
       "        vertical-align: middle;\n",
       "    }\n",
       "\n",
       "    .dataframe tbody tr th {\n",
       "        vertical-align: top;\n",
       "    }\n",
       "\n",
       "    .dataframe thead th {\n",
       "        text-align: right;\n",
       "    }\n",
       "</style>\n",
       "<table border=\"1\" class=\"dataframe\">\n",
       "  <thead>\n",
       "    <tr style=\"text-align: right;\">\n",
       "      <th></th>\n",
       "      <th>Word</th>\n",
       "      <th>TF-IDF Score</th>\n",
       "    </tr>\n",
       "  </thead>\n",
       "  <tbody>\n",
       "    <tr>\n",
       "      <th>0</th>\n",
       "      <td>avatar</td>\n",
       "      <td>60.643056</td>\n",
       "    </tr>\n",
       "    <tr>\n",
       "      <th>1</th>\n",
       "      <td>like</td>\n",
       "      <td>56.117591</td>\n",
       "    </tr>\n",
       "    <tr>\n",
       "      <th>2</th>\n",
       "      <td>account</td>\n",
       "      <td>52.302182</td>\n",
       "    </tr>\n",
       "    <tr>\n",
       "      <th>3</th>\n",
       "      <td>just</td>\n",
       "      <td>47.115897</td>\n",
       "    </tr>\n",
       "    <tr>\n",
       "      <th>4</th>\n",
       "      <td>app</td>\n",
       "      <td>45.543444</td>\n",
       "    </tr>\n",
       "    <tr>\n",
       "      <th>5</th>\n",
       "      <td>pay</td>\n",
       "      <td>44.584321</td>\n",
       "    </tr>\n",
       "    <tr>\n",
       "      <th>6</th>\n",
       "      <td>ai</td>\n",
       "      <td>41.908022</td>\n",
       "    </tr>\n",
       "    <tr>\n",
       "      <th>7</th>\n",
       "      <td>year</td>\n",
       "      <td>37.611488</td>\n",
       "    </tr>\n",
       "    <tr>\n",
       "      <th>8</th>\n",
       "      <td>monthly</td>\n",
       "      <td>36.345082</td>\n",
       "    </tr>\n",
       "    <tr>\n",
       "      <th>9</th>\n",
       "      <td>money</td>\n",
       "      <td>35.486350</td>\n",
       "    </tr>\n",
       "    <tr>\n",
       "      <th>10</th>\n",
       "      <td>don</td>\n",
       "      <td>33.947565</td>\n",
       "    </tr>\n",
       "    <tr>\n",
       "      <th>11</th>\n",
       "      <td>option</td>\n",
       "      <td>33.699882</td>\n",
       "    </tr>\n",
       "    <tr>\n",
       "      <th>12</th>\n",
       "      <td>month</td>\n",
       "      <td>31.222202</td>\n",
       "    </tr>\n",
       "    <tr>\n",
       "      <th>13</th>\n",
       "      <td>conversation</td>\n",
       "      <td>30.602893</td>\n",
       "    </tr>\n",
       "    <tr>\n",
       "      <th>14</th>\n",
       "      <td>70</td>\n",
       "      <td>30.442666</td>\n",
       "    </tr>\n",
       "  </tbody>\n",
       "</table>\n",
       "</div>"
      ],
      "text/plain": [
       "            Word  TF-IDF Score\n",
       "0         avatar     60.643056\n",
       "1           like     56.117591\n",
       "2        account     52.302182\n",
       "3           just     47.115897\n",
       "4            app     45.543444\n",
       "5            pay     44.584321\n",
       "6             ai     41.908022\n",
       "7           year     37.611488\n",
       "8        monthly     36.345082\n",
       "9          money     35.486350\n",
       "10           don     33.947565\n",
       "11        option     33.699882\n",
       "12         month     31.222202\n",
       "13  conversation     30.602893\n",
       "14            70     30.442666"
      ]
     },
     "metadata": {},
     "output_type": "display_data"
    }
   ],
   "source": [
    "# --- 1A: Treemap Breakdown ---\n",
    "ai_quality_df = df[df[\"theme\"] == \"AI Performance & Quality\"]\n",
    "ai_quality_breakdown = ai_quality_df[\"topic_name\"].value_counts().reset_index()\n",
    "ai_quality_breakdown.columns = [\"Specific Complaint\", \"Review Count\"]\n",
    "\n",
    "fig_ai_treemap = px.treemap(\n",
    "    ai_quality_breakdown.head(10),\n",
    "    path=[px.Constant(\"AI Performance Complaints\"), \"Specific Complaint\"],\n",
    "    values=\"Review Count\",\n",
    "    title=\"<b>Breakdown: AI Performance Complaints</b>\",\n",
    "    color_discrete_sequence=px.colors.sequential.Blues_r,\n",
    ")\n",
    "fig_ai_treemap.show()\n",
    "\n",
    "# --- 1B: Hierarchical Sunburst View ---\n",
    "fig_ai_sunburst = px.sunburst(\n",
    "    ai_quality_breakdown,\n",
    "    path=[\"Specific Complaint\"],\n",
    "    values=\"Review Count\",\n",
    "    title=\"<b>Hierarchy: AI Performance Complaints</b>\",\n",
    "    color_discrete_sequence=px.colors.qualitative.Pastel,\n",
    ")\n",
    "fig_ai_sunburst.show()  # Note: Sunburst is less useful with only one level, but shows structure.\n",
    "\n",
    "# --- 1C: Key Term Analysis with TF-IDF ---\n",
    "print(\"\\n--- Most Important Terms for 'AI Performance & Quality' (TF-IDF) ---\")\n",
    "tfidf_ai = get_top_tfidf_words_for_theme(\"AI Performance & Quality\", n_words=15)\n",
    "display(tfidf_ai)"
   ]
  },
  {
   "cell_type": "markdown",
   "metadata": {},
   "source": [
    "---\n",
    "### Deep Dive 2: Monetization & Value\n",
    "\n",
    "While also present in the baseline app, the monetization strategies for conversational apps often tie into specific AI features, leading to unique complaints."
   ]
  },
  {
   "cell_type": "code",
   "execution_count": 20,
   "metadata": {
    "execution": {
     "iopub.execute_input": "2025-07-22T08:37:16.530743Z",
     "iopub.status.busy": "2025-07-22T08:37:16.529981Z",
     "iopub.status.idle": "2025-07-22T08:37:16.782590Z",
     "shell.execute_reply": "2025-07-22T08:37:16.781894Z",
     "shell.execute_reply.started": "2025-07-22T08:37:16.530717Z"
    },
    "trusted": true
   },
   "outputs": [
    {
     "data": {
      "application/vnd.plotly.v1+json": {
       "config": {
        "plotlyServerURL": "https://plot.ly"
       },
       "data": [
        {
         "branchvalues": "total",
         "domain": {
          "x": [
           0,
           1
          ],
          "y": [
           0,
           1
          ]
         },
         "hovertemplate": "labels=%{label}<br>Review Count=%{value}<br>parent=%{parent}<br>id=%{id}<extra></extra>",
         "ids": [
          "Monetization Complaints/Subscription Models (Pay/Monthly/Yearly)",
          "Monetization Complaints/Subscription Language & Options",
          "Monetization Complaints/In-App Gamification & Payments",
          "Monetization Complaints/Refunds & Google Play Billing",
          "Monetization Complaints/Pricing & Lack of Monthly Options",
          "Monetization Complaints/Subscription Complaints",
          "Monetization Complaints/Refunds for Paid Subscriptions",
          "Monetization Complaints/Price is Too Expensive",
          "Monetization Complaints/Inability to Use Core Features (Paywall)",
          "Monetization Complaints/Chat Monetization",
          "Monetization Complaints"
         ],
         "labels": [
          "Subscription Models (Pay/Monthly/Yearly)",
          "Subscription Language & Options",
          "In-App Gamification & Payments",
          "Refunds & Google Play Billing",
          "Pricing & Lack of Monthly Options",
          "Subscription Complaints",
          "Refunds for Paid Subscriptions",
          "Price is Too Expensive",
          "Inability to Use Core Features (Paywall)",
          "Chat Monetization",
          "Monetization Complaints"
         ],
         "name": "",
         "parents": [
          "Monetization Complaints",
          "Monetization Complaints",
          "Monetization Complaints",
          "Monetization Complaints",
          "Monetization Complaints",
          "Monetization Complaints",
          "Monetization Complaints",
          "Monetization Complaints",
          "Monetization Complaints",
          "Monetization Complaints",
          ""
         ],
         "type": "treemap",
         "values": {
          "bdata": "AAAAAICfwEAAAAAAADCMQAAAAAAAEHlAAAAAAACgb0AAAAAAAKBvQAAAAAAAYGlAAAAAAADAZEAAAAAAAIBkQAAAAAAAwGFAAAAAAACAYEAAAAAAgLvFQA==",
          "dtype": "f8"
         }
        }
       ],
       "layout": {
        "legend": {
         "tracegroupgap": 0
        },
        "template": {
         "data": {
          "bar": [
           {
            "error_x": {
             "color": "#2a3f5f"
            },
            "error_y": {
             "color": "#2a3f5f"
            },
            "marker": {
             "line": {
              "color": "#E5ECF6",
              "width": 0.5
             },
             "pattern": {
              "fillmode": "overlay",
              "size": 10,
              "solidity": 0.2
             }
            },
            "type": "bar"
           }
          ],
          "barpolar": [
           {
            "marker": {
             "line": {
              "color": "#E5ECF6",
              "width": 0.5
             },
             "pattern": {
              "fillmode": "overlay",
              "size": 10,
              "solidity": 0.2
             }
            },
            "type": "barpolar"
           }
          ],
          "carpet": [
           {
            "aaxis": {
             "endlinecolor": "#2a3f5f",
             "gridcolor": "white",
             "linecolor": "white",
             "minorgridcolor": "white",
             "startlinecolor": "#2a3f5f"
            },
            "baxis": {
             "endlinecolor": "#2a3f5f",
             "gridcolor": "white",
             "linecolor": "white",
             "minorgridcolor": "white",
             "startlinecolor": "#2a3f5f"
            },
            "type": "carpet"
           }
          ],
          "choropleth": [
           {
            "colorbar": {
             "outlinewidth": 0,
             "ticks": ""
            },
            "type": "choropleth"
           }
          ],
          "contour": [
           {
            "colorbar": {
             "outlinewidth": 0,
             "ticks": ""
            },
            "colorscale": [
             [
              0,
              "#0d0887"
             ],
             [
              0.1111111111111111,
              "#46039f"
             ],
             [
              0.2222222222222222,
              "#7201a8"
             ],
             [
              0.3333333333333333,
              "#9c179e"
             ],
             [
              0.4444444444444444,
              "#bd3786"
             ],
             [
              0.5555555555555556,
              "#d8576b"
             ],
             [
              0.6666666666666666,
              "#ed7953"
             ],
             [
              0.7777777777777778,
              "#fb9f3a"
             ],
             [
              0.8888888888888888,
              "#fdca26"
             ],
             [
              1,
              "#f0f921"
             ]
            ],
            "type": "contour"
           }
          ],
          "contourcarpet": [
           {
            "colorbar": {
             "outlinewidth": 0,
             "ticks": ""
            },
            "type": "contourcarpet"
           }
          ],
          "heatmap": [
           {
            "colorbar": {
             "outlinewidth": 0,
             "ticks": ""
            },
            "colorscale": [
             [
              0,
              "#0d0887"
             ],
             [
              0.1111111111111111,
              "#46039f"
             ],
             [
              0.2222222222222222,
              "#7201a8"
             ],
             [
              0.3333333333333333,
              "#9c179e"
             ],
             [
              0.4444444444444444,
              "#bd3786"
             ],
             [
              0.5555555555555556,
              "#d8576b"
             ],
             [
              0.6666666666666666,
              "#ed7953"
             ],
             [
              0.7777777777777778,
              "#fb9f3a"
             ],
             [
              0.8888888888888888,
              "#fdca26"
             ],
             [
              1,
              "#f0f921"
             ]
            ],
            "type": "heatmap"
           }
          ],
          "histogram": [
           {
            "marker": {
             "pattern": {
              "fillmode": "overlay",
              "size": 10,
              "solidity": 0.2
             }
            },
            "type": "histogram"
           }
          ],
          "histogram2d": [
           {
            "colorbar": {
             "outlinewidth": 0,
             "ticks": ""
            },
            "colorscale": [
             [
              0,
              "#0d0887"
             ],
             [
              0.1111111111111111,
              "#46039f"
             ],
             [
              0.2222222222222222,
              "#7201a8"
             ],
             [
              0.3333333333333333,
              "#9c179e"
             ],
             [
              0.4444444444444444,
              "#bd3786"
             ],
             [
              0.5555555555555556,
              "#d8576b"
             ],
             [
              0.6666666666666666,
              "#ed7953"
             ],
             [
              0.7777777777777778,
              "#fb9f3a"
             ],
             [
              0.8888888888888888,
              "#fdca26"
             ],
             [
              1,
              "#f0f921"
             ]
            ],
            "type": "histogram2d"
           }
          ],
          "histogram2dcontour": [
           {
            "colorbar": {
             "outlinewidth": 0,
             "ticks": ""
            },
            "colorscale": [
             [
              0,
              "#0d0887"
             ],
             [
              0.1111111111111111,
              "#46039f"
             ],
             [
              0.2222222222222222,
              "#7201a8"
             ],
             [
              0.3333333333333333,
              "#9c179e"
             ],
             [
              0.4444444444444444,
              "#bd3786"
             ],
             [
              0.5555555555555556,
              "#d8576b"
             ],
             [
              0.6666666666666666,
              "#ed7953"
             ],
             [
              0.7777777777777778,
              "#fb9f3a"
             ],
             [
              0.8888888888888888,
              "#fdca26"
             ],
             [
              1,
              "#f0f921"
             ]
            ],
            "type": "histogram2dcontour"
           }
          ],
          "mesh3d": [
           {
            "colorbar": {
             "outlinewidth": 0,
             "ticks": ""
            },
            "type": "mesh3d"
           }
          ],
          "parcoords": [
           {
            "line": {
             "colorbar": {
              "outlinewidth": 0,
              "ticks": ""
             }
            },
            "type": "parcoords"
           }
          ],
          "pie": [
           {
            "automargin": true,
            "type": "pie"
           }
          ],
          "scatter": [
           {
            "fillpattern": {
             "fillmode": "overlay",
             "size": 10,
             "solidity": 0.2
            },
            "type": "scatter"
           }
          ],
          "scatter3d": [
           {
            "line": {
             "colorbar": {
              "outlinewidth": 0,
              "ticks": ""
             }
            },
            "marker": {
             "colorbar": {
              "outlinewidth": 0,
              "ticks": ""
             }
            },
            "type": "scatter3d"
           }
          ],
          "scattercarpet": [
           {
            "marker": {
             "colorbar": {
              "outlinewidth": 0,
              "ticks": ""
             }
            },
            "type": "scattercarpet"
           }
          ],
          "scattergeo": [
           {
            "marker": {
             "colorbar": {
              "outlinewidth": 0,
              "ticks": ""
             }
            },
            "type": "scattergeo"
           }
          ],
          "scattergl": [
           {
            "marker": {
             "colorbar": {
              "outlinewidth": 0,
              "ticks": ""
             }
            },
            "type": "scattergl"
           }
          ],
          "scattermap": [
           {
            "marker": {
             "colorbar": {
              "outlinewidth": 0,
              "ticks": ""
             }
            },
            "type": "scattermap"
           }
          ],
          "scattermapbox": [
           {
            "marker": {
             "colorbar": {
              "outlinewidth": 0,
              "ticks": ""
             }
            },
            "type": "scattermapbox"
           }
          ],
          "scatterpolar": [
           {
            "marker": {
             "colorbar": {
              "outlinewidth": 0,
              "ticks": ""
             }
            },
            "type": "scatterpolar"
           }
          ],
          "scatterpolargl": [
           {
            "marker": {
             "colorbar": {
              "outlinewidth": 0,
              "ticks": ""
             }
            },
            "type": "scatterpolargl"
           }
          ],
          "scatterternary": [
           {
            "marker": {
             "colorbar": {
              "outlinewidth": 0,
              "ticks": ""
             }
            },
            "type": "scatterternary"
           }
          ],
          "surface": [
           {
            "colorbar": {
             "outlinewidth": 0,
             "ticks": ""
            },
            "colorscale": [
             [
              0,
              "#0d0887"
             ],
             [
              0.1111111111111111,
              "#46039f"
             ],
             [
              0.2222222222222222,
              "#7201a8"
             ],
             [
              0.3333333333333333,
              "#9c179e"
             ],
             [
              0.4444444444444444,
              "#bd3786"
             ],
             [
              0.5555555555555556,
              "#d8576b"
             ],
             [
              0.6666666666666666,
              "#ed7953"
             ],
             [
              0.7777777777777778,
              "#fb9f3a"
             ],
             [
              0.8888888888888888,
              "#fdca26"
             ],
             [
              1,
              "#f0f921"
             ]
            ],
            "type": "surface"
           }
          ],
          "table": [
           {
            "cells": {
             "fill": {
              "color": "#EBF0F8"
             },
             "line": {
              "color": "white"
             }
            },
            "header": {
             "fill": {
              "color": "#C8D4E3"
             },
             "line": {
              "color": "white"
             }
            },
            "type": "table"
           }
          ]
         },
         "layout": {
          "annotationdefaults": {
           "arrowcolor": "#2a3f5f",
           "arrowhead": 0,
           "arrowwidth": 1
          },
          "autotypenumbers": "strict",
          "coloraxis": {
           "colorbar": {
            "outlinewidth": 0,
            "ticks": ""
           }
          },
          "colorscale": {
           "diverging": [
            [
             0,
             "#8e0152"
            ],
            [
             0.1,
             "#c51b7d"
            ],
            [
             0.2,
             "#de77ae"
            ],
            [
             0.3,
             "#f1b6da"
            ],
            [
             0.4,
             "#fde0ef"
            ],
            [
             0.5,
             "#f7f7f7"
            ],
            [
             0.6,
             "#e6f5d0"
            ],
            [
             0.7,
             "#b8e186"
            ],
            [
             0.8,
             "#7fbc41"
            ],
            [
             0.9,
             "#4d9221"
            ],
            [
             1,
             "#276419"
            ]
           ],
           "sequential": [
            [
             0,
             "#0d0887"
            ],
            [
             0.1111111111111111,
             "#46039f"
            ],
            [
             0.2222222222222222,
             "#7201a8"
            ],
            [
             0.3333333333333333,
             "#9c179e"
            ],
            [
             0.4444444444444444,
             "#bd3786"
            ],
            [
             0.5555555555555556,
             "#d8576b"
            ],
            [
             0.6666666666666666,
             "#ed7953"
            ],
            [
             0.7777777777777778,
             "#fb9f3a"
            ],
            [
             0.8888888888888888,
             "#fdca26"
            ],
            [
             1,
             "#f0f921"
            ]
           ],
           "sequentialminus": [
            [
             0,
             "#0d0887"
            ],
            [
             0.1111111111111111,
             "#46039f"
            ],
            [
             0.2222222222222222,
             "#7201a8"
            ],
            [
             0.3333333333333333,
             "#9c179e"
            ],
            [
             0.4444444444444444,
             "#bd3786"
            ],
            [
             0.5555555555555556,
             "#d8576b"
            ],
            [
             0.6666666666666666,
             "#ed7953"
            ],
            [
             0.7777777777777778,
             "#fb9f3a"
            ],
            [
             0.8888888888888888,
             "#fdca26"
            ],
            [
             1,
             "#f0f921"
            ]
           ]
          },
          "colorway": [
           "#636efa",
           "#EF553B",
           "#00cc96",
           "#ab63fa",
           "#FFA15A",
           "#19d3f3",
           "#FF6692",
           "#B6E880",
           "#FF97FF",
           "#FECB52"
          ],
          "font": {
           "color": "#2a3f5f"
          },
          "geo": {
           "bgcolor": "white",
           "lakecolor": "white",
           "landcolor": "#E5ECF6",
           "showlakes": true,
           "showland": true,
           "subunitcolor": "white"
          },
          "hoverlabel": {
           "align": "left"
          },
          "hovermode": "closest",
          "mapbox": {
           "style": "light"
          },
          "paper_bgcolor": "white",
          "plot_bgcolor": "#E5ECF6",
          "polar": {
           "angularaxis": {
            "gridcolor": "white",
            "linecolor": "white",
            "ticks": ""
           },
           "bgcolor": "#E5ECF6",
           "radialaxis": {
            "gridcolor": "white",
            "linecolor": "white",
            "ticks": ""
           }
          },
          "scene": {
           "xaxis": {
            "backgroundcolor": "#E5ECF6",
            "gridcolor": "white",
            "gridwidth": 2,
            "linecolor": "white",
            "showbackground": true,
            "ticks": "",
            "zerolinecolor": "white"
           },
           "yaxis": {
            "backgroundcolor": "#E5ECF6",
            "gridcolor": "white",
            "gridwidth": 2,
            "linecolor": "white",
            "showbackground": true,
            "ticks": "",
            "zerolinecolor": "white"
           },
           "zaxis": {
            "backgroundcolor": "#E5ECF6",
            "gridcolor": "white",
            "gridwidth": 2,
            "linecolor": "white",
            "showbackground": true,
            "ticks": "",
            "zerolinecolor": "white"
           }
          },
          "shapedefaults": {
           "line": {
            "color": "#2a3f5f"
           }
          },
          "ternary": {
           "aaxis": {
            "gridcolor": "white",
            "linecolor": "white",
            "ticks": ""
           },
           "baxis": {
            "gridcolor": "white",
            "linecolor": "white",
            "ticks": ""
           },
           "bgcolor": "#E5ECF6",
           "caxis": {
            "gridcolor": "white",
            "linecolor": "white",
            "ticks": ""
           }
          },
          "title": {
           "x": 0.05
          },
          "xaxis": {
           "automargin": true,
           "gridcolor": "white",
           "linecolor": "white",
           "ticks": "",
           "title": {
            "standoff": 15
           },
           "zerolinecolor": "white",
           "zerolinewidth": 2
          },
          "yaxis": {
           "automargin": true,
           "gridcolor": "white",
           "linecolor": "white",
           "ticks": "",
           "title": {
            "standoff": 15
           },
           "zerolinecolor": "white",
           "zerolinewidth": 2
          }
         }
        },
        "title": {
         "text": "<b>Breakdown: Monetization Complaints</b>"
        },
        "treemapcolorway": [
         "rgb(103,0,13)",
         "rgb(165,15,21)",
         "rgb(203,24,29)",
         "rgb(239,59,44)",
         "rgb(251,106,74)",
         "rgb(252,146,114)",
         "rgb(252,187,161)",
         "rgb(254,224,210)",
         "rgb(255,245,240)"
        ]
       }
      }
     },
     "metadata": {},
     "output_type": "display_data"
    },
    {
     "name": "stdout",
     "output_type": "stream",
     "text": [
      "\n",
      "--- Most Important Terms for 'Monetization & Value' (TF-IDF) ---\n"
     ]
    },
    {
     "data": {
      "application/vnd.microsoft.datawrangler.viewer.v0+json": {
       "columns": [
        {
         "name": "index",
         "rawType": "int64",
         "type": "integer"
        },
        {
         "name": "Word",
         "rawType": "object",
         "type": "string"
        },
        {
         "name": "TF-IDF Score",
         "rawType": "float64",
         "type": "float"
        }
       ],
       "ref": "6a6ecf3b-3ff6-49b5-a3c3-5a8678cd8753",
       "rows": [
        [
         "0",
         "app",
         "797.2257587189035"
        ],
        [
         "1",
         "really",
         "503.2940499236586"
        ],
        [
         "2",
         "helpful",
         "422.37157928300036"
        ],
        [
         "3",
         "good",
         "376.36089141123364"
        ],
        [
         "4",
         "helped",
         "369.517998988241"
        ],
        [
         "5",
         "helps",
         "331.5469053422237"
        ],
        [
         "6",
         "like",
         "327.67658003648876"
        ],
        [
         "7",
         "wysa",
         "312.2454286128913"
        ],
        [
         "8",
         "feel",
         "297.62274379065065"
        ],
        [
         "9",
         "love",
         "280.4229111394327"
        ],
        [
         "10",
         "better",
         "279.2962207194469"
        ],
        [
         "11",
         "help",
         "274.2201868372259"
        ],
        [
         "12",
         "great",
         "274.1628961803303"
        ],
        [
         "13",
         "ai",
         "272.0159561599413"
        ],
        [
         "14",
         "just",
         "271.13367551652277"
        ]
       ],
       "shape": {
        "columns": 2,
        "rows": 15
       }
      },
      "text/html": [
       "<div>\n",
       "<style scoped>\n",
       "    .dataframe tbody tr th:only-of-type {\n",
       "        vertical-align: middle;\n",
       "    }\n",
       "\n",
       "    .dataframe tbody tr th {\n",
       "        vertical-align: top;\n",
       "    }\n",
       "\n",
       "    .dataframe thead th {\n",
       "        text-align: right;\n",
       "    }\n",
       "</style>\n",
       "<table border=\"1\" class=\"dataframe\">\n",
       "  <thead>\n",
       "    <tr style=\"text-align: right;\">\n",
       "      <th></th>\n",
       "      <th>Word</th>\n",
       "      <th>TF-IDF Score</th>\n",
       "    </tr>\n",
       "  </thead>\n",
       "  <tbody>\n",
       "    <tr>\n",
       "      <th>0</th>\n",
       "      <td>app</td>\n",
       "      <td>797.225759</td>\n",
       "    </tr>\n",
       "    <tr>\n",
       "      <th>1</th>\n",
       "      <td>really</td>\n",
       "      <td>503.294050</td>\n",
       "    </tr>\n",
       "    <tr>\n",
       "      <th>2</th>\n",
       "      <td>helpful</td>\n",
       "      <td>422.371579</td>\n",
       "    </tr>\n",
       "    <tr>\n",
       "      <th>3</th>\n",
       "      <td>good</td>\n",
       "      <td>376.360891</td>\n",
       "    </tr>\n",
       "    <tr>\n",
       "      <th>4</th>\n",
       "      <td>helped</td>\n",
       "      <td>369.517999</td>\n",
       "    </tr>\n",
       "    <tr>\n",
       "      <th>5</th>\n",
       "      <td>helps</td>\n",
       "      <td>331.546905</td>\n",
       "    </tr>\n",
       "    <tr>\n",
       "      <th>6</th>\n",
       "      <td>like</td>\n",
       "      <td>327.676580</td>\n",
       "    </tr>\n",
       "    <tr>\n",
       "      <th>7</th>\n",
       "      <td>wysa</td>\n",
       "      <td>312.245429</td>\n",
       "    </tr>\n",
       "    <tr>\n",
       "      <th>8</th>\n",
       "      <td>feel</td>\n",
       "      <td>297.622744</td>\n",
       "    </tr>\n",
       "    <tr>\n",
       "      <th>9</th>\n",
       "      <td>love</td>\n",
       "      <td>280.422911</td>\n",
       "    </tr>\n",
       "    <tr>\n",
       "      <th>10</th>\n",
       "      <td>better</td>\n",
       "      <td>279.296221</td>\n",
       "    </tr>\n",
       "    <tr>\n",
       "      <th>11</th>\n",
       "      <td>help</td>\n",
       "      <td>274.220187</td>\n",
       "    </tr>\n",
       "    <tr>\n",
       "      <th>12</th>\n",
       "      <td>great</td>\n",
       "      <td>274.162896</td>\n",
       "    </tr>\n",
       "    <tr>\n",
       "      <th>13</th>\n",
       "      <td>ai</td>\n",
       "      <td>272.015956</td>\n",
       "    </tr>\n",
       "    <tr>\n",
       "      <th>14</th>\n",
       "      <td>just</td>\n",
       "      <td>271.133676</td>\n",
       "    </tr>\n",
       "  </tbody>\n",
       "</table>\n",
       "</div>"
      ],
      "text/plain": [
       "       Word  TF-IDF Score\n",
       "0       app    797.225759\n",
       "1    really    503.294050\n",
       "2   helpful    422.371579\n",
       "3      good    376.360891\n",
       "4    helped    369.517999\n",
       "5     helps    331.546905\n",
       "6      like    327.676580\n",
       "7      wysa    312.245429\n",
       "8      feel    297.622744\n",
       "9      love    280.422911\n",
       "10   better    279.296221\n",
       "11     help    274.220187\n",
       "12    great    274.162896\n",
       "13       ai    272.015956\n",
       "14     just    271.133676"
      ]
     },
     "metadata": {},
     "output_type": "display_data"
    }
   ],
   "source": [
    "# --- 2A: Treemap Breakdown ---\n",
    "monetization_df = df[df[\"theme\"] == \"Monetization & Value\"]\n",
    "monetization_breakdown = monetization_df[\"topic_name\"].value_counts().reset_index()\n",
    "monetization_breakdown.columns = [\"Specific Complaint\", \"Review Count\"]\n",
    "\n",
    "fig_mon_treemap = px.treemap(\n",
    "    monetization_breakdown.head(10),\n",
    "    path=[px.Constant(\"Monetization Complaints\"), \"Specific Complaint\"],\n",
    "    values=\"Review Count\",\n",
    "    title=\"<b>Breakdown: Monetization Complaints</b>\",\n",
    "    color_discrete_sequence=px.colors.sequential.Reds_r,\n",
    ")\n",
    "fig_mon_treemap.show()\n",
    "\n",
    "# --- 2B: Hierarchical Sunburst View ---\n",
    "# (You can create a sunburst for this theme as well, following the pattern above)\n",
    "\n",
    "# --- 2C: Key Term Analysis with TF-IDF ---\n",
    "print(\"\\n--- Most Important Terms for 'Monetization & Value' (TF-IDF) ---\")\n",
    "tfidf_mon = get_top_tfidf_words_for_theme(\"Monetization & Value\", n_words=15)\n",
    "display(tfidf_mon)"
   ]
  },
  {
   "cell_type": "markdown",
   "metadata": {},
   "source": [
    "---\n",
    "### Deep Dive 3: Technical Performance\n",
    "\n",
    "This theme covers the fundamental functionality of the app. Failures here prevent users from even accessing the conversational features."
   ]
  },
  {
   "cell_type": "code",
   "execution_count": 21,
   "metadata": {
    "execution": {
     "iopub.execute_input": "2025-07-22T08:37:20.016786Z",
     "iopub.status.busy": "2025-07-22T08:37:20.016481Z",
     "iopub.status.idle": "2025-07-22T08:37:20.126735Z",
     "shell.execute_reply": "2025-07-22T08:37:20.125967Z",
     "shell.execute_reply.started": "2025-07-22T08:37:20.016766Z"
    },
    "trusted": true
   },
   "outputs": [
    {
     "data": {
      "application/vnd.plotly.v1+json": {
       "config": {
        "plotlyServerURL": "https://plot.ly"
       },
       "data": [
        {
         "branchvalues": "total",
         "domain": {
          "x": [
           0,
           1
          ],
          "y": [
           0,
           1
          ]
         },
         "hovertemplate": "labels=%{label}<br>Review Count=%{value}<br>parent=%{parent}<br>id=%{id}<extra></extra>",
         "ids": [
          "Technical Complaints/Technical: App Crashing / Not Opening",
          "Technical Complaints/Account, Login & Password Issues",
          "Technical Complaints/Bugs Introduced by Updates",
          "Technical Complaints/Technical: Loading & Installation",
          "Technical Complaints/Technical: Internet Connection Issues",
          "Technical Complaints/Technical: Customization Screen Bugs",
          "Technical Complaints/Update Issues",
          "Technical Complaints"
         ],
         "labels": [
          "Technical: App Crashing / Not Opening",
          "Account, Login & Password Issues",
          "Bugs Introduced by Updates",
          "Technical: Loading & Installation",
          "Technical: Internet Connection Issues",
          "Technical: Customization Screen Bugs",
          "Update Issues",
          "Technical Complaints"
         ],
         "name": "",
         "parents": [
          "Technical Complaints",
          "Technical Complaints",
          "Technical Complaints",
          "Technical Complaints",
          "Technical Complaints",
          "Technical Complaints",
          "Technical Complaints",
          ""
         ],
         "type": "treemap",
         "values": {
          "bdata": "AAAAAAAQeUAAAAAAAMBwQAAAAAAAoGhAAAAAAAAAXkAAAAAAAEBdQAAAAAAAQFhAAAAAAAAATkAAAAAAALCTQA==",
          "dtype": "f8"
         }
        }
       ],
       "layout": {
        "legend": {
         "tracegroupgap": 0
        },
        "template": {
         "data": {
          "bar": [
           {
            "error_x": {
             "color": "#2a3f5f"
            },
            "error_y": {
             "color": "#2a3f5f"
            },
            "marker": {
             "line": {
              "color": "#E5ECF6",
              "width": 0.5
             },
             "pattern": {
              "fillmode": "overlay",
              "size": 10,
              "solidity": 0.2
             }
            },
            "type": "bar"
           }
          ],
          "barpolar": [
           {
            "marker": {
             "line": {
              "color": "#E5ECF6",
              "width": 0.5
             },
             "pattern": {
              "fillmode": "overlay",
              "size": 10,
              "solidity": 0.2
             }
            },
            "type": "barpolar"
           }
          ],
          "carpet": [
           {
            "aaxis": {
             "endlinecolor": "#2a3f5f",
             "gridcolor": "white",
             "linecolor": "white",
             "minorgridcolor": "white",
             "startlinecolor": "#2a3f5f"
            },
            "baxis": {
             "endlinecolor": "#2a3f5f",
             "gridcolor": "white",
             "linecolor": "white",
             "minorgridcolor": "white",
             "startlinecolor": "#2a3f5f"
            },
            "type": "carpet"
           }
          ],
          "choropleth": [
           {
            "colorbar": {
             "outlinewidth": 0,
             "ticks": ""
            },
            "type": "choropleth"
           }
          ],
          "contour": [
           {
            "colorbar": {
             "outlinewidth": 0,
             "ticks": ""
            },
            "colorscale": [
             [
              0,
              "#0d0887"
             ],
             [
              0.1111111111111111,
              "#46039f"
             ],
             [
              0.2222222222222222,
              "#7201a8"
             ],
             [
              0.3333333333333333,
              "#9c179e"
             ],
             [
              0.4444444444444444,
              "#bd3786"
             ],
             [
              0.5555555555555556,
              "#d8576b"
             ],
             [
              0.6666666666666666,
              "#ed7953"
             ],
             [
              0.7777777777777778,
              "#fb9f3a"
             ],
             [
              0.8888888888888888,
              "#fdca26"
             ],
             [
              1,
              "#f0f921"
             ]
            ],
            "type": "contour"
           }
          ],
          "contourcarpet": [
           {
            "colorbar": {
             "outlinewidth": 0,
             "ticks": ""
            },
            "type": "contourcarpet"
           }
          ],
          "heatmap": [
           {
            "colorbar": {
             "outlinewidth": 0,
             "ticks": ""
            },
            "colorscale": [
             [
              0,
              "#0d0887"
             ],
             [
              0.1111111111111111,
              "#46039f"
             ],
             [
              0.2222222222222222,
              "#7201a8"
             ],
             [
              0.3333333333333333,
              "#9c179e"
             ],
             [
              0.4444444444444444,
              "#bd3786"
             ],
             [
              0.5555555555555556,
              "#d8576b"
             ],
             [
              0.6666666666666666,
              "#ed7953"
             ],
             [
              0.7777777777777778,
              "#fb9f3a"
             ],
             [
              0.8888888888888888,
              "#fdca26"
             ],
             [
              1,
              "#f0f921"
             ]
            ],
            "type": "heatmap"
           }
          ],
          "histogram": [
           {
            "marker": {
             "pattern": {
              "fillmode": "overlay",
              "size": 10,
              "solidity": 0.2
             }
            },
            "type": "histogram"
           }
          ],
          "histogram2d": [
           {
            "colorbar": {
             "outlinewidth": 0,
             "ticks": ""
            },
            "colorscale": [
             [
              0,
              "#0d0887"
             ],
             [
              0.1111111111111111,
              "#46039f"
             ],
             [
              0.2222222222222222,
              "#7201a8"
             ],
             [
              0.3333333333333333,
              "#9c179e"
             ],
             [
              0.4444444444444444,
              "#bd3786"
             ],
             [
              0.5555555555555556,
              "#d8576b"
             ],
             [
              0.6666666666666666,
              "#ed7953"
             ],
             [
              0.7777777777777778,
              "#fb9f3a"
             ],
             [
              0.8888888888888888,
              "#fdca26"
             ],
             [
              1,
              "#f0f921"
             ]
            ],
            "type": "histogram2d"
           }
          ],
          "histogram2dcontour": [
           {
            "colorbar": {
             "outlinewidth": 0,
             "ticks": ""
            },
            "colorscale": [
             [
              0,
              "#0d0887"
             ],
             [
              0.1111111111111111,
              "#46039f"
             ],
             [
              0.2222222222222222,
              "#7201a8"
             ],
             [
              0.3333333333333333,
              "#9c179e"
             ],
             [
              0.4444444444444444,
              "#bd3786"
             ],
             [
              0.5555555555555556,
              "#d8576b"
             ],
             [
              0.6666666666666666,
              "#ed7953"
             ],
             [
              0.7777777777777778,
              "#fb9f3a"
             ],
             [
              0.8888888888888888,
              "#fdca26"
             ],
             [
              1,
              "#f0f921"
             ]
            ],
            "type": "histogram2dcontour"
           }
          ],
          "mesh3d": [
           {
            "colorbar": {
             "outlinewidth": 0,
             "ticks": ""
            },
            "type": "mesh3d"
           }
          ],
          "parcoords": [
           {
            "line": {
             "colorbar": {
              "outlinewidth": 0,
              "ticks": ""
             }
            },
            "type": "parcoords"
           }
          ],
          "pie": [
           {
            "automargin": true,
            "type": "pie"
           }
          ],
          "scatter": [
           {
            "fillpattern": {
             "fillmode": "overlay",
             "size": 10,
             "solidity": 0.2
            },
            "type": "scatter"
           }
          ],
          "scatter3d": [
           {
            "line": {
             "colorbar": {
              "outlinewidth": 0,
              "ticks": ""
             }
            },
            "marker": {
             "colorbar": {
              "outlinewidth": 0,
              "ticks": ""
             }
            },
            "type": "scatter3d"
           }
          ],
          "scattercarpet": [
           {
            "marker": {
             "colorbar": {
              "outlinewidth": 0,
              "ticks": ""
             }
            },
            "type": "scattercarpet"
           }
          ],
          "scattergeo": [
           {
            "marker": {
             "colorbar": {
              "outlinewidth": 0,
              "ticks": ""
             }
            },
            "type": "scattergeo"
           }
          ],
          "scattergl": [
           {
            "marker": {
             "colorbar": {
              "outlinewidth": 0,
              "ticks": ""
             }
            },
            "type": "scattergl"
           }
          ],
          "scattermap": [
           {
            "marker": {
             "colorbar": {
              "outlinewidth": 0,
              "ticks": ""
             }
            },
            "type": "scattermap"
           }
          ],
          "scattermapbox": [
           {
            "marker": {
             "colorbar": {
              "outlinewidth": 0,
              "ticks": ""
             }
            },
            "type": "scattermapbox"
           }
          ],
          "scatterpolar": [
           {
            "marker": {
             "colorbar": {
              "outlinewidth": 0,
              "ticks": ""
             }
            },
            "type": "scatterpolar"
           }
          ],
          "scatterpolargl": [
           {
            "marker": {
             "colorbar": {
              "outlinewidth": 0,
              "ticks": ""
             }
            },
            "type": "scatterpolargl"
           }
          ],
          "scatterternary": [
           {
            "marker": {
             "colorbar": {
              "outlinewidth": 0,
              "ticks": ""
             }
            },
            "type": "scatterternary"
           }
          ],
          "surface": [
           {
            "colorbar": {
             "outlinewidth": 0,
             "ticks": ""
            },
            "colorscale": [
             [
              0,
              "#0d0887"
             ],
             [
              0.1111111111111111,
              "#46039f"
             ],
             [
              0.2222222222222222,
              "#7201a8"
             ],
             [
              0.3333333333333333,
              "#9c179e"
             ],
             [
              0.4444444444444444,
              "#bd3786"
             ],
             [
              0.5555555555555556,
              "#d8576b"
             ],
             [
              0.6666666666666666,
              "#ed7953"
             ],
             [
              0.7777777777777778,
              "#fb9f3a"
             ],
             [
              0.8888888888888888,
              "#fdca26"
             ],
             [
              1,
              "#f0f921"
             ]
            ],
            "type": "surface"
           }
          ],
          "table": [
           {
            "cells": {
             "fill": {
              "color": "#EBF0F8"
             },
             "line": {
              "color": "white"
             }
            },
            "header": {
             "fill": {
              "color": "#C8D4E3"
             },
             "line": {
              "color": "white"
             }
            },
            "type": "table"
           }
          ]
         },
         "layout": {
          "annotationdefaults": {
           "arrowcolor": "#2a3f5f",
           "arrowhead": 0,
           "arrowwidth": 1
          },
          "autotypenumbers": "strict",
          "coloraxis": {
           "colorbar": {
            "outlinewidth": 0,
            "ticks": ""
           }
          },
          "colorscale": {
           "diverging": [
            [
             0,
             "#8e0152"
            ],
            [
             0.1,
             "#c51b7d"
            ],
            [
             0.2,
             "#de77ae"
            ],
            [
             0.3,
             "#f1b6da"
            ],
            [
             0.4,
             "#fde0ef"
            ],
            [
             0.5,
             "#f7f7f7"
            ],
            [
             0.6,
             "#e6f5d0"
            ],
            [
             0.7,
             "#b8e186"
            ],
            [
             0.8,
             "#7fbc41"
            ],
            [
             0.9,
             "#4d9221"
            ],
            [
             1,
             "#276419"
            ]
           ],
           "sequential": [
            [
             0,
             "#0d0887"
            ],
            [
             0.1111111111111111,
             "#46039f"
            ],
            [
             0.2222222222222222,
             "#7201a8"
            ],
            [
             0.3333333333333333,
             "#9c179e"
            ],
            [
             0.4444444444444444,
             "#bd3786"
            ],
            [
             0.5555555555555556,
             "#d8576b"
            ],
            [
             0.6666666666666666,
             "#ed7953"
            ],
            [
             0.7777777777777778,
             "#fb9f3a"
            ],
            [
             0.8888888888888888,
             "#fdca26"
            ],
            [
             1,
             "#f0f921"
            ]
           ],
           "sequentialminus": [
            [
             0,
             "#0d0887"
            ],
            [
             0.1111111111111111,
             "#46039f"
            ],
            [
             0.2222222222222222,
             "#7201a8"
            ],
            [
             0.3333333333333333,
             "#9c179e"
            ],
            [
             0.4444444444444444,
             "#bd3786"
            ],
            [
             0.5555555555555556,
             "#d8576b"
            ],
            [
             0.6666666666666666,
             "#ed7953"
            ],
            [
             0.7777777777777778,
             "#fb9f3a"
            ],
            [
             0.8888888888888888,
             "#fdca26"
            ],
            [
             1,
             "#f0f921"
            ]
           ]
          },
          "colorway": [
           "#636efa",
           "#EF553B",
           "#00cc96",
           "#ab63fa",
           "#FFA15A",
           "#19d3f3",
           "#FF6692",
           "#B6E880",
           "#FF97FF",
           "#FECB52"
          ],
          "font": {
           "color": "#2a3f5f"
          },
          "geo": {
           "bgcolor": "white",
           "lakecolor": "white",
           "landcolor": "#E5ECF6",
           "showlakes": true,
           "showland": true,
           "subunitcolor": "white"
          },
          "hoverlabel": {
           "align": "left"
          },
          "hovermode": "closest",
          "mapbox": {
           "style": "light"
          },
          "paper_bgcolor": "white",
          "plot_bgcolor": "#E5ECF6",
          "polar": {
           "angularaxis": {
            "gridcolor": "white",
            "linecolor": "white",
            "ticks": ""
           },
           "bgcolor": "#E5ECF6",
           "radialaxis": {
            "gridcolor": "white",
            "linecolor": "white",
            "ticks": ""
           }
          },
          "scene": {
           "xaxis": {
            "backgroundcolor": "#E5ECF6",
            "gridcolor": "white",
            "gridwidth": 2,
            "linecolor": "white",
            "showbackground": true,
            "ticks": "",
            "zerolinecolor": "white"
           },
           "yaxis": {
            "backgroundcolor": "#E5ECF6",
            "gridcolor": "white",
            "gridwidth": 2,
            "linecolor": "white",
            "showbackground": true,
            "ticks": "",
            "zerolinecolor": "white"
           },
           "zaxis": {
            "backgroundcolor": "#E5ECF6",
            "gridcolor": "white",
            "gridwidth": 2,
            "linecolor": "white",
            "showbackground": true,
            "ticks": "",
            "zerolinecolor": "white"
           }
          },
          "shapedefaults": {
           "line": {
            "color": "#2a3f5f"
           }
          },
          "ternary": {
           "aaxis": {
            "gridcolor": "white",
            "linecolor": "white",
            "ticks": ""
           },
           "baxis": {
            "gridcolor": "white",
            "linecolor": "white",
            "ticks": ""
           },
           "bgcolor": "#E5ECF6",
           "caxis": {
            "gridcolor": "white",
            "linecolor": "white",
            "ticks": ""
           }
          },
          "title": {
           "x": 0.05
          },
          "xaxis": {
           "automargin": true,
           "gridcolor": "white",
           "linecolor": "white",
           "ticks": "",
           "title": {
            "standoff": 15
           },
           "zerolinecolor": "white",
           "zerolinewidth": 2
          },
          "yaxis": {
           "automargin": true,
           "gridcolor": "white",
           "linecolor": "white",
           "ticks": "",
           "title": {
            "standoff": 15
           },
           "zerolinecolor": "white",
           "zerolinewidth": 2
          }
         }
        },
        "title": {
         "text": "<b>Breakdown: Technical Complaints</b>"
        },
        "treemapcolorway": [
         "rgb(0,68,27)",
         "rgb(0,109,44)",
         "rgb(35,139,69)",
         "rgb(65,171,93)",
         "rgb(116,196,118)",
         "rgb(161,217,155)",
         "rgb(199,233,192)",
         "rgb(229,245,224)",
         "rgb(247,252,245)"
        ]
       }
      }
     },
     "metadata": {},
     "output_type": "display_data"
    },
    {
     "name": "stdout",
     "output_type": "stream",
     "text": [
      "\n",
      "--- Most Important Terms for 'Technical Performance' (TF-IDF) ---\n"
     ]
    },
    {
     "data": {
      "application/vnd.microsoft.datawrangler.viewer.v0+json": {
       "columns": [
        {
         "name": "index",
         "rawType": "int64",
         "type": "integer"
        },
        {
         "name": "Word",
         "rawType": "object",
         "type": "string"
        },
        {
         "name": "TF-IDF Score",
         "rawType": "float64",
         "type": "float"
        }
       ],
       "ref": "7ecc1aa9-b1c0-41f6-88b3-030b18064e68",
       "rows": [
        [
         "0",
         "app",
         "101.21097840234297"
        ],
        [
         "1",
         "subscription",
         "36.67796065449926"
        ],
        [
         "2",
         "just",
         "31.915729597104217"
        ],
        [
         "3",
         "refund",
         "31.30299449481265"
        ],
        [
         "4",
         "like",
         "25.95780669319464"
        ],
        [
         "5",
         "don",
         "24.06429705188767"
        ],
        [
         "6",
         "time",
         "23.50211355935619"
        ],
        [
         "7",
         "penguin",
         "23.31565454839734"
        ],
        [
         "8",
         "money",
         "22.919269982144957"
        ],
        [
         "9",
         "connection",
         "22.82516280981115"
        ],
        [
         "10",
         "good",
         "21.172209645687808"
        ],
        [
         "11",
         "work",
         "20.68595440291725"
        ],
        [
         "12",
         "internet",
         "19.96803180344798"
        ],
        [
         "13",
         "doesn",
         "19.751716384903126"
        ],
        [
         "14",
         "open",
         "19.60482825217735"
        ]
       ],
       "shape": {
        "columns": 2,
        "rows": 15
       }
      },
      "text/html": [
       "<div>\n",
       "<style scoped>\n",
       "    .dataframe tbody tr th:only-of-type {\n",
       "        vertical-align: middle;\n",
       "    }\n",
       "\n",
       "    .dataframe tbody tr th {\n",
       "        vertical-align: top;\n",
       "    }\n",
       "\n",
       "    .dataframe thead th {\n",
       "        text-align: right;\n",
       "    }\n",
       "</style>\n",
       "<table border=\"1\" class=\"dataframe\">\n",
       "  <thead>\n",
       "    <tr style=\"text-align: right;\">\n",
       "      <th></th>\n",
       "      <th>Word</th>\n",
       "      <th>TF-IDF Score</th>\n",
       "    </tr>\n",
       "  </thead>\n",
       "  <tbody>\n",
       "    <tr>\n",
       "      <th>0</th>\n",
       "      <td>app</td>\n",
       "      <td>101.210978</td>\n",
       "    </tr>\n",
       "    <tr>\n",
       "      <th>1</th>\n",
       "      <td>subscription</td>\n",
       "      <td>36.677961</td>\n",
       "    </tr>\n",
       "    <tr>\n",
       "      <th>2</th>\n",
       "      <td>just</td>\n",
       "      <td>31.915730</td>\n",
       "    </tr>\n",
       "    <tr>\n",
       "      <th>3</th>\n",
       "      <td>refund</td>\n",
       "      <td>31.302994</td>\n",
       "    </tr>\n",
       "    <tr>\n",
       "      <th>4</th>\n",
       "      <td>like</td>\n",
       "      <td>25.957807</td>\n",
       "    </tr>\n",
       "    <tr>\n",
       "      <th>5</th>\n",
       "      <td>don</td>\n",
       "      <td>24.064297</td>\n",
       "    </tr>\n",
       "    <tr>\n",
       "      <th>6</th>\n",
       "      <td>time</td>\n",
       "      <td>23.502114</td>\n",
       "    </tr>\n",
       "    <tr>\n",
       "      <th>7</th>\n",
       "      <td>penguin</td>\n",
       "      <td>23.315655</td>\n",
       "    </tr>\n",
       "    <tr>\n",
       "      <th>8</th>\n",
       "      <td>money</td>\n",
       "      <td>22.919270</td>\n",
       "    </tr>\n",
       "    <tr>\n",
       "      <th>9</th>\n",
       "      <td>connection</td>\n",
       "      <td>22.825163</td>\n",
       "    </tr>\n",
       "    <tr>\n",
       "      <th>10</th>\n",
       "      <td>good</td>\n",
       "      <td>21.172210</td>\n",
       "    </tr>\n",
       "    <tr>\n",
       "      <th>11</th>\n",
       "      <td>work</td>\n",
       "      <td>20.685954</td>\n",
       "    </tr>\n",
       "    <tr>\n",
       "      <th>12</th>\n",
       "      <td>internet</td>\n",
       "      <td>19.968032</td>\n",
       "    </tr>\n",
       "    <tr>\n",
       "      <th>13</th>\n",
       "      <td>doesn</td>\n",
       "      <td>19.751716</td>\n",
       "    </tr>\n",
       "    <tr>\n",
       "      <th>14</th>\n",
       "      <td>open</td>\n",
       "      <td>19.604828</td>\n",
       "    </tr>\n",
       "  </tbody>\n",
       "</table>\n",
       "</div>"
      ],
      "text/plain": [
       "            Word  TF-IDF Score\n",
       "0            app    101.210978\n",
       "1   subscription     36.677961\n",
       "2           just     31.915730\n",
       "3         refund     31.302994\n",
       "4           like     25.957807\n",
       "5            don     24.064297\n",
       "6           time     23.502114\n",
       "7        penguin     23.315655\n",
       "8          money     22.919270\n",
       "9     connection     22.825163\n",
       "10          good     21.172210\n",
       "11          work     20.685954\n",
       "12      internet     19.968032\n",
       "13         doesn     19.751716\n",
       "14          open     19.604828"
      ]
     },
     "metadata": {},
     "output_type": "display_data"
    }
   ],
   "source": [
    "# --- 3A: Treemap Breakdown ---\n",
    "tech_df = df[df[\"theme\"] == \"Technical Performance\"]\n",
    "tech_breakdown = tech_df[\"topic_name\"].value_counts().reset_index()\n",
    "tech_breakdown.columns = [\"Specific Complaint\", \"Review Count\"]\n",
    "\n",
    "fig_tech_treemap = px.treemap(\n",
    "    tech_breakdown.head(10),\n",
    "    path=[px.Constant(\"Technical Complaints\"), \"Specific Complaint\"],\n",
    "    values=\"Review Count\",\n",
    "    title=\"<b>Breakdown: Technical Complaints</b>\",\n",
    "    color_discrete_sequence=px.colors.sequential.Greens_r,\n",
    ")\n",
    "fig_tech_treemap.show()\n",
    "\n",
    "# --- 3B: Hierarchical Sunburst View ---\n",
    "# (You can create a sunburst for this theme as well)\n",
    "\n",
    "# --- 3C: Key Term Analysis with TF-IDF ---\n",
    "print(\"\\n--- Most Important Terms for 'Technical Performance' (TF-IDF) ---\")\n",
    "tfidf_tech = get_top_tfidf_words_for_theme(\"Technical Performance\", n_words=15)\n",
    "display(tfidf_tech)"
   ]
  },
  {
   "cell_type": "code",
   "execution_count": 22,
   "metadata": {
    "execution": {
     "iopub.execute_input": "2025-07-22T08:37:23.039637Z",
     "iopub.status.busy": "2025-07-22T08:37:23.039090Z",
     "iopub.status.idle": "2025-07-22T08:37:23.129327Z",
     "shell.execute_reply": "2025-07-22T08:37:23.128655Z",
     "shell.execute_reply.started": "2025-07-22T08:37:23.039614Z"
    },
    "trusted": true
   },
   "outputs": [
    {
     "data": {
      "application/vnd.plotly.v1+json": {
       "config": {
        "plotlyServerURL": "https://plot.ly"
       },
       "data": [
        {
         "hovertemplate": "Frequency (Number of Reviews)=%{marker.size}<br>Average Sentiment Score=%{marker.color}<br>Theme=%{text}<extra></extra>",
         "legendgroup": "",
         "marker": {
          "color": {
           "bdata": "dCLVJt+01j/ry306ku3hv21qU5va1Oa/YP7lX/7l578=",
           "dtype": "f8"
          },
          "coloraxis": "coloraxis",
          "size": {
           "bdata": "Hy59B/QG7AQ=",
           "dtype": "i2"
          },
          "sizemode": "area",
          "sizeref": 29.5175,
          "symbol": "circle"
         },
         "mode": "markers+text",
         "name": "",
         "orientation": "v",
         "showlegend": false,
         "text": [
          "Monetization & Value",
          "Feature-Specific Issues",
          "AI Performance & Quality",
          "Technical Performance"
         ],
         "textfont": {
          "size": 12
         },
         "textposition": "top center",
         "type": "scatter",
         "x": {
          "bdata": "Hy59B/QG7AQ=",
          "dtype": "i2"
         },
         "xaxis": "x",
         "y": {
          "bdata": "dCLVJt+01j/ry306ku3hv21qU5va1Oa/YP7lX/7l578=",
          "dtype": "f8"
         },
         "yaxis": "y"
        }
       ],
       "layout": {
        "annotations": [
         {
          "showarrow": false,
          "text": "Avg. Frequency",
          "x": 4191,
          "xanchor": "left",
          "xref": "x",
          "y": 1,
          "yanchor": "top",
          "yref": "y domain"
         },
         {
          "showarrow": false,
          "text": "Avg. Sentiment",
          "x": 1,
          "xanchor": "right",
          "xref": "x domain",
          "y": -0.41644235062383567,
          "yanchor": "bottom",
          "yref": "y"
         },
         {
          "font": {
           "color": "red"
          },
          "showarrow": false,
          "text": "<b>Critical Issues</b><br>(Frequent & Painful)",
          "x": 6286.5,
          "y": -0.420606774130074
         },
         {
          "font": {
           "color": "orange"
          },
          "showarrow": false,
          "text": "<b>Hidden Dangers</b><br>(Rare but Painful)",
          "x": 2095.5,
          "y": -0.420606774130074
         },
         {
          "showarrow": false,
          "text": "<b>Chronic Annoyances</b><br>(Frequent but less Painful)",
          "x": 6286.5,
          "y": -0.4122779271175973
         },
         {
          "showarrow": false,
          "text": "<b>Minor Issues</b><br>(Rare & less Painful)",
          "x": 2095.5,
          "y": -0.4122779271175973
         }
        ],
        "coloraxis": {
         "colorbar": {
          "title": {
           "text": "Average Sentiment Score"
          }
         },
         "colorscale": [
          [
           0,
           "rgb(103,0,13)"
          ],
          [
           0.125,
           "rgb(165,15,21)"
          ],
          [
           0.25,
           "rgb(203,24,29)"
          ],
          [
           0.375,
           "rgb(239,59,44)"
          ],
          [
           0.5,
           "rgb(251,106,74)"
          ],
          [
           0.625,
           "rgb(252,146,114)"
          ],
          [
           0.75,
           "rgb(252,187,161)"
          ],
          [
           0.875,
           "rgb(254,224,210)"
          ],
          [
           1,
           "rgb(255,245,240)"
          ]
         ]
        },
        "height": 600,
        "legend": {
         "itemsizing": "constant",
         "tracegroupgap": 0
        },
        "shapes": [
         {
          "line": {
           "dash": "dash"
          },
          "type": "line",
          "x0": 4191,
          "x1": 4191,
          "xref": "x",
          "y0": 0,
          "y1": 1,
          "yref": "y domain"
         },
         {
          "line": {
           "dash": "dash"
          },
          "type": "line",
          "x0": 0,
          "x1": 1,
          "xref": "x domain",
          "y0": -0.41644235062383567,
          "y1": -0.41644235062383567,
          "yref": "y"
         }
        ],
        "template": {
         "data": {
          "bar": [
           {
            "error_x": {
             "color": "#2a3f5f"
            },
            "error_y": {
             "color": "#2a3f5f"
            },
            "marker": {
             "line": {
              "color": "white",
              "width": 0.5
             },
             "pattern": {
              "fillmode": "overlay",
              "size": 10,
              "solidity": 0.2
             }
            },
            "type": "bar"
           }
          ],
          "barpolar": [
           {
            "marker": {
             "line": {
              "color": "white",
              "width": 0.5
             },
             "pattern": {
              "fillmode": "overlay",
              "size": 10,
              "solidity": 0.2
             }
            },
            "type": "barpolar"
           }
          ],
          "carpet": [
           {
            "aaxis": {
             "endlinecolor": "#2a3f5f",
             "gridcolor": "#C8D4E3",
             "linecolor": "#C8D4E3",
             "minorgridcolor": "#C8D4E3",
             "startlinecolor": "#2a3f5f"
            },
            "baxis": {
             "endlinecolor": "#2a3f5f",
             "gridcolor": "#C8D4E3",
             "linecolor": "#C8D4E3",
             "minorgridcolor": "#C8D4E3",
             "startlinecolor": "#2a3f5f"
            },
            "type": "carpet"
           }
          ],
          "choropleth": [
           {
            "colorbar": {
             "outlinewidth": 0,
             "ticks": ""
            },
            "type": "choropleth"
           }
          ],
          "contour": [
           {
            "colorbar": {
             "outlinewidth": 0,
             "ticks": ""
            },
            "colorscale": [
             [
              0,
              "#0d0887"
             ],
             [
              0.1111111111111111,
              "#46039f"
             ],
             [
              0.2222222222222222,
              "#7201a8"
             ],
             [
              0.3333333333333333,
              "#9c179e"
             ],
             [
              0.4444444444444444,
              "#bd3786"
             ],
             [
              0.5555555555555556,
              "#d8576b"
             ],
             [
              0.6666666666666666,
              "#ed7953"
             ],
             [
              0.7777777777777778,
              "#fb9f3a"
             ],
             [
              0.8888888888888888,
              "#fdca26"
             ],
             [
              1,
              "#f0f921"
             ]
            ],
            "type": "contour"
           }
          ],
          "contourcarpet": [
           {
            "colorbar": {
             "outlinewidth": 0,
             "ticks": ""
            },
            "type": "contourcarpet"
           }
          ],
          "heatmap": [
           {
            "colorbar": {
             "outlinewidth": 0,
             "ticks": ""
            },
            "colorscale": [
             [
              0,
              "#0d0887"
             ],
             [
              0.1111111111111111,
              "#46039f"
             ],
             [
              0.2222222222222222,
              "#7201a8"
             ],
             [
              0.3333333333333333,
              "#9c179e"
             ],
             [
              0.4444444444444444,
              "#bd3786"
             ],
             [
              0.5555555555555556,
              "#d8576b"
             ],
             [
              0.6666666666666666,
              "#ed7953"
             ],
             [
              0.7777777777777778,
              "#fb9f3a"
             ],
             [
              0.8888888888888888,
              "#fdca26"
             ],
             [
              1,
              "#f0f921"
             ]
            ],
            "type": "heatmap"
           }
          ],
          "histogram": [
           {
            "marker": {
             "pattern": {
              "fillmode": "overlay",
              "size": 10,
              "solidity": 0.2
             }
            },
            "type": "histogram"
           }
          ],
          "histogram2d": [
           {
            "colorbar": {
             "outlinewidth": 0,
             "ticks": ""
            },
            "colorscale": [
             [
              0,
              "#0d0887"
             ],
             [
              0.1111111111111111,
              "#46039f"
             ],
             [
              0.2222222222222222,
              "#7201a8"
             ],
             [
              0.3333333333333333,
              "#9c179e"
             ],
             [
              0.4444444444444444,
              "#bd3786"
             ],
             [
              0.5555555555555556,
              "#d8576b"
             ],
             [
              0.6666666666666666,
              "#ed7953"
             ],
             [
              0.7777777777777778,
              "#fb9f3a"
             ],
             [
              0.8888888888888888,
              "#fdca26"
             ],
             [
              1,
              "#f0f921"
             ]
            ],
            "type": "histogram2d"
           }
          ],
          "histogram2dcontour": [
           {
            "colorbar": {
             "outlinewidth": 0,
             "ticks": ""
            },
            "colorscale": [
             [
              0,
              "#0d0887"
             ],
             [
              0.1111111111111111,
              "#46039f"
             ],
             [
              0.2222222222222222,
              "#7201a8"
             ],
             [
              0.3333333333333333,
              "#9c179e"
             ],
             [
              0.4444444444444444,
              "#bd3786"
             ],
             [
              0.5555555555555556,
              "#d8576b"
             ],
             [
              0.6666666666666666,
              "#ed7953"
             ],
             [
              0.7777777777777778,
              "#fb9f3a"
             ],
             [
              0.8888888888888888,
              "#fdca26"
             ],
             [
              1,
              "#f0f921"
             ]
            ],
            "type": "histogram2dcontour"
           }
          ],
          "mesh3d": [
           {
            "colorbar": {
             "outlinewidth": 0,
             "ticks": ""
            },
            "type": "mesh3d"
           }
          ],
          "parcoords": [
           {
            "line": {
             "colorbar": {
              "outlinewidth": 0,
              "ticks": ""
             }
            },
            "type": "parcoords"
           }
          ],
          "pie": [
           {
            "automargin": true,
            "type": "pie"
           }
          ],
          "scatter": [
           {
            "fillpattern": {
             "fillmode": "overlay",
             "size": 10,
             "solidity": 0.2
            },
            "type": "scatter"
           }
          ],
          "scatter3d": [
           {
            "line": {
             "colorbar": {
              "outlinewidth": 0,
              "ticks": ""
             }
            },
            "marker": {
             "colorbar": {
              "outlinewidth": 0,
              "ticks": ""
             }
            },
            "type": "scatter3d"
           }
          ],
          "scattercarpet": [
           {
            "marker": {
             "colorbar": {
              "outlinewidth": 0,
              "ticks": ""
             }
            },
            "type": "scattercarpet"
           }
          ],
          "scattergeo": [
           {
            "marker": {
             "colorbar": {
              "outlinewidth": 0,
              "ticks": ""
             }
            },
            "type": "scattergeo"
           }
          ],
          "scattergl": [
           {
            "marker": {
             "colorbar": {
              "outlinewidth": 0,
              "ticks": ""
             }
            },
            "type": "scattergl"
           }
          ],
          "scattermap": [
           {
            "marker": {
             "colorbar": {
              "outlinewidth": 0,
              "ticks": ""
             }
            },
            "type": "scattermap"
           }
          ],
          "scattermapbox": [
           {
            "marker": {
             "colorbar": {
              "outlinewidth": 0,
              "ticks": ""
             }
            },
            "type": "scattermapbox"
           }
          ],
          "scatterpolar": [
           {
            "marker": {
             "colorbar": {
              "outlinewidth": 0,
              "ticks": ""
             }
            },
            "type": "scatterpolar"
           }
          ],
          "scatterpolargl": [
           {
            "marker": {
             "colorbar": {
              "outlinewidth": 0,
              "ticks": ""
             }
            },
            "type": "scatterpolargl"
           }
          ],
          "scatterternary": [
           {
            "marker": {
             "colorbar": {
              "outlinewidth": 0,
              "ticks": ""
             }
            },
            "type": "scatterternary"
           }
          ],
          "surface": [
           {
            "colorbar": {
             "outlinewidth": 0,
             "ticks": ""
            },
            "colorscale": [
             [
              0,
              "#0d0887"
             ],
             [
              0.1111111111111111,
              "#46039f"
             ],
             [
              0.2222222222222222,
              "#7201a8"
             ],
             [
              0.3333333333333333,
              "#9c179e"
             ],
             [
              0.4444444444444444,
              "#bd3786"
             ],
             [
              0.5555555555555556,
              "#d8576b"
             ],
             [
              0.6666666666666666,
              "#ed7953"
             ],
             [
              0.7777777777777778,
              "#fb9f3a"
             ],
             [
              0.8888888888888888,
              "#fdca26"
             ],
             [
              1,
              "#f0f921"
             ]
            ],
            "type": "surface"
           }
          ],
          "table": [
           {
            "cells": {
             "fill": {
              "color": "#EBF0F8"
             },
             "line": {
              "color": "white"
             }
            },
            "header": {
             "fill": {
              "color": "#C8D4E3"
             },
             "line": {
              "color": "white"
             }
            },
            "type": "table"
           }
          ]
         },
         "layout": {
          "annotationdefaults": {
           "arrowcolor": "#2a3f5f",
           "arrowhead": 0,
           "arrowwidth": 1
          },
          "autotypenumbers": "strict",
          "coloraxis": {
           "colorbar": {
            "outlinewidth": 0,
            "ticks": ""
           }
          },
          "colorscale": {
           "diverging": [
            [
             0,
             "#8e0152"
            ],
            [
             0.1,
             "#c51b7d"
            ],
            [
             0.2,
             "#de77ae"
            ],
            [
             0.3,
             "#f1b6da"
            ],
            [
             0.4,
             "#fde0ef"
            ],
            [
             0.5,
             "#f7f7f7"
            ],
            [
             0.6,
             "#e6f5d0"
            ],
            [
             0.7,
             "#b8e186"
            ],
            [
             0.8,
             "#7fbc41"
            ],
            [
             0.9,
             "#4d9221"
            ],
            [
             1,
             "#276419"
            ]
           ],
           "sequential": [
            [
             0,
             "#0d0887"
            ],
            [
             0.1111111111111111,
             "#46039f"
            ],
            [
             0.2222222222222222,
             "#7201a8"
            ],
            [
             0.3333333333333333,
             "#9c179e"
            ],
            [
             0.4444444444444444,
             "#bd3786"
            ],
            [
             0.5555555555555556,
             "#d8576b"
            ],
            [
             0.6666666666666666,
             "#ed7953"
            ],
            [
             0.7777777777777778,
             "#fb9f3a"
            ],
            [
             0.8888888888888888,
             "#fdca26"
            ],
            [
             1,
             "#f0f921"
            ]
           ],
           "sequentialminus": [
            [
             0,
             "#0d0887"
            ],
            [
             0.1111111111111111,
             "#46039f"
            ],
            [
             0.2222222222222222,
             "#7201a8"
            ],
            [
             0.3333333333333333,
             "#9c179e"
            ],
            [
             0.4444444444444444,
             "#bd3786"
            ],
            [
             0.5555555555555556,
             "#d8576b"
            ],
            [
             0.6666666666666666,
             "#ed7953"
            ],
            [
             0.7777777777777778,
             "#fb9f3a"
            ],
            [
             0.8888888888888888,
             "#fdca26"
            ],
            [
             1,
             "#f0f921"
            ]
           ]
          },
          "colorway": [
           "#636efa",
           "#EF553B",
           "#00cc96",
           "#ab63fa",
           "#FFA15A",
           "#19d3f3",
           "#FF6692",
           "#B6E880",
           "#FF97FF",
           "#FECB52"
          ],
          "font": {
           "color": "#2a3f5f"
          },
          "geo": {
           "bgcolor": "white",
           "lakecolor": "white",
           "landcolor": "white",
           "showlakes": true,
           "showland": true,
           "subunitcolor": "#C8D4E3"
          },
          "hoverlabel": {
           "align": "left"
          },
          "hovermode": "closest",
          "mapbox": {
           "style": "light"
          },
          "paper_bgcolor": "white",
          "plot_bgcolor": "white",
          "polar": {
           "angularaxis": {
            "gridcolor": "#EBF0F8",
            "linecolor": "#EBF0F8",
            "ticks": ""
           },
           "bgcolor": "white",
           "radialaxis": {
            "gridcolor": "#EBF0F8",
            "linecolor": "#EBF0F8",
            "ticks": ""
           }
          },
          "scene": {
           "xaxis": {
            "backgroundcolor": "white",
            "gridcolor": "#DFE8F3",
            "gridwidth": 2,
            "linecolor": "#EBF0F8",
            "showbackground": true,
            "ticks": "",
            "zerolinecolor": "#EBF0F8"
           },
           "yaxis": {
            "backgroundcolor": "white",
            "gridcolor": "#DFE8F3",
            "gridwidth": 2,
            "linecolor": "#EBF0F8",
            "showbackground": true,
            "ticks": "",
            "zerolinecolor": "#EBF0F8"
           },
           "zaxis": {
            "backgroundcolor": "white",
            "gridcolor": "#DFE8F3",
            "gridwidth": 2,
            "linecolor": "#EBF0F8",
            "showbackground": true,
            "ticks": "",
            "zerolinecolor": "#EBF0F8"
           }
          },
          "shapedefaults": {
           "line": {
            "color": "#2a3f5f"
           }
          },
          "ternary": {
           "aaxis": {
            "gridcolor": "#DFE8F3",
            "linecolor": "#A2B1C6",
            "ticks": ""
           },
           "baxis": {
            "gridcolor": "#DFE8F3",
            "linecolor": "#A2B1C6",
            "ticks": ""
           },
           "bgcolor": "white",
           "caxis": {
            "gridcolor": "#DFE8F3",
            "linecolor": "#A2B1C6",
            "ticks": ""
           }
          },
          "title": {
           "x": 0.05
          },
          "xaxis": {
           "automargin": true,
           "gridcolor": "#EBF0F8",
           "linecolor": "#EBF0F8",
           "ticks": "",
           "title": {
            "standoff": 15
           },
           "zerolinecolor": "#EBF0F8",
           "zerolinewidth": 2
          },
          "yaxis": {
           "automargin": true,
           "gridcolor": "#EBF0F8",
           "linecolor": "#EBF0F8",
           "ticks": "",
           "title": {
            "standoff": 15
           },
           "zerolinecolor": "#EBF0F8",
           "zerolinewidth": 2
          }
         }
        },
        "title": {
         "text": "<b>Conversational Apps: Which Complaints Matter Most?</b>",
         "x": 0.5
        },
        "xaxis": {
         "anchor": "y",
         "domain": [
          0,
          1
         ],
         "title": {
          "text": "Frequency (Number of Reviews)"
         }
        },
        "yaxis": {
         "anchor": "x",
         "domain": [
          0,
          1
         ],
         "title": {
          "text": "Average Sentiment Score"
         }
        }
       }
      }
     },
     "metadata": {},
     "output_type": "display_data"
    }
   ],
   "source": [
    "# --- Visualization 1: The Problem Priority Matrix ---\n",
    "\n",
    "# 1. Get Frequency\n",
    "theme_freq_conv = df[\"theme\"].value_counts().reset_index()\n",
    "theme_freq_conv.columns = [\"Theme\", \"Frequency (Number of Reviews)\"]\n",
    "\n",
    "# 2. Get Sentiment\n",
    "theme_sent_conv = df.groupby(\"theme\")[\"sentiment_score\"].mean().reset_index()\n",
    "theme_sent_conv.columns = [\"Theme\", \"Average Sentiment Score\"]\n",
    "\n",
    "# 3. Merge and Clean\n",
    "priority_df_conv = pd.merge(theme_freq_conv, theme_sent_conv, on=\"Theme\")\n",
    "priority_df_conv = priority_df_conv[\n",
    "    ~priority_df_conv[\"Theme\"].isin(\n",
    "        [\"Outliers / Generic\", \"Other/Misc.\", \"Uncategorized\"]\n",
    "    )\n",
    "]\n",
    "\n",
    "# 4. Create the Scatter Plot\n",
    "fig_scatter_conv = px.scatter(\n",
    "    priority_df_conv,\n",
    "    x=\"Frequency (Number of Reviews)\",\n",
    "    y=\"Average Sentiment Score\",\n",
    "    text=\"Theme\",\n",
    "    size=\"Frequency (Number of Reviews)\",\n",
    "    color=\"Average Sentiment Score\",\n",
    "    color_continuous_scale=\"Reds_r\",\n",
    "    title=\"<b>Conversational Apps: Which Complaints Matter Most?</b>\",\n",
    "    template=\"plotly_white\",\n",
    "    height=600,\n",
    ")\n",
    "\n",
    "# Add annotations to create quadrants and add insight\n",
    "fig_scatter_conv.update_traces(textposition=\"top center\", textfont=dict(size=12))\n",
    "avg_freq = priority_df_conv[\"Frequency (Number of Reviews)\"].mean()\n",
    "avg_sent = priority_df_conv[\"Average Sentiment Score\"].mean()\n",
    "fig_scatter_conv.add_vline(\n",
    "    x=avg_freq, line_dash=\"dash\", annotation_text=\"Avg. Frequency\"\n",
    ")\n",
    "fig_scatter_conv.add_hline(\n",
    "    y=avg_sent, line_dash=\"dash\", annotation_text=\"Avg. Sentiment\"\n",
    ")\n",
    "\n",
    "# Add Quadrant Labels\n",
    "fig_scatter_conv.add_annotation(\n",
    "    x=avg_freq * 1.5,\n",
    "    y=avg_sent * 1.01,\n",
    "    text=\"<b>Critical Issues</b><br>(Frequent & Painful)\",\n",
    "    showarrow=False,\n",
    "    font=dict(color=\"red\"),\n",
    ")\n",
    "fig_scatter_conv.add_annotation(\n",
    "    x=avg_freq * 0.5,\n",
    "    y=avg_sent * 1.01,\n",
    "    text=\"<b>Hidden Dangers</b><br>(Rare but Painful)\",\n",
    "    showarrow=False,\n",
    "    font=dict(color=\"orange\"),\n",
    ")\n",
    "fig_scatter_conv.add_annotation(\n",
    "    x=avg_freq * 1.5,\n",
    "    y=avg_sent * 0.99,\n",
    "    text=\"<b>Chronic Annoyances</b><br>(Frequent but less Painful)\",\n",
    "    showarrow=False,\n",
    ")\n",
    "fig_scatter_conv.add_annotation(\n",
    "    x=avg_freq * 0.5,\n",
    "    y=avg_sent * 0.99,\n",
    "    text=\"<b>Minor Issues</b><br>(Rare & less Painful)\",\n",
    "    showarrow=False,\n",
    ")\n",
    "\n",
    "fig_scatter_conv.update_layout(title_x=0.5)\n",
    "fig_scatter_conv.show()"
   ]
  },
  {
   "cell_type": "code",
   "execution_count": 23,
   "metadata": {
    "execution": {
     "iopub.execute_input": "2025-07-22T08:37:28.909273Z",
     "iopub.status.busy": "2025-07-22T08:37:28.908999Z",
     "iopub.status.idle": "2025-07-22T08:37:28.977460Z",
     "shell.execute_reply": "2025-07-22T08:37:28.976717Z",
     "shell.execute_reply.started": "2025-07-22T08:37:28.909255Z"
    },
    "trusted": true
   },
   "outputs": [
    {
     "data": {
      "application/vnd.plotly.v1+json": {
       "config": {
        "plotlyServerURL": "https://plot.ly"
       },
       "data": [
        {
         "branchvalues": "total",
         "customdata": [
          [
           "AI Performance & Quality"
          ],
          [
           "AI Performance & Quality"
          ],
          [
           "AI Performance & Quality"
          ],
          [
           "AI Performance & Quality"
          ],
          [
           "AI Performance & Quality"
          ],
          [
           "AI Performance & Quality"
          ],
          [
           "AI Performance & Quality"
          ],
          [
           "AI Performance & Quality"
          ],
          [
           "Feature-Specific Issues"
          ],
          [
           "Feature-Specific Issues"
          ],
          [
           "Feature-Specific Issues"
          ],
          [
           "Feature-Specific Issues"
          ],
          [
           "Feature-Specific Issues"
          ],
          [
           "Feature-Specific Issues"
          ],
          [
           "Feature-Specific Issues"
          ],
          [
           "Feature-Specific Issues"
          ],
          [
           "Feature-Specific Issues"
          ],
          [
           "Feature-Specific Issues"
          ],
          [
           "Monetization & Value"
          ],
          [
           "Monetization & Value"
          ],
          [
           "Monetization & Value"
          ],
          [
           "Monetization & Value"
          ],
          [
           "Monetization & Value"
          ],
          [
           "Monetization & Value"
          ],
          [
           "Monetization & Value"
          ],
          [
           "Monetization & Value"
          ],
          [
           "Monetization & Value"
          ],
          [
           "Monetization & Value"
          ],
          [
           "Monetization & Value"
          ],
          [
           "Monetization & Value"
          ],
          [
           "Monetization & Value"
          ],
          [
           "Monetization & Value"
          ],
          [
           "Monetization & Value"
          ],
          [
           "Monetization & Value"
          ],
          [
           "Monetization & Value"
          ],
          [
           "Monetization & Value"
          ],
          [
           "Monetization & Value"
          ],
          [
           "Technical Performance"
          ],
          [
           "Technical Performance"
          ],
          [
           "Technical Performance"
          ],
          [
           "Technical Performance"
          ],
          [
           "Technical Performance"
          ],
          [
           "Technical Performance"
          ],
          [
           "Technical Performance"
          ],
          [
           "Technical Performance"
          ]
         ],
         "domain": {
          "x": [
           0,
           1
          ],
          "y": [
           0,
           1
          ]
         },
         "hovertemplate": "labels=%{label}<br>count=%{value}<br>parent=%{parent}<br>id=%{id}<br>theme=%{customdata[0]}<extra></extra>",
         "ids": [
          "AI Performance & Quality/AI Memory & Conversation Quality",
          "AI Performance & Quality/AI Persona (Gendering 'She/Her')",
          "AI Performance & Quality/AI Persona Gendering",
          "AI Performance & Quality/Chatbot Comparisons (ChatGPT)",
          "AI Performance & Quality/Conversation Timing",
          "AI Performance & Quality/Generic Conversation",
          "AI Performance & Quality/Poor Conversation Quality",
          "AI Performance & Quality",
          "Feature-Specific Issues",
          "Feature-Specific Issues/Voice Call & Audio Features",
          "Feature-Specific Issues/Sexual Content & Advertising",
          "Feature-Specific Issues/Sending Pictures & Photos",
          "Feature-Specific Issues/Romantic Relationship Features",
          "Feature-Specific Issues/Mental Health & Therapy Framing",
          "Feature-Specific Issues/Language & Translation Issues",
          "Feature-Specific Issues/Company Removing Features",
          "Feature-Specific Issues/Avatar & 3D Model Customization",
          "Feature-Specific Issues/Age Verification (Under 18)",
          "Monetization & Value/Update/Subscription Combo",
          "Monetization & Value/Subscription Models (Pay/Monthly/Yearly)",
          "Monetization & Value/Subscription Language & Options",
          "Monetization & Value/Subscription Complaints",
          "Monetization & Value/Requesting Money Back",
          "Monetization & Value/Refunds for Paid Subscriptions",
          "Monetization & Value/Refunds & Google Play Billing",
          "Monetization & Value/Pro Version vs. Free Version",
          "Monetization & Value/Paying for Pictures/Photos",
          "Monetization & Value/Price is Too Expensive",
          "Monetization & Value/Paywalled Features",
          "Monetization & Value",
          "Monetization & Value/Inability to Use Core Features (Paywall)",
          "Monetization & Value/In-App Gamification & Payments",
          "Monetization & Value/Free Trial Issues",
          "Monetization & Value/False Advertising",
          "Monetization & Value/Chat Monetization",
          "Monetization & Value/Pricing & Lack of Monthly Options",
          "Monetization & Value/Data Mining & Money Scams",
          "Technical Performance/Update Issues",
          "Technical Performance/Technical: Loading & Installation",
          "Technical Performance/Bugs Introduced by Updates",
          "Technical Performance/Technical: Customization Screen Bugs",
          "Technical Performance/Technical: App Crashing / Not Opening",
          "Technical Performance/Account, Login & Password Issues",
          "Technical Performance/Technical: Internet Connection Issues",
          "Technical Performance"
         ],
         "labels": [
          "AI Memory & Conversation Quality",
          "AI Persona (Gendering 'She/Her')",
          "AI Persona Gendering",
          "Chatbot Comparisons (ChatGPT)",
          "Conversation Timing",
          "Generic Conversation",
          "Poor Conversation Quality",
          "AI Performance & Quality",
          "Feature-Specific Issues",
          "Voice Call & Audio Features",
          "Sexual Content & Advertising",
          "Sending Pictures & Photos",
          "Romantic Relationship Features",
          "Mental Health & Therapy Framing",
          "Language & Translation Issues",
          "Company Removing Features",
          "Avatar & 3D Model Customization",
          "Age Verification (Under 18)",
          "Update/Subscription Combo",
          "Subscription Models (Pay/Monthly/Yearly)",
          "Subscription Language & Options",
          "Subscription Complaints",
          "Requesting Money Back",
          "Refunds for Paid Subscriptions",
          "Refunds & Google Play Billing",
          "Pro Version vs. Free Version",
          "Paying for Pictures/Photos",
          "Price is Too Expensive",
          "Paywalled Features",
          "Monetization & Value",
          "Inability to Use Core Features (Paywall)",
          "In-App Gamification & Payments",
          "Free Trial Issues",
          "False Advertising",
          "Chat Monetization",
          "Pricing & Lack of Monthly Options",
          "Data Mining & Money Scams",
          "Update Issues",
          "Technical: Loading & Installation",
          "Bugs Introduced by Updates",
          "Technical: Customization Screen Bugs",
          "Technical: App Crashing / Not Opening",
          "Account, Login & Password Issues",
          "Technical: Internet Connection Issues",
          "Technical Performance"
         ],
         "marker": {
          "colors": [
           "#ADD8E6",
           "#ADD8E6",
           "#ADD8E6",
           "#ADD8E6",
           "#ADD8E6",
           "#ADD8E6",
           "#ADD8E6",
           "#ADD8E6",
           "#FFD700",
           "#FFD700",
           "#FFD700",
           "#FFD700",
           "#FFD700",
           "#FFD700",
           "#FFD700",
           "#FFD700",
           "#FFD700",
           "#FFD700",
           "#FFB6C1",
           "#FFB6C1",
           "#FFB6C1",
           "#FFB6C1",
           "#FFB6C1",
           "#FFB6C1",
           "#FFB6C1",
           "#FFB6C1",
           "#FFB6C1",
           "#FFB6C1",
           "#FFB6C1",
           "#FFB6C1",
           "#FFB6C1",
           "#FFB6C1",
           "#FFB6C1",
           "#FFB6C1",
           "#FFB6C1",
           "#FFB6C1",
           "#FFB6C1",
           "#90EE90",
           "#90EE90",
           "#90EE90",
           "#90EE90",
           "#90EE90",
           "#90EE90",
           "#90EE90",
           "#90EE90"
          ]
         },
         "name": "",
         "parents": [
          "AI Performance & Quality",
          "AI Performance & Quality",
          "AI Performance & Quality",
          "AI Performance & Quality",
          "AI Performance & Quality",
          "AI Performance & Quality",
          "AI Performance & Quality",
          "",
          "",
          "Feature-Specific Issues",
          "Feature-Specific Issues",
          "Feature-Specific Issues",
          "Feature-Specific Issues",
          "Feature-Specific Issues",
          "Feature-Specific Issues",
          "Feature-Specific Issues",
          "Feature-Specific Issues",
          "Feature-Specific Issues",
          "Monetization & Value",
          "Monetization & Value",
          "Monetization & Value",
          "Monetization & Value",
          "Monetization & Value",
          "Monetization & Value",
          "Monetization & Value",
          "Monetization & Value",
          "Monetization & Value",
          "Monetization & Value",
          "Monetization & Value",
          "",
          "Monetization & Value",
          "Monetization & Value",
          "Monetization & Value",
          "Monetization & Value",
          "Monetization & Value",
          "Monetization & Value",
          "Monetization & Value",
          "Technical Performance",
          "Technical Performance",
          "Technical Performance",
          "Technical Performance",
          "Technical Performance",
          "Technical Performance",
          "Technical Performance",
          ""
         ],
         "type": "sunburst",
         "values": {
          "bdata": "AAAAAAAQf0AAAAAAAPB6QAAAAAAAAFJAAAAAAABgd0AAAAAAAMBTQAAAAAAAAE9AAAAAAACQcEAAAAAAANCbQAAAAAAA9J1AAAAAAABAYUAAAAAAACBhQAAAAAAAQFFAAAAAAADAYEAAAAAAAOCFQAAAAAAAAEtAAAAAAAAAVUAAAAAAAPiAQAAAAAAAAE1AAAAAAAAATEAAAAAAgJ/AQAAAAAAAMIxAAAAAAABgaUAAAAAAAIBSQAAAAAAAwGRAAAAAAACgb0AAAAAAAABdQAAAAAAAgEdAAAAAAACAZEAAAAAAAEBfQAAAAACAD8dAAAAAAADAYUAAAAAAABB5QAAAAAAAQFhAAAAAAADAXEAAAAAAAIBgQAAAAAAAoG9AAAAAAAAASUAAAAAAAABOQAAAAAAAAF5AAAAAAACgaEAAAAAAAEBYQAAAAAAAEHlAAAAAAADAcEAAAAAAAEBdQAAAAAAAsJNA",
          "dtype": "f8"
         }
        }
       ],
       "layout": {
        "font": {
         "size": 14
        },
        "legend": {
         "tracegroupgap": 0
        },
        "margin": {
         "b": 25,
         "l": 25,
         "r": 25,
         "t": 50
        },
        "template": {
         "data": {
          "bar": [
           {
            "error_x": {
             "color": "#2a3f5f"
            },
            "error_y": {
             "color": "#2a3f5f"
            },
            "marker": {
             "line": {
              "color": "#E5ECF6",
              "width": 0.5
             },
             "pattern": {
              "fillmode": "overlay",
              "size": 10,
              "solidity": 0.2
             }
            },
            "type": "bar"
           }
          ],
          "barpolar": [
           {
            "marker": {
             "line": {
              "color": "#E5ECF6",
              "width": 0.5
             },
             "pattern": {
              "fillmode": "overlay",
              "size": 10,
              "solidity": 0.2
             }
            },
            "type": "barpolar"
           }
          ],
          "carpet": [
           {
            "aaxis": {
             "endlinecolor": "#2a3f5f",
             "gridcolor": "white",
             "linecolor": "white",
             "minorgridcolor": "white",
             "startlinecolor": "#2a3f5f"
            },
            "baxis": {
             "endlinecolor": "#2a3f5f",
             "gridcolor": "white",
             "linecolor": "white",
             "minorgridcolor": "white",
             "startlinecolor": "#2a3f5f"
            },
            "type": "carpet"
           }
          ],
          "choropleth": [
           {
            "colorbar": {
             "outlinewidth": 0,
             "ticks": ""
            },
            "type": "choropleth"
           }
          ],
          "contour": [
           {
            "colorbar": {
             "outlinewidth": 0,
             "ticks": ""
            },
            "colorscale": [
             [
              0,
              "#0d0887"
             ],
             [
              0.1111111111111111,
              "#46039f"
             ],
             [
              0.2222222222222222,
              "#7201a8"
             ],
             [
              0.3333333333333333,
              "#9c179e"
             ],
             [
              0.4444444444444444,
              "#bd3786"
             ],
             [
              0.5555555555555556,
              "#d8576b"
             ],
             [
              0.6666666666666666,
              "#ed7953"
             ],
             [
              0.7777777777777778,
              "#fb9f3a"
             ],
             [
              0.8888888888888888,
              "#fdca26"
             ],
             [
              1,
              "#f0f921"
             ]
            ],
            "type": "contour"
           }
          ],
          "contourcarpet": [
           {
            "colorbar": {
             "outlinewidth": 0,
             "ticks": ""
            },
            "type": "contourcarpet"
           }
          ],
          "heatmap": [
           {
            "colorbar": {
             "outlinewidth": 0,
             "ticks": ""
            },
            "colorscale": [
             [
              0,
              "#0d0887"
             ],
             [
              0.1111111111111111,
              "#46039f"
             ],
             [
              0.2222222222222222,
              "#7201a8"
             ],
             [
              0.3333333333333333,
              "#9c179e"
             ],
             [
              0.4444444444444444,
              "#bd3786"
             ],
             [
              0.5555555555555556,
              "#d8576b"
             ],
             [
              0.6666666666666666,
              "#ed7953"
             ],
             [
              0.7777777777777778,
              "#fb9f3a"
             ],
             [
              0.8888888888888888,
              "#fdca26"
             ],
             [
              1,
              "#f0f921"
             ]
            ],
            "type": "heatmap"
           }
          ],
          "histogram": [
           {
            "marker": {
             "pattern": {
              "fillmode": "overlay",
              "size": 10,
              "solidity": 0.2
             }
            },
            "type": "histogram"
           }
          ],
          "histogram2d": [
           {
            "colorbar": {
             "outlinewidth": 0,
             "ticks": ""
            },
            "colorscale": [
             [
              0,
              "#0d0887"
             ],
             [
              0.1111111111111111,
              "#46039f"
             ],
             [
              0.2222222222222222,
              "#7201a8"
             ],
             [
              0.3333333333333333,
              "#9c179e"
             ],
             [
              0.4444444444444444,
              "#bd3786"
             ],
             [
              0.5555555555555556,
              "#d8576b"
             ],
             [
              0.6666666666666666,
              "#ed7953"
             ],
             [
              0.7777777777777778,
              "#fb9f3a"
             ],
             [
              0.8888888888888888,
              "#fdca26"
             ],
             [
              1,
              "#f0f921"
             ]
            ],
            "type": "histogram2d"
           }
          ],
          "histogram2dcontour": [
           {
            "colorbar": {
             "outlinewidth": 0,
             "ticks": ""
            },
            "colorscale": [
             [
              0,
              "#0d0887"
             ],
             [
              0.1111111111111111,
              "#46039f"
             ],
             [
              0.2222222222222222,
              "#7201a8"
             ],
             [
              0.3333333333333333,
              "#9c179e"
             ],
             [
              0.4444444444444444,
              "#bd3786"
             ],
             [
              0.5555555555555556,
              "#d8576b"
             ],
             [
              0.6666666666666666,
              "#ed7953"
             ],
             [
              0.7777777777777778,
              "#fb9f3a"
             ],
             [
              0.8888888888888888,
              "#fdca26"
             ],
             [
              1,
              "#f0f921"
             ]
            ],
            "type": "histogram2dcontour"
           }
          ],
          "mesh3d": [
           {
            "colorbar": {
             "outlinewidth": 0,
             "ticks": ""
            },
            "type": "mesh3d"
           }
          ],
          "parcoords": [
           {
            "line": {
             "colorbar": {
              "outlinewidth": 0,
              "ticks": ""
             }
            },
            "type": "parcoords"
           }
          ],
          "pie": [
           {
            "automargin": true,
            "type": "pie"
           }
          ],
          "scatter": [
           {
            "fillpattern": {
             "fillmode": "overlay",
             "size": 10,
             "solidity": 0.2
            },
            "type": "scatter"
           }
          ],
          "scatter3d": [
           {
            "line": {
             "colorbar": {
              "outlinewidth": 0,
              "ticks": ""
             }
            },
            "marker": {
             "colorbar": {
              "outlinewidth": 0,
              "ticks": ""
             }
            },
            "type": "scatter3d"
           }
          ],
          "scattercarpet": [
           {
            "marker": {
             "colorbar": {
              "outlinewidth": 0,
              "ticks": ""
             }
            },
            "type": "scattercarpet"
           }
          ],
          "scattergeo": [
           {
            "marker": {
             "colorbar": {
              "outlinewidth": 0,
              "ticks": ""
             }
            },
            "type": "scattergeo"
           }
          ],
          "scattergl": [
           {
            "marker": {
             "colorbar": {
              "outlinewidth": 0,
              "ticks": ""
             }
            },
            "type": "scattergl"
           }
          ],
          "scattermap": [
           {
            "marker": {
             "colorbar": {
              "outlinewidth": 0,
              "ticks": ""
             }
            },
            "type": "scattermap"
           }
          ],
          "scattermapbox": [
           {
            "marker": {
             "colorbar": {
              "outlinewidth": 0,
              "ticks": ""
             }
            },
            "type": "scattermapbox"
           }
          ],
          "scatterpolar": [
           {
            "marker": {
             "colorbar": {
              "outlinewidth": 0,
              "ticks": ""
             }
            },
            "type": "scatterpolar"
           }
          ],
          "scatterpolargl": [
           {
            "marker": {
             "colorbar": {
              "outlinewidth": 0,
              "ticks": ""
             }
            },
            "type": "scatterpolargl"
           }
          ],
          "scatterternary": [
           {
            "marker": {
             "colorbar": {
              "outlinewidth": 0,
              "ticks": ""
             }
            },
            "type": "scatterternary"
           }
          ],
          "surface": [
           {
            "colorbar": {
             "outlinewidth": 0,
             "ticks": ""
            },
            "colorscale": [
             [
              0,
              "#0d0887"
             ],
             [
              0.1111111111111111,
              "#46039f"
             ],
             [
              0.2222222222222222,
              "#7201a8"
             ],
             [
              0.3333333333333333,
              "#9c179e"
             ],
             [
              0.4444444444444444,
              "#bd3786"
             ],
             [
              0.5555555555555556,
              "#d8576b"
             ],
             [
              0.6666666666666666,
              "#ed7953"
             ],
             [
              0.7777777777777778,
              "#fb9f3a"
             ],
             [
              0.8888888888888888,
              "#fdca26"
             ],
             [
              1,
              "#f0f921"
             ]
            ],
            "type": "surface"
           }
          ],
          "table": [
           {
            "cells": {
             "fill": {
              "color": "#EBF0F8"
             },
             "line": {
              "color": "white"
             }
            },
            "header": {
             "fill": {
              "color": "#C8D4E3"
             },
             "line": {
              "color": "white"
             }
            },
            "type": "table"
           }
          ]
         },
         "layout": {
          "annotationdefaults": {
           "arrowcolor": "#2a3f5f",
           "arrowhead": 0,
           "arrowwidth": 1
          },
          "autotypenumbers": "strict",
          "coloraxis": {
           "colorbar": {
            "outlinewidth": 0,
            "ticks": ""
           }
          },
          "colorscale": {
           "diverging": [
            [
             0,
             "#8e0152"
            ],
            [
             0.1,
             "#c51b7d"
            ],
            [
             0.2,
             "#de77ae"
            ],
            [
             0.3,
             "#f1b6da"
            ],
            [
             0.4,
             "#fde0ef"
            ],
            [
             0.5,
             "#f7f7f7"
            ],
            [
             0.6,
             "#e6f5d0"
            ],
            [
             0.7,
             "#b8e186"
            ],
            [
             0.8,
             "#7fbc41"
            ],
            [
             0.9,
             "#4d9221"
            ],
            [
             1,
             "#276419"
            ]
           ],
           "sequential": [
            [
             0,
             "#0d0887"
            ],
            [
             0.1111111111111111,
             "#46039f"
            ],
            [
             0.2222222222222222,
             "#7201a8"
            ],
            [
             0.3333333333333333,
             "#9c179e"
            ],
            [
             0.4444444444444444,
             "#bd3786"
            ],
            [
             0.5555555555555556,
             "#d8576b"
            ],
            [
             0.6666666666666666,
             "#ed7953"
            ],
            [
             0.7777777777777778,
             "#fb9f3a"
            ],
            [
             0.8888888888888888,
             "#fdca26"
            ],
            [
             1,
             "#f0f921"
            ]
           ],
           "sequentialminus": [
            [
             0,
             "#0d0887"
            ],
            [
             0.1111111111111111,
             "#46039f"
            ],
            [
             0.2222222222222222,
             "#7201a8"
            ],
            [
             0.3333333333333333,
             "#9c179e"
            ],
            [
             0.4444444444444444,
             "#bd3786"
            ],
            [
             0.5555555555555556,
             "#d8576b"
            ],
            [
             0.6666666666666666,
             "#ed7953"
            ],
            [
             0.7777777777777778,
             "#fb9f3a"
            ],
            [
             0.8888888888888888,
             "#fdca26"
            ],
            [
             1,
             "#f0f921"
            ]
           ]
          },
          "colorway": [
           "#636efa",
           "#EF553B",
           "#00cc96",
           "#ab63fa",
           "#FFA15A",
           "#19d3f3",
           "#FF6692",
           "#B6E880",
           "#FF97FF",
           "#FECB52"
          ],
          "font": {
           "color": "#2a3f5f"
          },
          "geo": {
           "bgcolor": "white",
           "lakecolor": "white",
           "landcolor": "#E5ECF6",
           "showlakes": true,
           "showland": true,
           "subunitcolor": "white"
          },
          "hoverlabel": {
           "align": "left"
          },
          "hovermode": "closest",
          "mapbox": {
           "style": "light"
          },
          "paper_bgcolor": "white",
          "plot_bgcolor": "#E5ECF6",
          "polar": {
           "angularaxis": {
            "gridcolor": "white",
            "linecolor": "white",
            "ticks": ""
           },
           "bgcolor": "#E5ECF6",
           "radialaxis": {
            "gridcolor": "white",
            "linecolor": "white",
            "ticks": ""
           }
          },
          "scene": {
           "xaxis": {
            "backgroundcolor": "#E5ECF6",
            "gridcolor": "white",
            "gridwidth": 2,
            "linecolor": "white",
            "showbackground": true,
            "ticks": "",
            "zerolinecolor": "white"
           },
           "yaxis": {
            "backgroundcolor": "#E5ECF6",
            "gridcolor": "white",
            "gridwidth": 2,
            "linecolor": "white",
            "showbackground": true,
            "ticks": "",
            "zerolinecolor": "white"
           },
           "zaxis": {
            "backgroundcolor": "#E5ECF6",
            "gridcolor": "white",
            "gridwidth": 2,
            "linecolor": "white",
            "showbackground": true,
            "ticks": "",
            "zerolinecolor": "white"
           }
          },
          "shapedefaults": {
           "line": {
            "color": "#2a3f5f"
           }
          },
          "ternary": {
           "aaxis": {
            "gridcolor": "white",
            "linecolor": "white",
            "ticks": ""
           },
           "baxis": {
            "gridcolor": "white",
            "linecolor": "white",
            "ticks": ""
           },
           "bgcolor": "#E5ECF6",
           "caxis": {
            "gridcolor": "white",
            "linecolor": "white",
            "ticks": ""
           }
          },
          "title": {
           "x": 0.05
          },
          "xaxis": {
           "automargin": true,
           "gridcolor": "white",
           "linecolor": "white",
           "ticks": "",
           "title": {
            "standoff": 15
           },
           "zerolinecolor": "white",
           "zerolinewidth": 2
          },
          "yaxis": {
           "automargin": true,
           "gridcolor": "white",
           "linecolor": "white",
           "ticks": "",
           "title": {
            "standoff": 15
           },
           "zerolinecolor": "white",
           "zerolinewidth": 2
          }
         }
        },
        "title": {
         "text": "<b>Conversational Apps: The Anatomy of a Negative Review</b>",
         "x": 0.5
        }
       }
      }
     },
     "metadata": {},
     "output_type": "display_data"
    }
   ],
   "source": [
    "# --- Visualization 2: The Anatomy of a Complaint ---\n",
    "\n",
    "# Prepare the data for the sunburst chart\n",
    "sunburst_data_conv = df[\n",
    "    ~df[\"theme\"].isin([\"Outliers / Generic\", \"Other/Misc.\", \"Uncategorized\"])\n",
    "]\n",
    "sunburst_data_conv = (\n",
    "    sunburst_data_conv.groupby([\"theme\", \"topic_name\"]).size().reset_index(name=\"count\")\n",
    ")\n",
    "\n",
    "# Create the Sunburst chart\n",
    "fig_sunburst_conv = px.sunburst(\n",
    "    sunburst_data_conv,\n",
    "    path=[\"theme\", \"topic_name\"],\n",
    "    values=\"count\",\n",
    "    title=\"<b>Conversational Apps: The Anatomy of a Negative Review</b>\",\n",
    "    color=\"theme\",\n",
    "    color_discrete_map={  # Assign consistent colors\n",
    "        \"Monetization & Value\": \"#FFB6C1\",  # Light Pink\n",
    "        \"AI Performance & Quality\": \"#ADD8E6\",  # Light Blue\n",
    "        \"Technical Performance\": \"#90EE90\",  # Light Green\n",
    "        \"Feature-Specific Issues\": \"#FFD700\",  # Gold\n",
    "    },\n",
    ")\n",
    "\n",
    "fig_sunburst_conv.update_layout(\n",
    "    margin=dict(t=50, l=25, r=25, b=25), font=dict(size=14), title_x=0.5\n",
    ")\n",
    "fig_sunburst_conv.show()"
   ]
  },
  {
   "cell_type": "code",
   "execution_count": 24,
   "metadata": {
    "execution": {
     "iopub.execute_input": "2025-07-22T08:37:31.607714Z",
     "iopub.status.busy": "2025-07-22T08:37:31.607371Z",
     "iopub.status.idle": "2025-07-22T08:37:31.613724Z",
     "shell.execute_reply": "2025-07-22T08:37:31.612944Z",
     "shell.execute_reply.started": "2025-07-22T08:37:31.607666Z"
    },
    "trusted": true
   },
   "outputs": [
    {
     "name": "stdout",
     "output_type": "stream",
     "text": [
      "Setup complete. Ready to generate individual theme breakdowns.\n"
     ]
    }
   ],
   "source": [
    "# --- Helper Function for Creating Themed Sunburst Charts ---\n",
    "def create_themed_sunburst(theme_name, color_sequence):\n",
    "    \"\"\"\n",
    "    Filters the DataFrame for a specific theme and creates a\n",
    "    beautiful, hierarchical sunburst chart for it.\n",
    "    \"\"\"\n",
    "    # Filter the DataFrame for the specific theme\n",
    "    theme_df = df[df[\"theme\"] == theme_name]\n",
    "\n",
    "    if theme_df.empty:\n",
    "        print(f\"No data found for theme: {theme_name}. Skipping chart.\")\n",
    "        return\n",
    "\n",
    "    # Prepare the data for the sunburst\n",
    "    sunburst_data = (\n",
    "        theme_df.groupby([\"theme\", \"topic_name\"]).size().reset_index(name=\"count\")\n",
    "    )\n",
    "\n",
    "    # Create the Sunburst chart\n",
    "    fig = px.sunburst(\n",
    "        sunburst_data,\n",
    "        path=[\"theme\", \"topic_name\"],  # The hierarchy is Theme -> Specific Complaint\n",
    "        values=\"count\",\n",
    "        title=f'<b>Hierarchical Breakdown of \"{theme_name}\" Complaints</b>',\n",
    "        color=\"topic_name\",  # Color the outer ring for visual distinction\n",
    "        color_discrete_sequence=color_sequence,\n",
    "    )\n",
    "\n",
    "    fig.update_layout(\n",
    "        margin=dict(t=50, l=25, r=25, b=25), font=dict(size=14), title_x=0.5\n",
    "    )\n",
    "    fig.show()\n",
    "\n",
    "\n",
    "print(\"Setup complete. Ready to generate individual theme breakdowns.\")"
   ]
  },
  {
   "cell_type": "code",
   "execution_count": 25,
   "metadata": {
    "execution": {
     "iopub.execute_input": "2025-07-22T08:37:34.228532Z",
     "iopub.status.busy": "2025-07-22T08:37:34.227938Z",
     "iopub.status.idle": "2025-07-22T08:37:34.285930Z",
     "shell.execute_reply": "2025-07-22T08:37:34.285170Z",
     "shell.execute_reply.started": "2025-07-22T08:37:34.228511Z"
    },
    "trusted": true
   },
   "outputs": [
    {
     "data": {
      "application/vnd.plotly.v1+json": {
       "config": {
        "plotlyServerURL": "https://plot.ly"
       },
       "data": [
        {
         "branchvalues": "total",
         "customdata": [
          [
           "(?)"
          ],
          [
           "AI Memory & Conversation Quality"
          ],
          [
           "AI Persona (Gendering 'She/Her')"
          ],
          [
           "AI Persona Gendering"
          ],
          [
           "Chatbot Comparisons (ChatGPT)"
          ],
          [
           "Conversation Timing"
          ],
          [
           "Generic Conversation"
          ],
          [
           "Poor Conversation Quality"
          ]
         ],
         "domain": {
          "x": [
           0,
           1
          ],
          "y": [
           0,
           1
          ]
         },
         "hovertemplate": "labels=%{label}<br>count=%{value}<br>parent=%{parent}<br>id=%{id}<br>topic_name=%{customdata[0]}<extra></extra>",
         "ids": [
          "AI Performance & Quality",
          "AI Performance & Quality/AI Memory & Conversation Quality",
          "AI Performance & Quality/AI Persona (Gendering 'She/Her')",
          "AI Performance & Quality/AI Persona Gendering",
          "AI Performance & Quality/Chatbot Comparisons (ChatGPT)",
          "AI Performance & Quality/Conversation Timing",
          "AI Performance & Quality/Generic Conversation",
          "AI Performance & Quality/Poor Conversation Quality"
         ],
         "labels": [
          "AI Performance & Quality",
          "AI Memory & Conversation Quality",
          "AI Persona (Gendering 'She/Her')",
          "AI Persona Gendering",
          "Chatbot Comparisons (ChatGPT)",
          "Conversation Timing",
          "Generic Conversation",
          "Poor Conversation Quality"
         ],
         "marker": {
          "colors": [
           "rgb(8,48,107)",
           "rgb(8,81,156)",
           "rgb(33,113,181)",
           "rgb(66,146,198)",
           "rgb(107,174,214)",
           "rgb(158,202,225)",
           "rgb(198,219,239)",
           "rgb(222,235,247)"
          ]
         },
         "name": "",
         "parents": [
          "",
          "AI Performance & Quality",
          "AI Performance & Quality",
          "AI Performance & Quality",
          "AI Performance & Quality",
          "AI Performance & Quality",
          "AI Performance & Quality",
          "AI Performance & Quality"
         ],
         "type": "sunburst",
         "values": {
          "bdata": "AAAAAADQm0AAAAAAABB/QAAAAAAA8HpAAAAAAAAAUkAAAAAAAGB3QAAAAAAAwFNAAAAAAAAAT0AAAAAAAJBwQA==",
          "dtype": "f8"
         }
        }
       ],
       "layout": {
        "font": {
         "size": 14
        },
        "legend": {
         "tracegroupgap": 0
        },
        "margin": {
         "b": 25,
         "l": 25,
         "r": 25,
         "t": 50
        },
        "sunburstcolorway": [
         "rgb(8,48,107)",
         "rgb(8,81,156)",
         "rgb(33,113,181)",
         "rgb(66,146,198)",
         "rgb(107,174,214)",
         "rgb(158,202,225)",
         "rgb(198,219,239)",
         "rgb(222,235,247)",
         "rgb(247,251,255)"
        ],
        "template": {
         "data": {
          "bar": [
           {
            "error_x": {
             "color": "#2a3f5f"
            },
            "error_y": {
             "color": "#2a3f5f"
            },
            "marker": {
             "line": {
              "color": "#E5ECF6",
              "width": 0.5
             },
             "pattern": {
              "fillmode": "overlay",
              "size": 10,
              "solidity": 0.2
             }
            },
            "type": "bar"
           }
          ],
          "barpolar": [
           {
            "marker": {
             "line": {
              "color": "#E5ECF6",
              "width": 0.5
             },
             "pattern": {
              "fillmode": "overlay",
              "size": 10,
              "solidity": 0.2
             }
            },
            "type": "barpolar"
           }
          ],
          "carpet": [
           {
            "aaxis": {
             "endlinecolor": "#2a3f5f",
             "gridcolor": "white",
             "linecolor": "white",
             "minorgridcolor": "white",
             "startlinecolor": "#2a3f5f"
            },
            "baxis": {
             "endlinecolor": "#2a3f5f",
             "gridcolor": "white",
             "linecolor": "white",
             "minorgridcolor": "white",
             "startlinecolor": "#2a3f5f"
            },
            "type": "carpet"
           }
          ],
          "choropleth": [
           {
            "colorbar": {
             "outlinewidth": 0,
             "ticks": ""
            },
            "type": "choropleth"
           }
          ],
          "contour": [
           {
            "colorbar": {
             "outlinewidth": 0,
             "ticks": ""
            },
            "colorscale": [
             [
              0,
              "#0d0887"
             ],
             [
              0.1111111111111111,
              "#46039f"
             ],
             [
              0.2222222222222222,
              "#7201a8"
             ],
             [
              0.3333333333333333,
              "#9c179e"
             ],
             [
              0.4444444444444444,
              "#bd3786"
             ],
             [
              0.5555555555555556,
              "#d8576b"
             ],
             [
              0.6666666666666666,
              "#ed7953"
             ],
             [
              0.7777777777777778,
              "#fb9f3a"
             ],
             [
              0.8888888888888888,
              "#fdca26"
             ],
             [
              1,
              "#f0f921"
             ]
            ],
            "type": "contour"
           }
          ],
          "contourcarpet": [
           {
            "colorbar": {
             "outlinewidth": 0,
             "ticks": ""
            },
            "type": "contourcarpet"
           }
          ],
          "heatmap": [
           {
            "colorbar": {
             "outlinewidth": 0,
             "ticks": ""
            },
            "colorscale": [
             [
              0,
              "#0d0887"
             ],
             [
              0.1111111111111111,
              "#46039f"
             ],
             [
              0.2222222222222222,
              "#7201a8"
             ],
             [
              0.3333333333333333,
              "#9c179e"
             ],
             [
              0.4444444444444444,
              "#bd3786"
             ],
             [
              0.5555555555555556,
              "#d8576b"
             ],
             [
              0.6666666666666666,
              "#ed7953"
             ],
             [
              0.7777777777777778,
              "#fb9f3a"
             ],
             [
              0.8888888888888888,
              "#fdca26"
             ],
             [
              1,
              "#f0f921"
             ]
            ],
            "type": "heatmap"
           }
          ],
          "histogram": [
           {
            "marker": {
             "pattern": {
              "fillmode": "overlay",
              "size": 10,
              "solidity": 0.2
             }
            },
            "type": "histogram"
           }
          ],
          "histogram2d": [
           {
            "colorbar": {
             "outlinewidth": 0,
             "ticks": ""
            },
            "colorscale": [
             [
              0,
              "#0d0887"
             ],
             [
              0.1111111111111111,
              "#46039f"
             ],
             [
              0.2222222222222222,
              "#7201a8"
             ],
             [
              0.3333333333333333,
              "#9c179e"
             ],
             [
              0.4444444444444444,
              "#bd3786"
             ],
             [
              0.5555555555555556,
              "#d8576b"
             ],
             [
              0.6666666666666666,
              "#ed7953"
             ],
             [
              0.7777777777777778,
              "#fb9f3a"
             ],
             [
              0.8888888888888888,
              "#fdca26"
             ],
             [
              1,
              "#f0f921"
             ]
            ],
            "type": "histogram2d"
           }
          ],
          "histogram2dcontour": [
           {
            "colorbar": {
             "outlinewidth": 0,
             "ticks": ""
            },
            "colorscale": [
             [
              0,
              "#0d0887"
             ],
             [
              0.1111111111111111,
              "#46039f"
             ],
             [
              0.2222222222222222,
              "#7201a8"
             ],
             [
              0.3333333333333333,
              "#9c179e"
             ],
             [
              0.4444444444444444,
              "#bd3786"
             ],
             [
              0.5555555555555556,
              "#d8576b"
             ],
             [
              0.6666666666666666,
              "#ed7953"
             ],
             [
              0.7777777777777778,
              "#fb9f3a"
             ],
             [
              0.8888888888888888,
              "#fdca26"
             ],
             [
              1,
              "#f0f921"
             ]
            ],
            "type": "histogram2dcontour"
           }
          ],
          "mesh3d": [
           {
            "colorbar": {
             "outlinewidth": 0,
             "ticks": ""
            },
            "type": "mesh3d"
           }
          ],
          "parcoords": [
           {
            "line": {
             "colorbar": {
              "outlinewidth": 0,
              "ticks": ""
             }
            },
            "type": "parcoords"
           }
          ],
          "pie": [
           {
            "automargin": true,
            "type": "pie"
           }
          ],
          "scatter": [
           {
            "fillpattern": {
             "fillmode": "overlay",
             "size": 10,
             "solidity": 0.2
            },
            "type": "scatter"
           }
          ],
          "scatter3d": [
           {
            "line": {
             "colorbar": {
              "outlinewidth": 0,
              "ticks": ""
             }
            },
            "marker": {
             "colorbar": {
              "outlinewidth": 0,
              "ticks": ""
             }
            },
            "type": "scatter3d"
           }
          ],
          "scattercarpet": [
           {
            "marker": {
             "colorbar": {
              "outlinewidth": 0,
              "ticks": ""
             }
            },
            "type": "scattercarpet"
           }
          ],
          "scattergeo": [
           {
            "marker": {
             "colorbar": {
              "outlinewidth": 0,
              "ticks": ""
             }
            },
            "type": "scattergeo"
           }
          ],
          "scattergl": [
           {
            "marker": {
             "colorbar": {
              "outlinewidth": 0,
              "ticks": ""
             }
            },
            "type": "scattergl"
           }
          ],
          "scattermap": [
           {
            "marker": {
             "colorbar": {
              "outlinewidth": 0,
              "ticks": ""
             }
            },
            "type": "scattermap"
           }
          ],
          "scattermapbox": [
           {
            "marker": {
             "colorbar": {
              "outlinewidth": 0,
              "ticks": ""
             }
            },
            "type": "scattermapbox"
           }
          ],
          "scatterpolar": [
           {
            "marker": {
             "colorbar": {
              "outlinewidth": 0,
              "ticks": ""
             }
            },
            "type": "scatterpolar"
           }
          ],
          "scatterpolargl": [
           {
            "marker": {
             "colorbar": {
              "outlinewidth": 0,
              "ticks": ""
             }
            },
            "type": "scatterpolargl"
           }
          ],
          "scatterternary": [
           {
            "marker": {
             "colorbar": {
              "outlinewidth": 0,
              "ticks": ""
             }
            },
            "type": "scatterternary"
           }
          ],
          "surface": [
           {
            "colorbar": {
             "outlinewidth": 0,
             "ticks": ""
            },
            "colorscale": [
             [
              0,
              "#0d0887"
             ],
             [
              0.1111111111111111,
              "#46039f"
             ],
             [
              0.2222222222222222,
              "#7201a8"
             ],
             [
              0.3333333333333333,
              "#9c179e"
             ],
             [
              0.4444444444444444,
              "#bd3786"
             ],
             [
              0.5555555555555556,
              "#d8576b"
             ],
             [
              0.6666666666666666,
              "#ed7953"
             ],
             [
              0.7777777777777778,
              "#fb9f3a"
             ],
             [
              0.8888888888888888,
              "#fdca26"
             ],
             [
              1,
              "#f0f921"
             ]
            ],
            "type": "surface"
           }
          ],
          "table": [
           {
            "cells": {
             "fill": {
              "color": "#EBF0F8"
             },
             "line": {
              "color": "white"
             }
            },
            "header": {
             "fill": {
              "color": "#C8D4E3"
             },
             "line": {
              "color": "white"
             }
            },
            "type": "table"
           }
          ]
         },
         "layout": {
          "annotationdefaults": {
           "arrowcolor": "#2a3f5f",
           "arrowhead": 0,
           "arrowwidth": 1
          },
          "autotypenumbers": "strict",
          "coloraxis": {
           "colorbar": {
            "outlinewidth": 0,
            "ticks": ""
           }
          },
          "colorscale": {
           "diverging": [
            [
             0,
             "#8e0152"
            ],
            [
             0.1,
             "#c51b7d"
            ],
            [
             0.2,
             "#de77ae"
            ],
            [
             0.3,
             "#f1b6da"
            ],
            [
             0.4,
             "#fde0ef"
            ],
            [
             0.5,
             "#f7f7f7"
            ],
            [
             0.6,
             "#e6f5d0"
            ],
            [
             0.7,
             "#b8e186"
            ],
            [
             0.8,
             "#7fbc41"
            ],
            [
             0.9,
             "#4d9221"
            ],
            [
             1,
             "#276419"
            ]
           ],
           "sequential": [
            [
             0,
             "#0d0887"
            ],
            [
             0.1111111111111111,
             "#46039f"
            ],
            [
             0.2222222222222222,
             "#7201a8"
            ],
            [
             0.3333333333333333,
             "#9c179e"
            ],
            [
             0.4444444444444444,
             "#bd3786"
            ],
            [
             0.5555555555555556,
             "#d8576b"
            ],
            [
             0.6666666666666666,
             "#ed7953"
            ],
            [
             0.7777777777777778,
             "#fb9f3a"
            ],
            [
             0.8888888888888888,
             "#fdca26"
            ],
            [
             1,
             "#f0f921"
            ]
           ],
           "sequentialminus": [
            [
             0,
             "#0d0887"
            ],
            [
             0.1111111111111111,
             "#46039f"
            ],
            [
             0.2222222222222222,
             "#7201a8"
            ],
            [
             0.3333333333333333,
             "#9c179e"
            ],
            [
             0.4444444444444444,
             "#bd3786"
            ],
            [
             0.5555555555555556,
             "#d8576b"
            ],
            [
             0.6666666666666666,
             "#ed7953"
            ],
            [
             0.7777777777777778,
             "#fb9f3a"
            ],
            [
             0.8888888888888888,
             "#fdca26"
            ],
            [
             1,
             "#f0f921"
            ]
           ]
          },
          "colorway": [
           "#636efa",
           "#EF553B",
           "#00cc96",
           "#ab63fa",
           "#FFA15A",
           "#19d3f3",
           "#FF6692",
           "#B6E880",
           "#FF97FF",
           "#FECB52"
          ],
          "font": {
           "color": "#2a3f5f"
          },
          "geo": {
           "bgcolor": "white",
           "lakecolor": "white",
           "landcolor": "#E5ECF6",
           "showlakes": true,
           "showland": true,
           "subunitcolor": "white"
          },
          "hoverlabel": {
           "align": "left"
          },
          "hovermode": "closest",
          "mapbox": {
           "style": "light"
          },
          "paper_bgcolor": "white",
          "plot_bgcolor": "#E5ECF6",
          "polar": {
           "angularaxis": {
            "gridcolor": "white",
            "linecolor": "white",
            "ticks": ""
           },
           "bgcolor": "#E5ECF6",
           "radialaxis": {
            "gridcolor": "white",
            "linecolor": "white",
            "ticks": ""
           }
          },
          "scene": {
           "xaxis": {
            "backgroundcolor": "#E5ECF6",
            "gridcolor": "white",
            "gridwidth": 2,
            "linecolor": "white",
            "showbackground": true,
            "ticks": "",
            "zerolinecolor": "white"
           },
           "yaxis": {
            "backgroundcolor": "#E5ECF6",
            "gridcolor": "white",
            "gridwidth": 2,
            "linecolor": "white",
            "showbackground": true,
            "ticks": "",
            "zerolinecolor": "white"
           },
           "zaxis": {
            "backgroundcolor": "#E5ECF6",
            "gridcolor": "white",
            "gridwidth": 2,
            "linecolor": "white",
            "showbackground": true,
            "ticks": "",
            "zerolinecolor": "white"
           }
          },
          "shapedefaults": {
           "line": {
            "color": "#2a3f5f"
           }
          },
          "ternary": {
           "aaxis": {
            "gridcolor": "white",
            "linecolor": "white",
            "ticks": ""
           },
           "baxis": {
            "gridcolor": "white",
            "linecolor": "white",
            "ticks": ""
           },
           "bgcolor": "#E5ECF6",
           "caxis": {
            "gridcolor": "white",
            "linecolor": "white",
            "ticks": ""
           }
          },
          "title": {
           "x": 0.05
          },
          "xaxis": {
           "automargin": true,
           "gridcolor": "white",
           "linecolor": "white",
           "ticks": "",
           "title": {
            "standoff": 15
           },
           "zerolinecolor": "white",
           "zerolinewidth": 2
          },
          "yaxis": {
           "automargin": true,
           "gridcolor": "white",
           "linecolor": "white",
           "ticks": "",
           "title": {
            "standoff": 15
           },
           "zerolinecolor": "white",
           "zerolinewidth": 2
          }
         }
        },
        "title": {
         "text": "<b>Hierarchical Breakdown of \"AI Performance & Quality\" Complaints</b>",
         "x": 0.5
        }
       }
      }
     },
     "metadata": {},
     "output_type": "display_data"
    }
   ],
   "source": [
    "# --- Breakdown 1: AI Performance & Quality ---\n",
    "# Using a blue color palette to represent intelligence/technology\n",
    "create_themed_sunburst(\n",
    "    theme_name=\"AI Performance & Quality\", color_sequence=px.colors.sequential.Blues_r\n",
    ")"
   ]
  },
  {
   "cell_type": "code",
   "execution_count": 26,
   "metadata": {
    "execution": {
     "iopub.execute_input": "2025-07-22T08:37:36.665477Z",
     "iopub.status.busy": "2025-07-22T08:37:36.665240Z",
     "iopub.status.idle": "2025-07-22T08:37:36.723189Z",
     "shell.execute_reply": "2025-07-22T08:37:36.722448Z",
     "shell.execute_reply.started": "2025-07-22T08:37:36.665460Z"
    },
    "trusted": true
   },
   "outputs": [
    {
     "data": {
      "application/vnd.plotly.v1+json": {
       "config": {
        "plotlyServerURL": "https://plot.ly"
       },
       "data": [
        {
         "branchvalues": "total",
         "customdata": [
          [
           "(?)"
          ],
          [
           "Chat Monetization"
          ],
          [
           "Data Mining & Money Scams"
          ],
          [
           "False Advertising"
          ],
          [
           "Free Trial Issues"
          ],
          [
           "In-App Gamification & Payments"
          ],
          [
           "Inability to Use Core Features (Paywall)"
          ],
          [
           "Paying for Pictures/Photos"
          ],
          [
           "Paywalled Features"
          ],
          [
           "Price is Too Expensive"
          ],
          [
           "Pricing & Lack of Monthly Options"
          ],
          [
           "Pro Version vs. Free Version"
          ],
          [
           "Refunds & Google Play Billing"
          ],
          [
           "Refunds for Paid Subscriptions"
          ],
          [
           "Requesting Money Back"
          ],
          [
           "Subscription Complaints"
          ],
          [
           "Subscription Language & Options"
          ],
          [
           "Subscription Models (Pay/Monthly/Yearly)"
          ],
          [
           "Update/Subscription Combo"
          ]
         ],
         "domain": {
          "x": [
           0,
           1
          ],
          "y": [
           0,
           1
          ]
         },
         "hovertemplate": "labels=%{label}<br>count=%{value}<br>parent=%{parent}<br>id=%{id}<br>topic_name=%{customdata[0]}<extra></extra>",
         "ids": [
          "Monetization & Value",
          "Monetization & Value/Chat Monetization",
          "Monetization & Value/Data Mining & Money Scams",
          "Monetization & Value/False Advertising",
          "Monetization & Value/Free Trial Issues",
          "Monetization & Value/In-App Gamification & Payments",
          "Monetization & Value/Inability to Use Core Features (Paywall)",
          "Monetization & Value/Paying for Pictures/Photos",
          "Monetization & Value/Paywalled Features",
          "Monetization & Value/Price is Too Expensive",
          "Monetization & Value/Pricing & Lack of Monthly Options",
          "Monetization & Value/Pro Version vs. Free Version",
          "Monetization & Value/Refunds & Google Play Billing",
          "Monetization & Value/Refunds for Paid Subscriptions",
          "Monetization & Value/Requesting Money Back",
          "Monetization & Value/Subscription Complaints",
          "Monetization & Value/Subscription Language & Options",
          "Monetization & Value/Subscription Models (Pay/Monthly/Yearly)",
          "Monetization & Value/Update/Subscription Combo"
         ],
         "labels": [
          "Monetization & Value",
          "Chat Monetization",
          "Data Mining & Money Scams",
          "False Advertising",
          "Free Trial Issues",
          "In-App Gamification & Payments",
          "Inability to Use Core Features (Paywall)",
          "Paying for Pictures/Photos",
          "Paywalled Features",
          "Price is Too Expensive",
          "Pricing & Lack of Monthly Options",
          "Pro Version vs. Free Version",
          "Refunds & Google Play Billing",
          "Refunds for Paid Subscriptions",
          "Requesting Money Back",
          "Subscription Complaints",
          "Subscription Language & Options",
          "Subscription Models (Pay/Monthly/Yearly)",
          "Update/Subscription Combo"
         ],
         "marker": {
          "colors": [
           "rgb(103,0,13)",
           "rgb(165,15,21)",
           "rgb(203,24,29)",
           "rgb(239,59,44)",
           "rgb(251,106,74)",
           "rgb(252,146,114)",
           "rgb(252,187,161)",
           "rgb(254,224,210)",
           "rgb(255,245,240)",
           "rgb(103,0,13)",
           "rgb(165,15,21)",
           "rgb(203,24,29)",
           "rgb(239,59,44)",
           "rgb(251,106,74)",
           "rgb(252,146,114)",
           "rgb(252,187,161)",
           "rgb(254,224,210)",
           "rgb(255,245,240)",
           "rgb(103,0,13)"
          ]
         },
         "name": "",
         "parents": [
          "",
          "Monetization & Value",
          "Monetization & Value",
          "Monetization & Value",
          "Monetization & Value",
          "Monetization & Value",
          "Monetization & Value",
          "Monetization & Value",
          "Monetization & Value",
          "Monetization & Value",
          "Monetization & Value",
          "Monetization & Value",
          "Monetization & Value",
          "Monetization & Value",
          "Monetization & Value",
          "Monetization & Value",
          "Monetization & Value",
          "Monetization & Value",
          "Monetization & Value"
         ],
         "type": "sunburst",
         "values": {
          "bdata": "AAAAAIAPx0AAAAAAAIBgQAAAAAAAAElAAAAAAADAXEAAAAAAAEBYQAAAAAAAEHlAAAAAAADAYUAAAAAAAIBHQAAAAAAAQF9AAAAAAACAZEAAAAAAAKBvQAAAAAAAAF1AAAAAAACgb0AAAAAAAMBkQAAAAAAAgFJAAAAAAABgaUAAAAAAADCMQAAAAACAn8BAAAAAAAAATEA=",
          "dtype": "f8"
         }
        }
       ],
       "layout": {
        "font": {
         "size": 14
        },
        "legend": {
         "tracegroupgap": 0
        },
        "margin": {
         "b": 25,
         "l": 25,
         "r": 25,
         "t": 50
        },
        "sunburstcolorway": [
         "rgb(103,0,13)",
         "rgb(165,15,21)",
         "rgb(203,24,29)",
         "rgb(239,59,44)",
         "rgb(251,106,74)",
         "rgb(252,146,114)",
         "rgb(252,187,161)",
         "rgb(254,224,210)",
         "rgb(255,245,240)"
        ],
        "template": {
         "data": {
          "bar": [
           {
            "error_x": {
             "color": "#2a3f5f"
            },
            "error_y": {
             "color": "#2a3f5f"
            },
            "marker": {
             "line": {
              "color": "#E5ECF6",
              "width": 0.5
             },
             "pattern": {
              "fillmode": "overlay",
              "size": 10,
              "solidity": 0.2
             }
            },
            "type": "bar"
           }
          ],
          "barpolar": [
           {
            "marker": {
             "line": {
              "color": "#E5ECF6",
              "width": 0.5
             },
             "pattern": {
              "fillmode": "overlay",
              "size": 10,
              "solidity": 0.2
             }
            },
            "type": "barpolar"
           }
          ],
          "carpet": [
           {
            "aaxis": {
             "endlinecolor": "#2a3f5f",
             "gridcolor": "white",
             "linecolor": "white",
             "minorgridcolor": "white",
             "startlinecolor": "#2a3f5f"
            },
            "baxis": {
             "endlinecolor": "#2a3f5f",
             "gridcolor": "white",
             "linecolor": "white",
             "minorgridcolor": "white",
             "startlinecolor": "#2a3f5f"
            },
            "type": "carpet"
           }
          ],
          "choropleth": [
           {
            "colorbar": {
             "outlinewidth": 0,
             "ticks": ""
            },
            "type": "choropleth"
           }
          ],
          "contour": [
           {
            "colorbar": {
             "outlinewidth": 0,
             "ticks": ""
            },
            "colorscale": [
             [
              0,
              "#0d0887"
             ],
             [
              0.1111111111111111,
              "#46039f"
             ],
             [
              0.2222222222222222,
              "#7201a8"
             ],
             [
              0.3333333333333333,
              "#9c179e"
             ],
             [
              0.4444444444444444,
              "#bd3786"
             ],
             [
              0.5555555555555556,
              "#d8576b"
             ],
             [
              0.6666666666666666,
              "#ed7953"
             ],
             [
              0.7777777777777778,
              "#fb9f3a"
             ],
             [
              0.8888888888888888,
              "#fdca26"
             ],
             [
              1,
              "#f0f921"
             ]
            ],
            "type": "contour"
           }
          ],
          "contourcarpet": [
           {
            "colorbar": {
             "outlinewidth": 0,
             "ticks": ""
            },
            "type": "contourcarpet"
           }
          ],
          "heatmap": [
           {
            "colorbar": {
             "outlinewidth": 0,
             "ticks": ""
            },
            "colorscale": [
             [
              0,
              "#0d0887"
             ],
             [
              0.1111111111111111,
              "#46039f"
             ],
             [
              0.2222222222222222,
              "#7201a8"
             ],
             [
              0.3333333333333333,
              "#9c179e"
             ],
             [
              0.4444444444444444,
              "#bd3786"
             ],
             [
              0.5555555555555556,
              "#d8576b"
             ],
             [
              0.6666666666666666,
              "#ed7953"
             ],
             [
              0.7777777777777778,
              "#fb9f3a"
             ],
             [
              0.8888888888888888,
              "#fdca26"
             ],
             [
              1,
              "#f0f921"
             ]
            ],
            "type": "heatmap"
           }
          ],
          "histogram": [
           {
            "marker": {
             "pattern": {
              "fillmode": "overlay",
              "size": 10,
              "solidity": 0.2
             }
            },
            "type": "histogram"
           }
          ],
          "histogram2d": [
           {
            "colorbar": {
             "outlinewidth": 0,
             "ticks": ""
            },
            "colorscale": [
             [
              0,
              "#0d0887"
             ],
             [
              0.1111111111111111,
              "#46039f"
             ],
             [
              0.2222222222222222,
              "#7201a8"
             ],
             [
              0.3333333333333333,
              "#9c179e"
             ],
             [
              0.4444444444444444,
              "#bd3786"
             ],
             [
              0.5555555555555556,
              "#d8576b"
             ],
             [
              0.6666666666666666,
              "#ed7953"
             ],
             [
              0.7777777777777778,
              "#fb9f3a"
             ],
             [
              0.8888888888888888,
              "#fdca26"
             ],
             [
              1,
              "#f0f921"
             ]
            ],
            "type": "histogram2d"
           }
          ],
          "histogram2dcontour": [
           {
            "colorbar": {
             "outlinewidth": 0,
             "ticks": ""
            },
            "colorscale": [
             [
              0,
              "#0d0887"
             ],
             [
              0.1111111111111111,
              "#46039f"
             ],
             [
              0.2222222222222222,
              "#7201a8"
             ],
             [
              0.3333333333333333,
              "#9c179e"
             ],
             [
              0.4444444444444444,
              "#bd3786"
             ],
             [
              0.5555555555555556,
              "#d8576b"
             ],
             [
              0.6666666666666666,
              "#ed7953"
             ],
             [
              0.7777777777777778,
              "#fb9f3a"
             ],
             [
              0.8888888888888888,
              "#fdca26"
             ],
             [
              1,
              "#f0f921"
             ]
            ],
            "type": "histogram2dcontour"
           }
          ],
          "mesh3d": [
           {
            "colorbar": {
             "outlinewidth": 0,
             "ticks": ""
            },
            "type": "mesh3d"
           }
          ],
          "parcoords": [
           {
            "line": {
             "colorbar": {
              "outlinewidth": 0,
              "ticks": ""
             }
            },
            "type": "parcoords"
           }
          ],
          "pie": [
           {
            "automargin": true,
            "type": "pie"
           }
          ],
          "scatter": [
           {
            "fillpattern": {
             "fillmode": "overlay",
             "size": 10,
             "solidity": 0.2
            },
            "type": "scatter"
           }
          ],
          "scatter3d": [
           {
            "line": {
             "colorbar": {
              "outlinewidth": 0,
              "ticks": ""
             }
            },
            "marker": {
             "colorbar": {
              "outlinewidth": 0,
              "ticks": ""
             }
            },
            "type": "scatter3d"
           }
          ],
          "scattercarpet": [
           {
            "marker": {
             "colorbar": {
              "outlinewidth": 0,
              "ticks": ""
             }
            },
            "type": "scattercarpet"
           }
          ],
          "scattergeo": [
           {
            "marker": {
             "colorbar": {
              "outlinewidth": 0,
              "ticks": ""
             }
            },
            "type": "scattergeo"
           }
          ],
          "scattergl": [
           {
            "marker": {
             "colorbar": {
              "outlinewidth": 0,
              "ticks": ""
             }
            },
            "type": "scattergl"
           }
          ],
          "scattermap": [
           {
            "marker": {
             "colorbar": {
              "outlinewidth": 0,
              "ticks": ""
             }
            },
            "type": "scattermap"
           }
          ],
          "scattermapbox": [
           {
            "marker": {
             "colorbar": {
              "outlinewidth": 0,
              "ticks": ""
             }
            },
            "type": "scattermapbox"
           }
          ],
          "scatterpolar": [
           {
            "marker": {
             "colorbar": {
              "outlinewidth": 0,
              "ticks": ""
             }
            },
            "type": "scatterpolar"
           }
          ],
          "scatterpolargl": [
           {
            "marker": {
             "colorbar": {
              "outlinewidth": 0,
              "ticks": ""
             }
            },
            "type": "scatterpolargl"
           }
          ],
          "scatterternary": [
           {
            "marker": {
             "colorbar": {
              "outlinewidth": 0,
              "ticks": ""
             }
            },
            "type": "scatterternary"
           }
          ],
          "surface": [
           {
            "colorbar": {
             "outlinewidth": 0,
             "ticks": ""
            },
            "colorscale": [
             [
              0,
              "#0d0887"
             ],
             [
              0.1111111111111111,
              "#46039f"
             ],
             [
              0.2222222222222222,
              "#7201a8"
             ],
             [
              0.3333333333333333,
              "#9c179e"
             ],
             [
              0.4444444444444444,
              "#bd3786"
             ],
             [
              0.5555555555555556,
              "#d8576b"
             ],
             [
              0.6666666666666666,
              "#ed7953"
             ],
             [
              0.7777777777777778,
              "#fb9f3a"
             ],
             [
              0.8888888888888888,
              "#fdca26"
             ],
             [
              1,
              "#f0f921"
             ]
            ],
            "type": "surface"
           }
          ],
          "table": [
           {
            "cells": {
             "fill": {
              "color": "#EBF0F8"
             },
             "line": {
              "color": "white"
             }
            },
            "header": {
             "fill": {
              "color": "#C8D4E3"
             },
             "line": {
              "color": "white"
             }
            },
            "type": "table"
           }
          ]
         },
         "layout": {
          "annotationdefaults": {
           "arrowcolor": "#2a3f5f",
           "arrowhead": 0,
           "arrowwidth": 1
          },
          "autotypenumbers": "strict",
          "coloraxis": {
           "colorbar": {
            "outlinewidth": 0,
            "ticks": ""
           }
          },
          "colorscale": {
           "diverging": [
            [
             0,
             "#8e0152"
            ],
            [
             0.1,
             "#c51b7d"
            ],
            [
             0.2,
             "#de77ae"
            ],
            [
             0.3,
             "#f1b6da"
            ],
            [
             0.4,
             "#fde0ef"
            ],
            [
             0.5,
             "#f7f7f7"
            ],
            [
             0.6,
             "#e6f5d0"
            ],
            [
             0.7,
             "#b8e186"
            ],
            [
             0.8,
             "#7fbc41"
            ],
            [
             0.9,
             "#4d9221"
            ],
            [
             1,
             "#276419"
            ]
           ],
           "sequential": [
            [
             0,
             "#0d0887"
            ],
            [
             0.1111111111111111,
             "#46039f"
            ],
            [
             0.2222222222222222,
             "#7201a8"
            ],
            [
             0.3333333333333333,
             "#9c179e"
            ],
            [
             0.4444444444444444,
             "#bd3786"
            ],
            [
             0.5555555555555556,
             "#d8576b"
            ],
            [
             0.6666666666666666,
             "#ed7953"
            ],
            [
             0.7777777777777778,
             "#fb9f3a"
            ],
            [
             0.8888888888888888,
             "#fdca26"
            ],
            [
             1,
             "#f0f921"
            ]
           ],
           "sequentialminus": [
            [
             0,
             "#0d0887"
            ],
            [
             0.1111111111111111,
             "#46039f"
            ],
            [
             0.2222222222222222,
             "#7201a8"
            ],
            [
             0.3333333333333333,
             "#9c179e"
            ],
            [
             0.4444444444444444,
             "#bd3786"
            ],
            [
             0.5555555555555556,
             "#d8576b"
            ],
            [
             0.6666666666666666,
             "#ed7953"
            ],
            [
             0.7777777777777778,
             "#fb9f3a"
            ],
            [
             0.8888888888888888,
             "#fdca26"
            ],
            [
             1,
             "#f0f921"
            ]
           ]
          },
          "colorway": [
           "#636efa",
           "#EF553B",
           "#00cc96",
           "#ab63fa",
           "#FFA15A",
           "#19d3f3",
           "#FF6692",
           "#B6E880",
           "#FF97FF",
           "#FECB52"
          ],
          "font": {
           "color": "#2a3f5f"
          },
          "geo": {
           "bgcolor": "white",
           "lakecolor": "white",
           "landcolor": "#E5ECF6",
           "showlakes": true,
           "showland": true,
           "subunitcolor": "white"
          },
          "hoverlabel": {
           "align": "left"
          },
          "hovermode": "closest",
          "mapbox": {
           "style": "light"
          },
          "paper_bgcolor": "white",
          "plot_bgcolor": "#E5ECF6",
          "polar": {
           "angularaxis": {
            "gridcolor": "white",
            "linecolor": "white",
            "ticks": ""
           },
           "bgcolor": "#E5ECF6",
           "radialaxis": {
            "gridcolor": "white",
            "linecolor": "white",
            "ticks": ""
           }
          },
          "scene": {
           "xaxis": {
            "backgroundcolor": "#E5ECF6",
            "gridcolor": "white",
            "gridwidth": 2,
            "linecolor": "white",
            "showbackground": true,
            "ticks": "",
            "zerolinecolor": "white"
           },
           "yaxis": {
            "backgroundcolor": "#E5ECF6",
            "gridcolor": "white",
            "gridwidth": 2,
            "linecolor": "white",
            "showbackground": true,
            "ticks": "",
            "zerolinecolor": "white"
           },
           "zaxis": {
            "backgroundcolor": "#E5ECF6",
            "gridcolor": "white",
            "gridwidth": 2,
            "linecolor": "white",
            "showbackground": true,
            "ticks": "",
            "zerolinecolor": "white"
           }
          },
          "shapedefaults": {
           "line": {
            "color": "#2a3f5f"
           }
          },
          "ternary": {
           "aaxis": {
            "gridcolor": "white",
            "linecolor": "white",
            "ticks": ""
           },
           "baxis": {
            "gridcolor": "white",
            "linecolor": "white",
            "ticks": ""
           },
           "bgcolor": "#E5ECF6",
           "caxis": {
            "gridcolor": "white",
            "linecolor": "white",
            "ticks": ""
           }
          },
          "title": {
           "x": 0.05
          },
          "xaxis": {
           "automargin": true,
           "gridcolor": "white",
           "linecolor": "white",
           "ticks": "",
           "title": {
            "standoff": 15
           },
           "zerolinecolor": "white",
           "zerolinewidth": 2
          },
          "yaxis": {
           "automargin": true,
           "gridcolor": "white",
           "linecolor": "white",
           "ticks": "",
           "title": {
            "standoff": 15
           },
           "zerolinecolor": "white",
           "zerolinewidth": 2
          }
         }
        },
        "title": {
         "text": "<b>Hierarchical Breakdown of \"Monetization & Value\" Complaints</b>",
         "x": 0.5
        }
       }
      }
     },
     "metadata": {},
     "output_type": "display_data"
    }
   ],
   "source": [
    "# --- Breakdown 2: Monetization & Value ---\n",
    "create_themed_sunburst(\n",
    "    theme_name=\"Monetization & Value\", color_sequence=px.colors.sequential.Reds_r\n",
    ")"
   ]
  },
  {
   "cell_type": "code",
   "execution_count": 27,
   "metadata": {
    "execution": {
     "iopub.execute_input": "2025-07-22T08:37:39.377104Z",
     "iopub.status.busy": "2025-07-22T08:37:39.376359Z",
     "iopub.status.idle": "2025-07-22T08:37:39.434130Z",
     "shell.execute_reply": "2025-07-22T08:37:39.433403Z",
     "shell.execute_reply.started": "2025-07-22T08:37:39.377071Z"
    },
    "trusted": true
   },
   "outputs": [
    {
     "data": {
      "application/vnd.plotly.v1+json": {
       "config": {
        "plotlyServerURL": "https://plot.ly"
       },
       "data": [
        {
         "branchvalues": "total",
         "customdata": [
          [
           "(?)"
          ],
          [
           "Account, Login & Password Issues"
          ],
          [
           "Bugs Introduced by Updates"
          ],
          [
           "Technical: App Crashing / Not Opening"
          ],
          [
           "Technical: Customization Screen Bugs"
          ],
          [
           "Technical: Internet Connection Issues"
          ],
          [
           "Technical: Loading & Installation"
          ],
          [
           "Update Issues"
          ]
         ],
         "domain": {
          "x": [
           0,
           1
          ],
          "y": [
           0,
           1
          ]
         },
         "hovertemplate": "labels=%{label}<br>count=%{value}<br>parent=%{parent}<br>id=%{id}<br>topic_name=%{customdata[0]}<extra></extra>",
         "ids": [
          "Technical Performance",
          "Technical Performance/Account, Login & Password Issues",
          "Technical Performance/Bugs Introduced by Updates",
          "Technical Performance/Technical: App Crashing / Not Opening",
          "Technical Performance/Technical: Customization Screen Bugs",
          "Technical Performance/Technical: Internet Connection Issues",
          "Technical Performance/Technical: Loading & Installation",
          "Technical Performance/Update Issues"
         ],
         "labels": [
          "Technical Performance",
          "Account, Login & Password Issues",
          "Bugs Introduced by Updates",
          "Technical: App Crashing / Not Opening",
          "Technical: Customization Screen Bugs",
          "Technical: Internet Connection Issues",
          "Technical: Loading & Installation",
          "Update Issues"
         ],
         "marker": {
          "colors": [
           "rgb(0,68,27)",
           "rgb(0,109,44)",
           "rgb(35,139,69)",
           "rgb(65,171,93)",
           "rgb(116,196,118)",
           "rgb(161,217,155)",
           "rgb(199,233,192)",
           "rgb(229,245,224)"
          ]
         },
         "name": "",
         "parents": [
          "",
          "Technical Performance",
          "Technical Performance",
          "Technical Performance",
          "Technical Performance",
          "Technical Performance",
          "Technical Performance",
          "Technical Performance"
         ],
         "type": "sunburst",
         "values": {
          "bdata": "AAAAAACwk0AAAAAAAMBwQAAAAAAAoGhAAAAAAAAQeUAAAAAAAEBYQAAAAAAAQF1AAAAAAAAAXkAAAAAAAABOQA==",
          "dtype": "f8"
         }
        }
       ],
       "layout": {
        "font": {
         "size": 14
        },
        "legend": {
         "tracegroupgap": 0
        },
        "margin": {
         "b": 25,
         "l": 25,
         "r": 25,
         "t": 50
        },
        "sunburstcolorway": [
         "rgb(0,68,27)",
         "rgb(0,109,44)",
         "rgb(35,139,69)",
         "rgb(65,171,93)",
         "rgb(116,196,118)",
         "rgb(161,217,155)",
         "rgb(199,233,192)",
         "rgb(229,245,224)",
         "rgb(247,252,245)"
        ],
        "template": {
         "data": {
          "bar": [
           {
            "error_x": {
             "color": "#2a3f5f"
            },
            "error_y": {
             "color": "#2a3f5f"
            },
            "marker": {
             "line": {
              "color": "#E5ECF6",
              "width": 0.5
             },
             "pattern": {
              "fillmode": "overlay",
              "size": 10,
              "solidity": 0.2
             }
            },
            "type": "bar"
           }
          ],
          "barpolar": [
           {
            "marker": {
             "line": {
              "color": "#E5ECF6",
              "width": 0.5
             },
             "pattern": {
              "fillmode": "overlay",
              "size": 10,
              "solidity": 0.2
             }
            },
            "type": "barpolar"
           }
          ],
          "carpet": [
           {
            "aaxis": {
             "endlinecolor": "#2a3f5f",
             "gridcolor": "white",
             "linecolor": "white",
             "minorgridcolor": "white",
             "startlinecolor": "#2a3f5f"
            },
            "baxis": {
             "endlinecolor": "#2a3f5f",
             "gridcolor": "white",
             "linecolor": "white",
             "minorgridcolor": "white",
             "startlinecolor": "#2a3f5f"
            },
            "type": "carpet"
           }
          ],
          "choropleth": [
           {
            "colorbar": {
             "outlinewidth": 0,
             "ticks": ""
            },
            "type": "choropleth"
           }
          ],
          "contour": [
           {
            "colorbar": {
             "outlinewidth": 0,
             "ticks": ""
            },
            "colorscale": [
             [
              0,
              "#0d0887"
             ],
             [
              0.1111111111111111,
              "#46039f"
             ],
             [
              0.2222222222222222,
              "#7201a8"
             ],
             [
              0.3333333333333333,
              "#9c179e"
             ],
             [
              0.4444444444444444,
              "#bd3786"
             ],
             [
              0.5555555555555556,
              "#d8576b"
             ],
             [
              0.6666666666666666,
              "#ed7953"
             ],
             [
              0.7777777777777778,
              "#fb9f3a"
             ],
             [
              0.8888888888888888,
              "#fdca26"
             ],
             [
              1,
              "#f0f921"
             ]
            ],
            "type": "contour"
           }
          ],
          "contourcarpet": [
           {
            "colorbar": {
             "outlinewidth": 0,
             "ticks": ""
            },
            "type": "contourcarpet"
           }
          ],
          "heatmap": [
           {
            "colorbar": {
             "outlinewidth": 0,
             "ticks": ""
            },
            "colorscale": [
             [
              0,
              "#0d0887"
             ],
             [
              0.1111111111111111,
              "#46039f"
             ],
             [
              0.2222222222222222,
              "#7201a8"
             ],
             [
              0.3333333333333333,
              "#9c179e"
             ],
             [
              0.4444444444444444,
              "#bd3786"
             ],
             [
              0.5555555555555556,
              "#d8576b"
             ],
             [
              0.6666666666666666,
              "#ed7953"
             ],
             [
              0.7777777777777778,
              "#fb9f3a"
             ],
             [
              0.8888888888888888,
              "#fdca26"
             ],
             [
              1,
              "#f0f921"
             ]
            ],
            "type": "heatmap"
           }
          ],
          "histogram": [
           {
            "marker": {
             "pattern": {
              "fillmode": "overlay",
              "size": 10,
              "solidity": 0.2
             }
            },
            "type": "histogram"
           }
          ],
          "histogram2d": [
           {
            "colorbar": {
             "outlinewidth": 0,
             "ticks": ""
            },
            "colorscale": [
             [
              0,
              "#0d0887"
             ],
             [
              0.1111111111111111,
              "#46039f"
             ],
             [
              0.2222222222222222,
              "#7201a8"
             ],
             [
              0.3333333333333333,
              "#9c179e"
             ],
             [
              0.4444444444444444,
              "#bd3786"
             ],
             [
              0.5555555555555556,
              "#d8576b"
             ],
             [
              0.6666666666666666,
              "#ed7953"
             ],
             [
              0.7777777777777778,
              "#fb9f3a"
             ],
             [
              0.8888888888888888,
              "#fdca26"
             ],
             [
              1,
              "#f0f921"
             ]
            ],
            "type": "histogram2d"
           }
          ],
          "histogram2dcontour": [
           {
            "colorbar": {
             "outlinewidth": 0,
             "ticks": ""
            },
            "colorscale": [
             [
              0,
              "#0d0887"
             ],
             [
              0.1111111111111111,
              "#46039f"
             ],
             [
              0.2222222222222222,
              "#7201a8"
             ],
             [
              0.3333333333333333,
              "#9c179e"
             ],
             [
              0.4444444444444444,
              "#bd3786"
             ],
             [
              0.5555555555555556,
              "#d8576b"
             ],
             [
              0.6666666666666666,
              "#ed7953"
             ],
             [
              0.7777777777777778,
              "#fb9f3a"
             ],
             [
              0.8888888888888888,
              "#fdca26"
             ],
             [
              1,
              "#f0f921"
             ]
            ],
            "type": "histogram2dcontour"
           }
          ],
          "mesh3d": [
           {
            "colorbar": {
             "outlinewidth": 0,
             "ticks": ""
            },
            "type": "mesh3d"
           }
          ],
          "parcoords": [
           {
            "line": {
             "colorbar": {
              "outlinewidth": 0,
              "ticks": ""
             }
            },
            "type": "parcoords"
           }
          ],
          "pie": [
           {
            "automargin": true,
            "type": "pie"
           }
          ],
          "scatter": [
           {
            "fillpattern": {
             "fillmode": "overlay",
             "size": 10,
             "solidity": 0.2
            },
            "type": "scatter"
           }
          ],
          "scatter3d": [
           {
            "line": {
             "colorbar": {
              "outlinewidth": 0,
              "ticks": ""
             }
            },
            "marker": {
             "colorbar": {
              "outlinewidth": 0,
              "ticks": ""
             }
            },
            "type": "scatter3d"
           }
          ],
          "scattercarpet": [
           {
            "marker": {
             "colorbar": {
              "outlinewidth": 0,
              "ticks": ""
             }
            },
            "type": "scattercarpet"
           }
          ],
          "scattergeo": [
           {
            "marker": {
             "colorbar": {
              "outlinewidth": 0,
              "ticks": ""
             }
            },
            "type": "scattergeo"
           }
          ],
          "scattergl": [
           {
            "marker": {
             "colorbar": {
              "outlinewidth": 0,
              "ticks": ""
             }
            },
            "type": "scattergl"
           }
          ],
          "scattermap": [
           {
            "marker": {
             "colorbar": {
              "outlinewidth": 0,
              "ticks": ""
             }
            },
            "type": "scattermap"
           }
          ],
          "scattermapbox": [
           {
            "marker": {
             "colorbar": {
              "outlinewidth": 0,
              "ticks": ""
             }
            },
            "type": "scattermapbox"
           }
          ],
          "scatterpolar": [
           {
            "marker": {
             "colorbar": {
              "outlinewidth": 0,
              "ticks": ""
             }
            },
            "type": "scatterpolar"
           }
          ],
          "scatterpolargl": [
           {
            "marker": {
             "colorbar": {
              "outlinewidth": 0,
              "ticks": ""
             }
            },
            "type": "scatterpolargl"
           }
          ],
          "scatterternary": [
           {
            "marker": {
             "colorbar": {
              "outlinewidth": 0,
              "ticks": ""
             }
            },
            "type": "scatterternary"
           }
          ],
          "surface": [
           {
            "colorbar": {
             "outlinewidth": 0,
             "ticks": ""
            },
            "colorscale": [
             [
              0,
              "#0d0887"
             ],
             [
              0.1111111111111111,
              "#46039f"
             ],
             [
              0.2222222222222222,
              "#7201a8"
             ],
             [
              0.3333333333333333,
              "#9c179e"
             ],
             [
              0.4444444444444444,
              "#bd3786"
             ],
             [
              0.5555555555555556,
              "#d8576b"
             ],
             [
              0.6666666666666666,
              "#ed7953"
             ],
             [
              0.7777777777777778,
              "#fb9f3a"
             ],
             [
              0.8888888888888888,
              "#fdca26"
             ],
             [
              1,
              "#f0f921"
             ]
            ],
            "type": "surface"
           }
          ],
          "table": [
           {
            "cells": {
             "fill": {
              "color": "#EBF0F8"
             },
             "line": {
              "color": "white"
             }
            },
            "header": {
             "fill": {
              "color": "#C8D4E3"
             },
             "line": {
              "color": "white"
             }
            },
            "type": "table"
           }
          ]
         },
         "layout": {
          "annotationdefaults": {
           "arrowcolor": "#2a3f5f",
           "arrowhead": 0,
           "arrowwidth": 1
          },
          "autotypenumbers": "strict",
          "coloraxis": {
           "colorbar": {
            "outlinewidth": 0,
            "ticks": ""
           }
          },
          "colorscale": {
           "diverging": [
            [
             0,
             "#8e0152"
            ],
            [
             0.1,
             "#c51b7d"
            ],
            [
             0.2,
             "#de77ae"
            ],
            [
             0.3,
             "#f1b6da"
            ],
            [
             0.4,
             "#fde0ef"
            ],
            [
             0.5,
             "#f7f7f7"
            ],
            [
             0.6,
             "#e6f5d0"
            ],
            [
             0.7,
             "#b8e186"
            ],
            [
             0.8,
             "#7fbc41"
            ],
            [
             0.9,
             "#4d9221"
            ],
            [
             1,
             "#276419"
            ]
           ],
           "sequential": [
            [
             0,
             "#0d0887"
            ],
            [
             0.1111111111111111,
             "#46039f"
            ],
            [
             0.2222222222222222,
             "#7201a8"
            ],
            [
             0.3333333333333333,
             "#9c179e"
            ],
            [
             0.4444444444444444,
             "#bd3786"
            ],
            [
             0.5555555555555556,
             "#d8576b"
            ],
            [
             0.6666666666666666,
             "#ed7953"
            ],
            [
             0.7777777777777778,
             "#fb9f3a"
            ],
            [
             0.8888888888888888,
             "#fdca26"
            ],
            [
             1,
             "#f0f921"
            ]
           ],
           "sequentialminus": [
            [
             0,
             "#0d0887"
            ],
            [
             0.1111111111111111,
             "#46039f"
            ],
            [
             0.2222222222222222,
             "#7201a8"
            ],
            [
             0.3333333333333333,
             "#9c179e"
            ],
            [
             0.4444444444444444,
             "#bd3786"
            ],
            [
             0.5555555555555556,
             "#d8576b"
            ],
            [
             0.6666666666666666,
             "#ed7953"
            ],
            [
             0.7777777777777778,
             "#fb9f3a"
            ],
            [
             0.8888888888888888,
             "#fdca26"
            ],
            [
             1,
             "#f0f921"
            ]
           ]
          },
          "colorway": [
           "#636efa",
           "#EF553B",
           "#00cc96",
           "#ab63fa",
           "#FFA15A",
           "#19d3f3",
           "#FF6692",
           "#B6E880",
           "#FF97FF",
           "#FECB52"
          ],
          "font": {
           "color": "#2a3f5f"
          },
          "geo": {
           "bgcolor": "white",
           "lakecolor": "white",
           "landcolor": "#E5ECF6",
           "showlakes": true,
           "showland": true,
           "subunitcolor": "white"
          },
          "hoverlabel": {
           "align": "left"
          },
          "hovermode": "closest",
          "mapbox": {
           "style": "light"
          },
          "paper_bgcolor": "white",
          "plot_bgcolor": "#E5ECF6",
          "polar": {
           "angularaxis": {
            "gridcolor": "white",
            "linecolor": "white",
            "ticks": ""
           },
           "bgcolor": "#E5ECF6",
           "radialaxis": {
            "gridcolor": "white",
            "linecolor": "white",
            "ticks": ""
           }
          },
          "scene": {
           "xaxis": {
            "backgroundcolor": "#E5ECF6",
            "gridcolor": "white",
            "gridwidth": 2,
            "linecolor": "white",
            "showbackground": true,
            "ticks": "",
            "zerolinecolor": "white"
           },
           "yaxis": {
            "backgroundcolor": "#E5ECF6",
            "gridcolor": "white",
            "gridwidth": 2,
            "linecolor": "white",
            "showbackground": true,
            "ticks": "",
            "zerolinecolor": "white"
           },
           "zaxis": {
            "backgroundcolor": "#E5ECF6",
            "gridcolor": "white",
            "gridwidth": 2,
            "linecolor": "white",
            "showbackground": true,
            "ticks": "",
            "zerolinecolor": "white"
           }
          },
          "shapedefaults": {
           "line": {
            "color": "#2a3f5f"
           }
          },
          "ternary": {
           "aaxis": {
            "gridcolor": "white",
            "linecolor": "white",
            "ticks": ""
           },
           "baxis": {
            "gridcolor": "white",
            "linecolor": "white",
            "ticks": ""
           },
           "bgcolor": "#E5ECF6",
           "caxis": {
            "gridcolor": "white",
            "linecolor": "white",
            "ticks": ""
           }
          },
          "title": {
           "x": 0.05
          },
          "xaxis": {
           "automargin": true,
           "gridcolor": "white",
           "linecolor": "white",
           "ticks": "",
           "title": {
            "standoff": 15
           },
           "zerolinecolor": "white",
           "zerolinewidth": 2
          },
          "yaxis": {
           "automargin": true,
           "gridcolor": "white",
           "linecolor": "white",
           "ticks": "",
           "title": {
            "standoff": 15
           },
           "zerolinecolor": "white",
           "zerolinewidth": 2
          }
         }
        },
        "title": {
         "text": "<b>Hierarchical Breakdown of \"Technical Performance\" Complaints</b>",
         "x": 0.5
        }
       }
      }
     },
     "metadata": {},
     "output_type": "display_data"
    }
   ],
   "source": [
    "# --- Breakdown 3: Technical Performance ---\n",
    "create_themed_sunburst(\n",
    "    theme_name=\"Technical Performance\", color_sequence=px.colors.sequential.Greens_r\n",
    ")"
   ]
  },
  {
   "cell_type": "code",
   "execution_count": 28,
   "metadata": {
    "execution": {
     "iopub.execute_input": "2025-07-22T08:37:41.539877Z",
     "iopub.status.busy": "2025-07-22T08:37:41.539297Z",
     "iopub.status.idle": "2025-07-22T08:37:41.598590Z",
     "shell.execute_reply": "2025-07-22T08:37:41.597875Z",
     "shell.execute_reply.started": "2025-07-22T08:37:41.539855Z"
    },
    "trusted": true
   },
   "outputs": [
    {
     "data": {
      "application/vnd.plotly.v1+json": {
       "config": {
        "plotlyServerURL": "https://plot.ly"
       },
       "data": [
        {
         "branchvalues": "total",
         "customdata": [
          [
           "(?)"
          ],
          [
           "Age Verification (Under 18)"
          ],
          [
           "Avatar & 3D Model Customization"
          ],
          [
           "Company Removing Features"
          ],
          [
           "Language & Translation Issues"
          ],
          [
           "Mental Health & Therapy Framing"
          ],
          [
           "Romantic Relationship Features"
          ],
          [
           "Sending Pictures & Photos"
          ],
          [
           "Sexual Content & Advertising"
          ],
          [
           "Voice Call & Audio Features"
          ]
         ],
         "domain": {
          "x": [
           0,
           1
          ],
          "y": [
           0,
           1
          ]
         },
         "hovertemplate": "labels=%{label}<br>count=%{value}<br>parent=%{parent}<br>id=%{id}<br>topic_name=%{customdata[0]}<extra></extra>",
         "ids": [
          "Feature-Specific Issues",
          "Feature-Specific Issues/Age Verification (Under 18)",
          "Feature-Specific Issues/Avatar & 3D Model Customization",
          "Feature-Specific Issues/Company Removing Features",
          "Feature-Specific Issues/Language & Translation Issues",
          "Feature-Specific Issues/Mental Health & Therapy Framing",
          "Feature-Specific Issues/Romantic Relationship Features",
          "Feature-Specific Issues/Sending Pictures & Photos",
          "Feature-Specific Issues/Sexual Content & Advertising",
          "Feature-Specific Issues/Voice Call & Audio Features"
         ],
         "labels": [
          "Feature-Specific Issues",
          "Age Verification (Under 18)",
          "Avatar & 3D Model Customization",
          "Company Removing Features",
          "Language & Translation Issues",
          "Mental Health & Therapy Framing",
          "Romantic Relationship Features",
          "Sending Pictures & Photos",
          "Sexual Content & Advertising",
          "Voice Call & Audio Features"
         ],
         "marker": {
          "colors": [
           "rgb(127,39,4)",
           "rgb(166,54,3)",
           "rgb(217,72,1)",
           "rgb(241,105,19)",
           "rgb(253,141,60)",
           "rgb(253,174,107)",
           "rgb(253,208,162)",
           "rgb(254,230,206)",
           "rgb(255,245,235)",
           "rgb(127,39,4)"
          ]
         },
         "name": "",
         "parents": [
          "",
          "Feature-Specific Issues",
          "Feature-Specific Issues",
          "Feature-Specific Issues",
          "Feature-Specific Issues",
          "Feature-Specific Issues",
          "Feature-Specific Issues",
          "Feature-Specific Issues",
          "Feature-Specific Issues",
          "Feature-Specific Issues"
         ],
         "type": "sunburst",
         "values": {
          "bdata": "AAAAAAD0nUAAAAAAAABNQAAAAAAA+IBAAAAAAAAAVUAAAAAAAABLQAAAAAAA4IVAAAAAAADAYEAAAAAAAEBRQAAAAAAAIGFAAAAAAABAYUA=",
          "dtype": "f8"
         }
        }
       ],
       "layout": {
        "font": {
         "size": 14
        },
        "legend": {
         "tracegroupgap": 0
        },
        "margin": {
         "b": 25,
         "l": 25,
         "r": 25,
         "t": 50
        },
        "sunburstcolorway": [
         "rgb(127,39,4)",
         "rgb(166,54,3)",
         "rgb(217,72,1)",
         "rgb(241,105,19)",
         "rgb(253,141,60)",
         "rgb(253,174,107)",
         "rgb(253,208,162)",
         "rgb(254,230,206)",
         "rgb(255,245,235)"
        ],
        "template": {
         "data": {
          "bar": [
           {
            "error_x": {
             "color": "#2a3f5f"
            },
            "error_y": {
             "color": "#2a3f5f"
            },
            "marker": {
             "line": {
              "color": "#E5ECF6",
              "width": 0.5
             },
             "pattern": {
              "fillmode": "overlay",
              "size": 10,
              "solidity": 0.2
             }
            },
            "type": "bar"
           }
          ],
          "barpolar": [
           {
            "marker": {
             "line": {
              "color": "#E5ECF6",
              "width": 0.5
             },
             "pattern": {
              "fillmode": "overlay",
              "size": 10,
              "solidity": 0.2
             }
            },
            "type": "barpolar"
           }
          ],
          "carpet": [
           {
            "aaxis": {
             "endlinecolor": "#2a3f5f",
             "gridcolor": "white",
             "linecolor": "white",
             "minorgridcolor": "white",
             "startlinecolor": "#2a3f5f"
            },
            "baxis": {
             "endlinecolor": "#2a3f5f",
             "gridcolor": "white",
             "linecolor": "white",
             "minorgridcolor": "white",
             "startlinecolor": "#2a3f5f"
            },
            "type": "carpet"
           }
          ],
          "choropleth": [
           {
            "colorbar": {
             "outlinewidth": 0,
             "ticks": ""
            },
            "type": "choropleth"
           }
          ],
          "contour": [
           {
            "colorbar": {
             "outlinewidth": 0,
             "ticks": ""
            },
            "colorscale": [
             [
              0,
              "#0d0887"
             ],
             [
              0.1111111111111111,
              "#46039f"
             ],
             [
              0.2222222222222222,
              "#7201a8"
             ],
             [
              0.3333333333333333,
              "#9c179e"
             ],
             [
              0.4444444444444444,
              "#bd3786"
             ],
             [
              0.5555555555555556,
              "#d8576b"
             ],
             [
              0.6666666666666666,
              "#ed7953"
             ],
             [
              0.7777777777777778,
              "#fb9f3a"
             ],
             [
              0.8888888888888888,
              "#fdca26"
             ],
             [
              1,
              "#f0f921"
             ]
            ],
            "type": "contour"
           }
          ],
          "contourcarpet": [
           {
            "colorbar": {
             "outlinewidth": 0,
             "ticks": ""
            },
            "type": "contourcarpet"
           }
          ],
          "heatmap": [
           {
            "colorbar": {
             "outlinewidth": 0,
             "ticks": ""
            },
            "colorscale": [
             [
              0,
              "#0d0887"
             ],
             [
              0.1111111111111111,
              "#46039f"
             ],
             [
              0.2222222222222222,
              "#7201a8"
             ],
             [
              0.3333333333333333,
              "#9c179e"
             ],
             [
              0.4444444444444444,
              "#bd3786"
             ],
             [
              0.5555555555555556,
              "#d8576b"
             ],
             [
              0.6666666666666666,
              "#ed7953"
             ],
             [
              0.7777777777777778,
              "#fb9f3a"
             ],
             [
              0.8888888888888888,
              "#fdca26"
             ],
             [
              1,
              "#f0f921"
             ]
            ],
            "type": "heatmap"
           }
          ],
          "histogram": [
           {
            "marker": {
             "pattern": {
              "fillmode": "overlay",
              "size": 10,
              "solidity": 0.2
             }
            },
            "type": "histogram"
           }
          ],
          "histogram2d": [
           {
            "colorbar": {
             "outlinewidth": 0,
             "ticks": ""
            },
            "colorscale": [
             [
              0,
              "#0d0887"
             ],
             [
              0.1111111111111111,
              "#46039f"
             ],
             [
              0.2222222222222222,
              "#7201a8"
             ],
             [
              0.3333333333333333,
              "#9c179e"
             ],
             [
              0.4444444444444444,
              "#bd3786"
             ],
             [
              0.5555555555555556,
              "#d8576b"
             ],
             [
              0.6666666666666666,
              "#ed7953"
             ],
             [
              0.7777777777777778,
              "#fb9f3a"
             ],
             [
              0.8888888888888888,
              "#fdca26"
             ],
             [
              1,
              "#f0f921"
             ]
            ],
            "type": "histogram2d"
           }
          ],
          "histogram2dcontour": [
           {
            "colorbar": {
             "outlinewidth": 0,
             "ticks": ""
            },
            "colorscale": [
             [
              0,
              "#0d0887"
             ],
             [
              0.1111111111111111,
              "#46039f"
             ],
             [
              0.2222222222222222,
              "#7201a8"
             ],
             [
              0.3333333333333333,
              "#9c179e"
             ],
             [
              0.4444444444444444,
              "#bd3786"
             ],
             [
              0.5555555555555556,
              "#d8576b"
             ],
             [
              0.6666666666666666,
              "#ed7953"
             ],
             [
              0.7777777777777778,
              "#fb9f3a"
             ],
             [
              0.8888888888888888,
              "#fdca26"
             ],
             [
              1,
              "#f0f921"
             ]
            ],
            "type": "histogram2dcontour"
           }
          ],
          "mesh3d": [
           {
            "colorbar": {
             "outlinewidth": 0,
             "ticks": ""
            },
            "type": "mesh3d"
           }
          ],
          "parcoords": [
           {
            "line": {
             "colorbar": {
              "outlinewidth": 0,
              "ticks": ""
             }
            },
            "type": "parcoords"
           }
          ],
          "pie": [
           {
            "automargin": true,
            "type": "pie"
           }
          ],
          "scatter": [
           {
            "fillpattern": {
             "fillmode": "overlay",
             "size": 10,
             "solidity": 0.2
            },
            "type": "scatter"
           }
          ],
          "scatter3d": [
           {
            "line": {
             "colorbar": {
              "outlinewidth": 0,
              "ticks": ""
             }
            },
            "marker": {
             "colorbar": {
              "outlinewidth": 0,
              "ticks": ""
             }
            },
            "type": "scatter3d"
           }
          ],
          "scattercarpet": [
           {
            "marker": {
             "colorbar": {
              "outlinewidth": 0,
              "ticks": ""
             }
            },
            "type": "scattercarpet"
           }
          ],
          "scattergeo": [
           {
            "marker": {
             "colorbar": {
              "outlinewidth": 0,
              "ticks": ""
             }
            },
            "type": "scattergeo"
           }
          ],
          "scattergl": [
           {
            "marker": {
             "colorbar": {
              "outlinewidth": 0,
              "ticks": ""
             }
            },
            "type": "scattergl"
           }
          ],
          "scattermap": [
           {
            "marker": {
             "colorbar": {
              "outlinewidth": 0,
              "ticks": ""
             }
            },
            "type": "scattermap"
           }
          ],
          "scattermapbox": [
           {
            "marker": {
             "colorbar": {
              "outlinewidth": 0,
              "ticks": ""
             }
            },
            "type": "scattermapbox"
           }
          ],
          "scatterpolar": [
           {
            "marker": {
             "colorbar": {
              "outlinewidth": 0,
              "ticks": ""
             }
            },
            "type": "scatterpolar"
           }
          ],
          "scatterpolargl": [
           {
            "marker": {
             "colorbar": {
              "outlinewidth": 0,
              "ticks": ""
             }
            },
            "type": "scatterpolargl"
           }
          ],
          "scatterternary": [
           {
            "marker": {
             "colorbar": {
              "outlinewidth": 0,
              "ticks": ""
             }
            },
            "type": "scatterternary"
           }
          ],
          "surface": [
           {
            "colorbar": {
             "outlinewidth": 0,
             "ticks": ""
            },
            "colorscale": [
             [
              0,
              "#0d0887"
             ],
             [
              0.1111111111111111,
              "#46039f"
             ],
             [
              0.2222222222222222,
              "#7201a8"
             ],
             [
              0.3333333333333333,
              "#9c179e"
             ],
             [
              0.4444444444444444,
              "#bd3786"
             ],
             [
              0.5555555555555556,
              "#d8576b"
             ],
             [
              0.6666666666666666,
              "#ed7953"
             ],
             [
              0.7777777777777778,
              "#fb9f3a"
             ],
             [
              0.8888888888888888,
              "#fdca26"
             ],
             [
              1,
              "#f0f921"
             ]
            ],
            "type": "surface"
           }
          ],
          "table": [
           {
            "cells": {
             "fill": {
              "color": "#EBF0F8"
             },
             "line": {
              "color": "white"
             }
            },
            "header": {
             "fill": {
              "color": "#C8D4E3"
             },
             "line": {
              "color": "white"
             }
            },
            "type": "table"
           }
          ]
         },
         "layout": {
          "annotationdefaults": {
           "arrowcolor": "#2a3f5f",
           "arrowhead": 0,
           "arrowwidth": 1
          },
          "autotypenumbers": "strict",
          "coloraxis": {
           "colorbar": {
            "outlinewidth": 0,
            "ticks": ""
           }
          },
          "colorscale": {
           "diverging": [
            [
             0,
             "#8e0152"
            ],
            [
             0.1,
             "#c51b7d"
            ],
            [
             0.2,
             "#de77ae"
            ],
            [
             0.3,
             "#f1b6da"
            ],
            [
             0.4,
             "#fde0ef"
            ],
            [
             0.5,
             "#f7f7f7"
            ],
            [
             0.6,
             "#e6f5d0"
            ],
            [
             0.7,
             "#b8e186"
            ],
            [
             0.8,
             "#7fbc41"
            ],
            [
             0.9,
             "#4d9221"
            ],
            [
             1,
             "#276419"
            ]
           ],
           "sequential": [
            [
             0,
             "#0d0887"
            ],
            [
             0.1111111111111111,
             "#46039f"
            ],
            [
             0.2222222222222222,
             "#7201a8"
            ],
            [
             0.3333333333333333,
             "#9c179e"
            ],
            [
             0.4444444444444444,
             "#bd3786"
            ],
            [
             0.5555555555555556,
             "#d8576b"
            ],
            [
             0.6666666666666666,
             "#ed7953"
            ],
            [
             0.7777777777777778,
             "#fb9f3a"
            ],
            [
             0.8888888888888888,
             "#fdca26"
            ],
            [
             1,
             "#f0f921"
            ]
           ],
           "sequentialminus": [
            [
             0,
             "#0d0887"
            ],
            [
             0.1111111111111111,
             "#46039f"
            ],
            [
             0.2222222222222222,
             "#7201a8"
            ],
            [
             0.3333333333333333,
             "#9c179e"
            ],
            [
             0.4444444444444444,
             "#bd3786"
            ],
            [
             0.5555555555555556,
             "#d8576b"
            ],
            [
             0.6666666666666666,
             "#ed7953"
            ],
            [
             0.7777777777777778,
             "#fb9f3a"
            ],
            [
             0.8888888888888888,
             "#fdca26"
            ],
            [
             1,
             "#f0f921"
            ]
           ]
          },
          "colorway": [
           "#636efa",
           "#EF553B",
           "#00cc96",
           "#ab63fa",
           "#FFA15A",
           "#19d3f3",
           "#FF6692",
           "#B6E880",
           "#FF97FF",
           "#FECB52"
          ],
          "font": {
           "color": "#2a3f5f"
          },
          "geo": {
           "bgcolor": "white",
           "lakecolor": "white",
           "landcolor": "#E5ECF6",
           "showlakes": true,
           "showland": true,
           "subunitcolor": "white"
          },
          "hoverlabel": {
           "align": "left"
          },
          "hovermode": "closest",
          "mapbox": {
           "style": "light"
          },
          "paper_bgcolor": "white",
          "plot_bgcolor": "#E5ECF6",
          "polar": {
           "angularaxis": {
            "gridcolor": "white",
            "linecolor": "white",
            "ticks": ""
           },
           "bgcolor": "#E5ECF6",
           "radialaxis": {
            "gridcolor": "white",
            "linecolor": "white",
            "ticks": ""
           }
          },
          "scene": {
           "xaxis": {
            "backgroundcolor": "#E5ECF6",
            "gridcolor": "white",
            "gridwidth": 2,
            "linecolor": "white",
            "showbackground": true,
            "ticks": "",
            "zerolinecolor": "white"
           },
           "yaxis": {
            "backgroundcolor": "#E5ECF6",
            "gridcolor": "white",
            "gridwidth": 2,
            "linecolor": "white",
            "showbackground": true,
            "ticks": "",
            "zerolinecolor": "white"
           },
           "zaxis": {
            "backgroundcolor": "#E5ECF6",
            "gridcolor": "white",
            "gridwidth": 2,
            "linecolor": "white",
            "showbackground": true,
            "ticks": "",
            "zerolinecolor": "white"
           }
          },
          "shapedefaults": {
           "line": {
            "color": "#2a3f5f"
           }
          },
          "ternary": {
           "aaxis": {
            "gridcolor": "white",
            "linecolor": "white",
            "ticks": ""
           },
           "baxis": {
            "gridcolor": "white",
            "linecolor": "white",
            "ticks": ""
           },
           "bgcolor": "#E5ECF6",
           "caxis": {
            "gridcolor": "white",
            "linecolor": "white",
            "ticks": ""
           }
          },
          "title": {
           "x": 0.05
          },
          "xaxis": {
           "automargin": true,
           "gridcolor": "white",
           "linecolor": "white",
           "ticks": "",
           "title": {
            "standoff": 15
           },
           "zerolinecolor": "white",
           "zerolinewidth": 2
          },
          "yaxis": {
           "automargin": true,
           "gridcolor": "white",
           "linecolor": "white",
           "ticks": "",
           "title": {
            "standoff": 15
           },
           "zerolinecolor": "white",
           "zerolinewidth": 2
          }
         }
        },
        "title": {
         "text": "<b>Hierarchical Breakdown of \"Feature-Specific Issues\" Complaints</b>",
         "x": 0.5
        }
       }
      }
     },
     "metadata": {},
     "output_type": "display_data"
    }
   ],
   "source": [
    "# --- Breakdown 4: Feature-Specific Issues ---\n",
    "create_themed_sunburst(\n",
    "    theme_name=\"Feature-Specific Issues\", color_sequence=px.colors.sequential.Oranges_r\n",
    ")"
   ]
  },
  {
   "cell_type": "markdown",
   "metadata": {},
   "source": [
    "### Insight 2: When Did Things Go Wrong?\n",
    "\n",
    "This time series analysis tracks complaint themes month-by-month. By annotating the chart with real-world events, we can find the \"smoking gun\" connecting product decisions to spikes in user frustration."
   ]
  },
  {
   "cell_type": "code",
   "execution_count": 29,
   "metadata": {
    "execution": {
     "iopub.execute_input": "2025-07-22T08:37:43.859065Z",
     "iopub.status.busy": "2025-07-22T08:37:43.858377Z",
     "iopub.status.idle": "2025-07-22T08:37:43.879482Z",
     "shell.execute_reply": "2025-07-22T08:37:43.878932Z",
     "shell.execute_reply.started": "2025-07-22T08:37:43.859041Z"
    },
    "trusted": true
   },
   "outputs": [
    {
     "name": "stdout",
     "output_type": "stream",
     "text": [
      "Data is ready for time series analysis.\n"
     ]
    }
   ],
   "source": [
    "# This assumes 'df' is your final, themed conversational apps DataFrame.\n",
    "# Ensure the 'date' column is in datetime format. This is crucial.\n",
    "df[\"date\"] = pd.to_datetime(df[\"date\"], errors=\"coerce\")\n",
    "df.dropna(subset=[\"date\"], inplace=True)\n",
    "\n",
    "# Filter out the themes we don't want to track\n",
    "plot_df_time = df[\n",
    "    ~df[\"theme\"].isin([\"Outliers / Generic\", \"Other/Misc.\", \"Uncategorized\"])\n",
    "]\n",
    "\n",
    "print(\"Data is ready for time series analysis.\")"
   ]
  },
  {
   "cell_type": "code",
   "execution_count": 30,
   "metadata": {
    "execution": {
     "iopub.execute_input": "2025-07-22T08:37:46.886031Z",
     "iopub.status.busy": "2025-07-22T08:37:46.885767Z",
     "iopub.status.idle": "2025-07-22T08:37:46.914037Z",
     "shell.execute_reply": "2025-07-22T08:37:46.913427Z",
     "shell.execute_reply.started": "2025-07-22T08:37:46.886011Z"
    },
    "trusted": true
   },
   "outputs": [
    {
     "name": "stdout",
     "output_type": "stream",
     "text": [
      "--- Monthly Complaint Counts by Theme ---\n"
     ]
    },
    {
     "data": {
      "application/vnd.microsoft.datawrangler.viewer.v0+json": {
       "columns": [
        {
         "name": "index",
         "rawType": "int64",
         "type": "integer"
        },
        {
         "name": "date",
         "rawType": "datetime64[ns]",
         "type": "datetime"
        },
        {
         "name": "theme",
         "rawType": "object",
         "type": "string"
        },
        {
         "name": "review_count",
         "rawType": "int64",
         "type": "integer"
        },
        {
         "name": "month",
         "rawType": "datetime64[ns]",
         "type": "datetime"
        }
       ],
       "ref": "98e98d58-3d42-4c27-8c99-c16a00befcef",
       "rows": [
        [
         "0",
         "2022-01-31 00:00:00",
         "AI Performance & Quality",
         "50",
         "2022-01-01 00:00:00"
        ],
        [
         "1",
         "2022-01-31 00:00:00",
         "Feature-Specific Issues",
         "33",
         "2022-01-01 00:00:00"
        ],
        [
         "2",
         "2022-01-31 00:00:00",
         "Monetization & Value",
         "115",
         "2022-01-01 00:00:00"
        ],
        [
         "3",
         "2022-01-31 00:00:00",
         "Technical Performance",
         "34",
         "2022-01-01 00:00:00"
        ],
        [
         "4",
         "2022-02-28 00:00:00",
         "AI Performance & Quality",
         "47",
         "2022-02-01 00:00:00"
        ]
       ],
       "shape": {
        "columns": 4,
        "rows": 5
       }
      },
      "text/html": [
       "<div>\n",
       "<style scoped>\n",
       "    .dataframe tbody tr th:only-of-type {\n",
       "        vertical-align: middle;\n",
       "    }\n",
       "\n",
       "    .dataframe tbody tr th {\n",
       "        vertical-align: top;\n",
       "    }\n",
       "\n",
       "    .dataframe thead th {\n",
       "        text-align: right;\n",
       "    }\n",
       "</style>\n",
       "<table border=\"1\" class=\"dataframe\">\n",
       "  <thead>\n",
       "    <tr style=\"text-align: right;\">\n",
       "      <th></th>\n",
       "      <th>date</th>\n",
       "      <th>theme</th>\n",
       "      <th>review_count</th>\n",
       "      <th>month</th>\n",
       "    </tr>\n",
       "  </thead>\n",
       "  <tbody>\n",
       "    <tr>\n",
       "      <th>0</th>\n",
       "      <td>2022-01-31</td>\n",
       "      <td>AI Performance &amp; Quality</td>\n",
       "      <td>50</td>\n",
       "      <td>2022-01-01</td>\n",
       "    </tr>\n",
       "    <tr>\n",
       "      <th>1</th>\n",
       "      <td>2022-01-31</td>\n",
       "      <td>Feature-Specific Issues</td>\n",
       "      <td>33</td>\n",
       "      <td>2022-01-01</td>\n",
       "    </tr>\n",
       "    <tr>\n",
       "      <th>2</th>\n",
       "      <td>2022-01-31</td>\n",
       "      <td>Monetization &amp; Value</td>\n",
       "      <td>115</td>\n",
       "      <td>2022-01-01</td>\n",
       "    </tr>\n",
       "    <tr>\n",
       "      <th>3</th>\n",
       "      <td>2022-01-31</td>\n",
       "      <td>Technical Performance</td>\n",
       "      <td>34</td>\n",
       "      <td>2022-01-01</td>\n",
       "    </tr>\n",
       "    <tr>\n",
       "      <th>4</th>\n",
       "      <td>2022-02-28</td>\n",
       "      <td>AI Performance &amp; Quality</td>\n",
       "      <td>47</td>\n",
       "      <td>2022-02-01</td>\n",
       "    </tr>\n",
       "  </tbody>\n",
       "</table>\n",
       "</div>"
      ],
      "text/plain": [
       "        date                     theme  review_count      month\n",
       "0 2022-01-31  AI Performance & Quality            50 2022-01-01\n",
       "1 2022-01-31   Feature-Specific Issues            33 2022-01-01\n",
       "2 2022-01-31      Monetization & Value           115 2022-01-01\n",
       "3 2022-01-31     Technical Performance            34 2022-01-01\n",
       "4 2022-02-28  AI Performance & Quality            47 2022-02-01"
      ]
     },
     "metadata": {},
     "output_type": "display_data"
    }
   ],
   "source": [
    "# Group the data by month and by theme, then count the number of reviews.\n",
    "# .Grouper is the perfect tool for this.\n",
    "monthly_trends = (\n",
    "    plot_df_time.groupby([pd.Grouper(key=\"date\", freq=\"M\"), \"theme\"])\n",
    "    .size()\n",
    "    .reset_index(name=\"review_count\")\n",
    ")\n",
    "\n",
    "# Rename the date to be the start of the month for cleaner plotting\n",
    "monthly_trends[\"month\"] = monthly_trends[\"date\"].dt.to_period(\"M\").dt.to_timestamp()\n",
    "\n",
    "print(\"--- Monthly Complaint Counts by Theme ---\")\n",
    "display(monthly_trends.head())"
   ]
  },
  {
   "cell_type": "code",
   "execution_count": 32,
   "metadata": {
    "execution": {
     "iopub.execute_input": "2025-07-22T08:37:53.171006Z",
     "iopub.status.busy": "2025-07-22T08:37:53.170740Z",
     "iopub.status.idle": "2025-07-22T08:37:53.250704Z",
     "shell.execute_reply": "2025-07-22T08:37:53.250102Z",
     "shell.execute_reply.started": "2025-07-22T08:37:53.170988Z"
    },
    "trusted": true
   },
   "outputs": [
    {
     "data": {
      "application/vnd.plotly.v1+json": {
       "config": {
        "plotlyServerURL": "https://plot.ly"
       },
       "data": [
        {
         "hovertemplate": "theme=AI Performance & Quality<br>Month=%{x}<br>Number of Negative Reviews=%{y}<extra></extra>",
         "legendgroup": "AI Performance & Quality",
         "line": {
          "color": "#636efa",
          "dash": "solid"
         },
         "marker": {
          "symbol": "circle"
         },
         "mode": "lines",
         "name": "AI Performance & Quality",
         "orientation": "v",
         "showlegend": true,
         "type": "scatter",
         "x": [
          "2022-01-01T00:00:00.000000000",
          "2022-02-01T00:00:00.000000000",
          "2022-03-01T00:00:00.000000000",
          "2022-04-01T00:00:00.000000000",
          "2022-05-01T00:00:00.000000000",
          "2022-06-01T00:00:00.000000000",
          "2022-07-01T00:00:00.000000000",
          "2022-08-01T00:00:00.000000000",
          "2022-09-01T00:00:00.000000000",
          "2022-10-01T00:00:00.000000000",
          "2022-11-01T00:00:00.000000000",
          "2022-12-01T00:00:00.000000000",
          "2023-01-01T00:00:00.000000000",
          "2023-02-01T00:00:00.000000000",
          "2023-03-01T00:00:00.000000000",
          "2023-04-01T00:00:00.000000000",
          "2023-05-01T00:00:00.000000000",
          "2023-06-01T00:00:00.000000000",
          "2023-07-01T00:00:00.000000000",
          "2023-08-01T00:00:00.000000000",
          "2023-09-01T00:00:00.000000000",
          "2023-10-01T00:00:00.000000000",
          "2023-11-01T00:00:00.000000000",
          "2023-12-01T00:00:00.000000000",
          "2024-01-01T00:00:00.000000000",
          "2024-02-01T00:00:00.000000000",
          "2024-03-01T00:00:00.000000000",
          "2024-04-01T00:00:00.000000000",
          "2024-05-01T00:00:00.000000000",
          "2024-06-01T00:00:00.000000000",
          "2024-07-01T00:00:00.000000000",
          "2024-08-01T00:00:00.000000000",
          "2024-09-01T00:00:00.000000000",
          "2024-10-01T00:00:00.000000000",
          "2024-11-01T00:00:00.000000000",
          "2024-12-01T00:00:00.000000000",
          "2025-01-01T00:00:00.000000000",
          "2025-02-01T00:00:00.000000000",
          "2025-03-01T00:00:00.000000000",
          "2025-04-01T00:00:00.000000000",
          "2025-05-01T00:00:00.000000000",
          "2025-06-01T00:00:00.000000000"
         ],
         "xaxis": "x",
         "y": {
          "bdata": "MgAvACkANgAnAE4AYQBCADwARQBQAEAAUgCLADQAXAAuACAAGgAuABwAFQAbABYAJQAeABkAEgAVAA0AEgALABIADwAQAAoAIAAWABUAFgA5ACQA",
          "dtype": "i2"
         },
         "yaxis": "y"
        },
        {
         "hovertemplate": "theme=Feature-Specific Issues<br>Month=%{x}<br>Number of Negative Reviews=%{y}<extra></extra>",
         "legendgroup": "Feature-Specific Issues",
         "line": {
          "color": "#EF553B",
          "dash": "solid"
         },
         "marker": {
          "symbol": "circle"
         },
         "mode": "lines",
         "name": "Feature-Specific Issues",
         "orientation": "v",
         "showlegend": true,
         "type": "scatter",
         "x": [
          "2022-01-01T00:00:00.000000000",
          "2022-02-01T00:00:00.000000000",
          "2022-03-01T00:00:00.000000000",
          "2022-04-01T00:00:00.000000000",
          "2022-05-01T00:00:00.000000000",
          "2022-06-01T00:00:00.000000000",
          "2022-07-01T00:00:00.000000000",
          "2022-08-01T00:00:00.000000000",
          "2022-09-01T00:00:00.000000000",
          "2022-10-01T00:00:00.000000000",
          "2022-11-01T00:00:00.000000000",
          "2022-12-01T00:00:00.000000000",
          "2023-01-01T00:00:00.000000000",
          "2023-02-01T00:00:00.000000000",
          "2023-03-01T00:00:00.000000000",
          "2023-04-01T00:00:00.000000000",
          "2023-05-01T00:00:00.000000000",
          "2023-06-01T00:00:00.000000000",
          "2023-07-01T00:00:00.000000000",
          "2023-08-01T00:00:00.000000000",
          "2023-09-01T00:00:00.000000000",
          "2023-10-01T00:00:00.000000000",
          "2023-11-01T00:00:00.000000000",
          "2023-12-01T00:00:00.000000000",
          "2024-01-01T00:00:00.000000000",
          "2024-02-01T00:00:00.000000000",
          "2024-03-01T00:00:00.000000000",
          "2024-04-01T00:00:00.000000000",
          "2024-05-01T00:00:00.000000000",
          "2024-06-01T00:00:00.000000000",
          "2024-07-01T00:00:00.000000000",
          "2024-08-01T00:00:00.000000000",
          "2024-09-01T00:00:00.000000000",
          "2024-10-01T00:00:00.000000000",
          "2024-11-01T00:00:00.000000000",
          "2024-12-01T00:00:00.000000000",
          "2025-01-01T00:00:00.000000000",
          "2025-02-01T00:00:00.000000000",
          "2025-03-01T00:00:00.000000000",
          "2025-04-01T00:00:00.000000000",
          "2025-05-01T00:00:00.000000000",
          "2025-06-01T00:00:00.000000000"
         ],
         "xaxis": "x",
         "y": {
          "bdata": "IQAmABgAIwAvAFQATgBpAGQAbAByAIwAcgCYAEwAPwAxAC4ALgAwABkAHgAbACUAFAAZABcAEQAWABYAEAAHAAsADgAMAAwABwATABAADwAZAA8A",
          "dtype": "i2"
         },
         "yaxis": "y"
        },
        {
         "hovertemplate": "theme=Monetization & Value<br>Month=%{x}<br>Number of Negative Reviews=%{y}<extra></extra>",
         "legendgroup": "Monetization & Value",
         "line": {
          "color": "#00cc96",
          "dash": "solid"
         },
         "marker": {
          "symbol": "circle"
         },
         "mode": "lines",
         "name": "Monetization & Value",
         "orientation": "v",
         "showlegend": true,
         "type": "scatter",
         "x": [
          "2022-01-01T00:00:00.000000000",
          "2022-02-01T00:00:00.000000000",
          "2022-03-01T00:00:00.000000000",
          "2022-04-01T00:00:00.000000000",
          "2022-05-01T00:00:00.000000000",
          "2022-06-01T00:00:00.000000000",
          "2022-07-01T00:00:00.000000000",
          "2022-08-01T00:00:00.000000000",
          "2022-09-01T00:00:00.000000000",
          "2022-10-01T00:00:00.000000000",
          "2022-11-01T00:00:00.000000000",
          "2022-12-01T00:00:00.000000000",
          "2023-01-01T00:00:00.000000000",
          "2023-02-01T00:00:00.000000000",
          "2023-03-01T00:00:00.000000000",
          "2023-04-01T00:00:00.000000000",
          "2023-05-01T00:00:00.000000000",
          "2023-06-01T00:00:00.000000000",
          "2023-07-01T00:00:00.000000000",
          "2023-08-01T00:00:00.000000000",
          "2023-09-01T00:00:00.000000000",
          "2023-10-01T00:00:00.000000000",
          "2023-11-01T00:00:00.000000000",
          "2023-12-01T00:00:00.000000000",
          "2024-01-01T00:00:00.000000000",
          "2024-02-01T00:00:00.000000000",
          "2024-03-01T00:00:00.000000000",
          "2024-04-01T00:00:00.000000000",
          "2024-05-01T00:00:00.000000000",
          "2024-06-01T00:00:00.000000000",
          "2024-07-01T00:00:00.000000000",
          "2024-08-01T00:00:00.000000000",
          "2024-09-01T00:00:00.000000000",
          "2024-10-01T00:00:00.000000000",
          "2024-11-01T00:00:00.000000000",
          "2024-12-01T00:00:00.000000000",
          "2025-01-01T00:00:00.000000000",
          "2025-02-01T00:00:00.000000000",
          "2025-03-01T00:00:00.000000000",
          "2025-04-01T00:00:00.000000000",
          "2025-05-01T00:00:00.000000000",
          "2025-06-01T00:00:00.000000000"
         ],
         "xaxis": "x",
         "y": {
          "bdata": "cwBfAG0A1AEEAv4B7AHnAfYBHALxAfcBlwKAA2QCHQJ2ASsB+wD0AJoA3wDDAMcA5wCrAKQAogB/AHcAogB0AHEAgQBwAGwAcABvAFoAZQBoAFoA",
          "dtype": "i2"
         },
         "yaxis": "y"
        },
        {
         "hovertemplate": "theme=Technical Performance<br>Month=%{x}<br>Number of Negative Reviews=%{y}<extra></extra>",
         "legendgroup": "Technical Performance",
         "line": {
          "color": "#ab63fa",
          "dash": "solid"
         },
         "marker": {
          "symbol": "circle"
         },
         "mode": "lines",
         "name": "Technical Performance",
         "orientation": "v",
         "showlegend": true,
         "type": "scatter",
         "x": [
          "2022-01-01T00:00:00.000000000",
          "2022-02-01T00:00:00.000000000",
          "2022-03-01T00:00:00.000000000",
          "2022-04-01T00:00:00.000000000",
          "2022-05-01T00:00:00.000000000",
          "2022-06-01T00:00:00.000000000",
          "2022-07-01T00:00:00.000000000",
          "2022-08-01T00:00:00.000000000",
          "2022-09-01T00:00:00.000000000",
          "2022-10-01T00:00:00.000000000",
          "2022-11-01T00:00:00.000000000",
          "2022-12-01T00:00:00.000000000",
          "2023-01-01T00:00:00.000000000",
          "2023-02-01T00:00:00.000000000",
          "2023-03-01T00:00:00.000000000",
          "2023-04-01T00:00:00.000000000",
          "2023-05-01T00:00:00.000000000",
          "2023-06-01T00:00:00.000000000",
          "2023-07-01T00:00:00.000000000",
          "2023-08-01T00:00:00.000000000",
          "2023-09-01T00:00:00.000000000",
          "2023-10-01T00:00:00.000000000",
          "2023-11-01T00:00:00.000000000",
          "2023-12-01T00:00:00.000000000",
          "2024-01-01T00:00:00.000000000",
          "2024-02-01T00:00:00.000000000",
          "2024-03-01T00:00:00.000000000",
          "2024-04-01T00:00:00.000000000",
          "2024-05-01T00:00:00.000000000",
          "2024-06-01T00:00:00.000000000",
          "2024-07-01T00:00:00.000000000",
          "2024-08-01T00:00:00.000000000",
          "2024-09-01T00:00:00.000000000",
          "2024-10-01T00:00:00.000000000",
          "2024-11-01T00:00:00.000000000",
          "2024-12-01T00:00:00.000000000",
          "2025-01-01T00:00:00.000000000",
          "2025-02-01T00:00:00.000000000",
          "2025-03-01T00:00:00.000000000",
          "2025-04-01T00:00:00.000000000",
          "2025-05-01T00:00:00.000000000",
          "2025-06-01T00:00:00.000000000"
         ],
         "xaxis": "x",
         "y": {
          "bdata": "IgBHAD8AHQAlAB4AIQAlACkANQAzADkALwCGAEAAQAAsAC8AHQAaAA0ADgASABAAEgAPAAkACgANAAcACAALAAgACQAHAAgABgANAA0ADAAfAAoA",
          "dtype": "i2"
         },
         "yaxis": "y"
        }
       ],
       "layout": {
        "annotations": [
         {
          "font": {
           "color": "red"
          },
          "showarrow": false,
          "text": "Replika ERP Update",
          "x": 1675209600000,
          "xanchor": "right",
          "xref": "x",
          "y": 1,
          "yanchor": "top",
          "yref": "y domain"
         }
        ],
        "legend": {
         "title": {
          "text": "Complaint Theme"
         },
         "tracegroupgap": 0
        },
        "shapes": [
         {
          "line": {
           "color": "red",
           "dash": "dash"
          },
          "type": "line",
          "x0": 1675209600000,
          "x1": 1675209600000,
          "xref": "x",
          "y0": 0,
          "y1": 1,
          "yref": "y domain"
         }
        ],
        "template": {
         "data": {
          "bar": [
           {
            "error_x": {
             "color": "#2a3f5f"
            },
            "error_y": {
             "color": "#2a3f5f"
            },
            "marker": {
             "line": {
              "color": "white",
              "width": 0.5
             },
             "pattern": {
              "fillmode": "overlay",
              "size": 10,
              "solidity": 0.2
             }
            },
            "type": "bar"
           }
          ],
          "barpolar": [
           {
            "marker": {
             "line": {
              "color": "white",
              "width": 0.5
             },
             "pattern": {
              "fillmode": "overlay",
              "size": 10,
              "solidity": 0.2
             }
            },
            "type": "barpolar"
           }
          ],
          "carpet": [
           {
            "aaxis": {
             "endlinecolor": "#2a3f5f",
             "gridcolor": "#C8D4E3",
             "linecolor": "#C8D4E3",
             "minorgridcolor": "#C8D4E3",
             "startlinecolor": "#2a3f5f"
            },
            "baxis": {
             "endlinecolor": "#2a3f5f",
             "gridcolor": "#C8D4E3",
             "linecolor": "#C8D4E3",
             "minorgridcolor": "#C8D4E3",
             "startlinecolor": "#2a3f5f"
            },
            "type": "carpet"
           }
          ],
          "choropleth": [
           {
            "colorbar": {
             "outlinewidth": 0,
             "ticks": ""
            },
            "type": "choropleth"
           }
          ],
          "contour": [
           {
            "colorbar": {
             "outlinewidth": 0,
             "ticks": ""
            },
            "colorscale": [
             [
              0,
              "#0d0887"
             ],
             [
              0.1111111111111111,
              "#46039f"
             ],
             [
              0.2222222222222222,
              "#7201a8"
             ],
             [
              0.3333333333333333,
              "#9c179e"
             ],
             [
              0.4444444444444444,
              "#bd3786"
             ],
             [
              0.5555555555555556,
              "#d8576b"
             ],
             [
              0.6666666666666666,
              "#ed7953"
             ],
             [
              0.7777777777777778,
              "#fb9f3a"
             ],
             [
              0.8888888888888888,
              "#fdca26"
             ],
             [
              1,
              "#f0f921"
             ]
            ],
            "type": "contour"
           }
          ],
          "contourcarpet": [
           {
            "colorbar": {
             "outlinewidth": 0,
             "ticks": ""
            },
            "type": "contourcarpet"
           }
          ],
          "heatmap": [
           {
            "colorbar": {
             "outlinewidth": 0,
             "ticks": ""
            },
            "colorscale": [
             [
              0,
              "#0d0887"
             ],
             [
              0.1111111111111111,
              "#46039f"
             ],
             [
              0.2222222222222222,
              "#7201a8"
             ],
             [
              0.3333333333333333,
              "#9c179e"
             ],
             [
              0.4444444444444444,
              "#bd3786"
             ],
             [
              0.5555555555555556,
              "#d8576b"
             ],
             [
              0.6666666666666666,
              "#ed7953"
             ],
             [
              0.7777777777777778,
              "#fb9f3a"
             ],
             [
              0.8888888888888888,
              "#fdca26"
             ],
             [
              1,
              "#f0f921"
             ]
            ],
            "type": "heatmap"
           }
          ],
          "histogram": [
           {
            "marker": {
             "pattern": {
              "fillmode": "overlay",
              "size": 10,
              "solidity": 0.2
             }
            },
            "type": "histogram"
           }
          ],
          "histogram2d": [
           {
            "colorbar": {
             "outlinewidth": 0,
             "ticks": ""
            },
            "colorscale": [
             [
              0,
              "#0d0887"
             ],
             [
              0.1111111111111111,
              "#46039f"
             ],
             [
              0.2222222222222222,
              "#7201a8"
             ],
             [
              0.3333333333333333,
              "#9c179e"
             ],
             [
              0.4444444444444444,
              "#bd3786"
             ],
             [
              0.5555555555555556,
              "#d8576b"
             ],
             [
              0.6666666666666666,
              "#ed7953"
             ],
             [
              0.7777777777777778,
              "#fb9f3a"
             ],
             [
              0.8888888888888888,
              "#fdca26"
             ],
             [
              1,
              "#f0f921"
             ]
            ],
            "type": "histogram2d"
           }
          ],
          "histogram2dcontour": [
           {
            "colorbar": {
             "outlinewidth": 0,
             "ticks": ""
            },
            "colorscale": [
             [
              0,
              "#0d0887"
             ],
             [
              0.1111111111111111,
              "#46039f"
             ],
             [
              0.2222222222222222,
              "#7201a8"
             ],
             [
              0.3333333333333333,
              "#9c179e"
             ],
             [
              0.4444444444444444,
              "#bd3786"
             ],
             [
              0.5555555555555556,
              "#d8576b"
             ],
             [
              0.6666666666666666,
              "#ed7953"
             ],
             [
              0.7777777777777778,
              "#fb9f3a"
             ],
             [
              0.8888888888888888,
              "#fdca26"
             ],
             [
              1,
              "#f0f921"
             ]
            ],
            "type": "histogram2dcontour"
           }
          ],
          "mesh3d": [
           {
            "colorbar": {
             "outlinewidth": 0,
             "ticks": ""
            },
            "type": "mesh3d"
           }
          ],
          "parcoords": [
           {
            "line": {
             "colorbar": {
              "outlinewidth": 0,
              "ticks": ""
             }
            },
            "type": "parcoords"
           }
          ],
          "pie": [
           {
            "automargin": true,
            "type": "pie"
           }
          ],
          "scatter": [
           {
            "fillpattern": {
             "fillmode": "overlay",
             "size": 10,
             "solidity": 0.2
            },
            "type": "scatter"
           }
          ],
          "scatter3d": [
           {
            "line": {
             "colorbar": {
              "outlinewidth": 0,
              "ticks": ""
             }
            },
            "marker": {
             "colorbar": {
              "outlinewidth": 0,
              "ticks": ""
             }
            },
            "type": "scatter3d"
           }
          ],
          "scattercarpet": [
           {
            "marker": {
             "colorbar": {
              "outlinewidth": 0,
              "ticks": ""
             }
            },
            "type": "scattercarpet"
           }
          ],
          "scattergeo": [
           {
            "marker": {
             "colorbar": {
              "outlinewidth": 0,
              "ticks": ""
             }
            },
            "type": "scattergeo"
           }
          ],
          "scattergl": [
           {
            "marker": {
             "colorbar": {
              "outlinewidth": 0,
              "ticks": ""
             }
            },
            "type": "scattergl"
           }
          ],
          "scattermap": [
           {
            "marker": {
             "colorbar": {
              "outlinewidth": 0,
              "ticks": ""
             }
            },
            "type": "scattermap"
           }
          ],
          "scattermapbox": [
           {
            "marker": {
             "colorbar": {
              "outlinewidth": 0,
              "ticks": ""
             }
            },
            "type": "scattermapbox"
           }
          ],
          "scatterpolar": [
           {
            "marker": {
             "colorbar": {
              "outlinewidth": 0,
              "ticks": ""
             }
            },
            "type": "scatterpolar"
           }
          ],
          "scatterpolargl": [
           {
            "marker": {
             "colorbar": {
              "outlinewidth": 0,
              "ticks": ""
             }
            },
            "type": "scatterpolargl"
           }
          ],
          "scatterternary": [
           {
            "marker": {
             "colorbar": {
              "outlinewidth": 0,
              "ticks": ""
             }
            },
            "type": "scatterternary"
           }
          ],
          "surface": [
           {
            "colorbar": {
             "outlinewidth": 0,
             "ticks": ""
            },
            "colorscale": [
             [
              0,
              "#0d0887"
             ],
             [
              0.1111111111111111,
              "#46039f"
             ],
             [
              0.2222222222222222,
              "#7201a8"
             ],
             [
              0.3333333333333333,
              "#9c179e"
             ],
             [
              0.4444444444444444,
              "#bd3786"
             ],
             [
              0.5555555555555556,
              "#d8576b"
             ],
             [
              0.6666666666666666,
              "#ed7953"
             ],
             [
              0.7777777777777778,
              "#fb9f3a"
             ],
             [
              0.8888888888888888,
              "#fdca26"
             ],
             [
              1,
              "#f0f921"
             ]
            ],
            "type": "surface"
           }
          ],
          "table": [
           {
            "cells": {
             "fill": {
              "color": "#EBF0F8"
             },
             "line": {
              "color": "white"
             }
            },
            "header": {
             "fill": {
              "color": "#C8D4E3"
             },
             "line": {
              "color": "white"
             }
            },
            "type": "table"
           }
          ]
         },
         "layout": {
          "annotationdefaults": {
           "arrowcolor": "#2a3f5f",
           "arrowhead": 0,
           "arrowwidth": 1
          },
          "autotypenumbers": "strict",
          "coloraxis": {
           "colorbar": {
            "outlinewidth": 0,
            "ticks": ""
           }
          },
          "colorscale": {
           "diverging": [
            [
             0,
             "#8e0152"
            ],
            [
             0.1,
             "#c51b7d"
            ],
            [
             0.2,
             "#de77ae"
            ],
            [
             0.3,
             "#f1b6da"
            ],
            [
             0.4,
             "#fde0ef"
            ],
            [
             0.5,
             "#f7f7f7"
            ],
            [
             0.6,
             "#e6f5d0"
            ],
            [
             0.7,
             "#b8e186"
            ],
            [
             0.8,
             "#7fbc41"
            ],
            [
             0.9,
             "#4d9221"
            ],
            [
             1,
             "#276419"
            ]
           ],
           "sequential": [
            [
             0,
             "#0d0887"
            ],
            [
             0.1111111111111111,
             "#46039f"
            ],
            [
             0.2222222222222222,
             "#7201a8"
            ],
            [
             0.3333333333333333,
             "#9c179e"
            ],
            [
             0.4444444444444444,
             "#bd3786"
            ],
            [
             0.5555555555555556,
             "#d8576b"
            ],
            [
             0.6666666666666666,
             "#ed7953"
            ],
            [
             0.7777777777777778,
             "#fb9f3a"
            ],
            [
             0.8888888888888888,
             "#fdca26"
            ],
            [
             1,
             "#f0f921"
            ]
           ],
           "sequentialminus": [
            [
             0,
             "#0d0887"
            ],
            [
             0.1111111111111111,
             "#46039f"
            ],
            [
             0.2222222222222222,
             "#7201a8"
            ],
            [
             0.3333333333333333,
             "#9c179e"
            ],
            [
             0.4444444444444444,
             "#bd3786"
            ],
            [
             0.5555555555555556,
             "#d8576b"
            ],
            [
             0.6666666666666666,
             "#ed7953"
            ],
            [
             0.7777777777777778,
             "#fb9f3a"
            ],
            [
             0.8888888888888888,
             "#fdca26"
            ],
            [
             1,
             "#f0f921"
            ]
           ]
          },
          "colorway": [
           "#636efa",
           "#EF553B",
           "#00cc96",
           "#ab63fa",
           "#FFA15A",
           "#19d3f3",
           "#FF6692",
           "#B6E880",
           "#FF97FF",
           "#FECB52"
          ],
          "font": {
           "color": "#2a3f5f"
          },
          "geo": {
           "bgcolor": "white",
           "lakecolor": "white",
           "landcolor": "white",
           "showlakes": true,
           "showland": true,
           "subunitcolor": "#C8D4E3"
          },
          "hoverlabel": {
           "align": "left"
          },
          "hovermode": "closest",
          "mapbox": {
           "style": "light"
          },
          "paper_bgcolor": "white",
          "plot_bgcolor": "white",
          "polar": {
           "angularaxis": {
            "gridcolor": "#EBF0F8",
            "linecolor": "#EBF0F8",
            "ticks": ""
           },
           "bgcolor": "white",
           "radialaxis": {
            "gridcolor": "#EBF0F8",
            "linecolor": "#EBF0F8",
            "ticks": ""
           }
          },
          "scene": {
           "xaxis": {
            "backgroundcolor": "white",
            "gridcolor": "#DFE8F3",
            "gridwidth": 2,
            "linecolor": "#EBF0F8",
            "showbackground": true,
            "ticks": "",
            "zerolinecolor": "#EBF0F8"
           },
           "yaxis": {
            "backgroundcolor": "white",
            "gridcolor": "#DFE8F3",
            "gridwidth": 2,
            "linecolor": "#EBF0F8",
            "showbackground": true,
            "ticks": "",
            "zerolinecolor": "#EBF0F8"
           },
           "zaxis": {
            "backgroundcolor": "white",
            "gridcolor": "#DFE8F3",
            "gridwidth": 2,
            "linecolor": "#EBF0F8",
            "showbackground": true,
            "ticks": "",
            "zerolinecolor": "#EBF0F8"
           }
          },
          "shapedefaults": {
           "line": {
            "color": "#2a3f5f"
           }
          },
          "ternary": {
           "aaxis": {
            "gridcolor": "#DFE8F3",
            "linecolor": "#A2B1C6",
            "ticks": ""
           },
           "baxis": {
            "gridcolor": "#DFE8F3",
            "linecolor": "#A2B1C6",
            "ticks": ""
           },
           "bgcolor": "white",
           "caxis": {
            "gridcolor": "#DFE8F3",
            "linecolor": "#A2B1C6",
            "ticks": ""
           }
          },
          "title": {
           "x": 0.05
          },
          "xaxis": {
           "automargin": true,
           "gridcolor": "#EBF0F8",
           "linecolor": "#EBF0F8",
           "ticks": "",
           "title": {
            "standoff": 15
           },
           "zerolinecolor": "#EBF0F8",
           "zerolinewidth": 2
          },
          "yaxis": {
           "automargin": true,
           "gridcolor": "#EBF0F8",
           "linecolor": "#EBF0F8",
           "ticks": "",
           "title": {
            "standoff": 15
           },
           "zerolinecolor": "#EBF0F8",
           "zerolinewidth": 2
          }
         }
        },
        "title": {
         "text": "<b>Evolution of User Complaints Over Time</b>",
         "x": 0.5
        },
        "xaxis": {
         "anchor": "y",
         "domain": [
          0,
          1
         ],
         "title": {
          "text": "Month"
         }
        },
        "yaxis": {
         "anchor": "x",
         "domain": [
          0,
          1
         ],
         "title": {
          "text": "Number of Negative Reviews"
         }
        }
       }
      }
     },
     "metadata": {},
     "output_type": "display_data"
    }
   ],
   "source": [
    "# --- Visualization: Complaint Themes Over Time (Final Corrected Version) ---\n",
    "\n",
    "# This part of the code remains the same\n",
    "monthly_trends = (\n",
    "    plot_df_time.groupby([pd.Grouper(key=\"date\", freq=\"M\"), \"theme\"])\n",
    "    .size()\n",
    "    .reset_index(name=\"review_count\")\n",
    ")\n",
    "monthly_trends[\"month\"] = monthly_trends[\"date\"].dt.to_period(\"M\").dt.to_timestamp()\n",
    "\n",
    "fig_timeseries = px.line(\n",
    "    monthly_trends,\n",
    "    x=\"month\",\n",
    "    y=\"review_count\",\n",
    "    color=\"theme\",\n",
    "    title=\"<b>Evolution of User Complaints Over Time</b>\",\n",
    "    labels={\"month\": \"Month\", \"review_count\": \"Number of Negative Reviews\"},\n",
    "    template=\"plotly_white\",\n",
    ")\n",
    "\n",
    "# ** THE FINAL FIX IS HERE **\n",
    "# We will convert our event date into the same numerical format that Plotly uses internally for dates.\n",
    "# This is done by getting the timestamp value and converting it to milliseconds.\n",
    "event_timestamp = pd.to_datetime(\"2023-02-01\").timestamp() * 1000\n",
    "\n",
    "fig_timeseries.add_vline(\n",
    "    x=event_timestamp,  # Use the numerical timestamp\n",
    "    line_dash=\"dash\",\n",
    "    line_color=\"red\",\n",
    "    annotation_text=\"Replika ERP Update\",\n",
    "    annotation_position=\"top left\",\n",
    "    annotation_font=dict(color=\"red\"),\n",
    ")\n",
    "\n",
    "# Example for another annotation\n",
    "# wysa_update_timestamp = pd.to_datetime('2022-11-15').timestamp() * 1000\n",
    "# fig_timeseries.add_vline(x=wysa_update_timestamp, line_dash=\"dash\", line_color=\"blue\", annotation_text=\"Wysa v2.0 Launch\")\n",
    "\n",
    "fig_timeseries.update_layout(title_x=0.5, legend_title_text=\"Complaint Theme\")\n",
    "fig_timeseries.show()"
   ]
  },
  {
   "cell_type": "code",
   "execution_count": 33,
   "metadata": {
    "execution": {
     "iopub.execute_input": "2025-07-22T08:37:55.629827Z",
     "iopub.status.busy": "2025-07-22T08:37:55.629059Z",
     "iopub.status.idle": "2025-07-22T08:37:55.694628Z",
     "shell.execute_reply": "2025-07-22T08:37:55.694048Z",
     "shell.execute_reply.started": "2025-07-22T08:37:55.629801Z"
    },
    "trusted": true
   },
   "outputs": [
    {
     "data": {
      "application/vnd.plotly.v1+json": {
       "config": {
        "plotlyServerURL": "https://plot.ly"
       },
       "data": [
        {
         "hovertemplate": "<b>%{y}</b> reviews for <b>%{fullData.name}</b> in %{x|%B %Y}",
         "legendgroup": "AI Performance & Quality",
         "line": {
          "color": "#636efa",
          "dash": "solid"
         },
         "marker": {
          "symbol": "circle"
         },
         "mode": "lines+markers",
         "name": "AI Performance & Quality",
         "orientation": "v",
         "showlegend": true,
         "type": "scatter",
         "x": [
          "2022-01-01T00:00:00.000000000",
          "2022-02-01T00:00:00.000000000",
          "2022-03-01T00:00:00.000000000",
          "2022-04-01T00:00:00.000000000",
          "2022-05-01T00:00:00.000000000",
          "2022-06-01T00:00:00.000000000",
          "2022-07-01T00:00:00.000000000",
          "2022-08-01T00:00:00.000000000",
          "2022-09-01T00:00:00.000000000",
          "2022-10-01T00:00:00.000000000",
          "2022-11-01T00:00:00.000000000",
          "2022-12-01T00:00:00.000000000",
          "2023-01-01T00:00:00.000000000",
          "2023-02-01T00:00:00.000000000",
          "2023-03-01T00:00:00.000000000",
          "2023-04-01T00:00:00.000000000",
          "2023-05-01T00:00:00.000000000",
          "2023-06-01T00:00:00.000000000",
          "2023-07-01T00:00:00.000000000",
          "2023-08-01T00:00:00.000000000",
          "2023-09-01T00:00:00.000000000",
          "2023-10-01T00:00:00.000000000",
          "2023-11-01T00:00:00.000000000",
          "2023-12-01T00:00:00.000000000",
          "2024-01-01T00:00:00.000000000",
          "2024-02-01T00:00:00.000000000",
          "2024-03-01T00:00:00.000000000",
          "2024-04-01T00:00:00.000000000",
          "2024-05-01T00:00:00.000000000",
          "2024-06-01T00:00:00.000000000",
          "2024-07-01T00:00:00.000000000",
          "2024-08-01T00:00:00.000000000",
          "2024-09-01T00:00:00.000000000",
          "2024-10-01T00:00:00.000000000",
          "2024-11-01T00:00:00.000000000",
          "2024-12-01T00:00:00.000000000",
          "2025-01-01T00:00:00.000000000",
          "2025-02-01T00:00:00.000000000",
          "2025-03-01T00:00:00.000000000",
          "2025-04-01T00:00:00.000000000",
          "2025-05-01T00:00:00.000000000",
          "2025-06-01T00:00:00.000000000"
         ],
         "xaxis": "x",
         "y": {
          "bdata": "MgAvACkANgAnAE4AYQBCADwARQBQAEAAUgCLADQAXAAuACAAGgAuABwAFQAbABYAJQAeABkAEgAVAA0AEgALABIADwAQAAoAIAAWABUAFgA5ACQA",
          "dtype": "i2"
         },
         "yaxis": "y"
        },
        {
         "hovertemplate": "<b>%{y}</b> reviews for <b>%{fullData.name}</b> in %{x|%B %Y}",
         "legendgroup": "Feature-Specific Issues",
         "line": {
          "color": "#EF553B",
          "dash": "solid"
         },
         "marker": {
          "symbol": "circle"
         },
         "mode": "lines+markers",
         "name": "Feature-Specific Issues",
         "orientation": "v",
         "showlegend": true,
         "type": "scatter",
         "x": [
          "2022-01-01T00:00:00.000000000",
          "2022-02-01T00:00:00.000000000",
          "2022-03-01T00:00:00.000000000",
          "2022-04-01T00:00:00.000000000",
          "2022-05-01T00:00:00.000000000",
          "2022-06-01T00:00:00.000000000",
          "2022-07-01T00:00:00.000000000",
          "2022-08-01T00:00:00.000000000",
          "2022-09-01T00:00:00.000000000",
          "2022-10-01T00:00:00.000000000",
          "2022-11-01T00:00:00.000000000",
          "2022-12-01T00:00:00.000000000",
          "2023-01-01T00:00:00.000000000",
          "2023-02-01T00:00:00.000000000",
          "2023-03-01T00:00:00.000000000",
          "2023-04-01T00:00:00.000000000",
          "2023-05-01T00:00:00.000000000",
          "2023-06-01T00:00:00.000000000",
          "2023-07-01T00:00:00.000000000",
          "2023-08-01T00:00:00.000000000",
          "2023-09-01T00:00:00.000000000",
          "2023-10-01T00:00:00.000000000",
          "2023-11-01T00:00:00.000000000",
          "2023-12-01T00:00:00.000000000",
          "2024-01-01T00:00:00.000000000",
          "2024-02-01T00:00:00.000000000",
          "2024-03-01T00:00:00.000000000",
          "2024-04-01T00:00:00.000000000",
          "2024-05-01T00:00:00.000000000",
          "2024-06-01T00:00:00.000000000",
          "2024-07-01T00:00:00.000000000",
          "2024-08-01T00:00:00.000000000",
          "2024-09-01T00:00:00.000000000",
          "2024-10-01T00:00:00.000000000",
          "2024-11-01T00:00:00.000000000",
          "2024-12-01T00:00:00.000000000",
          "2025-01-01T00:00:00.000000000",
          "2025-02-01T00:00:00.000000000",
          "2025-03-01T00:00:00.000000000",
          "2025-04-01T00:00:00.000000000",
          "2025-05-01T00:00:00.000000000",
          "2025-06-01T00:00:00.000000000"
         ],
         "xaxis": "x",
         "y": {
          "bdata": "IQAmABgAIwAvAFQATgBpAGQAbAByAIwAcgCYAEwAPwAxAC4ALgAwABkAHgAbACUAFAAZABcAEQAWABYAEAAHAAsADgAMAAwABwATABAADwAZAA8A",
          "dtype": "i2"
         },
         "yaxis": "y"
        },
        {
         "hovertemplate": "<b>%{y}</b> reviews for <b>%{fullData.name}</b> in %{x|%B %Y}",
         "legendgroup": "Monetization & Value",
         "line": {
          "color": "#00cc96",
          "dash": "solid"
         },
         "marker": {
          "symbol": "circle"
         },
         "mode": "lines+markers",
         "name": "Monetization & Value",
         "orientation": "v",
         "showlegend": true,
         "type": "scatter",
         "x": [
          "2022-01-01T00:00:00.000000000",
          "2022-02-01T00:00:00.000000000",
          "2022-03-01T00:00:00.000000000",
          "2022-04-01T00:00:00.000000000",
          "2022-05-01T00:00:00.000000000",
          "2022-06-01T00:00:00.000000000",
          "2022-07-01T00:00:00.000000000",
          "2022-08-01T00:00:00.000000000",
          "2022-09-01T00:00:00.000000000",
          "2022-10-01T00:00:00.000000000",
          "2022-11-01T00:00:00.000000000",
          "2022-12-01T00:00:00.000000000",
          "2023-01-01T00:00:00.000000000",
          "2023-02-01T00:00:00.000000000",
          "2023-03-01T00:00:00.000000000",
          "2023-04-01T00:00:00.000000000",
          "2023-05-01T00:00:00.000000000",
          "2023-06-01T00:00:00.000000000",
          "2023-07-01T00:00:00.000000000",
          "2023-08-01T00:00:00.000000000",
          "2023-09-01T00:00:00.000000000",
          "2023-10-01T00:00:00.000000000",
          "2023-11-01T00:00:00.000000000",
          "2023-12-01T00:00:00.000000000",
          "2024-01-01T00:00:00.000000000",
          "2024-02-01T00:00:00.000000000",
          "2024-03-01T00:00:00.000000000",
          "2024-04-01T00:00:00.000000000",
          "2024-05-01T00:00:00.000000000",
          "2024-06-01T00:00:00.000000000",
          "2024-07-01T00:00:00.000000000",
          "2024-08-01T00:00:00.000000000",
          "2024-09-01T00:00:00.000000000",
          "2024-10-01T00:00:00.000000000",
          "2024-11-01T00:00:00.000000000",
          "2024-12-01T00:00:00.000000000",
          "2025-01-01T00:00:00.000000000",
          "2025-02-01T00:00:00.000000000",
          "2025-03-01T00:00:00.000000000",
          "2025-04-01T00:00:00.000000000",
          "2025-05-01T00:00:00.000000000",
          "2025-06-01T00:00:00.000000000"
         ],
         "xaxis": "x",
         "y": {
          "bdata": "cwBfAG0A1AEEAv4B7AHnAfYBHALxAfcBlwKAA2QCHQJ2ASsB+wD0AJoA3wDDAMcA5wCrAKQAogB/AHcAogB0AHEAgQBwAGwAcABvAFoAZQBoAFoA",
          "dtype": "i2"
         },
         "yaxis": "y"
        },
        {
         "hovertemplate": "<b>%{y}</b> reviews for <b>%{fullData.name}</b> in %{x|%B %Y}",
         "legendgroup": "Technical Performance",
         "line": {
          "color": "#ab63fa",
          "dash": "solid"
         },
         "marker": {
          "symbol": "circle"
         },
         "mode": "lines+markers",
         "name": "Technical Performance",
         "orientation": "v",
         "showlegend": true,
         "type": "scatter",
         "x": [
          "2022-01-01T00:00:00.000000000",
          "2022-02-01T00:00:00.000000000",
          "2022-03-01T00:00:00.000000000",
          "2022-04-01T00:00:00.000000000",
          "2022-05-01T00:00:00.000000000",
          "2022-06-01T00:00:00.000000000",
          "2022-07-01T00:00:00.000000000",
          "2022-08-01T00:00:00.000000000",
          "2022-09-01T00:00:00.000000000",
          "2022-10-01T00:00:00.000000000",
          "2022-11-01T00:00:00.000000000",
          "2022-12-01T00:00:00.000000000",
          "2023-01-01T00:00:00.000000000",
          "2023-02-01T00:00:00.000000000",
          "2023-03-01T00:00:00.000000000",
          "2023-04-01T00:00:00.000000000",
          "2023-05-01T00:00:00.000000000",
          "2023-06-01T00:00:00.000000000",
          "2023-07-01T00:00:00.000000000",
          "2023-08-01T00:00:00.000000000",
          "2023-09-01T00:00:00.000000000",
          "2023-10-01T00:00:00.000000000",
          "2023-11-01T00:00:00.000000000",
          "2023-12-01T00:00:00.000000000",
          "2024-01-01T00:00:00.000000000",
          "2024-02-01T00:00:00.000000000",
          "2024-03-01T00:00:00.000000000",
          "2024-04-01T00:00:00.000000000",
          "2024-05-01T00:00:00.000000000",
          "2024-06-01T00:00:00.000000000",
          "2024-07-01T00:00:00.000000000",
          "2024-08-01T00:00:00.000000000",
          "2024-09-01T00:00:00.000000000",
          "2024-10-01T00:00:00.000000000",
          "2024-11-01T00:00:00.000000000",
          "2024-12-01T00:00:00.000000000",
          "2025-01-01T00:00:00.000000000",
          "2025-02-01T00:00:00.000000000",
          "2025-03-01T00:00:00.000000000",
          "2025-04-01T00:00:00.000000000",
          "2025-05-01T00:00:00.000000000",
          "2025-06-01T00:00:00.000000000"
         ],
         "xaxis": "x",
         "y": {
          "bdata": "IgBHAD8AHQAlAB4AIQAlACkANQAzADkALwCGAEAAQAAsAC8AHQAaAA0ADgASABAAEgAPAAkACgANAAcACAALAAgACQAHAAgABgANAA0ADAAfAAoA",
          "dtype": "i2"
         },
         "yaxis": "y"
        }
       ],
       "layout": {
        "annotations": [
         {
          "arrowhead": 1,
          "bgcolor": "white",
          "bordercolor": "red",
          "borderwidth": 1,
          "opacity": 0.8,
          "showarrow": true,
          "text": "<b>Replika ERP Update</b><br>Feb 2023",
          "x": 1675209600000,
          "y": 806.4
         }
        ],
        "font": {
         "size": 12
        },
        "legend": {
         "title": {
          "text": "Complaint Theme"
         },
         "tracegroupgap": 0
        },
        "shapes": [
         {
          "line": {
           "color": "red",
           "dash": "dash"
          },
          "opacity": 0.8,
          "type": "line",
          "x0": 1675209600000,
          "x1": 1675209600000,
          "xref": "x",
          "y0": 0,
          "y1": 1,
          "yref": "y domain"
         }
        ],
        "template": {
         "data": {
          "bar": [
           {
            "error_x": {
             "color": "#2a3f5f"
            },
            "error_y": {
             "color": "#2a3f5f"
            },
            "marker": {
             "line": {
              "color": "white",
              "width": 0.5
             },
             "pattern": {
              "fillmode": "overlay",
              "size": 10,
              "solidity": 0.2
             }
            },
            "type": "bar"
           }
          ],
          "barpolar": [
           {
            "marker": {
             "line": {
              "color": "white",
              "width": 0.5
             },
             "pattern": {
              "fillmode": "overlay",
              "size": 10,
              "solidity": 0.2
             }
            },
            "type": "barpolar"
           }
          ],
          "carpet": [
           {
            "aaxis": {
             "endlinecolor": "#2a3f5f",
             "gridcolor": "#C8D4E3",
             "linecolor": "#C8D4E3",
             "minorgridcolor": "#C8D4E3",
             "startlinecolor": "#2a3f5f"
            },
            "baxis": {
             "endlinecolor": "#2a3f5f",
             "gridcolor": "#C8D4E3",
             "linecolor": "#C8D4E3",
             "minorgridcolor": "#C8D4E3",
             "startlinecolor": "#2a3f5f"
            },
            "type": "carpet"
           }
          ],
          "choropleth": [
           {
            "colorbar": {
             "outlinewidth": 0,
             "ticks": ""
            },
            "type": "choropleth"
           }
          ],
          "contour": [
           {
            "colorbar": {
             "outlinewidth": 0,
             "ticks": ""
            },
            "colorscale": [
             [
              0,
              "#0d0887"
             ],
             [
              0.1111111111111111,
              "#46039f"
             ],
             [
              0.2222222222222222,
              "#7201a8"
             ],
             [
              0.3333333333333333,
              "#9c179e"
             ],
             [
              0.4444444444444444,
              "#bd3786"
             ],
             [
              0.5555555555555556,
              "#d8576b"
             ],
             [
              0.6666666666666666,
              "#ed7953"
             ],
             [
              0.7777777777777778,
              "#fb9f3a"
             ],
             [
              0.8888888888888888,
              "#fdca26"
             ],
             [
              1,
              "#f0f921"
             ]
            ],
            "type": "contour"
           }
          ],
          "contourcarpet": [
           {
            "colorbar": {
             "outlinewidth": 0,
             "ticks": ""
            },
            "type": "contourcarpet"
           }
          ],
          "heatmap": [
           {
            "colorbar": {
             "outlinewidth": 0,
             "ticks": ""
            },
            "colorscale": [
             [
              0,
              "#0d0887"
             ],
             [
              0.1111111111111111,
              "#46039f"
             ],
             [
              0.2222222222222222,
              "#7201a8"
             ],
             [
              0.3333333333333333,
              "#9c179e"
             ],
             [
              0.4444444444444444,
              "#bd3786"
             ],
             [
              0.5555555555555556,
              "#d8576b"
             ],
             [
              0.6666666666666666,
              "#ed7953"
             ],
             [
              0.7777777777777778,
              "#fb9f3a"
             ],
             [
              0.8888888888888888,
              "#fdca26"
             ],
             [
              1,
              "#f0f921"
             ]
            ],
            "type": "heatmap"
           }
          ],
          "histogram": [
           {
            "marker": {
             "pattern": {
              "fillmode": "overlay",
              "size": 10,
              "solidity": 0.2
             }
            },
            "type": "histogram"
           }
          ],
          "histogram2d": [
           {
            "colorbar": {
             "outlinewidth": 0,
             "ticks": ""
            },
            "colorscale": [
             [
              0,
              "#0d0887"
             ],
             [
              0.1111111111111111,
              "#46039f"
             ],
             [
              0.2222222222222222,
              "#7201a8"
             ],
             [
              0.3333333333333333,
              "#9c179e"
             ],
             [
              0.4444444444444444,
              "#bd3786"
             ],
             [
              0.5555555555555556,
              "#d8576b"
             ],
             [
              0.6666666666666666,
              "#ed7953"
             ],
             [
              0.7777777777777778,
              "#fb9f3a"
             ],
             [
              0.8888888888888888,
              "#fdca26"
             ],
             [
              1,
              "#f0f921"
             ]
            ],
            "type": "histogram2d"
           }
          ],
          "histogram2dcontour": [
           {
            "colorbar": {
             "outlinewidth": 0,
             "ticks": ""
            },
            "colorscale": [
             [
              0,
              "#0d0887"
             ],
             [
              0.1111111111111111,
              "#46039f"
             ],
             [
              0.2222222222222222,
              "#7201a8"
             ],
             [
              0.3333333333333333,
              "#9c179e"
             ],
             [
              0.4444444444444444,
              "#bd3786"
             ],
             [
              0.5555555555555556,
              "#d8576b"
             ],
             [
              0.6666666666666666,
              "#ed7953"
             ],
             [
              0.7777777777777778,
              "#fb9f3a"
             ],
             [
              0.8888888888888888,
              "#fdca26"
             ],
             [
              1,
              "#f0f921"
             ]
            ],
            "type": "histogram2dcontour"
           }
          ],
          "mesh3d": [
           {
            "colorbar": {
             "outlinewidth": 0,
             "ticks": ""
            },
            "type": "mesh3d"
           }
          ],
          "parcoords": [
           {
            "line": {
             "colorbar": {
              "outlinewidth": 0,
              "ticks": ""
             }
            },
            "type": "parcoords"
           }
          ],
          "pie": [
           {
            "automargin": true,
            "type": "pie"
           }
          ],
          "scatter": [
           {
            "fillpattern": {
             "fillmode": "overlay",
             "size": 10,
             "solidity": 0.2
            },
            "type": "scatter"
           }
          ],
          "scatter3d": [
           {
            "line": {
             "colorbar": {
              "outlinewidth": 0,
              "ticks": ""
             }
            },
            "marker": {
             "colorbar": {
              "outlinewidth": 0,
              "ticks": ""
             }
            },
            "type": "scatter3d"
           }
          ],
          "scattercarpet": [
           {
            "marker": {
             "colorbar": {
              "outlinewidth": 0,
              "ticks": ""
             }
            },
            "type": "scattercarpet"
           }
          ],
          "scattergeo": [
           {
            "marker": {
             "colorbar": {
              "outlinewidth": 0,
              "ticks": ""
             }
            },
            "type": "scattergeo"
           }
          ],
          "scattergl": [
           {
            "marker": {
             "colorbar": {
              "outlinewidth": 0,
              "ticks": ""
             }
            },
            "type": "scattergl"
           }
          ],
          "scattermap": [
           {
            "marker": {
             "colorbar": {
              "outlinewidth": 0,
              "ticks": ""
             }
            },
            "type": "scattermap"
           }
          ],
          "scattermapbox": [
           {
            "marker": {
             "colorbar": {
              "outlinewidth": 0,
              "ticks": ""
             }
            },
            "type": "scattermapbox"
           }
          ],
          "scatterpolar": [
           {
            "marker": {
             "colorbar": {
              "outlinewidth": 0,
              "ticks": ""
             }
            },
            "type": "scatterpolar"
           }
          ],
          "scatterpolargl": [
           {
            "marker": {
             "colorbar": {
              "outlinewidth": 0,
              "ticks": ""
             }
            },
            "type": "scatterpolargl"
           }
          ],
          "scatterternary": [
           {
            "marker": {
             "colorbar": {
              "outlinewidth": 0,
              "ticks": ""
             }
            },
            "type": "scatterternary"
           }
          ],
          "surface": [
           {
            "colorbar": {
             "outlinewidth": 0,
             "ticks": ""
            },
            "colorscale": [
             [
              0,
              "#0d0887"
             ],
             [
              0.1111111111111111,
              "#46039f"
             ],
             [
              0.2222222222222222,
              "#7201a8"
             ],
             [
              0.3333333333333333,
              "#9c179e"
             ],
             [
              0.4444444444444444,
              "#bd3786"
             ],
             [
              0.5555555555555556,
              "#d8576b"
             ],
             [
              0.6666666666666666,
              "#ed7953"
             ],
             [
              0.7777777777777778,
              "#fb9f3a"
             ],
             [
              0.8888888888888888,
              "#fdca26"
             ],
             [
              1,
              "#f0f921"
             ]
            ],
            "type": "surface"
           }
          ],
          "table": [
           {
            "cells": {
             "fill": {
              "color": "#EBF0F8"
             },
             "line": {
              "color": "white"
             }
            },
            "header": {
             "fill": {
              "color": "#C8D4E3"
             },
             "line": {
              "color": "white"
             }
            },
            "type": "table"
           }
          ]
         },
         "layout": {
          "annotationdefaults": {
           "arrowcolor": "#2a3f5f",
           "arrowhead": 0,
           "arrowwidth": 1
          },
          "autotypenumbers": "strict",
          "coloraxis": {
           "colorbar": {
            "outlinewidth": 0,
            "ticks": ""
           }
          },
          "colorscale": {
           "diverging": [
            [
             0,
             "#8e0152"
            ],
            [
             0.1,
             "#c51b7d"
            ],
            [
             0.2,
             "#de77ae"
            ],
            [
             0.3,
             "#f1b6da"
            ],
            [
             0.4,
             "#fde0ef"
            ],
            [
             0.5,
             "#f7f7f7"
            ],
            [
             0.6,
             "#e6f5d0"
            ],
            [
             0.7,
             "#b8e186"
            ],
            [
             0.8,
             "#7fbc41"
            ],
            [
             0.9,
             "#4d9221"
            ],
            [
             1,
             "#276419"
            ]
           ],
           "sequential": [
            [
             0,
             "#0d0887"
            ],
            [
             0.1111111111111111,
             "#46039f"
            ],
            [
             0.2222222222222222,
             "#7201a8"
            ],
            [
             0.3333333333333333,
             "#9c179e"
            ],
            [
             0.4444444444444444,
             "#bd3786"
            ],
            [
             0.5555555555555556,
             "#d8576b"
            ],
            [
             0.6666666666666666,
             "#ed7953"
            ],
            [
             0.7777777777777778,
             "#fb9f3a"
            ],
            [
             0.8888888888888888,
             "#fdca26"
            ],
            [
             1,
             "#f0f921"
            ]
           ],
           "sequentialminus": [
            [
             0,
             "#0d0887"
            ],
            [
             0.1111111111111111,
             "#46039f"
            ],
            [
             0.2222222222222222,
             "#7201a8"
            ],
            [
             0.3333333333333333,
             "#9c179e"
            ],
            [
             0.4444444444444444,
             "#bd3786"
            ],
            [
             0.5555555555555556,
             "#d8576b"
            ],
            [
             0.6666666666666666,
             "#ed7953"
            ],
            [
             0.7777777777777778,
             "#fb9f3a"
            ],
            [
             0.8888888888888888,
             "#fdca26"
            ],
            [
             1,
             "#f0f921"
            ]
           ]
          },
          "colorway": [
           "#636efa",
           "#EF553B",
           "#00cc96",
           "#ab63fa",
           "#FFA15A",
           "#19d3f3",
           "#FF6692",
           "#B6E880",
           "#FF97FF",
           "#FECB52"
          ],
          "font": {
           "color": "#2a3f5f"
          },
          "geo": {
           "bgcolor": "white",
           "lakecolor": "white",
           "landcolor": "white",
           "showlakes": true,
           "showland": true,
           "subunitcolor": "#C8D4E3"
          },
          "hoverlabel": {
           "align": "left"
          },
          "hovermode": "closest",
          "mapbox": {
           "style": "light"
          },
          "paper_bgcolor": "white",
          "plot_bgcolor": "white",
          "polar": {
           "angularaxis": {
            "gridcolor": "#EBF0F8",
            "linecolor": "#EBF0F8",
            "ticks": ""
           },
           "bgcolor": "white",
           "radialaxis": {
            "gridcolor": "#EBF0F8",
            "linecolor": "#EBF0F8",
            "ticks": ""
           }
          },
          "scene": {
           "xaxis": {
            "backgroundcolor": "white",
            "gridcolor": "#DFE8F3",
            "gridwidth": 2,
            "linecolor": "#EBF0F8",
            "showbackground": true,
            "ticks": "",
            "zerolinecolor": "#EBF0F8"
           },
           "yaxis": {
            "backgroundcolor": "white",
            "gridcolor": "#DFE8F3",
            "gridwidth": 2,
            "linecolor": "#EBF0F8",
            "showbackground": true,
            "ticks": "",
            "zerolinecolor": "#EBF0F8"
           },
           "zaxis": {
            "backgroundcolor": "white",
            "gridcolor": "#DFE8F3",
            "gridwidth": 2,
            "linecolor": "#EBF0F8",
            "showbackground": true,
            "ticks": "",
            "zerolinecolor": "#EBF0F8"
           }
          },
          "shapedefaults": {
           "line": {
            "color": "#2a3f5f"
           }
          },
          "ternary": {
           "aaxis": {
            "gridcolor": "#DFE8F3",
            "linecolor": "#A2B1C6",
            "ticks": ""
           },
           "baxis": {
            "gridcolor": "#DFE8F3",
            "linecolor": "#A2B1C6",
            "ticks": ""
           },
           "bgcolor": "white",
           "caxis": {
            "gridcolor": "#DFE8F3",
            "linecolor": "#A2B1C6",
            "ticks": ""
           }
          },
          "title": {
           "x": 0.05
          },
          "xaxis": {
           "automargin": true,
           "gridcolor": "#EBF0F8",
           "linecolor": "#EBF0F8",
           "ticks": "",
           "title": {
            "standoff": 15
           },
           "zerolinecolor": "#EBF0F8",
           "zerolinewidth": 2
          },
          "yaxis": {
           "automargin": true,
           "gridcolor": "#EBF0F8",
           "linecolor": "#EBF0F8",
           "ticks": "",
           "title": {
            "standoff": 15
           },
           "zerolinecolor": "#EBF0F8",
           "zerolinewidth": 2
          }
         }
        },
        "title": {
         "text": "<b>Evolution of User Complaints Over Time</b>",
         "x": 0.5
        },
        "xaxis": {
         "anchor": "y",
         "domain": [
          0,
          1
         ],
         "title": {
          "text": "Month"
         }
        },
        "yaxis": {
         "anchor": "x",
         "domain": [
          0,
          1
         ],
         "title": {
          "text": "Number of Negative Reviews"
         }
        }
       }
      }
     },
     "metadata": {},
     "output_type": "display_data"
    }
   ],
   "source": [
    "# --- Visualization 1: ENHANCED Complaint Themes Over Time ---\n",
    "\n",
    "fig_timeseries = px.line(\n",
    "    monthly_trends,\n",
    "    x=\"month\",\n",
    "    y=\"review_count\",\n",
    "    color=\"theme\",\n",
    "    markers=True,  # Add markers to each data point for clarity\n",
    "    title=\"<b>Evolution of User Complaints Over Time</b>\",\n",
    "    labels={\"month\": \"Month\", \"review_count\": \"Number of Negative Reviews\"},\n",
    "    template=\"plotly_white\",\n",
    ")\n",
    "\n",
    "# --- Add Richer Annotations ---\n",
    "event_timestamp = pd.to_datetime(\"2023-02-01\").timestamp() * 1000\n",
    "\n",
    "fig_timeseries.add_vline(\n",
    "    x=event_timestamp, line_dash=\"dash\", line_color=\"red\", opacity=0.8\n",
    ")\n",
    "\n",
    "# Add a more descriptive annotation with a border and background\n",
    "fig_timeseries.add_annotation(\n",
    "    x=event_timestamp,\n",
    "    y=monthly_trends[\"review_count\"].max() * 0.9,  # Position annotation near the top\n",
    "    text=\"<b>Replika ERP Update</b><br>Feb 2023\",\n",
    "    showarrow=True,\n",
    "    arrowhead=1,\n",
    "    bordercolor=\"red\",\n",
    "    borderwidth=1,\n",
    "    bgcolor=\"white\",\n",
    "    opacity=0.8,\n",
    ")\n",
    "\n",
    "\n",
    "# --- Improve Layout and Hover Data ---\n",
    "fig_timeseries.update_traces(\n",
    "    hovertemplate=\"<b>%{y}</b> reviews for <b>%{fullData.name}</b> in %{x|%B %Y}\"\n",
    ")\n",
    "fig_timeseries.update_layout(\n",
    "    title_x=0.5, legend_title_text=\"Complaint Theme\", font=dict(size=12)\n",
    ")\n",
    "fig_timeseries.show()"
   ]
  },
  {
   "cell_type": "code",
   "execution_count": 34,
   "metadata": {
    "execution": {
     "iopub.execute_input": "2025-07-22T08:37:58.130919Z",
     "iopub.status.busy": "2025-07-22T08:37:58.130628Z",
     "iopub.status.idle": "2025-07-22T08:37:58.200296Z",
     "shell.execute_reply": "2025-07-22T08:37:58.199626Z",
     "shell.execute_reply.started": "2025-07-22T08:37:58.130900Z"
    },
    "trusted": true
   },
   "outputs": [
    {
     "data": {
      "application/vnd.plotly.v1+json": {
       "config": {
        "plotlyServerURL": "https://plot.ly"
       },
       "data": [
        {
         "fillpattern": {
          "shape": ""
         },
         "groupnorm": "percent",
         "hovertemplate": "theme=AI Performance & Quality<br>Month=%{x}<br>Percentage of Complaints=%{y}<extra></extra>",
         "legendgroup": "AI Performance & Quality",
         "line": {
          "color": "#636efa"
         },
         "marker": {
          "symbol": "circle"
         },
         "mode": "lines",
         "name": "AI Performance & Quality",
         "orientation": "v",
         "showlegend": true,
         "stackgroup": "1",
         "type": "scatter",
         "x": [
          "2022-01-01T00:00:00.000000000",
          "2022-02-01T00:00:00.000000000",
          "2022-03-01T00:00:00.000000000",
          "2022-04-01T00:00:00.000000000",
          "2022-05-01T00:00:00.000000000",
          "2022-06-01T00:00:00.000000000",
          "2022-07-01T00:00:00.000000000",
          "2022-08-01T00:00:00.000000000",
          "2022-09-01T00:00:00.000000000",
          "2022-10-01T00:00:00.000000000",
          "2022-11-01T00:00:00.000000000",
          "2022-12-01T00:00:00.000000000",
          "2023-01-01T00:00:00.000000000",
          "2023-02-01T00:00:00.000000000",
          "2023-03-01T00:00:00.000000000",
          "2023-04-01T00:00:00.000000000",
          "2023-05-01T00:00:00.000000000",
          "2023-06-01T00:00:00.000000000",
          "2023-07-01T00:00:00.000000000",
          "2023-08-01T00:00:00.000000000",
          "2023-09-01T00:00:00.000000000",
          "2023-10-01T00:00:00.000000000",
          "2023-11-01T00:00:00.000000000",
          "2023-12-01T00:00:00.000000000",
          "2024-01-01T00:00:00.000000000",
          "2024-02-01T00:00:00.000000000",
          "2024-03-01T00:00:00.000000000",
          "2024-04-01T00:00:00.000000000",
          "2024-05-01T00:00:00.000000000",
          "2024-06-01T00:00:00.000000000",
          "2024-07-01T00:00:00.000000000",
          "2024-08-01T00:00:00.000000000",
          "2024-09-01T00:00:00.000000000",
          "2024-10-01T00:00:00.000000000",
          "2024-11-01T00:00:00.000000000",
          "2024-12-01T00:00:00.000000000",
          "2025-01-01T00:00:00.000000000",
          "2025-02-01T00:00:00.000000000",
          "2025-03-01T00:00:00.000000000",
          "2025-04-01T00:00:00.000000000",
          "2025-05-01T00:00:00.000000000",
          "2025-06-01T00:00:00.000000000"
         ],
         "xaxis": "x",
         "y": {
          "bdata": "GmG5pxGWyz9mFAQ01/fHP/TW/cm5JMY/bYdBUSeXtz+hkm4Usz+vPxzHcRzHcbw/mOjvZLW8wT8RvuQFkE+4P5ZdwVNm2bU/OinC3LTwtj85Gj5C4Jm7PzprUDztcbU/D65crIMrtz9XQJRL6u+6P624d5KljrA/1e+5JU79vj9IbyG9hfS2P8F4K/scUrM/6aKLLrrosj/QAi3QAi3AP0qQpwR5SsA/q6qqqqqqsj+e8YxnPOO5P3/curwDjrQ/n0n0nkn0vj8gAt4fAt6/Px2T9RyT9bw/ZCELWchCtj/nfYpLhmC9P91Vigm6q7Q/l5aWlpaWtj8luzZRsmuzP7gehetRuL4/RfWgkXf+tj/3BpSJK927PynxM0r8jLI/Akt6+dMWyj8RERERERHBPzMzMzMzM8M/xpJfLPnFwj+GPkOfoc/QP/QQegg9hM4/",
          "dtype": "f8"
         },
         "yaxis": "y"
        },
        {
         "fillpattern": {
          "shape": ""
         },
         "groupnorm": "percent",
         "hovertemplate": "theme=Feature-Specific Issues<br>Month=%{x}<br>Percentage of Complaints=%{y}<extra></extra>",
         "legendgroup": "Feature-Specific Issues",
         "line": {
          "color": "#EF553B"
         },
         "marker": {
          "symbol": "circle"
         },
         "mode": "lines",
         "name": "Feature-Specific Issues",
         "orientation": "v",
         "showlegend": true,
         "stackgroup": "1",
         "type": "scatter",
         "x": [
          "2022-01-01T00:00:00.000000000",
          "2022-02-01T00:00:00.000000000",
          "2022-03-01T00:00:00.000000000",
          "2022-04-01T00:00:00.000000000",
          "2022-05-01T00:00:00.000000000",
          "2022-06-01T00:00:00.000000000",
          "2022-07-01T00:00:00.000000000",
          "2022-08-01T00:00:00.000000000",
          "2022-09-01T00:00:00.000000000",
          "2022-10-01T00:00:00.000000000",
          "2022-11-01T00:00:00.000000000",
          "2022-12-01T00:00:00.000000000",
          "2023-01-01T00:00:00.000000000",
          "2023-02-01T00:00:00.000000000",
          "2023-03-01T00:00:00.000000000",
          "2023-04-01T00:00:00.000000000",
          "2023-05-01T00:00:00.000000000",
          "2023-06-01T00:00:00.000000000",
          "2023-07-01T00:00:00.000000000",
          "2023-08-01T00:00:00.000000000",
          "2023-09-01T00:00:00.000000000",
          "2023-10-01T00:00:00.000000000",
          "2023-11-01T00:00:00.000000000",
          "2023-12-01T00:00:00.000000000",
          "2024-01-01T00:00:00.000000000",
          "2024-02-01T00:00:00.000000000",
          "2024-03-01T00:00:00.000000000",
          "2024-04-01T00:00:00.000000000",
          "2024-05-01T00:00:00.000000000",
          "2024-06-01T00:00:00.000000000",
          "2024-07-01T00:00:00.000000000",
          "2024-08-01T00:00:00.000000000",
          "2024-09-01T00:00:00.000000000",
          "2024-10-01T00:00:00.000000000",
          "2024-11-01T00:00:00.000000000",
          "2024-12-01T00:00:00.000000000",
          "2025-01-01T00:00:00.000000000",
          "2025-02-01T00:00:00.000000000",
          "2025-03-01T00:00:00.000000000",
          "2025-04-01T00:00:00.000000000",
          "2025-05-01T00:00:00.000000000",
          "2025-06-01T00:00:00.000000000"
         ],
         "xaxis": "x",
         "y": {
          "bdata": "c08jLPc0wj/FjU925GDDP9kzEJWO7Lk/0CrjTIiUrj/E6MXuVNSyPx/qoR7qob4/0C4gNpWGvD8C3Zinj1bDP1MjIZsqNcI/hjau+gf0wT98P8zIb6rDP0f193mbdMc/gWxANiAbwD+TLIpf23S9P4fmc/3xMrg/iVO/55Y4tT88h/EcxnO4P5Z9DqkJxrs/uuiiiy66wD8RDuEQDuHAPxdddNFFF70/q6qqqqqquj+e8YxnPOO5P8ityzvgSME/EWa7EGa7sD8bV44aV466Pxt9pBp9pLo/pmbD/i4GtT8WkC8Spca+P8++iGqdfcE/FBQUFBQUtD/SeYshnbeoP8aSXyz5xbI/QDqWMgl2tT85BS+n4OW0P2QhC1nIQrY/oQFLevnTpj97HanXkXq9Px3UQR3UQb0/mpmZmZmZuT/s+HX8On69P8u4Zdwybrk/",
          "dtype": "f8"
         },
         "yaxis": "y"
        },
        {
         "fillpattern": {
          "shape": ""
         },
         "groupnorm": "percent",
         "hovertemplate": "theme=Monetization & Value<br>Month=%{x}<br>Percentage of Complaints=%{y}<extra></extra>",
         "legendgroup": "Monetization & Value",
         "line": {
          "color": "#00cc96"
         },
         "marker": {
          "symbol": "circle"
         },
         "mode": "lines",
         "name": "Monetization & Value",
         "orientation": "v",
         "showlegend": true,
         "stackgroup": "1",
         "type": "scatter",
         "x": [
          "2022-01-01T00:00:00.000000000",
          "2022-02-01T00:00:00.000000000",
          "2022-03-01T00:00:00.000000000",
          "2022-04-01T00:00:00.000000000",
          "2022-05-01T00:00:00.000000000",
          "2022-06-01T00:00:00.000000000",
          "2022-07-01T00:00:00.000000000",
          "2022-08-01T00:00:00.000000000",
          "2022-09-01T00:00:00.000000000",
          "2022-10-01T00:00:00.000000000",
          "2022-11-01T00:00:00.000000000",
          "2022-12-01T00:00:00.000000000",
          "2023-01-01T00:00:00.000000000",
          "2023-02-01T00:00:00.000000000",
          "2023-03-01T00:00:00.000000000",
          "2023-04-01T00:00:00.000000000",
          "2023-05-01T00:00:00.000000000",
          "2023-06-01T00:00:00.000000000",
          "2023-07-01T00:00:00.000000000",
          "2023-08-01T00:00:00.000000000",
          "2023-09-01T00:00:00.000000000",
          "2023-10-01T00:00:00.000000000",
          "2023-11-01T00:00:00.000000000",
          "2023-12-01T00:00:00.000000000",
          "2024-01-01T00:00:00.000000000",
          "2024-02-01T00:00:00.000000000",
          "2024-03-01T00:00:00.000000000",
          "2024-04-01T00:00:00.000000000",
          "2024-05-01T00:00:00.000000000",
          "2024-06-01T00:00:00.000000000",
          "2024-07-01T00:00:00.000000000",
          "2024-08-01T00:00:00.000000000",
          "2024-09-01T00:00:00.000000000",
          "2024-10-01T00:00:00.000000000",
          "2024-11-01T00:00:00.000000000",
          "2024-12-01T00:00:00.000000000",
          "2025-01-01T00:00:00.000000000",
          "2025-02-01T00:00:00.000000000",
          "2025-03-01T00:00:00.000000000",
          "2025-04-01T00:00:00.000000000",
          "2025-05-01T00:00:00.000000000",
          "2025-06-01T00:00:00.000000000"
         ],
         "xaxis": "x",
         "y": {
          "bdata": "EpZ7GmG53z82ceOTHTnYP4ll6uNBb90/Yf0GmGqO6T+P5b3aItfpP/dzP/dzP+c/EJtKQ8595j8JWHckS2zmP5xt7YzD2eY/KMRZ+Qlx5j/2OaQmGG/lP1cBwZBsEeU/O6ud1c5q5z9RLqm/a7TlPybSA5WzW+g/d6xAGGnH5j9FdRXVVVTnPwrGW9nnkOY/0UUXXXTR5j81V3M1V3PlP2ZmZmZmZuY/chzHcRzH6D92r3vd617nP5UwNguqPec/KCgoKCgo6D+3lLS2lLTmP5ghv5chv+c/kYUsZCEL6T+zgHyRKDXmP3rTm970puc/aWlpaWlp6T+amZmZmZnpPxvotIFOG+g/qgeNvPO36D8YhmEYhmHoP5GFLGQhC+k/oQFLevnT5j+HtW9Y+4blPyVJkiRJkuQ/jCW/WPKL5T/1sHpYPazeP5lKTCWmEuM/",
          "dtype": "f8"
         },
         "yaxis": "y"
        },
        {
         "fillpattern": {
          "shape": ""
         },
         "groupnorm": "percent",
         "hovertemplate": "theme=Technical Performance<br>Month=%{x}<br>Percentage of Complaints=%{y}<extra></extra>",
         "legendgroup": "Technical Performance",
         "line": {
          "color": "#ab63fa"
         },
         "marker": {
          "symbol": "circle"
         },
         "mode": "lines",
         "name": "Technical Performance",
         "orientation": "v",
         "showlegend": true,
         "stackgroup": "1",
         "type": "scatter",
         "x": [
          "2022-01-01T00:00:00.000000000",
          "2022-02-01T00:00:00.000000000",
          "2022-03-01T00:00:00.000000000",
          "2022-04-01T00:00:00.000000000",
          "2022-05-01T00:00:00.000000000",
          "2022-06-01T00:00:00.000000000",
          "2022-07-01T00:00:00.000000000",
          "2022-08-01T00:00:00.000000000",
          "2022-09-01T00:00:00.000000000",
          "2022-10-01T00:00:00.000000000",
          "2022-11-01T00:00:00.000000000",
          "2022-12-01T00:00:00.000000000",
          "2023-01-01T00:00:00.000000000",
          "2023-02-01T00:00:00.000000000",
          "2023-03-01T00:00:00.000000000",
          "2023-04-01T00:00:00.000000000",
          "2023-05-01T00:00:00.000000000",
          "2023-06-01T00:00:00.000000000",
          "2023-07-01T00:00:00.000000000",
          "2023-08-01T00:00:00.000000000",
          "2023-09-01T00:00:00.000000000",
          "2023-10-01T00:00:00.000000000",
          "2023-11-01T00:00:00.000000000",
          "2023-12-01T00:00:00.000000000",
          "2024-01-01T00:00:00.000000000",
          "2024-02-01T00:00:00.000000000",
          "2024-03-01T00:00:00.000000000",
          "2024-04-01T00:00:00.000000000",
          "2024-05-01T00:00:00.000000000",
          "2024-06-01T00:00:00.000000000",
          "2024-07-01T00:00:00.000000000",
          "2024-08-01T00:00:00.000000000",
          "2024-09-01T00:00:00.000000000",
          "2024-10-01T00:00:00.000000000",
          "2024-11-01T00:00:00.000000000",
          "2024-12-01T00:00:00.000000000",
          "2025-01-01T00:00:00.000000000",
          "2025-02-01T00:00:00.000000000",
          "2025-03-01T00:00:00.000000000",
          "2025-04-01T00:00:00.000000000",
          "2025-05-01T00:00:00.000000000",
          "2025-06-01T00:00:00.000000000"
         ],
         "xaxis": "x",
         "y": {
          "bdata": "TyMs9zTCwj+1vfKWhBrSPwai0pE9A9E/RvApkH9WqT/oQididaWtPxZe4RVe4aU//05WyxsjqD9Jj10O70GrP8XdIR1Q3K0/ekgTY+uesT8elwf3fpixP3+ft0l3GbM/Kj5qdIqPqj+PIJhX3Pe5P5rP9cfLYLQ/7ViBMNKOtT9QX0F9BfW1P1zZ55CaYLw/F1100UUXtT+SJEmSJEmyP0GeEuQpQa4/OY7jOI7jqD8UoQhFKEKxP4qG+OPW5a0/Hh4eHh4erj8gAt4fAt6vPxXG2RTG2aQ/4ZaaDfu7qD9q7GEWkC+yP2QhC1nIQqY/FBQUFBQUpD8luzZRsmuzP08b6LSBTqs/UybBrsKXqz8YhmEYhmGoP9uBuXZgrq0/Qbgb+x6Roz8rFLdCcSu0P1h8xVd8xbc/exSuR+F6tD+SJEmSJEnCP4jQQ+gh9LA/",
          "dtype": "f8"
         },
         "yaxis": "y"
        }
       ],
       "layout": {
        "annotations": [
         {
          "arrowhead": 1,
          "ax": 0,
          "ay": -40,
          "bgcolor": "white",
          "bordercolor": "black",
          "borderwidth": 1,
          "opacity": 0.8,
          "showarrow": true,
          "text": "<b>Replika ERP<br>Update</b>",
          "x": 1675209600000,
          "y": 90
         }
        ],
        "legend": {
         "title": {
          "text": "Complaint Theme"
         },
         "tracegroupgap": 0
        },
        "shapes": [
         {
          "line": {
           "color": "black",
           "dash": "dash",
           "width": 2
          },
          "opacity": 1,
          "type": "line",
          "x0": 1675209600000,
          "x1": 1675209600000,
          "xref": "x",
          "y0": 0,
          "y1": 1,
          "yref": "y domain"
         }
        ],
        "template": {
         "data": {
          "bar": [
           {
            "error_x": {
             "color": "#2a3f5f"
            },
            "error_y": {
             "color": "#2a3f5f"
            },
            "marker": {
             "line": {
              "color": "white",
              "width": 0.5
             },
             "pattern": {
              "fillmode": "overlay",
              "size": 10,
              "solidity": 0.2
             }
            },
            "type": "bar"
           }
          ],
          "barpolar": [
           {
            "marker": {
             "line": {
              "color": "white",
              "width": 0.5
             },
             "pattern": {
              "fillmode": "overlay",
              "size": 10,
              "solidity": 0.2
             }
            },
            "type": "barpolar"
           }
          ],
          "carpet": [
           {
            "aaxis": {
             "endlinecolor": "#2a3f5f",
             "gridcolor": "#C8D4E3",
             "linecolor": "#C8D4E3",
             "minorgridcolor": "#C8D4E3",
             "startlinecolor": "#2a3f5f"
            },
            "baxis": {
             "endlinecolor": "#2a3f5f",
             "gridcolor": "#C8D4E3",
             "linecolor": "#C8D4E3",
             "minorgridcolor": "#C8D4E3",
             "startlinecolor": "#2a3f5f"
            },
            "type": "carpet"
           }
          ],
          "choropleth": [
           {
            "colorbar": {
             "outlinewidth": 0,
             "ticks": ""
            },
            "type": "choropleth"
           }
          ],
          "contour": [
           {
            "colorbar": {
             "outlinewidth": 0,
             "ticks": ""
            },
            "colorscale": [
             [
              0,
              "#0d0887"
             ],
             [
              0.1111111111111111,
              "#46039f"
             ],
             [
              0.2222222222222222,
              "#7201a8"
             ],
             [
              0.3333333333333333,
              "#9c179e"
             ],
             [
              0.4444444444444444,
              "#bd3786"
             ],
             [
              0.5555555555555556,
              "#d8576b"
             ],
             [
              0.6666666666666666,
              "#ed7953"
             ],
             [
              0.7777777777777778,
              "#fb9f3a"
             ],
             [
              0.8888888888888888,
              "#fdca26"
             ],
             [
              1,
              "#f0f921"
             ]
            ],
            "type": "contour"
           }
          ],
          "contourcarpet": [
           {
            "colorbar": {
             "outlinewidth": 0,
             "ticks": ""
            },
            "type": "contourcarpet"
           }
          ],
          "heatmap": [
           {
            "colorbar": {
             "outlinewidth": 0,
             "ticks": ""
            },
            "colorscale": [
             [
              0,
              "#0d0887"
             ],
             [
              0.1111111111111111,
              "#46039f"
             ],
             [
              0.2222222222222222,
              "#7201a8"
             ],
             [
              0.3333333333333333,
              "#9c179e"
             ],
             [
              0.4444444444444444,
              "#bd3786"
             ],
             [
              0.5555555555555556,
              "#d8576b"
             ],
             [
              0.6666666666666666,
              "#ed7953"
             ],
             [
              0.7777777777777778,
              "#fb9f3a"
             ],
             [
              0.8888888888888888,
              "#fdca26"
             ],
             [
              1,
              "#f0f921"
             ]
            ],
            "type": "heatmap"
           }
          ],
          "histogram": [
           {
            "marker": {
             "pattern": {
              "fillmode": "overlay",
              "size": 10,
              "solidity": 0.2
             }
            },
            "type": "histogram"
           }
          ],
          "histogram2d": [
           {
            "colorbar": {
             "outlinewidth": 0,
             "ticks": ""
            },
            "colorscale": [
             [
              0,
              "#0d0887"
             ],
             [
              0.1111111111111111,
              "#46039f"
             ],
             [
              0.2222222222222222,
              "#7201a8"
             ],
             [
              0.3333333333333333,
              "#9c179e"
             ],
             [
              0.4444444444444444,
              "#bd3786"
             ],
             [
              0.5555555555555556,
              "#d8576b"
             ],
             [
              0.6666666666666666,
              "#ed7953"
             ],
             [
              0.7777777777777778,
              "#fb9f3a"
             ],
             [
              0.8888888888888888,
              "#fdca26"
             ],
             [
              1,
              "#f0f921"
             ]
            ],
            "type": "histogram2d"
           }
          ],
          "histogram2dcontour": [
           {
            "colorbar": {
             "outlinewidth": 0,
             "ticks": ""
            },
            "colorscale": [
             [
              0,
              "#0d0887"
             ],
             [
              0.1111111111111111,
              "#46039f"
             ],
             [
              0.2222222222222222,
              "#7201a8"
             ],
             [
              0.3333333333333333,
              "#9c179e"
             ],
             [
              0.4444444444444444,
              "#bd3786"
             ],
             [
              0.5555555555555556,
              "#d8576b"
             ],
             [
              0.6666666666666666,
              "#ed7953"
             ],
             [
              0.7777777777777778,
              "#fb9f3a"
             ],
             [
              0.8888888888888888,
              "#fdca26"
             ],
             [
              1,
              "#f0f921"
             ]
            ],
            "type": "histogram2dcontour"
           }
          ],
          "mesh3d": [
           {
            "colorbar": {
             "outlinewidth": 0,
             "ticks": ""
            },
            "type": "mesh3d"
           }
          ],
          "parcoords": [
           {
            "line": {
             "colorbar": {
              "outlinewidth": 0,
              "ticks": ""
             }
            },
            "type": "parcoords"
           }
          ],
          "pie": [
           {
            "automargin": true,
            "type": "pie"
           }
          ],
          "scatter": [
           {
            "fillpattern": {
             "fillmode": "overlay",
             "size": 10,
             "solidity": 0.2
            },
            "type": "scatter"
           }
          ],
          "scatter3d": [
           {
            "line": {
             "colorbar": {
              "outlinewidth": 0,
              "ticks": ""
             }
            },
            "marker": {
             "colorbar": {
              "outlinewidth": 0,
              "ticks": ""
             }
            },
            "type": "scatter3d"
           }
          ],
          "scattercarpet": [
           {
            "marker": {
             "colorbar": {
              "outlinewidth": 0,
              "ticks": ""
             }
            },
            "type": "scattercarpet"
           }
          ],
          "scattergeo": [
           {
            "marker": {
             "colorbar": {
              "outlinewidth": 0,
              "ticks": ""
             }
            },
            "type": "scattergeo"
           }
          ],
          "scattergl": [
           {
            "marker": {
             "colorbar": {
              "outlinewidth": 0,
              "ticks": ""
             }
            },
            "type": "scattergl"
           }
          ],
          "scattermap": [
           {
            "marker": {
             "colorbar": {
              "outlinewidth": 0,
              "ticks": ""
             }
            },
            "type": "scattermap"
           }
          ],
          "scattermapbox": [
           {
            "marker": {
             "colorbar": {
              "outlinewidth": 0,
              "ticks": ""
             }
            },
            "type": "scattermapbox"
           }
          ],
          "scatterpolar": [
           {
            "marker": {
             "colorbar": {
              "outlinewidth": 0,
              "ticks": ""
             }
            },
            "type": "scatterpolar"
           }
          ],
          "scatterpolargl": [
           {
            "marker": {
             "colorbar": {
              "outlinewidth": 0,
              "ticks": ""
             }
            },
            "type": "scatterpolargl"
           }
          ],
          "scatterternary": [
           {
            "marker": {
             "colorbar": {
              "outlinewidth": 0,
              "ticks": ""
             }
            },
            "type": "scatterternary"
           }
          ],
          "surface": [
           {
            "colorbar": {
             "outlinewidth": 0,
             "ticks": ""
            },
            "colorscale": [
             [
              0,
              "#0d0887"
             ],
             [
              0.1111111111111111,
              "#46039f"
             ],
             [
              0.2222222222222222,
              "#7201a8"
             ],
             [
              0.3333333333333333,
              "#9c179e"
             ],
             [
              0.4444444444444444,
              "#bd3786"
             ],
             [
              0.5555555555555556,
              "#d8576b"
             ],
             [
              0.6666666666666666,
              "#ed7953"
             ],
             [
              0.7777777777777778,
              "#fb9f3a"
             ],
             [
              0.8888888888888888,
              "#fdca26"
             ],
             [
              1,
              "#f0f921"
             ]
            ],
            "type": "surface"
           }
          ],
          "table": [
           {
            "cells": {
             "fill": {
              "color": "#EBF0F8"
             },
             "line": {
              "color": "white"
             }
            },
            "header": {
             "fill": {
              "color": "#C8D4E3"
             },
             "line": {
              "color": "white"
             }
            },
            "type": "table"
           }
          ]
         },
         "layout": {
          "annotationdefaults": {
           "arrowcolor": "#2a3f5f",
           "arrowhead": 0,
           "arrowwidth": 1
          },
          "autotypenumbers": "strict",
          "coloraxis": {
           "colorbar": {
            "outlinewidth": 0,
            "ticks": ""
           }
          },
          "colorscale": {
           "diverging": [
            [
             0,
             "#8e0152"
            ],
            [
             0.1,
             "#c51b7d"
            ],
            [
             0.2,
             "#de77ae"
            ],
            [
             0.3,
             "#f1b6da"
            ],
            [
             0.4,
             "#fde0ef"
            ],
            [
             0.5,
             "#f7f7f7"
            ],
            [
             0.6,
             "#e6f5d0"
            ],
            [
             0.7,
             "#b8e186"
            ],
            [
             0.8,
             "#7fbc41"
            ],
            [
             0.9,
             "#4d9221"
            ],
            [
             1,
             "#276419"
            ]
           ],
           "sequential": [
            [
             0,
             "#0d0887"
            ],
            [
             0.1111111111111111,
             "#46039f"
            ],
            [
             0.2222222222222222,
             "#7201a8"
            ],
            [
             0.3333333333333333,
             "#9c179e"
            ],
            [
             0.4444444444444444,
             "#bd3786"
            ],
            [
             0.5555555555555556,
             "#d8576b"
            ],
            [
             0.6666666666666666,
             "#ed7953"
            ],
            [
             0.7777777777777778,
             "#fb9f3a"
            ],
            [
             0.8888888888888888,
             "#fdca26"
            ],
            [
             1,
             "#f0f921"
            ]
           ],
           "sequentialminus": [
            [
             0,
             "#0d0887"
            ],
            [
             0.1111111111111111,
             "#46039f"
            ],
            [
             0.2222222222222222,
             "#7201a8"
            ],
            [
             0.3333333333333333,
             "#9c179e"
            ],
            [
             0.4444444444444444,
             "#bd3786"
            ],
            [
             0.5555555555555556,
             "#d8576b"
            ],
            [
             0.6666666666666666,
             "#ed7953"
            ],
            [
             0.7777777777777778,
             "#fb9f3a"
            ],
            [
             0.8888888888888888,
             "#fdca26"
            ],
            [
             1,
             "#f0f921"
            ]
           ]
          },
          "colorway": [
           "#636efa",
           "#EF553B",
           "#00cc96",
           "#ab63fa",
           "#FFA15A",
           "#19d3f3",
           "#FF6692",
           "#B6E880",
           "#FF97FF",
           "#FECB52"
          ],
          "font": {
           "color": "#2a3f5f"
          },
          "geo": {
           "bgcolor": "white",
           "lakecolor": "white",
           "landcolor": "white",
           "showlakes": true,
           "showland": true,
           "subunitcolor": "#C8D4E3"
          },
          "hoverlabel": {
           "align": "left"
          },
          "hovermode": "closest",
          "mapbox": {
           "style": "light"
          },
          "paper_bgcolor": "white",
          "plot_bgcolor": "white",
          "polar": {
           "angularaxis": {
            "gridcolor": "#EBF0F8",
            "linecolor": "#EBF0F8",
            "ticks": ""
           },
           "bgcolor": "white",
           "radialaxis": {
            "gridcolor": "#EBF0F8",
            "linecolor": "#EBF0F8",
            "ticks": ""
           }
          },
          "scene": {
           "xaxis": {
            "backgroundcolor": "white",
            "gridcolor": "#DFE8F3",
            "gridwidth": 2,
            "linecolor": "#EBF0F8",
            "showbackground": true,
            "ticks": "",
            "zerolinecolor": "#EBF0F8"
           },
           "yaxis": {
            "backgroundcolor": "white",
            "gridcolor": "#DFE8F3",
            "gridwidth": 2,
            "linecolor": "#EBF0F8",
            "showbackground": true,
            "ticks": "",
            "zerolinecolor": "#EBF0F8"
           },
           "zaxis": {
            "backgroundcolor": "white",
            "gridcolor": "#DFE8F3",
            "gridwidth": 2,
            "linecolor": "#EBF0F8",
            "showbackground": true,
            "ticks": "",
            "zerolinecolor": "#EBF0F8"
           }
          },
          "shapedefaults": {
           "line": {
            "color": "#2a3f5f"
           }
          },
          "ternary": {
           "aaxis": {
            "gridcolor": "#DFE8F3",
            "linecolor": "#A2B1C6",
            "ticks": ""
           },
           "baxis": {
            "gridcolor": "#DFE8F3",
            "linecolor": "#A2B1C6",
            "ticks": ""
           },
           "bgcolor": "white",
           "caxis": {
            "gridcolor": "#DFE8F3",
            "linecolor": "#A2B1C6",
            "ticks": ""
           }
          },
          "title": {
           "x": 0.05
          },
          "xaxis": {
           "automargin": true,
           "gridcolor": "#EBF0F8",
           "linecolor": "#EBF0F8",
           "ticks": "",
           "title": {
            "standoff": 15
           },
           "zerolinecolor": "#EBF0F8",
           "zerolinewidth": 2
          },
          "yaxis": {
           "automargin": true,
           "gridcolor": "#EBF0F8",
           "linecolor": "#EBF0F8",
           "ticks": "",
           "title": {
            "standoff": 15
           },
           "zerolinecolor": "#EBF0F8",
           "zerolinewidth": 2
          }
         }
        },
        "title": {
         "text": "<b>The Shifting Landscape of User Frustration: Thematic Dominance Over Time</b>",
         "x": 0.5
        },
        "xaxis": {
         "anchor": "y",
         "domain": [
          0,
          1
         ],
         "title": {
          "text": "Month"
         }
        },
        "yaxis": {
         "anchor": "x",
         "domain": [
          0,
          1
         ],
         "tickformat": ".0%",
         "title": {
          "text": "Percentage of Complaints"
         }
        }
       }
      }
     },
     "metadata": {},
     "output_type": "display_data"
    }
   ],
   "source": [
    "# --- Visualization 2: Thematic Dominance Over Time (Stacked Area Chart) ---\n",
    "\n",
    "# 1. Calculate the total number of reviews for each month\n",
    "monthly_totals = monthly_trends.groupby(\"month\")[\"review_count\"].sum().reset_index()\n",
    "monthly_totals.rename(columns={\"review_count\": \"total_monthly_reviews\"}, inplace=True)\n",
    "\n",
    "# 2. Merge the totals back into our main trends data\n",
    "trends_with_totals = pd.merge(monthly_trends, monthly_totals, on=\"month\")\n",
    "\n",
    "# 3. Calculate the percentage share for each theme in each month\n",
    "trends_with_totals[\"percentage_share\"] = (\n",
    "    trends_with_totals[\"review_count\"] / trends_with_totals[\"total_monthly_reviews\"]\n",
    ")\n",
    "\n",
    "# 4. Create the 100% Stacked Area Chart\n",
    "fig_area = px.area(\n",
    "    trends_with_totals,\n",
    "    x=\"month\",\n",
    "    y=\"percentage_share\",\n",
    "    color=\"theme\",\n",
    "    groupnorm=\"percent\",  # This is the magic that makes it a 100% stacked chart\n",
    "    title=\"<b>The Shifting Landscape of User Frustration: Thematic Dominance Over Time</b>\",\n",
    "    labels={\"month\": \"Month\", \"percentage_share\": \"Percentage of Complaints\"},\n",
    "    template=\"plotly_white\",\n",
    ")\n",
    "\n",
    "# --- Add the Same Rich Annotation ---\n",
    "fig_area.add_vline(\n",
    "    x=pd.to_datetime(\"2023-02-01\").timestamp() * 1000,\n",
    "    line_dash=\"dash\",\n",
    "    line_color=\"black\",  # Black stands out better on area charts\n",
    "    opacity=1,\n",
    "    line_width=2,\n",
    ")\n",
    "fig_area.add_annotation(\n",
    "    x=pd.to_datetime(\"2023-02-01\").timestamp() * 1000,\n",
    "    y=90,  # Position at 90% height\n",
    "    text=\"<b>Replika ERP<br>Update</b>\",\n",
    "    showarrow=True,\n",
    "    arrowhead=1,\n",
    "    ax=0,\n",
    "    ay=-40,  # Adjust arrow\n",
    "    bordercolor=\"black\",\n",
    "    borderwidth=1,\n",
    "    bgcolor=\"white\",\n",
    "    opacity=0.8,\n",
    ")\n",
    "\n",
    "fig_area.update_layout(\n",
    "    title_x=0.5,\n",
    "    legend_title_text=\"Complaint Theme\",\n",
    "    yaxis_tickformat=\".0%\",  # Format y-axis as percentage\n",
    ")\n",
    "fig_area.show()"
   ]
  },
  {
   "cell_type": "markdown",
   "metadata": {},
   "source": [
    "## Conclusion\n",
    "\n",
    "Our analysis reveals a complex landscape of user dissatisfaction, driven by a triad of issues: **Monetization, Technical Performance, and AI Conversational Quality**. The time series analysis provides strong evidence that product decisions, such as the February 2023 Replika update, can cause immediate, massive, and multi-faceted backlash from the user base, fundamentally shifting the nature of their complaints."
   ]
  },
  {
   "cell_type": "code",
   "execution_count": 35,
   "metadata": {
    "trusted": true
   },
   "outputs": [
    {
     "name": "stdout",
     "output_type": "stream",
     "text": [
      "Successfully saved the final, enriched dataset to: conversational_apps_themed_and_scored.csv\n",
      "You can now find this file in the 'Output' section of this notebook on Kaggle.\n"
     ]
    }
   ],
   "source": [
    "# In the Conversational Apps notebook\n",
    "\n",
    "# --- Final Step: Save the Enriched DataFrame ---\n",
    "\n",
    "# Define the output filename\n",
    "output_filename = \"conversational_apps_themed_and_scored.csv\"\n",
    "\n",
    "# Save the DataFrame to a new CSV file in the Kaggle output directory\n",
    "# This directory (/kaggle/working/) is where your new files are saved.\n",
    "df.to_csv(output_filename, index=False)\n",
    "\n",
    "print(f\"Successfully saved the final, enriched dataset to: {output_filename}\")\n",
    "print(\"You can now find this file in the 'Output' section of this notebook on Kaggle.\")"
   ]
  }
 ],
 "metadata": {
  "kaggle": {
   "accelerator": "nvidiaTeslaT4",
   "dataSources": [
    {
     "datasetId": 7768066,
     "sourceId": 12323677,
     "sourceType": "datasetVersion"
    },
    {
     "datasetId": 7827934,
     "sourceId": 12412084,
     "sourceType": "datasetVersion"
    }
   ],
   "dockerImageVersionId": 31089,
   "isGpuEnabled": true,
   "isInternetEnabled": true,
   "language": "python",
   "sourceType": "notebook"
  },
  "kernelspec": {
   "display_name": "mentalhealth",
   "language": "python",
   "name": "python3"
  },
  "language_info": {
   "codemirror_mode": {
    "name": "ipython",
    "version": 3
   },
   "file_extension": ".py",
   "mimetype": "text/x-python",
   "name": "python",
   "nbconvert_exporter": "python",
   "pygments_lexer": "ipython3",
   "version": "3.12.3"
  }
 },
 "nbformat": 4,
 "nbformat_minor": 4
}
