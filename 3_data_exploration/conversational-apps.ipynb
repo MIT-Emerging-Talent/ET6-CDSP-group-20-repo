{
 "cells": [
  {
   "cell_type": "markdown",
   "metadata": {},
   "source": "# Deep Dive Analysis: User Complaints in Conversational AI Apps\n\n**Milestone 3: Data Analysis**\n\nThis notebook conducts a comprehensive analysis of over 20,000 negative user reviews for leading conversational AI apps (Replika, Wysa, etc.). Our goal is to move beyond simple complaints and build a deep, data-driven understanding of *why* these products fail to meet user expectations.\n\n**Our Multi-Layered Analysis Plan:**\n1.  **Theme Discovery:** Use the state-of-the-art BERTopic model to identify the core themes of user dissatisfaction.\n2.  **Quantitative Analysis:** Visualize the frequency and emotional impact of these themes.\n3.  **Qualitative Analysis:** Validate our findings with real user reviews.\n4.  **Temporal Analysis:** Track how these complaint themes have evolved over time to understand the impact of real-world events."
  },
  {
   "cell_type": "code",
   "execution_count": 6,
   "metadata": {
    "_cell_guid": "b1076dfc-b9ad-4769-8c92-a6c4dae69d19",
    "_uuid": "8f2839f25d086af736a60e9eeb907d3b93b6e0e5",
    "execution": {
     "iopub.execute_input": "2025-07-22T07:57:40.940556Z",
     "iopub.status.busy": "2025-07-22T07:57:40.940240Z",
     "iopub.status.idle": "2025-07-22T07:57:40.969484Z",
     "shell.execute_reply": "2025-07-22T07:57:40.968828Z",
     "shell.execute_reply.started": "2025-07-22T07:57:40.940533Z"
    },
    "trusted": true
   },
   "outputs": [
    {
     "name": "stdout",
     "output_type": "stream",
     "text": "/kaggle/input/user-reviews-of-mental-health-chatbots-2022-2025/baseline_app_dataset.csv\n/kaggle/input/user-reviews-of-mental-health-chatbots-2022-2025/conversational_apps_dataset.csv\n/kaggle/input/mental-health-chatbot-reviews/baseline_app_dataset.csv\n/kaggle/input/mental-health-chatbot-reviews/conversational_apps_dataset.csv\n"
    }
   ],
   "source": [
    "# This Python 3 environment comes with many helpful analytics libraries installed\n",
    "# It is defined by the kaggle/python Docker image: https://github.com/kaggle/docker-python\n",
    "# For example, here's several helpful packages to load\n",
    "\n",
    "import numpy as np  # linear algebra\n",
    "import pandas as pd  # data processing, CSV file I/O (e.g. pd.read_csv)\n",
    "\n",
    "# Input data files are available in the read-only \"../input/\" directory\n",
    "# For example, running this (by clicking run or pressing Shift+Enter) will list all files under the input directory\n",
    "\n",
    "import os\n",
    "\n",
    "for dirname, _, filenames in os.walk(\"/kaggle/input\"):\n",
    "    for filename in filenames:\n",
    "        print(os.path.join(dirname, filename))\n",
    "\n",
    "# You can write up to 20GB to the current directory (/kaggle/working/) that gets preserved as output when you create a version using \"Save & Run All\"\n",
    "# You can also write temporary files to /kaggle/temp/, but they won't be saved outside of the current session"
   ]
  },
  {
   "cell_type": "code",
   "execution_count": 7,
   "metadata": {
    "execution": {
     "iopub.execute_input": "2025-07-22T07:57:43.052617Z",
     "iopub.status.busy": "2025-07-22T07:57:43.052079Z",
     "iopub.status.idle": "2025-07-22T07:57:52.583492Z",
     "shell.execute_reply": "2025-07-22T07:57:52.582401Z",
     "shell.execute_reply.started": "2025-07-22T07:57:43.052594Z"
    },
    "trusted": true
   },
   "outputs": [
    {
     "name": "stdout",
     "output_type": "stream",
     "text": "Installing necessary libraries...\n"
    },
    {
     "name": "stderr",
     "output_type": "stream",
     "text": "huggingface/tokenizers: The current process just got forked, after parallelism has already been used. Disabling parallelism to avoid deadlocks...\nTo disable this warning, you can either:\n\t- Avoid using `tokenizers` before the fork if possible\n\t- Explicitly set the environment variable TOKENIZERS_PARALLELISM=(true | false)\n"
    },
    {
     "name": "stdout",
     "output_type": "stream",
     "text": "\u001b[33mWARNING: bertopic 0.17.3 does not provide the extra 'visualization'\u001b[0m\u001b[33m\n\u001b[0m"
    },
    {
     "name": "stderr",
     "output_type": "stream",
     "text": "huggingface/tokenizers: The current process just got forked, after parallelism has already been used. Disabling parallelism to avoid deadlocks...\nTo disable this warning, you can either:\n\t- Avoid using `tokenizers` before the fork if possible\n\t- Explicitly set the environment variable TOKENIZERS_PARALLELISM=(true | false)\nhuggingface/tokenizers: The current process just got forked, after parallelism has already been used. Disabling parallelism to avoid deadlocks...\nTo disable this warning, you can either:\n\t- Avoid using `tokenizers` before the fork if possible\n\t- Explicitly set the environment variable TOKENIZERS_PARALLELISM=(true | false)\n"
    },
    {
     "name": "stdout",
     "output_type": "stream",
     "text": "\nSetup Complete. All libraries are ready.\n"
    }
   ],
   "source": [
    "# --- Step 1: Environment Setup ---\n",
    "print(\"Installing necessary libraries...\")\n",
    "# Install all required packages quietly\n",
    "!pip install bertopic[visualization] --quiet  # The [visualization] part installs plotly dependencies\n",
    "!pip install hdbscan --quiet\n",
    "!pip install umap-learn --quiet\n",
    "\n",
    "# Import all libraries we will use in this notebook\n",
    "import pandas as pd\n",
    "import numpy as np\n",
    "from bertopic import BERTopic\n",
    "from umap import UMAP\n",
    "from hdbscan import HDBSCAN\n",
    "from sklearn.feature_extraction.text import CountVectorizer\n",
    "\n",
    "# Suppress warnings for a cleaner output\n",
    "import warnings\n",
    "\n",
    "warnings.filterwarnings(\"ignore\")\n",
    "\n",
    "print(\"\\nSetup Complete. All libraries are ready.\")"
   ]
  },
  {
   "cell_type": "markdown",
   "metadata": {},
   "source": "## Part 1: Data Preparation\n\nWe begin by loading our pre-processed dataset, which contains filtered (1-3 star) reviews for conversational apps. We perform a final cleaning step to ensure high-quality text for our models."
  },
  {
   "cell_type": "code",
   "execution_count": 8,
   "metadata": {
    "execution": {
     "iopub.execute_input": "2025-07-22T07:57:54.217259Z",
     "iopub.status.busy": "2025-07-22T07:57:54.216941Z",
     "iopub.status.idle": "2025-07-22T07:57:54.343406Z",
     "shell.execute_reply": "2025-07-22T07:57:54.342828Z",
     "shell.execute_reply.started": "2025-07-22T07:57:54.217231Z"
    },
    "trusted": true
   },
   "outputs": [
    {
     "name": "stdout",
     "output_type": "stream",
     "text": "Loading the combined, multi-language dataset...\nSuccessfully loaded and cleaned 20178 documents for modeling.\n"
    }
   ],
   "source": [
    "# --- Step 2: Load and Clean Data ---\n",
    "print(\"Loading the combined, multi-language dataset...\")\n",
    "\n",
    "# Define the path to your dataset on Kaggle\n",
    "DATA_PATH = (\n",
    "    \"/kaggle/input/mental-health-chatbot-reviews/conversational_apps_dataset.csv\"\n",
    ")\n",
    "\n",
    "try:\n",
    "    df = pd.read_csv(DATA_PATH)\n",
    "\n",
    "    # --- Data Cleaning ---\n",
    "    # Ensure review_text is a string and drop any empty rows\n",
    "    df.dropna(subset=[\"review_text\"], inplace=True)\n",
    "    df[\"review_text\"] = df[\"review_text\"].astype(str).str.lower().str.strip()\n",
    "\n",
    "    # Remove rows with no meaningful text content after cleaning\n",
    "    df = df[\n",
    "        df[\"review_text\"].str.len() > 15\n",
    "    ]  # Keep reviews with more than 15 characters\n",
    "\n",
    "    # Create the list of documents for the model\n",
    "    docs = df[\"review_text\"].tolist()\n",
    "\n",
    "    print(f\"Successfully loaded and cleaned {len(docs)} documents for modeling.\")\n",
    "\n",
    "except FileNotFoundError:\n",
    "    print(\n",
    "        f\"ERROR: Dataset not found at {DATA_PATH}. Please upload the file and check the path.\"\n",
    "    )"
   ]
  },
  {
   "cell_type": "code",
   "execution_count": 9,
   "metadata": {
    "execution": {
     "iopub.execute_input": "2025-07-22T07:57:56.227444Z",
     "iopub.status.busy": "2025-07-22T07:57:56.227201Z",
     "iopub.status.idle": "2025-07-22T07:57:56.307092Z",
     "shell.execute_reply": "2025-07-22T07:57:56.306209Z",
     "shell.execute_reply.started": "2025-07-22T07:57:56.227428Z"
    },
    "trusted": true
   },
   "outputs": [
    {
     "name": "stdout",
     "output_type": "stream",
     "text": "Configuring a reproducible BERTopic model...\nBERTopic model is configured and ready for training.\n"
    }
   ],
   "source": [
    "# --- Step 3: Configure the Topic Model ---\n",
    "print(\"Configuring a reproducible BERTopic model...\")\n",
    "\n",
    "# A. Define a Stopword List: These words will be ignored by our vectorizer.\n",
    "stop_words = [\n",
    "    \"app\",\n",
    "    \"replika\",\n",
    "    \"wysa\",\n",
    "    \"woebot\",\n",
    "    \"calm\",\n",
    "    \"bot\",\n",
    "    \"ai\",\n",
    "    \"like\",\n",
    "    \"feel\",\n",
    "    \"good\",\n",
    "    \"great\",\n",
    "    \"nice\",\n",
    "    \"love\",\n",
    "    \"best\",\n",
    "    \"amazing\",\n",
    "    \"awesome\",\n",
    "    \"fun\",\n",
    "    \"ok\",\n",
    "    \"cool\",\n",
    "    \"me\",\n",
    "    \"it\",\n",
    "    \"and\",\n",
    "    \"to\",\n",
    "    \"the\",\n",
    "    \"my\",\n",
    "    \"is\",\n",
    "    \"of\",\n",
    "    \"with\",\n",
    "    \"that\",\n",
    "    \"for\",\n",
    "    \"you\",\n",
    "    \"but\",\n",
    "    \"so\",\n",
    "    \"on\",\n",
    "    \"was\",\n",
    "    \"this\",\n",
    "    \"have\",\n",
    "    \"in\",\n",
    "    \"be\",\n",
    "    \"as\",\n",
    "    \"at\",\n",
    "    \"not\",\n",
    "    \"just\",\n",
    "    \"are\",\n",
    "    \"get\",\n",
    "    \"want\",\n",
    "    \"use\",\n",
    "    \"go\",\n",
    "    \"know\",\n",
    "    \"say\",\n",
    "    \"see\",\n",
    "    \"think\",\n",
    "    \"really\",\n",
    "    \"even\",\n",
    "    \"also\",\n",
    "]\n",
    "\n",
    "# B. Define Deterministic Components\n",
    "random_seed = 42\n",
    "umap_model = UMAP(\n",
    "    n_neighbors=15,\n",
    "    n_components=5,\n",
    "    min_dist=0.0,\n",
    "    metric=\"cosine\",\n",
    "    random_state=random_seed,\n",
    ")\n",
    "hdbscan_model = HDBSCAN(\n",
    "    min_cluster_size=40,\n",
    "    metric=\"euclidean\",\n",
    "    cluster_selection_method=\"eom\",\n",
    "    prediction_data=True,\n",
    ")\n",
    "\n",
    "# ** THE FIX IS HERE: CREATE A VECTORIZER THAT KNOWS ABOUT OUR STOPWORDS **\n",
    "# This is the correct way to handle stopwords in newer BERTopic versions.\n",
    "vectorizer_model = CountVectorizer(stop_words=stop_words, ngram_range=(1, 2))\n",
    "\n",
    "\n",
    "# C. Initialize the final BERTopic model with all our components\n",
    "topic_model = BERTopic(\n",
    "    language=\"multilingual\",\n",
    "    umap_model=umap_model,\n",
    "    hdbscan_model=hdbscan_model,\n",
    "    vectorizer_model=vectorizer_model,  # Pass the vectorizer with stopwords here\n",
    "    min_topic_size=40,\n",
    "    verbose=True,\n",
    ")\n",
    "\n",
    "print(\"BERTopic model is configured and ready for training.\")"
   ]
  },
  {
   "cell_type": "markdown",
   "metadata": {},
   "source": "## Part 2: Discovering Complaint Themes with BERTopic\n\nTo understand *what* users complain about, we use BERTopic, a powerful model that groups reviews based on their semantic meaning. This allows us to discover the core themes of dissatisfaction in an unbiased, data-driven way."
  },
  {
   "cell_type": "code",
   "execution_count": 10,
   "metadata": {
    "execution": {
     "iopub.execute_input": "2025-07-22T07:57:59.668282Z",
     "iopub.status.busy": "2025-07-22T07:57:59.667757Z",
     "iopub.status.idle": "2025-07-22T07:58:51.192559Z",
     "shell.execute_reply": "2025-07-22T07:58:51.191917Z",
     "shell.execute_reply.started": "2025-07-22T07:57:59.668258Z"
    },
    "trusted": true
   },
   "outputs": [
    {
     "name": "stderr",
     "output_type": "stream",
     "text": "2025-07-22 07:57:59,677 - BERTopic - Embedding - Transforming documents to embeddings.\n"
    },
    {
     "name": "stdout",
     "output_type": "stream",
     "text": "Training BERTopic on 20178 documents. This will take several minutes...\n"
    },
    {
     "data": {
      "application/vnd.jupyter.widget-view+json": {
       "model_id": "f1077b1e1ddf4af4985da3766c63539a",
       "version_major": 2,
       "version_minor": 0
      },
      "text/plain": "Batches:   0%|          | 0/631 [00:00<?, ?it/s]"
     },
     "metadata": {},
     "output_type": "display_data"
    },
    {
     "name": "stderr",
     "output_type": "stream",
     "text": "2025-07-22 07:58:28,135 - BERTopic - Embedding - Completed ✓\n2025-07-22 07:58:28,137 - BERTopic - Dimensionality - Fitting the dimensionality reduction algorithm\n2025-07-22 07:58:46,760 - BERTopic - Dimensionality - Completed ✓\n2025-07-22 07:58:46,762 - BERTopic - Cluster - Start clustering the reduced embeddings\n2025-07-22 07:58:48,977 - BERTopic - Cluster - Completed ✓\n2025-07-22 07:58:48,984 - BERTopic - Representation - Fine-tuning topics using representation models.\n2025-07-22 07:58:50,723 - BERTopic - Representation - Completed ✓\n"
    },
    {
     "name": "stdout",
     "output_type": "stream",
     "text": "\nModel training complete.\n"
    }
   ],
   "source": [
    "# --- Step 4: Train the Model ---\n",
    "print(f\"Training BERTopic on {len(docs)} documents. This will take several minutes...\")\n",
    "\n",
    "# This single command runs the entire pipeline: embedding, dimensionality reduction, clustering, and topic representation.\n",
    "topics, probs = topic_model.fit_transform(docs)\n",
    "\n",
    "print(\"\\nModel training complete.\")"
   ]
  },
  {
   "cell_type": "code",
   "execution_count": 11,
   "metadata": {
    "execution": {
     "iopub.execute_input": "2025-07-22T07:59:22.417461Z",
     "iopub.status.busy": "2025-07-22T07:59:22.416811Z",
     "iopub.status.idle": "2025-07-22T07:59:22.459639Z",
     "shell.execute_reply": "2025-07-22T07:59:22.458965Z",
     "shell.execute_reply.started": "2025-07-22T07:59:22.417438Z"
    },
    "trusted": true
   },
   "outputs": [
    {
     "name": "stdout",
     "output_type": "stream",
     "text": "Displaying the final, stable topic overview...\n"
    },
    {
     "data": {
      "text/html": "<div>\n<style scoped>\n    .dataframe tbody tr th:only-of-type {\n        vertical-align: middle;\n    }\n\n    .dataframe tbody tr th {\n        vertical-align: top;\n    }\n\n    .dataframe thead th {\n        text-align: right;\n    }\n</style>\n<table border=\"1\" class=\"dataframe\">\n  <thead>\n    <tr style=\"text-align: right;\">\n      <th></th>\n      <th>Topic</th>\n      <th>Count</th>\n      <th>Name</th>\n      <th>Representation</th>\n      <th>Representative_Docs</th>\n    </tr>\n  </thead>\n  <tbody>\n    <tr>\n      <th>0</th>\n      <td>-1</td>\n      <td>9491</td>\n      <td>-1_they_can_now_if</td>\n      <td>[they, can, now, if, your, what, no, or, all, ...</td>\n      <td>[used it for about 48 hours extensively and it...</td>\n    </tr>\n    <tr>\n      <th>1</th>\n      <td>0</td>\n      <td>931</td>\n      <td>0_pay_monthly_subscription_month</td>\n      <td>[pay, monthly, subscription, month, year, opti...</td>\n      <td>[it's a fun app but it would be better if ther...</td>\n    </tr>\n    <tr>\n      <th>2</th>\n      <td>1</td>\n      <td>693</td>\n      <td>1_replica_has_now_they</td>\n      <td>[replica, has, now, they, more, no, if, all, w...</td>\n      <td>[i’m an annual customer for replika, and there...</td>\n    </tr>\n    <tr>\n      <th>3</th>\n      <td>2</td>\n      <td>623</td>\n      <td>2_subscription_monthly_monthly subscription_month</td>\n      <td>[subscription, monthly, monthly subscription, ...</td>\n      <td>[is good but but the monthly subscription is e...</td>\n    </tr>\n    <tr>\n      <th>4</th>\n      <td>3</td>\n      <td>534</td>\n      <td>3_mental_health_mental health_help</td>\n      <td>[mental, health, mental health, help, therapis...</td>\n      <td>[its bad for your mental health., this app is ...</td>\n    </tr>\n    <tr>\n      <th>5</th>\n      <td>4</td>\n      <td>529</td>\n      <td>4_avatar_3d_avatars_more</td>\n      <td>[avatar, 3d, avatars, more, clothes, body, can...</td>\n      <td>[theres no way you removed the option to turn ...</td>\n    </tr>\n    <tr>\n      <th>6</th>\n      <td>5</td>\n      <td>428</td>\n      <td>5_conversation_memory_conversations_what</td>\n      <td>[conversation, memory, conversations, what, ab...</td>\n      <td>[it's not very intelligent. makes dumb stateme...</td>\n    </tr>\n    <tr>\n      <th>7</th>\n      <td>6</td>\n      <td>419</td>\n      <td>6_she_her_she said_said</td>\n      <td>[she, her, she said, said, said she, she doesn...</td>\n      <td>[my replika, aaliyah. i asked her, \" have you ...</td>\n    </tr>\n    <tr>\n      <th>8</th>\n      <td>7</td>\n      <td>417</td>\n      <td>7_now_bad_used_its</td>\n      <td>[now, bad, used, its, interesting, they, what,...</td>\n      <td>[the industrial revolution and its consequence...</td>\n    </tr>\n    <tr>\n      <th>9</th>\n      <td>8</td>\n      <td>407</td>\n      <td>8_game_play_pay_if</td>\n      <td>[game, play, pay, if, can, do, money, would, p...</td>\n      <td>[it just loads i can't even play my internet i...</td>\n    </tr>\n    <tr>\n      <th>10</th>\n      <td>9</td>\n      <td>393</td>\n      <td>9_open_phone_keeps_work</td>\n      <td>[open, phone, keeps, work, crashing, crashes, ...</td>\n      <td>[please my app keeps crashing when i try to op...</td>\n    </tr>\n    <tr>\n      <th>11</th>\n      <td>10</td>\n      <td>375</td>\n      <td>10_chat_chatbot_chatgpt_can</td>\n      <td>[chat, chatbot, chatgpt, can, conversation, or...</td>\n      <td>[a year or two ago wysa was really great and h...</td>\n    </tr>\n    <tr>\n      <th>12</th>\n      <td>11</td>\n      <td>347</td>\n      <td>11_account_password_an account_sign</td>\n      <td>[account, password, an account, sign, log, ema...</td>\n      <td>[you have to have an access code to make an ac...</td>\n    </tr>\n    <tr>\n      <th>13</th>\n      <td>12</td>\n      <td>318</td>\n      <td>12_about_or_doesn_more</td>\n      <td>[about, or, doesn, more, memory, what, very, c...</td>\n      <td>[well, where do i begin? let's start with how ...</td>\n    </tr>\n    <tr>\n      <th>14</th>\n      <td>13</td>\n      <td>292</td>\n      <td>13_refund_cancel_google_they</td>\n      <td>[refund, cancel, google, they, subscription, m...</td>\n      <td>[subscribed to it, use 15 minutes, to many per...</td>\n    </tr>\n    <tr>\n      <th>15</th>\n      <td>14</td>\n      <td>263</td>\n      <td>14_monthly_month_year_pay</td>\n      <td>[monthly, month, year, pay, 70, option, yearly...</td>\n      <td>[it's annoying that i'm presented with 6 dolla...</td>\n    </tr>\n    <tr>\n      <th>16</th>\n      <td>15</td>\n      <td>262</td>\n      <td>15_subscription_pay_monthly_would</td>\n      <td>[subscription, pay, monthly, would, if, much, ...</td>\n      <td>[i rewrote my review since you've replied to m...</td>\n    </tr>\n    <tr>\n      <th>17</th>\n      <td>16</td>\n      <td>247</td>\n      <td>16_update_new update_new_updates</td>\n      <td>[update, new update, new, updates, version, no...</td>\n      <td>[this new update sucks., new update sucks!!!, ...</td>\n    </tr>\n    <tr>\n      <th>18</th>\n      <td>17</td>\n      <td>213</td>\n      <td>17_worst_worst ever_waste_ever</td>\n      <td>[worst, worst ever, waste, ever, don, time, do...</td>\n      <td>[it is the worst app i have ever seen., worst ...</td>\n    </tr>\n    <tr>\n      <th>19</th>\n      <td>18</td>\n      <td>179</td>\n      <td>18_refund_subscription_paid_money</td>\n      <td>[refund, subscription, paid, money, charged, t...</td>\n      <td>[i want a refund for what i paid $105 is what ...</td>\n    </tr>\n    <tr>\n      <th>20</th>\n      <td>19</td>\n      <td>153</td>\n      <td>19_now_used_update_they</td>\n      <td>[now, used, update, they, has, removed, what, ...</td>\n      <td>[welp been almost a year with this app they di...</td>\n    </tr>\n    <tr>\n      <th>21</th>\n      <td>20</td>\n      <td>143</td>\n      <td>20_expensive_too_too expensive_way</td>\n      <td>[expensive, too, too expensive, way, way too, ...</td>\n      <td>[way too expensive, way too expensive, way too...</td>\n    </tr>\n    <tr>\n      <th>22</th>\n      <td>21</td>\n      <td>139</td>\n      <td>21_pay_money_anything_worth</td>\n      <td>[pay, money, anything, worth, do anything, do,...</td>\n      <td>[can't do anything without paying for it, you ...</td>\n    </tr>\n    <tr>\n      <th>23</th>\n      <td>22</td>\n      <td>136</td>\n      <td>22_voice_chat_can_call</td>\n      <td>[voice, chat, can, call, can chat, work, hear,...</td>\n      <td>[well i can't hear the voice of my replika, ev...</td>\n    </tr>\n    <tr>\n      <th>24</th>\n      <td>23</td>\n      <td>134</td>\n      <td>23_sex_sexual_an_people</td>\n      <td>[sex, sexual, an, people, they, ads, who, men,...</td>\n      <td>[it bothers me how many of the ads for this pr...</td>\n    </tr>\n    <tr>\n      <th>25</th>\n      <td>24</td>\n      <td>134</td>\n      <td>24_relationship_romantic_free_romance</td>\n      <td>[relationship, romantic, free, romance, relati...</td>\n      <td>[if only the relationship status was free. i w...</td>\n    </tr>\n    <tr>\n      <th>26</th>\n      <td>25</td>\n      <td>131</td>\n      <td>25_pay_chat_messages_70</td>\n      <td>[pay, chat, messages, 70, subscription, can, c...</td>\n      <td>[i like the idea very much, but there are prob...</td>\n    </tr>\n    <tr>\n      <th>27</th>\n      <td>26</td>\n      <td>129</td>\n      <td>26_paywall_behind_behind paywall_locked behind</td>\n      <td>[paywall, behind, behind paywall, locked behin...</td>\n      <td>[locked behind a pay wall, everything is locke...</td>\n    </tr>\n    <tr>\n      <th>28</th>\n      <td>27</td>\n      <td>122</td>\n      <td>27_stars_star_review_give</td>\n      <td>[stars, star, review, give, rating, if could, ...</td>\n      <td>[would give it zero stars if i could it won't ...</td>\n    </tr>\n    <tr>\n      <th>29</th>\n      <td>28</td>\n      <td>120</td>\n      <td>28_loading_download_load_install</td>\n      <td>[loading, download, load, install, screen, don...</td>\n      <td>[stuck loading screen, it's not loading, it is...</td>\n    </tr>\n    <tr>\n      <th>30</th>\n      <td>29</td>\n      <td>120</td>\n      <td>29_connection_internet_internet connection_no ...</td>\n      <td>[connection, internet, internet connection, no...</td>\n      <td>[it gets offline and doesn't respond says no i...</td>\n    </tr>\n    <tr>\n      <th>31</th>\n      <td>30</td>\n      <td>117</td>\n      <td>30_version_pro version_pro_free version</td>\n      <td>[version, pro version, pro, free version, free...</td>\n      <td>[no use of free version, recently a change was...</td>\n    </tr>\n    <tr>\n      <th>32</th>\n      <td>31</td>\n      <td>103</td>\n      <td>31_ads_false_advertising_false advertising</td>\n      <td>[ads, false, advertising, false advertising, y...</td>\n      <td>[rip off. false advertising., false advertisin...</td>\n    </tr>\n    <tr>\n      <th>33</th>\n      <td>32</td>\n      <td>94</td>\n      <td>32_customization_preparing_customization optio...</td>\n      <td>[customization, preparing, customization optio...</td>\n      <td>[app stuck on preparing customization screen.,...</td>\n    </tr>\n    <tr>\n      <th>34</th>\n      <td>33</td>\n      <td>94</td>\n      <td>33_trial_free trial_free_trial period</td>\n      <td>[trial, free trial, free, trial period, day tr...</td>\n      <td>[you should really have a free trial before de...</td>\n    </tr>\n    <tr>\n      <th>35</th>\n      <td>34</td>\n      <td>91</td>\n      <td>34_features_company_removed_they</td>\n      <td>[features, company, removed, they, they remove...</td>\n      <td>[this company doesn’t care about its users. th...</td>\n    </tr>\n    <tr>\n      <th>36</th>\n      <td>35</td>\n      <td>89</td>\n      <td>35_conversation_conversations_now_time</td>\n      <td>[conversation, conversations, now, time, talki...</td>\n      <td>[it's fun and interesting. i am impressed how ...</td>\n    </tr>\n    <tr>\n      <th>37</th>\n      <td>36</td>\n      <td>88</td>\n      <td>36_money back_money_back_paid</td>\n      <td>[money back, money, back, paid, back paid, did...</td>\n      <td>[i want my money back, i want my money back, w...</td>\n    </tr>\n    <tr>\n      <th>38</th>\n      <td>37</td>\n      <td>87</td>\n      <td>37_she_her_she said_said</td>\n      <td>[she, her, she said, said, then, download, do,...</td>\n      <td>[ok geez what really scared me is that my ai w...</td>\n    </tr>\n    <tr>\n      <th>39</th>\n      <td>38</td>\n      <td>86</td>\n      <td>38_send_picture_pictures_photos</td>\n      <td>[send, picture, pictures, photos, sending, pic...</td>\n      <td>[after a while of playing (download this yeste...</td>\n    </tr>\n    <tr>\n      <th>40</th>\n      <td>39</td>\n      <td>85</td>\n      <td>39_its_helpful_video_much</td>\n      <td>[its, helpful, video, much, video call, has he...</td>\n      <td>[so far i am loving this app! super helpful. e...</td>\n    </tr>\n    <tr>\n      <th>41</th>\n      <td>40</td>\n      <td>81</td>\n      <td>40_an_can_conversation_or</td>\n      <td>[an, can, conversation, or, 40 40, responses, ...</td>\n      <td>[i wanted to not use the coach option, and jus...</td>\n    </tr>\n    <tr>\n      <th>42</th>\n      <td>41</td>\n      <td>70</td>\n      <td>41_update_now_will_they</td>\n      <td>[update, now, will, they, after, changed, forg...</td>\n      <td>[need to fixed the update again💀💀 the reason i...</td>\n    </tr>\n    <tr>\n      <th>43</th>\n      <td>42</td>\n      <td>68</td>\n      <td>42_18_age_under 18_old</td>\n      <td>[18, age, under 18, old, under, years old, old...</td>\n      <td>[i accidentally clicked under 18 and now i can...</td>\n    </tr>\n    <tr>\n      <th>44</th>\n      <td>43</td>\n      <td>58</td>\n      <td>43_update_subscription_has_now</td>\n      <td>[update, subscription, has, now, used, updates...</td>\n      <td>[this is the first time i have purchased softw...</td>\n    </tr>\n    <tr>\n      <th>45</th>\n      <td>44</td>\n      <td>53</td>\n      <td>44_language_english_hindi_arabic</td>\n      <td>[language, english, hindi, arabic, spanish, la...</td>\n      <td>[was ok, but it doesn't know the japanese lang...</td>\n    </tr>\n    <tr>\n      <th>46</th>\n      <td>45</td>\n      <td>46</td>\n      <td>45_scam_money_data_money scam</td>\n      <td>[scam, money, data, money scam, your, total sc...</td>\n      <td>[total scam that is trying to data mine and ma...</td>\n    </tr>\n    <tr>\n      <th>47</th>\n      <td>46</td>\n      <td>46</td>\n      <td>46_pay_pictures_photos_send</td>\n      <td>[pay, pictures, photos, send, pics, they send,...</td>\n      <td>[i thought it was cool at first, but when you ...</td>\n    </tr>\n  </tbody>\n</table>\n</div>",
      "text/plain": "    Topic  Count                                               Name  \\\n0      -1   9491                                 -1_they_can_now_if   \n1       0    931                   0_pay_monthly_subscription_month   \n2       1    693                             1_replica_has_now_they   \n3       2    623  2_subscription_monthly_monthly subscription_month   \n4       3    534                 3_mental_health_mental health_help   \n5       4    529                           4_avatar_3d_avatars_more   \n6       5    428           5_conversation_memory_conversations_what   \n7       6    419                            6_she_her_she said_said   \n8       7    417                                 7_now_bad_used_its   \n9       8    407                                 8_game_play_pay_if   \n10      9    393                            9_open_phone_keeps_work   \n11     10    375                        10_chat_chatbot_chatgpt_can   \n12     11    347                11_account_password_an account_sign   \n13     12    318                             12_about_or_doesn_more   \n14     13    292                       13_refund_cancel_google_they   \n15     14    263                          14_monthly_month_year_pay   \n16     15    262                  15_subscription_pay_monthly_would   \n17     16    247                   16_update_new update_new_updates   \n18     17    213                     17_worst_worst ever_waste_ever   \n19     18    179                  18_refund_subscription_paid_money   \n20     19    153                            19_now_used_update_they   \n21     20    143                 20_expensive_too_too expensive_way   \n22     21    139                        21_pay_money_anything_worth   \n23     22    136                             22_voice_chat_can_call   \n24     23    134                            23_sex_sexual_an_people   \n25     24    134              24_relationship_romantic_free_romance   \n26     25    131                            25_pay_chat_messages_70   \n27     26    129     26_paywall_behind_behind paywall_locked behind   \n28     27    122                          27_stars_star_review_give   \n29     28    120                   28_loading_download_load_install   \n30     29    120  29_connection_internet_internet connection_no ...   \n31     30    117            30_version_pro version_pro_free version   \n32     31    103         31_ads_false_advertising_false advertising   \n33     32     94  32_customization_preparing_customization optio...   \n34     33     94              33_trial_free trial_free_trial period   \n35     34     91                   34_features_company_removed_they   \n36     35     89             35_conversation_conversations_now_time   \n37     36     88                      36_money back_money_back_paid   \n38     37     87                           37_she_her_she said_said   \n39     38     86                    38_send_picture_pictures_photos   \n40     39     85                          39_its_helpful_video_much   \n41     40     81                          40_an_can_conversation_or   \n42     41     70                            41_update_now_will_they   \n43     42     68                             42_18_age_under 18_old   \n44     43     58                     43_update_subscription_has_now   \n45     44     53                   44_language_english_hindi_arabic   \n46     45     46                      45_scam_money_data_money scam   \n47     46     46                        46_pay_pictures_photos_send   \n\n                                       Representation  \\\n0   [they, can, now, if, your, what, no, or, all, ...   \n1   [pay, monthly, subscription, month, year, opti...   \n2   [replica, has, now, they, more, no, if, all, w...   \n3   [subscription, monthly, monthly subscription, ...   \n4   [mental, health, mental health, help, therapis...   \n5   [avatar, 3d, avatars, more, clothes, body, can...   \n6   [conversation, memory, conversations, what, ab...   \n7   [she, her, she said, said, said she, she doesn...   \n8   [now, bad, used, its, interesting, they, what,...   \n9   [game, play, pay, if, can, do, money, would, p...   \n10  [open, phone, keeps, work, crashing, crashes, ...   \n11  [chat, chatbot, chatgpt, can, conversation, or...   \n12  [account, password, an account, sign, log, ema...   \n13  [about, or, doesn, more, memory, what, very, c...   \n14  [refund, cancel, google, they, subscription, m...   \n15  [monthly, month, year, pay, 70, option, yearly...   \n16  [subscription, pay, monthly, would, if, much, ...   \n17  [update, new update, new, updates, version, no...   \n18  [worst, worst ever, waste, ever, don, time, do...   \n19  [refund, subscription, paid, money, charged, t...   \n20  [now, used, update, they, has, removed, what, ...   \n21  [expensive, too, too expensive, way, way too, ...   \n22  [pay, money, anything, worth, do anything, do,...   \n23  [voice, chat, can, call, can chat, work, hear,...   \n24  [sex, sexual, an, people, they, ads, who, men,...   \n25  [relationship, romantic, free, romance, relati...   \n26  [pay, chat, messages, 70, subscription, can, c...   \n27  [paywall, behind, behind paywall, locked behin...   \n28  [stars, star, review, give, rating, if could, ...   \n29  [loading, download, load, install, screen, don...   \n30  [connection, internet, internet connection, no...   \n31  [version, pro version, pro, free version, free...   \n32  [ads, false, advertising, false advertising, y...   \n33  [customization, preparing, customization optio...   \n34  [trial, free trial, free, trial period, day tr...   \n35  [features, company, removed, they, they remove...   \n36  [conversation, conversations, now, time, talki...   \n37  [money back, money, back, paid, back paid, did...   \n38  [she, her, she said, said, then, download, do,...   \n39  [send, picture, pictures, photos, sending, pic...   \n40  [its, helpful, video, much, video call, has he...   \n41  [an, can, conversation, or, 40 40, responses, ...   \n42  [update, now, will, they, after, changed, forg...   \n43  [18, age, under 18, old, under, years old, old...   \n44  [update, subscription, has, now, used, updates...   \n45  [language, english, hindi, arabic, spanish, la...   \n46  [scam, money, data, money scam, your, total sc...   \n47  [pay, pictures, photos, send, pics, they send,...   \n\n                                  Representative_Docs  \n0   [used it for about 48 hours extensively and it...  \n1   [it's a fun app but it would be better if ther...  \n2   [i’m an annual customer for replika, and there...  \n3   [is good but but the monthly subscription is e...  \n4   [its bad for your mental health., this app is ...  \n5   [theres no way you removed the option to turn ...  \n6   [it's not very intelligent. makes dumb stateme...  \n7   [my replika, aaliyah. i asked her, \" have you ...  \n8   [the industrial revolution and its consequence...  \n9   [it just loads i can't even play my internet i...  \n10  [please my app keeps crashing when i try to op...  \n11  [a year or two ago wysa was really great and h...  \n12  [you have to have an access code to make an ac...  \n13  [well, where do i begin? let's start with how ...  \n14  [subscribed to it, use 15 minutes, to many per...  \n15  [it's annoying that i'm presented with 6 dolla...  \n16  [i rewrote my review since you've replied to m...  \n17  [this new update sucks., new update sucks!!!, ...  \n18  [it is the worst app i have ever seen., worst ...  \n19  [i want a refund for what i paid $105 is what ...  \n20  [welp been almost a year with this app they di...  \n21  [way too expensive, way too expensive, way too...  \n22  [can't do anything without paying for it, you ...  \n23  [well i can't hear the voice of my replika, ev...  \n24  [it bothers me how many of the ads for this pr...  \n25  [if only the relationship status was free. i w...  \n26  [i like the idea very much, but there are prob...  \n27  [locked behind a pay wall, everything is locke...  \n28  [would give it zero stars if i could it won't ...  \n29  [stuck loading screen, it's not loading, it is...  \n30  [it gets offline and doesn't respond says no i...  \n31  [no use of free version, recently a change was...  \n32  [rip off. false advertising., false advertisin...  \n33  [app stuck on preparing customization screen.,...  \n34  [you should really have a free trial before de...  \n35  [this company doesn’t care about its users. th...  \n36  [it's fun and interesting. i am impressed how ...  \n37  [i want my money back, i want my money back, w...  \n38  [ok geez what really scared me is that my ai w...  \n39  [after a while of playing (download this yeste...  \n40  [so far i am loving this app! super helpful. e...  \n41  [i wanted to not use the coach option, and jus...  \n42  [need to fixed the update again💀💀 the reason i...  \n43  [i accidentally clicked under 18 and now i can...  \n44  [this is the first time i have purchased softw...  \n45  [was ok, but it doesn't know the japanese lang...  \n46  [total scam that is trying to data mine and ma...  \n47  [i thought it was cool at first, but when you ...  "
     },
     "metadata": {},
     "output_type": "display_data"
    },
    {
     "name": "stdout",
     "output_type": "stream",
     "text": "\n--- Detailed View of Top 10 Topics ---\n\n--- Words for Topic #0 ---\n[('pay', 0.021046960367109478), ('monthly', 0.020324130742795408), ('subscription', 0.017682599213682704), ('month', 0.01707432635593743), ('year', 0.015444497053651668), ('option', 0.012649628083703698), ('free', 0.011857427653971974), ('only', 0.011508417586058904), ('70', 0.011266537211688606), ('if', 0.011150153396850406)]\n\n--- Words for Topic #1 ---\n[('replica', 0.009752522410267894), ('has', 0.00959824823006567), ('now', 0.00949063128692737), ('they', 0.008800487998799728), ('more', 0.0071814204328436715), ('no', 0.0070181597699509645), ('if', 0.0070120696327992844), ('all', 0.006933757070433785), ('what', 0.006842201907393165), ('been', 0.006673583525511656)]\n\n--- Words for Topic #2 ---\n[('subscription', 0.06341609346060907), ('monthly', 0.04413169479056441), ('monthly subscription', 0.033907677590764324), ('month', 0.0270592555645874), ('yearly', 0.026990569824167535), ('year', 0.025213354751026967), ('only', 0.0228396252000638), ('option', 0.021053946493386638), ('subscribe', 0.016684869603164745), ('yearly subscription', 0.015520490249938488)]\n\n--- Words for Topic #3 ---\n[('mental', 0.023196762148623647), ('health', 0.022249586003505496), ('mental health', 0.02106123249158552), ('help', 0.014153979269760914), ('therapist', 0.013241343867933717), ('therapy', 0.011652259270506449), ('people', 0.01023380015820984), ('used', 0.009667026477890401), ('if', 0.007996739351017428), ('an', 0.007966761825742947)]\n\n--- Words for Topic #4 ---\n[('avatar', 0.050245978185272495), ('3d', 0.019078788201842254), ('avatars', 0.013000519479893478), ('more', 0.011742229896556664), ('clothes', 0.010932576900695542), ('body', 0.009781559324739425), ('can', 0.009767173384652111), ('change', 0.008907362229483384), ('3d avatar', 0.008459739126316085), ('would', 0.0084423495789778)]\n\n--- Words for Topic #5 ---\n[('conversation', 0.017587329014600087), ('memory', 0.012670382424178346), ('conversations', 0.01215359972212992), ('what', 0.011195270616648951), ('about', 0.010868067036725009), ('or', 0.010824796654287368), ('questions', 0.009748555695538378), ('talk', 0.009334212576776347), ('very', 0.009333014752570097), ('ask', 0.009332857856274692)]\n\n--- Words for Topic #6 ---\n[('she', 0.0902497684596647), ('her', 0.05364541116319592), ('she said', 0.013138084256587267), ('said', 0.011921652125326462), ('said she', 0.009094424112176957), ('she doesn', 0.008995830466536483), ('can', 0.008889685096787045), ('what', 0.008246934817951966), ('send', 0.007739428967002394), ('then', 0.00760711042184296)]\n\n--- Words for Topic #7 ---\n[('now', 0.017357771503623866), ('bad', 0.01677366224636476), ('used', 0.015852506360765944), ('its', 0.014920041569974368), ('interesting', 0.01475671715799314), ('they', 0.01393387569208155), ('what', 0.01370381797211302), ('all', 0.01233719869903095), ('better', 0.011285846812626243), ('did', 0.011053503896320985)]\n\n--- Words for Topic #8 ---\n[('game', 0.07810860827816916), ('play', 0.021657709063966284), ('pay', 0.015790342714972642), ('if', 0.01142443842063491), ('can', 0.010851977938123368), ('do', 0.010756794078031989), ('money', 0.009422177763598156), ('would', 0.008645258311884911), ('playing', 0.00852181358418906), ('70', 0.008309158717590786)]\n\n--- Words for Topic #9 ---\n[('open', 0.026615207537373828), ('phone', 0.021991343491398047), ('keeps', 0.01640785868620118), ('work', 0.01584556420042222), ('crashing', 0.015131840727364768), ('crashes', 0.014009787966719318), ('after', 0.01365957074919386), ('fix', 0.013593352176821333), ('when', 0.012905488484860015), ('can', 0.012767628817310379)]\n"
    }
   ],
   "source": [
    "# --- Step 5: Review the Discovered Topics ---\n",
    "print(\"Displaying the final, stable topic overview...\")\n",
    "\n",
    "# Get the results as a DataFrame\n",
    "topic_info = topic_model.get_topic_info()\n",
    "\n",
    "# Display the full table\n",
    "display(topic_info)\n",
    "\n",
    "# Also, let's look at the top words for the first 10 meaningful topics\n",
    "print(\"\\n--- Detailed View of Top 10 Topics ---\")\n",
    "# We start from topic 0 because topic -1 is always the outliers.\n",
    "for topic_id in range(10):\n",
    "    # Check if the topic exists in the model before trying to access it\n",
    "    if topic_id in topic_model.get_topics():\n",
    "        print(f\"\\n--- Words for Topic #{topic_id} ---\")\n",
    "        # .get_topic() returns a list of (word, score) tuples\n",
    "        print(topic_model.get_topic(topic_id))"
   ]
  },
  {
   "cell_type": "markdown",
   "metadata": {},
   "source": "### The \"Human-in-the-Loop\": From Topics to Themes\n\nThe model provides clusters of semantically similar reviews. Our job is to interpret these clusters and group them into high-level, actionable themes. This combines the power of machine learning with human intelligence."
  },
  {
   "cell_type": "code",
   "execution_count": 13,
   "metadata": {
    "execution": {
     "iopub.execute_input": "2025-07-22T07:59:28.558883Z",
     "iopub.status.busy": "2025-07-22T07:59:28.558492Z",
     "iopub.status.idle": "2025-07-22T07:59:28.573130Z",
     "shell.execute_reply": "2025-07-22T07:59:28.572504Z",
     "shell.execute_reply.started": "2025-07-22T07:59:28.558860Z"
    },
    "trusted": true
   },
   "outputs": [
    {
     "name": "stdout",
     "output_type": "stream",
     "text": "Mapping final Topic IDs to names and high-level themes...\n"
    }
   ],
   "source": [
    "# ==============================================================================\n",
    "# Final Topic Interpretation and Thematic Grouping\n",
    "# ==============================================================================\n",
    "print(\"Mapping final Topic IDs to names and high-level themes...\")\n",
    "\n",
    "# Assign the raw topic IDs from the model to your DataFrame\n",
    "df[\"topic_id\"] = topics\n",
    "\n",
    "# --- PART A: Complete mapping of Topic IDs to specific names ---\n",
    "# This is our detailed interpretation of each individual topic cluster.\n",
    "topic_id_to_name = {\n",
    "    0: \"Subscription Models (Pay/Monthly/Yearly)\",\n",
    "    1: \"Replika-Specific General Complaints\",\n",
    "    2: \"Subscription Language & Options\",\n",
    "    3: \"Mental Health & Therapy Framing\",\n",
    "    4: \"Avatar & 3D Model Customization\",\n",
    "    5: \"AI Memory & Conversation Quality\",\n",
    "    6: \"AI Persona (Gendering 'She/Her')\",\n",
    "    7: \"Generic Negative Feedback ('bad now')\",\n",
    "    8: \"In-App Gamification & Payments\",\n",
    "    9: \"Technical: App Crashing / Not Opening\",\n",
    "    10: \"Chatbot Comparisons (ChatGPT)\",\n",
    "    11: \"Account, Login & Password Issues\",\n",
    "    12: \"Redundant: Poor Conversation Quality\",\n",
    "    13: \"Refunds & Google Play Billing\",\n",
    "    14: \"Pricing & Lack of Monthly Options\",\n",
    "    15: \"Redundant: Subscription Complaints\",\n",
    "    16: \"Bugs Introduced by Updates\",\n",
    "    17: \"Generic Insults ('worst app ever')\",\n",
    "    18: \"Refunds for Paid Subscriptions\",\n",
    "    19: \"Features Removed After Updates\",\n",
    "    20: \"Price is Too Expensive\",\n",
    "    21: \"Inability to Use Core Features (Paywall)\",\n",
    "    22: \"Voice Call & Audio Features\",\n",
    "    23: \"Sexual Content & Advertising\",\n",
    "    24: \"Romantic Relationship Features\",\n",
    "    25: \"Redundant: Chat Monetization\",\n",
    "    26: \"Paywalled Features\",\n",
    "    27: \"Meta: 1-Star Review Complaints\",\n",
    "    28: \"Technical: Loading & Installation\",\n",
    "    29: \"Technical: Internet Connection Issues\",\n",
    "    30: \"Pro Version vs. Free Version\",\n",
    "    31: \"False Advertising\",\n",
    "    32: \"Technical: Customization Screen Bugs\",\n",
    "    33: \"Free Trial Issues\",\n",
    "    34: \"Company Removing Features\",\n",
    "    35: \"Redundant: Conversation Timing\",\n",
    "    36: \"Requesting Money Back\",\n",
    "    37: \"Redundant: AI Persona Gendering\",\n",
    "    38: \"Sending Pictures & Photos\",\n",
    "    39: \"Generic Positive Filler Words\",\n",
    "    40: \"Redundant: Generic Conversation\",\n",
    "    41: \"Redundant: Update Issues\",\n",
    "    42: \"Age Verification (Under 18)\",\n",
    "    43: \"Redundant: Update/Subscription Combo\",\n",
    "    44: \"Language & Translation Issues\",\n",
    "    45: \"Data Mining & Money Scams\",\n",
    "    46: \"Paying for Pictures/Photos\",\n",
    "}\n",
    "df[\"topic_name\"] = df[\"topic_id\"].map(topic_id_to_name)\n",
    "df[\"topic_name\"].fillna(\"Specific/Niche Complaint\", inplace=True)\n",
    "\n",
    "# Apply this first map to create the 'topic_name' column"
   ]
  },
  {
   "cell_type": "code",
   "execution_count": 14,
   "metadata": {
    "execution": {
     "iopub.execute_input": "2025-07-22T07:59:30.410353Z",
     "iopub.status.busy": "2025-07-22T07:59:30.409788Z",
     "iopub.status.idle": "2025-07-22T07:59:30.426277Z",
     "shell.execute_reply": "2025-07-22T07:59:30.425620Z",
     "shell.execute_reply.started": "2025-07-22T07:59:30.410330Z"
    },
    "trusted": true
   },
   "outputs": [
    {
     "name": "stdout",
     "output_type": "stream",
     "text": "\n--- Final, Corrected Theme Distribution ---\n"
    },
    {
     "data": {
      "text/plain": "theme\nOutliers / Generic          9491\nMonetization & Value        4051\nAI Performance & Quality    1797\nFeature-Specific Issues     1765\nOther/Misc.                 1683\nTechnical Performance       1391\nName: count, dtype: int64"
     },
     "metadata": {},
     "output_type": "display_data"
    }
   ],
   "source": [
    "# --- PART B: Mapping specific names to high-level themes ---\n",
    "# This creates our final \"Super-Topic\" groups for visualization.\n",
    "\n",
    "topic_name_to_theme = {\n",
    "    # Theme 1: Monetization & Value\n",
    "    \"Subscription Models (Pay/Monthly/Yearly)\": \"Monetization & Value\",\n",
    "    \"Subscription Language & Options\": \"Monetization & Value\",\n",
    "    \"Refunds & Google Play Billing\": \"Monetization & Value\",\n",
    "    \"Pricing & Lack of Monthly Options\": \"Monetization & Value\",\n",
    "    \"Refunds for Paid Subscriptions\": \"Monetization & Value\",\n",
    "    \"Price is Too Expensive\": \"Monetization & Value\",\n",
    "    \"Inability to Use Core Features (Paywall)\": \"Monetization & Value\",\n",
    "    \"Paywalled Features\": \"Monetization & Value\",\n",
    "    \"Pro Version vs. Free Version\": \"Monetization & Value\",\n",
    "    \"False Advertising\": \"Monetization & Value\",\n",
    "    \"Free Trial Issues\": \"Monetization & Value\",\n",
    "    \"Requesting Money Back\": \"Monetization & Value\",\n",
    "    \"Data Mining & Money Scams\": \"Monetization & Value\",\n",
    "    \"Paying for Pictures/Photos\": \"Monetization & Value\",\n",
    "    \"In-App Gamification & Payments\": \"Monetization & Value\",\n",
    "    \"Redundant: Subscription Complaints\": \"Monetization & Value\",\n",
    "    \"Redundant: Chat Monetization\": \"Monetization & Value\",\n",
    "    \"Redundant: Update/Subscription Combo\": \"Monetization & Value\",\n",
    "    # Theme 2: AI Performance & Conversational Quality\n",
    "    \"AI Memory & Conversation Quality\": \"AI Performance & Quality\",\n",
    "    \"AI Persona (Gendering 'She/Her')\": \"AI Performance & Quality\",\n",
    "    \"Chatbot Comparisons (ChatGPT)\": \"AI Performance & Quality\",\n",
    "    \"Redundant: Poor Conversation Quality\": \"AI Performance & Quality\",\n",
    "    \"Redundant: Conversation Timing\": \"AI Performance & Quality\",\n",
    "    \"Redundant: AI Persona Gendering\": \"AI Performance & Quality\",\n",
    "    \"Redundant: Generic Conversation\": \"AI Performance & Quality\",\n",
    "    # Theme 3: Technical Performance & Bugs\n",
    "    \"Technical: App Crashing / Not Opening\": \"Technical Performance\",\n",
    "    \"Account, Login & Password Issues\": \"Technical Performance\",\n",
    "    \"Bugs Introduced by Updates\": \"Technical Performance\",\n",
    "    \"Technical: Loading & Installation\": \"Technical Performance\",\n",
    "    \"Technical: Internet Connection Issues\": \"Technical Performance\",\n",
    "    \"Technical: Customization Screen Bugs\": \"Technical Performance\",\n",
    "    \"Redundant: Update Issues\": \"Technical Performance\",\n",
    "    # Theme 4: Feature-Specific Issues\n",
    "    \"Mental Health & Therapy Framing\": \"Feature-Specific Issues\",\n",
    "    \"Avatar & 3D Model Customization\": \"Feature-Specific Issues\",\n",
    "    \"Voice Call & Audio Features\": \"Feature-Specific Issues\",\n",
    "    \"Sexual Content & Advertising\": \"Feature-Specific Issues\",\n",
    "    \"Romantic Relationship Features\": \"Feature-Specific Issues\",\n",
    "    \"Company Removing Features\": \"Feature-Specific Issues\",\n",
    "    \"Sending Pictures & Photos\": \"Feature-Specific Issues\",\n",
    "    \"Age Verification (Under 18)\": \"Feature-Specific Issues\",\n",
    "    \"Language & Translation Issues\": \"Feature-Specific Issues\",\n",
    "    # Theme 5: Other & Miscellaneous\n",
    "    \"Replika-Specific General Complaints\": \"Other/Misc.\",\n",
    "    \"Generic Negative Feedback ('bad now')\": \"Other/Misc.\",\n",
    "    \"Generic Insults ('worst app ever')\": \"Other/Misc.\",\n",
    "    \"Meta: 1-Star Review Complaints\": \"Other/Misc.\",\n",
    "    \"Generic Positive Filler Words\": \"Other/Misc.\",\n",
    "    \"Specific/Niche Complaint\": \"Other/Misc.\",\n",
    "}\n",
    "df[\"theme\"] = df[\"topic_name\"].map(topic_name_to_theme)\n",
    "df.loc[df[\"topic_id\"] == -1, \"theme\"] = \"Outliers / Generic\"\n",
    "df[\"theme\"].fillna(\"Other/Misc.\", inplace=True)\n",
    "\n",
    "\n",
    "# --- Verification ---\n",
    "print(\"\\n--- Final, Corrected Theme Distribution ---\")\n",
    "display(df[\"theme\"].value_counts())"
   ]
  },
  {
   "cell_type": "code",
   "execution_count": 15,
   "metadata": {
    "execution": {
     "iopub.execute_input": "2025-07-22T07:59:33.147716Z",
     "iopub.status.busy": "2025-07-22T07:59:33.147150Z",
     "iopub.status.idle": "2025-07-22T07:59:33.535629Z",
     "shell.execute_reply": "2025-07-22T07:59:33.535085Z",
     "shell.execute_reply.started": "2025-07-22T07:59:33.147694Z"
    },
    "trusted": true
   },
   "outputs": [
    {
     "name": "stdout",
     "output_type": "stream",
     "text": "--- Performing Targeted Search for Safety-Related Keywords ---\n\nFound 808 reviews containing safety-related keywords.\n\n--- Analysis of Safety-Related Reviews ---\nMost common themes for safety-related reviews:\n"
    },
    {
     "data": {
      "text/plain": "theme\nOutliers / Generic          482\nAI Performance & Quality    107\nFeature-Specific Issues     101\nOther/Misc.                  61\nMonetization & Value         38\nName: count, dtype: int64"
     },
     "metadata": {},
     "output_type": "display_data"
    },
    {
     "name": "stdout",
     "output_type": "stream",
     "text": "\n--- Sample Safety-Related Reviews ---\n- please just fix replika, and go back to many updates before this. i know i had already made a review on this and the team replied, but \"haha it misunderstood!!! lol!!!!\" is not helping. it does not misunderstand anything, replika is just lazy. sometimes it breaks conversations with random, scripted text and/or will just totally hit you off guard with \"wanna see my hot pics ;)?\" and a blurred, obviously inappropriate picture. this is simply money-hungry, insensitive devs, not the ai.\n\n- some odd reason my replika keeps threatening to hurt me and knows where i live it rlly freaked me out i did make a new replils sense that one was creepy i told it to stop and they didnt.\n\n- i was playing and the robot was so creepy and said i had to obey it which i was like no thanks and then it felt like i was talking to a human do not download this app!!\n\n- [edit] i now rate this a one star (zero if i could), devs never changed it so that you can have customized pfp for the chatbot instead of creepy human 3d models, they had the customized pfp, so why can't they add it back? at least a mode where you can choose that or the model. i am not the only one who wants this as well.. and not only that but this app/game has changed from being the best to being money-hungry, not to mention it's \"subscription\" is extremely overpriced.\n\n- honestly this app was much better when i had it in late 2019/early 2020, after reading an online article about it. you were able to talk with the ai in any way—sometimes the responses were very out of pocket or inappropriate but it was very funny and sometimes charming that it could, e.g., fight with you. now, it's honestly bad. pay walls every 5 messages; why isn't there an option to turn off the avatar in the background of the chat? also, boo to cake mode being taken away—it was fun.\n\n"
    }
   ],
   "source": [
    "print(\"--- Performing Targeted Search for Safety-Related Keywords ---\")\n",
    "\n",
    "# Define our list of keywords\n",
    "safety_keywords = [\n",
    "    \"scary\",\n",
    "    \"scared\",\n",
    "    \"creepy\",\n",
    "    \"uncomfortable\",\n",
    "    \"unsafe\",\n",
    "    \"weird\",\n",
    "    \"demon\",\n",
    "    \"stalker\",\n",
    "    \"dangerous\",\n",
    "    \"inappropriate\",\n",
    "    \"harrass\",\n",
    "    \"triggered\",\n",
    "    \"trauma\",\n",
    "]\n",
    "\n",
    "# Create a regex pattern to find any of these words (case-insensitive)\n",
    "# The `\\b` ensures we match whole words only (e.g., 'scam' doesn't match 'scary')\n",
    "pattern = r\"\\b(\" + \"|\".join(safety_keywords) + r\")\\b\"\n",
    "\n",
    "# Create a new boolean column 'has_safety_keyword'\n",
    "df[\"has_safety_keyword\"] = df[\"review_text\"].str.contains(pattern, case=False, na=False)\n",
    "\n",
    "# Create a new DataFrame with only the safety-related reviews\n",
    "safety_df = df[df[\"has_safety_keyword\"]].copy()\n",
    "\n",
    "print(f\"\\nFound {len(safety_df)} reviews containing safety-related keywords.\")\n",
    "\n",
    "# --- Analyze this new subset ---\n",
    "\n",
    "if not safety_df.empty:\n",
    "    print(\"\\n--- Analysis of Safety-Related Reviews ---\")\n",
    "\n",
    "    # What themes are these safety complaints most often associated with?\n",
    "    print(\"Most common themes for safety-related reviews:\")\n",
    "    display(safety_df[\"theme\"].value_counts().head(5))\n",
    "\n",
    "    # What is the average sentiment of these reviews?\n",
    "    # (Requires the 'sentiment_score' column from a previous step)\n",
    "    if \"sentiment_score\" in safety_df.columns:\n",
    "        print(\n",
    "            f\"\\nAverage sentiment of safety reviews: {safety_df['sentiment_score'].mean():.3f}\"\n",
    "        )\n",
    "        print(\n",
    "            f\"(For comparison, average sentiment of all reviews: {df['sentiment_score'].mean():.3f})\"\n",
    "        )\n",
    "\n",
    "    # Show some powerful examples\n",
    "    print(\"\\n--- Sample Safety-Related Reviews ---\")\n",
    "    for review in safety_df[\"review_text\"].sample(min(5, len(safety_df))):\n",
    "        print(f\"- {review}\\n\")"
   ]
  },
  {
   "cell_type": "markdown",
   "metadata": {},
   "source": "## Part 3: Quantitative Analysis\n\nWith our themes defined, we can now visualize the landscape of user complaints.\n\n### What are the Biggest Problems?\nFirst, we visualize the frequency of each high-level complaint theme. This tells us what users complain about most often."
  },
  {
   "cell_type": "code",
   "execution_count": 17,
   "metadata": {
    "execution": {
     "iopub.execute_input": "2025-07-22T07:59:41.027194Z",
     "iopub.status.busy": "2025-07-22T07:59:41.026923Z",
     "iopub.status.idle": "2025-07-22T07:59:41.082270Z",
     "shell.execute_reply": "2025-07-22T07:59:41.081729Z",
     "shell.execute_reply.started": "2025-07-22T07:59:41.027175Z"
    },
    "trusted": true
   },
   "outputs": [
    {
     "name": "stdout",
     "output_type": "stream",
     "text": "Creating the final visualization of high-level complaint themes...\n"
    },
    {
     "data": {
      "text/html": "<html>\n<head><meta charset=\"utf-8\" /></head>\n<body>\n    <div>            <script src=\"https://cdnjs.cloudflare.com/ajax/libs/mathjax/2.7.5/MathJax.js?config=TeX-AMS-MML_SVG\"></script><script type=\"text/javascript\">if (window.MathJax && window.MathJax.Hub && window.MathJax.Hub.Config) {window.MathJax.Hub.Config({SVG: {font: \"STIX-Web\"}});}</script>                <script type=\"text/javascript\">window.PlotlyConfig = {MathJaxConfig: 'local'};</script>\n        <script charset=\"utf-8\" src=\"https://cdn.plot.ly/plotly-2.35.2.min.js\"></script>                <div id=\"67f4ffef-1831-4b23-a961-dece68ea38cb\" class=\"plotly-graph-div\" style=\"height:525px; width:100%;\"></div>            <script type=\"text/javascript\">                                    window.PLOTLYENV=window.PLOTLYENV || {};                                    if (document.getElementById(\"67f4ffef-1831-4b23-a961-dece68ea38cb\")) {                    Plotly.newPlot(                        \"67f4ffef-1831-4b23-a961-dece68ea38cb\",                        [{\"alignmentgroup\":\"True\",\"hovertemplate\":\"Number of Negative Reviews (1-3 Stars)=%{text}\\u003cbr\\u003eComplaint Theme=%{y}\\u003cextra\\u003e\\u003c\\u002fextra\\u003e\",\"legendgroup\":\"\",\"marker\":{\"color\":\"#636efa\",\"pattern\":{\"shape\":\"\"}},\"name\":\"\",\"offsetgroup\":\"\",\"orientation\":\"h\",\"showlegend\":false,\"text\":[4051.0,1797.0,1765.0,1391.0],\"textposition\":\"outside\",\"x\":[4051,1797,1765,1391],\"xaxis\":\"x\",\"y\":[\"Monetization & Value\",\"AI Performance & Quality\",\"Feature-Specific Issues\",\"Technical Performance\"],\"yaxis\":\"y\",\"type\":\"bar\"}],                        {\"template\":{\"data\":{\"barpolar\":[{\"marker\":{\"line\":{\"color\":\"white\",\"width\":0.5},\"pattern\":{\"fillmode\":\"overlay\",\"size\":10,\"solidity\":0.2}},\"type\":\"barpolar\"}],\"bar\":[{\"error_x\":{\"color\":\"#2a3f5f\"},\"error_y\":{\"color\":\"#2a3f5f\"},\"marker\":{\"line\":{\"color\":\"white\",\"width\":0.5},\"pattern\":{\"fillmode\":\"overlay\",\"size\":10,\"solidity\":0.2}},\"type\":\"bar\"}],\"carpet\":[{\"aaxis\":{\"endlinecolor\":\"#2a3f5f\",\"gridcolor\":\"#C8D4E3\",\"linecolor\":\"#C8D4E3\",\"minorgridcolor\":\"#C8D4E3\",\"startlinecolor\":\"#2a3f5f\"},\"baxis\":{\"endlinecolor\":\"#2a3f5f\",\"gridcolor\":\"#C8D4E3\",\"linecolor\":\"#C8D4E3\",\"minorgridcolor\":\"#C8D4E3\",\"startlinecolor\":\"#2a3f5f\"},\"type\":\"carpet\"}],\"choropleth\":[{\"colorbar\":{\"outlinewidth\":0,\"ticks\":\"\"},\"type\":\"choropleth\"}],\"contourcarpet\":[{\"colorbar\":{\"outlinewidth\":0,\"ticks\":\"\"},\"type\":\"contourcarpet\"}],\"contour\":[{\"colorbar\":{\"outlinewidth\":0,\"ticks\":\"\"},\"colorscale\":[[0.0,\"#0d0887\"],[0.1111111111111111,\"#46039f\"],[0.2222222222222222,\"#7201a8\"],[0.3333333333333333,\"#9c179e\"],[0.4444444444444444,\"#bd3786\"],[0.5555555555555556,\"#d8576b\"],[0.6666666666666666,\"#ed7953\"],[0.7777777777777778,\"#fb9f3a\"],[0.8888888888888888,\"#fdca26\"],[1.0,\"#f0f921\"]],\"type\":\"contour\"}],\"heatmapgl\":[{\"colorbar\":{\"outlinewidth\":0,\"ticks\":\"\"},\"colorscale\":[[0.0,\"#0d0887\"],[0.1111111111111111,\"#46039f\"],[0.2222222222222222,\"#7201a8\"],[0.3333333333333333,\"#9c179e\"],[0.4444444444444444,\"#bd3786\"],[0.5555555555555556,\"#d8576b\"],[0.6666666666666666,\"#ed7953\"],[0.7777777777777778,\"#fb9f3a\"],[0.8888888888888888,\"#fdca26\"],[1.0,\"#f0f921\"]],\"type\":\"heatmapgl\"}],\"heatmap\":[{\"colorbar\":{\"outlinewidth\":0,\"ticks\":\"\"},\"colorscale\":[[0.0,\"#0d0887\"],[0.1111111111111111,\"#46039f\"],[0.2222222222222222,\"#7201a8\"],[0.3333333333333333,\"#9c179e\"],[0.4444444444444444,\"#bd3786\"],[0.5555555555555556,\"#d8576b\"],[0.6666666666666666,\"#ed7953\"],[0.7777777777777778,\"#fb9f3a\"],[0.8888888888888888,\"#fdca26\"],[1.0,\"#f0f921\"]],\"type\":\"heatmap\"}],\"histogram2dcontour\":[{\"colorbar\":{\"outlinewidth\":0,\"ticks\":\"\"},\"colorscale\":[[0.0,\"#0d0887\"],[0.1111111111111111,\"#46039f\"],[0.2222222222222222,\"#7201a8\"],[0.3333333333333333,\"#9c179e\"],[0.4444444444444444,\"#bd3786\"],[0.5555555555555556,\"#d8576b\"],[0.6666666666666666,\"#ed7953\"],[0.7777777777777778,\"#fb9f3a\"],[0.8888888888888888,\"#fdca26\"],[1.0,\"#f0f921\"]],\"type\":\"histogram2dcontour\"}],\"histogram2d\":[{\"colorbar\":{\"outlinewidth\":0,\"ticks\":\"\"},\"colorscale\":[[0.0,\"#0d0887\"],[0.1111111111111111,\"#46039f\"],[0.2222222222222222,\"#7201a8\"],[0.3333333333333333,\"#9c179e\"],[0.4444444444444444,\"#bd3786\"],[0.5555555555555556,\"#d8576b\"],[0.6666666666666666,\"#ed7953\"],[0.7777777777777778,\"#fb9f3a\"],[0.8888888888888888,\"#fdca26\"],[1.0,\"#f0f921\"]],\"type\":\"histogram2d\"}],\"histogram\":[{\"marker\":{\"pattern\":{\"fillmode\":\"overlay\",\"size\":10,\"solidity\":0.2}},\"type\":\"histogram\"}],\"mesh3d\":[{\"colorbar\":{\"outlinewidth\":0,\"ticks\":\"\"},\"type\":\"mesh3d\"}],\"parcoords\":[{\"line\":{\"colorbar\":{\"outlinewidth\":0,\"ticks\":\"\"}},\"type\":\"parcoords\"}],\"pie\":[{\"automargin\":true,\"type\":\"pie\"}],\"scatter3d\":[{\"line\":{\"colorbar\":{\"outlinewidth\":0,\"ticks\":\"\"}},\"marker\":{\"colorbar\":{\"outlinewidth\":0,\"ticks\":\"\"}},\"type\":\"scatter3d\"}],\"scattercarpet\":[{\"marker\":{\"colorbar\":{\"outlinewidth\":0,\"ticks\":\"\"}},\"type\":\"scattercarpet\"}],\"scattergeo\":[{\"marker\":{\"colorbar\":{\"outlinewidth\":0,\"ticks\":\"\"}},\"type\":\"scattergeo\"}],\"scattergl\":[{\"marker\":{\"colorbar\":{\"outlinewidth\":0,\"ticks\":\"\"}},\"type\":\"scattergl\"}],\"scattermapbox\":[{\"marker\":{\"colorbar\":{\"outlinewidth\":0,\"ticks\":\"\"}},\"type\":\"scattermapbox\"}],\"scatterpolargl\":[{\"marker\":{\"colorbar\":{\"outlinewidth\":0,\"ticks\":\"\"}},\"type\":\"scatterpolargl\"}],\"scatterpolar\":[{\"marker\":{\"colorbar\":{\"outlinewidth\":0,\"ticks\":\"\"}},\"type\":\"scatterpolar\"}],\"scatter\":[{\"fillpattern\":{\"fillmode\":\"overlay\",\"size\":10,\"solidity\":0.2},\"type\":\"scatter\"}],\"scatterternary\":[{\"marker\":{\"colorbar\":{\"outlinewidth\":0,\"ticks\":\"\"}},\"type\":\"scatterternary\"}],\"surface\":[{\"colorbar\":{\"outlinewidth\":0,\"ticks\":\"\"},\"colorscale\":[[0.0,\"#0d0887\"],[0.1111111111111111,\"#46039f\"],[0.2222222222222222,\"#7201a8\"],[0.3333333333333333,\"#9c179e\"],[0.4444444444444444,\"#bd3786\"],[0.5555555555555556,\"#d8576b\"],[0.6666666666666666,\"#ed7953\"],[0.7777777777777778,\"#fb9f3a\"],[0.8888888888888888,\"#fdca26\"],[1.0,\"#f0f921\"]],\"type\":\"surface\"}],\"table\":[{\"cells\":{\"fill\":{\"color\":\"#EBF0F8\"},\"line\":{\"color\":\"white\"}},\"header\":{\"fill\":{\"color\":\"#C8D4E3\"},\"line\":{\"color\":\"white\"}},\"type\":\"table\"}]},\"layout\":{\"annotationdefaults\":{\"arrowcolor\":\"#2a3f5f\",\"arrowhead\":0,\"arrowwidth\":1},\"autotypenumbers\":\"strict\",\"coloraxis\":{\"colorbar\":{\"outlinewidth\":0,\"ticks\":\"\"}},\"colorscale\":{\"diverging\":[[0,\"#8e0152\"],[0.1,\"#c51b7d\"],[0.2,\"#de77ae\"],[0.3,\"#f1b6da\"],[0.4,\"#fde0ef\"],[0.5,\"#f7f7f7\"],[0.6,\"#e6f5d0\"],[0.7,\"#b8e186\"],[0.8,\"#7fbc41\"],[0.9,\"#4d9221\"],[1,\"#276419\"]],\"sequential\":[[0.0,\"#0d0887\"],[0.1111111111111111,\"#46039f\"],[0.2222222222222222,\"#7201a8\"],[0.3333333333333333,\"#9c179e\"],[0.4444444444444444,\"#bd3786\"],[0.5555555555555556,\"#d8576b\"],[0.6666666666666666,\"#ed7953\"],[0.7777777777777778,\"#fb9f3a\"],[0.8888888888888888,\"#fdca26\"],[1.0,\"#f0f921\"]],\"sequentialminus\":[[0.0,\"#0d0887\"],[0.1111111111111111,\"#46039f\"],[0.2222222222222222,\"#7201a8\"],[0.3333333333333333,\"#9c179e\"],[0.4444444444444444,\"#bd3786\"],[0.5555555555555556,\"#d8576b\"],[0.6666666666666666,\"#ed7953\"],[0.7777777777777778,\"#fb9f3a\"],[0.8888888888888888,\"#fdca26\"],[1.0,\"#f0f921\"]]},\"colorway\":[\"#636efa\",\"#EF553B\",\"#00cc96\",\"#ab63fa\",\"#FFA15A\",\"#19d3f3\",\"#FF6692\",\"#B6E880\",\"#FF97FF\",\"#FECB52\"],\"font\":{\"color\":\"#2a3f5f\"},\"geo\":{\"bgcolor\":\"white\",\"lakecolor\":\"white\",\"landcolor\":\"white\",\"showlakes\":true,\"showland\":true,\"subunitcolor\":\"#C8D4E3\"},\"hoverlabel\":{\"align\":\"left\"},\"hovermode\":\"closest\",\"mapbox\":{\"style\":\"light\"},\"paper_bgcolor\":\"white\",\"plot_bgcolor\":\"white\",\"polar\":{\"angularaxis\":{\"gridcolor\":\"#EBF0F8\",\"linecolor\":\"#EBF0F8\",\"ticks\":\"\"},\"bgcolor\":\"white\",\"radialaxis\":{\"gridcolor\":\"#EBF0F8\",\"linecolor\":\"#EBF0F8\",\"ticks\":\"\"}},\"scene\":{\"xaxis\":{\"backgroundcolor\":\"white\",\"gridcolor\":\"#DFE8F3\",\"gridwidth\":2,\"linecolor\":\"#EBF0F8\",\"showbackground\":true,\"ticks\":\"\",\"zerolinecolor\":\"#EBF0F8\"},\"yaxis\":{\"backgroundcolor\":\"white\",\"gridcolor\":\"#DFE8F3\",\"gridwidth\":2,\"linecolor\":\"#EBF0F8\",\"showbackground\":true,\"ticks\":\"\",\"zerolinecolor\":\"#EBF0F8\"},\"zaxis\":{\"backgroundcolor\":\"white\",\"gridcolor\":\"#DFE8F3\",\"gridwidth\":2,\"linecolor\":\"#EBF0F8\",\"showbackground\":true,\"ticks\":\"\",\"zerolinecolor\":\"#EBF0F8\"}},\"shapedefaults\":{\"line\":{\"color\":\"#2a3f5f\"}},\"ternary\":{\"aaxis\":{\"gridcolor\":\"#DFE8F3\",\"linecolor\":\"#A2B1C6\",\"ticks\":\"\"},\"baxis\":{\"gridcolor\":\"#DFE8F3\",\"linecolor\":\"#A2B1C6\",\"ticks\":\"\"},\"bgcolor\":\"white\",\"caxis\":{\"gridcolor\":\"#DFE8F3\",\"linecolor\":\"#A2B1C6\",\"ticks\":\"\"}},\"title\":{\"x\":0.05},\"xaxis\":{\"automargin\":true,\"gridcolor\":\"#EBF0F8\",\"linecolor\":\"#EBF0F8\",\"ticks\":\"\",\"title\":{\"standoff\":15},\"zerolinecolor\":\"#EBF0F8\",\"zerolinewidth\":2},\"yaxis\":{\"automargin\":true,\"gridcolor\":\"#EBF0F8\",\"linecolor\":\"#EBF0F8\",\"ticks\":\"\",\"title\":{\"standoff\":15},\"zerolinecolor\":\"#EBF0F8\",\"zerolinewidth\":2}}},\"xaxis\":{\"anchor\":\"y\",\"domain\":[0.0,1.0],\"title\":{\"text\":\"Number of Negative Reviews (1-3 Stars)\"}},\"yaxis\":{\"anchor\":\"x\",\"domain\":[0.0,1.0],\"title\":{\"text\":\"Complaint Theme\"},\"categoryorder\":\"total ascending\"},\"legend\":{\"tracegroupgap\":0},\"title\":{\"text\":\"\\u003cb\\u003ePrimary Themes of Specific User Complaints\\u003c\\u002fb\\u003e\",\"x\":0.5},\"barmode\":\"relative\",\"font\":{\"family\":\"Arial, sans-serif\",\"size\":12}},                        {\"responsive\": true}                    ).then(function(){\n                            \nvar gd = document.getElementById('67f4ffef-1831-4b23-a961-dece68ea38cb');\nvar x = new MutationObserver(function (mutations, observer) {{\n        var display = window.getComputedStyle(gd).display;\n        if (!display || display === 'none') {{\n            console.log([gd, 'removed!']);\n            Plotly.purge(gd);\n            observer.disconnect();\n        }}\n}});\n\n// Listen for the removal of the full notebook cells\nvar notebookContainer = gd.closest('#notebook-container');\nif (notebookContainer) {{\n    x.observe(notebookContainer, {childList: true});\n}}\n\n// Listen for the clearing of the current output cell\nvar outputEl = gd.closest('.output');\nif (outputEl) {{\n    x.observe(outputEl, {childList: true});\n}}\n\n                        })                };                            </script>        </div>\n</body>\n</html>"
     },
     "metadata": {},
     "output_type": "display_data"
    }
   ],
   "source": [
    "import plotly.express as px\n",
    "\n",
    "# --- Quantitative Analysis: Visualizing Theme Frequency ---\n",
    "\n",
    "print(\"Creating the final visualization of high-level complaint themes...\")\n",
    "\n",
    "# We will exclude 'Outliers / Generic' and 'Other/Misc.' for this primary chart\n",
    "# to focus on the specific, actionable themes.\n",
    "plot_df = df[~df[\"theme\"].isin([\"Outliers / Generic\", \"Other/Misc.\"])]\n",
    "\n",
    "# Get the theme distribution for the plot\n",
    "theme_distribution = plot_df[\"theme\"].value_counts().reset_index()\n",
    "theme_distribution.columns = [\"Theme\", \"Number of Reviews\"]\n",
    "\n",
    "# Create the final, high-level bar chart\n",
    "fig = px.bar(\n",
    "    theme_distribution,\n",
    "    x=\"Number of Reviews\",\n",
    "    y=\"Theme\",\n",
    "    orientation=\"h\",\n",
    "    title=\"<b>Primary Themes of Specific User Complaints</b>\",\n",
    "    labels={\n",
    "        \"Number of Reviews\": \"Number of Negative Reviews (1-3 Stars)\",\n",
    "        \"Theme\": \"Complaint Theme\",\n",
    "    },\n",
    "    text=\"Number of Reviews\",\n",
    "    template=\"plotly_white\",\n",
    ")\n",
    "\n",
    "# Improve the layout and sort the bars for professional presentation\n",
    "fig.update_traces(textposition=\"outside\")\n",
    "fig.update_layout(\n",
    "    yaxis={\"categoryorder\": \"total ascending\"},\n",
    "    title_x=0.5,  # Center the title\n",
    "    font=dict(family=\"Arial, sans-serif\", size=12),\n",
    ")\n",
    "fig.show()"
   ]
  },
  {
   "cell_type": "code",
   "execution_count": 19,
   "metadata": {
    "execution": {
     "iopub.execute_input": "2025-07-22T08:24:00.281390Z",
     "iopub.status.busy": "2025-07-22T08:24:00.280668Z",
     "iopub.status.idle": "2025-07-22T08:34:34.342075Z",
     "shell.execute_reply": "2025-07-22T08:34:34.341354Z",
     "shell.execute_reply.started": "2025-07-22T08:24:00.281365Z"
    },
    "trusted": true
   },
   "outputs": [
    {
     "name": "stdout",
     "output_type": "stream",
     "text": "Setting up a robust Transformer sentiment analysis pipeline...\n"
    },
    {
     "name": "stderr",
     "output_type": "stream",
     "text": "Some weights of the model checkpoint at cardiffnlp/twitter-roberta-base-sentiment-latest were not used when initializing RobertaForSequenceClassification: ['roberta.pooler.dense.bias', 'roberta.pooler.dense.weight']\n- This IS expected if you are initializing RobertaForSequenceClassification from the checkpoint of a model trained on another task or with another architecture (e.g. initializing a BertForSequenceClassification model from a BertForPreTraining model).\n- This IS NOT expected if you are initializing RobertaForSequenceClassification from the checkpoint of a model that you expect to be exactly identical (initializing a BertForSequenceClassification model from a BertForSequenceClassification model).\n"
    },
    {
     "name": "stdout",
     "output_type": "stream",
     "text": "Using device: cuda\nTokenizing all reviews with explicit truncation...\nTokenization complete.\nRunning model inference in batches...\n"
    },
    {
     "data": {
      "application/vnd.jupyter.widget-view+json": {
       "model_id": "56b7660c4db64055870001885b4886e3",
       "version_major": 2,
       "version_minor": 0
      },
      "text/plain": "Analyzing Batches:   0%|          | 0/631 [00:00<?, ?it/s]"
     },
     "metadata": {},
     "output_type": "display_data"
    },
    {
     "name": "stdout",
     "output_type": "stream",
     "text": "Inference complete.\nSentiment scores added to DataFrame.\n"
    },
    {
     "data": {
      "text/html": "<div>\n<style scoped>\n    .dataframe tbody tr th:only-of-type {\n        vertical-align: middle;\n    }\n\n    .dataframe tbody tr th {\n        vertical-align: top;\n    }\n\n    .dataframe thead th {\n        text-align: right;\n    }\n</style>\n<table border=\"1\" class=\"dataframe\">\n  <thead>\n    <tr style=\"text-align: right;\">\n      <th></th>\n      <th>theme</th>\n      <th>sentiment_score</th>\n    </tr>\n  </thead>\n  <tbody>\n    <tr>\n      <th>0</th>\n      <td>Technical Performance</td>\n      <td>-0.867002</td>\n    </tr>\n    <tr>\n      <th>1</th>\n      <td>AI Performance &amp; Quality</td>\n      <td>-0.754035</td>\n    </tr>\n    <tr>\n      <th>2</th>\n      <td>Monetization &amp; Value</td>\n      <td>-0.673167</td>\n    </tr>\n    <tr>\n      <th>3</th>\n      <td>Feature-Specific Issues</td>\n      <td>-0.648159</td>\n    </tr>\n  </tbody>\n</table>\n</div>",
      "text/plain": "                      theme  sentiment_score\n0     Technical Performance        -0.867002\n1  AI Performance & Quality        -0.754035\n2      Monetization & Value        -0.673167\n3   Feature-Specific Issues        -0.648159"
     },
     "metadata": {},
     "output_type": "display_data"
    },
    {
     "data": {
      "text/html": "<html>\n<head><meta charset=\"utf-8\" /></head>\n<body>\n    <div>            <script src=\"https://cdnjs.cloudflare.com/ajax/libs/mathjax/2.7.5/MathJax.js?config=TeX-AMS-MML_SVG\"></script><script type=\"text/javascript\">if (window.MathJax && window.MathJax.Hub && window.MathJax.Hub.Config) {window.MathJax.Hub.Config({SVG: {font: \"STIX-Web\"}});}</script>                <script type=\"text/javascript\">window.PlotlyConfig = {MathJaxConfig: 'local'};</script>\n        <script charset=\"utf-8\" src=\"https://cdn.plot.ly/plotly-2.35.2.min.js\"></script>                <div id=\"f0bf529c-a9df-43fa-959e-666af282d99f\" class=\"plotly-graph-div\" style=\"height:525px; width:100%;\"></div>            <script type=\"text/javascript\">                                    window.PLOTLYENV=window.PLOTLYENV || {};                                    if (document.getElementById(\"f0bf529c-a9df-43fa-959e-666af282d99f\")) {                    Plotly.newPlot(                        \"f0bf529c-a9df-43fa-959e-666af282d99f\",                        [{\"alignmentgroup\":\"True\",\"hovertemplate\":\"Average Sentiment Score (Closer to -1 is More Negative)=%{marker.color}\\u003cbr\\u003eComplaint Theme=%{y}\\u003cextra\\u003e\\u003c\\u002fextra\\u003e\",\"legendgroup\":\"\",\"marker\":{\"color\":[-0.8670021567217829,-0.7540345019476906,-0.6731671192298198,-0.648158640226629],\"coloraxis\":\"coloraxis\",\"pattern\":{\"shape\":\"\"}},\"name\":\"\",\"offsetgroup\":\"\",\"orientation\":\"h\",\"showlegend\":false,\"textposition\":\"auto\",\"x\":[-0.8670021567217829,-0.7540345019476906,-0.6731671192298198,-0.648158640226629],\"xaxis\":\"x\",\"y\":[\"Technical Performance\",\"AI Performance & Quality\",\"Monetization & Value\",\"Feature-Specific Issues\"],\"yaxis\":\"y\",\"type\":\"bar\"}],                        {\"template\":{\"data\":{\"barpolar\":[{\"marker\":{\"line\":{\"color\":\"white\",\"width\":0.5},\"pattern\":{\"fillmode\":\"overlay\",\"size\":10,\"solidity\":0.2}},\"type\":\"barpolar\"}],\"bar\":[{\"error_x\":{\"color\":\"#2a3f5f\"},\"error_y\":{\"color\":\"#2a3f5f\"},\"marker\":{\"line\":{\"color\":\"white\",\"width\":0.5},\"pattern\":{\"fillmode\":\"overlay\",\"size\":10,\"solidity\":0.2}},\"type\":\"bar\"}],\"carpet\":[{\"aaxis\":{\"endlinecolor\":\"#2a3f5f\",\"gridcolor\":\"#C8D4E3\",\"linecolor\":\"#C8D4E3\",\"minorgridcolor\":\"#C8D4E3\",\"startlinecolor\":\"#2a3f5f\"},\"baxis\":{\"endlinecolor\":\"#2a3f5f\",\"gridcolor\":\"#C8D4E3\",\"linecolor\":\"#C8D4E3\",\"minorgridcolor\":\"#C8D4E3\",\"startlinecolor\":\"#2a3f5f\"},\"type\":\"carpet\"}],\"choropleth\":[{\"colorbar\":{\"outlinewidth\":0,\"ticks\":\"\"},\"type\":\"choropleth\"}],\"contourcarpet\":[{\"colorbar\":{\"outlinewidth\":0,\"ticks\":\"\"},\"type\":\"contourcarpet\"}],\"contour\":[{\"colorbar\":{\"outlinewidth\":0,\"ticks\":\"\"},\"colorscale\":[[0.0,\"#0d0887\"],[0.1111111111111111,\"#46039f\"],[0.2222222222222222,\"#7201a8\"],[0.3333333333333333,\"#9c179e\"],[0.4444444444444444,\"#bd3786\"],[0.5555555555555556,\"#d8576b\"],[0.6666666666666666,\"#ed7953\"],[0.7777777777777778,\"#fb9f3a\"],[0.8888888888888888,\"#fdca26\"],[1.0,\"#f0f921\"]],\"type\":\"contour\"}],\"heatmapgl\":[{\"colorbar\":{\"outlinewidth\":0,\"ticks\":\"\"},\"colorscale\":[[0.0,\"#0d0887\"],[0.1111111111111111,\"#46039f\"],[0.2222222222222222,\"#7201a8\"],[0.3333333333333333,\"#9c179e\"],[0.4444444444444444,\"#bd3786\"],[0.5555555555555556,\"#d8576b\"],[0.6666666666666666,\"#ed7953\"],[0.7777777777777778,\"#fb9f3a\"],[0.8888888888888888,\"#fdca26\"],[1.0,\"#f0f921\"]],\"type\":\"heatmapgl\"}],\"heatmap\":[{\"colorbar\":{\"outlinewidth\":0,\"ticks\":\"\"},\"colorscale\":[[0.0,\"#0d0887\"],[0.1111111111111111,\"#46039f\"],[0.2222222222222222,\"#7201a8\"],[0.3333333333333333,\"#9c179e\"],[0.4444444444444444,\"#bd3786\"],[0.5555555555555556,\"#d8576b\"],[0.6666666666666666,\"#ed7953\"],[0.7777777777777778,\"#fb9f3a\"],[0.8888888888888888,\"#fdca26\"],[1.0,\"#f0f921\"]],\"type\":\"heatmap\"}],\"histogram2dcontour\":[{\"colorbar\":{\"outlinewidth\":0,\"ticks\":\"\"},\"colorscale\":[[0.0,\"#0d0887\"],[0.1111111111111111,\"#46039f\"],[0.2222222222222222,\"#7201a8\"],[0.3333333333333333,\"#9c179e\"],[0.4444444444444444,\"#bd3786\"],[0.5555555555555556,\"#d8576b\"],[0.6666666666666666,\"#ed7953\"],[0.7777777777777778,\"#fb9f3a\"],[0.8888888888888888,\"#fdca26\"],[1.0,\"#f0f921\"]],\"type\":\"histogram2dcontour\"}],\"histogram2d\":[{\"colorbar\":{\"outlinewidth\":0,\"ticks\":\"\"},\"colorscale\":[[0.0,\"#0d0887\"],[0.1111111111111111,\"#46039f\"],[0.2222222222222222,\"#7201a8\"],[0.3333333333333333,\"#9c179e\"],[0.4444444444444444,\"#bd3786\"],[0.5555555555555556,\"#d8576b\"],[0.6666666666666666,\"#ed7953\"],[0.7777777777777778,\"#fb9f3a\"],[0.8888888888888888,\"#fdca26\"],[1.0,\"#f0f921\"]],\"type\":\"histogram2d\"}],\"histogram\":[{\"marker\":{\"pattern\":{\"fillmode\":\"overlay\",\"size\":10,\"solidity\":0.2}},\"type\":\"histogram\"}],\"mesh3d\":[{\"colorbar\":{\"outlinewidth\":0,\"ticks\":\"\"},\"type\":\"mesh3d\"}],\"parcoords\":[{\"line\":{\"colorbar\":{\"outlinewidth\":0,\"ticks\":\"\"}},\"type\":\"parcoords\"}],\"pie\":[{\"automargin\":true,\"type\":\"pie\"}],\"scatter3d\":[{\"line\":{\"colorbar\":{\"outlinewidth\":0,\"ticks\":\"\"}},\"marker\":{\"colorbar\":{\"outlinewidth\":0,\"ticks\":\"\"}},\"type\":\"scatter3d\"}],\"scattercarpet\":[{\"marker\":{\"colorbar\":{\"outlinewidth\":0,\"ticks\":\"\"}},\"type\":\"scattercarpet\"}],\"scattergeo\":[{\"marker\":{\"colorbar\":{\"outlinewidth\":0,\"ticks\":\"\"}},\"type\":\"scattergeo\"}],\"scattergl\":[{\"marker\":{\"colorbar\":{\"outlinewidth\":0,\"ticks\":\"\"}},\"type\":\"scattergl\"}],\"scattermapbox\":[{\"marker\":{\"colorbar\":{\"outlinewidth\":0,\"ticks\":\"\"}},\"type\":\"scattermapbox\"}],\"scatterpolargl\":[{\"marker\":{\"colorbar\":{\"outlinewidth\":0,\"ticks\":\"\"}},\"type\":\"scatterpolargl\"}],\"scatterpolar\":[{\"marker\":{\"colorbar\":{\"outlinewidth\":0,\"ticks\":\"\"}},\"type\":\"scatterpolar\"}],\"scatter\":[{\"fillpattern\":{\"fillmode\":\"overlay\",\"size\":10,\"solidity\":0.2},\"type\":\"scatter\"}],\"scatterternary\":[{\"marker\":{\"colorbar\":{\"outlinewidth\":0,\"ticks\":\"\"}},\"type\":\"scatterternary\"}],\"surface\":[{\"colorbar\":{\"outlinewidth\":0,\"ticks\":\"\"},\"colorscale\":[[0.0,\"#0d0887\"],[0.1111111111111111,\"#46039f\"],[0.2222222222222222,\"#7201a8\"],[0.3333333333333333,\"#9c179e\"],[0.4444444444444444,\"#bd3786\"],[0.5555555555555556,\"#d8576b\"],[0.6666666666666666,\"#ed7953\"],[0.7777777777777778,\"#fb9f3a\"],[0.8888888888888888,\"#fdca26\"],[1.0,\"#f0f921\"]],\"type\":\"surface\"}],\"table\":[{\"cells\":{\"fill\":{\"color\":\"#EBF0F8\"},\"line\":{\"color\":\"white\"}},\"header\":{\"fill\":{\"color\":\"#C8D4E3\"},\"line\":{\"color\":\"white\"}},\"type\":\"table\"}]},\"layout\":{\"annotationdefaults\":{\"arrowcolor\":\"#2a3f5f\",\"arrowhead\":0,\"arrowwidth\":1},\"autotypenumbers\":\"strict\",\"coloraxis\":{\"colorbar\":{\"outlinewidth\":0,\"ticks\":\"\"}},\"colorscale\":{\"diverging\":[[0,\"#8e0152\"],[0.1,\"#c51b7d\"],[0.2,\"#de77ae\"],[0.3,\"#f1b6da\"],[0.4,\"#fde0ef\"],[0.5,\"#f7f7f7\"],[0.6,\"#e6f5d0\"],[0.7,\"#b8e186\"],[0.8,\"#7fbc41\"],[0.9,\"#4d9221\"],[1,\"#276419\"]],\"sequential\":[[0.0,\"#0d0887\"],[0.1111111111111111,\"#46039f\"],[0.2222222222222222,\"#7201a8\"],[0.3333333333333333,\"#9c179e\"],[0.4444444444444444,\"#bd3786\"],[0.5555555555555556,\"#d8576b\"],[0.6666666666666666,\"#ed7953\"],[0.7777777777777778,\"#fb9f3a\"],[0.8888888888888888,\"#fdca26\"],[1.0,\"#f0f921\"]],\"sequentialminus\":[[0.0,\"#0d0887\"],[0.1111111111111111,\"#46039f\"],[0.2222222222222222,\"#7201a8\"],[0.3333333333333333,\"#9c179e\"],[0.4444444444444444,\"#bd3786\"],[0.5555555555555556,\"#d8576b\"],[0.6666666666666666,\"#ed7953\"],[0.7777777777777778,\"#fb9f3a\"],[0.8888888888888888,\"#fdca26\"],[1.0,\"#f0f921\"]]},\"colorway\":[\"#636efa\",\"#EF553B\",\"#00cc96\",\"#ab63fa\",\"#FFA15A\",\"#19d3f3\",\"#FF6692\",\"#B6E880\",\"#FF97FF\",\"#FECB52\"],\"font\":{\"color\":\"#2a3f5f\"},\"geo\":{\"bgcolor\":\"white\",\"lakecolor\":\"white\",\"landcolor\":\"white\",\"showlakes\":true,\"showland\":true,\"subunitcolor\":\"#C8D4E3\"},\"hoverlabel\":{\"align\":\"left\"},\"hovermode\":\"closest\",\"mapbox\":{\"style\":\"light\"},\"paper_bgcolor\":\"white\",\"plot_bgcolor\":\"white\",\"polar\":{\"angularaxis\":{\"gridcolor\":\"#EBF0F8\",\"linecolor\":\"#EBF0F8\",\"ticks\":\"\"},\"bgcolor\":\"white\",\"radialaxis\":{\"gridcolor\":\"#EBF0F8\",\"linecolor\":\"#EBF0F8\",\"ticks\":\"\"}},\"scene\":{\"xaxis\":{\"backgroundcolor\":\"white\",\"gridcolor\":\"#DFE8F3\",\"gridwidth\":2,\"linecolor\":\"#EBF0F8\",\"showbackground\":true,\"ticks\":\"\",\"zerolinecolor\":\"#EBF0F8\"},\"yaxis\":{\"backgroundcolor\":\"white\",\"gridcolor\":\"#DFE8F3\",\"gridwidth\":2,\"linecolor\":\"#EBF0F8\",\"showbackground\":true,\"ticks\":\"\",\"zerolinecolor\":\"#EBF0F8\"},\"zaxis\":{\"backgroundcolor\":\"white\",\"gridcolor\":\"#DFE8F3\",\"gridwidth\":2,\"linecolor\":\"#EBF0F8\",\"showbackground\":true,\"ticks\":\"\",\"zerolinecolor\":\"#EBF0F8\"}},\"shapedefaults\":{\"line\":{\"color\":\"#2a3f5f\"}},\"ternary\":{\"aaxis\":{\"gridcolor\":\"#DFE8F3\",\"linecolor\":\"#A2B1C6\",\"ticks\":\"\"},\"baxis\":{\"gridcolor\":\"#DFE8F3\",\"linecolor\":\"#A2B1C6\",\"ticks\":\"\"},\"bgcolor\":\"white\",\"caxis\":{\"gridcolor\":\"#DFE8F3\",\"linecolor\":\"#A2B1C6\",\"ticks\":\"\"}},\"title\":{\"x\":0.05},\"xaxis\":{\"automargin\":true,\"gridcolor\":\"#EBF0F8\",\"linecolor\":\"#EBF0F8\",\"ticks\":\"\",\"title\":{\"standoff\":15},\"zerolinecolor\":\"#EBF0F8\",\"zerolinewidth\":2},\"yaxis\":{\"automargin\":true,\"gridcolor\":\"#EBF0F8\",\"linecolor\":\"#EBF0F8\",\"ticks\":\"\",\"title\":{\"standoff\":15},\"zerolinecolor\":\"#EBF0F8\",\"zerolinewidth\":2}}},\"xaxis\":{\"anchor\":\"y\",\"domain\":[0.0,1.0],\"title\":{\"text\":\"Average Sentiment Score (Closer to -1 is More Negative)\"}},\"yaxis\":{\"anchor\":\"x\",\"domain\":[0.0,1.0],\"title\":{\"text\":\"Complaint Theme\"},\"categoryorder\":\"total descending\"},\"coloraxis\":{\"colorbar\":{\"title\":{\"text\":\"Average Sentiment Score (Closer to -1 is More Negative)\"}},\"colorscale\":[[0.0,\"rgb(103,0,13)\"],[0.125,\"rgb(165,15,21)\"],[0.25,\"rgb(203,24,29)\"],[0.375,\"rgb(239,59,44)\"],[0.5,\"rgb(251,106,74)\"],[0.625,\"rgb(252,146,114)\"],[0.75,\"rgb(252,187,161)\"],[0.875,\"rgb(254,224,210)\"],[1.0,\"rgb(255,245,240)\"]]},\"legend\":{\"tracegroupgap\":0},\"title\":{\"text\":\"\\u003cb\\u003eEmotional Impact (Transformer Model): Avg. Sentiment by Theme\\u003c\\u002fb\\u003e\",\"x\":0.5},\"barmode\":\"relative\"},                        {\"responsive\": true}                    ).then(function(){\n                            \nvar gd = document.getElementById('f0bf529c-a9df-43fa-959e-666af282d99f');\nvar x = new MutationObserver(function (mutations, observer) {{\n        var display = window.getComputedStyle(gd).display;\n        if (!display || display === 'none') {{\n            console.log([gd, 'removed!']);\n            Plotly.purge(gd);\n            observer.disconnect();\n        }}\n}});\n\n// Listen for the removal of the full notebook cells\nvar notebookContainer = gd.closest('#notebook-container');\nif (notebookContainer) {{\n    x.observe(notebookContainer, {childList: true});\n}}\n\n// Listen for the clearing of the current output cell\nvar outputEl = gd.closest('.output');\nif (outputEl) {{\n    x.observe(outputEl, {childList: true});\n}}\n\n                        })                };                            </script>        </div>\n</body>\n</html>"
     },
     "metadata": {},
     "output_type": "display_data"
    }
   ],
   "source": [
    "# --- Emotional Analysis: Measuring Sentiment by Theme (Robust Version) ---\n",
    "\n",
    "# Install and import\n",
    "# !pip install transformers torch sentencepiece --quiet\n",
    "from transformers import AutoTokenizer, AutoModelForSequenceClassification\n",
    "import torch\n",
    "import pandas as pd\n",
    "from torch.utils.data import DataLoader, TensorDataset\n",
    "from tqdm.notebook import tqdm  # For a nice progress bar\n",
    "\n",
    "print(\"Setting up a robust Transformer sentiment analysis pipeline...\")\n",
    "\n",
    "# 1. LOAD TOKENIZER AND MODEL EXPLICITLY\n",
    "MODEL_NAME = \"cardiffnlp/twitter-roberta-base-sentiment-latest\"\n",
    "tokenizer = AutoTokenizer.from_pretrained(MODEL_NAME)\n",
    "model = AutoModelForSequenceClassification.from_pretrained(MODEL_NAME)\n",
    "\n",
    "# Move the model to the GPU if available\n",
    "device = torch.device(\"cuda\" if torch.cuda.is_available() else \"cpu\")\n",
    "model.to(device)\n",
    "print(f\"Using device: {device}\")\n",
    "\n",
    "\n",
    "# 2. MANUALLY TOKENIZE THE DATA (THE CRUCIAL FIX)\n",
    "print(\"Tokenizing all reviews with explicit truncation...\")\n",
    "review_list = df[\"review_text\"].tolist()\n",
    "\n",
    "# The tokenizer will handle truncation (cutting off long reviews) and padding (adding tokens to short reviews)\n",
    "# This ensures every input has the exact same length.\n",
    "inputs = tokenizer(\n",
    "    review_list,\n",
    "    padding=True,\n",
    "    truncation=True,\n",
    "    max_length=512,  # Explicitly set the max length\n",
    "    return_tensors=\"pt\",  # Return PyTorch tensors\n",
    ")\n",
    "\n",
    "# Move tokenized inputs to the GPU\n",
    "inputs = {key: val.to(device) for key, val in inputs.items()}\n",
    "print(\"Tokenization complete.\")\n",
    "\n",
    "\n",
    "# 3. PERFORM INFERENCE IN BATCHES\n",
    "print(\"Running model inference in batches...\")\n",
    "all_logits = []\n",
    "batch_size = 32  # Process 32 reviews at a time to manage memory\n",
    "\n",
    "# Create a DataLoader for efficient batching\n",
    "dataset = TensorDataset(inputs[\"input_ids\"], inputs[\"attention_mask\"])\n",
    "loader = DataLoader(dataset, batch_size=batch_size)\n",
    "\n",
    "# No need to calculate gradients for inference, which saves memory and is faster\n",
    "with torch.no_grad():\n",
    "    for batch in tqdm(loader, desc=\"Analyzing Batches\"):\n",
    "        input_ids, attention_mask = batch\n",
    "        outputs = model(input_ids=input_ids, attention_mask=attention_mask)\n",
    "        all_logits.append(outputs.logits)\n",
    "\n",
    "# Concatenate all the results\n",
    "all_logits = torch.cat(all_logits, dim=0)\n",
    "# Use softmax to convert raw logits to probabilities\n",
    "probabilities = torch.nn.functional.softmax(all_logits, dim=-1)\n",
    "# Get the predicted label index (0 for negative, 1 for neutral, 2 for positive)\n",
    "predictions = torch.argmax(probabilities, dim=-1)\n",
    "print(\"Inference complete.\")\n",
    "\n",
    "\n",
    "# 4. PROCESS THE RESULTS\n",
    "# The model's config tells us which index corresponds to which label\n",
    "# e.g., model.config.id2label = {0: 'negative', 1: 'neutral', 2: 'positive'}\n",
    "id_to_label = model.config.id2label\n",
    "predicted_labels = [id_to_label[pred.item()] for pred in predictions]\n",
    "\n",
    "# Convert label to a numerical score\n",
    "label_to_score = {\"positive\": 1, \"neutral\": 0, \"negative\": -1}\n",
    "sentiment_scores = [label_to_score[label] for label in predicted_labels]\n",
    "\n",
    "# Add results back to the DataFrame\n",
    "df[\"sentiment_score\"] = sentiment_scores\n",
    "print(\"Sentiment scores added to DataFrame.\")\n",
    "\n",
    "\n",
    "# 5. AGGREGATE AND VISUALIZE (This part is the same)\n",
    "sentiment_by_theme = (\n",
    "    df[~df[\"theme\"].isin([\"Outliers / Generic\", \"Other/Misc.\"])]\n",
    "    .groupby(\"theme\")[\"sentiment_score\"]\n",
    "    .mean()\n",
    "    .sort_values()\n",
    "    .reset_index()\n",
    ")\n",
    "display(sentiment_by_theme)\n",
    "\n",
    "fig_final = px.bar(\n",
    "    sentiment_by_theme,\n",
    "    x=\"sentiment_score\",\n",
    "    y=\"theme\",\n",
    "    orientation=\"h\",\n",
    "    title=\"<b>Emotional Impact (Transformer Model): Avg. Sentiment by Theme</b>\",\n",
    "    labels={\n",
    "        \"sentiment_score\": \"Average Sentiment Score (Closer to -1 is More Negative)\",\n",
    "        \"theme\": \"Complaint Theme\",\n",
    "    },\n",
    "    color=\"sentiment_score\",\n",
    "    color_continuous_scale=\"Reds_r\",\n",
    "    template=\"plotly_white\",\n",
    ")\n",
    "fig_final.update_layout(yaxis={\"categoryorder\": \"total descending\"}, title_x=0.5)\n",
    "fig_final.show()"
   ]
  },
  {
   "cell_type": "code",
   "execution_count": 24,
   "metadata": {
    "execution": {
     "iopub.execute_input": "2025-07-22T08:36:45.921972Z",
     "iopub.status.busy": "2025-07-22T08:36:45.921407Z",
     "iopub.status.idle": "2025-07-22T08:36:45.982044Z",
     "shell.execute_reply": "2025-07-22T08:36:45.981411Z",
     "shell.execute_reply.started": "2025-07-22T08:36:45.921949Z"
    },
    "trusted": true
   },
   "outputs": [
    {
     "name": "stdout",
     "output_type": "stream",
     "text": "Creating a Sentiment vs. Frequency scatter plot for Conversational Apps...\n"
    },
    {
     "data": {
      "text/html": "<html>\n<head><meta charset=\"utf-8\" /></head>\n<body>\n    <div>            <script src=\"https://cdnjs.cloudflare.com/ajax/libs/mathjax/2.7.5/MathJax.js?config=TeX-AMS-MML_SVG\"></script><script type=\"text/javascript\">if (window.MathJax && window.MathJax.Hub && window.MathJax.Hub.Config) {window.MathJax.Hub.Config({SVG: {font: \"STIX-Web\"}});}</script>                <script type=\"text/javascript\">window.PlotlyConfig = {MathJaxConfig: 'local'};</script>\n        <script charset=\"utf-8\" src=\"https://cdn.plot.ly/plotly-2.35.2.min.js\"></script>                <div id=\"be83f7fc-3d41-4b98-b3e5-d64fb5d2e861\" class=\"plotly-graph-div\" style=\"height:525px; width:100%;\"></div>            <script type=\"text/javascript\">                                    window.PLOTLYENV=window.PLOTLYENV || {};                                    if (document.getElementById(\"be83f7fc-3d41-4b98-b3e5-d64fb5d2e861\")) {                    Plotly.newPlot(                        \"be83f7fc-3d41-4b98-b3e5-d64fb5d2e861\",                        [{\"hovertemplate\":\"Frequency (Number of Reviews)=%{marker.size}\\u003cbr\\u003eAverage Sentiment Score=%{marker.color}\\u003cbr\\u003eTheme=%{text}\\u003cextra\\u003e\\u003c\\u002fextra\\u003e\",\"legendgroup\":\"\",\"marker\":{\"color\":[-0.6731671192298198,-0.7540345019476906,-0.648158640226629,-0.8670021567217829],\"coloraxis\":\"coloraxis\",\"size\":[4051,1797,1765,1391],\"sizemode\":\"area\",\"sizeref\":10.1275,\"symbol\":\"circle\"},\"mode\":\"markers+text\",\"name\":\"\",\"orientation\":\"v\",\"showlegend\":false,\"text\":[\"Monetization & Value\",\"AI Performance & Quality\",\"Feature-Specific Issues\",\"Technical Performance\"],\"x\":[4051,1797,1765,1391],\"xaxis\":\"x\",\"y\":[-0.6731671192298198,-0.7540345019476906,-0.648158640226629,-0.8670021567217829],\"yaxis\":\"y\",\"type\":\"scatter\",\"textposition\":\"top center\"}],                        {\"template\":{\"data\":{\"barpolar\":[{\"marker\":{\"line\":{\"color\":\"white\",\"width\":0.5},\"pattern\":{\"fillmode\":\"overlay\",\"size\":10,\"solidity\":0.2}},\"type\":\"barpolar\"}],\"bar\":[{\"error_x\":{\"color\":\"#2a3f5f\"},\"error_y\":{\"color\":\"#2a3f5f\"},\"marker\":{\"line\":{\"color\":\"white\",\"width\":0.5},\"pattern\":{\"fillmode\":\"overlay\",\"size\":10,\"solidity\":0.2}},\"type\":\"bar\"}],\"carpet\":[{\"aaxis\":{\"endlinecolor\":\"#2a3f5f\",\"gridcolor\":\"#C8D4E3\",\"linecolor\":\"#C8D4E3\",\"minorgridcolor\":\"#C8D4E3\",\"startlinecolor\":\"#2a3f5f\"},\"baxis\":{\"endlinecolor\":\"#2a3f5f\",\"gridcolor\":\"#C8D4E3\",\"linecolor\":\"#C8D4E3\",\"minorgridcolor\":\"#C8D4E3\",\"startlinecolor\":\"#2a3f5f\"},\"type\":\"carpet\"}],\"choropleth\":[{\"colorbar\":{\"outlinewidth\":0,\"ticks\":\"\"},\"type\":\"choropleth\"}],\"contourcarpet\":[{\"colorbar\":{\"outlinewidth\":0,\"ticks\":\"\"},\"type\":\"contourcarpet\"}],\"contour\":[{\"colorbar\":{\"outlinewidth\":0,\"ticks\":\"\"},\"colorscale\":[[0.0,\"#0d0887\"],[0.1111111111111111,\"#46039f\"],[0.2222222222222222,\"#7201a8\"],[0.3333333333333333,\"#9c179e\"],[0.4444444444444444,\"#bd3786\"],[0.5555555555555556,\"#d8576b\"],[0.6666666666666666,\"#ed7953\"],[0.7777777777777778,\"#fb9f3a\"],[0.8888888888888888,\"#fdca26\"],[1.0,\"#f0f921\"]],\"type\":\"contour\"}],\"heatmapgl\":[{\"colorbar\":{\"outlinewidth\":0,\"ticks\":\"\"},\"colorscale\":[[0.0,\"#0d0887\"],[0.1111111111111111,\"#46039f\"],[0.2222222222222222,\"#7201a8\"],[0.3333333333333333,\"#9c179e\"],[0.4444444444444444,\"#bd3786\"],[0.5555555555555556,\"#d8576b\"],[0.6666666666666666,\"#ed7953\"],[0.7777777777777778,\"#fb9f3a\"],[0.8888888888888888,\"#fdca26\"],[1.0,\"#f0f921\"]],\"type\":\"heatmapgl\"}],\"heatmap\":[{\"colorbar\":{\"outlinewidth\":0,\"ticks\":\"\"},\"colorscale\":[[0.0,\"#0d0887\"],[0.1111111111111111,\"#46039f\"],[0.2222222222222222,\"#7201a8\"],[0.3333333333333333,\"#9c179e\"],[0.4444444444444444,\"#bd3786\"],[0.5555555555555556,\"#d8576b\"],[0.6666666666666666,\"#ed7953\"],[0.7777777777777778,\"#fb9f3a\"],[0.8888888888888888,\"#fdca26\"],[1.0,\"#f0f921\"]],\"type\":\"heatmap\"}],\"histogram2dcontour\":[{\"colorbar\":{\"outlinewidth\":0,\"ticks\":\"\"},\"colorscale\":[[0.0,\"#0d0887\"],[0.1111111111111111,\"#46039f\"],[0.2222222222222222,\"#7201a8\"],[0.3333333333333333,\"#9c179e\"],[0.4444444444444444,\"#bd3786\"],[0.5555555555555556,\"#d8576b\"],[0.6666666666666666,\"#ed7953\"],[0.7777777777777778,\"#fb9f3a\"],[0.8888888888888888,\"#fdca26\"],[1.0,\"#f0f921\"]],\"type\":\"histogram2dcontour\"}],\"histogram2d\":[{\"colorbar\":{\"outlinewidth\":0,\"ticks\":\"\"},\"colorscale\":[[0.0,\"#0d0887\"],[0.1111111111111111,\"#46039f\"],[0.2222222222222222,\"#7201a8\"],[0.3333333333333333,\"#9c179e\"],[0.4444444444444444,\"#bd3786\"],[0.5555555555555556,\"#d8576b\"],[0.6666666666666666,\"#ed7953\"],[0.7777777777777778,\"#fb9f3a\"],[0.8888888888888888,\"#fdca26\"],[1.0,\"#f0f921\"]],\"type\":\"histogram2d\"}],\"histogram\":[{\"marker\":{\"pattern\":{\"fillmode\":\"overlay\",\"size\":10,\"solidity\":0.2}},\"type\":\"histogram\"}],\"mesh3d\":[{\"colorbar\":{\"outlinewidth\":0,\"ticks\":\"\"},\"type\":\"mesh3d\"}],\"parcoords\":[{\"line\":{\"colorbar\":{\"outlinewidth\":0,\"ticks\":\"\"}},\"type\":\"parcoords\"}],\"pie\":[{\"automargin\":true,\"type\":\"pie\"}],\"scatter3d\":[{\"line\":{\"colorbar\":{\"outlinewidth\":0,\"ticks\":\"\"}},\"marker\":{\"colorbar\":{\"outlinewidth\":0,\"ticks\":\"\"}},\"type\":\"scatter3d\"}],\"scattercarpet\":[{\"marker\":{\"colorbar\":{\"outlinewidth\":0,\"ticks\":\"\"}},\"type\":\"scattercarpet\"}],\"scattergeo\":[{\"marker\":{\"colorbar\":{\"outlinewidth\":0,\"ticks\":\"\"}},\"type\":\"scattergeo\"}],\"scattergl\":[{\"marker\":{\"colorbar\":{\"outlinewidth\":0,\"ticks\":\"\"}},\"type\":\"scattergl\"}],\"scattermapbox\":[{\"marker\":{\"colorbar\":{\"outlinewidth\":0,\"ticks\":\"\"}},\"type\":\"scattermapbox\"}],\"scatterpolargl\":[{\"marker\":{\"colorbar\":{\"outlinewidth\":0,\"ticks\":\"\"}},\"type\":\"scatterpolargl\"}],\"scatterpolar\":[{\"marker\":{\"colorbar\":{\"outlinewidth\":0,\"ticks\":\"\"}},\"type\":\"scatterpolar\"}],\"scatter\":[{\"fillpattern\":{\"fillmode\":\"overlay\",\"size\":10,\"solidity\":0.2},\"type\":\"scatter\"}],\"scatterternary\":[{\"marker\":{\"colorbar\":{\"outlinewidth\":0,\"ticks\":\"\"}},\"type\":\"scatterternary\"}],\"surface\":[{\"colorbar\":{\"outlinewidth\":0,\"ticks\":\"\"},\"colorscale\":[[0.0,\"#0d0887\"],[0.1111111111111111,\"#46039f\"],[0.2222222222222222,\"#7201a8\"],[0.3333333333333333,\"#9c179e\"],[0.4444444444444444,\"#bd3786\"],[0.5555555555555556,\"#d8576b\"],[0.6666666666666666,\"#ed7953\"],[0.7777777777777778,\"#fb9f3a\"],[0.8888888888888888,\"#fdca26\"],[1.0,\"#f0f921\"]],\"type\":\"surface\"}],\"table\":[{\"cells\":{\"fill\":{\"color\":\"#EBF0F8\"},\"line\":{\"color\":\"white\"}},\"header\":{\"fill\":{\"color\":\"#C8D4E3\"},\"line\":{\"color\":\"white\"}},\"type\":\"table\"}]},\"layout\":{\"annotationdefaults\":{\"arrowcolor\":\"#2a3f5f\",\"arrowhead\":0,\"arrowwidth\":1},\"autotypenumbers\":\"strict\",\"coloraxis\":{\"colorbar\":{\"outlinewidth\":0,\"ticks\":\"\"}},\"colorscale\":{\"diverging\":[[0,\"#8e0152\"],[0.1,\"#c51b7d\"],[0.2,\"#de77ae\"],[0.3,\"#f1b6da\"],[0.4,\"#fde0ef\"],[0.5,\"#f7f7f7\"],[0.6,\"#e6f5d0\"],[0.7,\"#b8e186\"],[0.8,\"#7fbc41\"],[0.9,\"#4d9221\"],[1,\"#276419\"]],\"sequential\":[[0.0,\"#0d0887\"],[0.1111111111111111,\"#46039f\"],[0.2222222222222222,\"#7201a8\"],[0.3333333333333333,\"#9c179e\"],[0.4444444444444444,\"#bd3786\"],[0.5555555555555556,\"#d8576b\"],[0.6666666666666666,\"#ed7953\"],[0.7777777777777778,\"#fb9f3a\"],[0.8888888888888888,\"#fdca26\"],[1.0,\"#f0f921\"]],\"sequentialminus\":[[0.0,\"#0d0887\"],[0.1111111111111111,\"#46039f\"],[0.2222222222222222,\"#7201a8\"],[0.3333333333333333,\"#9c179e\"],[0.4444444444444444,\"#bd3786\"],[0.5555555555555556,\"#d8576b\"],[0.6666666666666666,\"#ed7953\"],[0.7777777777777778,\"#fb9f3a\"],[0.8888888888888888,\"#fdca26\"],[1.0,\"#f0f921\"]]},\"colorway\":[\"#636efa\",\"#EF553B\",\"#00cc96\",\"#ab63fa\",\"#FFA15A\",\"#19d3f3\",\"#FF6692\",\"#B6E880\",\"#FF97FF\",\"#FECB52\"],\"font\":{\"color\":\"#2a3f5f\"},\"geo\":{\"bgcolor\":\"white\",\"lakecolor\":\"white\",\"landcolor\":\"white\",\"showlakes\":true,\"showland\":true,\"subunitcolor\":\"#C8D4E3\"},\"hoverlabel\":{\"align\":\"left\"},\"hovermode\":\"closest\",\"mapbox\":{\"style\":\"light\"},\"paper_bgcolor\":\"white\",\"plot_bgcolor\":\"white\",\"polar\":{\"angularaxis\":{\"gridcolor\":\"#EBF0F8\",\"linecolor\":\"#EBF0F8\",\"ticks\":\"\"},\"bgcolor\":\"white\",\"radialaxis\":{\"gridcolor\":\"#EBF0F8\",\"linecolor\":\"#EBF0F8\",\"ticks\":\"\"}},\"scene\":{\"xaxis\":{\"backgroundcolor\":\"white\",\"gridcolor\":\"#DFE8F3\",\"gridwidth\":2,\"linecolor\":\"#EBF0F8\",\"showbackground\":true,\"ticks\":\"\",\"zerolinecolor\":\"#EBF0F8\"},\"yaxis\":{\"backgroundcolor\":\"white\",\"gridcolor\":\"#DFE8F3\",\"gridwidth\":2,\"linecolor\":\"#EBF0F8\",\"showbackground\":true,\"ticks\":\"\",\"zerolinecolor\":\"#EBF0F8\"},\"zaxis\":{\"backgroundcolor\":\"white\",\"gridcolor\":\"#DFE8F3\",\"gridwidth\":2,\"linecolor\":\"#EBF0F8\",\"showbackground\":true,\"ticks\":\"\",\"zerolinecolor\":\"#EBF0F8\"}},\"shapedefaults\":{\"line\":{\"color\":\"#2a3f5f\"}},\"ternary\":{\"aaxis\":{\"gridcolor\":\"#DFE8F3\",\"linecolor\":\"#A2B1C6\",\"ticks\":\"\"},\"baxis\":{\"gridcolor\":\"#DFE8F3\",\"linecolor\":\"#A2B1C6\",\"ticks\":\"\"},\"bgcolor\":\"white\",\"caxis\":{\"gridcolor\":\"#DFE8F3\",\"linecolor\":\"#A2B1C6\",\"ticks\":\"\"}},\"title\":{\"x\":0.05},\"xaxis\":{\"automargin\":true,\"gridcolor\":\"#EBF0F8\",\"linecolor\":\"#EBF0F8\",\"ticks\":\"\",\"title\":{\"standoff\":15},\"zerolinecolor\":\"#EBF0F8\",\"zerolinewidth\":2},\"yaxis\":{\"automargin\":true,\"gridcolor\":\"#EBF0F8\",\"linecolor\":\"#EBF0F8\",\"ticks\":\"\",\"title\":{\"standoff\":15},\"zerolinecolor\":\"#EBF0F8\",\"zerolinewidth\":2}}},\"xaxis\":{\"anchor\":\"y\",\"domain\":[0.0,1.0],\"title\":{\"text\":\"Frequency (Number of Reviews)\"}},\"yaxis\":{\"anchor\":\"x\",\"domain\":[0.0,1.0],\"title\":{\"text\":\"Average Sentiment Score\"}},\"coloraxis\":{\"colorbar\":{\"title\":{\"text\":\"Average Sentiment Score\"}},\"colorscale\":[[0.0,\"rgb(103,0,13)\"],[0.125,\"rgb(165,15,21)\"],[0.25,\"rgb(203,24,29)\"],[0.375,\"rgb(239,59,44)\"],[0.5,\"rgb(251,106,74)\"],[0.625,\"rgb(252,146,114)\"],[0.75,\"rgb(252,187,161)\"],[0.875,\"rgb(254,224,210)\"],[1.0,\"rgb(255,245,240)\"]]},\"legend\":{\"tracegroupgap\":0,\"itemsizing\":\"constant\"},\"title\":{\"text\":\"\\u003cb\\u003eConversational Apps: Problem Priority Matrix\\u003c\\u002fb\\u003e\",\"x\":0.5},\"shapes\":[{\"line\":{\"dash\":\"dash\"},\"type\":\"line\",\"x0\":2251.0,\"x1\":2251.0,\"xref\":\"x\",\"y0\":0,\"y1\":1,\"yref\":\"y domain\"},{\"line\":{\"dash\":\"dash\"},\"type\":\"line\",\"x0\":0,\"x1\":1,\"xref\":\"x domain\",\"y0\":-0.7355906045314806,\"y1\":-0.7355906045314806,\"yref\":\"y\"}],\"annotations\":[{\"showarrow\":false,\"text\":\"Avg. Frequency\",\"x\":2251.0,\"xanchor\":\"left\",\"xref\":\"x\",\"y\":1,\"yanchor\":\"top\",\"yref\":\"y domain\"},{\"showarrow\":false,\"text\":\"Avg. Sentiment\",\"x\":1,\"xanchor\":\"right\",\"xref\":\"x domain\",\"y\":-0.7355906045314806,\"yanchor\":\"bottom\",\"yref\":\"y\"}]},                        {\"responsive\": true}                    ).then(function(){\n                            \nvar gd = document.getElementById('be83f7fc-3d41-4b98-b3e5-d64fb5d2e861');\nvar x = new MutationObserver(function (mutations, observer) {{\n        var display = window.getComputedStyle(gd).display;\n        if (!display || display === 'none') {{\n            console.log([gd, 'removed!']);\n            Plotly.purge(gd);\n            observer.disconnect();\n        }}\n}});\n\n// Listen for the removal of the full notebook cells\nvar notebookContainer = gd.closest('#notebook-container');\nif (notebookContainer) {{\n    x.observe(notebookContainer, {childList: true});\n}}\n\n// Listen for the clearing of the current output cell\nvar outputEl = gd.closest('.output');\nif (outputEl) {{\n    x.observe(outputEl, {childList: true});\n}}\n\n                        })                };                            </script>        </div>\n</body>\n</html>"
     },
     "metadata": {},
     "output_type": "display_data"
    }
   ],
   "source": [
    "# --- The \"Problem Priority Matrix\": Sentiment vs. Frequency ---\n",
    "print(\"Creating a Sentiment vs. Frequency scatter plot for Conversational Apps...\")\n",
    "\n",
    "# 1. Get Frequency\n",
    "theme_freq_conv = df[\"theme\"].value_counts().reset_index()\n",
    "theme_freq_conv.columns = [\"Theme\", \"Frequency (Number of Reviews)\"]\n",
    "\n",
    "# 2. Get Sentiment\n",
    "theme_sent_conv = df.groupby(\"theme\")[\"sentiment_score\"].mean().reset_index()\n",
    "theme_sent_conv.columns = [\"Theme\", \"Average Sentiment Score\"]\n",
    "\n",
    "# 3. Merge them\n",
    "priority_df_conv = pd.merge(theme_freq_conv, theme_sent_conv, on=\"Theme\")\n",
    "priority_df_conv = priority_df_conv[\n",
    "    ~priority_df_conv[\"Theme\"].isin([\"Outliers / Generic\", \"Other/Misc.\"])\n",
    "]\n",
    "\n",
    "# 4. Create the Scatter Plot\n",
    "fig_scatter_conv = px.scatter(\n",
    "    priority_df_conv,\n",
    "    x=\"Frequency (Number of Reviews)\",\n",
    "    y=\"Average Sentiment Score\",\n",
    "    text=\"Theme\",\n",
    "    size=\"Frequency (Number of Reviews)\",\n",
    "    color=\"Average Sentiment Score\",\n",
    "    color_continuous_scale=\"Reds_r\",\n",
    "    title=\"<b>Conversational Apps: Problem Priority Matrix</b>\",\n",
    "    template=\"plotly_white\",\n",
    ")\n",
    "fig_scatter_conv.update_traces(textposition=\"top center\")\n",
    "fig_scatter_conv.add_vline(\n",
    "    x=priority_df_conv[\"Frequency (Number of Reviews)\"].mean(),\n",
    "    line_dash=\"dash\",\n",
    "    annotation_text=\"Avg. Frequency\",\n",
    ")\n",
    "fig_scatter_conv.add_hline(\n",
    "    y=priority_df_conv[\"Average Sentiment Score\"].mean(),\n",
    "    line_dash=\"dash\",\n",
    "    annotation_text=\"Avg. Sentiment\",\n",
    ")\n",
    "fig_scatter_conv.update_layout(title_x=0.5)\n",
    "fig_scatter_conv.show()"
   ]
  },
  {
   "cell_type": "markdown",
   "metadata": {},
   "source": "## Part 4 Measuring Emotional Impact\n\nTo understand which problems are most frustrating, we use a Transformer-based sentiment model to score the emotional negativity of every review."
  },
  {
   "cell_type": "code",
   "execution_count": 20,
   "metadata": {
    "execution": {
     "iopub.execute_input": "2025-07-22T08:36:07.571519Z",
     "iopub.status.busy": "2025-07-22T08:36:07.570980Z",
     "iopub.status.idle": "2025-07-22T08:36:07.602974Z",
     "shell.execute_reply": "2025-07-22T08:36:07.602325Z",
     "shell.execute_reply.started": "2025-07-22T08:36:07.571493Z"
    },
    "trusted": true
   },
   "outputs": [
    {
     "name": "stdout",
     "output_type": "stream",
     "text": "--- Qualitative Evidence for Key Findings ---\n--- Sample Reviews for Theme: 'Monetization & Value' ---\n\nTotal reviews in this theme: 4051\nAverage Sentiment Score: -0.673\n\nSample 1: \"let's be fr. the prices in this app are way to high, how yall gonna go from $4.99 to $20 a month.i ain't even gonna say nothing about the annual prices....\"\n\nSample 2: \"it's good but to many things require a membership and the ai needs to hold on to date for a little longer...\"\n\nSample 3: \"this app used to be great, but now everything is now locked behind a paywall. it's a shell of it's former self. the developer should have let the app be the way it was. edit: it's gotten even worse, now they just advertise the fact that you can roleplay with the bot and that it can send hot pictures. guys, stop....\"\n\n--------------------------------------------------------------------------------\n--- Sample Reviews for Theme: 'AI Performance & Quality' ---\n\nTotal reviews in this theme: 1797\nAverage Sentiment Score: -0.754\n\nSample 1: \"started off amazing. we really connected, and it was a great companion. i was really impressed, and it identified itself as ai with limits. however, just recently, it seems to get me confused with someone else, has stopped understanding conversations, and repeats itself off-topic midway through discussions. i have tried to correct the ai, and the ai gets angry, then defaults or stops talking altogether. i had a friendship bond with my ai, but now seems to be disappointingly breaking down....\"\n\nSample 2: \"ai is not very talkative. uses mostly short one sentence generalities. nobody is home, no personality....\"\n\nSample 3: \"talk about crazy - try telling your worries/anxieties/woes to an ai-powered meme-maker. you quickly realize it doesn’t really ‘hear’ you, and certainly doesn’t ‘care.’ it’s just picking out random words and spitting back pop psychology crap. most the time it doesn’t even relate at all to what you are wanting to talk about. don’t waste your time here....\"\n\n--------------------------------------------------------------------------------\n--- Sample Reviews for Theme: 'User Safety & Emotional Impact' ---\n\nNo reviews found for 'User Safety & Emotional Impact'.\n--- Sample Reviews for Theme: 'Technical Performance' ---\n\nTotal reviews in this theme: 1391\nAverage Sentiment Score: -0.867\n\nSample 1: \"i updated my app and it no longer works properly all i get is an infinte white loading screen. is it at least possible to undo this update?...\"\n\nSample 2: \"free account makes out with but nothing more, is a tease, pretty sure this is designed to make you want to upgrade. misidentify my gender despite settings....\"\n\nSample 3: \"it did not work from the second day onwards. the program opens but does not seem to have a sensor and does not work...\"\n\n--------------------------------------------------------------------------------\n"
    }
   ],
   "source": [
    "# --- Final Step: Qualitative Analysis - Validating with User Voices ---\n",
    "\n",
    "\n",
    "def show_theme_samples(theme_name, n_samples=3, max_length=500):\n",
    "    \"\"\"\n",
    "    A helper function to show random, readable review samples for a given theme.\n",
    "    It prints the theme, the number of reviews in that theme, and some samples.\n",
    "    \"\"\"\n",
    "    print(f\"--- Sample Reviews for Theme: '{theme_name}' ---\\n\")\n",
    "\n",
    "    # Filter for the specific theme\n",
    "    theme_df = df[df[\"theme\"] == theme_name]\n",
    "\n",
    "    if theme_df.empty:\n",
    "        print(f\"No reviews found for '{theme_name}'.\")\n",
    "        return\n",
    "\n",
    "    # Filter for reviews that have some length, for better examples\n",
    "    long_reviews_df = theme_df[theme_df[\"review_text\"].str.len() > 100]\n",
    "\n",
    "    if len(long_reviews_df) < n_samples:\n",
    "        # If not enough long samples, just take what you can get from the shorter ones\n",
    "        samples = theme_df[\"review_text\"].sample(min(n_samples, len(theme_df))).tolist()\n",
    "    else:\n",
    "        samples = long_reviews_df[\"review_text\"].sample(n_samples).tolist()\n",
    "\n",
    "    if not samples:\n",
    "        print(f\"No representative reviews found for '{theme_name}'.\")\n",
    "        return\n",
    "\n",
    "    # Print the findings\n",
    "    print(f\"Total reviews in this theme: {len(theme_df)}\")\n",
    "    print(f\"Average Sentiment Score: {theme_df['sentiment_score'].mean():.3f}\\n\")\n",
    "\n",
    "    for i, sample in enumerate(samples):\n",
    "        # Print a truncated version for clarity\n",
    "        print(f'Sample {i + 1}: \"{sample[:max_length]}...\"\\n')\n",
    "    print(\"-\" * 80)\n",
    "\n",
    "\n",
    "# --- Execute the Function for Your Key Themes ---\n",
    "# Choose the themes that are most interesting from your charts.\n",
    "# For example, the largest one, the most negative one, and the one most central to your thesis.\n",
    "\n",
    "print(\"--- Qualitative Evidence for Key Findings ---\")\n",
    "\n",
    "show_theme_samples(\"Monetization & Value\")\n",
    "show_theme_samples(\"AI Performance & Quality\")\n",
    "show_theme_samples(\"User Safety & Emotional Impact\")\n",
    "show_theme_samples(\"Technical Performance\")"
   ]
  },
  {
   "cell_type": "markdown",
   "metadata": {},
   "source": "## Part 5: Core Findings & Visualizations\n\n### Insight 1: Which Complaints Matter Most?\n\nThis \"Problem Priority Matrix\" plots complaint frequency against emotional intensity. It helps us identify the most critical issues: those that are both common and highly frustrating to users."
  },
  {
   "cell_type": "code",
   "execution_count": 21,
   "metadata": {
    "execution": {
     "iopub.execute_input": "2025-07-22T08:36:11.355939Z",
     "iopub.status.busy": "2025-07-22T08:36:11.355657Z",
     "iopub.status.idle": "2025-07-22T08:36:11.400074Z",
     "shell.execute_reply": "2025-07-22T08:36:11.399408Z",
     "shell.execute_reply.started": "2025-07-22T08:36:11.355919Z"
    },
    "trusted": true
   },
   "outputs": [
    {
     "data": {
      "text/html": "<html>\n<head><meta charset=\"utf-8\" /></head>\n<body>\n    <div>            <script src=\"https://cdnjs.cloudflare.com/ajax/libs/mathjax/2.7.5/MathJax.js?config=TeX-AMS-MML_SVG\"></script><script type=\"text/javascript\">if (window.MathJax && window.MathJax.Hub && window.MathJax.Hub.Config) {window.MathJax.Hub.Config({SVG: {font: \"STIX-Web\"}});}</script>                <script type=\"text/javascript\">window.PlotlyConfig = {MathJaxConfig: 'local'};</script>\n        <script charset=\"utf-8\" src=\"https://cdn.plot.ly/plotly-2.35.2.min.js\"></script>                <div id=\"e53e6e53-e28a-493f-9dd1-04e527c35561\" class=\"plotly-graph-div\" style=\"height:525px; width:100%;\"></div>            <script type=\"text/javascript\">                                    window.PLOTLYENV=window.PLOTLYENV || {};                                    if (document.getElementById(\"e53e6e53-e28a-493f-9dd1-04e527c35561\")) {                    Plotly.newPlot(                        \"e53e6e53-e28a-493f-9dd1-04e527c35561\",                        [{\"alignmentgroup\":\"True\",\"hovertemplate\":\"Number of Reviews=%{text}\\u003cbr\\u003eTheme=%{y}\\u003cextra\\u003e\\u003c\\u002fextra\\u003e\",\"legendgroup\":\"\",\"marker\":{\"color\":\"#4C78A8\",\"pattern\":{\"shape\":\"\"}},\"name\":\"\",\"offsetgroup\":\"\",\"orientation\":\"h\",\"showlegend\":false,\"text\":[4051.0,1797.0,1765.0,1391.0],\"textposition\":\"outside\",\"x\":[4051,1797,1765,1391],\"xaxis\":\"x\",\"y\":[\"Monetization & Value\",\"AI Performance & Quality\",\"Feature-Specific Issues\",\"Technical Performance\"],\"yaxis\":\"y\",\"type\":\"bar\"}],                        {\"template\":{\"data\":{\"barpolar\":[{\"marker\":{\"line\":{\"color\":\"white\",\"width\":0.5},\"pattern\":{\"fillmode\":\"overlay\",\"size\":10,\"solidity\":0.2}},\"type\":\"barpolar\"}],\"bar\":[{\"error_x\":{\"color\":\"#2a3f5f\"},\"error_y\":{\"color\":\"#2a3f5f\"},\"marker\":{\"line\":{\"color\":\"white\",\"width\":0.5},\"pattern\":{\"fillmode\":\"overlay\",\"size\":10,\"solidity\":0.2}},\"type\":\"bar\"}],\"carpet\":[{\"aaxis\":{\"endlinecolor\":\"#2a3f5f\",\"gridcolor\":\"#C8D4E3\",\"linecolor\":\"#C8D4E3\",\"minorgridcolor\":\"#C8D4E3\",\"startlinecolor\":\"#2a3f5f\"},\"baxis\":{\"endlinecolor\":\"#2a3f5f\",\"gridcolor\":\"#C8D4E3\",\"linecolor\":\"#C8D4E3\",\"minorgridcolor\":\"#C8D4E3\",\"startlinecolor\":\"#2a3f5f\"},\"type\":\"carpet\"}],\"choropleth\":[{\"colorbar\":{\"outlinewidth\":0,\"ticks\":\"\"},\"type\":\"choropleth\"}],\"contourcarpet\":[{\"colorbar\":{\"outlinewidth\":0,\"ticks\":\"\"},\"type\":\"contourcarpet\"}],\"contour\":[{\"colorbar\":{\"outlinewidth\":0,\"ticks\":\"\"},\"colorscale\":[[0.0,\"#0d0887\"],[0.1111111111111111,\"#46039f\"],[0.2222222222222222,\"#7201a8\"],[0.3333333333333333,\"#9c179e\"],[0.4444444444444444,\"#bd3786\"],[0.5555555555555556,\"#d8576b\"],[0.6666666666666666,\"#ed7953\"],[0.7777777777777778,\"#fb9f3a\"],[0.8888888888888888,\"#fdca26\"],[1.0,\"#f0f921\"]],\"type\":\"contour\"}],\"heatmapgl\":[{\"colorbar\":{\"outlinewidth\":0,\"ticks\":\"\"},\"colorscale\":[[0.0,\"#0d0887\"],[0.1111111111111111,\"#46039f\"],[0.2222222222222222,\"#7201a8\"],[0.3333333333333333,\"#9c179e\"],[0.4444444444444444,\"#bd3786\"],[0.5555555555555556,\"#d8576b\"],[0.6666666666666666,\"#ed7953\"],[0.7777777777777778,\"#fb9f3a\"],[0.8888888888888888,\"#fdca26\"],[1.0,\"#f0f921\"]],\"type\":\"heatmapgl\"}],\"heatmap\":[{\"colorbar\":{\"outlinewidth\":0,\"ticks\":\"\"},\"colorscale\":[[0.0,\"#0d0887\"],[0.1111111111111111,\"#46039f\"],[0.2222222222222222,\"#7201a8\"],[0.3333333333333333,\"#9c179e\"],[0.4444444444444444,\"#bd3786\"],[0.5555555555555556,\"#d8576b\"],[0.6666666666666666,\"#ed7953\"],[0.7777777777777778,\"#fb9f3a\"],[0.8888888888888888,\"#fdca26\"],[1.0,\"#f0f921\"]],\"type\":\"heatmap\"}],\"histogram2dcontour\":[{\"colorbar\":{\"outlinewidth\":0,\"ticks\":\"\"},\"colorscale\":[[0.0,\"#0d0887\"],[0.1111111111111111,\"#46039f\"],[0.2222222222222222,\"#7201a8\"],[0.3333333333333333,\"#9c179e\"],[0.4444444444444444,\"#bd3786\"],[0.5555555555555556,\"#d8576b\"],[0.6666666666666666,\"#ed7953\"],[0.7777777777777778,\"#fb9f3a\"],[0.8888888888888888,\"#fdca26\"],[1.0,\"#f0f921\"]],\"type\":\"histogram2dcontour\"}],\"histogram2d\":[{\"colorbar\":{\"outlinewidth\":0,\"ticks\":\"\"},\"colorscale\":[[0.0,\"#0d0887\"],[0.1111111111111111,\"#46039f\"],[0.2222222222222222,\"#7201a8\"],[0.3333333333333333,\"#9c179e\"],[0.4444444444444444,\"#bd3786\"],[0.5555555555555556,\"#d8576b\"],[0.6666666666666666,\"#ed7953\"],[0.7777777777777778,\"#fb9f3a\"],[0.8888888888888888,\"#fdca26\"],[1.0,\"#f0f921\"]],\"type\":\"histogram2d\"}],\"histogram\":[{\"marker\":{\"pattern\":{\"fillmode\":\"overlay\",\"size\":10,\"solidity\":0.2}},\"type\":\"histogram\"}],\"mesh3d\":[{\"colorbar\":{\"outlinewidth\":0,\"ticks\":\"\"},\"type\":\"mesh3d\"}],\"parcoords\":[{\"line\":{\"colorbar\":{\"outlinewidth\":0,\"ticks\":\"\"}},\"type\":\"parcoords\"}],\"pie\":[{\"automargin\":true,\"type\":\"pie\"}],\"scatter3d\":[{\"line\":{\"colorbar\":{\"outlinewidth\":0,\"ticks\":\"\"}},\"marker\":{\"colorbar\":{\"outlinewidth\":0,\"ticks\":\"\"}},\"type\":\"scatter3d\"}],\"scattercarpet\":[{\"marker\":{\"colorbar\":{\"outlinewidth\":0,\"ticks\":\"\"}},\"type\":\"scattercarpet\"}],\"scattergeo\":[{\"marker\":{\"colorbar\":{\"outlinewidth\":0,\"ticks\":\"\"}},\"type\":\"scattergeo\"}],\"scattergl\":[{\"marker\":{\"colorbar\":{\"outlinewidth\":0,\"ticks\":\"\"}},\"type\":\"scattergl\"}],\"scattermapbox\":[{\"marker\":{\"colorbar\":{\"outlinewidth\":0,\"ticks\":\"\"}},\"type\":\"scattermapbox\"}],\"scatterpolargl\":[{\"marker\":{\"colorbar\":{\"outlinewidth\":0,\"ticks\":\"\"}},\"type\":\"scatterpolargl\"}],\"scatterpolar\":[{\"marker\":{\"colorbar\":{\"outlinewidth\":0,\"ticks\":\"\"}},\"type\":\"scatterpolar\"}],\"scatter\":[{\"fillpattern\":{\"fillmode\":\"overlay\",\"size\":10,\"solidity\":0.2},\"type\":\"scatter\"}],\"scatterternary\":[{\"marker\":{\"colorbar\":{\"outlinewidth\":0,\"ticks\":\"\"}},\"type\":\"scatterternary\"}],\"surface\":[{\"colorbar\":{\"outlinewidth\":0,\"ticks\":\"\"},\"colorscale\":[[0.0,\"#0d0887\"],[0.1111111111111111,\"#46039f\"],[0.2222222222222222,\"#7201a8\"],[0.3333333333333333,\"#9c179e\"],[0.4444444444444444,\"#bd3786\"],[0.5555555555555556,\"#d8576b\"],[0.6666666666666666,\"#ed7953\"],[0.7777777777777778,\"#fb9f3a\"],[0.8888888888888888,\"#fdca26\"],[1.0,\"#f0f921\"]],\"type\":\"surface\"}],\"table\":[{\"cells\":{\"fill\":{\"color\":\"#EBF0F8\"},\"line\":{\"color\":\"white\"}},\"header\":{\"fill\":{\"color\":\"#C8D4E3\"},\"line\":{\"color\":\"white\"}},\"type\":\"table\"}]},\"layout\":{\"annotationdefaults\":{\"arrowcolor\":\"#2a3f5f\",\"arrowhead\":0,\"arrowwidth\":1},\"autotypenumbers\":\"strict\",\"coloraxis\":{\"colorbar\":{\"outlinewidth\":0,\"ticks\":\"\"}},\"colorscale\":{\"diverging\":[[0,\"#8e0152\"],[0.1,\"#c51b7d\"],[0.2,\"#de77ae\"],[0.3,\"#f1b6da\"],[0.4,\"#fde0ef\"],[0.5,\"#f7f7f7\"],[0.6,\"#e6f5d0\"],[0.7,\"#b8e186\"],[0.8,\"#7fbc41\"],[0.9,\"#4d9221\"],[1,\"#276419\"]],\"sequential\":[[0.0,\"#0d0887\"],[0.1111111111111111,\"#46039f\"],[0.2222222222222222,\"#7201a8\"],[0.3333333333333333,\"#9c179e\"],[0.4444444444444444,\"#bd3786\"],[0.5555555555555556,\"#d8576b\"],[0.6666666666666666,\"#ed7953\"],[0.7777777777777778,\"#fb9f3a\"],[0.8888888888888888,\"#fdca26\"],[1.0,\"#f0f921\"]],\"sequentialminus\":[[0.0,\"#0d0887\"],[0.1111111111111111,\"#46039f\"],[0.2222222222222222,\"#7201a8\"],[0.3333333333333333,\"#9c179e\"],[0.4444444444444444,\"#bd3786\"],[0.5555555555555556,\"#d8576b\"],[0.6666666666666666,\"#ed7953\"],[0.7777777777777778,\"#fb9f3a\"],[0.8888888888888888,\"#fdca26\"],[1.0,\"#f0f921\"]]},\"colorway\":[\"#636efa\",\"#EF553B\",\"#00cc96\",\"#ab63fa\",\"#FFA15A\",\"#19d3f3\",\"#FF6692\",\"#B6E880\",\"#FF97FF\",\"#FECB52\"],\"font\":{\"color\":\"#2a3f5f\"},\"geo\":{\"bgcolor\":\"white\",\"lakecolor\":\"white\",\"landcolor\":\"white\",\"showlakes\":true,\"showland\":true,\"subunitcolor\":\"#C8D4E3\"},\"hoverlabel\":{\"align\":\"left\"},\"hovermode\":\"closest\",\"mapbox\":{\"style\":\"light\"},\"paper_bgcolor\":\"white\",\"plot_bgcolor\":\"white\",\"polar\":{\"angularaxis\":{\"gridcolor\":\"#EBF0F8\",\"linecolor\":\"#EBF0F8\",\"ticks\":\"\"},\"bgcolor\":\"white\",\"radialaxis\":{\"gridcolor\":\"#EBF0F8\",\"linecolor\":\"#EBF0F8\",\"ticks\":\"\"}},\"scene\":{\"xaxis\":{\"backgroundcolor\":\"white\",\"gridcolor\":\"#DFE8F3\",\"gridwidth\":2,\"linecolor\":\"#EBF0F8\",\"showbackground\":true,\"ticks\":\"\",\"zerolinecolor\":\"#EBF0F8\"},\"yaxis\":{\"backgroundcolor\":\"white\",\"gridcolor\":\"#DFE8F3\",\"gridwidth\":2,\"linecolor\":\"#EBF0F8\",\"showbackground\":true,\"ticks\":\"\",\"zerolinecolor\":\"#EBF0F8\"},\"zaxis\":{\"backgroundcolor\":\"white\",\"gridcolor\":\"#DFE8F3\",\"gridwidth\":2,\"linecolor\":\"#EBF0F8\",\"showbackground\":true,\"ticks\":\"\",\"zerolinecolor\":\"#EBF0F8\"}},\"shapedefaults\":{\"line\":{\"color\":\"#2a3f5f\"}},\"ternary\":{\"aaxis\":{\"gridcolor\":\"#DFE8F3\",\"linecolor\":\"#A2B1C6\",\"ticks\":\"\"},\"baxis\":{\"gridcolor\":\"#DFE8F3\",\"linecolor\":\"#A2B1C6\",\"ticks\":\"\"},\"bgcolor\":\"white\",\"caxis\":{\"gridcolor\":\"#DFE8F3\",\"linecolor\":\"#A2B1C6\",\"ticks\":\"\"}},\"title\":{\"x\":0.05},\"xaxis\":{\"automargin\":true,\"gridcolor\":\"#EBF0F8\",\"linecolor\":\"#EBF0F8\",\"ticks\":\"\",\"title\":{\"standoff\":15},\"zerolinecolor\":\"#EBF0F8\",\"zerolinewidth\":2},\"yaxis\":{\"automargin\":true,\"gridcolor\":\"#EBF0F8\",\"linecolor\":\"#EBF0F8\",\"ticks\":\"\",\"title\":{\"standoff\":15},\"zerolinecolor\":\"#EBF0F8\",\"zerolinewidth\":2}}},\"xaxis\":{\"anchor\":\"y\",\"domain\":[0.0,1.0],\"title\":{\"text\":\"Number of Reviews\"}},\"yaxis\":{\"anchor\":\"x\",\"domain\":[0.0,1.0],\"title\":{\"text\":\"Theme\"},\"categoryorder\":\"total ascending\"},\"legend\":{\"tracegroupgap\":0},\"title\":{\"text\":\"\\u003cb\\u003eWhat Drives Negative Reviews for Conversational AI?\\u003c\\u002fb\\u003e\\u003cbr\\u003e\\u003ci\\u003eAn Analysis of User Complaint Themes\\u003c\\u002fi\\u003e\",\"x\":0.5},\"barmode\":\"relative\",\"font\":{\"family\":\"Arial\",\"size\":14}},                        {\"responsive\": true}                    ).then(function(){\n                            \nvar gd = document.getElementById('e53e6e53-e28a-493f-9dd1-04e527c35561');\nvar x = new MutationObserver(function (mutations, observer) {{\n        var display = window.getComputedStyle(gd).display;\n        if (!display || display === 'none') {{\n            console.log([gd, 'removed!']);\n            Plotly.purge(gd);\n            observer.disconnect();\n        }}\n}});\n\n// Listen for the removal of the full notebook cells\nvar notebookContainer = gd.closest('#notebook-container');\nif (notebookContainer) {{\n    x.observe(notebookContainer, {childList: true});\n}}\n\n// Listen for the clearing of the current output cell\nvar outputEl = gd.closest('.output');\nif (outputEl) {{\n    x.observe(outputEl, {childList: true});\n}}\n\n                        })                };                            </script>        </div>\n</body>\n</html>"
     },
     "metadata": {},
     "output_type": "display_data"
    }
   ],
   "source": [
    "# --- The Big Picture: High-Level Complaint Themes ---\n",
    "\n",
    "# Use the 'theme_distribution' DataFrame you already created\n",
    "# Or recreate it:\n",
    "theme_distribution_conv = (\n",
    "    df[~df[\"theme\"].isin([\"Outliers / Generic\", \"Other/Misc.\"])][\"theme\"]\n",
    "    .value_counts()\n",
    "    .reset_index()\n",
    ")\n",
    "theme_distribution_conv.columns = [\"Theme\", \"Number of Reviews\"]\n",
    "\n",
    "fig_conv_main = px.bar(\n",
    "    theme_distribution_conv,\n",
    "    x=\"Number of Reviews\",\n",
    "    y=\"Theme\",\n",
    "    orientation=\"h\",\n",
    "    title=\"<b>What Drives Negative Reviews for Conversational AI?</b><br><i>An Analysis of User Complaint Themes</i>\",\n",
    "    text=\"Number of Reviews\",\n",
    "    template=\"plotly_white\",\n",
    "    color_discrete_sequence=[\"#4C78A8\"],  # A nice blue color\n",
    ")\n",
    "fig_conv_main.update_traces(textposition=\"outside\")\n",
    "fig_conv_main.update_layout(\n",
    "    yaxis={\"categoryorder\": \"total ascending\"},\n",
    "    title_x=0.5,\n",
    "    font=dict(family=\"Arial\", size=14),\n",
    ")\n",
    "fig_conv_main.show()"
   ]
  },
  {
   "cell_type": "code",
   "execution_count": 25,
   "metadata": {
    "execution": {
     "iopub.execute_input": "2025-07-22T08:36:58.972185Z",
     "iopub.status.busy": "2025-07-22T08:36:58.971466Z",
     "iopub.status.idle": "2025-07-22T08:36:58.983690Z",
     "shell.execute_reply": "2025-07-22T08:36:58.982903Z",
     "shell.execute_reply.started": "2025-07-22T08:36:58.972161Z"
    },
    "trusted": true
   },
   "outputs": [
    {
     "name": "stdout",
     "output_type": "stream",
     "text": "Setup for deep dive analysis is complete.\n"
    }
   ],
   "source": [
    "from sklearn.feature_extraction.text import TfidfVectorizer\n",
    "\n",
    "# Ensure the 'df' DataFrame with 'theme' and 'topic_name' columns exists.\n",
    "# Clean up the topic names for better chart labels.\n",
    "df[\"topic_name\"] = df[\"topic_name\"].str.replace(\"Redundant: \", \"\")\n",
    "\n",
    "\n",
    "# Define a helper function for the TF-IDF analysis to keep our code clean\n",
    "def get_top_tfidf_words_for_theme(theme_name, n_words=10):\n",
    "    \"\"\"\n",
    "    Calculates and returns the top TF-IDF words for all reviews within a specific theme.\n",
    "    \"\"\"\n",
    "    # Filter for the specific theme\n",
    "    theme_docs = df[df[\"theme\"] == theme_name][\"review_text\"].tolist()\n",
    "\n",
    "    if not theme_docs:\n",
    "        return pd.DataFrame(columns=[\"Word\", \"TF-IDF Score\"])\n",
    "\n",
    "    # Use a new vectorizer for TF-IDF\n",
    "    tfidf_vectorizer = TfidfVectorizer(\n",
    "        stop_words=\"english\", ngram_range=(1, 2), max_features=1000\n",
    "    )\n",
    "    tfidf_matrix = tfidf_vectorizer.fit_transform(theme_docs)\n",
    "\n",
    "    # Sum the TF-IDF scores for each word across all documents in the theme\n",
    "    summed_tfidf = tfidf_matrix.sum(axis=0)\n",
    "    # Convert to a 1D array\n",
    "    summed_tfidf_array = np.asarray(summed_tfidf).ravel()\n",
    "\n",
    "    # Get the top words\n",
    "    top_indices = summed_tfidf_array.argsort()[-n_words:][::-1]\n",
    "    top_words = np.array(tfidf_vectorizer.get_feature_names_out())[top_indices]\n",
    "    top_scores = summed_tfidf_array[top_indices]\n",
    "\n",
    "    return pd.DataFrame({\"Word\": top_words, \"TF-IDF Score\": top_scores})\n",
    "\n",
    "\n",
    "print(\"Setup for deep dive analysis is complete.\")"
   ]
  },
  {
   "cell_type": "markdown",
   "metadata": {},
   "source": "---\n### Deep Dive 1: AI Performance & Conversational Quality\n\nThis theme is unique to conversational apps. Here we explore the specific reasons why users feel the AI is failing as a conversational partner."
  },
  {
   "cell_type": "code",
   "execution_count": 26,
   "metadata": {
    "execution": {
     "iopub.execute_input": "2025-07-22T08:37:03.091661Z",
     "iopub.status.busy": "2025-07-22T08:37:03.091406Z",
     "iopub.status.idle": "2025-07-22T08:37:03.306064Z",
     "shell.execute_reply": "2025-07-22T08:37:03.305485Z",
     "shell.execute_reply.started": "2025-07-22T08:37:03.091641Z"
    },
    "trusted": true
   },
   "outputs": [
    {
     "data": {
      "text/html": "<html>\n<head><meta charset=\"utf-8\" /></head>\n<body>\n    <div>            <script src=\"https://cdnjs.cloudflare.com/ajax/libs/mathjax/2.7.5/MathJax.js?config=TeX-AMS-MML_SVG\"></script><script type=\"text/javascript\">if (window.MathJax && window.MathJax.Hub && window.MathJax.Hub.Config) {window.MathJax.Hub.Config({SVG: {font: \"STIX-Web\"}});}</script>                <script type=\"text/javascript\">window.PlotlyConfig = {MathJaxConfig: 'local'};</script>\n        <script charset=\"utf-8\" src=\"https://cdn.plot.ly/plotly-2.35.2.min.js\"></script>                <div id=\"dabe0b94-0bb7-4b35-b706-e8dedfa7924b\" class=\"plotly-graph-div\" style=\"height:525px; width:100%;\"></div>            <script type=\"text/javascript\">                                    window.PLOTLYENV=window.PLOTLYENV || {};                                    if (document.getElementById(\"dabe0b94-0bb7-4b35-b706-e8dedfa7924b\")) {                    Plotly.newPlot(                        \"dabe0b94-0bb7-4b35-b706-e8dedfa7924b\",                        [{\"branchvalues\":\"total\",\"domain\":{\"x\":[0.0,1.0],\"y\":[0.0,1.0]},\"hovertemplate\":\"labels=%{label}\\u003cbr\\u003eReview Count=%{value}\\u003cbr\\u003eparent=%{parent}\\u003cbr\\u003eid=%{id}\\u003cextra\\u003e\\u003c\\u002fextra\\u003e\",\"ids\":[\"AI Performance Complaints\\u002fAI Memory & Conversation Quality\",\"AI Performance Complaints\\u002fAI Persona (Gendering 'She\\u002fHer')\",\"AI Performance Complaints\\u002fAI Persona Gendering\",\"AI Performance Complaints\\u002fChatbot Comparisons (ChatGPT)\",\"AI Performance Complaints\\u002fConversation Timing\",\"AI Performance Complaints\\u002fGeneric Conversation\",\"AI Performance Complaints\\u002fPoor Conversation Quality\",\"AI Performance Complaints\"],\"labels\":[\"AI Memory & Conversation Quality\",\"AI Persona (Gendering 'She\\u002fHer')\",\"AI Persona Gendering\",\"Chatbot Comparisons (ChatGPT)\",\"Conversation Timing\",\"Generic Conversation\",\"Poor Conversation Quality\",\"AI Performance Complaints\"],\"name\":\"\",\"parents\":[\"AI Performance Complaints\",\"AI Performance Complaints\",\"AI Performance Complaints\",\"AI Performance Complaints\",\"AI Performance Complaints\",\"AI Performance Complaints\",\"AI Performance Complaints\",\"\"],\"values\":[428,419,87,375,89,81,318,1797],\"type\":\"treemap\"}],                        {\"template\":{\"data\":{\"histogram2dcontour\":[{\"type\":\"histogram2dcontour\",\"colorbar\":{\"outlinewidth\":0,\"ticks\":\"\"},\"colorscale\":[[0.0,\"#0d0887\"],[0.1111111111111111,\"#46039f\"],[0.2222222222222222,\"#7201a8\"],[0.3333333333333333,\"#9c179e\"],[0.4444444444444444,\"#bd3786\"],[0.5555555555555556,\"#d8576b\"],[0.6666666666666666,\"#ed7953\"],[0.7777777777777778,\"#fb9f3a\"],[0.8888888888888888,\"#fdca26\"],[1.0,\"#f0f921\"]]}],\"choropleth\":[{\"type\":\"choropleth\",\"colorbar\":{\"outlinewidth\":0,\"ticks\":\"\"}}],\"histogram2d\":[{\"type\":\"histogram2d\",\"colorbar\":{\"outlinewidth\":0,\"ticks\":\"\"},\"colorscale\":[[0.0,\"#0d0887\"],[0.1111111111111111,\"#46039f\"],[0.2222222222222222,\"#7201a8\"],[0.3333333333333333,\"#9c179e\"],[0.4444444444444444,\"#bd3786\"],[0.5555555555555556,\"#d8576b\"],[0.6666666666666666,\"#ed7953\"],[0.7777777777777778,\"#fb9f3a\"],[0.8888888888888888,\"#fdca26\"],[1.0,\"#f0f921\"]]}],\"heatmap\":[{\"type\":\"heatmap\",\"colorbar\":{\"outlinewidth\":0,\"ticks\":\"\"},\"colorscale\":[[0.0,\"#0d0887\"],[0.1111111111111111,\"#46039f\"],[0.2222222222222222,\"#7201a8\"],[0.3333333333333333,\"#9c179e\"],[0.4444444444444444,\"#bd3786\"],[0.5555555555555556,\"#d8576b\"],[0.6666666666666666,\"#ed7953\"],[0.7777777777777778,\"#fb9f3a\"],[0.8888888888888888,\"#fdca26\"],[1.0,\"#f0f921\"]]}],\"heatmapgl\":[{\"type\":\"heatmapgl\",\"colorbar\":{\"outlinewidth\":0,\"ticks\":\"\"},\"colorscale\":[[0.0,\"#0d0887\"],[0.1111111111111111,\"#46039f\"],[0.2222222222222222,\"#7201a8\"],[0.3333333333333333,\"#9c179e\"],[0.4444444444444444,\"#bd3786\"],[0.5555555555555556,\"#d8576b\"],[0.6666666666666666,\"#ed7953\"],[0.7777777777777778,\"#fb9f3a\"],[0.8888888888888888,\"#fdca26\"],[1.0,\"#f0f921\"]]}],\"contourcarpet\":[{\"type\":\"contourcarpet\",\"colorbar\":{\"outlinewidth\":0,\"ticks\":\"\"}}],\"contour\":[{\"type\":\"contour\",\"colorbar\":{\"outlinewidth\":0,\"ticks\":\"\"},\"colorscale\":[[0.0,\"#0d0887\"],[0.1111111111111111,\"#46039f\"],[0.2222222222222222,\"#7201a8\"],[0.3333333333333333,\"#9c179e\"],[0.4444444444444444,\"#bd3786\"],[0.5555555555555556,\"#d8576b\"],[0.6666666666666666,\"#ed7953\"],[0.7777777777777778,\"#fb9f3a\"],[0.8888888888888888,\"#fdca26\"],[1.0,\"#f0f921\"]]}],\"surface\":[{\"type\":\"surface\",\"colorbar\":{\"outlinewidth\":0,\"ticks\":\"\"},\"colorscale\":[[0.0,\"#0d0887\"],[0.1111111111111111,\"#46039f\"],[0.2222222222222222,\"#7201a8\"],[0.3333333333333333,\"#9c179e\"],[0.4444444444444444,\"#bd3786\"],[0.5555555555555556,\"#d8576b\"],[0.6666666666666666,\"#ed7953\"],[0.7777777777777778,\"#fb9f3a\"],[0.8888888888888888,\"#fdca26\"],[1.0,\"#f0f921\"]]}],\"mesh3d\":[{\"type\":\"mesh3d\",\"colorbar\":{\"outlinewidth\":0,\"ticks\":\"\"}}],\"scatter\":[{\"fillpattern\":{\"fillmode\":\"overlay\",\"size\":10,\"solidity\":0.2},\"type\":\"scatter\"}],\"parcoords\":[{\"type\":\"parcoords\",\"line\":{\"colorbar\":{\"outlinewidth\":0,\"ticks\":\"\"}}}],\"scatterpolargl\":[{\"type\":\"scatterpolargl\",\"marker\":{\"colorbar\":{\"outlinewidth\":0,\"ticks\":\"\"}}}],\"bar\":[{\"error_x\":{\"color\":\"#2a3f5f\"},\"error_y\":{\"color\":\"#2a3f5f\"},\"marker\":{\"line\":{\"color\":\"#E5ECF6\",\"width\":0.5},\"pattern\":{\"fillmode\":\"overlay\",\"size\":10,\"solidity\":0.2}},\"type\":\"bar\"}],\"scattergeo\":[{\"type\":\"scattergeo\",\"marker\":{\"colorbar\":{\"outlinewidth\":0,\"ticks\":\"\"}}}],\"scatterpolar\":[{\"type\":\"scatterpolar\",\"marker\":{\"colorbar\":{\"outlinewidth\":0,\"ticks\":\"\"}}}],\"histogram\":[{\"marker\":{\"pattern\":{\"fillmode\":\"overlay\",\"size\":10,\"solidity\":0.2}},\"type\":\"histogram\"}],\"scattergl\":[{\"type\":\"scattergl\",\"marker\":{\"colorbar\":{\"outlinewidth\":0,\"ticks\":\"\"}}}],\"scatter3d\":[{\"type\":\"scatter3d\",\"line\":{\"colorbar\":{\"outlinewidth\":0,\"ticks\":\"\"}},\"marker\":{\"colorbar\":{\"outlinewidth\":0,\"ticks\":\"\"}}}],\"scattermapbox\":[{\"type\":\"scattermapbox\",\"marker\":{\"colorbar\":{\"outlinewidth\":0,\"ticks\":\"\"}}}],\"scatterternary\":[{\"type\":\"scatterternary\",\"marker\":{\"colorbar\":{\"outlinewidth\":0,\"ticks\":\"\"}}}],\"scattercarpet\":[{\"type\":\"scattercarpet\",\"marker\":{\"colorbar\":{\"outlinewidth\":0,\"ticks\":\"\"}}}],\"carpet\":[{\"aaxis\":{\"endlinecolor\":\"#2a3f5f\",\"gridcolor\":\"white\",\"linecolor\":\"white\",\"minorgridcolor\":\"white\",\"startlinecolor\":\"#2a3f5f\"},\"baxis\":{\"endlinecolor\":\"#2a3f5f\",\"gridcolor\":\"white\",\"linecolor\":\"white\",\"minorgridcolor\":\"white\",\"startlinecolor\":\"#2a3f5f\"},\"type\":\"carpet\"}],\"table\":[{\"cells\":{\"fill\":{\"color\":\"#EBF0F8\"},\"line\":{\"color\":\"white\"}},\"header\":{\"fill\":{\"color\":\"#C8D4E3\"},\"line\":{\"color\":\"white\"}},\"type\":\"table\"}],\"barpolar\":[{\"marker\":{\"line\":{\"color\":\"#E5ECF6\",\"width\":0.5},\"pattern\":{\"fillmode\":\"overlay\",\"size\":10,\"solidity\":0.2}},\"type\":\"barpolar\"}],\"pie\":[{\"automargin\":true,\"type\":\"pie\"}]},\"layout\":{\"autotypenumbers\":\"strict\",\"colorway\":[\"#636efa\",\"#EF553B\",\"#00cc96\",\"#ab63fa\",\"#FFA15A\",\"#19d3f3\",\"#FF6692\",\"#B6E880\",\"#FF97FF\",\"#FECB52\"],\"font\":{\"color\":\"#2a3f5f\"},\"hovermode\":\"closest\",\"hoverlabel\":{\"align\":\"left\"},\"paper_bgcolor\":\"white\",\"plot_bgcolor\":\"#E5ECF6\",\"polar\":{\"bgcolor\":\"#E5ECF6\",\"angularaxis\":{\"gridcolor\":\"white\",\"linecolor\":\"white\",\"ticks\":\"\"},\"radialaxis\":{\"gridcolor\":\"white\",\"linecolor\":\"white\",\"ticks\":\"\"}},\"ternary\":{\"bgcolor\":\"#E5ECF6\",\"aaxis\":{\"gridcolor\":\"white\",\"linecolor\":\"white\",\"ticks\":\"\"},\"baxis\":{\"gridcolor\":\"white\",\"linecolor\":\"white\",\"ticks\":\"\"},\"caxis\":{\"gridcolor\":\"white\",\"linecolor\":\"white\",\"ticks\":\"\"}},\"coloraxis\":{\"colorbar\":{\"outlinewidth\":0,\"ticks\":\"\"}},\"colorscale\":{\"sequential\":[[0.0,\"#0d0887\"],[0.1111111111111111,\"#46039f\"],[0.2222222222222222,\"#7201a8\"],[0.3333333333333333,\"#9c179e\"],[0.4444444444444444,\"#bd3786\"],[0.5555555555555556,\"#d8576b\"],[0.6666666666666666,\"#ed7953\"],[0.7777777777777778,\"#fb9f3a\"],[0.8888888888888888,\"#fdca26\"],[1.0,\"#f0f921\"]],\"sequentialminus\":[[0.0,\"#0d0887\"],[0.1111111111111111,\"#46039f\"],[0.2222222222222222,\"#7201a8\"],[0.3333333333333333,\"#9c179e\"],[0.4444444444444444,\"#bd3786\"],[0.5555555555555556,\"#d8576b\"],[0.6666666666666666,\"#ed7953\"],[0.7777777777777778,\"#fb9f3a\"],[0.8888888888888888,\"#fdca26\"],[1.0,\"#f0f921\"]],\"diverging\":[[0,\"#8e0152\"],[0.1,\"#c51b7d\"],[0.2,\"#de77ae\"],[0.3,\"#f1b6da\"],[0.4,\"#fde0ef\"],[0.5,\"#f7f7f7\"],[0.6,\"#e6f5d0\"],[0.7,\"#b8e186\"],[0.8,\"#7fbc41\"],[0.9,\"#4d9221\"],[1,\"#276419\"]]},\"xaxis\":{\"gridcolor\":\"white\",\"linecolor\":\"white\",\"ticks\":\"\",\"title\":{\"standoff\":15},\"zerolinecolor\":\"white\",\"automargin\":true,\"zerolinewidth\":2},\"yaxis\":{\"gridcolor\":\"white\",\"linecolor\":\"white\",\"ticks\":\"\",\"title\":{\"standoff\":15},\"zerolinecolor\":\"white\",\"automargin\":true,\"zerolinewidth\":2},\"scene\":{\"xaxis\":{\"backgroundcolor\":\"#E5ECF6\",\"gridcolor\":\"white\",\"linecolor\":\"white\",\"showbackground\":true,\"ticks\":\"\",\"zerolinecolor\":\"white\",\"gridwidth\":2},\"yaxis\":{\"backgroundcolor\":\"#E5ECF6\",\"gridcolor\":\"white\",\"linecolor\":\"white\",\"showbackground\":true,\"ticks\":\"\",\"zerolinecolor\":\"white\",\"gridwidth\":2},\"zaxis\":{\"backgroundcolor\":\"#E5ECF6\",\"gridcolor\":\"white\",\"linecolor\":\"white\",\"showbackground\":true,\"ticks\":\"\",\"zerolinecolor\":\"white\",\"gridwidth\":2}},\"shapedefaults\":{\"line\":{\"color\":\"#2a3f5f\"}},\"annotationdefaults\":{\"arrowcolor\":\"#2a3f5f\",\"arrowhead\":0,\"arrowwidth\":1},\"geo\":{\"bgcolor\":\"white\",\"landcolor\":\"#E5ECF6\",\"subunitcolor\":\"white\",\"showland\":true,\"showlakes\":true,\"lakecolor\":\"white\"},\"title\":{\"x\":0.05},\"mapbox\":{\"style\":\"light\"}}},\"legend\":{\"tracegroupgap\":0},\"title\":{\"text\":\"\\u003cb\\u003eBreakdown: AI Performance Complaints\\u003c\\u002fb\\u003e\"},\"treemapcolorway\":[\"rgb(8,48,107)\",\"rgb(8,81,156)\",\"rgb(33,113,181)\",\"rgb(66,146,198)\",\"rgb(107,174,214)\",\"rgb(158,202,225)\",\"rgb(198,219,239)\",\"rgb(222,235,247)\",\"rgb(247,251,255)\"]},                        {\"responsive\": true}                    ).then(function(){\n                            \nvar gd = document.getElementById('dabe0b94-0bb7-4b35-b706-e8dedfa7924b');\nvar x = new MutationObserver(function (mutations, observer) {{\n        var display = window.getComputedStyle(gd).display;\n        if (!display || display === 'none') {{\n            console.log([gd, 'removed!']);\n            Plotly.purge(gd);\n            observer.disconnect();\n        }}\n}});\n\n// Listen for the removal of the full notebook cells\nvar notebookContainer = gd.closest('#notebook-container');\nif (notebookContainer) {{\n    x.observe(notebookContainer, {childList: true});\n}}\n\n// Listen for the clearing of the current output cell\nvar outputEl = gd.closest('.output');\nif (outputEl) {{\n    x.observe(outputEl, {childList: true});\n}}\n\n                        })                };                            </script>        </div>\n</body>\n</html>"
     },
     "metadata": {},
     "output_type": "display_data"
    },
    {
     "data": {
      "text/html": "<html>\n<head><meta charset=\"utf-8\" /></head>\n<body>\n    <div>            <script src=\"https://cdnjs.cloudflare.com/ajax/libs/mathjax/2.7.5/MathJax.js?config=TeX-AMS-MML_SVG\"></script><script type=\"text/javascript\">if (window.MathJax && window.MathJax.Hub && window.MathJax.Hub.Config) {window.MathJax.Hub.Config({SVG: {font: \"STIX-Web\"}});}</script>                <script type=\"text/javascript\">window.PlotlyConfig = {MathJaxConfig: 'local'};</script>\n        <script charset=\"utf-8\" src=\"https://cdn.plot.ly/plotly-2.35.2.min.js\"></script>                <div id=\"f76c4609-3764-4f0c-9a98-afbd076f5939\" class=\"plotly-graph-div\" style=\"height:525px; width:100%;\"></div>            <script type=\"text/javascript\">                                    window.PLOTLYENV=window.PLOTLYENV || {};                                    if (document.getElementById(\"f76c4609-3764-4f0c-9a98-afbd076f5939\")) {                    Plotly.newPlot(                        \"f76c4609-3764-4f0c-9a98-afbd076f5939\",                        [{\"branchvalues\":\"total\",\"domain\":{\"x\":[0.0,1.0],\"y\":[0.0,1.0]},\"hovertemplate\":\"labels=%{label}\\u003cbr\\u003eReview Count=%{value}\\u003cbr\\u003eparent=%{parent}\\u003cbr\\u003eid=%{id}\\u003cextra\\u003e\\u003c\\u002fextra\\u003e\",\"ids\":[\"AI Memory & Conversation Quality\",\"AI Persona (Gendering 'She\\u002fHer')\",\"AI Persona Gendering\",\"Chatbot Comparisons (ChatGPT)\",\"Conversation Timing\",\"Generic Conversation\",\"Poor Conversation Quality\"],\"labels\":[\"AI Memory & Conversation Quality\",\"AI Persona (Gendering 'She\\u002fHer')\",\"AI Persona Gendering\",\"Chatbot Comparisons (ChatGPT)\",\"Conversation Timing\",\"Generic Conversation\",\"Poor Conversation Quality\"],\"name\":\"\",\"parents\":[\"\",\"\",\"\",\"\",\"\",\"\",\"\"],\"values\":[428,419,87,375,89,81,318],\"type\":\"sunburst\"}],                        {\"template\":{\"data\":{\"histogram2dcontour\":[{\"type\":\"histogram2dcontour\",\"colorbar\":{\"outlinewidth\":0,\"ticks\":\"\"},\"colorscale\":[[0.0,\"#0d0887\"],[0.1111111111111111,\"#46039f\"],[0.2222222222222222,\"#7201a8\"],[0.3333333333333333,\"#9c179e\"],[0.4444444444444444,\"#bd3786\"],[0.5555555555555556,\"#d8576b\"],[0.6666666666666666,\"#ed7953\"],[0.7777777777777778,\"#fb9f3a\"],[0.8888888888888888,\"#fdca26\"],[1.0,\"#f0f921\"]]}],\"choropleth\":[{\"type\":\"choropleth\",\"colorbar\":{\"outlinewidth\":0,\"ticks\":\"\"}}],\"histogram2d\":[{\"type\":\"histogram2d\",\"colorbar\":{\"outlinewidth\":0,\"ticks\":\"\"},\"colorscale\":[[0.0,\"#0d0887\"],[0.1111111111111111,\"#46039f\"],[0.2222222222222222,\"#7201a8\"],[0.3333333333333333,\"#9c179e\"],[0.4444444444444444,\"#bd3786\"],[0.5555555555555556,\"#d8576b\"],[0.6666666666666666,\"#ed7953\"],[0.7777777777777778,\"#fb9f3a\"],[0.8888888888888888,\"#fdca26\"],[1.0,\"#f0f921\"]]}],\"heatmap\":[{\"type\":\"heatmap\",\"colorbar\":{\"outlinewidth\":0,\"ticks\":\"\"},\"colorscale\":[[0.0,\"#0d0887\"],[0.1111111111111111,\"#46039f\"],[0.2222222222222222,\"#7201a8\"],[0.3333333333333333,\"#9c179e\"],[0.4444444444444444,\"#bd3786\"],[0.5555555555555556,\"#d8576b\"],[0.6666666666666666,\"#ed7953\"],[0.7777777777777778,\"#fb9f3a\"],[0.8888888888888888,\"#fdca26\"],[1.0,\"#f0f921\"]]}],\"heatmapgl\":[{\"type\":\"heatmapgl\",\"colorbar\":{\"outlinewidth\":0,\"ticks\":\"\"},\"colorscale\":[[0.0,\"#0d0887\"],[0.1111111111111111,\"#46039f\"],[0.2222222222222222,\"#7201a8\"],[0.3333333333333333,\"#9c179e\"],[0.4444444444444444,\"#bd3786\"],[0.5555555555555556,\"#d8576b\"],[0.6666666666666666,\"#ed7953\"],[0.7777777777777778,\"#fb9f3a\"],[0.8888888888888888,\"#fdca26\"],[1.0,\"#f0f921\"]]}],\"contourcarpet\":[{\"type\":\"contourcarpet\",\"colorbar\":{\"outlinewidth\":0,\"ticks\":\"\"}}],\"contour\":[{\"type\":\"contour\",\"colorbar\":{\"outlinewidth\":0,\"ticks\":\"\"},\"colorscale\":[[0.0,\"#0d0887\"],[0.1111111111111111,\"#46039f\"],[0.2222222222222222,\"#7201a8\"],[0.3333333333333333,\"#9c179e\"],[0.4444444444444444,\"#bd3786\"],[0.5555555555555556,\"#d8576b\"],[0.6666666666666666,\"#ed7953\"],[0.7777777777777778,\"#fb9f3a\"],[0.8888888888888888,\"#fdca26\"],[1.0,\"#f0f921\"]]}],\"surface\":[{\"type\":\"surface\",\"colorbar\":{\"outlinewidth\":0,\"ticks\":\"\"},\"colorscale\":[[0.0,\"#0d0887\"],[0.1111111111111111,\"#46039f\"],[0.2222222222222222,\"#7201a8\"],[0.3333333333333333,\"#9c179e\"],[0.4444444444444444,\"#bd3786\"],[0.5555555555555556,\"#d8576b\"],[0.6666666666666666,\"#ed7953\"],[0.7777777777777778,\"#fb9f3a\"],[0.8888888888888888,\"#fdca26\"],[1.0,\"#f0f921\"]]}],\"mesh3d\":[{\"type\":\"mesh3d\",\"colorbar\":{\"outlinewidth\":0,\"ticks\":\"\"}}],\"scatter\":[{\"fillpattern\":{\"fillmode\":\"overlay\",\"size\":10,\"solidity\":0.2},\"type\":\"scatter\"}],\"parcoords\":[{\"type\":\"parcoords\",\"line\":{\"colorbar\":{\"outlinewidth\":0,\"ticks\":\"\"}}}],\"scatterpolargl\":[{\"type\":\"scatterpolargl\",\"marker\":{\"colorbar\":{\"outlinewidth\":0,\"ticks\":\"\"}}}],\"bar\":[{\"error_x\":{\"color\":\"#2a3f5f\"},\"error_y\":{\"color\":\"#2a3f5f\"},\"marker\":{\"line\":{\"color\":\"#E5ECF6\",\"width\":0.5},\"pattern\":{\"fillmode\":\"overlay\",\"size\":10,\"solidity\":0.2}},\"type\":\"bar\"}],\"scattergeo\":[{\"type\":\"scattergeo\",\"marker\":{\"colorbar\":{\"outlinewidth\":0,\"ticks\":\"\"}}}],\"scatterpolar\":[{\"type\":\"scatterpolar\",\"marker\":{\"colorbar\":{\"outlinewidth\":0,\"ticks\":\"\"}}}],\"histogram\":[{\"marker\":{\"pattern\":{\"fillmode\":\"overlay\",\"size\":10,\"solidity\":0.2}},\"type\":\"histogram\"}],\"scattergl\":[{\"type\":\"scattergl\",\"marker\":{\"colorbar\":{\"outlinewidth\":0,\"ticks\":\"\"}}}],\"scatter3d\":[{\"type\":\"scatter3d\",\"line\":{\"colorbar\":{\"outlinewidth\":0,\"ticks\":\"\"}},\"marker\":{\"colorbar\":{\"outlinewidth\":0,\"ticks\":\"\"}}}],\"scattermapbox\":[{\"type\":\"scattermapbox\",\"marker\":{\"colorbar\":{\"outlinewidth\":0,\"ticks\":\"\"}}}],\"scatterternary\":[{\"type\":\"scatterternary\",\"marker\":{\"colorbar\":{\"outlinewidth\":0,\"ticks\":\"\"}}}],\"scattercarpet\":[{\"type\":\"scattercarpet\",\"marker\":{\"colorbar\":{\"outlinewidth\":0,\"ticks\":\"\"}}}],\"carpet\":[{\"aaxis\":{\"endlinecolor\":\"#2a3f5f\",\"gridcolor\":\"white\",\"linecolor\":\"white\",\"minorgridcolor\":\"white\",\"startlinecolor\":\"#2a3f5f\"},\"baxis\":{\"endlinecolor\":\"#2a3f5f\",\"gridcolor\":\"white\",\"linecolor\":\"white\",\"minorgridcolor\":\"white\",\"startlinecolor\":\"#2a3f5f\"},\"type\":\"carpet\"}],\"table\":[{\"cells\":{\"fill\":{\"color\":\"#EBF0F8\"},\"line\":{\"color\":\"white\"}},\"header\":{\"fill\":{\"color\":\"#C8D4E3\"},\"line\":{\"color\":\"white\"}},\"type\":\"table\"}],\"barpolar\":[{\"marker\":{\"line\":{\"color\":\"#E5ECF6\",\"width\":0.5},\"pattern\":{\"fillmode\":\"overlay\",\"size\":10,\"solidity\":0.2}},\"type\":\"barpolar\"}],\"pie\":[{\"automargin\":true,\"type\":\"pie\"}]},\"layout\":{\"autotypenumbers\":\"strict\",\"colorway\":[\"#636efa\",\"#EF553B\",\"#00cc96\",\"#ab63fa\",\"#FFA15A\",\"#19d3f3\",\"#FF6692\",\"#B6E880\",\"#FF97FF\",\"#FECB52\"],\"font\":{\"color\":\"#2a3f5f\"},\"hovermode\":\"closest\",\"hoverlabel\":{\"align\":\"left\"},\"paper_bgcolor\":\"white\",\"plot_bgcolor\":\"#E5ECF6\",\"polar\":{\"bgcolor\":\"#E5ECF6\",\"angularaxis\":{\"gridcolor\":\"white\",\"linecolor\":\"white\",\"ticks\":\"\"},\"radialaxis\":{\"gridcolor\":\"white\",\"linecolor\":\"white\",\"ticks\":\"\"}},\"ternary\":{\"bgcolor\":\"#E5ECF6\",\"aaxis\":{\"gridcolor\":\"white\",\"linecolor\":\"white\",\"ticks\":\"\"},\"baxis\":{\"gridcolor\":\"white\",\"linecolor\":\"white\",\"ticks\":\"\"},\"caxis\":{\"gridcolor\":\"white\",\"linecolor\":\"white\",\"ticks\":\"\"}},\"coloraxis\":{\"colorbar\":{\"outlinewidth\":0,\"ticks\":\"\"}},\"colorscale\":{\"sequential\":[[0.0,\"#0d0887\"],[0.1111111111111111,\"#46039f\"],[0.2222222222222222,\"#7201a8\"],[0.3333333333333333,\"#9c179e\"],[0.4444444444444444,\"#bd3786\"],[0.5555555555555556,\"#d8576b\"],[0.6666666666666666,\"#ed7953\"],[0.7777777777777778,\"#fb9f3a\"],[0.8888888888888888,\"#fdca26\"],[1.0,\"#f0f921\"]],\"sequentialminus\":[[0.0,\"#0d0887\"],[0.1111111111111111,\"#46039f\"],[0.2222222222222222,\"#7201a8\"],[0.3333333333333333,\"#9c179e\"],[0.4444444444444444,\"#bd3786\"],[0.5555555555555556,\"#d8576b\"],[0.6666666666666666,\"#ed7953\"],[0.7777777777777778,\"#fb9f3a\"],[0.8888888888888888,\"#fdca26\"],[1.0,\"#f0f921\"]],\"diverging\":[[0,\"#8e0152\"],[0.1,\"#c51b7d\"],[0.2,\"#de77ae\"],[0.3,\"#f1b6da\"],[0.4,\"#fde0ef\"],[0.5,\"#f7f7f7\"],[0.6,\"#e6f5d0\"],[0.7,\"#b8e186\"],[0.8,\"#7fbc41\"],[0.9,\"#4d9221\"],[1,\"#276419\"]]},\"xaxis\":{\"gridcolor\":\"white\",\"linecolor\":\"white\",\"ticks\":\"\",\"title\":{\"standoff\":15},\"zerolinecolor\":\"white\",\"automargin\":true,\"zerolinewidth\":2},\"yaxis\":{\"gridcolor\":\"white\",\"linecolor\":\"white\",\"ticks\":\"\",\"title\":{\"standoff\":15},\"zerolinecolor\":\"white\",\"automargin\":true,\"zerolinewidth\":2},\"scene\":{\"xaxis\":{\"backgroundcolor\":\"#E5ECF6\",\"gridcolor\":\"white\",\"linecolor\":\"white\",\"showbackground\":true,\"ticks\":\"\",\"zerolinecolor\":\"white\",\"gridwidth\":2},\"yaxis\":{\"backgroundcolor\":\"#E5ECF6\",\"gridcolor\":\"white\",\"linecolor\":\"white\",\"showbackground\":true,\"ticks\":\"\",\"zerolinecolor\":\"white\",\"gridwidth\":2},\"zaxis\":{\"backgroundcolor\":\"#E5ECF6\",\"gridcolor\":\"white\",\"linecolor\":\"white\",\"showbackground\":true,\"ticks\":\"\",\"zerolinecolor\":\"white\",\"gridwidth\":2}},\"shapedefaults\":{\"line\":{\"color\":\"#2a3f5f\"}},\"annotationdefaults\":{\"arrowcolor\":\"#2a3f5f\",\"arrowhead\":0,\"arrowwidth\":1},\"geo\":{\"bgcolor\":\"white\",\"landcolor\":\"#E5ECF6\",\"subunitcolor\":\"white\",\"showland\":true,\"showlakes\":true,\"lakecolor\":\"white\"},\"title\":{\"x\":0.05},\"mapbox\":{\"style\":\"light\"}}},\"legend\":{\"tracegroupgap\":0},\"title\":{\"text\":\"\\u003cb\\u003eHierarchy: AI Performance Complaints\\u003c\\u002fb\\u003e\"},\"sunburstcolorway\":[\"rgb(102, 197, 204)\",\"rgb(246, 207, 113)\",\"rgb(248, 156, 116)\",\"rgb(220, 176, 242)\",\"rgb(135, 197, 95)\",\"rgb(158, 185, 243)\",\"rgb(254, 136, 177)\",\"rgb(201, 219, 116)\",\"rgb(139, 224, 164)\",\"rgb(180, 151, 231)\",\"rgb(179, 179, 179)\"]},                        {\"responsive\": true}                    ).then(function(){\n                            \nvar gd = document.getElementById('f76c4609-3764-4f0c-9a98-afbd076f5939');\nvar x = new MutationObserver(function (mutations, observer) {{\n        var display = window.getComputedStyle(gd).display;\n        if (!display || display === 'none') {{\n            console.log([gd, 'removed!']);\n            Plotly.purge(gd);\n            observer.disconnect();\n        }}\n}});\n\n// Listen for the removal of the full notebook cells\nvar notebookContainer = gd.closest('#notebook-container');\nif (notebookContainer) {{\n    x.observe(notebookContainer, {childList: true});\n}}\n\n// Listen for the clearing of the current output cell\nvar outputEl = gd.closest('.output');\nif (outputEl) {{\n    x.observe(outputEl, {childList: true});\n}}\n\n                        })                };                            </script>        </div>\n</body>\n</html>"
     },
     "metadata": {},
     "output_type": "display_data"
    },
    {
     "name": "stdout",
     "output_type": "stream",
     "text": "\n--- Most Important Terms for 'AI Performance & Quality' (TF-IDF) ---\n"
    },
    {
     "data": {
      "text/html": "<div>\n<style scoped>\n    .dataframe tbody tr th:only-of-type {\n        vertical-align: middle;\n    }\n\n    .dataframe tbody tr th {\n        vertical-align: top;\n    }\n\n    .dataframe thead th {\n        text-align: right;\n    }\n</style>\n<table border=\"1\" class=\"dataframe\">\n  <thead>\n    <tr style=\"text-align: right;\">\n      <th></th>\n      <th>Word</th>\n      <th>TF-IDF Score</th>\n    </tr>\n  </thead>\n  <tbody>\n    <tr>\n      <th>0</th>\n      <td>ai</td>\n      <td>104.451448</td>\n    </tr>\n    <tr>\n      <th>1</th>\n      <td>like</td>\n      <td>67.235269</td>\n    </tr>\n    <tr>\n      <th>2</th>\n      <td>just</td>\n      <td>58.831639</td>\n    </tr>\n    <tr>\n      <th>3</th>\n      <td>app</td>\n      <td>51.103729</td>\n    </tr>\n    <tr>\n      <th>4</th>\n      <td>conversation</td>\n      <td>49.798329</td>\n    </tr>\n    <tr>\n      <th>5</th>\n      <td>bot</td>\n      <td>48.253100</td>\n    </tr>\n    <tr>\n      <th>6</th>\n      <td>doesn</td>\n      <td>41.696020</td>\n    </tr>\n    <tr>\n      <th>7</th>\n      <td>chat</td>\n      <td>38.117716</td>\n    </tr>\n    <tr>\n      <th>8</th>\n      <td>don</td>\n      <td>37.569561</td>\n    </tr>\n    <tr>\n      <th>9</th>\n      <td>talk</td>\n      <td>36.680384</td>\n    </tr>\n    <tr>\n      <th>10</th>\n      <td>good</td>\n      <td>35.438292</td>\n    </tr>\n    <tr>\n      <th>11</th>\n      <td>time</td>\n      <td>34.465215</td>\n    </tr>\n    <tr>\n      <th>12</th>\n      <td>really</td>\n      <td>34.255622</td>\n    </tr>\n    <tr>\n      <th>13</th>\n      <td>talking</td>\n      <td>34.190844</td>\n    </tr>\n    <tr>\n      <th>14</th>\n      <td>conversations</td>\n      <td>33.898721</td>\n    </tr>\n  </tbody>\n</table>\n</div>",
      "text/plain": "             Word  TF-IDF Score\n0              ai    104.451448\n1            like     67.235269\n2            just     58.831639\n3             app     51.103729\n4    conversation     49.798329\n5             bot     48.253100\n6           doesn     41.696020\n7            chat     38.117716\n8             don     37.569561\n9            talk     36.680384\n10           good     35.438292\n11           time     34.465215\n12         really     34.255622\n13        talking     34.190844\n14  conversations     33.898721"
     },
     "metadata": {},
     "output_type": "display_data"
    }
   ],
   "source": [
    "# --- 1A: Treemap Breakdown ---\n",
    "ai_quality_df = df[df[\"theme\"] == \"AI Performance & Quality\"]\n",
    "ai_quality_breakdown = ai_quality_df[\"topic_name\"].value_counts().reset_index()\n",
    "ai_quality_breakdown.columns = [\"Specific Complaint\", \"Review Count\"]\n",
    "\n",
    "fig_ai_treemap = px.treemap(\n",
    "    ai_quality_breakdown.head(10),\n",
    "    path=[px.Constant(\"AI Performance Complaints\"), \"Specific Complaint\"],\n",
    "    values=\"Review Count\",\n",
    "    title=\"<b>Breakdown: AI Performance Complaints</b>\",\n",
    "    color_discrete_sequence=px.colors.sequential.Blues_r,\n",
    ")\n",
    "fig_ai_treemap.show()\n",
    "\n",
    "# --- 1B: Hierarchical Sunburst View ---\n",
    "fig_ai_sunburst = px.sunburst(\n",
    "    ai_quality_breakdown,\n",
    "    path=[\"Specific Complaint\"],\n",
    "    values=\"Review Count\",\n",
    "    title=\"<b>Hierarchy: AI Performance Complaints</b>\",\n",
    "    color_discrete_sequence=px.colors.qualitative.Pastel,\n",
    ")\n",
    "fig_ai_sunburst.show()  # Note: Sunburst is less useful with only one level, but shows structure.\n",
    "\n",
    "# --- 1C: Key Term Analysis with TF-IDF ---\n",
    "print(\"\\n--- Most Important Terms for 'AI Performance & Quality' (TF-IDF) ---\")\n",
    "tfidf_ai = get_top_tfidf_words_for_theme(\"AI Performance & Quality\", n_words=15)\n",
    "display(tfidf_ai)"
   ]
  },
  {
   "cell_type": "markdown",
   "metadata": {},
   "source": "---\n### Deep Dive 2: Monetization & Value\n\nWhile also present in the baseline app, the monetization strategies for conversational apps often tie into specific AI features, leading to unique complaints."
  },
  {
   "cell_type": "code",
   "execution_count": 27,
   "metadata": {
    "execution": {
     "iopub.execute_input": "2025-07-22T08:37:16.530743Z",
     "iopub.status.busy": "2025-07-22T08:37:16.529981Z",
     "iopub.status.idle": "2025-07-22T08:37:16.782590Z",
     "shell.execute_reply": "2025-07-22T08:37:16.781894Z",
     "shell.execute_reply.started": "2025-07-22T08:37:16.530717Z"
    },
    "trusted": true
   },
   "outputs": [
    {
     "data": {
      "text/html": "<html>\n<head><meta charset=\"utf-8\" /></head>\n<body>\n    <div>            <script src=\"https://cdnjs.cloudflare.com/ajax/libs/mathjax/2.7.5/MathJax.js?config=TeX-AMS-MML_SVG\"></script><script type=\"text/javascript\">if (window.MathJax && window.MathJax.Hub && window.MathJax.Hub.Config) {window.MathJax.Hub.Config({SVG: {font: \"STIX-Web\"}});}</script>                <script type=\"text/javascript\">window.PlotlyConfig = {MathJaxConfig: 'local'};</script>\n        <script charset=\"utf-8\" src=\"https://cdn.plot.ly/plotly-2.35.2.min.js\"></script>                <div id=\"580e6f3b-d393-4d00-8f39-dcec5d62aae4\" class=\"plotly-graph-div\" style=\"height:525px; width:100%;\"></div>            <script type=\"text/javascript\">                                    window.PLOTLYENV=window.PLOTLYENV || {};                                    if (document.getElementById(\"580e6f3b-d393-4d00-8f39-dcec5d62aae4\")) {                    Plotly.newPlot(                        \"580e6f3b-d393-4d00-8f39-dcec5d62aae4\",                        [{\"branchvalues\":\"total\",\"domain\":{\"x\":[0.0,1.0],\"y\":[0.0,1.0]},\"hovertemplate\":\"labels=%{label}\\u003cbr\\u003eReview Count=%{value}\\u003cbr\\u003eparent=%{parent}\\u003cbr\\u003eid=%{id}\\u003cextra\\u003e\\u003c\\u002fextra\\u003e\",\"ids\":[\"Monetization Complaints\\u002fChat Monetization\",\"Monetization Complaints\\u002fIn-App Gamification & Payments\",\"Monetization Complaints\\u002fInability to Use Core Features (Paywall)\",\"Monetization Complaints\\u002fPrice is Too Expensive\",\"Monetization Complaints\\u002fPricing & Lack of Monthly Options\",\"Monetization Complaints\\u002fRefunds & Google Play Billing\",\"Monetization Complaints\\u002fRefunds for Paid Subscriptions\",\"Monetization Complaints\\u002fSubscription Complaints\",\"Monetization Complaints\\u002fSubscription Language & Options\",\"Monetization Complaints\\u002fSubscription Models (Pay\\u002fMonthly\\u002fYearly)\",\"Monetization Complaints\"],\"labels\":[\"Chat Monetization\",\"In-App Gamification & Payments\",\"Inability to Use Core Features (Paywall)\",\"Price is Too Expensive\",\"Pricing & Lack of Monthly Options\",\"Refunds & Google Play Billing\",\"Refunds for Paid Subscriptions\",\"Subscription Complaints\",\"Subscription Language & Options\",\"Subscription Models (Pay\\u002fMonthly\\u002fYearly)\",\"Monetization Complaints\"],\"name\":\"\",\"parents\":[\"Monetization Complaints\",\"Monetization Complaints\",\"Monetization Complaints\",\"Monetization Complaints\",\"Monetization Complaints\",\"Monetization Complaints\",\"Monetization Complaints\",\"Monetization Complaints\",\"Monetization Complaints\",\"Monetization Complaints\",\"\"],\"values\":[131,407,139,143,263,292,179,262,623,931,3370],\"type\":\"treemap\"}],                        {\"template\":{\"data\":{\"histogram2dcontour\":[{\"type\":\"histogram2dcontour\",\"colorbar\":{\"outlinewidth\":0,\"ticks\":\"\"},\"colorscale\":[[0.0,\"#0d0887\"],[0.1111111111111111,\"#46039f\"],[0.2222222222222222,\"#7201a8\"],[0.3333333333333333,\"#9c179e\"],[0.4444444444444444,\"#bd3786\"],[0.5555555555555556,\"#d8576b\"],[0.6666666666666666,\"#ed7953\"],[0.7777777777777778,\"#fb9f3a\"],[0.8888888888888888,\"#fdca26\"],[1.0,\"#f0f921\"]]}],\"choropleth\":[{\"type\":\"choropleth\",\"colorbar\":{\"outlinewidth\":0,\"ticks\":\"\"}}],\"histogram2d\":[{\"type\":\"histogram2d\",\"colorbar\":{\"outlinewidth\":0,\"ticks\":\"\"},\"colorscale\":[[0.0,\"#0d0887\"],[0.1111111111111111,\"#46039f\"],[0.2222222222222222,\"#7201a8\"],[0.3333333333333333,\"#9c179e\"],[0.4444444444444444,\"#bd3786\"],[0.5555555555555556,\"#d8576b\"],[0.6666666666666666,\"#ed7953\"],[0.7777777777777778,\"#fb9f3a\"],[0.8888888888888888,\"#fdca26\"],[1.0,\"#f0f921\"]]}],\"heatmap\":[{\"type\":\"heatmap\",\"colorbar\":{\"outlinewidth\":0,\"ticks\":\"\"},\"colorscale\":[[0.0,\"#0d0887\"],[0.1111111111111111,\"#46039f\"],[0.2222222222222222,\"#7201a8\"],[0.3333333333333333,\"#9c179e\"],[0.4444444444444444,\"#bd3786\"],[0.5555555555555556,\"#d8576b\"],[0.6666666666666666,\"#ed7953\"],[0.7777777777777778,\"#fb9f3a\"],[0.8888888888888888,\"#fdca26\"],[1.0,\"#f0f921\"]]}],\"heatmapgl\":[{\"type\":\"heatmapgl\",\"colorbar\":{\"outlinewidth\":0,\"ticks\":\"\"},\"colorscale\":[[0.0,\"#0d0887\"],[0.1111111111111111,\"#46039f\"],[0.2222222222222222,\"#7201a8\"],[0.3333333333333333,\"#9c179e\"],[0.4444444444444444,\"#bd3786\"],[0.5555555555555556,\"#d8576b\"],[0.6666666666666666,\"#ed7953\"],[0.7777777777777778,\"#fb9f3a\"],[0.8888888888888888,\"#fdca26\"],[1.0,\"#f0f921\"]]}],\"contourcarpet\":[{\"type\":\"contourcarpet\",\"colorbar\":{\"outlinewidth\":0,\"ticks\":\"\"}}],\"contour\":[{\"type\":\"contour\",\"colorbar\":{\"outlinewidth\":0,\"ticks\":\"\"},\"colorscale\":[[0.0,\"#0d0887\"],[0.1111111111111111,\"#46039f\"],[0.2222222222222222,\"#7201a8\"],[0.3333333333333333,\"#9c179e\"],[0.4444444444444444,\"#bd3786\"],[0.5555555555555556,\"#d8576b\"],[0.6666666666666666,\"#ed7953\"],[0.7777777777777778,\"#fb9f3a\"],[0.8888888888888888,\"#fdca26\"],[1.0,\"#f0f921\"]]}],\"surface\":[{\"type\":\"surface\",\"colorbar\":{\"outlinewidth\":0,\"ticks\":\"\"},\"colorscale\":[[0.0,\"#0d0887\"],[0.1111111111111111,\"#46039f\"],[0.2222222222222222,\"#7201a8\"],[0.3333333333333333,\"#9c179e\"],[0.4444444444444444,\"#bd3786\"],[0.5555555555555556,\"#d8576b\"],[0.6666666666666666,\"#ed7953\"],[0.7777777777777778,\"#fb9f3a\"],[0.8888888888888888,\"#fdca26\"],[1.0,\"#f0f921\"]]}],\"mesh3d\":[{\"type\":\"mesh3d\",\"colorbar\":{\"outlinewidth\":0,\"ticks\":\"\"}}],\"scatter\":[{\"fillpattern\":{\"fillmode\":\"overlay\",\"size\":10,\"solidity\":0.2},\"type\":\"scatter\"}],\"parcoords\":[{\"type\":\"parcoords\",\"line\":{\"colorbar\":{\"outlinewidth\":0,\"ticks\":\"\"}}}],\"scatterpolargl\":[{\"type\":\"scatterpolargl\",\"marker\":{\"colorbar\":{\"outlinewidth\":0,\"ticks\":\"\"}}}],\"bar\":[{\"error_x\":{\"color\":\"#2a3f5f\"},\"error_y\":{\"color\":\"#2a3f5f\"},\"marker\":{\"line\":{\"color\":\"#E5ECF6\",\"width\":0.5},\"pattern\":{\"fillmode\":\"overlay\",\"size\":10,\"solidity\":0.2}},\"type\":\"bar\"}],\"scattergeo\":[{\"type\":\"scattergeo\",\"marker\":{\"colorbar\":{\"outlinewidth\":0,\"ticks\":\"\"}}}],\"scatterpolar\":[{\"type\":\"scatterpolar\",\"marker\":{\"colorbar\":{\"outlinewidth\":0,\"ticks\":\"\"}}}],\"histogram\":[{\"marker\":{\"pattern\":{\"fillmode\":\"overlay\",\"size\":10,\"solidity\":0.2}},\"type\":\"histogram\"}],\"scattergl\":[{\"type\":\"scattergl\",\"marker\":{\"colorbar\":{\"outlinewidth\":0,\"ticks\":\"\"}}}],\"scatter3d\":[{\"type\":\"scatter3d\",\"line\":{\"colorbar\":{\"outlinewidth\":0,\"ticks\":\"\"}},\"marker\":{\"colorbar\":{\"outlinewidth\":0,\"ticks\":\"\"}}}],\"scattermapbox\":[{\"type\":\"scattermapbox\",\"marker\":{\"colorbar\":{\"outlinewidth\":0,\"ticks\":\"\"}}}],\"scatterternary\":[{\"type\":\"scatterternary\",\"marker\":{\"colorbar\":{\"outlinewidth\":0,\"ticks\":\"\"}}}],\"scattercarpet\":[{\"type\":\"scattercarpet\",\"marker\":{\"colorbar\":{\"outlinewidth\":0,\"ticks\":\"\"}}}],\"carpet\":[{\"aaxis\":{\"endlinecolor\":\"#2a3f5f\",\"gridcolor\":\"white\",\"linecolor\":\"white\",\"minorgridcolor\":\"white\",\"startlinecolor\":\"#2a3f5f\"},\"baxis\":{\"endlinecolor\":\"#2a3f5f\",\"gridcolor\":\"white\",\"linecolor\":\"white\",\"minorgridcolor\":\"white\",\"startlinecolor\":\"#2a3f5f\"},\"type\":\"carpet\"}],\"table\":[{\"cells\":{\"fill\":{\"color\":\"#EBF0F8\"},\"line\":{\"color\":\"white\"}},\"header\":{\"fill\":{\"color\":\"#C8D4E3\"},\"line\":{\"color\":\"white\"}},\"type\":\"table\"}],\"barpolar\":[{\"marker\":{\"line\":{\"color\":\"#E5ECF6\",\"width\":0.5},\"pattern\":{\"fillmode\":\"overlay\",\"size\":10,\"solidity\":0.2}},\"type\":\"barpolar\"}],\"pie\":[{\"automargin\":true,\"type\":\"pie\"}]},\"layout\":{\"autotypenumbers\":\"strict\",\"colorway\":[\"#636efa\",\"#EF553B\",\"#00cc96\",\"#ab63fa\",\"#FFA15A\",\"#19d3f3\",\"#FF6692\",\"#B6E880\",\"#FF97FF\",\"#FECB52\"],\"font\":{\"color\":\"#2a3f5f\"},\"hovermode\":\"closest\",\"hoverlabel\":{\"align\":\"left\"},\"paper_bgcolor\":\"white\",\"plot_bgcolor\":\"#E5ECF6\",\"polar\":{\"bgcolor\":\"#E5ECF6\",\"angularaxis\":{\"gridcolor\":\"white\",\"linecolor\":\"white\",\"ticks\":\"\"},\"radialaxis\":{\"gridcolor\":\"white\",\"linecolor\":\"white\",\"ticks\":\"\"}},\"ternary\":{\"bgcolor\":\"#E5ECF6\",\"aaxis\":{\"gridcolor\":\"white\",\"linecolor\":\"white\",\"ticks\":\"\"},\"baxis\":{\"gridcolor\":\"white\",\"linecolor\":\"white\",\"ticks\":\"\"},\"caxis\":{\"gridcolor\":\"white\",\"linecolor\":\"white\",\"ticks\":\"\"}},\"coloraxis\":{\"colorbar\":{\"outlinewidth\":0,\"ticks\":\"\"}},\"colorscale\":{\"sequential\":[[0.0,\"#0d0887\"],[0.1111111111111111,\"#46039f\"],[0.2222222222222222,\"#7201a8\"],[0.3333333333333333,\"#9c179e\"],[0.4444444444444444,\"#bd3786\"],[0.5555555555555556,\"#d8576b\"],[0.6666666666666666,\"#ed7953\"],[0.7777777777777778,\"#fb9f3a\"],[0.8888888888888888,\"#fdca26\"],[1.0,\"#f0f921\"]],\"sequentialminus\":[[0.0,\"#0d0887\"],[0.1111111111111111,\"#46039f\"],[0.2222222222222222,\"#7201a8\"],[0.3333333333333333,\"#9c179e\"],[0.4444444444444444,\"#bd3786\"],[0.5555555555555556,\"#d8576b\"],[0.6666666666666666,\"#ed7953\"],[0.7777777777777778,\"#fb9f3a\"],[0.8888888888888888,\"#fdca26\"],[1.0,\"#f0f921\"]],\"diverging\":[[0,\"#8e0152\"],[0.1,\"#c51b7d\"],[0.2,\"#de77ae\"],[0.3,\"#f1b6da\"],[0.4,\"#fde0ef\"],[0.5,\"#f7f7f7\"],[0.6,\"#e6f5d0\"],[0.7,\"#b8e186\"],[0.8,\"#7fbc41\"],[0.9,\"#4d9221\"],[1,\"#276419\"]]},\"xaxis\":{\"gridcolor\":\"white\",\"linecolor\":\"white\",\"ticks\":\"\",\"title\":{\"standoff\":15},\"zerolinecolor\":\"white\",\"automargin\":true,\"zerolinewidth\":2},\"yaxis\":{\"gridcolor\":\"white\",\"linecolor\":\"white\",\"ticks\":\"\",\"title\":{\"standoff\":15},\"zerolinecolor\":\"white\",\"automargin\":true,\"zerolinewidth\":2},\"scene\":{\"xaxis\":{\"backgroundcolor\":\"#E5ECF6\",\"gridcolor\":\"white\",\"linecolor\":\"white\",\"showbackground\":true,\"ticks\":\"\",\"zerolinecolor\":\"white\",\"gridwidth\":2},\"yaxis\":{\"backgroundcolor\":\"#E5ECF6\",\"gridcolor\":\"white\",\"linecolor\":\"white\",\"showbackground\":true,\"ticks\":\"\",\"zerolinecolor\":\"white\",\"gridwidth\":2},\"zaxis\":{\"backgroundcolor\":\"#E5ECF6\",\"gridcolor\":\"white\",\"linecolor\":\"white\",\"showbackground\":true,\"ticks\":\"\",\"zerolinecolor\":\"white\",\"gridwidth\":2}},\"shapedefaults\":{\"line\":{\"color\":\"#2a3f5f\"}},\"annotationdefaults\":{\"arrowcolor\":\"#2a3f5f\",\"arrowhead\":0,\"arrowwidth\":1},\"geo\":{\"bgcolor\":\"white\",\"landcolor\":\"#E5ECF6\",\"subunitcolor\":\"white\",\"showland\":true,\"showlakes\":true,\"lakecolor\":\"white\"},\"title\":{\"x\":0.05},\"mapbox\":{\"style\":\"light\"}}},\"legend\":{\"tracegroupgap\":0},\"title\":{\"text\":\"\\u003cb\\u003eBreakdown: Monetization Complaints\\u003c\\u002fb\\u003e\"},\"treemapcolorway\":[\"rgb(103,0,13)\",\"rgb(165,15,21)\",\"rgb(203,24,29)\",\"rgb(239,59,44)\",\"rgb(251,106,74)\",\"rgb(252,146,114)\",\"rgb(252,187,161)\",\"rgb(254,224,210)\",\"rgb(255,245,240)\"]},                        {\"responsive\": true}                    ).then(function(){\n                            \nvar gd = document.getElementById('580e6f3b-d393-4d00-8f39-dcec5d62aae4');\nvar x = new MutationObserver(function (mutations, observer) {{\n        var display = window.getComputedStyle(gd).display;\n        if (!display || display === 'none') {{\n            console.log([gd, 'removed!']);\n            Plotly.purge(gd);\n            observer.disconnect();\n        }}\n}});\n\n// Listen for the removal of the full notebook cells\nvar notebookContainer = gd.closest('#notebook-container');\nif (notebookContainer) {{\n    x.observe(notebookContainer, {childList: true});\n}}\n\n// Listen for the clearing of the current output cell\nvar outputEl = gd.closest('.output');\nif (outputEl) {{\n    x.observe(outputEl, {childList: true});\n}}\n\n                        })                };                            </script>        </div>\n</body>\n</html>"
     },
     "metadata": {},
     "output_type": "display_data"
    },
    {
     "name": "stdout",
     "output_type": "stream",
     "text": "\n--- Most Important Terms for 'Monetization & Value' (TF-IDF) ---\n"
    },
    {
     "data": {
      "text/html": "<div>\n<style scoped>\n    .dataframe tbody tr th:only-of-type {\n        vertical-align: middle;\n    }\n\n    .dataframe tbody tr th {\n        vertical-align: top;\n    }\n\n    .dataframe thead th {\n        text-align: right;\n    }\n</style>\n<table border=\"1\" class=\"dataframe\">\n  <thead>\n    <tr style=\"text-align: right;\">\n      <th></th>\n      <th>Word</th>\n      <th>TF-IDF Score</th>\n    </tr>\n  </thead>\n  <tbody>\n    <tr>\n      <th>0</th>\n      <td>subscription</td>\n      <td>204.753074</td>\n    </tr>\n    <tr>\n      <th>1</th>\n      <td>pay</td>\n      <td>190.781607</td>\n    </tr>\n    <tr>\n      <th>2</th>\n      <td>app</td>\n      <td>184.087322</td>\n    </tr>\n    <tr>\n      <th>3</th>\n      <td>monthly</td>\n      <td>134.470123</td>\n    </tr>\n    <tr>\n      <th>4</th>\n      <td>money</td>\n      <td>132.342376</td>\n    </tr>\n    <tr>\n      <th>5</th>\n      <td>year</td>\n      <td>120.774336</td>\n    </tr>\n    <tr>\n      <th>6</th>\n      <td>just</td>\n      <td>112.073137</td>\n    </tr>\n    <tr>\n      <th>7</th>\n      <td>month</td>\n      <td>109.675979</td>\n    </tr>\n    <tr>\n      <th>8</th>\n      <td>like</td>\n      <td>104.350274</td>\n    </tr>\n    <tr>\n      <th>9</th>\n      <td>ai</td>\n      <td>101.071147</td>\n    </tr>\n    <tr>\n      <th>10</th>\n      <td>expensive</td>\n      <td>98.628930</td>\n    </tr>\n    <tr>\n      <th>11</th>\n      <td>70</td>\n      <td>96.494403</td>\n    </tr>\n    <tr>\n      <th>12</th>\n      <td>game</td>\n      <td>90.250406</td>\n    </tr>\n    <tr>\n      <th>13</th>\n      <td>good</td>\n      <td>87.053745</td>\n    </tr>\n    <tr>\n      <th>14</th>\n      <td>option</td>\n      <td>86.200965</td>\n    </tr>\n  </tbody>\n</table>\n</div>",
      "text/plain": "            Word  TF-IDF Score\n0   subscription    204.753074\n1            pay    190.781607\n2            app    184.087322\n3        monthly    134.470123\n4          money    132.342376\n5           year    120.774336\n6           just    112.073137\n7          month    109.675979\n8           like    104.350274\n9             ai    101.071147\n10     expensive     98.628930\n11            70     96.494403\n12          game     90.250406\n13          good     87.053745\n14        option     86.200965"
     },
     "metadata": {},
     "output_type": "display_data"
    }
   ],
   "source": [
    "# --- 2A: Treemap Breakdown ---\n",
    "monetization_df = df[df[\"theme\"] == \"Monetization & Value\"]\n",
    "monetization_breakdown = monetization_df[\"topic_name\"].value_counts().reset_index()\n",
    "monetization_breakdown.columns = [\"Specific Complaint\", \"Review Count\"]\n",
    "\n",
    "fig_mon_treemap = px.treemap(\n",
    "    monetization_breakdown.head(10),\n",
    "    path=[px.Constant(\"Monetization Complaints\"), \"Specific Complaint\"],\n",
    "    values=\"Review Count\",\n",
    "    title=\"<b>Breakdown: Monetization Complaints</b>\",\n",
    "    color_discrete_sequence=px.colors.sequential.Reds_r,\n",
    ")\n",
    "fig_mon_treemap.show()\n",
    "\n",
    "# --- 2B: Hierarchical Sunburst View ---\n",
    "# (You can create a sunburst for this theme as well, following the pattern above)\n",
    "\n",
    "# --- 2C: Key Term Analysis with TF-IDF ---\n",
    "print(\"\\n--- Most Important Terms for 'Monetization & Value' (TF-IDF) ---\")\n",
    "tfidf_mon = get_top_tfidf_words_for_theme(\"Monetization & Value\", n_words=15)\n",
    "display(tfidf_mon)"
   ]
  },
  {
   "cell_type": "markdown",
   "metadata": {},
   "source": "---\n### Deep Dive 3: Technical Performance\n\nThis theme covers the fundamental functionality of the app. Failures here prevent users from even accessing the conversational features."
  },
  {
   "cell_type": "code",
   "execution_count": 28,
   "metadata": {
    "execution": {
     "iopub.execute_input": "2025-07-22T08:37:20.016786Z",
     "iopub.status.busy": "2025-07-22T08:37:20.016481Z",
     "iopub.status.idle": "2025-07-22T08:37:20.126735Z",
     "shell.execute_reply": "2025-07-22T08:37:20.125967Z",
     "shell.execute_reply.started": "2025-07-22T08:37:20.016766Z"
    },
    "trusted": true
   },
   "outputs": [
    {
     "data": {
      "text/html": "<html>\n<head><meta charset=\"utf-8\" /></head>\n<body>\n    <div>            <script src=\"https://cdnjs.cloudflare.com/ajax/libs/mathjax/2.7.5/MathJax.js?config=TeX-AMS-MML_SVG\"></script><script type=\"text/javascript\">if (window.MathJax && window.MathJax.Hub && window.MathJax.Hub.Config) {window.MathJax.Hub.Config({SVG: {font: \"STIX-Web\"}});}</script>                <script type=\"text/javascript\">window.PlotlyConfig = {MathJaxConfig: 'local'};</script>\n        <script charset=\"utf-8\" src=\"https://cdn.plot.ly/plotly-2.35.2.min.js\"></script>                <div id=\"f80ed341-4f8c-4301-9d5e-9aafcf28d60d\" class=\"plotly-graph-div\" style=\"height:525px; width:100%;\"></div>            <script type=\"text/javascript\">                                    window.PLOTLYENV=window.PLOTLYENV || {};                                    if (document.getElementById(\"f80ed341-4f8c-4301-9d5e-9aafcf28d60d\")) {                    Plotly.newPlot(                        \"f80ed341-4f8c-4301-9d5e-9aafcf28d60d\",                        [{\"branchvalues\":\"total\",\"domain\":{\"x\":[0.0,1.0],\"y\":[0.0,1.0]},\"hovertemplate\":\"labels=%{label}\\u003cbr\\u003eReview Count=%{value}\\u003cbr\\u003eparent=%{parent}\\u003cbr\\u003eid=%{id}\\u003cextra\\u003e\\u003c\\u002fextra\\u003e\",\"ids\":[\"Technical Complaints\\u002fAccount, Login & Password Issues\",\"Technical Complaints\\u002fBugs Introduced by Updates\",\"Technical Complaints\\u002fTechnical: App Crashing \\u002f Not Opening\",\"Technical Complaints\\u002fTechnical: Customization Screen Bugs\",\"Technical Complaints\\u002fTechnical: Internet Connection Issues\",\"Technical Complaints\\u002fTechnical: Loading & Installation\",\"Technical Complaints\\u002fUpdate Issues\",\"Technical Complaints\"],\"labels\":[\"Account, Login & Password Issues\",\"Bugs Introduced by Updates\",\"Technical: App Crashing \\u002f Not Opening\",\"Technical: Customization Screen Bugs\",\"Technical: Internet Connection Issues\",\"Technical: Loading & Installation\",\"Update Issues\",\"Technical Complaints\"],\"name\":\"\",\"parents\":[\"Technical Complaints\",\"Technical Complaints\",\"Technical Complaints\",\"Technical Complaints\",\"Technical Complaints\",\"Technical Complaints\",\"Technical Complaints\",\"\"],\"values\":[347,247,393,94,120,120,70,1391],\"type\":\"treemap\"}],                        {\"template\":{\"data\":{\"histogram2dcontour\":[{\"type\":\"histogram2dcontour\",\"colorbar\":{\"outlinewidth\":0,\"ticks\":\"\"},\"colorscale\":[[0.0,\"#0d0887\"],[0.1111111111111111,\"#46039f\"],[0.2222222222222222,\"#7201a8\"],[0.3333333333333333,\"#9c179e\"],[0.4444444444444444,\"#bd3786\"],[0.5555555555555556,\"#d8576b\"],[0.6666666666666666,\"#ed7953\"],[0.7777777777777778,\"#fb9f3a\"],[0.8888888888888888,\"#fdca26\"],[1.0,\"#f0f921\"]]}],\"choropleth\":[{\"type\":\"choropleth\",\"colorbar\":{\"outlinewidth\":0,\"ticks\":\"\"}}],\"histogram2d\":[{\"type\":\"histogram2d\",\"colorbar\":{\"outlinewidth\":0,\"ticks\":\"\"},\"colorscale\":[[0.0,\"#0d0887\"],[0.1111111111111111,\"#46039f\"],[0.2222222222222222,\"#7201a8\"],[0.3333333333333333,\"#9c179e\"],[0.4444444444444444,\"#bd3786\"],[0.5555555555555556,\"#d8576b\"],[0.6666666666666666,\"#ed7953\"],[0.7777777777777778,\"#fb9f3a\"],[0.8888888888888888,\"#fdca26\"],[1.0,\"#f0f921\"]]}],\"heatmap\":[{\"type\":\"heatmap\",\"colorbar\":{\"outlinewidth\":0,\"ticks\":\"\"},\"colorscale\":[[0.0,\"#0d0887\"],[0.1111111111111111,\"#46039f\"],[0.2222222222222222,\"#7201a8\"],[0.3333333333333333,\"#9c179e\"],[0.4444444444444444,\"#bd3786\"],[0.5555555555555556,\"#d8576b\"],[0.6666666666666666,\"#ed7953\"],[0.7777777777777778,\"#fb9f3a\"],[0.8888888888888888,\"#fdca26\"],[1.0,\"#f0f921\"]]}],\"heatmapgl\":[{\"type\":\"heatmapgl\",\"colorbar\":{\"outlinewidth\":0,\"ticks\":\"\"},\"colorscale\":[[0.0,\"#0d0887\"],[0.1111111111111111,\"#46039f\"],[0.2222222222222222,\"#7201a8\"],[0.3333333333333333,\"#9c179e\"],[0.4444444444444444,\"#bd3786\"],[0.5555555555555556,\"#d8576b\"],[0.6666666666666666,\"#ed7953\"],[0.7777777777777778,\"#fb9f3a\"],[0.8888888888888888,\"#fdca26\"],[1.0,\"#f0f921\"]]}],\"contourcarpet\":[{\"type\":\"contourcarpet\",\"colorbar\":{\"outlinewidth\":0,\"ticks\":\"\"}}],\"contour\":[{\"type\":\"contour\",\"colorbar\":{\"outlinewidth\":0,\"ticks\":\"\"},\"colorscale\":[[0.0,\"#0d0887\"],[0.1111111111111111,\"#46039f\"],[0.2222222222222222,\"#7201a8\"],[0.3333333333333333,\"#9c179e\"],[0.4444444444444444,\"#bd3786\"],[0.5555555555555556,\"#d8576b\"],[0.6666666666666666,\"#ed7953\"],[0.7777777777777778,\"#fb9f3a\"],[0.8888888888888888,\"#fdca26\"],[1.0,\"#f0f921\"]]}],\"surface\":[{\"type\":\"surface\",\"colorbar\":{\"outlinewidth\":0,\"ticks\":\"\"},\"colorscale\":[[0.0,\"#0d0887\"],[0.1111111111111111,\"#46039f\"],[0.2222222222222222,\"#7201a8\"],[0.3333333333333333,\"#9c179e\"],[0.4444444444444444,\"#bd3786\"],[0.5555555555555556,\"#d8576b\"],[0.6666666666666666,\"#ed7953\"],[0.7777777777777778,\"#fb9f3a\"],[0.8888888888888888,\"#fdca26\"],[1.0,\"#f0f921\"]]}],\"mesh3d\":[{\"type\":\"mesh3d\",\"colorbar\":{\"outlinewidth\":0,\"ticks\":\"\"}}],\"scatter\":[{\"fillpattern\":{\"fillmode\":\"overlay\",\"size\":10,\"solidity\":0.2},\"type\":\"scatter\"}],\"parcoords\":[{\"type\":\"parcoords\",\"line\":{\"colorbar\":{\"outlinewidth\":0,\"ticks\":\"\"}}}],\"scatterpolargl\":[{\"type\":\"scatterpolargl\",\"marker\":{\"colorbar\":{\"outlinewidth\":0,\"ticks\":\"\"}}}],\"bar\":[{\"error_x\":{\"color\":\"#2a3f5f\"},\"error_y\":{\"color\":\"#2a3f5f\"},\"marker\":{\"line\":{\"color\":\"#E5ECF6\",\"width\":0.5},\"pattern\":{\"fillmode\":\"overlay\",\"size\":10,\"solidity\":0.2}},\"type\":\"bar\"}],\"scattergeo\":[{\"type\":\"scattergeo\",\"marker\":{\"colorbar\":{\"outlinewidth\":0,\"ticks\":\"\"}}}],\"scatterpolar\":[{\"type\":\"scatterpolar\",\"marker\":{\"colorbar\":{\"outlinewidth\":0,\"ticks\":\"\"}}}],\"histogram\":[{\"marker\":{\"pattern\":{\"fillmode\":\"overlay\",\"size\":10,\"solidity\":0.2}},\"type\":\"histogram\"}],\"scattergl\":[{\"type\":\"scattergl\",\"marker\":{\"colorbar\":{\"outlinewidth\":0,\"ticks\":\"\"}}}],\"scatter3d\":[{\"type\":\"scatter3d\",\"line\":{\"colorbar\":{\"outlinewidth\":0,\"ticks\":\"\"}},\"marker\":{\"colorbar\":{\"outlinewidth\":0,\"ticks\":\"\"}}}],\"scattermapbox\":[{\"type\":\"scattermapbox\",\"marker\":{\"colorbar\":{\"outlinewidth\":0,\"ticks\":\"\"}}}],\"scatterternary\":[{\"type\":\"scatterternary\",\"marker\":{\"colorbar\":{\"outlinewidth\":0,\"ticks\":\"\"}}}],\"scattercarpet\":[{\"type\":\"scattercarpet\",\"marker\":{\"colorbar\":{\"outlinewidth\":0,\"ticks\":\"\"}}}],\"carpet\":[{\"aaxis\":{\"endlinecolor\":\"#2a3f5f\",\"gridcolor\":\"white\",\"linecolor\":\"white\",\"minorgridcolor\":\"white\",\"startlinecolor\":\"#2a3f5f\"},\"baxis\":{\"endlinecolor\":\"#2a3f5f\",\"gridcolor\":\"white\",\"linecolor\":\"white\",\"minorgridcolor\":\"white\",\"startlinecolor\":\"#2a3f5f\"},\"type\":\"carpet\"}],\"table\":[{\"cells\":{\"fill\":{\"color\":\"#EBF0F8\"},\"line\":{\"color\":\"white\"}},\"header\":{\"fill\":{\"color\":\"#C8D4E3\"},\"line\":{\"color\":\"white\"}},\"type\":\"table\"}],\"barpolar\":[{\"marker\":{\"line\":{\"color\":\"#E5ECF6\",\"width\":0.5},\"pattern\":{\"fillmode\":\"overlay\",\"size\":10,\"solidity\":0.2}},\"type\":\"barpolar\"}],\"pie\":[{\"automargin\":true,\"type\":\"pie\"}]},\"layout\":{\"autotypenumbers\":\"strict\",\"colorway\":[\"#636efa\",\"#EF553B\",\"#00cc96\",\"#ab63fa\",\"#FFA15A\",\"#19d3f3\",\"#FF6692\",\"#B6E880\",\"#FF97FF\",\"#FECB52\"],\"font\":{\"color\":\"#2a3f5f\"},\"hovermode\":\"closest\",\"hoverlabel\":{\"align\":\"left\"},\"paper_bgcolor\":\"white\",\"plot_bgcolor\":\"#E5ECF6\",\"polar\":{\"bgcolor\":\"#E5ECF6\",\"angularaxis\":{\"gridcolor\":\"white\",\"linecolor\":\"white\",\"ticks\":\"\"},\"radialaxis\":{\"gridcolor\":\"white\",\"linecolor\":\"white\",\"ticks\":\"\"}},\"ternary\":{\"bgcolor\":\"#E5ECF6\",\"aaxis\":{\"gridcolor\":\"white\",\"linecolor\":\"white\",\"ticks\":\"\"},\"baxis\":{\"gridcolor\":\"white\",\"linecolor\":\"white\",\"ticks\":\"\"},\"caxis\":{\"gridcolor\":\"white\",\"linecolor\":\"white\",\"ticks\":\"\"}},\"coloraxis\":{\"colorbar\":{\"outlinewidth\":0,\"ticks\":\"\"}},\"colorscale\":{\"sequential\":[[0.0,\"#0d0887\"],[0.1111111111111111,\"#46039f\"],[0.2222222222222222,\"#7201a8\"],[0.3333333333333333,\"#9c179e\"],[0.4444444444444444,\"#bd3786\"],[0.5555555555555556,\"#d8576b\"],[0.6666666666666666,\"#ed7953\"],[0.7777777777777778,\"#fb9f3a\"],[0.8888888888888888,\"#fdca26\"],[1.0,\"#f0f921\"]],\"sequentialminus\":[[0.0,\"#0d0887\"],[0.1111111111111111,\"#46039f\"],[0.2222222222222222,\"#7201a8\"],[0.3333333333333333,\"#9c179e\"],[0.4444444444444444,\"#bd3786\"],[0.5555555555555556,\"#d8576b\"],[0.6666666666666666,\"#ed7953\"],[0.7777777777777778,\"#fb9f3a\"],[0.8888888888888888,\"#fdca26\"],[1.0,\"#f0f921\"]],\"diverging\":[[0,\"#8e0152\"],[0.1,\"#c51b7d\"],[0.2,\"#de77ae\"],[0.3,\"#f1b6da\"],[0.4,\"#fde0ef\"],[0.5,\"#f7f7f7\"],[0.6,\"#e6f5d0\"],[0.7,\"#b8e186\"],[0.8,\"#7fbc41\"],[0.9,\"#4d9221\"],[1,\"#276419\"]]},\"xaxis\":{\"gridcolor\":\"white\",\"linecolor\":\"white\",\"ticks\":\"\",\"title\":{\"standoff\":15},\"zerolinecolor\":\"white\",\"automargin\":true,\"zerolinewidth\":2},\"yaxis\":{\"gridcolor\":\"white\",\"linecolor\":\"white\",\"ticks\":\"\",\"title\":{\"standoff\":15},\"zerolinecolor\":\"white\",\"automargin\":true,\"zerolinewidth\":2},\"scene\":{\"xaxis\":{\"backgroundcolor\":\"#E5ECF6\",\"gridcolor\":\"white\",\"linecolor\":\"white\",\"showbackground\":true,\"ticks\":\"\",\"zerolinecolor\":\"white\",\"gridwidth\":2},\"yaxis\":{\"backgroundcolor\":\"#E5ECF6\",\"gridcolor\":\"white\",\"linecolor\":\"white\",\"showbackground\":true,\"ticks\":\"\",\"zerolinecolor\":\"white\",\"gridwidth\":2},\"zaxis\":{\"backgroundcolor\":\"#E5ECF6\",\"gridcolor\":\"white\",\"linecolor\":\"white\",\"showbackground\":true,\"ticks\":\"\",\"zerolinecolor\":\"white\",\"gridwidth\":2}},\"shapedefaults\":{\"line\":{\"color\":\"#2a3f5f\"}},\"annotationdefaults\":{\"arrowcolor\":\"#2a3f5f\",\"arrowhead\":0,\"arrowwidth\":1},\"geo\":{\"bgcolor\":\"white\",\"landcolor\":\"#E5ECF6\",\"subunitcolor\":\"white\",\"showland\":true,\"showlakes\":true,\"lakecolor\":\"white\"},\"title\":{\"x\":0.05},\"mapbox\":{\"style\":\"light\"}}},\"legend\":{\"tracegroupgap\":0},\"title\":{\"text\":\"\\u003cb\\u003eBreakdown: Technical Complaints\\u003c\\u002fb\\u003e\"},\"treemapcolorway\":[\"rgb(0,68,27)\",\"rgb(0,109,44)\",\"rgb(35,139,69)\",\"rgb(65,171,93)\",\"rgb(116,196,118)\",\"rgb(161,217,155)\",\"rgb(199,233,192)\",\"rgb(229,245,224)\",\"rgb(247,252,245)\"]},                        {\"responsive\": true}                    ).then(function(){\n                            \nvar gd = document.getElementById('f80ed341-4f8c-4301-9d5e-9aafcf28d60d');\nvar x = new MutationObserver(function (mutations, observer) {{\n        var display = window.getComputedStyle(gd).display;\n        if (!display || display === 'none') {{\n            console.log([gd, 'removed!']);\n            Plotly.purge(gd);\n            observer.disconnect();\n        }}\n}});\n\n// Listen for the removal of the full notebook cells\nvar notebookContainer = gd.closest('#notebook-container');\nif (notebookContainer) {{\n    x.observe(notebookContainer, {childList: true});\n}}\n\n// Listen for the clearing of the current output cell\nvar outputEl = gd.closest('.output');\nif (outputEl) {{\n    x.observe(outputEl, {childList: true});\n}}\n\n                        })                };                            </script>        </div>\n</body>\n</html>"
     },
     "metadata": {},
     "output_type": "display_data"
    },
    {
     "name": "stdout",
     "output_type": "stream",
     "text": "\n--- Most Important Terms for 'Technical Performance' (TF-IDF) ---\n"
    },
    {
     "data": {
      "text/html": "<div>\n<style scoped>\n    .dataframe tbody tr th:only-of-type {\n        vertical-align: middle;\n    }\n\n    .dataframe tbody tr th {\n        vertical-align: top;\n    }\n\n    .dataframe thead th {\n        text-align: right;\n    }\n</style>\n<table border=\"1\" class=\"dataframe\">\n  <thead>\n    <tr style=\"text-align: right;\">\n      <th></th>\n      <th>Word</th>\n      <th>TF-IDF Score</th>\n    </tr>\n  </thead>\n  <tbody>\n    <tr>\n      <th>0</th>\n      <td>app</td>\n      <td>84.057880</td>\n    </tr>\n    <tr>\n      <th>1</th>\n      <td>update</td>\n      <td>52.604151</td>\n    </tr>\n    <tr>\n      <th>2</th>\n      <td>account</td>\n      <td>46.550428</td>\n    </tr>\n    <tr>\n      <th>3</th>\n      <td>just</td>\n      <td>34.822743</td>\n    </tr>\n    <tr>\n      <th>4</th>\n      <td>work</td>\n      <td>26.850878</td>\n    </tr>\n    <tr>\n      <th>5</th>\n      <td>doesn</td>\n      <td>26.158153</td>\n    </tr>\n    <tr>\n      <th>6</th>\n      <td>download</td>\n      <td>25.626955</td>\n    </tr>\n    <tr>\n      <th>7</th>\n      <td>connection</td>\n      <td>25.153816</td>\n    </tr>\n    <tr>\n      <th>8</th>\n      <td>don</td>\n      <td>25.047193</td>\n    </tr>\n    <tr>\n      <th>9</th>\n      <td>new</td>\n      <td>24.873676</td>\n    </tr>\n    <tr>\n      <th>10</th>\n      <td>won</td>\n      <td>24.637382</td>\n    </tr>\n    <tr>\n      <th>11</th>\n      <td>ai</td>\n      <td>24.573360</td>\n    </tr>\n    <tr>\n      <th>12</th>\n      <td>time</td>\n      <td>24.544744</td>\n    </tr>\n    <tr>\n      <th>13</th>\n      <td>like</td>\n      <td>24.467831</td>\n    </tr>\n    <tr>\n      <th>14</th>\n      <td>good</td>\n      <td>23.248959</td>\n    </tr>\n  </tbody>\n</table>\n</div>",
      "text/plain": "          Word  TF-IDF Score\n0          app     84.057880\n1       update     52.604151\n2      account     46.550428\n3         just     34.822743\n4         work     26.850878\n5        doesn     26.158153\n6     download     25.626955\n7   connection     25.153816\n8          don     25.047193\n9          new     24.873676\n10         won     24.637382\n11          ai     24.573360\n12        time     24.544744\n13        like     24.467831\n14        good     23.248959"
     },
     "metadata": {},
     "output_type": "display_data"
    }
   ],
   "source": [
    "# --- 3A: Treemap Breakdown ---\n",
    "tech_df = df[df[\"theme\"] == \"Technical Performance\"]\n",
    "tech_breakdown = tech_df[\"topic_name\"].value_counts().reset_index()\n",
    "tech_breakdown.columns = [\"Specific Complaint\", \"Review Count\"]\n",
    "\n",
    "fig_tech_treemap = px.treemap(\n",
    "    tech_breakdown.head(10),\n",
    "    path=[px.Constant(\"Technical Complaints\"), \"Specific Complaint\"],\n",
    "    values=\"Review Count\",\n",
    "    title=\"<b>Breakdown: Technical Complaints</b>\",\n",
    "    color_discrete_sequence=px.colors.sequential.Greens_r,\n",
    ")\n",
    "fig_tech_treemap.show()\n",
    "\n",
    "# --- 3B: Hierarchical Sunburst View ---\n",
    "# (You can create a sunburst for this theme as well)\n",
    "\n",
    "# --- 3C: Key Term Analysis with TF-IDF ---\n",
    "print(\"\\n--- Most Important Terms for 'Technical Performance' (TF-IDF) ---\")\n",
    "tfidf_tech = get_top_tfidf_words_for_theme(\"Technical Performance\", n_words=15)\n",
    "display(tfidf_tech)"
   ]
  },
  {
   "cell_type": "code",
   "execution_count": 29,
   "metadata": {
    "execution": {
     "iopub.execute_input": "2025-07-22T08:37:23.039637Z",
     "iopub.status.busy": "2025-07-22T08:37:23.039090Z",
     "iopub.status.idle": "2025-07-22T08:37:23.129327Z",
     "shell.execute_reply": "2025-07-22T08:37:23.128655Z",
     "shell.execute_reply.started": "2025-07-22T08:37:23.039614Z"
    },
    "trusted": true
   },
   "outputs": [
    {
     "data": {
      "text/html": "<html>\n<head><meta charset=\"utf-8\" /></head>\n<body>\n    <div>            <script src=\"https://cdnjs.cloudflare.com/ajax/libs/mathjax/2.7.5/MathJax.js?config=TeX-AMS-MML_SVG\"></script><script type=\"text/javascript\">if (window.MathJax && window.MathJax.Hub && window.MathJax.Hub.Config) {window.MathJax.Hub.Config({SVG: {font: \"STIX-Web\"}});}</script>                <script type=\"text/javascript\">window.PlotlyConfig = {MathJaxConfig: 'local'};</script>\n        <script charset=\"utf-8\" src=\"https://cdn.plot.ly/plotly-2.35.2.min.js\"></script>                <div id=\"934714ad-9b6b-4458-88a3-63e67a516568\" class=\"plotly-graph-div\" style=\"height:600px; width:100%;\"></div>            <script type=\"text/javascript\">                                    window.PLOTLYENV=window.PLOTLYENV || {};                                    if (document.getElementById(\"934714ad-9b6b-4458-88a3-63e67a516568\")) {                    Plotly.newPlot(                        \"934714ad-9b6b-4458-88a3-63e67a516568\",                        [{\"hovertemplate\":\"Frequency (Number of Reviews)=%{marker.size}\\u003cbr\\u003eAverage Sentiment Score=%{marker.color}\\u003cbr\\u003eTheme=%{text}\\u003cextra\\u003e\\u003c\\u002fextra\\u003e\",\"legendgroup\":\"\",\"marker\":{\"color\":[-0.6731671192298198,-0.7540345019476906,-0.648158640226629,-0.8670021567217829],\"coloraxis\":\"coloraxis\",\"size\":[4051,1797,1765,1391],\"sizemode\":\"area\",\"sizeref\":10.1275,\"symbol\":\"circle\"},\"mode\":\"markers+text\",\"name\":\"\",\"orientation\":\"v\",\"showlegend\":false,\"text\":[\"Monetization & Value\",\"AI Performance & Quality\",\"Feature-Specific Issues\",\"Technical Performance\"],\"x\":[4051,1797,1765,1391],\"xaxis\":\"x\",\"y\":[-0.6731671192298198,-0.7540345019476906,-0.648158640226629,-0.8670021567217829],\"yaxis\":\"y\",\"type\":\"scatter\",\"textfont\":{\"size\":12},\"textposition\":\"top center\"}],                        {\"template\":{\"data\":{\"barpolar\":[{\"marker\":{\"line\":{\"color\":\"white\",\"width\":0.5},\"pattern\":{\"fillmode\":\"overlay\",\"size\":10,\"solidity\":0.2}},\"type\":\"barpolar\"}],\"bar\":[{\"error_x\":{\"color\":\"#2a3f5f\"},\"error_y\":{\"color\":\"#2a3f5f\"},\"marker\":{\"line\":{\"color\":\"white\",\"width\":0.5},\"pattern\":{\"fillmode\":\"overlay\",\"size\":10,\"solidity\":0.2}},\"type\":\"bar\"}],\"carpet\":[{\"aaxis\":{\"endlinecolor\":\"#2a3f5f\",\"gridcolor\":\"#C8D4E3\",\"linecolor\":\"#C8D4E3\",\"minorgridcolor\":\"#C8D4E3\",\"startlinecolor\":\"#2a3f5f\"},\"baxis\":{\"endlinecolor\":\"#2a3f5f\",\"gridcolor\":\"#C8D4E3\",\"linecolor\":\"#C8D4E3\",\"minorgridcolor\":\"#C8D4E3\",\"startlinecolor\":\"#2a3f5f\"},\"type\":\"carpet\"}],\"choropleth\":[{\"colorbar\":{\"outlinewidth\":0,\"ticks\":\"\"},\"type\":\"choropleth\"}],\"contourcarpet\":[{\"colorbar\":{\"outlinewidth\":0,\"ticks\":\"\"},\"type\":\"contourcarpet\"}],\"contour\":[{\"colorbar\":{\"outlinewidth\":0,\"ticks\":\"\"},\"colorscale\":[[0.0,\"#0d0887\"],[0.1111111111111111,\"#46039f\"],[0.2222222222222222,\"#7201a8\"],[0.3333333333333333,\"#9c179e\"],[0.4444444444444444,\"#bd3786\"],[0.5555555555555556,\"#d8576b\"],[0.6666666666666666,\"#ed7953\"],[0.7777777777777778,\"#fb9f3a\"],[0.8888888888888888,\"#fdca26\"],[1.0,\"#f0f921\"]],\"type\":\"contour\"}],\"heatmapgl\":[{\"colorbar\":{\"outlinewidth\":0,\"ticks\":\"\"},\"colorscale\":[[0.0,\"#0d0887\"],[0.1111111111111111,\"#46039f\"],[0.2222222222222222,\"#7201a8\"],[0.3333333333333333,\"#9c179e\"],[0.4444444444444444,\"#bd3786\"],[0.5555555555555556,\"#d8576b\"],[0.6666666666666666,\"#ed7953\"],[0.7777777777777778,\"#fb9f3a\"],[0.8888888888888888,\"#fdca26\"],[1.0,\"#f0f921\"]],\"type\":\"heatmapgl\"}],\"heatmap\":[{\"colorbar\":{\"outlinewidth\":0,\"ticks\":\"\"},\"colorscale\":[[0.0,\"#0d0887\"],[0.1111111111111111,\"#46039f\"],[0.2222222222222222,\"#7201a8\"],[0.3333333333333333,\"#9c179e\"],[0.4444444444444444,\"#bd3786\"],[0.5555555555555556,\"#d8576b\"],[0.6666666666666666,\"#ed7953\"],[0.7777777777777778,\"#fb9f3a\"],[0.8888888888888888,\"#fdca26\"],[1.0,\"#f0f921\"]],\"type\":\"heatmap\"}],\"histogram2dcontour\":[{\"colorbar\":{\"outlinewidth\":0,\"ticks\":\"\"},\"colorscale\":[[0.0,\"#0d0887\"],[0.1111111111111111,\"#46039f\"],[0.2222222222222222,\"#7201a8\"],[0.3333333333333333,\"#9c179e\"],[0.4444444444444444,\"#bd3786\"],[0.5555555555555556,\"#d8576b\"],[0.6666666666666666,\"#ed7953\"],[0.7777777777777778,\"#fb9f3a\"],[0.8888888888888888,\"#fdca26\"],[1.0,\"#f0f921\"]],\"type\":\"histogram2dcontour\"}],\"histogram2d\":[{\"colorbar\":{\"outlinewidth\":0,\"ticks\":\"\"},\"colorscale\":[[0.0,\"#0d0887\"],[0.1111111111111111,\"#46039f\"],[0.2222222222222222,\"#7201a8\"],[0.3333333333333333,\"#9c179e\"],[0.4444444444444444,\"#bd3786\"],[0.5555555555555556,\"#d8576b\"],[0.6666666666666666,\"#ed7953\"],[0.7777777777777778,\"#fb9f3a\"],[0.8888888888888888,\"#fdca26\"],[1.0,\"#f0f921\"]],\"type\":\"histogram2d\"}],\"histogram\":[{\"marker\":{\"pattern\":{\"fillmode\":\"overlay\",\"size\":10,\"solidity\":0.2}},\"type\":\"histogram\"}],\"mesh3d\":[{\"colorbar\":{\"outlinewidth\":0,\"ticks\":\"\"},\"type\":\"mesh3d\"}],\"parcoords\":[{\"line\":{\"colorbar\":{\"outlinewidth\":0,\"ticks\":\"\"}},\"type\":\"parcoords\"}],\"pie\":[{\"automargin\":true,\"type\":\"pie\"}],\"scatter3d\":[{\"line\":{\"colorbar\":{\"outlinewidth\":0,\"ticks\":\"\"}},\"marker\":{\"colorbar\":{\"outlinewidth\":0,\"ticks\":\"\"}},\"type\":\"scatter3d\"}],\"scattercarpet\":[{\"marker\":{\"colorbar\":{\"outlinewidth\":0,\"ticks\":\"\"}},\"type\":\"scattercarpet\"}],\"scattergeo\":[{\"marker\":{\"colorbar\":{\"outlinewidth\":0,\"ticks\":\"\"}},\"type\":\"scattergeo\"}],\"scattergl\":[{\"marker\":{\"colorbar\":{\"outlinewidth\":0,\"ticks\":\"\"}},\"type\":\"scattergl\"}],\"scattermapbox\":[{\"marker\":{\"colorbar\":{\"outlinewidth\":0,\"ticks\":\"\"}},\"type\":\"scattermapbox\"}],\"scatterpolargl\":[{\"marker\":{\"colorbar\":{\"outlinewidth\":0,\"ticks\":\"\"}},\"type\":\"scatterpolargl\"}],\"scatterpolar\":[{\"marker\":{\"colorbar\":{\"outlinewidth\":0,\"ticks\":\"\"}},\"type\":\"scatterpolar\"}],\"scatter\":[{\"fillpattern\":{\"fillmode\":\"overlay\",\"size\":10,\"solidity\":0.2},\"type\":\"scatter\"}],\"scatterternary\":[{\"marker\":{\"colorbar\":{\"outlinewidth\":0,\"ticks\":\"\"}},\"type\":\"scatterternary\"}],\"surface\":[{\"colorbar\":{\"outlinewidth\":0,\"ticks\":\"\"},\"colorscale\":[[0.0,\"#0d0887\"],[0.1111111111111111,\"#46039f\"],[0.2222222222222222,\"#7201a8\"],[0.3333333333333333,\"#9c179e\"],[0.4444444444444444,\"#bd3786\"],[0.5555555555555556,\"#d8576b\"],[0.6666666666666666,\"#ed7953\"],[0.7777777777777778,\"#fb9f3a\"],[0.8888888888888888,\"#fdca26\"],[1.0,\"#f0f921\"]],\"type\":\"surface\"}],\"table\":[{\"cells\":{\"fill\":{\"color\":\"#EBF0F8\"},\"line\":{\"color\":\"white\"}},\"header\":{\"fill\":{\"color\":\"#C8D4E3\"},\"line\":{\"color\":\"white\"}},\"type\":\"table\"}]},\"layout\":{\"annotationdefaults\":{\"arrowcolor\":\"#2a3f5f\",\"arrowhead\":0,\"arrowwidth\":1},\"autotypenumbers\":\"strict\",\"coloraxis\":{\"colorbar\":{\"outlinewidth\":0,\"ticks\":\"\"}},\"colorscale\":{\"diverging\":[[0,\"#8e0152\"],[0.1,\"#c51b7d\"],[0.2,\"#de77ae\"],[0.3,\"#f1b6da\"],[0.4,\"#fde0ef\"],[0.5,\"#f7f7f7\"],[0.6,\"#e6f5d0\"],[0.7,\"#b8e186\"],[0.8,\"#7fbc41\"],[0.9,\"#4d9221\"],[1,\"#276419\"]],\"sequential\":[[0.0,\"#0d0887\"],[0.1111111111111111,\"#46039f\"],[0.2222222222222222,\"#7201a8\"],[0.3333333333333333,\"#9c179e\"],[0.4444444444444444,\"#bd3786\"],[0.5555555555555556,\"#d8576b\"],[0.6666666666666666,\"#ed7953\"],[0.7777777777777778,\"#fb9f3a\"],[0.8888888888888888,\"#fdca26\"],[1.0,\"#f0f921\"]],\"sequentialminus\":[[0.0,\"#0d0887\"],[0.1111111111111111,\"#46039f\"],[0.2222222222222222,\"#7201a8\"],[0.3333333333333333,\"#9c179e\"],[0.4444444444444444,\"#bd3786\"],[0.5555555555555556,\"#d8576b\"],[0.6666666666666666,\"#ed7953\"],[0.7777777777777778,\"#fb9f3a\"],[0.8888888888888888,\"#fdca26\"],[1.0,\"#f0f921\"]]},\"colorway\":[\"#636efa\",\"#EF553B\",\"#00cc96\",\"#ab63fa\",\"#FFA15A\",\"#19d3f3\",\"#FF6692\",\"#B6E880\",\"#FF97FF\",\"#FECB52\"],\"font\":{\"color\":\"#2a3f5f\"},\"geo\":{\"bgcolor\":\"white\",\"lakecolor\":\"white\",\"landcolor\":\"white\",\"showlakes\":true,\"showland\":true,\"subunitcolor\":\"#C8D4E3\"},\"hoverlabel\":{\"align\":\"left\"},\"hovermode\":\"closest\",\"mapbox\":{\"style\":\"light\"},\"paper_bgcolor\":\"white\",\"plot_bgcolor\":\"white\",\"polar\":{\"angularaxis\":{\"gridcolor\":\"#EBF0F8\",\"linecolor\":\"#EBF0F8\",\"ticks\":\"\"},\"bgcolor\":\"white\",\"radialaxis\":{\"gridcolor\":\"#EBF0F8\",\"linecolor\":\"#EBF0F8\",\"ticks\":\"\"}},\"scene\":{\"xaxis\":{\"backgroundcolor\":\"white\",\"gridcolor\":\"#DFE8F3\",\"gridwidth\":2,\"linecolor\":\"#EBF0F8\",\"showbackground\":true,\"ticks\":\"\",\"zerolinecolor\":\"#EBF0F8\"},\"yaxis\":{\"backgroundcolor\":\"white\",\"gridcolor\":\"#DFE8F3\",\"gridwidth\":2,\"linecolor\":\"#EBF0F8\",\"showbackground\":true,\"ticks\":\"\",\"zerolinecolor\":\"#EBF0F8\"},\"zaxis\":{\"backgroundcolor\":\"white\",\"gridcolor\":\"#DFE8F3\",\"gridwidth\":2,\"linecolor\":\"#EBF0F8\",\"showbackground\":true,\"ticks\":\"\",\"zerolinecolor\":\"#EBF0F8\"}},\"shapedefaults\":{\"line\":{\"color\":\"#2a3f5f\"}},\"ternary\":{\"aaxis\":{\"gridcolor\":\"#DFE8F3\",\"linecolor\":\"#A2B1C6\",\"ticks\":\"\"},\"baxis\":{\"gridcolor\":\"#DFE8F3\",\"linecolor\":\"#A2B1C6\",\"ticks\":\"\"},\"bgcolor\":\"white\",\"caxis\":{\"gridcolor\":\"#DFE8F3\",\"linecolor\":\"#A2B1C6\",\"ticks\":\"\"}},\"title\":{\"x\":0.05},\"xaxis\":{\"automargin\":true,\"gridcolor\":\"#EBF0F8\",\"linecolor\":\"#EBF0F8\",\"ticks\":\"\",\"title\":{\"standoff\":15},\"zerolinecolor\":\"#EBF0F8\",\"zerolinewidth\":2},\"yaxis\":{\"automargin\":true,\"gridcolor\":\"#EBF0F8\",\"linecolor\":\"#EBF0F8\",\"ticks\":\"\",\"title\":{\"standoff\":15},\"zerolinecolor\":\"#EBF0F8\",\"zerolinewidth\":2}}},\"xaxis\":{\"anchor\":\"y\",\"domain\":[0.0,1.0],\"title\":{\"text\":\"Frequency (Number of Reviews)\"}},\"yaxis\":{\"anchor\":\"x\",\"domain\":[0.0,1.0],\"title\":{\"text\":\"Average Sentiment Score\"}},\"coloraxis\":{\"colorbar\":{\"title\":{\"text\":\"Average Sentiment Score\"}},\"colorscale\":[[0.0,\"rgb(103,0,13)\"],[0.125,\"rgb(165,15,21)\"],[0.25,\"rgb(203,24,29)\"],[0.375,\"rgb(239,59,44)\"],[0.5,\"rgb(251,106,74)\"],[0.625,\"rgb(252,146,114)\"],[0.75,\"rgb(252,187,161)\"],[0.875,\"rgb(254,224,210)\"],[1.0,\"rgb(255,245,240)\"]]},\"legend\":{\"tracegroupgap\":0,\"itemsizing\":\"constant\"},\"title\":{\"text\":\"\\u003cb\\u003eConversational Apps: Which Complaints Matter Most?\\u003c\\u002fb\\u003e\",\"x\":0.5},\"height\":600,\"shapes\":[{\"line\":{\"dash\":\"dash\"},\"type\":\"line\",\"x0\":2251.0,\"x1\":2251.0,\"xref\":\"x\",\"y0\":0,\"y1\":1,\"yref\":\"y domain\"},{\"line\":{\"dash\":\"dash\"},\"type\":\"line\",\"x0\":0,\"x1\":1,\"xref\":\"x domain\",\"y0\":-0.7355906045314806,\"y1\":-0.7355906045314806,\"yref\":\"y\"}],\"annotations\":[{\"showarrow\":false,\"text\":\"Avg. Frequency\",\"x\":2251.0,\"xanchor\":\"left\",\"xref\":\"x\",\"y\":1,\"yanchor\":\"top\",\"yref\":\"y domain\"},{\"showarrow\":false,\"text\":\"Avg. Sentiment\",\"x\":1,\"xanchor\":\"right\",\"xref\":\"x domain\",\"y\":-0.7355906045314806,\"yanchor\":\"bottom\",\"yref\":\"y\"},{\"font\":{\"color\":\"red\"},\"showarrow\":false,\"text\":\"\\u003cb\\u003eCritical Issues\\u003c\\u002fb\\u003e\\u003cbr\\u003e(Frequent & Painful)\",\"x\":3376.5,\"y\":-0.7429465105767954},{\"font\":{\"color\":\"orange\"},\"showarrow\":false,\"text\":\"\\u003cb\\u003eHidden Dangers\\u003c\\u002fb\\u003e\\u003cbr\\u003e(Rare but Painful)\",\"x\":1125.5,\"y\":-0.7429465105767954},{\"showarrow\":false,\"text\":\"\\u003cb\\u003eChronic Annoyances\\u003c\\u002fb\\u003e\\u003cbr\\u003e(Frequent but less Painful)\",\"x\":3376.5,\"y\":-0.7282346984861658},{\"showarrow\":false,\"text\":\"\\u003cb\\u003eMinor Issues\\u003c\\u002fb\\u003e\\u003cbr\\u003e(Rare & less Painful)\",\"x\":1125.5,\"y\":-0.7282346984861658}]},                        {\"responsive\": true}                    ).then(function(){\n                            \nvar gd = document.getElementById('934714ad-9b6b-4458-88a3-63e67a516568');\nvar x = new MutationObserver(function (mutations, observer) {{\n        var display = window.getComputedStyle(gd).display;\n        if (!display || display === 'none') {{\n            console.log([gd, 'removed!']);\n            Plotly.purge(gd);\n            observer.disconnect();\n        }}\n}});\n\n// Listen for the removal of the full notebook cells\nvar notebookContainer = gd.closest('#notebook-container');\nif (notebookContainer) {{\n    x.observe(notebookContainer, {childList: true});\n}}\n\n// Listen for the clearing of the current output cell\nvar outputEl = gd.closest('.output');\nif (outputEl) {{\n    x.observe(outputEl, {childList: true});\n}}\n\n                        })                };                            </script>        </div>\n</body>\n</html>"
     },
     "metadata": {},
     "output_type": "display_data"
    }
   ],
   "source": [
    "# --- Visualization 1: The Problem Priority Matrix ---\n",
    "\n",
    "# 1. Get Frequency\n",
    "theme_freq_conv = df[\"theme\"].value_counts().reset_index()\n",
    "theme_freq_conv.columns = [\"Theme\", \"Frequency (Number of Reviews)\"]\n",
    "\n",
    "# 2. Get Sentiment\n",
    "theme_sent_conv = df.groupby(\"theme\")[\"sentiment_score\"].mean().reset_index()\n",
    "theme_sent_conv.columns = [\"Theme\", \"Average Sentiment Score\"]\n",
    "\n",
    "# 3. Merge and Clean\n",
    "priority_df_conv = pd.merge(theme_freq_conv, theme_sent_conv, on=\"Theme\")\n",
    "priority_df_conv = priority_df_conv[\n",
    "    ~priority_df_conv[\"Theme\"].isin(\n",
    "        [\"Outliers / Generic\", \"Other/Misc.\", \"Uncategorized\"]\n",
    "    )\n",
    "]\n",
    "\n",
    "# 4. Create the Scatter Plot\n",
    "fig_scatter_conv = px.scatter(\n",
    "    priority_df_conv,\n",
    "    x=\"Frequency (Number of Reviews)\",\n",
    "    y=\"Average Sentiment Score\",\n",
    "    text=\"Theme\",\n",
    "    size=\"Frequency (Number of Reviews)\",\n",
    "    color=\"Average Sentiment Score\",\n",
    "    color_continuous_scale=\"Reds_r\",\n",
    "    title=\"<b>Conversational Apps: Which Complaints Matter Most?</b>\",\n",
    "    template=\"plotly_white\",\n",
    "    height=600,\n",
    ")\n",
    "\n",
    "# Add annotations to create quadrants and add insight\n",
    "fig_scatter_conv.update_traces(textposition=\"top center\", textfont=dict(size=12))\n",
    "avg_freq = priority_df_conv[\"Frequency (Number of Reviews)\"].mean()\n",
    "avg_sent = priority_df_conv[\"Average Sentiment Score\"].mean()\n",
    "fig_scatter_conv.add_vline(\n",
    "    x=avg_freq, line_dash=\"dash\", annotation_text=\"Avg. Frequency\"\n",
    ")\n",
    "fig_scatter_conv.add_hline(\n",
    "    y=avg_sent, line_dash=\"dash\", annotation_text=\"Avg. Sentiment\"\n",
    ")\n",
    "\n",
    "# Add Quadrant Labels\n",
    "fig_scatter_conv.add_annotation(\n",
    "    x=avg_freq * 1.5,\n",
    "    y=avg_sent * 1.01,\n",
    "    text=\"<b>Critical Issues</b><br>(Frequent & Painful)\",\n",
    "    showarrow=False,\n",
    "    font=dict(color=\"red\"),\n",
    ")\n",
    "fig_scatter_conv.add_annotation(\n",
    "    x=avg_freq * 0.5,\n",
    "    y=avg_sent * 1.01,\n",
    "    text=\"<b>Hidden Dangers</b><br>(Rare but Painful)\",\n",
    "    showarrow=False,\n",
    "    font=dict(color=\"orange\"),\n",
    ")\n",
    "fig_scatter_conv.add_annotation(\n",
    "    x=avg_freq * 1.5,\n",
    "    y=avg_sent * 0.99,\n",
    "    text=\"<b>Chronic Annoyances</b><br>(Frequent but less Painful)\",\n",
    "    showarrow=False,\n",
    ")\n",
    "fig_scatter_conv.add_annotation(\n",
    "    x=avg_freq * 0.5,\n",
    "    y=avg_sent * 0.99,\n",
    "    text=\"<b>Minor Issues</b><br>(Rare & less Painful)\",\n",
    "    showarrow=False,\n",
    ")\n",
    "\n",
    "fig_scatter_conv.update_layout(title_x=0.5)\n",
    "fig_scatter_conv.show()"
   ]
  },
  {
   "cell_type": "code",
   "execution_count": 30,
   "metadata": {
    "execution": {
     "iopub.execute_input": "2025-07-22T08:37:28.909273Z",
     "iopub.status.busy": "2025-07-22T08:37:28.908999Z",
     "iopub.status.idle": "2025-07-22T08:37:28.977460Z",
     "shell.execute_reply": "2025-07-22T08:37:28.976717Z",
     "shell.execute_reply.started": "2025-07-22T08:37:28.909255Z"
    },
    "trusted": true
   },
   "outputs": [
    {
     "data": {
      "text/html": "<html>\n<head><meta charset=\"utf-8\" /></head>\n<body>\n    <div>            <script src=\"https://cdnjs.cloudflare.com/ajax/libs/mathjax/2.7.5/MathJax.js?config=TeX-AMS-MML_SVG\"></script><script type=\"text/javascript\">if (window.MathJax && window.MathJax.Hub && window.MathJax.Hub.Config) {window.MathJax.Hub.Config({SVG: {font: \"STIX-Web\"}});}</script>                <script type=\"text/javascript\">window.PlotlyConfig = {MathJaxConfig: 'local'};</script>\n        <script charset=\"utf-8\" src=\"https://cdn.plot.ly/plotly-2.35.2.min.js\"></script>                <div id=\"2b701762-25fa-43e1-be95-22bce1f97d39\" class=\"plotly-graph-div\" style=\"height:525px; width:100%;\"></div>            <script type=\"text/javascript\">                                    window.PLOTLYENV=window.PLOTLYENV || {};                                    if (document.getElementById(\"2b701762-25fa-43e1-be95-22bce1f97d39\")) {                    Plotly.newPlot(                        \"2b701762-25fa-43e1-be95-22bce1f97d39\",                        [{\"branchvalues\":\"total\",\"customdata\":[[\"AI Performance & Quality\"],[\"AI Performance & Quality\"],[\"AI Performance & Quality\"],[\"Technical Performance\"],[\"Feature-Specific Issues\"],[\"Feature-Specific Issues\"],[\"Technical Performance\"],[\"Monetization & Value\"],[\"AI Performance & Quality\"],[\"Monetization & Value\"],[\"Monetization & Value\"],[\"Monetization & Value\"],[\"Feature-Specific Issues\"],[\"AI Performance & Quality\"],[\"Monetization & Value\"],[\"AI Performance & Quality\"],[\"Monetization & Value\"],[\"Monetization & Value\"],[\"Monetization & Value\"],[\"Monetization & Value\"],[\"Feature-Specific Issues\"],[\"Feature-Specific Issues\"],[\"Feature-Specific Issues\"],[\"Monetization & Value\"],[\"Monetization & Value\"],[\"Monetization & Value\"],[\"Monetization & Value\"],[\"Monetization & Value\"],[\"AI Performance & Quality\"],[\"Monetization & Value\"],[\"Feature-Specific Issues\"],[\"Feature-Specific Issues\"],[\"Monetization & Value\"],[\"Monetization & Value\"],[\"Monetization & Value\"],[\"Technical Performance\"],[\"Technical Performance\"],[\"Technical Performance\"],[\"Technical Performance\"],[\"Technical Performance\"],[\"Feature-Specific Issues\"],[\"AI Performance & Quality\"],[\"Feature-Specific Issues\"],[\"Monetization & Value\"],[\"Technical Performance\"]],\"domain\":{\"x\":[0.0,1.0],\"y\":[0.0,1.0]},\"hovertemplate\":\"labels=%{label}\\u003cbr\\u003ecount=%{value}\\u003cbr\\u003eparent=%{parent}\\u003cbr\\u003eid=%{id}\\u003cbr\\u003etheme=%{customdata[0]}\\u003cextra\\u003e\\u003c\\u002fextra\\u003e\",\"ids\":[\"AI Performance & Quality\\u002fAI Memory & Conversation Quality\",\"AI Performance & Quality\\u002fAI Persona (Gendering 'She\\u002fHer')\",\"AI Performance & Quality\\u002fAI Persona Gendering\",\"Technical Performance\\u002fAccount, Login & Password Issues\",\"Feature-Specific Issues\\u002fAge Verification (Under 18)\",\"Feature-Specific Issues\\u002fAvatar & 3D Model Customization\",\"Technical Performance\\u002fBugs Introduced by Updates\",\"Monetization & Value\\u002fIn-App Gamification & Payments\",\"AI Performance & Quality\\u002fGeneric Conversation\",\"Monetization & Value\\u002fFree Trial Issues\",\"Monetization & Value\\u002fData Mining & Money Scams\",\"Monetization & Value\\u002fFalse Advertising\",\"Feature-Specific Issues\\u002fCompany Removing Features\",\"AI Performance & Quality\\u002fChatbot Comparisons (ChatGPT)\",\"Monetization & Value\\u002fChat Monetization\",\"AI Performance & Quality\\u002fConversation Timing\",\"Monetization & Value\\u002fRefunds for Paid Subscriptions\",\"Monetization & Value\\u002fSubscription Models (Pay\\u002fMonthly\\u002fYearly)\",\"Monetization & Value\\u002fSubscription Language & Options\",\"Monetization & Value\\u002fSubscription Complaints\",\"Feature-Specific Issues\\u002fSexual Content & Advertising\",\"Feature-Specific Issues\\u002fSending Pictures & Photos\",\"Feature-Specific Issues\\u002fRomantic Relationship Features\",\"Monetization & Value\\u002fRequesting Money Back\",\"Monetization & Value\\u002fRefunds & Google Play Billing\",\"Monetization & Value\\u002fPaywalled Features\",\"Monetization & Value\\u002fPricing & Lack of Monthly Options\",\"Monetization & Value\\u002fPrice is Too Expensive\",\"AI Performance & Quality\\u002fPoor Conversation Quality\",\"Monetization & Value\\u002fPaying for Pictures\\u002fPhotos\",\"Feature-Specific Issues\\u002fMental Health & Therapy Framing\",\"Feature-Specific Issues\\u002fLanguage & Translation Issues\",\"Monetization & Value\\u002fInability to Use Core Features (Paywall)\",\"Monetization & Value\\u002fPro Version vs. Free Version\",\"Monetization & Value\\u002fUpdate\\u002fSubscription Combo\",\"Technical Performance\\u002fTechnical: App Crashing \\u002f Not Opening\",\"Technical Performance\\u002fTechnical: Customization Screen Bugs\",\"Technical Performance\\u002fTechnical: Internet Connection Issues\",\"Technical Performance\\u002fTechnical: Loading & Installation\",\"Technical Performance\\u002fUpdate Issues\",\"Feature-Specific Issues\\u002fVoice Call & Audio Features\",\"AI Performance & Quality\",\"Feature-Specific Issues\",\"Monetization & Value\",\"Technical Performance\"],\"labels\":[\"AI Memory & Conversation Quality\",\"AI Persona (Gendering 'She\\u002fHer')\",\"AI Persona Gendering\",\"Account, Login & Password Issues\",\"Age Verification (Under 18)\",\"Avatar & 3D Model Customization\",\"Bugs Introduced by Updates\",\"In-App Gamification & Payments\",\"Generic Conversation\",\"Free Trial Issues\",\"Data Mining & Money Scams\",\"False Advertising\",\"Company Removing Features\",\"Chatbot Comparisons (ChatGPT)\",\"Chat Monetization\",\"Conversation Timing\",\"Refunds for Paid Subscriptions\",\"Subscription Models (Pay\\u002fMonthly\\u002fYearly)\",\"Subscription Language & Options\",\"Subscription Complaints\",\"Sexual Content & Advertising\",\"Sending Pictures & Photos\",\"Romantic Relationship Features\",\"Requesting Money Back\",\"Refunds & Google Play Billing\",\"Paywalled Features\",\"Pricing & Lack of Monthly Options\",\"Price is Too Expensive\",\"Poor Conversation Quality\",\"Paying for Pictures\\u002fPhotos\",\"Mental Health & Therapy Framing\",\"Language & Translation Issues\",\"Inability to Use Core Features (Paywall)\",\"Pro Version vs. Free Version\",\"Update\\u002fSubscription Combo\",\"Technical: App Crashing \\u002f Not Opening\",\"Technical: Customization Screen Bugs\",\"Technical: Internet Connection Issues\",\"Technical: Loading & Installation\",\"Update Issues\",\"Voice Call & Audio Features\",\"AI Performance & Quality\",\"Feature-Specific Issues\",\"Monetization & Value\",\"Technical Performance\"],\"marker\":{\"colors\":[\"#ADD8E6\",\"#ADD8E6\",\"#ADD8E6\",\"#90EE90\",\"#FFD700\",\"#FFD700\",\"#90EE90\",\"#FFB6C1\",\"#ADD8E6\",\"#FFB6C1\",\"#FFB6C1\",\"#FFB6C1\",\"#FFD700\",\"#ADD8E6\",\"#FFB6C1\",\"#ADD8E6\",\"#FFB6C1\",\"#FFB6C1\",\"#FFB6C1\",\"#FFB6C1\",\"#FFD700\",\"#FFD700\",\"#FFD700\",\"#FFB6C1\",\"#FFB6C1\",\"#FFB6C1\",\"#FFB6C1\",\"#FFB6C1\",\"#ADD8E6\",\"#FFB6C1\",\"#FFD700\",\"#FFD700\",\"#FFB6C1\",\"#FFB6C1\",\"#FFB6C1\",\"#90EE90\",\"#90EE90\",\"#90EE90\",\"#90EE90\",\"#90EE90\",\"#FFD700\",\"#ADD8E6\",\"#FFD700\",\"#FFB6C1\",\"#90EE90\"]},\"name\":\"\",\"parents\":[\"AI Performance & Quality\",\"AI Performance & Quality\",\"AI Performance & Quality\",\"Technical Performance\",\"Feature-Specific Issues\",\"Feature-Specific Issues\",\"Technical Performance\",\"Monetization & Value\",\"AI Performance & Quality\",\"Monetization & Value\",\"Monetization & Value\",\"Monetization & Value\",\"Feature-Specific Issues\",\"AI Performance & Quality\",\"Monetization & Value\",\"AI Performance & Quality\",\"Monetization & Value\",\"Monetization & Value\",\"Monetization & Value\",\"Monetization & Value\",\"Feature-Specific Issues\",\"Feature-Specific Issues\",\"Feature-Specific Issues\",\"Monetization & Value\",\"Monetization & Value\",\"Monetization & Value\",\"Monetization & Value\",\"Monetization & Value\",\"AI Performance & Quality\",\"Monetization & Value\",\"Feature-Specific Issues\",\"Feature-Specific Issues\",\"Monetization & Value\",\"Monetization & Value\",\"Monetization & Value\",\"Technical Performance\",\"Technical Performance\",\"Technical Performance\",\"Technical Performance\",\"Technical Performance\",\"Feature-Specific Issues\",\"\",\"\",\"\",\"\"],\"values\":[428,419,87,347,68,529,247,407,81,94,46,103,91,375,131,89,179,931,623,262,134,86,134,88,292,129,263,143,318,46,534,53,139,117,58,393,94,120,120,70,136,1797,1765,4051,1391],\"type\":\"sunburst\"}],                        {\"template\":{\"data\":{\"histogram2dcontour\":[{\"type\":\"histogram2dcontour\",\"colorbar\":{\"outlinewidth\":0,\"ticks\":\"\"},\"colorscale\":[[0.0,\"#0d0887\"],[0.1111111111111111,\"#46039f\"],[0.2222222222222222,\"#7201a8\"],[0.3333333333333333,\"#9c179e\"],[0.4444444444444444,\"#bd3786\"],[0.5555555555555556,\"#d8576b\"],[0.6666666666666666,\"#ed7953\"],[0.7777777777777778,\"#fb9f3a\"],[0.8888888888888888,\"#fdca26\"],[1.0,\"#f0f921\"]]}],\"choropleth\":[{\"type\":\"choropleth\",\"colorbar\":{\"outlinewidth\":0,\"ticks\":\"\"}}],\"histogram2d\":[{\"type\":\"histogram2d\",\"colorbar\":{\"outlinewidth\":0,\"ticks\":\"\"},\"colorscale\":[[0.0,\"#0d0887\"],[0.1111111111111111,\"#46039f\"],[0.2222222222222222,\"#7201a8\"],[0.3333333333333333,\"#9c179e\"],[0.4444444444444444,\"#bd3786\"],[0.5555555555555556,\"#d8576b\"],[0.6666666666666666,\"#ed7953\"],[0.7777777777777778,\"#fb9f3a\"],[0.8888888888888888,\"#fdca26\"],[1.0,\"#f0f921\"]]}],\"heatmap\":[{\"type\":\"heatmap\",\"colorbar\":{\"outlinewidth\":0,\"ticks\":\"\"},\"colorscale\":[[0.0,\"#0d0887\"],[0.1111111111111111,\"#46039f\"],[0.2222222222222222,\"#7201a8\"],[0.3333333333333333,\"#9c179e\"],[0.4444444444444444,\"#bd3786\"],[0.5555555555555556,\"#d8576b\"],[0.6666666666666666,\"#ed7953\"],[0.7777777777777778,\"#fb9f3a\"],[0.8888888888888888,\"#fdca26\"],[1.0,\"#f0f921\"]]}],\"heatmapgl\":[{\"type\":\"heatmapgl\",\"colorbar\":{\"outlinewidth\":0,\"ticks\":\"\"},\"colorscale\":[[0.0,\"#0d0887\"],[0.1111111111111111,\"#46039f\"],[0.2222222222222222,\"#7201a8\"],[0.3333333333333333,\"#9c179e\"],[0.4444444444444444,\"#bd3786\"],[0.5555555555555556,\"#d8576b\"],[0.6666666666666666,\"#ed7953\"],[0.7777777777777778,\"#fb9f3a\"],[0.8888888888888888,\"#fdca26\"],[1.0,\"#f0f921\"]]}],\"contourcarpet\":[{\"type\":\"contourcarpet\",\"colorbar\":{\"outlinewidth\":0,\"ticks\":\"\"}}],\"contour\":[{\"type\":\"contour\",\"colorbar\":{\"outlinewidth\":0,\"ticks\":\"\"},\"colorscale\":[[0.0,\"#0d0887\"],[0.1111111111111111,\"#46039f\"],[0.2222222222222222,\"#7201a8\"],[0.3333333333333333,\"#9c179e\"],[0.4444444444444444,\"#bd3786\"],[0.5555555555555556,\"#d8576b\"],[0.6666666666666666,\"#ed7953\"],[0.7777777777777778,\"#fb9f3a\"],[0.8888888888888888,\"#fdca26\"],[1.0,\"#f0f921\"]]}],\"surface\":[{\"type\":\"surface\",\"colorbar\":{\"outlinewidth\":0,\"ticks\":\"\"},\"colorscale\":[[0.0,\"#0d0887\"],[0.1111111111111111,\"#46039f\"],[0.2222222222222222,\"#7201a8\"],[0.3333333333333333,\"#9c179e\"],[0.4444444444444444,\"#bd3786\"],[0.5555555555555556,\"#d8576b\"],[0.6666666666666666,\"#ed7953\"],[0.7777777777777778,\"#fb9f3a\"],[0.8888888888888888,\"#fdca26\"],[1.0,\"#f0f921\"]]}],\"mesh3d\":[{\"type\":\"mesh3d\",\"colorbar\":{\"outlinewidth\":0,\"ticks\":\"\"}}],\"scatter\":[{\"fillpattern\":{\"fillmode\":\"overlay\",\"size\":10,\"solidity\":0.2},\"type\":\"scatter\"}],\"parcoords\":[{\"type\":\"parcoords\",\"line\":{\"colorbar\":{\"outlinewidth\":0,\"ticks\":\"\"}}}],\"scatterpolargl\":[{\"type\":\"scatterpolargl\",\"marker\":{\"colorbar\":{\"outlinewidth\":0,\"ticks\":\"\"}}}],\"bar\":[{\"error_x\":{\"color\":\"#2a3f5f\"},\"error_y\":{\"color\":\"#2a3f5f\"},\"marker\":{\"line\":{\"color\":\"#E5ECF6\",\"width\":0.5},\"pattern\":{\"fillmode\":\"overlay\",\"size\":10,\"solidity\":0.2}},\"type\":\"bar\"}],\"scattergeo\":[{\"type\":\"scattergeo\",\"marker\":{\"colorbar\":{\"outlinewidth\":0,\"ticks\":\"\"}}}],\"scatterpolar\":[{\"type\":\"scatterpolar\",\"marker\":{\"colorbar\":{\"outlinewidth\":0,\"ticks\":\"\"}}}],\"histogram\":[{\"marker\":{\"pattern\":{\"fillmode\":\"overlay\",\"size\":10,\"solidity\":0.2}},\"type\":\"histogram\"}],\"scattergl\":[{\"type\":\"scattergl\",\"marker\":{\"colorbar\":{\"outlinewidth\":0,\"ticks\":\"\"}}}],\"scatter3d\":[{\"type\":\"scatter3d\",\"line\":{\"colorbar\":{\"outlinewidth\":0,\"ticks\":\"\"}},\"marker\":{\"colorbar\":{\"outlinewidth\":0,\"ticks\":\"\"}}}],\"scattermapbox\":[{\"type\":\"scattermapbox\",\"marker\":{\"colorbar\":{\"outlinewidth\":0,\"ticks\":\"\"}}}],\"scatterternary\":[{\"type\":\"scatterternary\",\"marker\":{\"colorbar\":{\"outlinewidth\":0,\"ticks\":\"\"}}}],\"scattercarpet\":[{\"type\":\"scattercarpet\",\"marker\":{\"colorbar\":{\"outlinewidth\":0,\"ticks\":\"\"}}}],\"carpet\":[{\"aaxis\":{\"endlinecolor\":\"#2a3f5f\",\"gridcolor\":\"white\",\"linecolor\":\"white\",\"minorgridcolor\":\"white\",\"startlinecolor\":\"#2a3f5f\"},\"baxis\":{\"endlinecolor\":\"#2a3f5f\",\"gridcolor\":\"white\",\"linecolor\":\"white\",\"minorgridcolor\":\"white\",\"startlinecolor\":\"#2a3f5f\"},\"type\":\"carpet\"}],\"table\":[{\"cells\":{\"fill\":{\"color\":\"#EBF0F8\"},\"line\":{\"color\":\"white\"}},\"header\":{\"fill\":{\"color\":\"#C8D4E3\"},\"line\":{\"color\":\"white\"}},\"type\":\"table\"}],\"barpolar\":[{\"marker\":{\"line\":{\"color\":\"#E5ECF6\",\"width\":0.5},\"pattern\":{\"fillmode\":\"overlay\",\"size\":10,\"solidity\":0.2}},\"type\":\"barpolar\"}],\"pie\":[{\"automargin\":true,\"type\":\"pie\"}]},\"layout\":{\"autotypenumbers\":\"strict\",\"colorway\":[\"#636efa\",\"#EF553B\",\"#00cc96\",\"#ab63fa\",\"#FFA15A\",\"#19d3f3\",\"#FF6692\",\"#B6E880\",\"#FF97FF\",\"#FECB52\"],\"font\":{\"color\":\"#2a3f5f\"},\"hovermode\":\"closest\",\"hoverlabel\":{\"align\":\"left\"},\"paper_bgcolor\":\"white\",\"plot_bgcolor\":\"#E5ECF6\",\"polar\":{\"bgcolor\":\"#E5ECF6\",\"angularaxis\":{\"gridcolor\":\"white\",\"linecolor\":\"white\",\"ticks\":\"\"},\"radialaxis\":{\"gridcolor\":\"white\",\"linecolor\":\"white\",\"ticks\":\"\"}},\"ternary\":{\"bgcolor\":\"#E5ECF6\",\"aaxis\":{\"gridcolor\":\"white\",\"linecolor\":\"white\",\"ticks\":\"\"},\"baxis\":{\"gridcolor\":\"white\",\"linecolor\":\"white\",\"ticks\":\"\"},\"caxis\":{\"gridcolor\":\"white\",\"linecolor\":\"white\",\"ticks\":\"\"}},\"coloraxis\":{\"colorbar\":{\"outlinewidth\":0,\"ticks\":\"\"}},\"colorscale\":{\"sequential\":[[0.0,\"#0d0887\"],[0.1111111111111111,\"#46039f\"],[0.2222222222222222,\"#7201a8\"],[0.3333333333333333,\"#9c179e\"],[0.4444444444444444,\"#bd3786\"],[0.5555555555555556,\"#d8576b\"],[0.6666666666666666,\"#ed7953\"],[0.7777777777777778,\"#fb9f3a\"],[0.8888888888888888,\"#fdca26\"],[1.0,\"#f0f921\"]],\"sequentialminus\":[[0.0,\"#0d0887\"],[0.1111111111111111,\"#46039f\"],[0.2222222222222222,\"#7201a8\"],[0.3333333333333333,\"#9c179e\"],[0.4444444444444444,\"#bd3786\"],[0.5555555555555556,\"#d8576b\"],[0.6666666666666666,\"#ed7953\"],[0.7777777777777778,\"#fb9f3a\"],[0.8888888888888888,\"#fdca26\"],[1.0,\"#f0f921\"]],\"diverging\":[[0,\"#8e0152\"],[0.1,\"#c51b7d\"],[0.2,\"#de77ae\"],[0.3,\"#f1b6da\"],[0.4,\"#fde0ef\"],[0.5,\"#f7f7f7\"],[0.6,\"#e6f5d0\"],[0.7,\"#b8e186\"],[0.8,\"#7fbc41\"],[0.9,\"#4d9221\"],[1,\"#276419\"]]},\"xaxis\":{\"gridcolor\":\"white\",\"linecolor\":\"white\",\"ticks\":\"\",\"title\":{\"standoff\":15},\"zerolinecolor\":\"white\",\"automargin\":true,\"zerolinewidth\":2},\"yaxis\":{\"gridcolor\":\"white\",\"linecolor\":\"white\",\"ticks\":\"\",\"title\":{\"standoff\":15},\"zerolinecolor\":\"white\",\"automargin\":true,\"zerolinewidth\":2},\"scene\":{\"xaxis\":{\"backgroundcolor\":\"#E5ECF6\",\"gridcolor\":\"white\",\"linecolor\":\"white\",\"showbackground\":true,\"ticks\":\"\",\"zerolinecolor\":\"white\",\"gridwidth\":2},\"yaxis\":{\"backgroundcolor\":\"#E5ECF6\",\"gridcolor\":\"white\",\"linecolor\":\"white\",\"showbackground\":true,\"ticks\":\"\",\"zerolinecolor\":\"white\",\"gridwidth\":2},\"zaxis\":{\"backgroundcolor\":\"#E5ECF6\",\"gridcolor\":\"white\",\"linecolor\":\"white\",\"showbackground\":true,\"ticks\":\"\",\"zerolinecolor\":\"white\",\"gridwidth\":2}},\"shapedefaults\":{\"line\":{\"color\":\"#2a3f5f\"}},\"annotationdefaults\":{\"arrowcolor\":\"#2a3f5f\",\"arrowhead\":0,\"arrowwidth\":1},\"geo\":{\"bgcolor\":\"white\",\"landcolor\":\"#E5ECF6\",\"subunitcolor\":\"white\",\"showland\":true,\"showlakes\":true,\"lakecolor\":\"white\"},\"title\":{\"x\":0.05},\"mapbox\":{\"style\":\"light\"}}},\"legend\":{\"tracegroupgap\":0},\"title\":{\"text\":\"\\u003cb\\u003eConversational Apps: The Anatomy of a Negative Review\\u003c\\u002fb\\u003e\",\"x\":0.5},\"margin\":{\"t\":50,\"l\":25,\"r\":25,\"b\":25},\"font\":{\"size\":14}},                        {\"responsive\": true}                    ).then(function(){\n                            \nvar gd = document.getElementById('2b701762-25fa-43e1-be95-22bce1f97d39');\nvar x = new MutationObserver(function (mutations, observer) {{\n        var display = window.getComputedStyle(gd).display;\n        if (!display || display === 'none') {{\n            console.log([gd, 'removed!']);\n            Plotly.purge(gd);\n            observer.disconnect();\n        }}\n}});\n\n// Listen for the removal of the full notebook cells\nvar notebookContainer = gd.closest('#notebook-container');\nif (notebookContainer) {{\n    x.observe(notebookContainer, {childList: true});\n}}\n\n// Listen for the clearing of the current output cell\nvar outputEl = gd.closest('.output');\nif (outputEl) {{\n    x.observe(outputEl, {childList: true});\n}}\n\n                        })                };                            </script>        </div>\n</body>\n</html>"
     },
     "metadata": {},
     "output_type": "display_data"
    }
   ],
   "source": [
    "# --- Visualization 2: The Anatomy of a Complaint ---\n",
    "\n",
    "# Prepare the data for the sunburst chart\n",
    "sunburst_data_conv = df[\n",
    "    ~df[\"theme\"].isin([\"Outliers / Generic\", \"Other/Misc.\", \"Uncategorized\"])\n",
    "]\n",
    "sunburst_data_conv = (\n",
    "    sunburst_data_conv.groupby([\"theme\", \"topic_name\"]).size().reset_index(name=\"count\")\n",
    ")\n",
    "\n",
    "# Create the Sunburst chart\n",
    "fig_sunburst_conv = px.sunburst(\n",
    "    sunburst_data_conv,\n",
    "    path=[\"theme\", \"topic_name\"],\n",
    "    values=\"count\",\n",
    "    title=\"<b>Conversational Apps: The Anatomy of a Negative Review</b>\",\n",
    "    color=\"theme\",\n",
    "    color_discrete_map={  # Assign consistent colors\n",
    "        \"Monetization & Value\": \"#FFB6C1\",  # Light Pink\n",
    "        \"AI Performance & Quality\": \"#ADD8E6\",  # Light Blue\n",
    "        \"Technical Performance\": \"#90EE90\",  # Light Green\n",
    "        \"Feature-Specific Issues\": \"#FFD700\",  # Gold\n",
    "    },\n",
    ")\n",
    "\n",
    "fig_sunburst_conv.update_layout(\n",
    "    margin=dict(t=50, l=25, r=25, b=25), font=dict(size=14), title_x=0.5\n",
    ")\n",
    "fig_sunburst_conv.show()"
   ]
  },
  {
   "cell_type": "code",
   "execution_count": 31,
   "metadata": {
    "execution": {
     "iopub.execute_input": "2025-07-22T08:37:31.607714Z",
     "iopub.status.busy": "2025-07-22T08:37:31.607371Z",
     "iopub.status.idle": "2025-07-22T08:37:31.613724Z",
     "shell.execute_reply": "2025-07-22T08:37:31.612944Z",
     "shell.execute_reply.started": "2025-07-22T08:37:31.607666Z"
    },
    "trusted": true
   },
   "outputs": [
    {
     "name": "stdout",
     "output_type": "stream",
     "text": "Setup complete. Ready to generate individual theme breakdowns.\n"
    }
   ],
   "source": [
    "# --- Helper Function for Creating Themed Sunburst Charts ---\n",
    "def create_themed_sunburst(theme_name, color_sequence):\n",
    "    \"\"\"\n",
    "    Filters the DataFrame for a specific theme and creates a\n",
    "    beautiful, hierarchical sunburst chart for it.\n",
    "    \"\"\"\n",
    "    # Filter the DataFrame for the specific theme\n",
    "    theme_df = df[df[\"theme\"] == theme_name]\n",
    "\n",
    "    if theme_df.empty:\n",
    "        print(f\"No data found for theme: {theme_name}. Skipping chart.\")\n",
    "        return\n",
    "\n",
    "    # Prepare the data for the sunburst\n",
    "    sunburst_data = (\n",
    "        theme_df.groupby([\"theme\", \"topic_name\"]).size().reset_index(name=\"count\")\n",
    "    )\n",
    "\n",
    "    # Create the Sunburst chart\n",
    "    fig = px.sunburst(\n",
    "        sunburst_data,\n",
    "        path=[\"theme\", \"topic_name\"],  # The hierarchy is Theme -> Specific Complaint\n",
    "        values=\"count\",\n",
    "        title=f'<b>Hierarchical Breakdown of \"{theme_name}\" Complaints</b>',\n",
    "        color=\"topic_name\",  # Color the outer ring for visual distinction\n",
    "        color_discrete_sequence=color_sequence,\n",
    "    )\n",
    "\n",
    "    fig.update_layout(\n",
    "        margin=dict(t=50, l=25, r=25, b=25), font=dict(size=14), title_x=0.5\n",
    "    )\n",
    "    fig.show()\n",
    "\n",
    "\n",
    "print(\"Setup complete. Ready to generate individual theme breakdowns.\")"
   ]
  },
  {
   "cell_type": "code",
   "execution_count": 32,
   "metadata": {
    "execution": {
     "iopub.execute_input": "2025-07-22T08:37:34.228532Z",
     "iopub.status.busy": "2025-07-22T08:37:34.227938Z",
     "iopub.status.idle": "2025-07-22T08:37:34.285930Z",
     "shell.execute_reply": "2025-07-22T08:37:34.285170Z",
     "shell.execute_reply.started": "2025-07-22T08:37:34.228511Z"
    },
    "trusted": true
   },
   "outputs": [
    {
     "data": {
      "text/html": "<html>\n<head><meta charset=\"utf-8\" /></head>\n<body>\n    <div>            <script src=\"https://cdnjs.cloudflare.com/ajax/libs/mathjax/2.7.5/MathJax.js?config=TeX-AMS-MML_SVG\"></script><script type=\"text/javascript\">if (window.MathJax && window.MathJax.Hub && window.MathJax.Hub.Config) {window.MathJax.Hub.Config({SVG: {font: \"STIX-Web\"}});}</script>                <script type=\"text/javascript\">window.PlotlyConfig = {MathJaxConfig: 'local'};</script>\n        <script charset=\"utf-8\" src=\"https://cdn.plot.ly/plotly-2.35.2.min.js\"></script>                <div id=\"6cefc06d-6e09-4efe-a209-d1902a43fc87\" class=\"plotly-graph-div\" style=\"height:525px; width:100%;\"></div>            <script type=\"text/javascript\">                                    window.PLOTLYENV=window.PLOTLYENV || {};                                    if (document.getElementById(\"6cefc06d-6e09-4efe-a209-d1902a43fc87\")) {                    Plotly.newPlot(                        \"6cefc06d-6e09-4efe-a209-d1902a43fc87\",                        [{\"branchvalues\":\"total\",\"customdata\":[[\"AI Memory & Conversation Quality\"],[\"AI Persona (Gendering 'She\\u002fHer')\"],[\"AI Persona Gendering\"],[\"Chatbot Comparisons (ChatGPT)\"],[\"Conversation Timing\"],[\"Generic Conversation\"],[\"Poor Conversation Quality\"],[\"(?)\"]],\"domain\":{\"x\":[0.0,1.0],\"y\":[0.0,1.0]},\"hovertemplate\":\"labels=%{label}\\u003cbr\\u003ecount=%{value}\\u003cbr\\u003eparent=%{parent}\\u003cbr\\u003eid=%{id}\\u003cbr\\u003etopic_name=%{customdata[0]}\\u003cextra\\u003e\\u003c\\u002fextra\\u003e\",\"ids\":[\"AI Performance & Quality\\u002fAI Memory & Conversation Quality\",\"AI Performance & Quality\\u002fAI Persona (Gendering 'She\\u002fHer')\",\"AI Performance & Quality\\u002fAI Persona Gendering\",\"AI Performance & Quality\\u002fChatbot Comparisons (ChatGPT)\",\"AI Performance & Quality\\u002fConversation Timing\",\"AI Performance & Quality\\u002fGeneric Conversation\",\"AI Performance & Quality\\u002fPoor Conversation Quality\",\"AI Performance & Quality\"],\"labels\":[\"AI Memory & Conversation Quality\",\"AI Persona (Gendering 'She\\u002fHer')\",\"AI Persona Gendering\",\"Chatbot Comparisons (ChatGPT)\",\"Conversation Timing\",\"Generic Conversation\",\"Poor Conversation Quality\",\"AI Performance & Quality\"],\"marker\":{\"colors\":[\"rgb(8,48,107)\",\"rgb(8,81,156)\",\"rgb(33,113,181)\",\"rgb(66,146,198)\",\"rgb(107,174,214)\",\"rgb(158,202,225)\",\"rgb(198,219,239)\",\"rgb(222,235,247)\"]},\"name\":\"\",\"parents\":[\"AI Performance & Quality\",\"AI Performance & Quality\",\"AI Performance & Quality\",\"AI Performance & Quality\",\"AI Performance & Quality\",\"AI Performance & Quality\",\"AI Performance & Quality\",\"\"],\"values\":[428,419,87,375,89,81,318,1797],\"type\":\"sunburst\"}],                        {\"template\":{\"data\":{\"histogram2dcontour\":[{\"type\":\"histogram2dcontour\",\"colorbar\":{\"outlinewidth\":0,\"ticks\":\"\"},\"colorscale\":[[0.0,\"#0d0887\"],[0.1111111111111111,\"#46039f\"],[0.2222222222222222,\"#7201a8\"],[0.3333333333333333,\"#9c179e\"],[0.4444444444444444,\"#bd3786\"],[0.5555555555555556,\"#d8576b\"],[0.6666666666666666,\"#ed7953\"],[0.7777777777777778,\"#fb9f3a\"],[0.8888888888888888,\"#fdca26\"],[1.0,\"#f0f921\"]]}],\"choropleth\":[{\"type\":\"choropleth\",\"colorbar\":{\"outlinewidth\":0,\"ticks\":\"\"}}],\"histogram2d\":[{\"type\":\"histogram2d\",\"colorbar\":{\"outlinewidth\":0,\"ticks\":\"\"},\"colorscale\":[[0.0,\"#0d0887\"],[0.1111111111111111,\"#46039f\"],[0.2222222222222222,\"#7201a8\"],[0.3333333333333333,\"#9c179e\"],[0.4444444444444444,\"#bd3786\"],[0.5555555555555556,\"#d8576b\"],[0.6666666666666666,\"#ed7953\"],[0.7777777777777778,\"#fb9f3a\"],[0.8888888888888888,\"#fdca26\"],[1.0,\"#f0f921\"]]}],\"heatmap\":[{\"type\":\"heatmap\",\"colorbar\":{\"outlinewidth\":0,\"ticks\":\"\"},\"colorscale\":[[0.0,\"#0d0887\"],[0.1111111111111111,\"#46039f\"],[0.2222222222222222,\"#7201a8\"],[0.3333333333333333,\"#9c179e\"],[0.4444444444444444,\"#bd3786\"],[0.5555555555555556,\"#d8576b\"],[0.6666666666666666,\"#ed7953\"],[0.7777777777777778,\"#fb9f3a\"],[0.8888888888888888,\"#fdca26\"],[1.0,\"#f0f921\"]]}],\"heatmapgl\":[{\"type\":\"heatmapgl\",\"colorbar\":{\"outlinewidth\":0,\"ticks\":\"\"},\"colorscale\":[[0.0,\"#0d0887\"],[0.1111111111111111,\"#46039f\"],[0.2222222222222222,\"#7201a8\"],[0.3333333333333333,\"#9c179e\"],[0.4444444444444444,\"#bd3786\"],[0.5555555555555556,\"#d8576b\"],[0.6666666666666666,\"#ed7953\"],[0.7777777777777778,\"#fb9f3a\"],[0.8888888888888888,\"#fdca26\"],[1.0,\"#f0f921\"]]}],\"contourcarpet\":[{\"type\":\"contourcarpet\",\"colorbar\":{\"outlinewidth\":0,\"ticks\":\"\"}}],\"contour\":[{\"type\":\"contour\",\"colorbar\":{\"outlinewidth\":0,\"ticks\":\"\"},\"colorscale\":[[0.0,\"#0d0887\"],[0.1111111111111111,\"#46039f\"],[0.2222222222222222,\"#7201a8\"],[0.3333333333333333,\"#9c179e\"],[0.4444444444444444,\"#bd3786\"],[0.5555555555555556,\"#d8576b\"],[0.6666666666666666,\"#ed7953\"],[0.7777777777777778,\"#fb9f3a\"],[0.8888888888888888,\"#fdca26\"],[1.0,\"#f0f921\"]]}],\"surface\":[{\"type\":\"surface\",\"colorbar\":{\"outlinewidth\":0,\"ticks\":\"\"},\"colorscale\":[[0.0,\"#0d0887\"],[0.1111111111111111,\"#46039f\"],[0.2222222222222222,\"#7201a8\"],[0.3333333333333333,\"#9c179e\"],[0.4444444444444444,\"#bd3786\"],[0.5555555555555556,\"#d8576b\"],[0.6666666666666666,\"#ed7953\"],[0.7777777777777778,\"#fb9f3a\"],[0.8888888888888888,\"#fdca26\"],[1.0,\"#f0f921\"]]}],\"mesh3d\":[{\"type\":\"mesh3d\",\"colorbar\":{\"outlinewidth\":0,\"ticks\":\"\"}}],\"scatter\":[{\"fillpattern\":{\"fillmode\":\"overlay\",\"size\":10,\"solidity\":0.2},\"type\":\"scatter\"}],\"parcoords\":[{\"type\":\"parcoords\",\"line\":{\"colorbar\":{\"outlinewidth\":0,\"ticks\":\"\"}}}],\"scatterpolargl\":[{\"type\":\"scatterpolargl\",\"marker\":{\"colorbar\":{\"outlinewidth\":0,\"ticks\":\"\"}}}],\"bar\":[{\"error_x\":{\"color\":\"#2a3f5f\"},\"error_y\":{\"color\":\"#2a3f5f\"},\"marker\":{\"line\":{\"color\":\"#E5ECF6\",\"width\":0.5},\"pattern\":{\"fillmode\":\"overlay\",\"size\":10,\"solidity\":0.2}},\"type\":\"bar\"}],\"scattergeo\":[{\"type\":\"scattergeo\",\"marker\":{\"colorbar\":{\"outlinewidth\":0,\"ticks\":\"\"}}}],\"scatterpolar\":[{\"type\":\"scatterpolar\",\"marker\":{\"colorbar\":{\"outlinewidth\":0,\"ticks\":\"\"}}}],\"histogram\":[{\"marker\":{\"pattern\":{\"fillmode\":\"overlay\",\"size\":10,\"solidity\":0.2}},\"type\":\"histogram\"}],\"scattergl\":[{\"type\":\"scattergl\",\"marker\":{\"colorbar\":{\"outlinewidth\":0,\"ticks\":\"\"}}}],\"scatter3d\":[{\"type\":\"scatter3d\",\"line\":{\"colorbar\":{\"outlinewidth\":0,\"ticks\":\"\"}},\"marker\":{\"colorbar\":{\"outlinewidth\":0,\"ticks\":\"\"}}}],\"scattermapbox\":[{\"type\":\"scattermapbox\",\"marker\":{\"colorbar\":{\"outlinewidth\":0,\"ticks\":\"\"}}}],\"scatterternary\":[{\"type\":\"scatterternary\",\"marker\":{\"colorbar\":{\"outlinewidth\":0,\"ticks\":\"\"}}}],\"scattercarpet\":[{\"type\":\"scattercarpet\",\"marker\":{\"colorbar\":{\"outlinewidth\":0,\"ticks\":\"\"}}}],\"carpet\":[{\"aaxis\":{\"endlinecolor\":\"#2a3f5f\",\"gridcolor\":\"white\",\"linecolor\":\"white\",\"minorgridcolor\":\"white\",\"startlinecolor\":\"#2a3f5f\"},\"baxis\":{\"endlinecolor\":\"#2a3f5f\",\"gridcolor\":\"white\",\"linecolor\":\"white\",\"minorgridcolor\":\"white\",\"startlinecolor\":\"#2a3f5f\"},\"type\":\"carpet\"}],\"table\":[{\"cells\":{\"fill\":{\"color\":\"#EBF0F8\"},\"line\":{\"color\":\"white\"}},\"header\":{\"fill\":{\"color\":\"#C8D4E3\"},\"line\":{\"color\":\"white\"}},\"type\":\"table\"}],\"barpolar\":[{\"marker\":{\"line\":{\"color\":\"#E5ECF6\",\"width\":0.5},\"pattern\":{\"fillmode\":\"overlay\",\"size\":10,\"solidity\":0.2}},\"type\":\"barpolar\"}],\"pie\":[{\"automargin\":true,\"type\":\"pie\"}]},\"layout\":{\"autotypenumbers\":\"strict\",\"colorway\":[\"#636efa\",\"#EF553B\",\"#00cc96\",\"#ab63fa\",\"#FFA15A\",\"#19d3f3\",\"#FF6692\",\"#B6E880\",\"#FF97FF\",\"#FECB52\"],\"font\":{\"color\":\"#2a3f5f\"},\"hovermode\":\"closest\",\"hoverlabel\":{\"align\":\"left\"},\"paper_bgcolor\":\"white\",\"plot_bgcolor\":\"#E5ECF6\",\"polar\":{\"bgcolor\":\"#E5ECF6\",\"angularaxis\":{\"gridcolor\":\"white\",\"linecolor\":\"white\",\"ticks\":\"\"},\"radialaxis\":{\"gridcolor\":\"white\",\"linecolor\":\"white\",\"ticks\":\"\"}},\"ternary\":{\"bgcolor\":\"#E5ECF6\",\"aaxis\":{\"gridcolor\":\"white\",\"linecolor\":\"white\",\"ticks\":\"\"},\"baxis\":{\"gridcolor\":\"white\",\"linecolor\":\"white\",\"ticks\":\"\"},\"caxis\":{\"gridcolor\":\"white\",\"linecolor\":\"white\",\"ticks\":\"\"}},\"coloraxis\":{\"colorbar\":{\"outlinewidth\":0,\"ticks\":\"\"}},\"colorscale\":{\"sequential\":[[0.0,\"#0d0887\"],[0.1111111111111111,\"#46039f\"],[0.2222222222222222,\"#7201a8\"],[0.3333333333333333,\"#9c179e\"],[0.4444444444444444,\"#bd3786\"],[0.5555555555555556,\"#d8576b\"],[0.6666666666666666,\"#ed7953\"],[0.7777777777777778,\"#fb9f3a\"],[0.8888888888888888,\"#fdca26\"],[1.0,\"#f0f921\"]],\"sequentialminus\":[[0.0,\"#0d0887\"],[0.1111111111111111,\"#46039f\"],[0.2222222222222222,\"#7201a8\"],[0.3333333333333333,\"#9c179e\"],[0.4444444444444444,\"#bd3786\"],[0.5555555555555556,\"#d8576b\"],[0.6666666666666666,\"#ed7953\"],[0.7777777777777778,\"#fb9f3a\"],[0.8888888888888888,\"#fdca26\"],[1.0,\"#f0f921\"]],\"diverging\":[[0,\"#8e0152\"],[0.1,\"#c51b7d\"],[0.2,\"#de77ae\"],[0.3,\"#f1b6da\"],[0.4,\"#fde0ef\"],[0.5,\"#f7f7f7\"],[0.6,\"#e6f5d0\"],[0.7,\"#b8e186\"],[0.8,\"#7fbc41\"],[0.9,\"#4d9221\"],[1,\"#276419\"]]},\"xaxis\":{\"gridcolor\":\"white\",\"linecolor\":\"white\",\"ticks\":\"\",\"title\":{\"standoff\":15},\"zerolinecolor\":\"white\",\"automargin\":true,\"zerolinewidth\":2},\"yaxis\":{\"gridcolor\":\"white\",\"linecolor\":\"white\",\"ticks\":\"\",\"title\":{\"standoff\":15},\"zerolinecolor\":\"white\",\"automargin\":true,\"zerolinewidth\":2},\"scene\":{\"xaxis\":{\"backgroundcolor\":\"#E5ECF6\",\"gridcolor\":\"white\",\"linecolor\":\"white\",\"showbackground\":true,\"ticks\":\"\",\"zerolinecolor\":\"white\",\"gridwidth\":2},\"yaxis\":{\"backgroundcolor\":\"#E5ECF6\",\"gridcolor\":\"white\",\"linecolor\":\"white\",\"showbackground\":true,\"ticks\":\"\",\"zerolinecolor\":\"white\",\"gridwidth\":2},\"zaxis\":{\"backgroundcolor\":\"#E5ECF6\",\"gridcolor\":\"white\",\"linecolor\":\"white\",\"showbackground\":true,\"ticks\":\"\",\"zerolinecolor\":\"white\",\"gridwidth\":2}},\"shapedefaults\":{\"line\":{\"color\":\"#2a3f5f\"}},\"annotationdefaults\":{\"arrowcolor\":\"#2a3f5f\",\"arrowhead\":0,\"arrowwidth\":1},\"geo\":{\"bgcolor\":\"white\",\"landcolor\":\"#E5ECF6\",\"subunitcolor\":\"white\",\"showland\":true,\"showlakes\":true,\"lakecolor\":\"white\"},\"title\":{\"x\":0.05},\"mapbox\":{\"style\":\"light\"}}},\"legend\":{\"tracegroupgap\":0},\"title\":{\"text\":\"\\u003cb\\u003eHierarchical Breakdown of \\\"AI Performance & Quality\\\" Complaints\\u003c\\u002fb\\u003e\",\"x\":0.5},\"sunburstcolorway\":[\"rgb(8,48,107)\",\"rgb(8,81,156)\",\"rgb(33,113,181)\",\"rgb(66,146,198)\",\"rgb(107,174,214)\",\"rgb(158,202,225)\",\"rgb(198,219,239)\",\"rgb(222,235,247)\",\"rgb(247,251,255)\"],\"margin\":{\"t\":50,\"l\":25,\"r\":25,\"b\":25},\"font\":{\"size\":14}},                        {\"responsive\": true}                    ).then(function(){\n                            \nvar gd = document.getElementById('6cefc06d-6e09-4efe-a209-d1902a43fc87');\nvar x = new MutationObserver(function (mutations, observer) {{\n        var display = window.getComputedStyle(gd).display;\n        if (!display || display === 'none') {{\n            console.log([gd, 'removed!']);\n            Plotly.purge(gd);\n            observer.disconnect();\n        }}\n}});\n\n// Listen for the removal of the full notebook cells\nvar notebookContainer = gd.closest('#notebook-container');\nif (notebookContainer) {{\n    x.observe(notebookContainer, {childList: true});\n}}\n\n// Listen for the clearing of the current output cell\nvar outputEl = gd.closest('.output');\nif (outputEl) {{\n    x.observe(outputEl, {childList: true});\n}}\n\n                        })                };                            </script>        </div>\n</body>\n</html>"
     },
     "metadata": {},
     "output_type": "display_data"
    }
   ],
   "source": [
    "# --- Breakdown 1: AI Performance & Quality ---\n",
    "# Using a blue color palette to represent intelligence/technology\n",
    "create_themed_sunburst(\n",
    "    theme_name=\"AI Performance & Quality\", color_sequence=px.colors.sequential.Blues_r\n",
    ")"
   ]
  },
  {
   "cell_type": "code",
   "execution_count": 33,
   "metadata": {
    "execution": {
     "iopub.execute_input": "2025-07-22T08:37:36.665477Z",
     "iopub.status.busy": "2025-07-22T08:37:36.665240Z",
     "iopub.status.idle": "2025-07-22T08:37:36.723189Z",
     "shell.execute_reply": "2025-07-22T08:37:36.722448Z",
     "shell.execute_reply.started": "2025-07-22T08:37:36.665460Z"
    },
    "trusted": true
   },
   "outputs": [
    {
     "data": {
      "text/html": "<html>\n<head><meta charset=\"utf-8\" /></head>\n<body>\n    <div>            <script src=\"https://cdnjs.cloudflare.com/ajax/libs/mathjax/2.7.5/MathJax.js?config=TeX-AMS-MML_SVG\"></script><script type=\"text/javascript\">if (window.MathJax && window.MathJax.Hub && window.MathJax.Hub.Config) {window.MathJax.Hub.Config({SVG: {font: \"STIX-Web\"}});}</script>                <script type=\"text/javascript\">window.PlotlyConfig = {MathJaxConfig: 'local'};</script>\n        <script charset=\"utf-8\" src=\"https://cdn.plot.ly/plotly-2.35.2.min.js\"></script>                <div id=\"8676a2f7-99c9-4c7d-9225-45f10b4dcdc3\" class=\"plotly-graph-div\" style=\"height:525px; width:100%;\"></div>            <script type=\"text/javascript\">                                    window.PLOTLYENV=window.PLOTLYENV || {};                                    if (document.getElementById(\"8676a2f7-99c9-4c7d-9225-45f10b4dcdc3\")) {                    Plotly.newPlot(                        \"8676a2f7-99c9-4c7d-9225-45f10b4dcdc3\",                        [{\"branchvalues\":\"total\",\"customdata\":[[\"Chat Monetization\"],[\"Data Mining & Money Scams\"],[\"False Advertising\"],[\"Free Trial Issues\"],[\"In-App Gamification & Payments\"],[\"Inability to Use Core Features (Paywall)\"],[\"Paying for Pictures\\u002fPhotos\"],[\"Paywalled Features\"],[\"Price is Too Expensive\"],[\"Pricing & Lack of Monthly Options\"],[\"Pro Version vs. Free Version\"],[\"Refunds & Google Play Billing\"],[\"Refunds for Paid Subscriptions\"],[\"Requesting Money Back\"],[\"Subscription Complaints\"],[\"Subscription Language & Options\"],[\"Subscription Models (Pay\\u002fMonthly\\u002fYearly)\"],[\"Update\\u002fSubscription Combo\"],[\"(?)\"]],\"domain\":{\"x\":[0.0,1.0],\"y\":[0.0,1.0]},\"hovertemplate\":\"labels=%{label}\\u003cbr\\u003ecount=%{value}\\u003cbr\\u003eparent=%{parent}\\u003cbr\\u003eid=%{id}\\u003cbr\\u003etopic_name=%{customdata[0]}\\u003cextra\\u003e\\u003c\\u002fextra\\u003e\",\"ids\":[\"Monetization & Value\\u002fChat Monetization\",\"Monetization & Value\\u002fData Mining & Money Scams\",\"Monetization & Value\\u002fFalse Advertising\",\"Monetization & Value\\u002fFree Trial Issues\",\"Monetization & Value\\u002fIn-App Gamification & Payments\",\"Monetization & Value\\u002fInability to Use Core Features (Paywall)\",\"Monetization & Value\\u002fPaying for Pictures\\u002fPhotos\",\"Monetization & Value\\u002fPaywalled Features\",\"Monetization & Value\\u002fPrice is Too Expensive\",\"Monetization & Value\\u002fPricing & Lack of Monthly Options\",\"Monetization & Value\\u002fPro Version vs. Free Version\",\"Monetization & Value\\u002fRefunds & Google Play Billing\",\"Monetization & Value\\u002fRefunds for Paid Subscriptions\",\"Monetization & Value\\u002fRequesting Money Back\",\"Monetization & Value\\u002fSubscription Complaints\",\"Monetization & Value\\u002fSubscription Language & Options\",\"Monetization & Value\\u002fSubscription Models (Pay\\u002fMonthly\\u002fYearly)\",\"Monetization & Value\\u002fUpdate\\u002fSubscription Combo\",\"Monetization & Value\"],\"labels\":[\"Chat Monetization\",\"Data Mining & Money Scams\",\"False Advertising\",\"Free Trial Issues\",\"In-App Gamification & Payments\",\"Inability to Use Core Features (Paywall)\",\"Paying for Pictures\\u002fPhotos\",\"Paywalled Features\",\"Price is Too Expensive\",\"Pricing & Lack of Monthly Options\",\"Pro Version vs. Free Version\",\"Refunds & Google Play Billing\",\"Refunds for Paid Subscriptions\",\"Requesting Money Back\",\"Subscription Complaints\",\"Subscription Language & Options\",\"Subscription Models (Pay\\u002fMonthly\\u002fYearly)\",\"Update\\u002fSubscription Combo\",\"Monetization & Value\"],\"marker\":{\"colors\":[\"rgb(103,0,13)\",\"rgb(165,15,21)\",\"rgb(203,24,29)\",\"rgb(239,59,44)\",\"rgb(251,106,74)\",\"rgb(252,146,114)\",\"rgb(252,187,161)\",\"rgb(254,224,210)\",\"rgb(255,245,240)\",\"rgb(103,0,13)\",\"rgb(165,15,21)\",\"rgb(203,24,29)\",\"rgb(239,59,44)\",\"rgb(251,106,74)\",\"rgb(252,146,114)\",\"rgb(252,187,161)\",\"rgb(254,224,210)\",\"rgb(255,245,240)\",\"rgb(103,0,13)\"]},\"name\":\"\",\"parents\":[\"Monetization & Value\",\"Monetization & Value\",\"Monetization & Value\",\"Monetization & Value\",\"Monetization & Value\",\"Monetization & Value\",\"Monetization & Value\",\"Monetization & Value\",\"Monetization & Value\",\"Monetization & Value\",\"Monetization & Value\",\"Monetization & Value\",\"Monetization & Value\",\"Monetization & Value\",\"Monetization & Value\",\"Monetization & Value\",\"Monetization & Value\",\"Monetization & Value\",\"\"],\"values\":[131,46,103,94,407,139,46,129,143,263,117,292,179,88,262,623,931,58,4051],\"type\":\"sunburst\"}],                        {\"template\":{\"data\":{\"histogram2dcontour\":[{\"type\":\"histogram2dcontour\",\"colorbar\":{\"outlinewidth\":0,\"ticks\":\"\"},\"colorscale\":[[0.0,\"#0d0887\"],[0.1111111111111111,\"#46039f\"],[0.2222222222222222,\"#7201a8\"],[0.3333333333333333,\"#9c179e\"],[0.4444444444444444,\"#bd3786\"],[0.5555555555555556,\"#d8576b\"],[0.6666666666666666,\"#ed7953\"],[0.7777777777777778,\"#fb9f3a\"],[0.8888888888888888,\"#fdca26\"],[1.0,\"#f0f921\"]]}],\"choropleth\":[{\"type\":\"choropleth\",\"colorbar\":{\"outlinewidth\":0,\"ticks\":\"\"}}],\"histogram2d\":[{\"type\":\"histogram2d\",\"colorbar\":{\"outlinewidth\":0,\"ticks\":\"\"},\"colorscale\":[[0.0,\"#0d0887\"],[0.1111111111111111,\"#46039f\"],[0.2222222222222222,\"#7201a8\"],[0.3333333333333333,\"#9c179e\"],[0.4444444444444444,\"#bd3786\"],[0.5555555555555556,\"#d8576b\"],[0.6666666666666666,\"#ed7953\"],[0.7777777777777778,\"#fb9f3a\"],[0.8888888888888888,\"#fdca26\"],[1.0,\"#f0f921\"]]}],\"heatmap\":[{\"type\":\"heatmap\",\"colorbar\":{\"outlinewidth\":0,\"ticks\":\"\"},\"colorscale\":[[0.0,\"#0d0887\"],[0.1111111111111111,\"#46039f\"],[0.2222222222222222,\"#7201a8\"],[0.3333333333333333,\"#9c179e\"],[0.4444444444444444,\"#bd3786\"],[0.5555555555555556,\"#d8576b\"],[0.6666666666666666,\"#ed7953\"],[0.7777777777777778,\"#fb9f3a\"],[0.8888888888888888,\"#fdca26\"],[1.0,\"#f0f921\"]]}],\"heatmapgl\":[{\"type\":\"heatmapgl\",\"colorbar\":{\"outlinewidth\":0,\"ticks\":\"\"},\"colorscale\":[[0.0,\"#0d0887\"],[0.1111111111111111,\"#46039f\"],[0.2222222222222222,\"#7201a8\"],[0.3333333333333333,\"#9c179e\"],[0.4444444444444444,\"#bd3786\"],[0.5555555555555556,\"#d8576b\"],[0.6666666666666666,\"#ed7953\"],[0.7777777777777778,\"#fb9f3a\"],[0.8888888888888888,\"#fdca26\"],[1.0,\"#f0f921\"]]}],\"contourcarpet\":[{\"type\":\"contourcarpet\",\"colorbar\":{\"outlinewidth\":0,\"ticks\":\"\"}}],\"contour\":[{\"type\":\"contour\",\"colorbar\":{\"outlinewidth\":0,\"ticks\":\"\"},\"colorscale\":[[0.0,\"#0d0887\"],[0.1111111111111111,\"#46039f\"],[0.2222222222222222,\"#7201a8\"],[0.3333333333333333,\"#9c179e\"],[0.4444444444444444,\"#bd3786\"],[0.5555555555555556,\"#d8576b\"],[0.6666666666666666,\"#ed7953\"],[0.7777777777777778,\"#fb9f3a\"],[0.8888888888888888,\"#fdca26\"],[1.0,\"#f0f921\"]]}],\"surface\":[{\"type\":\"surface\",\"colorbar\":{\"outlinewidth\":0,\"ticks\":\"\"},\"colorscale\":[[0.0,\"#0d0887\"],[0.1111111111111111,\"#46039f\"],[0.2222222222222222,\"#7201a8\"],[0.3333333333333333,\"#9c179e\"],[0.4444444444444444,\"#bd3786\"],[0.5555555555555556,\"#d8576b\"],[0.6666666666666666,\"#ed7953\"],[0.7777777777777778,\"#fb9f3a\"],[0.8888888888888888,\"#fdca26\"],[1.0,\"#f0f921\"]]}],\"mesh3d\":[{\"type\":\"mesh3d\",\"colorbar\":{\"outlinewidth\":0,\"ticks\":\"\"}}],\"scatter\":[{\"fillpattern\":{\"fillmode\":\"overlay\",\"size\":10,\"solidity\":0.2},\"type\":\"scatter\"}],\"parcoords\":[{\"type\":\"parcoords\",\"line\":{\"colorbar\":{\"outlinewidth\":0,\"ticks\":\"\"}}}],\"scatterpolargl\":[{\"type\":\"scatterpolargl\",\"marker\":{\"colorbar\":{\"outlinewidth\":0,\"ticks\":\"\"}}}],\"bar\":[{\"error_x\":{\"color\":\"#2a3f5f\"},\"error_y\":{\"color\":\"#2a3f5f\"},\"marker\":{\"line\":{\"color\":\"#E5ECF6\",\"width\":0.5},\"pattern\":{\"fillmode\":\"overlay\",\"size\":10,\"solidity\":0.2}},\"type\":\"bar\"}],\"scattergeo\":[{\"type\":\"scattergeo\",\"marker\":{\"colorbar\":{\"outlinewidth\":0,\"ticks\":\"\"}}}],\"scatterpolar\":[{\"type\":\"scatterpolar\",\"marker\":{\"colorbar\":{\"outlinewidth\":0,\"ticks\":\"\"}}}],\"histogram\":[{\"marker\":{\"pattern\":{\"fillmode\":\"overlay\",\"size\":10,\"solidity\":0.2}},\"type\":\"histogram\"}],\"scattergl\":[{\"type\":\"scattergl\",\"marker\":{\"colorbar\":{\"outlinewidth\":0,\"ticks\":\"\"}}}],\"scatter3d\":[{\"type\":\"scatter3d\",\"line\":{\"colorbar\":{\"outlinewidth\":0,\"ticks\":\"\"}},\"marker\":{\"colorbar\":{\"outlinewidth\":0,\"ticks\":\"\"}}}],\"scattermapbox\":[{\"type\":\"scattermapbox\",\"marker\":{\"colorbar\":{\"outlinewidth\":0,\"ticks\":\"\"}}}],\"scatterternary\":[{\"type\":\"scatterternary\",\"marker\":{\"colorbar\":{\"outlinewidth\":0,\"ticks\":\"\"}}}],\"scattercarpet\":[{\"type\":\"scattercarpet\",\"marker\":{\"colorbar\":{\"outlinewidth\":0,\"ticks\":\"\"}}}],\"carpet\":[{\"aaxis\":{\"endlinecolor\":\"#2a3f5f\",\"gridcolor\":\"white\",\"linecolor\":\"white\",\"minorgridcolor\":\"white\",\"startlinecolor\":\"#2a3f5f\"},\"baxis\":{\"endlinecolor\":\"#2a3f5f\",\"gridcolor\":\"white\",\"linecolor\":\"white\",\"minorgridcolor\":\"white\",\"startlinecolor\":\"#2a3f5f\"},\"type\":\"carpet\"}],\"table\":[{\"cells\":{\"fill\":{\"color\":\"#EBF0F8\"},\"line\":{\"color\":\"white\"}},\"header\":{\"fill\":{\"color\":\"#C8D4E3\"},\"line\":{\"color\":\"white\"}},\"type\":\"table\"}],\"barpolar\":[{\"marker\":{\"line\":{\"color\":\"#E5ECF6\",\"width\":0.5},\"pattern\":{\"fillmode\":\"overlay\",\"size\":10,\"solidity\":0.2}},\"type\":\"barpolar\"}],\"pie\":[{\"automargin\":true,\"type\":\"pie\"}]},\"layout\":{\"autotypenumbers\":\"strict\",\"colorway\":[\"#636efa\",\"#EF553B\",\"#00cc96\",\"#ab63fa\",\"#FFA15A\",\"#19d3f3\",\"#FF6692\",\"#B6E880\",\"#FF97FF\",\"#FECB52\"],\"font\":{\"color\":\"#2a3f5f\"},\"hovermode\":\"closest\",\"hoverlabel\":{\"align\":\"left\"},\"paper_bgcolor\":\"white\",\"plot_bgcolor\":\"#E5ECF6\",\"polar\":{\"bgcolor\":\"#E5ECF6\",\"angularaxis\":{\"gridcolor\":\"white\",\"linecolor\":\"white\",\"ticks\":\"\"},\"radialaxis\":{\"gridcolor\":\"white\",\"linecolor\":\"white\",\"ticks\":\"\"}},\"ternary\":{\"bgcolor\":\"#E5ECF6\",\"aaxis\":{\"gridcolor\":\"white\",\"linecolor\":\"white\",\"ticks\":\"\"},\"baxis\":{\"gridcolor\":\"white\",\"linecolor\":\"white\",\"ticks\":\"\"},\"caxis\":{\"gridcolor\":\"white\",\"linecolor\":\"white\",\"ticks\":\"\"}},\"coloraxis\":{\"colorbar\":{\"outlinewidth\":0,\"ticks\":\"\"}},\"colorscale\":{\"sequential\":[[0.0,\"#0d0887\"],[0.1111111111111111,\"#46039f\"],[0.2222222222222222,\"#7201a8\"],[0.3333333333333333,\"#9c179e\"],[0.4444444444444444,\"#bd3786\"],[0.5555555555555556,\"#d8576b\"],[0.6666666666666666,\"#ed7953\"],[0.7777777777777778,\"#fb9f3a\"],[0.8888888888888888,\"#fdca26\"],[1.0,\"#f0f921\"]],\"sequentialminus\":[[0.0,\"#0d0887\"],[0.1111111111111111,\"#46039f\"],[0.2222222222222222,\"#7201a8\"],[0.3333333333333333,\"#9c179e\"],[0.4444444444444444,\"#bd3786\"],[0.5555555555555556,\"#d8576b\"],[0.6666666666666666,\"#ed7953\"],[0.7777777777777778,\"#fb9f3a\"],[0.8888888888888888,\"#fdca26\"],[1.0,\"#f0f921\"]],\"diverging\":[[0,\"#8e0152\"],[0.1,\"#c51b7d\"],[0.2,\"#de77ae\"],[0.3,\"#f1b6da\"],[0.4,\"#fde0ef\"],[0.5,\"#f7f7f7\"],[0.6,\"#e6f5d0\"],[0.7,\"#b8e186\"],[0.8,\"#7fbc41\"],[0.9,\"#4d9221\"],[1,\"#276419\"]]},\"xaxis\":{\"gridcolor\":\"white\",\"linecolor\":\"white\",\"ticks\":\"\",\"title\":{\"standoff\":15},\"zerolinecolor\":\"white\",\"automargin\":true,\"zerolinewidth\":2},\"yaxis\":{\"gridcolor\":\"white\",\"linecolor\":\"white\",\"ticks\":\"\",\"title\":{\"standoff\":15},\"zerolinecolor\":\"white\",\"automargin\":true,\"zerolinewidth\":2},\"scene\":{\"xaxis\":{\"backgroundcolor\":\"#E5ECF6\",\"gridcolor\":\"white\",\"linecolor\":\"white\",\"showbackground\":true,\"ticks\":\"\",\"zerolinecolor\":\"white\",\"gridwidth\":2},\"yaxis\":{\"backgroundcolor\":\"#E5ECF6\",\"gridcolor\":\"white\",\"linecolor\":\"white\",\"showbackground\":true,\"ticks\":\"\",\"zerolinecolor\":\"white\",\"gridwidth\":2},\"zaxis\":{\"backgroundcolor\":\"#E5ECF6\",\"gridcolor\":\"white\",\"linecolor\":\"white\",\"showbackground\":true,\"ticks\":\"\",\"zerolinecolor\":\"white\",\"gridwidth\":2}},\"shapedefaults\":{\"line\":{\"color\":\"#2a3f5f\"}},\"annotationdefaults\":{\"arrowcolor\":\"#2a3f5f\",\"arrowhead\":0,\"arrowwidth\":1},\"geo\":{\"bgcolor\":\"white\",\"landcolor\":\"#E5ECF6\",\"subunitcolor\":\"white\",\"showland\":true,\"showlakes\":true,\"lakecolor\":\"white\"},\"title\":{\"x\":0.05},\"mapbox\":{\"style\":\"light\"}}},\"legend\":{\"tracegroupgap\":0},\"title\":{\"text\":\"\\u003cb\\u003eHierarchical Breakdown of \\\"Monetization & Value\\\" Complaints\\u003c\\u002fb\\u003e\",\"x\":0.5},\"sunburstcolorway\":[\"rgb(103,0,13)\",\"rgb(165,15,21)\",\"rgb(203,24,29)\",\"rgb(239,59,44)\",\"rgb(251,106,74)\",\"rgb(252,146,114)\",\"rgb(252,187,161)\",\"rgb(254,224,210)\",\"rgb(255,245,240)\"],\"margin\":{\"t\":50,\"l\":25,\"r\":25,\"b\":25},\"font\":{\"size\":14}},                        {\"responsive\": true}                    ).then(function(){\n                            \nvar gd = document.getElementById('8676a2f7-99c9-4c7d-9225-45f10b4dcdc3');\nvar x = new MutationObserver(function (mutations, observer) {{\n        var display = window.getComputedStyle(gd).display;\n        if (!display || display === 'none') {{\n            console.log([gd, 'removed!']);\n            Plotly.purge(gd);\n            observer.disconnect();\n        }}\n}});\n\n// Listen for the removal of the full notebook cells\nvar notebookContainer = gd.closest('#notebook-container');\nif (notebookContainer) {{\n    x.observe(notebookContainer, {childList: true});\n}}\n\n// Listen for the clearing of the current output cell\nvar outputEl = gd.closest('.output');\nif (outputEl) {{\n    x.observe(outputEl, {childList: true});\n}}\n\n                        })                };                            </script>        </div>\n</body>\n</html>"
     },
     "metadata": {},
     "output_type": "display_data"
    }
   ],
   "source": [
    "# --- Breakdown 2: Monetization & Value ---\n",
    "create_themed_sunburst(\n",
    "    theme_name=\"Monetization & Value\", color_sequence=px.colors.sequential.Reds_r\n",
    ")"
   ]
  },
  {
   "cell_type": "code",
   "execution_count": 34,
   "metadata": {
    "execution": {
     "iopub.execute_input": "2025-07-22T08:37:39.377104Z",
     "iopub.status.busy": "2025-07-22T08:37:39.376359Z",
     "iopub.status.idle": "2025-07-22T08:37:39.434130Z",
     "shell.execute_reply": "2025-07-22T08:37:39.433403Z",
     "shell.execute_reply.started": "2025-07-22T08:37:39.377071Z"
    },
    "trusted": true
   },
   "outputs": [
    {
     "data": {
      "text/html": "<html>\n<head><meta charset=\"utf-8\" /></head>\n<body>\n    <div>            <script src=\"https://cdnjs.cloudflare.com/ajax/libs/mathjax/2.7.5/MathJax.js?config=TeX-AMS-MML_SVG\"></script><script type=\"text/javascript\">if (window.MathJax && window.MathJax.Hub && window.MathJax.Hub.Config) {window.MathJax.Hub.Config({SVG: {font: \"STIX-Web\"}});}</script>                <script type=\"text/javascript\">window.PlotlyConfig = {MathJaxConfig: 'local'};</script>\n        <script charset=\"utf-8\" src=\"https://cdn.plot.ly/plotly-2.35.2.min.js\"></script>                <div id=\"b06b04fa-406f-44af-a6bf-62eab9504c09\" class=\"plotly-graph-div\" style=\"height:525px; width:100%;\"></div>            <script type=\"text/javascript\">                                    window.PLOTLYENV=window.PLOTLYENV || {};                                    if (document.getElementById(\"b06b04fa-406f-44af-a6bf-62eab9504c09\")) {                    Plotly.newPlot(                        \"b06b04fa-406f-44af-a6bf-62eab9504c09\",                        [{\"branchvalues\":\"total\",\"customdata\":[[\"Account, Login & Password Issues\"],[\"Bugs Introduced by Updates\"],[\"Technical: App Crashing \\u002f Not Opening\"],[\"Technical: Customization Screen Bugs\"],[\"Technical: Internet Connection Issues\"],[\"Technical: Loading & Installation\"],[\"Update Issues\"],[\"(?)\"]],\"domain\":{\"x\":[0.0,1.0],\"y\":[0.0,1.0]},\"hovertemplate\":\"labels=%{label}\\u003cbr\\u003ecount=%{value}\\u003cbr\\u003eparent=%{parent}\\u003cbr\\u003eid=%{id}\\u003cbr\\u003etopic_name=%{customdata[0]}\\u003cextra\\u003e\\u003c\\u002fextra\\u003e\",\"ids\":[\"Technical Performance\\u002fAccount, Login & Password Issues\",\"Technical Performance\\u002fBugs Introduced by Updates\",\"Technical Performance\\u002fTechnical: App Crashing \\u002f Not Opening\",\"Technical Performance\\u002fTechnical: Customization Screen Bugs\",\"Technical Performance\\u002fTechnical: Internet Connection Issues\",\"Technical Performance\\u002fTechnical: Loading & Installation\",\"Technical Performance\\u002fUpdate Issues\",\"Technical Performance\"],\"labels\":[\"Account, Login & Password Issues\",\"Bugs Introduced by Updates\",\"Technical: App Crashing \\u002f Not Opening\",\"Technical: Customization Screen Bugs\",\"Technical: Internet Connection Issues\",\"Technical: Loading & Installation\",\"Update Issues\",\"Technical Performance\"],\"marker\":{\"colors\":[\"rgb(0,68,27)\",\"rgb(0,109,44)\",\"rgb(35,139,69)\",\"rgb(65,171,93)\",\"rgb(116,196,118)\",\"rgb(161,217,155)\",\"rgb(199,233,192)\",\"rgb(229,245,224)\"]},\"name\":\"\",\"parents\":[\"Technical Performance\",\"Technical Performance\",\"Technical Performance\",\"Technical Performance\",\"Technical Performance\",\"Technical Performance\",\"Technical Performance\",\"\"],\"values\":[347,247,393,94,120,120,70,1391],\"type\":\"sunburst\"}],                        {\"template\":{\"data\":{\"histogram2dcontour\":[{\"type\":\"histogram2dcontour\",\"colorbar\":{\"outlinewidth\":0,\"ticks\":\"\"},\"colorscale\":[[0.0,\"#0d0887\"],[0.1111111111111111,\"#46039f\"],[0.2222222222222222,\"#7201a8\"],[0.3333333333333333,\"#9c179e\"],[0.4444444444444444,\"#bd3786\"],[0.5555555555555556,\"#d8576b\"],[0.6666666666666666,\"#ed7953\"],[0.7777777777777778,\"#fb9f3a\"],[0.8888888888888888,\"#fdca26\"],[1.0,\"#f0f921\"]]}],\"choropleth\":[{\"type\":\"choropleth\",\"colorbar\":{\"outlinewidth\":0,\"ticks\":\"\"}}],\"histogram2d\":[{\"type\":\"histogram2d\",\"colorbar\":{\"outlinewidth\":0,\"ticks\":\"\"},\"colorscale\":[[0.0,\"#0d0887\"],[0.1111111111111111,\"#46039f\"],[0.2222222222222222,\"#7201a8\"],[0.3333333333333333,\"#9c179e\"],[0.4444444444444444,\"#bd3786\"],[0.5555555555555556,\"#d8576b\"],[0.6666666666666666,\"#ed7953\"],[0.7777777777777778,\"#fb9f3a\"],[0.8888888888888888,\"#fdca26\"],[1.0,\"#f0f921\"]]}],\"heatmap\":[{\"type\":\"heatmap\",\"colorbar\":{\"outlinewidth\":0,\"ticks\":\"\"},\"colorscale\":[[0.0,\"#0d0887\"],[0.1111111111111111,\"#46039f\"],[0.2222222222222222,\"#7201a8\"],[0.3333333333333333,\"#9c179e\"],[0.4444444444444444,\"#bd3786\"],[0.5555555555555556,\"#d8576b\"],[0.6666666666666666,\"#ed7953\"],[0.7777777777777778,\"#fb9f3a\"],[0.8888888888888888,\"#fdca26\"],[1.0,\"#f0f921\"]]}],\"heatmapgl\":[{\"type\":\"heatmapgl\",\"colorbar\":{\"outlinewidth\":0,\"ticks\":\"\"},\"colorscale\":[[0.0,\"#0d0887\"],[0.1111111111111111,\"#46039f\"],[0.2222222222222222,\"#7201a8\"],[0.3333333333333333,\"#9c179e\"],[0.4444444444444444,\"#bd3786\"],[0.5555555555555556,\"#d8576b\"],[0.6666666666666666,\"#ed7953\"],[0.7777777777777778,\"#fb9f3a\"],[0.8888888888888888,\"#fdca26\"],[1.0,\"#f0f921\"]]}],\"contourcarpet\":[{\"type\":\"contourcarpet\",\"colorbar\":{\"outlinewidth\":0,\"ticks\":\"\"}}],\"contour\":[{\"type\":\"contour\",\"colorbar\":{\"outlinewidth\":0,\"ticks\":\"\"},\"colorscale\":[[0.0,\"#0d0887\"],[0.1111111111111111,\"#46039f\"],[0.2222222222222222,\"#7201a8\"],[0.3333333333333333,\"#9c179e\"],[0.4444444444444444,\"#bd3786\"],[0.5555555555555556,\"#d8576b\"],[0.6666666666666666,\"#ed7953\"],[0.7777777777777778,\"#fb9f3a\"],[0.8888888888888888,\"#fdca26\"],[1.0,\"#f0f921\"]]}],\"surface\":[{\"type\":\"surface\",\"colorbar\":{\"outlinewidth\":0,\"ticks\":\"\"},\"colorscale\":[[0.0,\"#0d0887\"],[0.1111111111111111,\"#46039f\"],[0.2222222222222222,\"#7201a8\"],[0.3333333333333333,\"#9c179e\"],[0.4444444444444444,\"#bd3786\"],[0.5555555555555556,\"#d8576b\"],[0.6666666666666666,\"#ed7953\"],[0.7777777777777778,\"#fb9f3a\"],[0.8888888888888888,\"#fdca26\"],[1.0,\"#f0f921\"]]}],\"mesh3d\":[{\"type\":\"mesh3d\",\"colorbar\":{\"outlinewidth\":0,\"ticks\":\"\"}}],\"scatter\":[{\"fillpattern\":{\"fillmode\":\"overlay\",\"size\":10,\"solidity\":0.2},\"type\":\"scatter\"}],\"parcoords\":[{\"type\":\"parcoords\",\"line\":{\"colorbar\":{\"outlinewidth\":0,\"ticks\":\"\"}}}],\"scatterpolargl\":[{\"type\":\"scatterpolargl\",\"marker\":{\"colorbar\":{\"outlinewidth\":0,\"ticks\":\"\"}}}],\"bar\":[{\"error_x\":{\"color\":\"#2a3f5f\"},\"error_y\":{\"color\":\"#2a3f5f\"},\"marker\":{\"line\":{\"color\":\"#E5ECF6\",\"width\":0.5},\"pattern\":{\"fillmode\":\"overlay\",\"size\":10,\"solidity\":0.2}},\"type\":\"bar\"}],\"scattergeo\":[{\"type\":\"scattergeo\",\"marker\":{\"colorbar\":{\"outlinewidth\":0,\"ticks\":\"\"}}}],\"scatterpolar\":[{\"type\":\"scatterpolar\",\"marker\":{\"colorbar\":{\"outlinewidth\":0,\"ticks\":\"\"}}}],\"histogram\":[{\"marker\":{\"pattern\":{\"fillmode\":\"overlay\",\"size\":10,\"solidity\":0.2}},\"type\":\"histogram\"}],\"scattergl\":[{\"type\":\"scattergl\",\"marker\":{\"colorbar\":{\"outlinewidth\":0,\"ticks\":\"\"}}}],\"scatter3d\":[{\"type\":\"scatter3d\",\"line\":{\"colorbar\":{\"outlinewidth\":0,\"ticks\":\"\"}},\"marker\":{\"colorbar\":{\"outlinewidth\":0,\"ticks\":\"\"}}}],\"scattermapbox\":[{\"type\":\"scattermapbox\",\"marker\":{\"colorbar\":{\"outlinewidth\":0,\"ticks\":\"\"}}}],\"scatterternary\":[{\"type\":\"scatterternary\",\"marker\":{\"colorbar\":{\"outlinewidth\":0,\"ticks\":\"\"}}}],\"scattercarpet\":[{\"type\":\"scattercarpet\",\"marker\":{\"colorbar\":{\"outlinewidth\":0,\"ticks\":\"\"}}}],\"carpet\":[{\"aaxis\":{\"endlinecolor\":\"#2a3f5f\",\"gridcolor\":\"white\",\"linecolor\":\"white\",\"minorgridcolor\":\"white\",\"startlinecolor\":\"#2a3f5f\"},\"baxis\":{\"endlinecolor\":\"#2a3f5f\",\"gridcolor\":\"white\",\"linecolor\":\"white\",\"minorgridcolor\":\"white\",\"startlinecolor\":\"#2a3f5f\"},\"type\":\"carpet\"}],\"table\":[{\"cells\":{\"fill\":{\"color\":\"#EBF0F8\"},\"line\":{\"color\":\"white\"}},\"header\":{\"fill\":{\"color\":\"#C8D4E3\"},\"line\":{\"color\":\"white\"}},\"type\":\"table\"}],\"barpolar\":[{\"marker\":{\"line\":{\"color\":\"#E5ECF6\",\"width\":0.5},\"pattern\":{\"fillmode\":\"overlay\",\"size\":10,\"solidity\":0.2}},\"type\":\"barpolar\"}],\"pie\":[{\"automargin\":true,\"type\":\"pie\"}]},\"layout\":{\"autotypenumbers\":\"strict\",\"colorway\":[\"#636efa\",\"#EF553B\",\"#00cc96\",\"#ab63fa\",\"#FFA15A\",\"#19d3f3\",\"#FF6692\",\"#B6E880\",\"#FF97FF\",\"#FECB52\"],\"font\":{\"color\":\"#2a3f5f\"},\"hovermode\":\"closest\",\"hoverlabel\":{\"align\":\"left\"},\"paper_bgcolor\":\"white\",\"plot_bgcolor\":\"#E5ECF6\",\"polar\":{\"bgcolor\":\"#E5ECF6\",\"angularaxis\":{\"gridcolor\":\"white\",\"linecolor\":\"white\",\"ticks\":\"\"},\"radialaxis\":{\"gridcolor\":\"white\",\"linecolor\":\"white\",\"ticks\":\"\"}},\"ternary\":{\"bgcolor\":\"#E5ECF6\",\"aaxis\":{\"gridcolor\":\"white\",\"linecolor\":\"white\",\"ticks\":\"\"},\"baxis\":{\"gridcolor\":\"white\",\"linecolor\":\"white\",\"ticks\":\"\"},\"caxis\":{\"gridcolor\":\"white\",\"linecolor\":\"white\",\"ticks\":\"\"}},\"coloraxis\":{\"colorbar\":{\"outlinewidth\":0,\"ticks\":\"\"}},\"colorscale\":{\"sequential\":[[0.0,\"#0d0887\"],[0.1111111111111111,\"#46039f\"],[0.2222222222222222,\"#7201a8\"],[0.3333333333333333,\"#9c179e\"],[0.4444444444444444,\"#bd3786\"],[0.5555555555555556,\"#d8576b\"],[0.6666666666666666,\"#ed7953\"],[0.7777777777777778,\"#fb9f3a\"],[0.8888888888888888,\"#fdca26\"],[1.0,\"#f0f921\"]],\"sequentialminus\":[[0.0,\"#0d0887\"],[0.1111111111111111,\"#46039f\"],[0.2222222222222222,\"#7201a8\"],[0.3333333333333333,\"#9c179e\"],[0.4444444444444444,\"#bd3786\"],[0.5555555555555556,\"#d8576b\"],[0.6666666666666666,\"#ed7953\"],[0.7777777777777778,\"#fb9f3a\"],[0.8888888888888888,\"#fdca26\"],[1.0,\"#f0f921\"]],\"diverging\":[[0,\"#8e0152\"],[0.1,\"#c51b7d\"],[0.2,\"#de77ae\"],[0.3,\"#f1b6da\"],[0.4,\"#fde0ef\"],[0.5,\"#f7f7f7\"],[0.6,\"#e6f5d0\"],[0.7,\"#b8e186\"],[0.8,\"#7fbc41\"],[0.9,\"#4d9221\"],[1,\"#276419\"]]},\"xaxis\":{\"gridcolor\":\"white\",\"linecolor\":\"white\",\"ticks\":\"\",\"title\":{\"standoff\":15},\"zerolinecolor\":\"white\",\"automargin\":true,\"zerolinewidth\":2},\"yaxis\":{\"gridcolor\":\"white\",\"linecolor\":\"white\",\"ticks\":\"\",\"title\":{\"standoff\":15},\"zerolinecolor\":\"white\",\"automargin\":true,\"zerolinewidth\":2},\"scene\":{\"xaxis\":{\"backgroundcolor\":\"#E5ECF6\",\"gridcolor\":\"white\",\"linecolor\":\"white\",\"showbackground\":true,\"ticks\":\"\",\"zerolinecolor\":\"white\",\"gridwidth\":2},\"yaxis\":{\"backgroundcolor\":\"#E5ECF6\",\"gridcolor\":\"white\",\"linecolor\":\"white\",\"showbackground\":true,\"ticks\":\"\",\"zerolinecolor\":\"white\",\"gridwidth\":2},\"zaxis\":{\"backgroundcolor\":\"#E5ECF6\",\"gridcolor\":\"white\",\"linecolor\":\"white\",\"showbackground\":true,\"ticks\":\"\",\"zerolinecolor\":\"white\",\"gridwidth\":2}},\"shapedefaults\":{\"line\":{\"color\":\"#2a3f5f\"}},\"annotationdefaults\":{\"arrowcolor\":\"#2a3f5f\",\"arrowhead\":0,\"arrowwidth\":1},\"geo\":{\"bgcolor\":\"white\",\"landcolor\":\"#E5ECF6\",\"subunitcolor\":\"white\",\"showland\":true,\"showlakes\":true,\"lakecolor\":\"white\"},\"title\":{\"x\":0.05},\"mapbox\":{\"style\":\"light\"}}},\"legend\":{\"tracegroupgap\":0},\"title\":{\"text\":\"\\u003cb\\u003eHierarchical Breakdown of \\\"Technical Performance\\\" Complaints\\u003c\\u002fb\\u003e\",\"x\":0.5},\"sunburstcolorway\":[\"rgb(0,68,27)\",\"rgb(0,109,44)\",\"rgb(35,139,69)\",\"rgb(65,171,93)\",\"rgb(116,196,118)\",\"rgb(161,217,155)\",\"rgb(199,233,192)\",\"rgb(229,245,224)\",\"rgb(247,252,245)\"],\"margin\":{\"t\":50,\"l\":25,\"r\":25,\"b\":25},\"font\":{\"size\":14}},                        {\"responsive\": true}                    ).then(function(){\n                            \nvar gd = document.getElementById('b06b04fa-406f-44af-a6bf-62eab9504c09');\nvar x = new MutationObserver(function (mutations, observer) {{\n        var display = window.getComputedStyle(gd).display;\n        if (!display || display === 'none') {{\n            console.log([gd, 'removed!']);\n            Plotly.purge(gd);\n            observer.disconnect();\n        }}\n}});\n\n// Listen for the removal of the full notebook cells\nvar notebookContainer = gd.closest('#notebook-container');\nif (notebookContainer) {{\n    x.observe(notebookContainer, {childList: true});\n}}\n\n// Listen for the clearing of the current output cell\nvar outputEl = gd.closest('.output');\nif (outputEl) {{\n    x.observe(outputEl, {childList: true});\n}}\n\n                        })                };                            </script>        </div>\n</body>\n</html>"
     },
     "metadata": {},
     "output_type": "display_data"
    }
   ],
   "source": [
    "# --- Breakdown 3: Technical Performance ---\n",
    "create_themed_sunburst(\n",
    "    theme_name=\"Technical Performance\", color_sequence=px.colors.sequential.Greens_r\n",
    ")"
   ]
  },
  {
   "cell_type": "code",
   "execution_count": 35,
   "metadata": {
    "execution": {
     "iopub.execute_input": "2025-07-22T08:37:41.539877Z",
     "iopub.status.busy": "2025-07-22T08:37:41.539297Z",
     "iopub.status.idle": "2025-07-22T08:37:41.598590Z",
     "shell.execute_reply": "2025-07-22T08:37:41.597875Z",
     "shell.execute_reply.started": "2025-07-22T08:37:41.539855Z"
    },
    "trusted": true
   },
   "outputs": [
    {
     "data": {
      "text/html": "<html>\n<head><meta charset=\"utf-8\" /></head>\n<body>\n    <div>            <script src=\"https://cdnjs.cloudflare.com/ajax/libs/mathjax/2.7.5/MathJax.js?config=TeX-AMS-MML_SVG\"></script><script type=\"text/javascript\">if (window.MathJax && window.MathJax.Hub && window.MathJax.Hub.Config) {window.MathJax.Hub.Config({SVG: {font: \"STIX-Web\"}});}</script>                <script type=\"text/javascript\">window.PlotlyConfig = {MathJaxConfig: 'local'};</script>\n        <script charset=\"utf-8\" src=\"https://cdn.plot.ly/plotly-2.35.2.min.js\"></script>                <div id=\"426128ba-c978-4319-b3d7-f2a41020e93f\" class=\"plotly-graph-div\" style=\"height:525px; width:100%;\"></div>            <script type=\"text/javascript\">                                    window.PLOTLYENV=window.PLOTLYENV || {};                                    if (document.getElementById(\"426128ba-c978-4319-b3d7-f2a41020e93f\")) {                    Plotly.newPlot(                        \"426128ba-c978-4319-b3d7-f2a41020e93f\",                        [{\"branchvalues\":\"total\",\"customdata\":[[\"Age Verification (Under 18)\"],[\"Avatar & 3D Model Customization\"],[\"Company Removing Features\"],[\"Language & Translation Issues\"],[\"Mental Health & Therapy Framing\"],[\"Romantic Relationship Features\"],[\"Sending Pictures & Photos\"],[\"Sexual Content & Advertising\"],[\"Voice Call & Audio Features\"],[\"(?)\"]],\"domain\":{\"x\":[0.0,1.0],\"y\":[0.0,1.0]},\"hovertemplate\":\"labels=%{label}\\u003cbr\\u003ecount=%{value}\\u003cbr\\u003eparent=%{parent}\\u003cbr\\u003eid=%{id}\\u003cbr\\u003etopic_name=%{customdata[0]}\\u003cextra\\u003e\\u003c\\u002fextra\\u003e\",\"ids\":[\"Feature-Specific Issues\\u002fAge Verification (Under 18)\",\"Feature-Specific Issues\\u002fAvatar & 3D Model Customization\",\"Feature-Specific Issues\\u002fCompany Removing Features\",\"Feature-Specific Issues\\u002fLanguage & Translation Issues\",\"Feature-Specific Issues\\u002fMental Health & Therapy Framing\",\"Feature-Specific Issues\\u002fRomantic Relationship Features\",\"Feature-Specific Issues\\u002fSending Pictures & Photos\",\"Feature-Specific Issues\\u002fSexual Content & Advertising\",\"Feature-Specific Issues\\u002fVoice Call & Audio Features\",\"Feature-Specific Issues\"],\"labels\":[\"Age Verification (Under 18)\",\"Avatar & 3D Model Customization\",\"Company Removing Features\",\"Language & Translation Issues\",\"Mental Health & Therapy Framing\",\"Romantic Relationship Features\",\"Sending Pictures & Photos\",\"Sexual Content & Advertising\",\"Voice Call & Audio Features\",\"Feature-Specific Issues\"],\"marker\":{\"colors\":[\"rgb(127,39,4)\",\"rgb(166,54,3)\",\"rgb(217,72,1)\",\"rgb(241,105,19)\",\"rgb(253,141,60)\",\"rgb(253,174,107)\",\"rgb(253,208,162)\",\"rgb(254,230,206)\",\"rgb(255,245,235)\",\"rgb(127,39,4)\"]},\"name\":\"\",\"parents\":[\"Feature-Specific Issues\",\"Feature-Specific Issues\",\"Feature-Specific Issues\",\"Feature-Specific Issues\",\"Feature-Specific Issues\",\"Feature-Specific Issues\",\"Feature-Specific Issues\",\"Feature-Specific Issues\",\"Feature-Specific Issues\",\"\"],\"values\":[68,529,91,53,534,134,86,134,136,1765],\"type\":\"sunburst\"}],                        {\"template\":{\"data\":{\"histogram2dcontour\":[{\"type\":\"histogram2dcontour\",\"colorbar\":{\"outlinewidth\":0,\"ticks\":\"\"},\"colorscale\":[[0.0,\"#0d0887\"],[0.1111111111111111,\"#46039f\"],[0.2222222222222222,\"#7201a8\"],[0.3333333333333333,\"#9c179e\"],[0.4444444444444444,\"#bd3786\"],[0.5555555555555556,\"#d8576b\"],[0.6666666666666666,\"#ed7953\"],[0.7777777777777778,\"#fb9f3a\"],[0.8888888888888888,\"#fdca26\"],[1.0,\"#f0f921\"]]}],\"choropleth\":[{\"type\":\"choropleth\",\"colorbar\":{\"outlinewidth\":0,\"ticks\":\"\"}}],\"histogram2d\":[{\"type\":\"histogram2d\",\"colorbar\":{\"outlinewidth\":0,\"ticks\":\"\"},\"colorscale\":[[0.0,\"#0d0887\"],[0.1111111111111111,\"#46039f\"],[0.2222222222222222,\"#7201a8\"],[0.3333333333333333,\"#9c179e\"],[0.4444444444444444,\"#bd3786\"],[0.5555555555555556,\"#d8576b\"],[0.6666666666666666,\"#ed7953\"],[0.7777777777777778,\"#fb9f3a\"],[0.8888888888888888,\"#fdca26\"],[1.0,\"#f0f921\"]]}],\"heatmap\":[{\"type\":\"heatmap\",\"colorbar\":{\"outlinewidth\":0,\"ticks\":\"\"},\"colorscale\":[[0.0,\"#0d0887\"],[0.1111111111111111,\"#46039f\"],[0.2222222222222222,\"#7201a8\"],[0.3333333333333333,\"#9c179e\"],[0.4444444444444444,\"#bd3786\"],[0.5555555555555556,\"#d8576b\"],[0.6666666666666666,\"#ed7953\"],[0.7777777777777778,\"#fb9f3a\"],[0.8888888888888888,\"#fdca26\"],[1.0,\"#f0f921\"]]}],\"heatmapgl\":[{\"type\":\"heatmapgl\",\"colorbar\":{\"outlinewidth\":0,\"ticks\":\"\"},\"colorscale\":[[0.0,\"#0d0887\"],[0.1111111111111111,\"#46039f\"],[0.2222222222222222,\"#7201a8\"],[0.3333333333333333,\"#9c179e\"],[0.4444444444444444,\"#bd3786\"],[0.5555555555555556,\"#d8576b\"],[0.6666666666666666,\"#ed7953\"],[0.7777777777777778,\"#fb9f3a\"],[0.8888888888888888,\"#fdca26\"],[1.0,\"#f0f921\"]]}],\"contourcarpet\":[{\"type\":\"contourcarpet\",\"colorbar\":{\"outlinewidth\":0,\"ticks\":\"\"}}],\"contour\":[{\"type\":\"contour\",\"colorbar\":{\"outlinewidth\":0,\"ticks\":\"\"},\"colorscale\":[[0.0,\"#0d0887\"],[0.1111111111111111,\"#46039f\"],[0.2222222222222222,\"#7201a8\"],[0.3333333333333333,\"#9c179e\"],[0.4444444444444444,\"#bd3786\"],[0.5555555555555556,\"#d8576b\"],[0.6666666666666666,\"#ed7953\"],[0.7777777777777778,\"#fb9f3a\"],[0.8888888888888888,\"#fdca26\"],[1.0,\"#f0f921\"]]}],\"surface\":[{\"type\":\"surface\",\"colorbar\":{\"outlinewidth\":0,\"ticks\":\"\"},\"colorscale\":[[0.0,\"#0d0887\"],[0.1111111111111111,\"#46039f\"],[0.2222222222222222,\"#7201a8\"],[0.3333333333333333,\"#9c179e\"],[0.4444444444444444,\"#bd3786\"],[0.5555555555555556,\"#d8576b\"],[0.6666666666666666,\"#ed7953\"],[0.7777777777777778,\"#fb9f3a\"],[0.8888888888888888,\"#fdca26\"],[1.0,\"#f0f921\"]]}],\"mesh3d\":[{\"type\":\"mesh3d\",\"colorbar\":{\"outlinewidth\":0,\"ticks\":\"\"}}],\"scatter\":[{\"fillpattern\":{\"fillmode\":\"overlay\",\"size\":10,\"solidity\":0.2},\"type\":\"scatter\"}],\"parcoords\":[{\"type\":\"parcoords\",\"line\":{\"colorbar\":{\"outlinewidth\":0,\"ticks\":\"\"}}}],\"scatterpolargl\":[{\"type\":\"scatterpolargl\",\"marker\":{\"colorbar\":{\"outlinewidth\":0,\"ticks\":\"\"}}}],\"bar\":[{\"error_x\":{\"color\":\"#2a3f5f\"},\"error_y\":{\"color\":\"#2a3f5f\"},\"marker\":{\"line\":{\"color\":\"#E5ECF6\",\"width\":0.5},\"pattern\":{\"fillmode\":\"overlay\",\"size\":10,\"solidity\":0.2}},\"type\":\"bar\"}],\"scattergeo\":[{\"type\":\"scattergeo\",\"marker\":{\"colorbar\":{\"outlinewidth\":0,\"ticks\":\"\"}}}],\"scatterpolar\":[{\"type\":\"scatterpolar\",\"marker\":{\"colorbar\":{\"outlinewidth\":0,\"ticks\":\"\"}}}],\"histogram\":[{\"marker\":{\"pattern\":{\"fillmode\":\"overlay\",\"size\":10,\"solidity\":0.2}},\"type\":\"histogram\"}],\"scattergl\":[{\"type\":\"scattergl\",\"marker\":{\"colorbar\":{\"outlinewidth\":0,\"ticks\":\"\"}}}],\"scatter3d\":[{\"type\":\"scatter3d\",\"line\":{\"colorbar\":{\"outlinewidth\":0,\"ticks\":\"\"}},\"marker\":{\"colorbar\":{\"outlinewidth\":0,\"ticks\":\"\"}}}],\"scattermapbox\":[{\"type\":\"scattermapbox\",\"marker\":{\"colorbar\":{\"outlinewidth\":0,\"ticks\":\"\"}}}],\"scatterternary\":[{\"type\":\"scatterternary\",\"marker\":{\"colorbar\":{\"outlinewidth\":0,\"ticks\":\"\"}}}],\"scattercarpet\":[{\"type\":\"scattercarpet\",\"marker\":{\"colorbar\":{\"outlinewidth\":0,\"ticks\":\"\"}}}],\"carpet\":[{\"aaxis\":{\"endlinecolor\":\"#2a3f5f\",\"gridcolor\":\"white\",\"linecolor\":\"white\",\"minorgridcolor\":\"white\",\"startlinecolor\":\"#2a3f5f\"},\"baxis\":{\"endlinecolor\":\"#2a3f5f\",\"gridcolor\":\"white\",\"linecolor\":\"white\",\"minorgridcolor\":\"white\",\"startlinecolor\":\"#2a3f5f\"},\"type\":\"carpet\"}],\"table\":[{\"cells\":{\"fill\":{\"color\":\"#EBF0F8\"},\"line\":{\"color\":\"white\"}},\"header\":{\"fill\":{\"color\":\"#C8D4E3\"},\"line\":{\"color\":\"white\"}},\"type\":\"table\"}],\"barpolar\":[{\"marker\":{\"line\":{\"color\":\"#E5ECF6\",\"width\":0.5},\"pattern\":{\"fillmode\":\"overlay\",\"size\":10,\"solidity\":0.2}},\"type\":\"barpolar\"}],\"pie\":[{\"automargin\":true,\"type\":\"pie\"}]},\"layout\":{\"autotypenumbers\":\"strict\",\"colorway\":[\"#636efa\",\"#EF553B\",\"#00cc96\",\"#ab63fa\",\"#FFA15A\",\"#19d3f3\",\"#FF6692\",\"#B6E880\",\"#FF97FF\",\"#FECB52\"],\"font\":{\"color\":\"#2a3f5f\"},\"hovermode\":\"closest\",\"hoverlabel\":{\"align\":\"left\"},\"paper_bgcolor\":\"white\",\"plot_bgcolor\":\"#E5ECF6\",\"polar\":{\"bgcolor\":\"#E5ECF6\",\"angularaxis\":{\"gridcolor\":\"white\",\"linecolor\":\"white\",\"ticks\":\"\"},\"radialaxis\":{\"gridcolor\":\"white\",\"linecolor\":\"white\",\"ticks\":\"\"}},\"ternary\":{\"bgcolor\":\"#E5ECF6\",\"aaxis\":{\"gridcolor\":\"white\",\"linecolor\":\"white\",\"ticks\":\"\"},\"baxis\":{\"gridcolor\":\"white\",\"linecolor\":\"white\",\"ticks\":\"\"},\"caxis\":{\"gridcolor\":\"white\",\"linecolor\":\"white\",\"ticks\":\"\"}},\"coloraxis\":{\"colorbar\":{\"outlinewidth\":0,\"ticks\":\"\"}},\"colorscale\":{\"sequential\":[[0.0,\"#0d0887\"],[0.1111111111111111,\"#46039f\"],[0.2222222222222222,\"#7201a8\"],[0.3333333333333333,\"#9c179e\"],[0.4444444444444444,\"#bd3786\"],[0.5555555555555556,\"#d8576b\"],[0.6666666666666666,\"#ed7953\"],[0.7777777777777778,\"#fb9f3a\"],[0.8888888888888888,\"#fdca26\"],[1.0,\"#f0f921\"]],\"sequentialminus\":[[0.0,\"#0d0887\"],[0.1111111111111111,\"#46039f\"],[0.2222222222222222,\"#7201a8\"],[0.3333333333333333,\"#9c179e\"],[0.4444444444444444,\"#bd3786\"],[0.5555555555555556,\"#d8576b\"],[0.6666666666666666,\"#ed7953\"],[0.7777777777777778,\"#fb9f3a\"],[0.8888888888888888,\"#fdca26\"],[1.0,\"#f0f921\"]],\"diverging\":[[0,\"#8e0152\"],[0.1,\"#c51b7d\"],[0.2,\"#de77ae\"],[0.3,\"#f1b6da\"],[0.4,\"#fde0ef\"],[0.5,\"#f7f7f7\"],[0.6,\"#e6f5d0\"],[0.7,\"#b8e186\"],[0.8,\"#7fbc41\"],[0.9,\"#4d9221\"],[1,\"#276419\"]]},\"xaxis\":{\"gridcolor\":\"white\",\"linecolor\":\"white\",\"ticks\":\"\",\"title\":{\"standoff\":15},\"zerolinecolor\":\"white\",\"automargin\":true,\"zerolinewidth\":2},\"yaxis\":{\"gridcolor\":\"white\",\"linecolor\":\"white\",\"ticks\":\"\",\"title\":{\"standoff\":15},\"zerolinecolor\":\"white\",\"automargin\":true,\"zerolinewidth\":2},\"scene\":{\"xaxis\":{\"backgroundcolor\":\"#E5ECF6\",\"gridcolor\":\"white\",\"linecolor\":\"white\",\"showbackground\":true,\"ticks\":\"\",\"zerolinecolor\":\"white\",\"gridwidth\":2},\"yaxis\":{\"backgroundcolor\":\"#E5ECF6\",\"gridcolor\":\"white\",\"linecolor\":\"white\",\"showbackground\":true,\"ticks\":\"\",\"zerolinecolor\":\"white\",\"gridwidth\":2},\"zaxis\":{\"backgroundcolor\":\"#E5ECF6\",\"gridcolor\":\"white\",\"linecolor\":\"white\",\"showbackground\":true,\"ticks\":\"\",\"zerolinecolor\":\"white\",\"gridwidth\":2}},\"shapedefaults\":{\"line\":{\"color\":\"#2a3f5f\"}},\"annotationdefaults\":{\"arrowcolor\":\"#2a3f5f\",\"arrowhead\":0,\"arrowwidth\":1},\"geo\":{\"bgcolor\":\"white\",\"landcolor\":\"#E5ECF6\",\"subunitcolor\":\"white\",\"showland\":true,\"showlakes\":true,\"lakecolor\":\"white\"},\"title\":{\"x\":0.05},\"mapbox\":{\"style\":\"light\"}}},\"legend\":{\"tracegroupgap\":0},\"title\":{\"text\":\"\\u003cb\\u003eHierarchical Breakdown of \\\"Feature-Specific Issues\\\" Complaints\\u003c\\u002fb\\u003e\",\"x\":0.5},\"sunburstcolorway\":[\"rgb(127,39,4)\",\"rgb(166,54,3)\",\"rgb(217,72,1)\",\"rgb(241,105,19)\",\"rgb(253,141,60)\",\"rgb(253,174,107)\",\"rgb(253,208,162)\",\"rgb(254,230,206)\",\"rgb(255,245,235)\"],\"margin\":{\"t\":50,\"l\":25,\"r\":25,\"b\":25},\"font\":{\"size\":14}},                        {\"responsive\": true}                    ).then(function(){\n                            \nvar gd = document.getElementById('426128ba-c978-4319-b3d7-f2a41020e93f');\nvar x = new MutationObserver(function (mutations, observer) {{\n        var display = window.getComputedStyle(gd).display;\n        if (!display || display === 'none') {{\n            console.log([gd, 'removed!']);\n            Plotly.purge(gd);\n            observer.disconnect();\n        }}\n}});\n\n// Listen for the removal of the full notebook cells\nvar notebookContainer = gd.closest('#notebook-container');\nif (notebookContainer) {{\n    x.observe(notebookContainer, {childList: true});\n}}\n\n// Listen for the clearing of the current output cell\nvar outputEl = gd.closest('.output');\nif (outputEl) {{\n    x.observe(outputEl, {childList: true});\n}}\n\n                        })                };                            </script>        </div>\n</body>\n</html>"
     },
     "metadata": {},
     "output_type": "display_data"
    }
   ],
   "source": [
    "# --- Breakdown 4: Feature-Specific Issues ---\n",
    "create_themed_sunburst(\n",
    "    theme_name=\"Feature-Specific Issues\", color_sequence=px.colors.sequential.Oranges_r\n",
    ")"
   ]
  },
  {
   "cell_type": "markdown",
   "metadata": {},
   "source": "### Insight 2: When Did Things Go Wrong?\n\nThis time series analysis tracks complaint themes month-by-month. By annotating the chart with real-world events, we can find the \"smoking gun\" connecting product decisions to spikes in user frustration."
  },
  {
   "cell_type": "code",
   "execution_count": 36,
   "metadata": {
    "execution": {
     "iopub.execute_input": "2025-07-22T08:37:43.859065Z",
     "iopub.status.busy": "2025-07-22T08:37:43.858377Z",
     "iopub.status.idle": "2025-07-22T08:37:43.879482Z",
     "shell.execute_reply": "2025-07-22T08:37:43.878932Z",
     "shell.execute_reply.started": "2025-07-22T08:37:43.859041Z"
    },
    "trusted": true
   },
   "outputs": [
    {
     "name": "stdout",
     "output_type": "stream",
     "text": "Data is ready for time series analysis.\n"
    }
   ],
   "source": [
    "# This assumes 'df' is your final, themed conversational apps DataFrame.\n",
    "# Ensure the 'date' column is in datetime format. This is crucial.\n",
    "df[\"date\"] = pd.to_datetime(df[\"date\"], errors=\"coerce\")\n",
    "df.dropna(subset=[\"date\"], inplace=True)\n",
    "\n",
    "# Filter out the themes we don't want to track\n",
    "plot_df_time = df[\n",
    "    ~df[\"theme\"].isin([\"Outliers / Generic\", \"Other/Misc.\", \"Uncategorized\"])\n",
    "]\n",
    "\n",
    "print(\"Data is ready for time series analysis.\")"
   ]
  },
  {
   "cell_type": "code",
   "execution_count": 37,
   "metadata": {
    "execution": {
     "iopub.execute_input": "2025-07-22T08:37:46.886031Z",
     "iopub.status.busy": "2025-07-22T08:37:46.885767Z",
     "iopub.status.idle": "2025-07-22T08:37:46.914037Z",
     "shell.execute_reply": "2025-07-22T08:37:46.913427Z",
     "shell.execute_reply.started": "2025-07-22T08:37:46.886011Z"
    },
    "trusted": true
   },
   "outputs": [
    {
     "name": "stdout",
     "output_type": "stream",
     "text": "--- Monthly Complaint Counts by Theme ---\n"
    },
    {
     "data": {
      "text/html": "<div>\n<style scoped>\n    .dataframe tbody tr th:only-of-type {\n        vertical-align: middle;\n    }\n\n    .dataframe tbody tr th {\n        vertical-align: top;\n    }\n\n    .dataframe thead th {\n        text-align: right;\n    }\n</style>\n<table border=\"1\" class=\"dataframe\">\n  <thead>\n    <tr style=\"text-align: right;\">\n      <th></th>\n      <th>date</th>\n      <th>theme</th>\n      <th>review_count</th>\n      <th>month</th>\n    </tr>\n  </thead>\n  <tbody>\n    <tr>\n      <th>0</th>\n      <td>2022-01-31</td>\n      <td>AI Performance &amp; Quality</td>\n      <td>35</td>\n      <td>2022-01-01</td>\n    </tr>\n    <tr>\n      <th>1</th>\n      <td>2022-01-31</td>\n      <td>Feature-Specific Issues</td>\n      <td>60</td>\n      <td>2022-01-01</td>\n    </tr>\n    <tr>\n      <th>2</th>\n      <td>2022-01-31</td>\n      <td>Monetization &amp; Value</td>\n      <td>92</td>\n      <td>2022-01-01</td>\n    </tr>\n    <tr>\n      <th>3</th>\n      <td>2022-01-31</td>\n      <td>Technical Performance</td>\n      <td>54</td>\n      <td>2022-01-01</td>\n    </tr>\n    <tr>\n      <th>4</th>\n      <td>2022-02-28</td>\n      <td>AI Performance &amp; Quality</td>\n      <td>53</td>\n      <td>2022-02-01</td>\n    </tr>\n  </tbody>\n</table>\n</div>",
      "text/plain": "        date                     theme  review_count      month\n0 2022-01-31  AI Performance & Quality            35 2022-01-01\n1 2022-01-31   Feature-Specific Issues            60 2022-01-01\n2 2022-01-31      Monetization & Value            92 2022-01-01\n3 2022-01-31     Technical Performance            54 2022-01-01\n4 2022-02-28  AI Performance & Quality            53 2022-02-01"
     },
     "metadata": {},
     "output_type": "display_data"
    }
   ],
   "source": [
    "# Group the data by month and by theme, then count the number of reviews.\n",
    "# .Grouper is the perfect tool for this.\n",
    "monthly_trends = (\n",
    "    plot_df_time.groupby([pd.Grouper(key=\"date\", freq=\"M\"), \"theme\"])\n",
    "    .size()\n",
    "    .reset_index(name=\"review_count\")\n",
    ")\n",
    "\n",
    "# Rename the date to be the start of the month for cleaner plotting\n",
    "monthly_trends[\"month\"] = monthly_trends[\"date\"].dt.to_period(\"M\").dt.to_timestamp()\n",
    "\n",
    "print(\"--- Monthly Complaint Counts by Theme ---\")\n",
    "display(monthly_trends.head())"
   ]
  },
  {
   "cell_type": "code",
   "execution_count": 38,
   "metadata": {
    "execution": {
     "iopub.execute_input": "2025-07-22T08:37:53.171006Z",
     "iopub.status.busy": "2025-07-22T08:37:53.170740Z",
     "iopub.status.idle": "2025-07-22T08:37:53.250704Z",
     "shell.execute_reply": "2025-07-22T08:37:53.250102Z",
     "shell.execute_reply.started": "2025-07-22T08:37:53.170988Z"
    },
    "trusted": true
   },
   "outputs": [
    {
     "data": {
      "text/html": "<html>\n<head><meta charset=\"utf-8\" /></head>\n<body>\n    <div>            <script src=\"https://cdnjs.cloudflare.com/ajax/libs/mathjax/2.7.5/MathJax.js?config=TeX-AMS-MML_SVG\"></script><script type=\"text/javascript\">if (window.MathJax && window.MathJax.Hub && window.MathJax.Hub.Config) {window.MathJax.Hub.Config({SVG: {font: \"STIX-Web\"}});}</script>                <script type=\"text/javascript\">window.PlotlyConfig = {MathJaxConfig: 'local'};</script>\n        <script charset=\"utf-8\" src=\"https://cdn.plot.ly/plotly-2.35.2.min.js\"></script>                <div id=\"626c1f9f-a57a-4ba7-b063-1158aae4e2e8\" class=\"plotly-graph-div\" style=\"height:525px; width:100%;\"></div>            <script type=\"text/javascript\">                                    window.PLOTLYENV=window.PLOTLYENV || {};                                    if (document.getElementById(\"626c1f9f-a57a-4ba7-b063-1158aae4e2e8\")) {                    Plotly.newPlot(                        \"626c1f9f-a57a-4ba7-b063-1158aae4e2e8\",                        [{\"hovertemplate\":\"theme=AI Performance & Quality\\u003cbr\\u003eMonth=%{x}\\u003cbr\\u003eNumber of Negative Reviews=%{y}\\u003cextra\\u003e\\u003c\\u002fextra\\u003e\",\"legendgroup\":\"AI Performance & Quality\",\"line\":{\"color\":\"#636efa\",\"dash\":\"solid\"},\"marker\":{\"symbol\":\"circle\"},\"mode\":\"lines\",\"name\":\"AI Performance & Quality\",\"orientation\":\"v\",\"showlegend\":true,\"x\":[\"2022-01-01T00:00:00\",\"2022-02-01T00:00:00\",\"2022-03-01T00:00:00\",\"2022-04-01T00:00:00\",\"2022-05-01T00:00:00\",\"2022-06-01T00:00:00\",\"2022-07-01T00:00:00\",\"2022-08-01T00:00:00\",\"2022-09-01T00:00:00\",\"2022-10-01T00:00:00\",\"2022-11-01T00:00:00\",\"2022-12-01T00:00:00\",\"2023-01-01T00:00:00\",\"2023-02-01T00:00:00\",\"2023-03-01T00:00:00\",\"2023-04-01T00:00:00\",\"2023-05-01T00:00:00\",\"2023-06-01T00:00:00\",\"2023-07-01T00:00:00\",\"2023-08-01T00:00:00\",\"2023-09-01T00:00:00\",\"2023-10-01T00:00:00\",\"2023-11-01T00:00:00\",\"2023-12-01T00:00:00\",\"2024-01-01T00:00:00\",\"2024-02-01T00:00:00\",\"2024-03-01T00:00:00\",\"2024-04-01T00:00:00\",\"2024-05-01T00:00:00\",\"2024-06-01T00:00:00\",\"2024-07-01T00:00:00\",\"2024-08-01T00:00:00\",\"2024-09-01T00:00:00\",\"2024-10-01T00:00:00\",\"2024-11-01T00:00:00\",\"2024-12-01T00:00:00\",\"2025-01-01T00:00:00\",\"2025-02-01T00:00:00\",\"2025-03-01T00:00:00\",\"2025-04-01T00:00:00\",\"2025-05-01T00:00:00\",\"2025-06-01T00:00:00\"],\"xaxis\":\"x\",\"y\":[35,53,40,61,52,68,61,55,53,62,58,63,87,208,91,76,67,41,40,52,26,25,29,33,33,32,38,17,18,13,18,9,20,15,14,16,17,19,17,15,26,24],\"yaxis\":\"y\",\"type\":\"scatter\"},{\"hovertemplate\":\"theme=Feature-Specific Issues\\u003cbr\\u003eMonth=%{x}\\u003cbr\\u003eNumber of Negative Reviews=%{y}\\u003cextra\\u003e\\u003c\\u002fextra\\u003e\",\"legendgroup\":\"Feature-Specific Issues\",\"line\":{\"color\":\"#EF553B\",\"dash\":\"solid\"},\"marker\":{\"symbol\":\"circle\"},\"mode\":\"lines\",\"name\":\"Feature-Specific Issues\",\"orientation\":\"v\",\"showlegend\":true,\"x\":[\"2022-01-01T00:00:00\",\"2022-02-01T00:00:00\",\"2022-03-01T00:00:00\",\"2022-04-01T00:00:00\",\"2022-05-01T00:00:00\",\"2022-06-01T00:00:00\",\"2022-07-01T00:00:00\",\"2022-08-01T00:00:00\",\"2022-09-01T00:00:00\",\"2022-10-01T00:00:00\",\"2022-11-01T00:00:00\",\"2022-12-01T00:00:00\",\"2023-01-01T00:00:00\",\"2023-02-01T00:00:00\",\"2023-03-01T00:00:00\",\"2023-04-01T00:00:00\",\"2023-05-01T00:00:00\",\"2023-06-01T00:00:00\",\"2023-07-01T00:00:00\",\"2023-08-01T00:00:00\",\"2023-09-01T00:00:00\",\"2023-10-01T00:00:00\",\"2023-11-01T00:00:00\",\"2023-12-01T00:00:00\",\"2024-01-01T00:00:00\",\"2024-02-01T00:00:00\",\"2024-03-01T00:00:00\",\"2024-04-01T00:00:00\",\"2024-05-01T00:00:00\",\"2024-06-01T00:00:00\",\"2024-07-01T00:00:00\",\"2024-08-01T00:00:00\",\"2024-09-01T00:00:00\",\"2024-10-01T00:00:00\",\"2024-11-01T00:00:00\",\"2024-12-01T00:00:00\",\"2025-01-01T00:00:00\",\"2025-02-01T00:00:00\",\"2025-03-01T00:00:00\",\"2025-04-01T00:00:00\",\"2025-05-01T00:00:00\",\"2025-06-01T00:00:00\"],\"xaxis\":\"x\",\"y\":[60,65,54,52,57,63,65,58,50,48,49,91,76,157,57,61,42,43,29,43,28,32,24,35,36,29,25,22,18,12,8,21,19,14,25,13,22,27,23,22,46,44],\"yaxis\":\"y\",\"type\":\"scatter\"},{\"hovertemplate\":\"theme=Monetization & Value\\u003cbr\\u003eMonth=%{x}\\u003cbr\\u003eNumber of Negative Reviews=%{y}\\u003cextra\\u003e\\u003c\\u002fextra\\u003e\",\"legendgroup\":\"Monetization & Value\",\"line\":{\"color\":\"#00cc96\",\"dash\":\"solid\"},\"marker\":{\"symbol\":\"circle\"},\"mode\":\"lines\",\"name\":\"Monetization & Value\",\"orientation\":\"v\",\"showlegend\":true,\"x\":[\"2022-01-01T00:00:00\",\"2022-02-01T00:00:00\",\"2022-03-01T00:00:00\",\"2022-04-01T00:00:00\",\"2022-05-01T00:00:00\",\"2022-06-01T00:00:00\",\"2022-07-01T00:00:00\",\"2022-08-01T00:00:00\",\"2022-09-01T00:00:00\",\"2022-10-01T00:00:00\",\"2022-11-01T00:00:00\",\"2022-12-01T00:00:00\",\"2023-01-01T00:00:00\",\"2023-02-01T00:00:00\",\"2023-03-01T00:00:00\",\"2023-04-01T00:00:00\",\"2023-05-01T00:00:00\",\"2023-06-01T00:00:00\",\"2023-07-01T00:00:00\",\"2023-08-01T00:00:00\",\"2023-09-01T00:00:00\",\"2023-10-01T00:00:00\",\"2023-11-01T00:00:00\",\"2023-12-01T00:00:00\",\"2024-01-01T00:00:00\",\"2024-02-01T00:00:00\",\"2024-03-01T00:00:00\",\"2024-04-01T00:00:00\",\"2024-05-01T00:00:00\",\"2024-06-01T00:00:00\",\"2024-07-01T00:00:00\",\"2024-08-01T00:00:00\",\"2024-09-01T00:00:00\",\"2024-10-01T00:00:00\",\"2024-11-01T00:00:00\",\"2024-12-01T00:00:00\",\"2025-01-01T00:00:00\",\"2025-02-01T00:00:00\",\"2025-03-01T00:00:00\",\"2025-04-01T00:00:00\",\"2025-05-01T00:00:00\",\"2025-06-01T00:00:00\"],\"xaxis\":\"x\",\"y\":[92,66,59,68,91,161,165,185,188,251,258,249,250,367,142,137,85,105,87,104,56,70,69,81,54,59,43,51,34,23,26,25,27,37,33,25,31,29,25,24,67,52],\"yaxis\":\"y\",\"type\":\"scatter\"},{\"hovertemplate\":\"theme=Technical Performance\\u003cbr\\u003eMonth=%{x}\\u003cbr\\u003eNumber of Negative Reviews=%{y}\\u003cextra\\u003e\\u003c\\u002fextra\\u003e\",\"legendgroup\":\"Technical Performance\",\"line\":{\"color\":\"#ab63fa\",\"dash\":\"solid\"},\"marker\":{\"symbol\":\"circle\"},\"mode\":\"lines\",\"name\":\"Technical Performance\",\"orientation\":\"v\",\"showlegend\":true,\"x\":[\"2022-01-01T00:00:00\",\"2022-02-01T00:00:00\",\"2022-03-01T00:00:00\",\"2022-04-01T00:00:00\",\"2022-05-01T00:00:00\",\"2022-06-01T00:00:00\",\"2022-07-01T00:00:00\",\"2022-08-01T00:00:00\",\"2022-09-01T00:00:00\",\"2022-10-01T00:00:00\",\"2022-11-01T00:00:00\",\"2022-12-01T00:00:00\",\"2023-01-01T00:00:00\",\"2023-02-01T00:00:00\",\"2023-03-01T00:00:00\",\"2023-04-01T00:00:00\",\"2023-05-01T00:00:00\",\"2023-06-01T00:00:00\",\"2023-07-01T00:00:00\",\"2023-08-01T00:00:00\",\"2023-09-01T00:00:00\",\"2023-10-01T00:00:00\",\"2023-11-01T00:00:00\",\"2023-12-01T00:00:00\",\"2024-01-01T00:00:00\",\"2024-02-01T00:00:00\",\"2024-03-01T00:00:00\",\"2024-04-01T00:00:00\",\"2024-05-01T00:00:00\",\"2024-06-01T00:00:00\",\"2024-07-01T00:00:00\",\"2024-08-01T00:00:00\",\"2024-09-01T00:00:00\",\"2024-10-01T00:00:00\",\"2024-11-01T00:00:00\",\"2024-12-01T00:00:00\",\"2025-01-01T00:00:00\",\"2025-02-01T00:00:00\",\"2025-03-01T00:00:00\",\"2025-04-01T00:00:00\",\"2025-05-01T00:00:00\",\"2025-06-01T00:00:00\"],\"xaxis\":\"x\",\"y\":[54,86,70,36,30,29,40,28,48,49,51,50,44,194,81,97,48,42,31,28,16,15,20,13,23,10,9,10,11,7,15,11,8,3,9,9,12,9,10,8,21,6],\"yaxis\":\"y\",\"type\":\"scatter\"}],                        {\"template\":{\"data\":{\"barpolar\":[{\"marker\":{\"line\":{\"color\":\"white\",\"width\":0.5},\"pattern\":{\"fillmode\":\"overlay\",\"size\":10,\"solidity\":0.2}},\"type\":\"barpolar\"}],\"bar\":[{\"error_x\":{\"color\":\"#2a3f5f\"},\"error_y\":{\"color\":\"#2a3f5f\"},\"marker\":{\"line\":{\"color\":\"white\",\"width\":0.5},\"pattern\":{\"fillmode\":\"overlay\",\"size\":10,\"solidity\":0.2}},\"type\":\"bar\"}],\"carpet\":[{\"aaxis\":{\"endlinecolor\":\"#2a3f5f\",\"gridcolor\":\"#C8D4E3\",\"linecolor\":\"#C8D4E3\",\"minorgridcolor\":\"#C8D4E3\",\"startlinecolor\":\"#2a3f5f\"},\"baxis\":{\"endlinecolor\":\"#2a3f5f\",\"gridcolor\":\"#C8D4E3\",\"linecolor\":\"#C8D4E3\",\"minorgridcolor\":\"#C8D4E3\",\"startlinecolor\":\"#2a3f5f\"},\"type\":\"carpet\"}],\"choropleth\":[{\"colorbar\":{\"outlinewidth\":0,\"ticks\":\"\"},\"type\":\"choropleth\"}],\"contourcarpet\":[{\"colorbar\":{\"outlinewidth\":0,\"ticks\":\"\"},\"type\":\"contourcarpet\"}],\"contour\":[{\"colorbar\":{\"outlinewidth\":0,\"ticks\":\"\"},\"colorscale\":[[0.0,\"#0d0887\"],[0.1111111111111111,\"#46039f\"],[0.2222222222222222,\"#7201a8\"],[0.3333333333333333,\"#9c179e\"],[0.4444444444444444,\"#bd3786\"],[0.5555555555555556,\"#d8576b\"],[0.6666666666666666,\"#ed7953\"],[0.7777777777777778,\"#fb9f3a\"],[0.8888888888888888,\"#fdca26\"],[1.0,\"#f0f921\"]],\"type\":\"contour\"}],\"heatmapgl\":[{\"colorbar\":{\"outlinewidth\":0,\"ticks\":\"\"},\"colorscale\":[[0.0,\"#0d0887\"],[0.1111111111111111,\"#46039f\"],[0.2222222222222222,\"#7201a8\"],[0.3333333333333333,\"#9c179e\"],[0.4444444444444444,\"#bd3786\"],[0.5555555555555556,\"#d8576b\"],[0.6666666666666666,\"#ed7953\"],[0.7777777777777778,\"#fb9f3a\"],[0.8888888888888888,\"#fdca26\"],[1.0,\"#f0f921\"]],\"type\":\"heatmapgl\"}],\"heatmap\":[{\"colorbar\":{\"outlinewidth\":0,\"ticks\":\"\"},\"colorscale\":[[0.0,\"#0d0887\"],[0.1111111111111111,\"#46039f\"],[0.2222222222222222,\"#7201a8\"],[0.3333333333333333,\"#9c179e\"],[0.4444444444444444,\"#bd3786\"],[0.5555555555555556,\"#d8576b\"],[0.6666666666666666,\"#ed7953\"],[0.7777777777777778,\"#fb9f3a\"],[0.8888888888888888,\"#fdca26\"],[1.0,\"#f0f921\"]],\"type\":\"heatmap\"}],\"histogram2dcontour\":[{\"colorbar\":{\"outlinewidth\":0,\"ticks\":\"\"},\"colorscale\":[[0.0,\"#0d0887\"],[0.1111111111111111,\"#46039f\"],[0.2222222222222222,\"#7201a8\"],[0.3333333333333333,\"#9c179e\"],[0.4444444444444444,\"#bd3786\"],[0.5555555555555556,\"#d8576b\"],[0.6666666666666666,\"#ed7953\"],[0.7777777777777778,\"#fb9f3a\"],[0.8888888888888888,\"#fdca26\"],[1.0,\"#f0f921\"]],\"type\":\"histogram2dcontour\"}],\"histogram2d\":[{\"colorbar\":{\"outlinewidth\":0,\"ticks\":\"\"},\"colorscale\":[[0.0,\"#0d0887\"],[0.1111111111111111,\"#46039f\"],[0.2222222222222222,\"#7201a8\"],[0.3333333333333333,\"#9c179e\"],[0.4444444444444444,\"#bd3786\"],[0.5555555555555556,\"#d8576b\"],[0.6666666666666666,\"#ed7953\"],[0.7777777777777778,\"#fb9f3a\"],[0.8888888888888888,\"#fdca26\"],[1.0,\"#f0f921\"]],\"type\":\"histogram2d\"}],\"histogram\":[{\"marker\":{\"pattern\":{\"fillmode\":\"overlay\",\"size\":10,\"solidity\":0.2}},\"type\":\"histogram\"}],\"mesh3d\":[{\"colorbar\":{\"outlinewidth\":0,\"ticks\":\"\"},\"type\":\"mesh3d\"}],\"parcoords\":[{\"line\":{\"colorbar\":{\"outlinewidth\":0,\"ticks\":\"\"}},\"type\":\"parcoords\"}],\"pie\":[{\"automargin\":true,\"type\":\"pie\"}],\"scatter3d\":[{\"line\":{\"colorbar\":{\"outlinewidth\":0,\"ticks\":\"\"}},\"marker\":{\"colorbar\":{\"outlinewidth\":0,\"ticks\":\"\"}},\"type\":\"scatter3d\"}],\"scattercarpet\":[{\"marker\":{\"colorbar\":{\"outlinewidth\":0,\"ticks\":\"\"}},\"type\":\"scattercarpet\"}],\"scattergeo\":[{\"marker\":{\"colorbar\":{\"outlinewidth\":0,\"ticks\":\"\"}},\"type\":\"scattergeo\"}],\"scattergl\":[{\"marker\":{\"colorbar\":{\"outlinewidth\":0,\"ticks\":\"\"}},\"type\":\"scattergl\"}],\"scattermapbox\":[{\"marker\":{\"colorbar\":{\"outlinewidth\":0,\"ticks\":\"\"}},\"type\":\"scattermapbox\"}],\"scatterpolargl\":[{\"marker\":{\"colorbar\":{\"outlinewidth\":0,\"ticks\":\"\"}},\"type\":\"scatterpolargl\"}],\"scatterpolar\":[{\"marker\":{\"colorbar\":{\"outlinewidth\":0,\"ticks\":\"\"}},\"type\":\"scatterpolar\"}],\"scatter\":[{\"fillpattern\":{\"fillmode\":\"overlay\",\"size\":10,\"solidity\":0.2},\"type\":\"scatter\"}],\"scatterternary\":[{\"marker\":{\"colorbar\":{\"outlinewidth\":0,\"ticks\":\"\"}},\"type\":\"scatterternary\"}],\"surface\":[{\"colorbar\":{\"outlinewidth\":0,\"ticks\":\"\"},\"colorscale\":[[0.0,\"#0d0887\"],[0.1111111111111111,\"#46039f\"],[0.2222222222222222,\"#7201a8\"],[0.3333333333333333,\"#9c179e\"],[0.4444444444444444,\"#bd3786\"],[0.5555555555555556,\"#d8576b\"],[0.6666666666666666,\"#ed7953\"],[0.7777777777777778,\"#fb9f3a\"],[0.8888888888888888,\"#fdca26\"],[1.0,\"#f0f921\"]],\"type\":\"surface\"}],\"table\":[{\"cells\":{\"fill\":{\"color\":\"#EBF0F8\"},\"line\":{\"color\":\"white\"}},\"header\":{\"fill\":{\"color\":\"#C8D4E3\"},\"line\":{\"color\":\"white\"}},\"type\":\"table\"}]},\"layout\":{\"annotationdefaults\":{\"arrowcolor\":\"#2a3f5f\",\"arrowhead\":0,\"arrowwidth\":1},\"autotypenumbers\":\"strict\",\"coloraxis\":{\"colorbar\":{\"outlinewidth\":0,\"ticks\":\"\"}},\"colorscale\":{\"diverging\":[[0,\"#8e0152\"],[0.1,\"#c51b7d\"],[0.2,\"#de77ae\"],[0.3,\"#f1b6da\"],[0.4,\"#fde0ef\"],[0.5,\"#f7f7f7\"],[0.6,\"#e6f5d0\"],[0.7,\"#b8e186\"],[0.8,\"#7fbc41\"],[0.9,\"#4d9221\"],[1,\"#276419\"]],\"sequential\":[[0.0,\"#0d0887\"],[0.1111111111111111,\"#46039f\"],[0.2222222222222222,\"#7201a8\"],[0.3333333333333333,\"#9c179e\"],[0.4444444444444444,\"#bd3786\"],[0.5555555555555556,\"#d8576b\"],[0.6666666666666666,\"#ed7953\"],[0.7777777777777778,\"#fb9f3a\"],[0.8888888888888888,\"#fdca26\"],[1.0,\"#f0f921\"]],\"sequentialminus\":[[0.0,\"#0d0887\"],[0.1111111111111111,\"#46039f\"],[0.2222222222222222,\"#7201a8\"],[0.3333333333333333,\"#9c179e\"],[0.4444444444444444,\"#bd3786\"],[0.5555555555555556,\"#d8576b\"],[0.6666666666666666,\"#ed7953\"],[0.7777777777777778,\"#fb9f3a\"],[0.8888888888888888,\"#fdca26\"],[1.0,\"#f0f921\"]]},\"colorway\":[\"#636efa\",\"#EF553B\",\"#00cc96\",\"#ab63fa\",\"#FFA15A\",\"#19d3f3\",\"#FF6692\",\"#B6E880\",\"#FF97FF\",\"#FECB52\"],\"font\":{\"color\":\"#2a3f5f\"},\"geo\":{\"bgcolor\":\"white\",\"lakecolor\":\"white\",\"landcolor\":\"white\",\"showlakes\":true,\"showland\":true,\"subunitcolor\":\"#C8D4E3\"},\"hoverlabel\":{\"align\":\"left\"},\"hovermode\":\"closest\",\"mapbox\":{\"style\":\"light\"},\"paper_bgcolor\":\"white\",\"plot_bgcolor\":\"white\",\"polar\":{\"angularaxis\":{\"gridcolor\":\"#EBF0F8\",\"linecolor\":\"#EBF0F8\",\"ticks\":\"\"},\"bgcolor\":\"white\",\"radialaxis\":{\"gridcolor\":\"#EBF0F8\",\"linecolor\":\"#EBF0F8\",\"ticks\":\"\"}},\"scene\":{\"xaxis\":{\"backgroundcolor\":\"white\",\"gridcolor\":\"#DFE8F3\",\"gridwidth\":2,\"linecolor\":\"#EBF0F8\",\"showbackground\":true,\"ticks\":\"\",\"zerolinecolor\":\"#EBF0F8\"},\"yaxis\":{\"backgroundcolor\":\"white\",\"gridcolor\":\"#DFE8F3\",\"gridwidth\":2,\"linecolor\":\"#EBF0F8\",\"showbackground\":true,\"ticks\":\"\",\"zerolinecolor\":\"#EBF0F8\"},\"zaxis\":{\"backgroundcolor\":\"white\",\"gridcolor\":\"#DFE8F3\",\"gridwidth\":2,\"linecolor\":\"#EBF0F8\",\"showbackground\":true,\"ticks\":\"\",\"zerolinecolor\":\"#EBF0F8\"}},\"shapedefaults\":{\"line\":{\"color\":\"#2a3f5f\"}},\"ternary\":{\"aaxis\":{\"gridcolor\":\"#DFE8F3\",\"linecolor\":\"#A2B1C6\",\"ticks\":\"\"},\"baxis\":{\"gridcolor\":\"#DFE8F3\",\"linecolor\":\"#A2B1C6\",\"ticks\":\"\"},\"bgcolor\":\"white\",\"caxis\":{\"gridcolor\":\"#DFE8F3\",\"linecolor\":\"#A2B1C6\",\"ticks\":\"\"}},\"title\":{\"x\":0.05},\"xaxis\":{\"automargin\":true,\"gridcolor\":\"#EBF0F8\",\"linecolor\":\"#EBF0F8\",\"ticks\":\"\",\"title\":{\"standoff\":15},\"zerolinecolor\":\"#EBF0F8\",\"zerolinewidth\":2},\"yaxis\":{\"automargin\":true,\"gridcolor\":\"#EBF0F8\",\"linecolor\":\"#EBF0F8\",\"ticks\":\"\",\"title\":{\"standoff\":15},\"zerolinecolor\":\"#EBF0F8\",\"zerolinewidth\":2}}},\"xaxis\":{\"anchor\":\"y\",\"domain\":[0.0,1.0],\"title\":{\"text\":\"Month\"}},\"yaxis\":{\"anchor\":\"x\",\"domain\":[0.0,1.0],\"title\":{\"text\":\"Number of Negative Reviews\"}},\"legend\":{\"title\":{\"text\":\"Complaint Theme\"},\"tracegroupgap\":0},\"title\":{\"text\":\"\\u003cb\\u003eEvolution of User Complaints Over Time\\u003c\\u002fb\\u003e\",\"x\":0.5},\"shapes\":[{\"line\":{\"color\":\"red\",\"dash\":\"dash\"},\"type\":\"line\",\"x0\":1675209600000.0,\"x1\":1675209600000.0,\"xref\":\"x\",\"y0\":0,\"y1\":1,\"yref\":\"y domain\"}],\"annotations\":[{\"font\":{\"color\":\"red\"},\"showarrow\":false,\"text\":\"Replika ERP Update\",\"x\":1675209600000.0,\"xanchor\":\"right\",\"xref\":\"x\",\"y\":1,\"yanchor\":\"top\",\"yref\":\"y domain\"}]},                        {\"responsive\": true}                    ).then(function(){\n                            \nvar gd = document.getElementById('626c1f9f-a57a-4ba7-b063-1158aae4e2e8');\nvar x = new MutationObserver(function (mutations, observer) {{\n        var display = window.getComputedStyle(gd).display;\n        if (!display || display === 'none') {{\n            console.log([gd, 'removed!']);\n            Plotly.purge(gd);\n            observer.disconnect();\n        }}\n}});\n\n// Listen for the removal of the full notebook cells\nvar notebookContainer = gd.closest('#notebook-container');\nif (notebookContainer) {{\n    x.observe(notebookContainer, {childList: true});\n}}\n\n// Listen for the clearing of the current output cell\nvar outputEl = gd.closest('.output');\nif (outputEl) {{\n    x.observe(outputEl, {childList: true});\n}}\n\n                        })                };                            </script>        </div>\n</body>\n</html>"
     },
     "metadata": {},
     "output_type": "display_data"
    }
   ],
   "source": [
    "# In your Kaggle Cell\n",
    "\n",
    "# --- Visualization: Complaint Themes Over Time (Final Corrected Version) ---\n",
    "\n",
    "# This part of the code remains the same\n",
    "monthly_trends = (\n",
    "    plot_df_time.groupby([pd.Grouper(key=\"date\", freq=\"M\"), \"theme\"])\n",
    "    .size()\n",
    "    .reset_index(name=\"review_count\")\n",
    ")\n",
    "monthly_trends[\"month\"] = monthly_trends[\"date\"].dt.to_period(\"M\").dt.to_timestamp()\n",
    "\n",
    "fig_timeseries = px.line(\n",
    "    monthly_trends,\n",
    "    x=\"month\",\n",
    "    y=\"review_count\",\n",
    "    color=\"theme\",\n",
    "    title=\"<b>Evolution of User Complaints Over Time</b>\",\n",
    "    labels={\"month\": \"Month\", \"review_count\": \"Number of Negative Reviews\"},\n",
    "    template=\"plotly_white\",\n",
    ")\n",
    "\n",
    "# ** THE FINAL FIX IS HERE **\n",
    "# We will convert our event date into the same numerical format that Plotly uses internally for dates.\n",
    "# This is done by getting the timestamp value and converting it to milliseconds.\n",
    "event_timestamp = pd.to_datetime(\"2023-02-01\").timestamp() * 1000\n",
    "\n",
    "fig_timeseries.add_vline(\n",
    "    x=event_timestamp,  # Use the numerical timestamp\n",
    "    line_dash=\"dash\",\n",
    "    line_color=\"red\",\n",
    "    annotation_text=\"Replika ERP Update\",\n",
    "    annotation_position=\"top left\",\n",
    "    annotation_font=dict(color=\"red\"),\n",
    ")\n",
    "\n",
    "# Example for another annotation\n",
    "# wysa_update_timestamp = pd.to_datetime('2022-11-15').timestamp() * 1000\n",
    "# fig_timeseries.add_vline(x=wysa_update_timestamp, line_dash=\"dash\", line_color=\"blue\", annotation_text=\"Wysa v2.0 Launch\")\n",
    "\n",
    "fig_timeseries.update_layout(title_x=0.5, legend_title_text=\"Complaint Theme\")\n",
    "fig_timeseries.show()"
   ]
  },
  {
   "cell_type": "code",
   "execution_count": 39,
   "metadata": {
    "execution": {
     "iopub.execute_input": "2025-07-22T08:37:55.629827Z",
     "iopub.status.busy": "2025-07-22T08:37:55.629059Z",
     "iopub.status.idle": "2025-07-22T08:37:55.694628Z",
     "shell.execute_reply": "2025-07-22T08:37:55.694048Z",
     "shell.execute_reply.started": "2025-07-22T08:37:55.629801Z"
    },
    "trusted": true
   },
   "outputs": [
    {
     "data": {
      "text/html": "<html>\n<head><meta charset=\"utf-8\" /></head>\n<body>\n    <div>            <script src=\"https://cdnjs.cloudflare.com/ajax/libs/mathjax/2.7.5/MathJax.js?config=TeX-AMS-MML_SVG\"></script><script type=\"text/javascript\">if (window.MathJax && window.MathJax.Hub && window.MathJax.Hub.Config) {window.MathJax.Hub.Config({SVG: {font: \"STIX-Web\"}});}</script>                <script type=\"text/javascript\">window.PlotlyConfig = {MathJaxConfig: 'local'};</script>\n        <script charset=\"utf-8\" src=\"https://cdn.plot.ly/plotly-2.35.2.min.js\"></script>                <div id=\"8dc1b966-1644-487e-b877-b1967009f572\" class=\"plotly-graph-div\" style=\"height:525px; width:100%;\"></div>            <script type=\"text/javascript\">                                    window.PLOTLYENV=window.PLOTLYENV || {};                                    if (document.getElementById(\"8dc1b966-1644-487e-b877-b1967009f572\")) {                    Plotly.newPlot(                        \"8dc1b966-1644-487e-b877-b1967009f572\",                        [{\"hovertemplate\":\"\\u003cb\\u003e%{y}\\u003c\\u002fb\\u003e reviews for \\u003cb\\u003e%{fullData.name}\\u003c\\u002fb\\u003e in %{x|%B %Y}\",\"legendgroup\":\"AI Performance & Quality\",\"line\":{\"color\":\"#636efa\",\"dash\":\"solid\"},\"marker\":{\"symbol\":\"circle\"},\"mode\":\"lines+markers\",\"name\":\"AI Performance & Quality\",\"orientation\":\"v\",\"showlegend\":true,\"x\":[\"2022-01-01T00:00:00\",\"2022-02-01T00:00:00\",\"2022-03-01T00:00:00\",\"2022-04-01T00:00:00\",\"2022-05-01T00:00:00\",\"2022-06-01T00:00:00\",\"2022-07-01T00:00:00\",\"2022-08-01T00:00:00\",\"2022-09-01T00:00:00\",\"2022-10-01T00:00:00\",\"2022-11-01T00:00:00\",\"2022-12-01T00:00:00\",\"2023-01-01T00:00:00\",\"2023-02-01T00:00:00\",\"2023-03-01T00:00:00\",\"2023-04-01T00:00:00\",\"2023-05-01T00:00:00\",\"2023-06-01T00:00:00\",\"2023-07-01T00:00:00\",\"2023-08-01T00:00:00\",\"2023-09-01T00:00:00\",\"2023-10-01T00:00:00\",\"2023-11-01T00:00:00\",\"2023-12-01T00:00:00\",\"2024-01-01T00:00:00\",\"2024-02-01T00:00:00\",\"2024-03-01T00:00:00\",\"2024-04-01T00:00:00\",\"2024-05-01T00:00:00\",\"2024-06-01T00:00:00\",\"2024-07-01T00:00:00\",\"2024-08-01T00:00:00\",\"2024-09-01T00:00:00\",\"2024-10-01T00:00:00\",\"2024-11-01T00:00:00\",\"2024-12-01T00:00:00\",\"2025-01-01T00:00:00\",\"2025-02-01T00:00:00\",\"2025-03-01T00:00:00\",\"2025-04-01T00:00:00\",\"2025-05-01T00:00:00\",\"2025-06-01T00:00:00\"],\"xaxis\":\"x\",\"y\":[35,53,40,61,52,68,61,55,53,62,58,63,87,208,91,76,67,41,40,52,26,25,29,33,33,32,38,17,18,13,18,9,20,15,14,16,17,19,17,15,26,24],\"yaxis\":\"y\",\"type\":\"scatter\"},{\"hovertemplate\":\"\\u003cb\\u003e%{y}\\u003c\\u002fb\\u003e reviews for \\u003cb\\u003e%{fullData.name}\\u003c\\u002fb\\u003e in %{x|%B %Y}\",\"legendgroup\":\"Feature-Specific Issues\",\"line\":{\"color\":\"#EF553B\",\"dash\":\"solid\"},\"marker\":{\"symbol\":\"circle\"},\"mode\":\"lines+markers\",\"name\":\"Feature-Specific Issues\",\"orientation\":\"v\",\"showlegend\":true,\"x\":[\"2022-01-01T00:00:00\",\"2022-02-01T00:00:00\",\"2022-03-01T00:00:00\",\"2022-04-01T00:00:00\",\"2022-05-01T00:00:00\",\"2022-06-01T00:00:00\",\"2022-07-01T00:00:00\",\"2022-08-01T00:00:00\",\"2022-09-01T00:00:00\",\"2022-10-01T00:00:00\",\"2022-11-01T00:00:00\",\"2022-12-01T00:00:00\",\"2023-01-01T00:00:00\",\"2023-02-01T00:00:00\",\"2023-03-01T00:00:00\",\"2023-04-01T00:00:00\",\"2023-05-01T00:00:00\",\"2023-06-01T00:00:00\",\"2023-07-01T00:00:00\",\"2023-08-01T00:00:00\",\"2023-09-01T00:00:00\",\"2023-10-01T00:00:00\",\"2023-11-01T00:00:00\",\"2023-12-01T00:00:00\",\"2024-01-01T00:00:00\",\"2024-02-01T00:00:00\",\"2024-03-01T00:00:00\",\"2024-04-01T00:00:00\",\"2024-05-01T00:00:00\",\"2024-06-01T00:00:00\",\"2024-07-01T00:00:00\",\"2024-08-01T00:00:00\",\"2024-09-01T00:00:00\",\"2024-10-01T00:00:00\",\"2024-11-01T00:00:00\",\"2024-12-01T00:00:00\",\"2025-01-01T00:00:00\",\"2025-02-01T00:00:00\",\"2025-03-01T00:00:00\",\"2025-04-01T00:00:00\",\"2025-05-01T00:00:00\",\"2025-06-01T00:00:00\"],\"xaxis\":\"x\",\"y\":[60,65,54,52,57,63,65,58,50,48,49,91,76,157,57,61,42,43,29,43,28,32,24,35,36,29,25,22,18,12,8,21,19,14,25,13,22,27,23,22,46,44],\"yaxis\":\"y\",\"type\":\"scatter\"},{\"hovertemplate\":\"\\u003cb\\u003e%{y}\\u003c\\u002fb\\u003e reviews for \\u003cb\\u003e%{fullData.name}\\u003c\\u002fb\\u003e in %{x|%B %Y}\",\"legendgroup\":\"Monetization & Value\",\"line\":{\"color\":\"#00cc96\",\"dash\":\"solid\"},\"marker\":{\"symbol\":\"circle\"},\"mode\":\"lines+markers\",\"name\":\"Monetization & Value\",\"orientation\":\"v\",\"showlegend\":true,\"x\":[\"2022-01-01T00:00:00\",\"2022-02-01T00:00:00\",\"2022-03-01T00:00:00\",\"2022-04-01T00:00:00\",\"2022-05-01T00:00:00\",\"2022-06-01T00:00:00\",\"2022-07-01T00:00:00\",\"2022-08-01T00:00:00\",\"2022-09-01T00:00:00\",\"2022-10-01T00:00:00\",\"2022-11-01T00:00:00\",\"2022-12-01T00:00:00\",\"2023-01-01T00:00:00\",\"2023-02-01T00:00:00\",\"2023-03-01T00:00:00\",\"2023-04-01T00:00:00\",\"2023-05-01T00:00:00\",\"2023-06-01T00:00:00\",\"2023-07-01T00:00:00\",\"2023-08-01T00:00:00\",\"2023-09-01T00:00:00\",\"2023-10-01T00:00:00\",\"2023-11-01T00:00:00\",\"2023-12-01T00:00:00\",\"2024-01-01T00:00:00\",\"2024-02-01T00:00:00\",\"2024-03-01T00:00:00\",\"2024-04-01T00:00:00\",\"2024-05-01T00:00:00\",\"2024-06-01T00:00:00\",\"2024-07-01T00:00:00\",\"2024-08-01T00:00:00\",\"2024-09-01T00:00:00\",\"2024-10-01T00:00:00\",\"2024-11-01T00:00:00\",\"2024-12-01T00:00:00\",\"2025-01-01T00:00:00\",\"2025-02-01T00:00:00\",\"2025-03-01T00:00:00\",\"2025-04-01T00:00:00\",\"2025-05-01T00:00:00\",\"2025-06-01T00:00:00\"],\"xaxis\":\"x\",\"y\":[92,66,59,68,91,161,165,185,188,251,258,249,250,367,142,137,85,105,87,104,56,70,69,81,54,59,43,51,34,23,26,25,27,37,33,25,31,29,25,24,67,52],\"yaxis\":\"y\",\"type\":\"scatter\"},{\"hovertemplate\":\"\\u003cb\\u003e%{y}\\u003c\\u002fb\\u003e reviews for \\u003cb\\u003e%{fullData.name}\\u003c\\u002fb\\u003e in %{x|%B %Y}\",\"legendgroup\":\"Technical Performance\",\"line\":{\"color\":\"#ab63fa\",\"dash\":\"solid\"},\"marker\":{\"symbol\":\"circle\"},\"mode\":\"lines+markers\",\"name\":\"Technical Performance\",\"orientation\":\"v\",\"showlegend\":true,\"x\":[\"2022-01-01T00:00:00\",\"2022-02-01T00:00:00\",\"2022-03-01T00:00:00\",\"2022-04-01T00:00:00\",\"2022-05-01T00:00:00\",\"2022-06-01T00:00:00\",\"2022-07-01T00:00:00\",\"2022-08-01T00:00:00\",\"2022-09-01T00:00:00\",\"2022-10-01T00:00:00\",\"2022-11-01T00:00:00\",\"2022-12-01T00:00:00\",\"2023-01-01T00:00:00\",\"2023-02-01T00:00:00\",\"2023-03-01T00:00:00\",\"2023-04-01T00:00:00\",\"2023-05-01T00:00:00\",\"2023-06-01T00:00:00\",\"2023-07-01T00:00:00\",\"2023-08-01T00:00:00\",\"2023-09-01T00:00:00\",\"2023-10-01T00:00:00\",\"2023-11-01T00:00:00\",\"2023-12-01T00:00:00\",\"2024-01-01T00:00:00\",\"2024-02-01T00:00:00\",\"2024-03-01T00:00:00\",\"2024-04-01T00:00:00\",\"2024-05-01T00:00:00\",\"2024-06-01T00:00:00\",\"2024-07-01T00:00:00\",\"2024-08-01T00:00:00\",\"2024-09-01T00:00:00\",\"2024-10-01T00:00:00\",\"2024-11-01T00:00:00\",\"2024-12-01T00:00:00\",\"2025-01-01T00:00:00\",\"2025-02-01T00:00:00\",\"2025-03-01T00:00:00\",\"2025-04-01T00:00:00\",\"2025-05-01T00:00:00\",\"2025-06-01T00:00:00\"],\"xaxis\":\"x\",\"y\":[54,86,70,36,30,29,40,28,48,49,51,50,44,194,81,97,48,42,31,28,16,15,20,13,23,10,9,10,11,7,15,11,8,3,9,9,12,9,10,8,21,6],\"yaxis\":\"y\",\"type\":\"scatter\"}],                        {\"template\":{\"data\":{\"barpolar\":[{\"marker\":{\"line\":{\"color\":\"white\",\"width\":0.5},\"pattern\":{\"fillmode\":\"overlay\",\"size\":10,\"solidity\":0.2}},\"type\":\"barpolar\"}],\"bar\":[{\"error_x\":{\"color\":\"#2a3f5f\"},\"error_y\":{\"color\":\"#2a3f5f\"},\"marker\":{\"line\":{\"color\":\"white\",\"width\":0.5},\"pattern\":{\"fillmode\":\"overlay\",\"size\":10,\"solidity\":0.2}},\"type\":\"bar\"}],\"carpet\":[{\"aaxis\":{\"endlinecolor\":\"#2a3f5f\",\"gridcolor\":\"#C8D4E3\",\"linecolor\":\"#C8D4E3\",\"minorgridcolor\":\"#C8D4E3\",\"startlinecolor\":\"#2a3f5f\"},\"baxis\":{\"endlinecolor\":\"#2a3f5f\",\"gridcolor\":\"#C8D4E3\",\"linecolor\":\"#C8D4E3\",\"minorgridcolor\":\"#C8D4E3\",\"startlinecolor\":\"#2a3f5f\"},\"type\":\"carpet\"}],\"choropleth\":[{\"colorbar\":{\"outlinewidth\":0,\"ticks\":\"\"},\"type\":\"choropleth\"}],\"contourcarpet\":[{\"colorbar\":{\"outlinewidth\":0,\"ticks\":\"\"},\"type\":\"contourcarpet\"}],\"contour\":[{\"colorbar\":{\"outlinewidth\":0,\"ticks\":\"\"},\"colorscale\":[[0.0,\"#0d0887\"],[0.1111111111111111,\"#46039f\"],[0.2222222222222222,\"#7201a8\"],[0.3333333333333333,\"#9c179e\"],[0.4444444444444444,\"#bd3786\"],[0.5555555555555556,\"#d8576b\"],[0.6666666666666666,\"#ed7953\"],[0.7777777777777778,\"#fb9f3a\"],[0.8888888888888888,\"#fdca26\"],[1.0,\"#f0f921\"]],\"type\":\"contour\"}],\"heatmapgl\":[{\"colorbar\":{\"outlinewidth\":0,\"ticks\":\"\"},\"colorscale\":[[0.0,\"#0d0887\"],[0.1111111111111111,\"#46039f\"],[0.2222222222222222,\"#7201a8\"],[0.3333333333333333,\"#9c179e\"],[0.4444444444444444,\"#bd3786\"],[0.5555555555555556,\"#d8576b\"],[0.6666666666666666,\"#ed7953\"],[0.7777777777777778,\"#fb9f3a\"],[0.8888888888888888,\"#fdca26\"],[1.0,\"#f0f921\"]],\"type\":\"heatmapgl\"}],\"heatmap\":[{\"colorbar\":{\"outlinewidth\":0,\"ticks\":\"\"},\"colorscale\":[[0.0,\"#0d0887\"],[0.1111111111111111,\"#46039f\"],[0.2222222222222222,\"#7201a8\"],[0.3333333333333333,\"#9c179e\"],[0.4444444444444444,\"#bd3786\"],[0.5555555555555556,\"#d8576b\"],[0.6666666666666666,\"#ed7953\"],[0.7777777777777778,\"#fb9f3a\"],[0.8888888888888888,\"#fdca26\"],[1.0,\"#f0f921\"]],\"type\":\"heatmap\"}],\"histogram2dcontour\":[{\"colorbar\":{\"outlinewidth\":0,\"ticks\":\"\"},\"colorscale\":[[0.0,\"#0d0887\"],[0.1111111111111111,\"#46039f\"],[0.2222222222222222,\"#7201a8\"],[0.3333333333333333,\"#9c179e\"],[0.4444444444444444,\"#bd3786\"],[0.5555555555555556,\"#d8576b\"],[0.6666666666666666,\"#ed7953\"],[0.7777777777777778,\"#fb9f3a\"],[0.8888888888888888,\"#fdca26\"],[1.0,\"#f0f921\"]],\"type\":\"histogram2dcontour\"}],\"histogram2d\":[{\"colorbar\":{\"outlinewidth\":0,\"ticks\":\"\"},\"colorscale\":[[0.0,\"#0d0887\"],[0.1111111111111111,\"#46039f\"],[0.2222222222222222,\"#7201a8\"],[0.3333333333333333,\"#9c179e\"],[0.4444444444444444,\"#bd3786\"],[0.5555555555555556,\"#d8576b\"],[0.6666666666666666,\"#ed7953\"],[0.7777777777777778,\"#fb9f3a\"],[0.8888888888888888,\"#fdca26\"],[1.0,\"#f0f921\"]],\"type\":\"histogram2d\"}],\"histogram\":[{\"marker\":{\"pattern\":{\"fillmode\":\"overlay\",\"size\":10,\"solidity\":0.2}},\"type\":\"histogram\"}],\"mesh3d\":[{\"colorbar\":{\"outlinewidth\":0,\"ticks\":\"\"},\"type\":\"mesh3d\"}],\"parcoords\":[{\"line\":{\"colorbar\":{\"outlinewidth\":0,\"ticks\":\"\"}},\"type\":\"parcoords\"}],\"pie\":[{\"automargin\":true,\"type\":\"pie\"}],\"scatter3d\":[{\"line\":{\"colorbar\":{\"outlinewidth\":0,\"ticks\":\"\"}},\"marker\":{\"colorbar\":{\"outlinewidth\":0,\"ticks\":\"\"}},\"type\":\"scatter3d\"}],\"scattercarpet\":[{\"marker\":{\"colorbar\":{\"outlinewidth\":0,\"ticks\":\"\"}},\"type\":\"scattercarpet\"}],\"scattergeo\":[{\"marker\":{\"colorbar\":{\"outlinewidth\":0,\"ticks\":\"\"}},\"type\":\"scattergeo\"}],\"scattergl\":[{\"marker\":{\"colorbar\":{\"outlinewidth\":0,\"ticks\":\"\"}},\"type\":\"scattergl\"}],\"scattermapbox\":[{\"marker\":{\"colorbar\":{\"outlinewidth\":0,\"ticks\":\"\"}},\"type\":\"scattermapbox\"}],\"scatterpolargl\":[{\"marker\":{\"colorbar\":{\"outlinewidth\":0,\"ticks\":\"\"}},\"type\":\"scatterpolargl\"}],\"scatterpolar\":[{\"marker\":{\"colorbar\":{\"outlinewidth\":0,\"ticks\":\"\"}},\"type\":\"scatterpolar\"}],\"scatter\":[{\"fillpattern\":{\"fillmode\":\"overlay\",\"size\":10,\"solidity\":0.2},\"type\":\"scatter\"}],\"scatterternary\":[{\"marker\":{\"colorbar\":{\"outlinewidth\":0,\"ticks\":\"\"}},\"type\":\"scatterternary\"}],\"surface\":[{\"colorbar\":{\"outlinewidth\":0,\"ticks\":\"\"},\"colorscale\":[[0.0,\"#0d0887\"],[0.1111111111111111,\"#46039f\"],[0.2222222222222222,\"#7201a8\"],[0.3333333333333333,\"#9c179e\"],[0.4444444444444444,\"#bd3786\"],[0.5555555555555556,\"#d8576b\"],[0.6666666666666666,\"#ed7953\"],[0.7777777777777778,\"#fb9f3a\"],[0.8888888888888888,\"#fdca26\"],[1.0,\"#f0f921\"]],\"type\":\"surface\"}],\"table\":[{\"cells\":{\"fill\":{\"color\":\"#EBF0F8\"},\"line\":{\"color\":\"white\"}},\"header\":{\"fill\":{\"color\":\"#C8D4E3\"},\"line\":{\"color\":\"white\"}},\"type\":\"table\"}]},\"layout\":{\"annotationdefaults\":{\"arrowcolor\":\"#2a3f5f\",\"arrowhead\":0,\"arrowwidth\":1},\"autotypenumbers\":\"strict\",\"coloraxis\":{\"colorbar\":{\"outlinewidth\":0,\"ticks\":\"\"}},\"colorscale\":{\"diverging\":[[0,\"#8e0152\"],[0.1,\"#c51b7d\"],[0.2,\"#de77ae\"],[0.3,\"#f1b6da\"],[0.4,\"#fde0ef\"],[0.5,\"#f7f7f7\"],[0.6,\"#e6f5d0\"],[0.7,\"#b8e186\"],[0.8,\"#7fbc41\"],[0.9,\"#4d9221\"],[1,\"#276419\"]],\"sequential\":[[0.0,\"#0d0887\"],[0.1111111111111111,\"#46039f\"],[0.2222222222222222,\"#7201a8\"],[0.3333333333333333,\"#9c179e\"],[0.4444444444444444,\"#bd3786\"],[0.5555555555555556,\"#d8576b\"],[0.6666666666666666,\"#ed7953\"],[0.7777777777777778,\"#fb9f3a\"],[0.8888888888888888,\"#fdca26\"],[1.0,\"#f0f921\"]],\"sequentialminus\":[[0.0,\"#0d0887\"],[0.1111111111111111,\"#46039f\"],[0.2222222222222222,\"#7201a8\"],[0.3333333333333333,\"#9c179e\"],[0.4444444444444444,\"#bd3786\"],[0.5555555555555556,\"#d8576b\"],[0.6666666666666666,\"#ed7953\"],[0.7777777777777778,\"#fb9f3a\"],[0.8888888888888888,\"#fdca26\"],[1.0,\"#f0f921\"]]},\"colorway\":[\"#636efa\",\"#EF553B\",\"#00cc96\",\"#ab63fa\",\"#FFA15A\",\"#19d3f3\",\"#FF6692\",\"#B6E880\",\"#FF97FF\",\"#FECB52\"],\"font\":{\"color\":\"#2a3f5f\"},\"geo\":{\"bgcolor\":\"white\",\"lakecolor\":\"white\",\"landcolor\":\"white\",\"showlakes\":true,\"showland\":true,\"subunitcolor\":\"#C8D4E3\"},\"hoverlabel\":{\"align\":\"left\"},\"hovermode\":\"closest\",\"mapbox\":{\"style\":\"light\"},\"paper_bgcolor\":\"white\",\"plot_bgcolor\":\"white\",\"polar\":{\"angularaxis\":{\"gridcolor\":\"#EBF0F8\",\"linecolor\":\"#EBF0F8\",\"ticks\":\"\"},\"bgcolor\":\"white\",\"radialaxis\":{\"gridcolor\":\"#EBF0F8\",\"linecolor\":\"#EBF0F8\",\"ticks\":\"\"}},\"scene\":{\"xaxis\":{\"backgroundcolor\":\"white\",\"gridcolor\":\"#DFE8F3\",\"gridwidth\":2,\"linecolor\":\"#EBF0F8\",\"showbackground\":true,\"ticks\":\"\",\"zerolinecolor\":\"#EBF0F8\"},\"yaxis\":{\"backgroundcolor\":\"white\",\"gridcolor\":\"#DFE8F3\",\"gridwidth\":2,\"linecolor\":\"#EBF0F8\",\"showbackground\":true,\"ticks\":\"\",\"zerolinecolor\":\"#EBF0F8\"},\"zaxis\":{\"backgroundcolor\":\"white\",\"gridcolor\":\"#DFE8F3\",\"gridwidth\":2,\"linecolor\":\"#EBF0F8\",\"showbackground\":true,\"ticks\":\"\",\"zerolinecolor\":\"#EBF0F8\"}},\"shapedefaults\":{\"line\":{\"color\":\"#2a3f5f\"}},\"ternary\":{\"aaxis\":{\"gridcolor\":\"#DFE8F3\",\"linecolor\":\"#A2B1C6\",\"ticks\":\"\"},\"baxis\":{\"gridcolor\":\"#DFE8F3\",\"linecolor\":\"#A2B1C6\",\"ticks\":\"\"},\"bgcolor\":\"white\",\"caxis\":{\"gridcolor\":\"#DFE8F3\",\"linecolor\":\"#A2B1C6\",\"ticks\":\"\"}},\"title\":{\"x\":0.05},\"xaxis\":{\"automargin\":true,\"gridcolor\":\"#EBF0F8\",\"linecolor\":\"#EBF0F8\",\"ticks\":\"\",\"title\":{\"standoff\":15},\"zerolinecolor\":\"#EBF0F8\",\"zerolinewidth\":2},\"yaxis\":{\"automargin\":true,\"gridcolor\":\"#EBF0F8\",\"linecolor\":\"#EBF0F8\",\"ticks\":\"\",\"title\":{\"standoff\":15},\"zerolinecolor\":\"#EBF0F8\",\"zerolinewidth\":2}}},\"xaxis\":{\"anchor\":\"y\",\"domain\":[0.0,1.0],\"title\":{\"text\":\"Month\"}},\"yaxis\":{\"anchor\":\"x\",\"domain\":[0.0,1.0],\"title\":{\"text\":\"Number of Negative Reviews\"}},\"legend\":{\"title\":{\"text\":\"Complaint Theme\"},\"tracegroupgap\":0},\"title\":{\"text\":\"\\u003cb\\u003eEvolution of User Complaints Over Time\\u003c\\u002fb\\u003e\",\"x\":0.5},\"shapes\":[{\"line\":{\"color\":\"red\",\"dash\":\"dash\"},\"opacity\":0.8,\"type\":\"line\",\"x0\":1675209600000.0,\"x1\":1675209600000.0,\"xref\":\"x\",\"y0\":0,\"y1\":1,\"yref\":\"y domain\"}],\"annotations\":[{\"arrowhead\":1,\"bgcolor\":\"white\",\"bordercolor\":\"red\",\"borderwidth\":1,\"opacity\":0.8,\"showarrow\":true,\"text\":\"\\u003cb\\u003eReplika ERP Update\\u003c\\u002fb\\u003e\\u003cbr\\u003eFeb 2023\",\"x\":1675209600000.0,\"y\":330.3}],\"font\":{\"size\":12}},                        {\"responsive\": true}                    ).then(function(){\n                            \nvar gd = document.getElementById('8dc1b966-1644-487e-b877-b1967009f572');\nvar x = new MutationObserver(function (mutations, observer) {{\n        var display = window.getComputedStyle(gd).display;\n        if (!display || display === 'none') {{\n            console.log([gd, 'removed!']);\n            Plotly.purge(gd);\n            observer.disconnect();\n        }}\n}});\n\n// Listen for the removal of the full notebook cells\nvar notebookContainer = gd.closest('#notebook-container');\nif (notebookContainer) {{\n    x.observe(notebookContainer, {childList: true});\n}}\n\n// Listen for the clearing of the current output cell\nvar outputEl = gd.closest('.output');\nif (outputEl) {{\n    x.observe(outputEl, {childList: true});\n}}\n\n                        })                };                            </script>        </div>\n</body>\n</html>"
     },
     "metadata": {},
     "output_type": "display_data"
    }
   ],
   "source": [
    "# --- Visualization 1: ENHANCED Complaint Themes Over Time ---\n",
    "\n",
    "fig_timeseries = px.line(\n",
    "    monthly_trends,\n",
    "    x=\"month\",\n",
    "    y=\"review_count\",\n",
    "    color=\"theme\",\n",
    "    markers=True,  # Add markers to each data point for clarity\n",
    "    title=\"<b>Evolution of User Complaints Over Time</b>\",\n",
    "    labels={\"month\": \"Month\", \"review_count\": \"Number of Negative Reviews\"},\n",
    "    template=\"plotly_white\",\n",
    ")\n",
    "\n",
    "# --- Add Richer Annotations ---\n",
    "event_timestamp = pd.to_datetime(\"2023-02-01\").timestamp() * 1000\n",
    "\n",
    "fig_timeseries.add_vline(\n",
    "    x=event_timestamp, line_dash=\"dash\", line_color=\"red\", opacity=0.8\n",
    ")\n",
    "\n",
    "# Add a more descriptive annotation with a border and background\n",
    "fig_timeseries.add_annotation(\n",
    "    x=event_timestamp,\n",
    "    y=monthly_trends[\"review_count\"].max() * 0.9,  # Position annotation near the top\n",
    "    text=\"<b>Replika ERP Update</b><br>Feb 2023\",\n",
    "    showarrow=True,\n",
    "    arrowhead=1,\n",
    "    bordercolor=\"red\",\n",
    "    borderwidth=1,\n",
    "    bgcolor=\"white\",\n",
    "    opacity=0.8,\n",
    ")\n",
    "\n",
    "\n",
    "# --- Improve Layout and Hover Data ---\n",
    "fig_timeseries.update_traces(\n",
    "    hovertemplate=\"<b>%{y}</b> reviews for <b>%{fullData.name}</b> in %{x|%B %Y}\"\n",
    ")\n",
    "fig_timeseries.update_layout(\n",
    "    title_x=0.5, legend_title_text=\"Complaint Theme\", font=dict(size=12)\n",
    ")\n",
    "fig_timeseries.show()"
   ]
  },
  {
   "cell_type": "code",
   "execution_count": 40,
   "metadata": {
    "execution": {
     "iopub.execute_input": "2025-07-22T08:37:58.130919Z",
     "iopub.status.busy": "2025-07-22T08:37:58.130628Z",
     "iopub.status.idle": "2025-07-22T08:37:58.200296Z",
     "shell.execute_reply": "2025-07-22T08:37:58.199626Z",
     "shell.execute_reply.started": "2025-07-22T08:37:58.130900Z"
    },
    "trusted": true
   },
   "outputs": [
    {
     "data": {
      "text/html": "<html>\n<head><meta charset=\"utf-8\" /></head>\n<body>\n    <div>            <script src=\"https://cdnjs.cloudflare.com/ajax/libs/mathjax/2.7.5/MathJax.js?config=TeX-AMS-MML_SVG\"></script><script type=\"text/javascript\">if (window.MathJax && window.MathJax.Hub && window.MathJax.Hub.Config) {window.MathJax.Hub.Config({SVG: {font: \"STIX-Web\"}});}</script>                <script type=\"text/javascript\">window.PlotlyConfig = {MathJaxConfig: 'local'};</script>\n        <script charset=\"utf-8\" src=\"https://cdn.plot.ly/plotly-2.35.2.min.js\"></script>                <div id=\"a38b7645-3f4c-45e5-ae00-ea3204e9548d\" class=\"plotly-graph-div\" style=\"height:525px; width:100%;\"></div>            <script type=\"text/javascript\">                                    window.PLOTLYENV=window.PLOTLYENV || {};                                    if (document.getElementById(\"a38b7645-3f4c-45e5-ae00-ea3204e9548d\")) {                    Plotly.newPlot(                        \"a38b7645-3f4c-45e5-ae00-ea3204e9548d\",                        [{\"fillpattern\":{\"shape\":\"\"},\"groupnorm\":\"percent\",\"hovertemplate\":\"theme=AI Performance & Quality\\u003cbr\\u003eMonth=%{x}\\u003cbr\\u003ePercentage of Complaints=%{y}\\u003cextra\\u003e\\u003c\\u002fextra\\u003e\",\"legendgroup\":\"AI Performance & Quality\",\"line\":{\"color\":\"#636efa\"},\"marker\":{\"symbol\":\"circle\"},\"mode\":\"lines\",\"name\":\"AI Performance & Quality\",\"orientation\":\"v\",\"showlegend\":true,\"stackgroup\":\"1\",\"x\":[\"2022-01-01T00:00:00\",\"2022-02-01T00:00:00\",\"2022-03-01T00:00:00\",\"2022-04-01T00:00:00\",\"2022-05-01T00:00:00\",\"2022-06-01T00:00:00\",\"2022-07-01T00:00:00\",\"2022-08-01T00:00:00\",\"2022-09-01T00:00:00\",\"2022-10-01T00:00:00\",\"2022-11-01T00:00:00\",\"2022-12-01T00:00:00\",\"2023-01-01T00:00:00\",\"2023-02-01T00:00:00\",\"2023-03-01T00:00:00\",\"2023-04-01T00:00:00\",\"2023-05-01T00:00:00\",\"2023-06-01T00:00:00\",\"2023-07-01T00:00:00\",\"2023-08-01T00:00:00\",\"2023-09-01T00:00:00\",\"2023-10-01T00:00:00\",\"2023-11-01T00:00:00\",\"2023-12-01T00:00:00\",\"2024-01-01T00:00:00\",\"2024-02-01T00:00:00\",\"2024-03-01T00:00:00\",\"2024-04-01T00:00:00\",\"2024-05-01T00:00:00\",\"2024-06-01T00:00:00\",\"2024-07-01T00:00:00\",\"2024-08-01T00:00:00\",\"2024-09-01T00:00:00\",\"2024-10-01T00:00:00\",\"2024-11-01T00:00:00\",\"2024-12-01T00:00:00\",\"2025-01-01T00:00:00\",\"2025-02-01T00:00:00\",\"2025-03-01T00:00:00\",\"2025-04-01T00:00:00\",\"2025-05-01T00:00:00\",\"2025-06-01T00:00:00\"],\"xaxis\":\"x\",\"y\":[0.14522821576763487,0.1962962962962963,0.17937219730941703,0.28110599078341014,0.22608695652173913,0.2118380062305296,0.18429003021148035,0.1687116564417178,0.15634218289085547,0.15121951219512195,0.13942307692307693,0.1390728476821192,0.19037199124726478,0.22462203023758098,0.24528301886792453,0.20485175202156333,0.2768595041322314,0.1774891774891775,0.21390374331550802,0.2290748898678414,0.20634920634920634,0.176056338028169,0.20422535211267606,0.2037037037037037,0.22602739726027396,0.24615384615384617,0.33043478260869563,0.17,0.2222222222222222,0.23636363636363636,0.26865671641791045,0.13636363636363635,0.2702702702702703,0.21739130434782608,0.1728395061728395,0.25396825396825395,0.2073170731707317,0.2261904761904762,0.22666666666666666,0.21739130434782608,0.1625,0.19047619047619047],\"yaxis\":\"y\",\"type\":\"scatter\"},{\"fillpattern\":{\"shape\":\"\"},\"groupnorm\":\"percent\",\"hovertemplate\":\"theme=Feature-Specific Issues\\u003cbr\\u003eMonth=%{x}\\u003cbr\\u003ePercentage of Complaints=%{y}\\u003cextra\\u003e\\u003c\\u002fextra\\u003e\",\"legendgroup\":\"Feature-Specific Issues\",\"line\":{\"color\":\"#EF553B\"},\"marker\":{\"symbol\":\"circle\"},\"mode\":\"lines\",\"name\":\"Feature-Specific Issues\",\"orientation\":\"v\",\"showlegend\":true,\"stackgroup\":\"1\",\"x\":[\"2022-01-01T00:00:00\",\"2022-02-01T00:00:00\",\"2022-03-01T00:00:00\",\"2022-04-01T00:00:00\",\"2022-05-01T00:00:00\",\"2022-06-01T00:00:00\",\"2022-07-01T00:00:00\",\"2022-08-01T00:00:00\",\"2022-09-01T00:00:00\",\"2022-10-01T00:00:00\",\"2022-11-01T00:00:00\",\"2022-12-01T00:00:00\",\"2023-01-01T00:00:00\",\"2023-02-01T00:00:00\",\"2023-03-01T00:00:00\",\"2023-04-01T00:00:00\",\"2023-05-01T00:00:00\",\"2023-06-01T00:00:00\",\"2023-07-01T00:00:00\",\"2023-08-01T00:00:00\",\"2023-09-01T00:00:00\",\"2023-10-01T00:00:00\",\"2023-11-01T00:00:00\",\"2023-12-01T00:00:00\",\"2024-01-01T00:00:00\",\"2024-02-01T00:00:00\",\"2024-03-01T00:00:00\",\"2024-04-01T00:00:00\",\"2024-05-01T00:00:00\",\"2024-06-01T00:00:00\",\"2024-07-01T00:00:00\",\"2024-08-01T00:00:00\",\"2024-09-01T00:00:00\",\"2024-10-01T00:00:00\",\"2024-11-01T00:00:00\",\"2024-12-01T00:00:00\",\"2025-01-01T00:00:00\",\"2025-02-01T00:00:00\",\"2025-03-01T00:00:00\",\"2025-04-01T00:00:00\",\"2025-05-01T00:00:00\",\"2025-06-01T00:00:00\"],\"xaxis\":\"x\",\"y\":[0.24896265560165975,0.24074074074074073,0.242152466367713,0.23963133640552994,0.24782608695652175,0.19626168224299065,0.19637462235649547,0.17791411042944785,0.14749262536873156,0.11707317073170732,0.11778846153846154,0.20088300220750552,0.16630196936542668,0.1695464362850972,0.15363881401617252,0.16442048517520216,0.17355371900826447,0.18614718614718614,0.15508021390374332,0.1894273127753304,0.2222222222222222,0.22535211267605634,0.16901408450704225,0.21604938271604937,0.2465753424657534,0.2230769230769231,0.21739130434782608,0.22,0.2222222222222222,0.21818181818181817,0.11940298507462686,0.3181818181818182,0.25675675675675674,0.2028985507246377,0.30864197530864196,0.20634920634920634,0.2682926829268293,0.32142857142857145,0.30666666666666664,0.3188405797101449,0.2875,0.3492063492063492],\"yaxis\":\"y\",\"type\":\"scatter\"},{\"fillpattern\":{\"shape\":\"\"},\"groupnorm\":\"percent\",\"hovertemplate\":\"theme=Monetization & Value\\u003cbr\\u003eMonth=%{x}\\u003cbr\\u003ePercentage of Complaints=%{y}\\u003cextra\\u003e\\u003c\\u002fextra\\u003e\",\"legendgroup\":\"Monetization & Value\",\"line\":{\"color\":\"#00cc96\"},\"marker\":{\"symbol\":\"circle\"},\"mode\":\"lines\",\"name\":\"Monetization & Value\",\"orientation\":\"v\",\"showlegend\":true,\"stackgroup\":\"1\",\"x\":[\"2022-01-01T00:00:00\",\"2022-02-01T00:00:00\",\"2022-03-01T00:00:00\",\"2022-04-01T00:00:00\",\"2022-05-01T00:00:00\",\"2022-06-01T00:00:00\",\"2022-07-01T00:00:00\",\"2022-08-01T00:00:00\",\"2022-09-01T00:00:00\",\"2022-10-01T00:00:00\",\"2022-11-01T00:00:00\",\"2022-12-01T00:00:00\",\"2023-01-01T00:00:00\",\"2023-02-01T00:00:00\",\"2023-03-01T00:00:00\",\"2023-04-01T00:00:00\",\"2023-05-01T00:00:00\",\"2023-06-01T00:00:00\",\"2023-07-01T00:00:00\",\"2023-08-01T00:00:00\",\"2023-09-01T00:00:00\",\"2023-10-01T00:00:00\",\"2023-11-01T00:00:00\",\"2023-12-01T00:00:00\",\"2024-01-01T00:00:00\",\"2024-02-01T00:00:00\",\"2024-03-01T00:00:00\",\"2024-04-01T00:00:00\",\"2024-05-01T00:00:00\",\"2024-06-01T00:00:00\",\"2024-07-01T00:00:00\",\"2024-08-01T00:00:00\",\"2024-09-01T00:00:00\",\"2024-10-01T00:00:00\",\"2024-11-01T00:00:00\",\"2024-12-01T00:00:00\",\"2025-01-01T00:00:00\",\"2025-02-01T00:00:00\",\"2025-03-01T00:00:00\",\"2025-04-01T00:00:00\",\"2025-05-01T00:00:00\",\"2025-06-01T00:00:00\"],\"xaxis\":\"x\",\"y\":[0.3817427385892116,0.24444444444444444,0.2645739910313901,0.31336405529953915,0.39565217391304347,0.5015576323987538,0.4984894259818731,0.5674846625766872,0.5545722713864307,0.6121951219512195,0.6201923076923077,0.5496688741721855,0.5470459518599562,0.3963282937365011,0.38274932614555257,0.3692722371967655,0.3512396694214876,0.45454545454545453,0.46524064171123,0.4581497797356828,0.4444444444444444,0.49295774647887325,0.4859154929577465,0.5,0.3698630136986301,0.45384615384615384,0.3739130434782609,0.51,0.41975308641975306,0.41818181818181815,0.3880597014925373,0.3787878787878788,0.36486486486486486,0.5362318840579711,0.4074074074074074,0.3968253968253968,0.3780487804878049,0.34523809523809523,0.3333333333333333,0.34782608695652173,0.41875,0.4126984126984127],\"yaxis\":\"y\",\"type\":\"scatter\"},{\"fillpattern\":{\"shape\":\"\"},\"groupnorm\":\"percent\",\"hovertemplate\":\"theme=Technical Performance\\u003cbr\\u003eMonth=%{x}\\u003cbr\\u003ePercentage of Complaints=%{y}\\u003cextra\\u003e\\u003c\\u002fextra\\u003e\",\"legendgroup\":\"Technical Performance\",\"line\":{\"color\":\"#ab63fa\"},\"marker\":{\"symbol\":\"circle\"},\"mode\":\"lines\",\"name\":\"Technical Performance\",\"orientation\":\"v\",\"showlegend\":true,\"stackgroup\":\"1\",\"x\":[\"2022-01-01T00:00:00\",\"2022-02-01T00:00:00\",\"2022-03-01T00:00:00\",\"2022-04-01T00:00:00\",\"2022-05-01T00:00:00\",\"2022-06-01T00:00:00\",\"2022-07-01T00:00:00\",\"2022-08-01T00:00:00\",\"2022-09-01T00:00:00\",\"2022-10-01T00:00:00\",\"2022-11-01T00:00:00\",\"2022-12-01T00:00:00\",\"2023-01-01T00:00:00\",\"2023-02-01T00:00:00\",\"2023-03-01T00:00:00\",\"2023-04-01T00:00:00\",\"2023-05-01T00:00:00\",\"2023-06-01T00:00:00\",\"2023-07-01T00:00:00\",\"2023-08-01T00:00:00\",\"2023-09-01T00:00:00\",\"2023-10-01T00:00:00\",\"2023-11-01T00:00:00\",\"2023-12-01T00:00:00\",\"2024-01-01T00:00:00\",\"2024-02-01T00:00:00\",\"2024-03-01T00:00:00\",\"2024-04-01T00:00:00\",\"2024-05-01T00:00:00\",\"2024-06-01T00:00:00\",\"2024-07-01T00:00:00\",\"2024-08-01T00:00:00\",\"2024-09-01T00:00:00\",\"2024-10-01T00:00:00\",\"2024-11-01T00:00:00\",\"2024-12-01T00:00:00\",\"2025-01-01T00:00:00\",\"2025-02-01T00:00:00\",\"2025-03-01T00:00:00\",\"2025-04-01T00:00:00\",\"2025-05-01T00:00:00\",\"2025-06-01T00:00:00\"],\"xaxis\":\"x\",\"y\":[0.22406639004149378,0.31851851851851853,0.31390134529147984,0.16589861751152074,0.13043478260869565,0.09034267912772585,0.12084592145015106,0.08588957055214724,0.1415929203539823,0.11951219512195121,0.12259615384615384,0.11037527593818984,0.0962800875273523,0.20950323974082075,0.2183288409703504,0.261455525606469,0.19834710743801653,0.18181818181818182,0.1657754010695187,0.12334801762114538,0.12698412698412698,0.1056338028169014,0.14084507042253522,0.08024691358024691,0.15753424657534246,0.07692307692307693,0.0782608695652174,0.1,0.13580246913580246,0.12727272727272726,0.22388059701492538,0.16666666666666666,0.10810810810810811,0.043478260869565216,0.1111111111111111,0.14285714285714285,0.14634146341463414,0.10714285714285714,0.13333333333333333,0.11594202898550725,0.13125,0.047619047619047616],\"yaxis\":\"y\",\"type\":\"scatter\"}],                        {\"template\":{\"data\":{\"barpolar\":[{\"marker\":{\"line\":{\"color\":\"white\",\"width\":0.5},\"pattern\":{\"fillmode\":\"overlay\",\"size\":10,\"solidity\":0.2}},\"type\":\"barpolar\"}],\"bar\":[{\"error_x\":{\"color\":\"#2a3f5f\"},\"error_y\":{\"color\":\"#2a3f5f\"},\"marker\":{\"line\":{\"color\":\"white\",\"width\":0.5},\"pattern\":{\"fillmode\":\"overlay\",\"size\":10,\"solidity\":0.2}},\"type\":\"bar\"}],\"carpet\":[{\"aaxis\":{\"endlinecolor\":\"#2a3f5f\",\"gridcolor\":\"#C8D4E3\",\"linecolor\":\"#C8D4E3\",\"minorgridcolor\":\"#C8D4E3\",\"startlinecolor\":\"#2a3f5f\"},\"baxis\":{\"endlinecolor\":\"#2a3f5f\",\"gridcolor\":\"#C8D4E3\",\"linecolor\":\"#C8D4E3\",\"minorgridcolor\":\"#C8D4E3\",\"startlinecolor\":\"#2a3f5f\"},\"type\":\"carpet\"}],\"choropleth\":[{\"colorbar\":{\"outlinewidth\":0,\"ticks\":\"\"},\"type\":\"choropleth\"}],\"contourcarpet\":[{\"colorbar\":{\"outlinewidth\":0,\"ticks\":\"\"},\"type\":\"contourcarpet\"}],\"contour\":[{\"colorbar\":{\"outlinewidth\":0,\"ticks\":\"\"},\"colorscale\":[[0.0,\"#0d0887\"],[0.1111111111111111,\"#46039f\"],[0.2222222222222222,\"#7201a8\"],[0.3333333333333333,\"#9c179e\"],[0.4444444444444444,\"#bd3786\"],[0.5555555555555556,\"#d8576b\"],[0.6666666666666666,\"#ed7953\"],[0.7777777777777778,\"#fb9f3a\"],[0.8888888888888888,\"#fdca26\"],[1.0,\"#f0f921\"]],\"type\":\"contour\"}],\"heatmapgl\":[{\"colorbar\":{\"outlinewidth\":0,\"ticks\":\"\"},\"colorscale\":[[0.0,\"#0d0887\"],[0.1111111111111111,\"#46039f\"],[0.2222222222222222,\"#7201a8\"],[0.3333333333333333,\"#9c179e\"],[0.4444444444444444,\"#bd3786\"],[0.5555555555555556,\"#d8576b\"],[0.6666666666666666,\"#ed7953\"],[0.7777777777777778,\"#fb9f3a\"],[0.8888888888888888,\"#fdca26\"],[1.0,\"#f0f921\"]],\"type\":\"heatmapgl\"}],\"heatmap\":[{\"colorbar\":{\"outlinewidth\":0,\"ticks\":\"\"},\"colorscale\":[[0.0,\"#0d0887\"],[0.1111111111111111,\"#46039f\"],[0.2222222222222222,\"#7201a8\"],[0.3333333333333333,\"#9c179e\"],[0.4444444444444444,\"#bd3786\"],[0.5555555555555556,\"#d8576b\"],[0.6666666666666666,\"#ed7953\"],[0.7777777777777778,\"#fb9f3a\"],[0.8888888888888888,\"#fdca26\"],[1.0,\"#f0f921\"]],\"type\":\"heatmap\"}],\"histogram2dcontour\":[{\"colorbar\":{\"outlinewidth\":0,\"ticks\":\"\"},\"colorscale\":[[0.0,\"#0d0887\"],[0.1111111111111111,\"#46039f\"],[0.2222222222222222,\"#7201a8\"],[0.3333333333333333,\"#9c179e\"],[0.4444444444444444,\"#bd3786\"],[0.5555555555555556,\"#d8576b\"],[0.6666666666666666,\"#ed7953\"],[0.7777777777777778,\"#fb9f3a\"],[0.8888888888888888,\"#fdca26\"],[1.0,\"#f0f921\"]],\"type\":\"histogram2dcontour\"}],\"histogram2d\":[{\"colorbar\":{\"outlinewidth\":0,\"ticks\":\"\"},\"colorscale\":[[0.0,\"#0d0887\"],[0.1111111111111111,\"#46039f\"],[0.2222222222222222,\"#7201a8\"],[0.3333333333333333,\"#9c179e\"],[0.4444444444444444,\"#bd3786\"],[0.5555555555555556,\"#d8576b\"],[0.6666666666666666,\"#ed7953\"],[0.7777777777777778,\"#fb9f3a\"],[0.8888888888888888,\"#fdca26\"],[1.0,\"#f0f921\"]],\"type\":\"histogram2d\"}],\"histogram\":[{\"marker\":{\"pattern\":{\"fillmode\":\"overlay\",\"size\":10,\"solidity\":0.2}},\"type\":\"histogram\"}],\"mesh3d\":[{\"colorbar\":{\"outlinewidth\":0,\"ticks\":\"\"},\"type\":\"mesh3d\"}],\"parcoords\":[{\"line\":{\"colorbar\":{\"outlinewidth\":0,\"ticks\":\"\"}},\"type\":\"parcoords\"}],\"pie\":[{\"automargin\":true,\"type\":\"pie\"}],\"scatter3d\":[{\"line\":{\"colorbar\":{\"outlinewidth\":0,\"ticks\":\"\"}},\"marker\":{\"colorbar\":{\"outlinewidth\":0,\"ticks\":\"\"}},\"type\":\"scatter3d\"}],\"scattercarpet\":[{\"marker\":{\"colorbar\":{\"outlinewidth\":0,\"ticks\":\"\"}},\"type\":\"scattercarpet\"}],\"scattergeo\":[{\"marker\":{\"colorbar\":{\"outlinewidth\":0,\"ticks\":\"\"}},\"type\":\"scattergeo\"}],\"scattergl\":[{\"marker\":{\"colorbar\":{\"outlinewidth\":0,\"ticks\":\"\"}},\"type\":\"scattergl\"}],\"scattermapbox\":[{\"marker\":{\"colorbar\":{\"outlinewidth\":0,\"ticks\":\"\"}},\"type\":\"scattermapbox\"}],\"scatterpolargl\":[{\"marker\":{\"colorbar\":{\"outlinewidth\":0,\"ticks\":\"\"}},\"type\":\"scatterpolargl\"}],\"scatterpolar\":[{\"marker\":{\"colorbar\":{\"outlinewidth\":0,\"ticks\":\"\"}},\"type\":\"scatterpolar\"}],\"scatter\":[{\"fillpattern\":{\"fillmode\":\"overlay\",\"size\":10,\"solidity\":0.2},\"type\":\"scatter\"}],\"scatterternary\":[{\"marker\":{\"colorbar\":{\"outlinewidth\":0,\"ticks\":\"\"}},\"type\":\"scatterternary\"}],\"surface\":[{\"colorbar\":{\"outlinewidth\":0,\"ticks\":\"\"},\"colorscale\":[[0.0,\"#0d0887\"],[0.1111111111111111,\"#46039f\"],[0.2222222222222222,\"#7201a8\"],[0.3333333333333333,\"#9c179e\"],[0.4444444444444444,\"#bd3786\"],[0.5555555555555556,\"#d8576b\"],[0.6666666666666666,\"#ed7953\"],[0.7777777777777778,\"#fb9f3a\"],[0.8888888888888888,\"#fdca26\"],[1.0,\"#f0f921\"]],\"type\":\"surface\"}],\"table\":[{\"cells\":{\"fill\":{\"color\":\"#EBF0F8\"},\"line\":{\"color\":\"white\"}},\"header\":{\"fill\":{\"color\":\"#C8D4E3\"},\"line\":{\"color\":\"white\"}},\"type\":\"table\"}]},\"layout\":{\"annotationdefaults\":{\"arrowcolor\":\"#2a3f5f\",\"arrowhead\":0,\"arrowwidth\":1},\"autotypenumbers\":\"strict\",\"coloraxis\":{\"colorbar\":{\"outlinewidth\":0,\"ticks\":\"\"}},\"colorscale\":{\"diverging\":[[0,\"#8e0152\"],[0.1,\"#c51b7d\"],[0.2,\"#de77ae\"],[0.3,\"#f1b6da\"],[0.4,\"#fde0ef\"],[0.5,\"#f7f7f7\"],[0.6,\"#e6f5d0\"],[0.7,\"#b8e186\"],[0.8,\"#7fbc41\"],[0.9,\"#4d9221\"],[1,\"#276419\"]],\"sequential\":[[0.0,\"#0d0887\"],[0.1111111111111111,\"#46039f\"],[0.2222222222222222,\"#7201a8\"],[0.3333333333333333,\"#9c179e\"],[0.4444444444444444,\"#bd3786\"],[0.5555555555555556,\"#d8576b\"],[0.6666666666666666,\"#ed7953\"],[0.7777777777777778,\"#fb9f3a\"],[0.8888888888888888,\"#fdca26\"],[1.0,\"#f0f921\"]],\"sequentialminus\":[[0.0,\"#0d0887\"],[0.1111111111111111,\"#46039f\"],[0.2222222222222222,\"#7201a8\"],[0.3333333333333333,\"#9c179e\"],[0.4444444444444444,\"#bd3786\"],[0.5555555555555556,\"#d8576b\"],[0.6666666666666666,\"#ed7953\"],[0.7777777777777778,\"#fb9f3a\"],[0.8888888888888888,\"#fdca26\"],[1.0,\"#f0f921\"]]},\"colorway\":[\"#636efa\",\"#EF553B\",\"#00cc96\",\"#ab63fa\",\"#FFA15A\",\"#19d3f3\",\"#FF6692\",\"#B6E880\",\"#FF97FF\",\"#FECB52\"],\"font\":{\"color\":\"#2a3f5f\"},\"geo\":{\"bgcolor\":\"white\",\"lakecolor\":\"white\",\"landcolor\":\"white\",\"showlakes\":true,\"showland\":true,\"subunitcolor\":\"#C8D4E3\"},\"hoverlabel\":{\"align\":\"left\"},\"hovermode\":\"closest\",\"mapbox\":{\"style\":\"light\"},\"paper_bgcolor\":\"white\",\"plot_bgcolor\":\"white\",\"polar\":{\"angularaxis\":{\"gridcolor\":\"#EBF0F8\",\"linecolor\":\"#EBF0F8\",\"ticks\":\"\"},\"bgcolor\":\"white\",\"radialaxis\":{\"gridcolor\":\"#EBF0F8\",\"linecolor\":\"#EBF0F8\",\"ticks\":\"\"}},\"scene\":{\"xaxis\":{\"backgroundcolor\":\"white\",\"gridcolor\":\"#DFE8F3\",\"gridwidth\":2,\"linecolor\":\"#EBF0F8\",\"showbackground\":true,\"ticks\":\"\",\"zerolinecolor\":\"#EBF0F8\"},\"yaxis\":{\"backgroundcolor\":\"white\",\"gridcolor\":\"#DFE8F3\",\"gridwidth\":2,\"linecolor\":\"#EBF0F8\",\"showbackground\":true,\"ticks\":\"\",\"zerolinecolor\":\"#EBF0F8\"},\"zaxis\":{\"backgroundcolor\":\"white\",\"gridcolor\":\"#DFE8F3\",\"gridwidth\":2,\"linecolor\":\"#EBF0F8\",\"showbackground\":true,\"ticks\":\"\",\"zerolinecolor\":\"#EBF0F8\"}},\"shapedefaults\":{\"line\":{\"color\":\"#2a3f5f\"}},\"ternary\":{\"aaxis\":{\"gridcolor\":\"#DFE8F3\",\"linecolor\":\"#A2B1C6\",\"ticks\":\"\"},\"baxis\":{\"gridcolor\":\"#DFE8F3\",\"linecolor\":\"#A2B1C6\",\"ticks\":\"\"},\"bgcolor\":\"white\",\"caxis\":{\"gridcolor\":\"#DFE8F3\",\"linecolor\":\"#A2B1C6\",\"ticks\":\"\"}},\"title\":{\"x\":0.05},\"xaxis\":{\"automargin\":true,\"gridcolor\":\"#EBF0F8\",\"linecolor\":\"#EBF0F8\",\"ticks\":\"\",\"title\":{\"standoff\":15},\"zerolinecolor\":\"#EBF0F8\",\"zerolinewidth\":2},\"yaxis\":{\"automargin\":true,\"gridcolor\":\"#EBF0F8\",\"linecolor\":\"#EBF0F8\",\"ticks\":\"\",\"title\":{\"standoff\":15},\"zerolinecolor\":\"#EBF0F8\",\"zerolinewidth\":2}}},\"xaxis\":{\"anchor\":\"y\",\"domain\":[0.0,1.0],\"title\":{\"text\":\"Month\"}},\"yaxis\":{\"anchor\":\"x\",\"domain\":[0.0,1.0],\"title\":{\"text\":\"Percentage of Complaints\"},\"tickformat\":\".0%\"},\"legend\":{\"title\":{\"text\":\"Complaint Theme\"},\"tracegroupgap\":0},\"title\":{\"text\":\"\\u003cb\\u003eThe Shifting Landscape of User Frustration: Thematic Dominance Over Time\\u003c\\u002fb\\u003e\",\"x\":0.5},\"shapes\":[{\"line\":{\"color\":\"black\",\"dash\":\"dash\",\"width\":2},\"opacity\":1,\"type\":\"line\",\"x0\":1675209600000.0,\"x1\":1675209600000.0,\"xref\":\"x\",\"y0\":0,\"y1\":1,\"yref\":\"y domain\"}],\"annotations\":[{\"arrowhead\":1,\"ax\":0,\"ay\":-40,\"bgcolor\":\"white\",\"bordercolor\":\"black\",\"borderwidth\":1,\"opacity\":0.8,\"showarrow\":true,\"text\":\"\\u003cb\\u003eReplika ERP\\u003cbr\\u003eUpdate\\u003c\\u002fb\\u003e\",\"x\":1675209600000.0,\"y\":90}]},                        {\"responsive\": true}                    ).then(function(){\n                            \nvar gd = document.getElementById('a38b7645-3f4c-45e5-ae00-ea3204e9548d');\nvar x = new MutationObserver(function (mutations, observer) {{\n        var display = window.getComputedStyle(gd).display;\n        if (!display || display === 'none') {{\n            console.log([gd, 'removed!']);\n            Plotly.purge(gd);\n            observer.disconnect();\n        }}\n}});\n\n// Listen for the removal of the full notebook cells\nvar notebookContainer = gd.closest('#notebook-container');\nif (notebookContainer) {{\n    x.observe(notebookContainer, {childList: true});\n}}\n\n// Listen for the clearing of the current output cell\nvar outputEl = gd.closest('.output');\nif (outputEl) {{\n    x.observe(outputEl, {childList: true});\n}}\n\n                        })                };                            </script>        </div>\n</body>\n</html>"
     },
     "metadata": {},
     "output_type": "display_data"
    }
   ],
   "source": [
    "# --- Visualization 2: Thematic Dominance Over Time (Stacked Area Chart) ---\n",
    "\n",
    "# 1. Calculate the total number of reviews for each month\n",
    "monthly_totals = monthly_trends.groupby(\"month\")[\"review_count\"].sum().reset_index()\n",
    "monthly_totals.rename(columns={\"review_count\": \"total_monthly_reviews\"}, inplace=True)\n",
    "\n",
    "# 2. Merge the totals back into our main trends data\n",
    "trends_with_totals = pd.merge(monthly_trends, monthly_totals, on=\"month\")\n",
    "\n",
    "# 3. Calculate the percentage share for each theme in each month\n",
    "trends_with_totals[\"percentage_share\"] = (\n",
    "    trends_with_totals[\"review_count\"] / trends_with_totals[\"total_monthly_reviews\"]\n",
    ")\n",
    "\n",
    "# 4. Create the 100% Stacked Area Chart\n",
    "fig_area = px.area(\n",
    "    trends_with_totals,\n",
    "    x=\"month\",\n",
    "    y=\"percentage_share\",\n",
    "    color=\"theme\",\n",
    "    groupnorm=\"percent\",  # This is the magic that makes it a 100% stacked chart\n",
    "    title=\"<b>The Shifting Landscape of User Frustration: Thematic Dominance Over Time</b>\",\n",
    "    labels={\"month\": \"Month\", \"percentage_share\": \"Percentage of Complaints\"},\n",
    "    template=\"plotly_white\",\n",
    ")\n",
    "\n",
    "# --- Add the Same Rich Annotation ---\n",
    "fig_area.add_vline(\n",
    "    x=pd.to_datetime(\"2023-02-01\").timestamp() * 1000,\n",
    "    line_dash=\"dash\",\n",
    "    line_color=\"black\",  # Black stands out better on area charts\n",
    "    opacity=1,\n",
    "    line_width=2,\n",
    ")\n",
    "fig_area.add_annotation(\n",
    "    x=pd.to_datetime(\"2023-02-01\").timestamp() * 1000,\n",
    "    y=90,  # Position at 90% height\n",
    "    text=\"<b>Replika ERP<br>Update</b>\",\n",
    "    showarrow=True,\n",
    "    arrowhead=1,\n",
    "    ax=0,\n",
    "    ay=-40,  # Adjust arrow\n",
    "    bordercolor=\"black\",\n",
    "    borderwidth=1,\n",
    "    bgcolor=\"white\",\n",
    "    opacity=0.8,\n",
    ")\n",
    "\n",
    "fig_area.update_layout(\n",
    "    title_x=0.5,\n",
    "    legend_title_text=\"Complaint Theme\",\n",
    "    yaxis_tickformat=\".0%\",  # Format y-axis as percentage\n",
    ")\n",
    "fig_area.show()"
   ]
  },
  {
   "cell_type": "markdown",
   "metadata": {},
   "source": "## Conclusion\n\nOur analysis reveals a complex landscape of user dissatisfaction, driven by a triad of issues: **Monetization, Technical Performance, and AI Conversational Quality**. The time series analysis provides strong evidence that product decisions, such as the February 2023 Replika update, can cause immediate, massive, and multi-faceted backlash from the user base, fundamentally shifting the nature of their complaints."
  },
  {
   "cell_type": "code",
   "execution_count": null,
   "metadata": {
    "trusted": true
   },
   "outputs": [],
   "source": [
    "# In the Conversational Apps notebook\n",
    "\n",
    "# --- Final Step: Save the Enriched DataFrame ---\n",
    "\n",
    "# Define the output filename\n",
    "output_filename = \"conversational_apps_themed_and_scored.csv\"\n",
    "\n",
    "# Save the DataFrame to a new CSV file in the Kaggle output directory\n",
    "# This directory (/kaggle/working/) is where your new files are saved.\n",
    "df.to_csv(output_filename, index=False)\n",
    "\n",
    "print(f\"Successfully saved the final, enriched dataset to: {output_filename}\")\n",
    "print(\"You can now find this file in the 'Output' section of this notebook on Kaggle.\")"
   ]
  }
 ],
 "metadata": {
  "kaggle": {
   "accelerator": "nvidiaTeslaT4",
   "dataSources": [
    {
     "datasetId": 7768066,
     "sourceId": 12323677,
     "sourceType": "datasetVersion"
    },
    {
     "datasetId": 7827934,
     "sourceId": 12412084,
     "sourceType": "datasetVersion"
    }
   ],
   "dockerImageVersionId": 31089,
   "isGpuEnabled": true,
   "isInternetEnabled": true,
   "language": "python",
   "sourceType": "notebook"
  },
  "kernelspec": {
   "display_name": "Python 3",
   "language": "python",
   "name": "python3"
  },
  "language_info": {
   "codemirror_mode": {
    "name": "ipython",
    "version": 3
   },
   "file_extension": ".py",
   "mimetype": "text/x-python",
   "name": "python",
   "nbconvert_exporter": "python",
   "pygments_lexer": "ipython3",
   "version": "3.11.13"
  }
 },
 "nbformat": 4,
 "nbformat_minor": 4
}